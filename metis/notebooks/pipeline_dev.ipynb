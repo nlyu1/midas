{
 "cells": [
  {
   "cell_type": "code",
   "execution_count": 1,
   "id": "f6d49120",
   "metadata": {},
   "outputs": [],
   "source": [
    "import numpy as np \n",
    "import sklearn \n",
    "import xgboost as xgb \n",
    "import mnemosyne as ms\n",
    "from datetime import datetime as Datetime, date as Date\n",
    "from mnemosyne.engines import ReturnsEngine\n",
    "import polars as pl"
   ]
  },
  {
   "cell_type": "code",
   "execution_count": 2,
   "id": "bb1dc193",
   "metadata": {},
   "outputs": [
    {
     "data": {
      "text/html": [
       "<div><style>\n",
       ".dataframe > thead > tr,\n",
       ".dataframe > tbody > tr {\n",
       "  text-align: right;\n",
       "  white-space: pre-wrap;\n",
       "}\n",
       "</style>\n",
       "<small>shape: (72_880_784, 17)</small><table border=\"1\" class=\"dataframe\"><thead><tr><th>symbol</th><th>date</th><th>time</th><th>peg_symbol</th><th>open</th><th>high</th><th>low</th><th>close</th><th>volume_base</th><th>volume_quote</th><th>trade_count</th><th>last_trade_time</th><th>taker_buy_volume_quote</th><th>taker_sell_volume_quote</th><th>vwap_taker_buy</th><th>vwap_taker_sell</th><th>vwap_total_by_base</th></tr><tr><td>enum</td><td>date</td><td>datetime[μs]</td><td>str</td><td>f64</td><td>f64</td><td>f64</td><td>f64</td><td>f64</td><td>f64</td><td>u32</td><td>datetime[μs]</td><td>f64</td><td>f64</td><td>f64</td><td>f64</td><td>f64</td></tr></thead><tbody><tr><td>&quot;XLM&quot;</td><td>2022-01-01</td><td>2022-01-01 00:00:00</td><td>&quot;USDT&quot;</td><td>0.2665</td><td>0.2686</td><td>0.266</td><td>0.2669</td><td>1.682608e6</td><td>449595.1697</td><td>1007</td><td>2022-01-01 00:09:56.967</td><td>195359.3536</td><td>254235.8161</td><td>0.267193</td><td>0.26721</td><td>0.267201</td></tr><tr><td>&quot;PERP&quot;</td><td>2022-01-01</td><td>2022-01-01 00:00:00</td><td>&quot;USDT&quot;</td><td>8.77</td><td>8.9</td><td>8.74</td><td>8.83</td><td>10498.0</td><td>92496.9352</td><td>392</td><td>2022-01-01 00:09:26.638</td><td>70731.0138</td><td>21765.9214</td><td>8.811472</td><td>8.809651</td><td>8.81091</td></tr><tr><td>&quot;AION&quot;</td><td>2022-01-01</td><td>2022-01-01 00:00:00</td><td>&quot;USDT&quot;</td><td>0.1391</td><td>0.1402</td><td>0.1391</td><td>0.1398</td><td>36875.0</td><td>5154.0818</td><td>79</td><td>2022-01-01 00:09:55.096</td><td>3155.8063</td><td>1998.2755</td><td>0.139787</td><td>0.13975</td><td>0.139772</td></tr><tr><td>&quot;ADX&quot;</td><td>2022-01-01</td><td>2022-01-01 00:00:00</td><td>&quot;USDT&quot;</td><td>0.5547</td><td>0.5578</td><td>0.5547</td><td>0.5568</td><td>112469.0</td><td>62606.9016</td><td>65</td><td>2022-01-01 00:08:48.913</td><td>31870.6309</td><td>30736.2707</td><td>0.55614</td><td>0.557201</td><td>0.556659</td></tr><tr><td>&quot;BNX&quot;</td><td>2022-01-01</td><td>2022-01-01 00:00:00</td><td>&quot;USDT&quot;</td><td>63.6</td><td>64.0</td><td>63.5</td><td>63.8</td><td>82.171</td><td>5241.5141</td><td>61</td><td>2022-01-01 00:09:31.040</td><td>4429.7186</td><td>811.7955</td><td>63.800477</td><td>63.720681</td><td>63.787883</td></tr><tr><td>&hellip;</td><td>&hellip;</td><td>&hellip;</td><td>&hellip;</td><td>&hellip;</td><td>&hellip;</td><td>&hellip;</td><td>&hellip;</td><td>&hellip;</td><td>&hellip;</td><td>&hellip;</td><td>&hellip;</td><td>&hellip;</td><td>&hellip;</td><td>&hellip;</td><td>&hellip;</td><td>&hellip;</td></tr><tr><td>&quot;COTI&quot;</td><td>2025-10-18</td><td>2025-10-18 23:50:00</td><td>&quot;USDT&quot;</td><td>0.03406</td><td>0.03416</td><td>0.03406</td><td>0.03414</td><td>29848.0</td><td>1018.3768</td><td>33</td><td>2025-10-18 23:59:17.681144</td><td>742.87559</td><td>275.50121</td><td>0.034122</td><td>0.034109</td><td>0.034119</td></tr><tr><td>&quot;VIC&quot;</td><td>2025-10-18</td><td>2025-10-18 23:50:00</td><td>&quot;USDT&quot;</td><td>0.1521</td><td>0.1524</td><td>0.1521</td><td>0.1524</td><td>5394.6</td><td>821.33166</td><td>9</td><td>2025-10-18 23:59:20.512505</td><td>821.33166</td><td>0.0</td><td>0.152251</td><td>NaN</td><td>0.152251</td></tr><tr><td>&quot;CITY&quot;</td><td>2025-10-18</td><td>2025-10-18 23:50:00</td><td>&quot;USDT&quot;</td><td>0.787</td><td>0.79</td><td>0.787</td><td>0.79</td><td>920.25</td><td>724.59841</td><td>27</td><td>2025-10-18 23:59:50.775486</td><td>84.01451</td><td>640.5839</td><td>0.789388</td><td>0.787132</td><td>0.787393</td></tr><tr><td>&quot;AMP&quot;</td><td>2025-10-18</td><td>2025-10-18 23:50:00</td><td>&quot;USDT&quot;</td><td>0.002543</td><td>0.002551</td><td>0.002543</td><td>0.00255</td><td>530753.0</td><td>1351.788642</td><td>40</td><td>2025-10-18 23:59:51.217795</td><td>1289.409445</td><td>62.379197</td><td>0.002547</td><td>0.002546</td><td>0.002547</td></tr><tr><td>&quot;ATA&quot;</td><td>2025-10-18</td><td>2025-10-18 23:50:00</td><td>&quot;USDT&quot;</td><td>0.0301</td><td>0.0303</td><td>0.03</td><td>0.0301</td><td>32267.0</td><td>973.3884</td><td>22</td><td>2025-10-18 23:59:37.703438</td><td>669.8374</td><td>303.551</td><td>0.0302</td><td>0.030093</td><td>0.030167</td></tr></tbody></table></div>"
      ],
      "text/plain": [
       "shape: (72_880_784, 17)\n",
       "┌────────┬────────────┬────────────┬───────────┬───┬───────────┬───────────┬───────────┬───────────┐\n",
       "│ symbol ┆ date       ┆ time       ┆ peg_symbo ┆ … ┆ taker_sel ┆ vwap_take ┆ vwap_take ┆ vwap_tota │\n",
       "│ ---    ┆ ---        ┆ ---        ┆ l         ┆   ┆ l_volume_ ┆ r_buy     ┆ r_sell    ┆ l_by_base │\n",
       "│ enum   ┆ date       ┆ datetime[μ ┆ ---       ┆   ┆ quote     ┆ ---       ┆ ---       ┆ ---       │\n",
       "│        ┆            ┆ s]         ┆ str       ┆   ┆ ---       ┆ f64       ┆ f64       ┆ f64       │\n",
       "│        ┆            ┆            ┆           ┆   ┆ f64       ┆           ┆           ┆           │\n",
       "╞════════╪════════════╪════════════╪═══════════╪═══╪═══════════╪═══════════╪═══════════╪═══════════╡\n",
       "│ XLM    ┆ 2022-01-01 ┆ 2022-01-01 ┆ USDT      ┆ … ┆ 254235.81 ┆ 0.267193  ┆ 0.26721   ┆ 0.267201  │\n",
       "│        ┆            ┆ 00:00:00   ┆           ┆   ┆ 61        ┆           ┆           ┆           │\n",
       "│ PERP   ┆ 2022-01-01 ┆ 2022-01-01 ┆ USDT      ┆ … ┆ 21765.921 ┆ 8.811472  ┆ 8.809651  ┆ 8.81091   │\n",
       "│        ┆            ┆ 00:00:00   ┆           ┆   ┆ 4         ┆           ┆           ┆           │\n",
       "│ AION   ┆ 2022-01-01 ┆ 2022-01-01 ┆ USDT      ┆ … ┆ 1998.2755 ┆ 0.139787  ┆ 0.13975   ┆ 0.139772  │\n",
       "│        ┆            ┆ 00:00:00   ┆           ┆   ┆           ┆           ┆           ┆           │\n",
       "│ ADX    ┆ 2022-01-01 ┆ 2022-01-01 ┆ USDT      ┆ … ┆ 30736.270 ┆ 0.55614   ┆ 0.557201  ┆ 0.556659  │\n",
       "│        ┆            ┆ 00:00:00   ┆           ┆   ┆ 7         ┆           ┆           ┆           │\n",
       "│ BNX    ┆ 2022-01-01 ┆ 2022-01-01 ┆ USDT      ┆ … ┆ 811.7955  ┆ 63.800477 ┆ 63.720681 ┆ 63.787883 │\n",
       "│        ┆            ┆ 00:00:00   ┆           ┆   ┆           ┆           ┆           ┆           │\n",
       "│ …      ┆ …          ┆ …          ┆ …         ┆ … ┆ …         ┆ …         ┆ …         ┆ …         │\n",
       "│ COTI   ┆ 2025-10-18 ┆ 2025-10-18 ┆ USDT      ┆ … ┆ 275.50121 ┆ 0.034122  ┆ 0.034109  ┆ 0.034119  │\n",
       "│        ┆            ┆ 23:50:00   ┆           ┆   ┆           ┆           ┆           ┆           │\n",
       "│ VIC    ┆ 2025-10-18 ┆ 2025-10-18 ┆ USDT      ┆ … ┆ 0.0       ┆ 0.152251  ┆ NaN       ┆ 0.152251  │\n",
       "│        ┆            ┆ 23:50:00   ┆           ┆   ┆           ┆           ┆           ┆           │\n",
       "│ CITY   ┆ 2025-10-18 ┆ 2025-10-18 ┆ USDT      ┆ … ┆ 640.5839  ┆ 0.789388  ┆ 0.787132  ┆ 0.787393  │\n",
       "│        ┆            ┆ 23:50:00   ┆           ┆   ┆           ┆           ┆           ┆           │\n",
       "│ AMP    ┆ 2025-10-18 ┆ 2025-10-18 ┆ USDT      ┆ … ┆ 62.379197 ┆ 0.002547  ┆ 0.002546  ┆ 0.002547  │\n",
       "│        ┆            ┆ 23:50:00   ┆           ┆   ┆           ┆           ┆           ┆           │\n",
       "│ ATA    ┆ 2025-10-18 ┆ 2025-10-18 ┆ USDT      ┆ … ┆ 303.551   ┆ 0.0302    ┆ 0.030093  ┆ 0.030167  │\n",
       "│        ┆            ┆ 23:50:00   ┆           ┆   ┆           ┆           ┆           ┆           │\n",
       "└────────┴────────────┴────────────┴───────────┴───┴───────────┴───────────┴───────────┴───────────┘"
      ]
     },
     "execution_count": 2,
     "metadata": {},
     "output_type": "execute_result"
    }
   ],
   "source": [
    "peg_symbol = 'USDT'\n",
    "dstype = ms.DatasetType.BinanceSpotTrades\n",
    "grid_interval = '10m'\n",
    "\n",
    "dataset = ms.binance.BinanceLastTradesGrid(\n",
    "        peg_symbol=peg_symbol, \n",
    "        grid_interval=grid_interval, \n",
    "        dataset_type=dstype, \n",
    "        parquet_names='*.parquet', \n",
    "        num_workers=4, \n",
    "    )\n",
    "\n",
    "df = dataset.lazyframe().collect()\n",
    "df"
   ]
  },
  {
   "cell_type": "code",
   "execution_count": 3,
   "id": "514af76a",
   "metadata": {},
   "outputs": [],
   "source": [
    "backend_ds = ms.binance.BinanceLastTradesGrid(\n",
    "            peg_symbol='USDT', \n",
    "            grid_interval='4s', \n",
    "            dataset_type=ms.DatasetType.BinanceSpotTrades, \n",
    "        )\n",
    "\n",
    "re = ReturnsEngine(\n",
    "    backend_ds.lazyframe(),\n",
    "    backend_fair_expr = pl.col('vwap_total_by_base'), \n",
    "    backend_time_expr = pl.col('last_trade_time')\n",
    ")\n",
    "\n",
    "result = re.query(dataset.lazyframe().select('date', 'symbol', 'last_trade_time'), \n",
    "    start_time_expr = pl.col('last_trade_time'), \n",
    "    mark_duration=pl.lit('10m'), \n",
    "    tick_lag_tolerance=pl.lit('30s'), \n",
    "    verbose_debug=False\n",
    ")"
   ]
  },
  {
   "cell_type": "code",
   "execution_count": 5,
   "id": "f35d1f5a",
   "metadata": {},
   "outputs": [
    {
     "name": "stderr",
     "output_type": "stream",
     "text": [
      "sys:1: UserWarning: Sortedness of columns cannot be checked when 'by' groups provided\n"
     ]
    }
   ],
   "source": [
    "returns = result.collect()"
   ]
  },
  {
   "cell_type": "code",
   "execution_count": 6,
   "id": "900933b7",
   "metadata": {},
   "outputs": [
    {
     "data": {
      "text/html": [
       "<div><style>\n",
       ".dataframe > thead > tr,\n",
       ".dataframe > tbody > tr {\n",
       "  text-align: right;\n",
       "  white-space: pre-wrap;\n",
       "}\n",
       "</style>\n",
       "<small>shape: (72_880_784, 11)</small><table border=\"1\" class=\"dataframe\"><thead><tr><th>date</th><th>symbol</th><th>last_trade_time</th><th>start_query_time</th><th>end_query_time</th><th>start_tick_time</th><th>end_tick_time</th><th>max_tick_to_query_lag</th><th>start_fair</th><th>end_fair</th><th>return</th></tr><tr><td>date</td><td>enum</td><td>datetime[μs]</td><td>datetime[μs]</td><td>datetime[μs]</td><td>datetime[μs]</td><td>datetime[μs]</td><td>duration[μs]</td><td>f64</td><td>f64</td><td>f64</td></tr></thead><tbody><tr><td>2022-01-01</td><td>&quot;XLM&quot;</td><td>2022-01-01 00:09:56.967</td><td>2022-01-01 00:09:56.967</td><td>2022-01-01 00:19:56.967</td><td>2022-01-01 00:09:56.967</td><td>2022-01-01 00:19:52.336</td><td>4s 631ms</td><td>0.2669</td><td>0.2667</td><td>-0.000749</td></tr><tr><td>2022-01-01</td><td>&quot;PERP&quot;</td><td>2022-01-01 00:09:26.638</td><td>2022-01-01 00:09:26.638</td><td>2022-01-01 00:19:26.638</td><td>2022-01-01 00:09:26.638</td><td>2022-01-01 00:19:21.718</td><td>4s 920ms</td><td>8.83</td><td>8.77</td><td>-0.006795</td></tr><tr><td>2022-01-01</td><td>&quot;AION&quot;</td><td>2022-01-01 00:09:55.096</td><td>2022-01-01 00:09:55.096</td><td>2022-01-01 00:19:55.096</td><td>2022-01-01 00:09:55.096</td><td>2022-01-01 00:19:51.469</td><td>3s 627ms</td><td>0.139729</td><td>0.1395</td><td>-0.001637</td></tr><tr><td>2022-01-01</td><td>&quot;ADX&quot;</td><td>2022-01-01 00:08:48.913</td><td>2022-01-01 00:08:48.913</td><td>2022-01-01 00:18:48.913</td><td>2022-01-01 00:08:48.913</td><td>2022-01-01 00:12:13.091</td><td>6m 35s 822ms</td><td>0.556802</td><td>null</td><td>null</td></tr><tr><td>2022-01-01</td><td>&quot;BNX&quot;</td><td>2022-01-01 00:09:31.040</td><td>2022-01-01 00:09:31.040</td><td>2022-01-01 00:19:31.040</td><td>2022-01-01 00:09:31.040</td><td>2022-01-01 00:16:27.981</td><td>3m 3s 59ms</td><td>63.8</td><td>null</td><td>null</td></tr><tr><td>&hellip;</td><td>&hellip;</td><td>&hellip;</td><td>&hellip;</td><td>&hellip;</td><td>&hellip;</td><td>&hellip;</td><td>&hellip;</td><td>&hellip;</td><td>&hellip;</td><td>&hellip;</td></tr><tr><td>2025-10-18</td><td>&quot;COTI&quot;</td><td>2025-10-18 23:59:17.681144</td><td>2025-10-18 23:59:17.681144</td><td>2025-10-19 00:09:17.681144</td><td>2025-10-18 23:59:17.681144</td><td>2025-10-18 23:59:17.681144</td><td>10m</td><td>0.03414</td><td>null</td><td>null</td></tr><tr><td>2025-10-18</td><td>&quot;VIC&quot;</td><td>2025-10-18 23:59:20.512505</td><td>2025-10-18 23:59:20.512505</td><td>2025-10-19 00:09:20.512505</td><td>2025-10-18 23:59:20.512505</td><td>2025-10-18 23:59:20.512505</td><td>10m</td><td>0.152309</td><td>null</td><td>null</td></tr><tr><td>2025-10-18</td><td>&quot;CITY&quot;</td><td>2025-10-18 23:59:50.775486</td><td>2025-10-18 23:59:50.775486</td><td>2025-10-19 00:09:50.775486</td><td>2025-10-18 23:59:50.775486</td><td>2025-10-18 23:59:50.775486</td><td>10m</td><td>0.79</td><td>null</td><td>null</td></tr><tr><td>2025-10-18</td><td>&quot;AMP&quot;</td><td>2025-10-18 23:59:51.217795</td><td>2025-10-18 23:59:51.217795</td><td>2025-10-19 00:09:51.217795</td><td>2025-10-18 23:59:51.217795</td><td>2025-10-18 23:59:51.217795</td><td>10m</td><td>0.00255</td><td>null</td><td>null</td></tr><tr><td>2025-10-18</td><td>&quot;ATA&quot;</td><td>2025-10-18 23:59:37.703438</td><td>2025-10-18 23:59:37.703438</td><td>2025-10-19 00:09:37.703438</td><td>2025-10-18 23:59:37.703438</td><td>2025-10-18 23:59:37.703438</td><td>10m</td><td>0.0301</td><td>null</td><td>null</td></tr></tbody></table></div>"
      ],
      "text/plain": [
       "shape: (72_880_784, 11)\n",
       "┌────────────┬────────┬────────────┬────────────┬───┬───────────┬───────────┬──────────┬───────────┐\n",
       "│ date       ┆ symbol ┆ last_trade ┆ start_quer ┆ … ┆ max_tick_ ┆ start_fai ┆ end_fair ┆ return    │\n",
       "│ ---        ┆ ---    ┆ _time      ┆ y_time     ┆   ┆ to_query_ ┆ r         ┆ ---      ┆ ---       │\n",
       "│ date       ┆ enum   ┆ ---        ┆ ---        ┆   ┆ lag       ┆ ---       ┆ f64      ┆ f64       │\n",
       "│            ┆        ┆ datetime[μ ┆ datetime[μ ┆   ┆ ---       ┆ f64       ┆          ┆           │\n",
       "│            ┆        ┆ s]         ┆ s]         ┆   ┆ duration[ ┆           ┆          ┆           │\n",
       "│            ┆        ┆            ┆            ┆   ┆ μs]       ┆           ┆          ┆           │\n",
       "╞════════════╪════════╪════════════╪════════════╪═══╪═══════════╪═══════════╪══════════╪═══════════╡\n",
       "│ 2022-01-01 ┆ XLM    ┆ 2022-01-01 ┆ 2022-01-01 ┆ … ┆ 4s 631ms  ┆ 0.2669    ┆ 0.2667   ┆ -0.000749 │\n",
       "│            ┆        ┆ 00:09:56.9 ┆ 00:09:56.9 ┆   ┆           ┆           ┆          ┆           │\n",
       "│            ┆        ┆ 67         ┆ 67         ┆   ┆           ┆           ┆          ┆           │\n",
       "│ 2022-01-01 ┆ PERP   ┆ 2022-01-01 ┆ 2022-01-01 ┆ … ┆ 4s 920ms  ┆ 8.83      ┆ 8.77     ┆ -0.006795 │\n",
       "│            ┆        ┆ 00:09:26.6 ┆ 00:09:26.6 ┆   ┆           ┆           ┆          ┆           │\n",
       "│            ┆        ┆ 38         ┆ 38         ┆   ┆           ┆           ┆          ┆           │\n",
       "│ 2022-01-01 ┆ AION   ┆ 2022-01-01 ┆ 2022-01-01 ┆ … ┆ 3s 627ms  ┆ 0.139729  ┆ 0.1395   ┆ -0.001637 │\n",
       "│            ┆        ┆ 00:09:55.0 ┆ 00:09:55.0 ┆   ┆           ┆           ┆          ┆           │\n",
       "│            ┆        ┆ 96         ┆ 96         ┆   ┆           ┆           ┆          ┆           │\n",
       "│ 2022-01-01 ┆ ADX    ┆ 2022-01-01 ┆ 2022-01-01 ┆ … ┆ 6m 35s    ┆ 0.556802  ┆ null     ┆ null      │\n",
       "│            ┆        ┆ 00:08:48.9 ┆ 00:08:48.9 ┆   ┆ 822ms     ┆           ┆          ┆           │\n",
       "│            ┆        ┆ 13         ┆ 13         ┆   ┆           ┆           ┆          ┆           │\n",
       "│ 2022-01-01 ┆ BNX    ┆ 2022-01-01 ┆ 2022-01-01 ┆ … ┆ 3m 3s     ┆ 63.8      ┆ null     ┆ null      │\n",
       "│            ┆        ┆ 00:09:31.0 ┆ 00:09:31.0 ┆   ┆ 59ms      ┆           ┆          ┆           │\n",
       "│            ┆        ┆ 40         ┆ 40         ┆   ┆           ┆           ┆          ┆           │\n",
       "│ …          ┆ …      ┆ …          ┆ …          ┆ … ┆ …         ┆ …         ┆ …        ┆ …         │\n",
       "│ 2025-10-18 ┆ COTI   ┆ 2025-10-18 ┆ 2025-10-18 ┆ … ┆ 10m       ┆ 0.03414   ┆ null     ┆ null      │\n",
       "│            ┆        ┆ 23:59:17.6 ┆ 23:59:17.6 ┆   ┆           ┆           ┆          ┆           │\n",
       "│            ┆        ┆ 81144      ┆ 81144      ┆   ┆           ┆           ┆          ┆           │\n",
       "│ 2025-10-18 ┆ VIC    ┆ 2025-10-18 ┆ 2025-10-18 ┆ … ┆ 10m       ┆ 0.152309  ┆ null     ┆ null      │\n",
       "│            ┆        ┆ 23:59:20.5 ┆ 23:59:20.5 ┆   ┆           ┆           ┆          ┆           │\n",
       "│            ┆        ┆ 12505      ┆ 12505      ┆   ┆           ┆           ┆          ┆           │\n",
       "│ 2025-10-18 ┆ CITY   ┆ 2025-10-18 ┆ 2025-10-18 ┆ … ┆ 10m       ┆ 0.79      ┆ null     ┆ null      │\n",
       "│            ┆        ┆ 23:59:50.7 ┆ 23:59:50.7 ┆   ┆           ┆           ┆          ┆           │\n",
       "│            ┆        ┆ 75486      ┆ 75486      ┆   ┆           ┆           ┆          ┆           │\n",
       "│ 2025-10-18 ┆ AMP    ┆ 2025-10-18 ┆ 2025-10-18 ┆ … ┆ 10m       ┆ 0.00255   ┆ null     ┆ null      │\n",
       "│            ┆        ┆ 23:59:51.2 ┆ 23:59:51.2 ┆   ┆           ┆           ┆          ┆           │\n",
       "│            ┆        ┆ 17795      ┆ 17795      ┆   ┆           ┆           ┆          ┆           │\n",
       "│ 2025-10-18 ┆ ATA    ┆ 2025-10-18 ┆ 2025-10-18 ┆ … ┆ 10m       ┆ 0.0301    ┆ null     ┆ null      │\n",
       "│            ┆        ┆ 23:59:37.7 ┆ 23:59:37.7 ┆   ┆           ┆           ┆          ┆           │\n",
       "│            ┆        ┆ 03438      ┆ 03438      ┆   ┆           ┆           ┆          ┆           │\n",
       "└────────────┴────────┴────────────┴────────────┴───┴───────────┴───────────┴──────────┴───────────┘"
      ]
     },
     "execution_count": 6,
     "metadata": {},
     "output_type": "execute_result"
    }
   ],
   "source": [
    "returns"
   ]
  },
  {
   "cell_type": "code",
   "execution_count": 12,
   "id": "4158bb35",
   "metadata": {},
   "outputs": [
    {
     "data": {
      "text/html": [
       "<div><style>\n",
       ".dataframe > thead > tr,\n",
       ".dataframe > tbody > tr {\n",
       "  text-align: right;\n",
       "  white-space: pre-wrap;\n",
       "}\n",
       "</style>\n",
       "<small>shape: (144, 11)</small><table border=\"1\" class=\"dataframe\"><thead><tr><th>date</th><th>symbol</th><th>last_trade_time</th><th>start_query_time</th><th>end_query_time</th><th>start_tick_time</th><th>end_tick_time</th><th>max_tick_to_query_lag</th><th>start_fair</th><th>end_fair</th><th>return</th></tr><tr><td>date</td><td>enum</td><td>datetime[μs]</td><td>datetime[μs]</td><td>datetime[μs]</td><td>datetime[μs]</td><td>datetime[μs]</td><td>duration[μs]</td><td>f64</td><td>f64</td><td>f64</td></tr></thead><tbody><tr><td>2025-01-01</td><td>&quot;NEO&quot;</td><td>2025-01-01 00:09:44.397890</td><td>2025-01-01 00:09:44.397890</td><td>2025-01-01 00:19:44.397890</td><td>2025-01-01 00:09:44.397890</td><td>2025-01-01 00:19:19.404732</td><td>24s 993158µs</td><td>13.64</td><td>13.64</td><td>-1.3023e-16</td></tr><tr><td>2025-01-01</td><td>&quot;NEO&quot;</td><td>2025-01-01 00:19:19.404732</td><td>2025-01-01 00:19:19.404732</td><td>2025-01-01 00:29:19.404732</td><td>2025-01-01 00:19:19.404732</td><td>2025-01-01 00:29:19.403932</td><td>800µs</td><td>13.64</td><td>13.63</td><td>-0.000733</td></tr><tr><td>2025-01-01</td><td>&quot;NEO&quot;</td><td>2025-01-01 00:29:40.341621</td><td>2025-01-01 00:29:40.341621</td><td>2025-01-01 00:39:40.341621</td><td>2025-01-01 00:29:40.341621</td><td>2025-01-01 00:39:26.362909</td><td>13s 978712µs</td><td>13.62</td><td>13.65</td><td>0.002203</td></tr><tr><td>2025-01-01</td><td>&quot;NEO&quot;</td><td>2025-01-01 00:39:26.362909</td><td>2025-01-01 00:39:26.362909</td><td>2025-01-01 00:49:26.362909</td><td>2025-01-01 00:39:26.362909</td><td>2025-01-01 00:49:19.741927</td><td>6s 620982µs</td><td>13.65</td><td>13.66</td><td>0.000733</td></tr><tr><td>2025-01-01</td><td>&quot;NEO&quot;</td><td>2025-01-01 00:49:59.790966</td><td>2025-01-01 00:49:59.790966</td><td>2025-01-01 00:59:59.790966</td><td>2025-01-01 00:49:59.790966</td><td>2025-01-01 00:59:50.590465</td><td>9s 200501µs</td><td>13.66</td><td>13.74</td><td>0.005857</td></tr><tr><td>&hellip;</td><td>&hellip;</td><td>&hellip;</td><td>&hellip;</td><td>&hellip;</td><td>&hellip;</td><td>&hellip;</td><td>&hellip;</td><td>&hellip;</td><td>&hellip;</td><td>&hellip;</td></tr><tr><td>2025-01-01</td><td>&quot;NEO&quot;</td><td>2025-01-01 23:19:37.569940</td><td>2025-01-01 23:19:37.569940</td><td>2025-01-01 23:29:37.569940</td><td>2025-01-01 23:19:37.569940</td><td>2025-01-01 23:29:17.764672</td><td>19s 805268µs</td><td>14.31</td><td>14.38</td><td>0.004892</td></tr><tr><td>2025-01-01</td><td>&quot;NEO&quot;</td><td>2025-01-01 23:29:50.327524</td><td>2025-01-01 23:29:50.327524</td><td>2025-01-01 23:39:50.327524</td><td>2025-01-01 23:29:50.327524</td><td>2025-01-01 23:39:46.186203</td><td>4s 141321µs</td><td>14.37</td><td>14.356293</td><td>-0.000954</td></tr><tr><td>2025-01-01</td><td>&quot;NEO&quot;</td><td>2025-01-01 23:39:56.308119</td><td>2025-01-01 23:39:56.308119</td><td>2025-01-01 23:49:56.308119</td><td>2025-01-01 23:39:56.308119</td><td>2025-01-01 23:49:44.850522</td><td>11s 457597µs</td><td>14.36</td><td>14.34</td><td>-0.001393</td></tr><tr><td>2025-01-01</td><td>&quot;NEO&quot;</td><td>2025-01-01 23:49:56.469774</td><td>2025-01-01 23:49:56.469774</td><td>2025-01-01 23:59:56.469774</td><td>2025-01-01 23:49:56.469774</td><td>2025-01-01 23:59:39.532910</td><td>16s 936864µs</td><td>14.34</td><td>14.36</td><td>0.001395</td></tr><tr><td>2025-01-01</td><td>&quot;NEO&quot;</td><td>2025-01-01 23:59:39.532910</td><td>2025-01-01 23:59:39.532910</td><td>2025-01-02 00:09:39.532910</td><td>2025-01-01 23:59:39.532910</td><td>2025-01-02 00:09:34.744971</td><td>4s 787939µs</td><td>14.36</td><td>14.36</td><td>0.0</td></tr></tbody></table></div>"
      ],
      "text/plain": [
       "shape: (144, 11)\n",
       "┌────────────┬────────┬────────────┬───────────┬───┬───────────┬───────────┬───────────┬───────────┐\n",
       "│ date       ┆ symbol ┆ last_trade ┆ start_que ┆ … ┆ max_tick_ ┆ start_fai ┆ end_fair  ┆ return    │\n",
       "│ ---        ┆ ---    ┆ _time      ┆ ry_time   ┆   ┆ to_query_ ┆ r         ┆ ---       ┆ ---       │\n",
       "│ date       ┆ enum   ┆ ---        ┆ ---       ┆   ┆ lag       ┆ ---       ┆ f64       ┆ f64       │\n",
       "│            ┆        ┆ datetime[μ ┆ datetime[ ┆   ┆ ---       ┆ f64       ┆           ┆           │\n",
       "│            ┆        ┆ s]         ┆ μs]       ┆   ┆ duration[ ┆           ┆           ┆           │\n",
       "│            ┆        ┆            ┆           ┆   ┆ μs]       ┆           ┆           ┆           │\n",
       "╞════════════╪════════╪════════════╪═══════════╪═══╪═══════════╪═══════════╪═══════════╪═══════════╡\n",
       "│ 2025-01-01 ┆ NEO    ┆ 2025-01-01 ┆ 2025-01-0 ┆ … ┆ 24s       ┆ 13.64     ┆ 13.64     ┆ -1.3023e- │\n",
       "│            ┆        ┆ 00:09:44.3 ┆ 1 00:09:4 ┆   ┆ 993158µs  ┆           ┆           ┆ 16        │\n",
       "│            ┆        ┆ 97890      ┆ 4.397890  ┆   ┆           ┆           ┆           ┆           │\n",
       "│ 2025-01-01 ┆ NEO    ┆ 2025-01-01 ┆ 2025-01-0 ┆ … ┆ 800µs     ┆ 13.64     ┆ 13.63     ┆ -0.000733 │\n",
       "│            ┆        ┆ 00:19:19.4 ┆ 1 00:19:1 ┆   ┆           ┆           ┆           ┆           │\n",
       "│            ┆        ┆ 04732      ┆ 9.404732  ┆   ┆           ┆           ┆           ┆           │\n",
       "│ 2025-01-01 ┆ NEO    ┆ 2025-01-01 ┆ 2025-01-0 ┆ … ┆ 13s       ┆ 13.62     ┆ 13.65     ┆ 0.002203  │\n",
       "│            ┆        ┆ 00:29:40.3 ┆ 1 00:29:4 ┆   ┆ 978712µs  ┆           ┆           ┆           │\n",
       "│            ┆        ┆ 41621      ┆ 0.341621  ┆   ┆           ┆           ┆           ┆           │\n",
       "│ 2025-01-01 ┆ NEO    ┆ 2025-01-01 ┆ 2025-01-0 ┆ … ┆ 6s        ┆ 13.65     ┆ 13.66     ┆ 0.000733  │\n",
       "│            ┆        ┆ 00:39:26.3 ┆ 1 00:39:2 ┆   ┆ 620982µs  ┆           ┆           ┆           │\n",
       "│            ┆        ┆ 62909      ┆ 6.362909  ┆   ┆           ┆           ┆           ┆           │\n",
       "│ 2025-01-01 ┆ NEO    ┆ 2025-01-01 ┆ 2025-01-0 ┆ … ┆ 9s        ┆ 13.66     ┆ 13.74     ┆ 0.005857  │\n",
       "│            ┆        ┆ 00:49:59.7 ┆ 1 00:49:5 ┆   ┆ 200501µs  ┆           ┆           ┆           │\n",
       "│            ┆        ┆ 90966      ┆ 9.790966  ┆   ┆           ┆           ┆           ┆           │\n",
       "│ …          ┆ …      ┆ …          ┆ …         ┆ … ┆ …         ┆ …         ┆ …         ┆ …         │\n",
       "│ 2025-01-01 ┆ NEO    ┆ 2025-01-01 ┆ 2025-01-0 ┆ … ┆ 19s       ┆ 14.31     ┆ 14.38     ┆ 0.004892  │\n",
       "│            ┆        ┆ 23:19:37.5 ┆ 1 23:19:3 ┆   ┆ 805268µs  ┆           ┆           ┆           │\n",
       "│            ┆        ┆ 69940      ┆ 7.569940  ┆   ┆           ┆           ┆           ┆           │\n",
       "│ 2025-01-01 ┆ NEO    ┆ 2025-01-01 ┆ 2025-01-0 ┆ … ┆ 4s        ┆ 14.37     ┆ 14.356293 ┆ -0.000954 │\n",
       "│            ┆        ┆ 23:29:50.3 ┆ 1 23:29:5 ┆   ┆ 141321µs  ┆           ┆           ┆           │\n",
       "│            ┆        ┆ 27524      ┆ 0.327524  ┆   ┆           ┆           ┆           ┆           │\n",
       "│ 2025-01-01 ┆ NEO    ┆ 2025-01-01 ┆ 2025-01-0 ┆ … ┆ 11s       ┆ 14.36     ┆ 14.34     ┆ -0.001393 │\n",
       "│            ┆        ┆ 23:39:56.3 ┆ 1 23:39:5 ┆   ┆ 457597µs  ┆           ┆           ┆           │\n",
       "│            ┆        ┆ 08119      ┆ 6.308119  ┆   ┆           ┆           ┆           ┆           │\n",
       "│ 2025-01-01 ┆ NEO    ┆ 2025-01-01 ┆ 2025-01-0 ┆ … ┆ 16s       ┆ 14.34     ┆ 14.36     ┆ 0.001395  │\n",
       "│            ┆        ┆ 23:49:56.4 ┆ 1 23:49:5 ┆   ┆ 936864µs  ┆           ┆           ┆           │\n",
       "│            ┆        ┆ 69774      ┆ 6.469774  ┆   ┆           ┆           ┆           ┆           │\n",
       "│ 2025-01-01 ┆ NEO    ┆ 2025-01-01 ┆ 2025-01-0 ┆ … ┆ 4s        ┆ 14.36     ┆ 14.36     ┆ 0.0       │\n",
       "│            ┆        ┆ 23:59:39.5 ┆ 1 23:59:3 ┆   ┆ 787939µs  ┆           ┆           ┆           │\n",
       "│            ┆        ┆ 32910      ┆ 9.532910  ┆   ┆           ┆           ┆           ┆           │\n",
       "└────────────┴────────┴────────────┴───────────┴───┴───────────┴───────────┴───────────┴───────────┘"
      ]
     },
     "execution_count": 12,
     "metadata": {},
     "output_type": "execute_result"
    }
   ],
   "source": [
    "returns_date = returns.filter(pl.col('date') == Date(2025, 1, 1))\n",
    "returns_date.filter(pl.col('symbol') == 'NEO')"
   ]
  },
  {
   "cell_type": "code",
   "execution_count": 21,
   "id": "5a409354",
   "metadata": {},
   "outputs": [],
   "source": [
    "agg_returns = returns.group_by('symbol', 'date').agg(\n",
    "    (pl.col('return').null_count() / pl.col('return').count()).alias('returns_null_frac'), \n",
    "    pl.col('return').sum(),\n",
    "    pl.col('max_tick_to_query_lag').max()\n",
    ")"
   ]
  },
  {
   "cell_type": "code",
   "execution_count": 22,
   "id": "ad3ad117",
   "metadata": {},
   "outputs": [
    {
     "data": {
      "text/html": [
       "<div><style>\n",
       ".dataframe > thead > tr,\n",
       ".dataframe > tbody > tr {\n",
       "  text-align: right;\n",
       "  white-space: pre-wrap;\n",
       "}\n",
       "</style>\n",
       "<small>shape: (510_228, 5)</small><table border=\"1\" class=\"dataframe\"><thead><tr><th>symbol</th><th>date</th><th>returns_null_frac</th><th>return</th><th>max_tick_to_query_lag</th></tr><tr><td>enum</td><td>date</td><td>f64</td><td>f64</td><td>duration[μs]</td></tr></thead><tbody><tr><td>&quot;GNO&quot;</td><td>2025-04-30</td><td>0.756098</td><td>0.011761</td><td>2m 31s 716983µs</td></tr><tr><td>&quot;SAGA&quot;</td><td>2024-10-30</td><td>0.006993</td><td>-0.012535</td><td>36s 2ms</td></tr><tr><td>&quot;ALICE&quot;</td><td>2022-03-09</td><td>0.0</td><td>0.033884</td><td>21s 868ms</td></tr><tr><td>&quot;BANANA&quot;</td><td>2024-10-19</td><td>0.099237</td><td>-0.020077</td><td>1m 47s 825ms</td></tr><tr><td>&quot;ZEC&quot;</td><td>2024-02-18</td><td>0.090909</td><td>0.026273</td><td>1m 21s 75ms</td></tr><tr><td>&hellip;</td><td>&hellip;</td><td>&hellip;</td><td>&hellip;</td><td>&hellip;</td></tr><tr><td>&quot;ZK&quot;</td><td>2024-06-18</td><td>0.0</td><td>0.066682</td><td>8s 787ms</td></tr><tr><td>&quot;IMX&quot;</td><td>2024-09-16</td><td>0.180328</td><td>-0.035397</td><td>2m 4s 289ms</td></tr><tr><td>&quot;NXPC&quot;</td><td>2025-09-30</td><td>0.035971</td><td>-0.085725</td><td>52s 27286µs</td></tr><tr><td>&quot;PROS&quot;</td><td>2024-02-05</td><td>1.716981</td><td>0.024464</td><td>10m</td></tr><tr><td>&quot;HOME&quot;</td><td>2025-08-03</td><td>0.274336</td><td>0.089088</td><td>5m 56s 644267µs</td></tr></tbody></table></div>"
      ],
      "text/plain": [
       "shape: (510_228, 5)\n",
       "┌────────┬────────────┬───────────────────┬───────────┬───────────────────────┐\n",
       "│ symbol ┆ date       ┆ returns_null_frac ┆ return    ┆ max_tick_to_query_lag │\n",
       "│ ---    ┆ ---        ┆ ---               ┆ ---       ┆ ---                   │\n",
       "│ enum   ┆ date       ┆ f64               ┆ f64       ┆ duration[μs]          │\n",
       "╞════════╪════════════╪═══════════════════╪═══════════╪═══════════════════════╡\n",
       "│ GNO    ┆ 2025-04-30 ┆ 0.756098          ┆ 0.011761  ┆ 2m 31s 716983µs       │\n",
       "│ SAGA   ┆ 2024-10-30 ┆ 0.006993          ┆ -0.012535 ┆ 36s 2ms               │\n",
       "│ ALICE  ┆ 2022-03-09 ┆ 0.0               ┆ 0.033884  ┆ 21s 868ms             │\n",
       "│ BANANA ┆ 2024-10-19 ┆ 0.099237          ┆ -0.020077 ┆ 1m 47s 825ms          │\n",
       "│ ZEC    ┆ 2024-02-18 ┆ 0.090909          ┆ 0.026273  ┆ 1m 21s 75ms           │\n",
       "│ …      ┆ …          ┆ …                 ┆ …         ┆ …                     │\n",
       "│ ZK     ┆ 2024-06-18 ┆ 0.0               ┆ 0.066682  ┆ 8s 787ms              │\n",
       "│ IMX    ┆ 2024-09-16 ┆ 0.180328          ┆ -0.035397 ┆ 2m 4s 289ms           │\n",
       "│ NXPC   ┆ 2025-09-30 ┆ 0.035971          ┆ -0.085725 ┆ 52s 27286µs           │\n",
       "│ PROS   ┆ 2024-02-05 ┆ 1.716981          ┆ 0.024464  ┆ 10m                   │\n",
       "│ HOME   ┆ 2025-08-03 ┆ 0.274336          ┆ 0.089088  ┆ 5m 56s 644267µs       │\n",
       "└────────┴────────────┴───────────────────┴───────────┴───────────────────────┘"
      ]
     },
     "execution_count": 22,
     "metadata": {},
     "output_type": "execute_result"
    }
   ],
   "source": [
    "agg_returns"
   ]
  },
  {
   "cell_type": "code",
   "execution_count": 45,
   "id": "0af95dcf",
   "metadata": {},
   "outputs": [],
   "source": [
    "null_cumfrac_by_date = (\n",
    "    agg_returns.sort('date').with_columns(\n",
    "        pl.col('returns_null_frac').cum_sum().alias('cumsum_returns_null_frac').over('symbol')\n",
    "    ).pivot(\n",
    "        on='symbol', \n",
    "        index='date', \n",
    "        values='cumsum_returns_null_frac'\n",
    "    ).sort('date').with_columns(pl.col(pl.Float64).forward_fill())\n",
    ")"
   ]
  },
  {
   "cell_type": "code",
   "execution_count": 52,
   "id": "757fb965",
   "metadata": {},
   "outputs": [],
   "source": [
    "returns.write_parquet('./plotting_dev_parquet.parquet', compression_level=3)"
   ]
  },
  {
   "cell_type": "code",
   "execution_count": null,
   "id": "010dea43",
   "metadata": {},
   "outputs": [],
   "source": []
  }
 ],
 "metadata": {
  "kernelspec": {
   "display_name": "midas",
   "language": "python",
   "name": "midas"
  },
  "language_info": {
   "codemirror_mode": {
    "name": "ipython",
    "version": 3
   },
   "file_extension": ".py",
   "mimetype": "text/x-python",
   "name": "python",
   "nbconvert_exporter": "python",
   "pygments_lexer": "ipython3",
   "version": "3.12.3"
  }
 },
 "nbformat": 4,
 "nbformat_minor": 5
}
