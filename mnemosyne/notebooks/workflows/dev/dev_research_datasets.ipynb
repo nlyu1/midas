{
 "cells": [
  {
   "cell_type": "code",
   "execution_count": 2,
   "id": "a7dc4e3e",
   "metadata": {},
   "outputs": [],
   "source": [
    "import mnemosyne as ms\n",
    "import polars as pl\n",
    "from dataclasses import dataclass, field\n",
    "from timedelta_isoformat import timedelta as Timedelta\n",
    "from mnemosyne.engines import ReturnsEngine, MetadataEngine\n",
    "from mnemosyne.dataset import ByDateDataset\n",
    "\n",
    "from pathlib import Path\n",
    "from datetime import datetime as Datetime, date as Date\n",
    "from timedelta_isoformat import timedelta as Timedelta"
   ]
  },
  {
   "cell_type": "code",
   "execution_count": 4,
   "id": "8ab1befa",
   "metadata": {},
   "outputs": [
    {
     "data": {
      "text/html": [
       "<div><style>\n",
       ".dataframe > thead > tr,\n",
       ".dataframe > tbody > tr {\n",
       "  text-align: right;\n",
       "  white-space: pre-wrap;\n",
       "}\n",
       "</style>\n",
       "<small>shape: (73_397_651, 56)</small><table border=\"1\" class=\"dataframe\"><thead><tr><th>symbol</th><th>date</th><th>time</th><th>peg_symbol</th><th>open</th><th>high</th><th>low</th><th>close</th><th>volume</th><th>trade_count</th><th>last_event_time</th><th>taker_buy_volume</th><th>taker_sell_volume</th><th>vwap_taker_buy</th><th>vwap_taker_sell</th><th>vwap_price</th><th>return_m10m_to_now</th><th>return_m12h_to_now</th><th>return_m1d_to_now</th><th>return_m1h_to_now</th><th>return_m1m_to_now</th><th>return_m20m_to_now</th><th>return_m2h_to_now</th><th>return_m2m_to_now</th><th>return_m30m_to_now</th><th>return_m3h_to_now</th><th>return_m5m_to_now</th><th>return_m6h_to_now</th><th>return_now_to_p10m</th><th>return_now_to_p1m</th><th>return_now_to_p2m</th><th>return_now_to_p5m</th><th>return_p1m_to_p11m</th><th>return_p1m_to_p2m</th><th>return_p1m_to_p3m</th><th>return_p1m_to_p6m</th><th>date_right</th><th>last_event_time_right</th><th>liquidity_1d</th><th>sqrtliq_1d</th><th>excess_buy_ratio_1d</th><th>trade_count_1d</th><th>liquidity_7d</th><th>sqrtliq_7d</th><th>excess_buy_ratio_7d</th><th>trade_count_7d</th><th>daily_returns_drift_7d_lookback</th><th>daily_vol_7d_lookback</th><th>vol_ssize_7d_lookback</th><th>daily_returns_drift_30d_lookback</th><th>daily_vol_30d_lookback</th><th>vol_ssize_30d_lookback</th><th>liquidity_1d_q</th><th>liquidity_7d_q</th><th>daily_vol_7d_lookback_q</th><th>daily_vol_30d_lookback_q</th></tr><tr><td>enum</td><td>date</td><td>datetime[μs]</td><td>str</td><td>f64</td><td>f64</td><td>f64</td><td>f64</td><td>f64</td><td>u64</td><td>datetime[μs]</td><td>f64</td><td>f64</td><td>f64</td><td>f64</td><td>f64</td><td>f64</td><td>f64</td><td>f64</td><td>f64</td><td>f64</td><td>f64</td><td>f64</td><td>f64</td><td>f64</td><td>f64</td><td>f64</td><td>f64</td><td>f64</td><td>f64</td><td>f64</td><td>f64</td><td>f64</td><td>f64</td><td>f64</td><td>f64</td><td>date</td><td>datetime[μs]</td><td>f64</td><td>f64</td><td>f64</td><td>u64</td><td>f64</td><td>f64</td><td>f64</td><td>u64</td><td>f64</td><td>f64</td><td>u64</td><td>f64</td><td>f64</td><td>u64</td><td>f64</td><td>f64</td><td>f64</td><td>f64</td></tr></thead><tbody><tr><td>&quot;1INCH&quot;</td><td>2022-01-01</td><td>2022-01-01 00:10:00</td><td>&quot;USDT&quot;</td><td>2.391</td><td>2.407</td><td>2.391</td><td>2.4</td><td>50297.5</td><td>562</td><td>2022-01-01 00:09:59.897</td><td>32070.7</td><td>18226.8</td><td>2.400687</td><td>2.401023</td><td>2.400809</td><td>null</td><td>null</td><td>null</td><td>null</td><td>0.0</td><td>null</td><td>null</td><td>-0.001248</td><td>null</td><td>null</td><td>-0.000134</td><td>null</td><td>-0.001667</td><td>0.000417</td><td>-0.002083</td><td>-0.000417</td><td>-0.000833</td><td>-0.002499</td><td>-0.002499</td><td>-0.000833</td><td>null</td><td>null</td><td>null</td><td>null</td><td>null</td><td>null</td><td>null</td><td>null</td><td>null</td><td>null</td><td>null</td><td>null</td><td>null</td><td>null</td><td>null</td><td>null</td><td>null</td><td>null</td><td>null</td><td>null</td></tr><tr><td>&quot;AAVE&quot;</td><td>2022-01-01</td><td>2022-01-01 00:10:00</td><td>&quot;USDT&quot;</td><td>253.9</td><td>257.6</td><td>253.8</td><td>257.0</td><td>2265.003</td><td>1899</td><td>2022-01-01 00:09:54.945</td><td>1363.131</td><td>901.872</td><td>256.08445</td><td>256.018935</td><td>256.058363</td><td>null</td><td>null</td><td>null</td><td>null</td><td>-2.2118e-16</td><td>null</td><td>null</td><td>-0.000778</td><td>null</td><td>null</td><td>0.00425</td><td>null</td><td>-0.003694</td><td>2.2118e-16</td><td>-0.002724</td><td>-0.001552</td><td>-0.003113</td><td>-0.002724</td><td>-0.003502</td><td>-0.001946</td><td>null</td><td>null</td><td>null</td><td>null</td><td>null</td><td>null</td><td>null</td><td>null</td><td>null</td><td>null</td><td>null</td><td>null</td><td>null</td><td>null</td><td>null</td><td>null</td><td>null</td><td>null</td><td>null</td><td>null</td></tr><tr><td>&quot;ACM&quot;</td><td>2022-01-01</td><td>2022-01-01 00:10:00</td><td>&quot;USDT&quot;</td><td>5.007</td><td>5.044</td><td>5.006</td><td>5.026</td><td>384.7</td><td>10</td><td>2022-01-01 00:08:04.213</td><td>332.6</td><td>52.1</td><td>5.041531</td><td>5.023697</td><td>5.039115</td><td>null</td><td>null</td><td>null</td><td>null</td><td>0.0</td><td>null</td><td>null</td><td>-0.003081</td><td>null</td><td>null</td><td>0.003795</td><td>null</td><td>0.001525</td><td>0.0</td><td>0.0</td><td>0.0</td><td>0.001525</td><td>0.0</td><td>0.0</td><td>0.0</td><td>null</td><td>null</td><td>null</td><td>null</td><td>null</td><td>null</td><td>null</td><td>null</td><td>null</td><td>null</td><td>null</td><td>null</td><td>null</td><td>null</td><td>null</td><td>null</td><td>null</td><td>null</td><td>null</td><td>null</td></tr><tr><td>&quot;ADA&quot;</td><td>2022-01-01</td><td>2022-01-01 00:10:00</td><td>&quot;USDT&quot;</td><td>1.308</td><td>1.32</td><td>1.307</td><td>1.316</td><td>1.5076e6</td><td>1995</td><td>2022-01-01 00:09:57.441</td><td>936582.3</td><td>571028.5</td><td>1.315078</td><td>1.315597</td><td>1.315274</td><td>null</td><td>null</td><td>null</td><td>null</td><td>-0.000759</td><td>null</td><td>null</td><td>-0.001517</td><td>null</td><td>null</td><td>0.001502</td><td>null</td><td>0.00076</td><td>0.00076</td><td>0.0</td><td>0.00076</td><td>0.000518</td><td>-0.000759</td><td>-0.001519</td><td>0.000759</td><td>null</td><td>null</td><td>null</td><td>null</td><td>null</td><td>null</td><td>null</td><td>null</td><td>null</td><td>null</td><td>null</td><td>null</td><td>null</td><td>null</td><td>null</td><td>null</td><td>null</td><td>null</td><td>null</td><td>null</td></tr><tr><td>&quot;ADADOWN&quot;</td><td>2022-01-01</td><td>2022-01-01 00:10:00</td><td>&quot;USDT&quot;</td><td>0.006249</td><td>0.006264</td><td>0.006142</td><td>0.006191</td><td>3.9720e6</td><td>113</td><td>2022-01-01 00:09:59.166</td><td>1.3302e6</td><td>2.6418e6</td><td>0.006193</td><td>0.006208</td><td>0.006203</td><td>null</td><td>null</td><td>null</td><td>null</td><td>0.00065</td><td>null</td><td>null</td><td>0.002595</td><td>null</td><td>null</td><td>-0.001932</td><td>null</td><td>0.001536</td><td>-0.000488</td><td>0.000481</td><td>-0.000003</td><td>-0.000647</td><td>0.00097</td><td>0.001778</td><td>-0.000485</td><td>null</td><td>null</td><td>null</td><td>null</td><td>null</td><td>null</td><td>null</td><td>null</td><td>null</td><td>null</td><td>null</td><td>null</td><td>null</td><td>null</td><td>null</td><td>null</td><td>null</td><td>null</td><td>null</td><td>null</td></tr><tr><td>&hellip;</td><td>&hellip;</td><td>&hellip;</td><td>&hellip;</td><td>&hellip;</td><td>&hellip;</td><td>&hellip;</td><td>&hellip;</td><td>&hellip;</td><td>&hellip;</td><td>&hellip;</td><td>&hellip;</td><td>&hellip;</td><td>&hellip;</td><td>&hellip;</td><td>&hellip;</td><td>&hellip;</td><td>&hellip;</td><td>&hellip;</td><td>&hellip;</td><td>&hellip;</td><td>&hellip;</td><td>&hellip;</td><td>&hellip;</td><td>&hellip;</td><td>&hellip;</td><td>&hellip;</td><td>&hellip;</td><td>&hellip;</td><td>&hellip;</td><td>&hellip;</td><td>&hellip;</td><td>&hellip;</td><td>&hellip;</td><td>&hellip;</td><td>&hellip;</td><td>&hellip;</td><td>&hellip;</td><td>&hellip;</td><td>&hellip;</td><td>&hellip;</td><td>&hellip;</td><td>&hellip;</td><td>&hellip;</td><td>&hellip;</td><td>&hellip;</td><td>&hellip;</td><td>&hellip;</td><td>&hellip;</td><td>&hellip;</td><td>&hellip;</td><td>&hellip;</td><td>&hellip;</td><td>&hellip;</td><td>&hellip;</td><td>&hellip;</td></tr><tr><td>&quot;ZIL&quot;</td><td>2025-10-26</td><td>2025-10-27 00:00:00</td><td>&quot;USDT&quot;</td><td>0.00817</td><td>0.00817</td><td>0.00814</td><td>0.00815</td><td>275478.2</td><td>22</td><td>2025-10-26 23:59:47.181376</td><td>10601.4</td><td>264876.8</td><td>0.008167</td><td>0.008155</td><td>0.008155</td><td>-0.003667</td><td>0.008663</td><td>0.01875</td><td>-0.004884</td><td>0.001229</td><td>-0.003667</td><td>0.007417</td><td>-0.001225</td><td>-0.004884</td><td>0.011884</td><td>-0.002448</td><td>0.004932</td><td>null</td><td>0.0</td><td>0.0</td><td>0.0</td><td>null</td><td>0.0</td><td>0.0</td><td>0.0</td><td>2025-10-25</td><td>2025-10-25 22:59:00.557429</td><td>270439.226412</td><td>520.037716</td><td>-0.05143</td><td>3346</td><td>5.2521e6</td><td>2291.753007</td><td>-0.056588</td><td>48429</td><td>0.001034</td><td>0.036826</td><td>1006</td><td>-0.002537</td><td>0.095923</td><td>4318</td><td>0.197248</td><td>0.259174</td><td>0.176606</td><td>0.227064</td></tr><tr><td>&quot;ZK&quot;</td><td>2025-10-26</td><td>2025-10-27 00:00:00</td><td>&quot;USDT&quot;</td><td>0.03394</td><td>0.03394</td><td>0.03381</td><td>0.03386</td><td>569801.9</td><td>277</td><td>2025-10-26 23:59:57.575669</td><td>192949.8</td><td>376852.1</td><td>0.033868</td><td>0.033876</td><td>0.033873</td><td>-0.002018</td><td>0.011048</td><td>0.042488</td><td>-0.009362</td><td>0.001479</td><td>-0.005679</td><td>0.010143</td><td>0.001479</td><td>-0.007111</td><td>0.019856</td><td>0.000817</td><td>0.022961</td><td>null</td><td>0.0</td><td>0.0</td><td>0.0</td><td>null</td><td>0.0</td><td>0.0</td><td>0.0</td><td>2025-10-25</td><td>2025-10-25 22:59:56.311487</td><td>2.5689e6</td><td>1602.77598</td><td>-0.195551</td><td>34801</td><td>2.2556e7</td><td>4749.344816</td><td>-0.02946</td><td>370843</td><td>-0.013098</td><td>0.047775</td><td>1008</td><td>-0.001643</td><td>0.130784</td><td>4320</td><td>0.715596</td><td>0.649083</td><td>0.522936</td><td>0.522936</td></tr><tr><td>&quot;ZKC&quot;</td><td>2025-10-26</td><td>2025-10-27 00:00:00</td><td>&quot;USDT&quot;</td><td>0.2822</td><td>0.2835</td><td>0.2797</td><td>0.2804</td><td>693852.0</td><td>736</td><td>2025-10-26 23:59:57.928032</td><td>303224.4</td><td>390627.6</td><td>0.280813</td><td>0.280934</td><td>0.280881</td><td>-0.005724</td><td>0.032401</td><td>-0.009259</td><td>0.015206</td><td>0.000648</td><td>0.004658</td><td>0.028977</td><td>0.002335</td><td>-0.000713</td><td>0.035262</td><td>-0.003554</td><td>0.039674</td><td>null</td><td>0.0</td><td>0.0</td><td>0.0</td><td>null</td><td>0.0</td><td>0.0</td><td>0.0</td><td>2025-10-25</td><td>2025-10-25 22:59:34.905632</td><td>2.9469e7</td><td>5428.514357</td><td>0.045221</td><td>183142</td><td>8.7094e7</td><td>9332.409854</td><td>0.027025</td><td>603503</td><td>0.020618</td><td>0.095702</td><td>1008</td><td>-0.010035</td><td>0.146932</td><td>4320</td><td>0.951835</td><td>0.848624</td><td>0.942661</td><td>0.651376</td></tr><tr><td>&quot;ZRO&quot;</td><td>2025-10-26</td><td>2025-10-27 00:00:00</td><td>&quot;USDT&quot;</td><td>1.76</td><td>1.761</td><td>1.756</td><td>1.76</td><td>8930.1</td><td>194</td><td>2025-10-26 23:59:51.772326</td><td>5604.51</td><td>3325.59</td><td>1.758666</td><td>1.758942</td><td>1.758769</td><td>-1.2616e-16</td><td>-0.000568</td><td>0.022067</td><td>-0.003962</td><td>0.000569</td><td>-0.002268</td><td>0.00849</td><td>0.001138</td><td>-0.001702</td><td>0.008018</td><td>0.001707</td><td>0.004747</td><td>null</td><td>0.0</td><td>0.0</td><td>0.0</td><td>null</td><td>0.0</td><td>0.0</td><td>0.0</td><td>2025-10-25</td><td>2025-10-25 22:59:39.395200</td><td>1.8685e6</td><td>1366.942356</td><td>0.022491</td><td>20204</td><td>3.0424e7</td><td>5515.766088</td><td>0.018846</td><td>281127</td><td>0.00326</td><td>0.046854</td><td>1008</td><td>0.00102</td><td>0.115416</td><td>4320</td><td>0.633028</td><td>0.720183</td><td>0.497706</td><td>0.389908</td></tr><tr><td>&quot;ZRX&quot;</td><td>2025-10-26</td><td>2025-10-27 00:00:00</td><td>&quot;USDT&quot;</td><td>0.2005</td><td>0.2007</td><td>0.1999</td><td>0.2002</td><td>85014.0</td><td>101</td><td>2025-10-26 23:59:44.676149</td><td>53631.0</td><td>31383.0</td><td>0.200178</td><td>0.20039</td><td>0.200256</td><td>-0.00152</td><td>0.009581</td><td>0.017794</td><td>-0.005464</td><td>0.001</td><td>-0.003484</td><td>0.010601</td><td>0.00096</td><td>-0.003484</td><td>0.014698</td><td>0.0005</td><td>0.007549</td><td>null</td><td>0.0</td><td>0.0</td><td>0.0</td><td>null</td><td>0.0</td><td>0.0</td><td>0.0</td><td>2025-10-25</td><td>2025-10-25 22:59:59.576702</td><td>2.0236e6</td><td>1422.53589</td><td>-0.039378</td><td>5165</td><td>1.4506e7</td><td>3808.695005</td><td>-0.020455</td><td>40135</td><td>0.00003</td><td>0.036935</td><td>1008</td><td>0.000088</td><td>0.09211</td><td>4320</td><td>0.667431</td><td>0.550459</td><td>0.181193</td><td>0.201835</td></tr></tbody></table></div>"
      ],
      "text/plain": [
       "shape: (73_397_651, 56)\n",
       "┌─────────┬────────────┬───────────┬───────────┬───┬───────────┬───────────┬───────────┬───────────┐\n",
       "│ symbol  ┆ date       ┆ time      ┆ peg_symbo ┆ … ┆ liquidity ┆ liquidity ┆ daily_vol ┆ daily_vol │\n",
       "│ ---     ┆ ---        ┆ ---       ┆ l         ┆   ┆ _1d_q     ┆ _7d_q     ┆ _7d_lookb ┆ _30d_look │\n",
       "│ enum    ┆ date       ┆ datetime[ ┆ ---       ┆   ┆ ---       ┆ ---       ┆ ack_q     ┆ back_q    │\n",
       "│         ┆            ┆ μs]       ┆ str       ┆   ┆ f64       ┆ f64       ┆ ---       ┆ ---       │\n",
       "│         ┆            ┆           ┆           ┆   ┆           ┆           ┆ f64       ┆ f64       │\n",
       "╞═════════╪════════════╪═══════════╪═══════════╪═══╪═══════════╪═══════════╪═══════════╪═══════════╡\n",
       "│ 1INCH   ┆ 2022-01-01 ┆ 2022-01-0 ┆ USDT      ┆ … ┆ null      ┆ null      ┆ null      ┆ null      │\n",
       "│         ┆            ┆ 1         ┆           ┆   ┆           ┆           ┆           ┆           │\n",
       "│         ┆            ┆ 00:10:00  ┆           ┆   ┆           ┆           ┆           ┆           │\n",
       "│ AAVE    ┆ 2022-01-01 ┆ 2022-01-0 ┆ USDT      ┆ … ┆ null      ┆ null      ┆ null      ┆ null      │\n",
       "│         ┆            ┆ 1         ┆           ┆   ┆           ┆           ┆           ┆           │\n",
       "│         ┆            ┆ 00:10:00  ┆           ┆   ┆           ┆           ┆           ┆           │\n",
       "│ ACM     ┆ 2022-01-01 ┆ 2022-01-0 ┆ USDT      ┆ … ┆ null      ┆ null      ┆ null      ┆ null      │\n",
       "│         ┆            ┆ 1         ┆           ┆   ┆           ┆           ┆           ┆           │\n",
       "│         ┆            ┆ 00:10:00  ┆           ┆   ┆           ┆           ┆           ┆           │\n",
       "│ ADA     ┆ 2022-01-01 ┆ 2022-01-0 ┆ USDT      ┆ … ┆ null      ┆ null      ┆ null      ┆ null      │\n",
       "│         ┆            ┆ 1         ┆           ┆   ┆           ┆           ┆           ┆           │\n",
       "│         ┆            ┆ 00:10:00  ┆           ┆   ┆           ┆           ┆           ┆           │\n",
       "│ ADADOWN ┆ 2022-01-01 ┆ 2022-01-0 ┆ USDT      ┆ … ┆ null      ┆ null      ┆ null      ┆ null      │\n",
       "│         ┆            ┆ 1         ┆           ┆   ┆           ┆           ┆           ┆           │\n",
       "│         ┆            ┆ 00:10:00  ┆           ┆   ┆           ┆           ┆           ┆           │\n",
       "│ …       ┆ …          ┆ …         ┆ …         ┆ … ┆ …         ┆ …         ┆ …         ┆ …         │\n",
       "│ ZIL     ┆ 2025-10-26 ┆ 2025-10-2 ┆ USDT      ┆ … ┆ 0.197248  ┆ 0.259174  ┆ 0.176606  ┆ 0.227064  │\n",
       "│         ┆            ┆ 7         ┆           ┆   ┆           ┆           ┆           ┆           │\n",
       "│         ┆            ┆ 00:00:00  ┆           ┆   ┆           ┆           ┆           ┆           │\n",
       "│ ZK      ┆ 2025-10-26 ┆ 2025-10-2 ┆ USDT      ┆ … ┆ 0.715596  ┆ 0.649083  ┆ 0.522936  ┆ 0.522936  │\n",
       "│         ┆            ┆ 7         ┆           ┆   ┆           ┆           ┆           ┆           │\n",
       "│         ┆            ┆ 00:00:00  ┆           ┆   ┆           ┆           ┆           ┆           │\n",
       "│ ZKC     ┆ 2025-10-26 ┆ 2025-10-2 ┆ USDT      ┆ … ┆ 0.951835  ┆ 0.848624  ┆ 0.942661  ┆ 0.651376  │\n",
       "│         ┆            ┆ 7         ┆           ┆   ┆           ┆           ┆           ┆           │\n",
       "│         ┆            ┆ 00:00:00  ┆           ┆   ┆           ┆           ┆           ┆           │\n",
       "│ ZRO     ┆ 2025-10-26 ┆ 2025-10-2 ┆ USDT      ┆ … ┆ 0.633028  ┆ 0.720183  ┆ 0.497706  ┆ 0.389908  │\n",
       "│         ┆            ┆ 7         ┆           ┆   ┆           ┆           ┆           ┆           │\n",
       "│         ┆            ┆ 00:00:00  ┆           ┆   ┆           ┆           ┆           ┆           │\n",
       "│ ZRX     ┆ 2025-10-26 ┆ 2025-10-2 ┆ USDT      ┆ … ┆ 0.667431  ┆ 0.550459  ┆ 0.181193  ┆ 0.201835  │\n",
       "│         ┆            ┆ 7         ┆           ┆   ┆           ┆           ┆           ┆           │\n",
       "│         ┆            ┆ 00:00:00  ┆           ┆   ┆           ┆           ┆           ┆           │\n",
       "└─────────┴────────────┴───────────┴───────────┴───┴───────────┴───────────┴───────────┴───────────┘"
      ]
     },
     "execution_count": 4,
     "metadata": {},
     "output_type": "execute_result"
    }
   ],
   "source": [
    "brd = ms.binance.BinanceResearchDataset(\n",
    "    peg_symbol='USDT', dataset_type=ms.DatasetType.BinanceSpotTrades, \n",
    "    backend_grid_interval=Timedelta(seconds=5), \n",
    "    index_grid_interval=Timedelta(minutes=10), \n",
    ")\n",
    "brd.metadata_engine.compute()\n",
    "brd.compute()\n",
    "brd.lazyframe().sort('time', 'symbol').collect()"
   ]
  },
  {
   "cell_type": "code",
   "execution_count": null,
   "id": "735488f5",
   "metadata": {},
   "outputs": [
    {
     "name": "stderr",
     "output_type": "stream",
     "text": [
      "WARNING:mnemosyne.dataset.interface:No validation cache-file exists at /data/mnemosyne/cache/USDT_BinanceUmPerpTrades_index=PT10M_backend=PT5S/metadata_backend/validated_partitions.json\n",
      "Check whether /data/mnemosyne/cache/USDT_BinanceUmPerpTrades_index=PT10M_backend=PT5S/metadata_backend exists.\n",
      "WARNING:mnemosyne.dataset.interface:No validation cache-file exists at /data/mnemosyne/cache/USDT_BinanceUmPerpTrades_index=PT10M_backend=PT5S/validated_partitions.json\n",
      "Check whether /data/mnemosyne/cache/USDT_BinanceUmPerpTrades_index=PT10M_backend=PT5S exists.\n",
      "INFO:mnemosyne.dataset.interface:Computing 1395 partitions in 47 batches (30 days/batch) with 1 workers\n"
     ]
    },
    {
     "data": {
      "application/vnd.jupyter.widget-view+json": {
       "model_id": "151728092f3248fd9879ecbf34dcbecc",
       "version_major": 2,
       "version_minor": 0
      },
      "text/plain": [
       "  0%|          | 0/47 [00:00<?, ?it/s]"
      ]
     },
     "metadata": {},
     "output_type": "display_data"
    },
    {
     "name": "stderr",
     "output_type": "stream",
     "text": [
      "WARNING:mnemosyne.dataset.interface:No validation cache-file exists at /data/mnemosyne/cache/USDT_BinanceUmPerpTrades_index=PT10M_backend=PT5S/metadata_backend/validated_partitions.json\n",
      "Check whether /data/mnemosyne/cache/USDT_BinanceUmPerpTrades_index=PT10M_backend=PT5S/metadata_backend exists.\n",
      "/data/midas/mnemosyne/python/mnemosyne/dataset/interface.py:489: UserWarning: Sortedness of columns cannot be checked when 'by' groups provided\n",
      "  lf.sink_parquet(\n",
      "WARNING:mnemosyne.dataset.interface:No validation cache-file exists at /data/mnemosyne/cache/USDT_BinanceUmPerpTrades_index=PT10M_backend=PT5S/metadata_backend/validated_partitions.json\n",
      "Check whether /data/mnemosyne/cache/USDT_BinanceUmPerpTrades_index=PT10M_backend=PT5S/metadata_backend exists.\n",
      "WARNING:mnemosyne.dataset.interface:No validation cache-file exists at /data/mnemosyne/cache/USDT_BinanceUmPerpTrades_index=PT10M_backend=PT5S/metadata_backend/validated_partitions.json\n",
      "Check whether /data/mnemosyne/cache/USDT_BinanceUmPerpTrades_index=PT10M_backend=PT5S/metadata_backend exists.\n",
      "WARNING:mnemosyne.dataset.interface:No validation cache-file exists at /data/mnemosyne/cache/USDT_BinanceUmPerpTrades_index=PT10M_backend=PT5S/metadata_backend/validated_partitions.json\n",
      "Check whether /data/mnemosyne/cache/USDT_BinanceUmPerpTrades_index=PT10M_backend=PT5S/metadata_backend exists.\n",
      "WARNING:mnemosyne.dataset.interface:No validation cache-file exists at /data/mnemosyne/cache/USDT_BinanceUmPerpTrades_index=PT10M_backend=PT5S/metadata_backend/validated_partitions.json\n",
      "Check whether /data/mnemosyne/cache/USDT_BinanceUmPerpTrades_index=PT10M_backend=PT5S/metadata_backend exists.\n",
      "WARNING:mnemosyne.dataset.interface:No validation cache-file exists at /data/mnemosyne/cache/USDT_BinanceUmPerpTrades_index=PT10M_backend=PT5S/metadata_backend/validated_partitions.json\n",
      "Check whether /data/mnemosyne/cache/USDT_BinanceUmPerpTrades_index=PT10M_backend=PT5S/metadata_backend exists.\n",
      "WARNING:mnemosyne.dataset.interface:No validation cache-file exists at /data/mnemosyne/cache/USDT_BinanceUmPerpTrades_index=PT10M_backend=PT5S/metadata_backend/validated_partitions.json\n",
      "Check whether /data/mnemosyne/cache/USDT_BinanceUmPerpTrades_index=PT10M_backend=PT5S/metadata_backend exists.\n"
     ]
    }
   ],
   "source": [
    "brd_futures = ms.binance.BinanceResearchDataset(\n",
    "    peg_symbol='USDT', dataset_type=ms.DatasetType.BinanceUmPerpTrades, \n",
    "    backend_grid_interval=Timedelta(seconds=5), \n",
    "    index_grid_interval=Timedelta(minutes=10), \n",
    ")\n",
    "brd_futures.metadata_engine.compute()\n",
    "brd_futures.compute()"
   ]
  },
  {
   "cell_type": "code",
   "execution_count": null,
   "id": "3065bbb8",
   "metadata": {},
   "outputs": [],
   "source": [
    "# Todo:\n",
    "# 1. Figure out why initialization is slow\n",
    "# 2. Figure out why validation is so slow\n",
    "# 2. Figure out proper dependency & access pattern"
   ]
  }
 ],
 "metadata": {
  "kernelspec": {
   "display_name": ".venv",
   "language": "python",
   "name": "python3"
  },
  "language_info": {
   "codemirror_mode": {
    "name": "ipython",
    "version": 3
   },
   "file_extension": ".py",
   "mimetype": "text/x-python",
   "name": "python",
   "nbconvert_exporter": "python",
   "pygments_lexer": "ipython3",
   "version": "3.12.3"
  }
 },
 "nbformat": 4,
 "nbformat_minor": 5
}
