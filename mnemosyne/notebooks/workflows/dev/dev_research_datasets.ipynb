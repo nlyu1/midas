{
 "cells": [
  {
   "cell_type": "code",
   "execution_count": 1,
   "id": "a7dc4e3e",
   "metadata": {},
   "outputs": [],
   "source": [
    "import mnemosyne as ms\n",
    "import polars as pl\n",
    "from dataclasses import dataclass, field\n",
    "from timedelta_isoformat import timedelta as Timedelta\n",
    "from mnemosyne.engines import ReturnsEngine, MetadataEngine\n",
    "from mnemosyne.dataset import ByDateDataset\n",
    "\n",
    "from pathlib import Path\n",
    "from datetime import datetime as Datetime, date as Date\n",
    "from timedelta_isoformat import timedelta as Timedelta"
   ]
  },
  {
   "cell_type": "code",
   "execution_count": null,
   "id": "8ab1befa",
   "metadata": {},
   "outputs": [],
   "source": [
    "brd = ms.binance.BinanceResearchDataset(\n",
    "    peg_symbol='USDT', dataset_type=ms.DatasetType.BinanceSpotTrades, \n",
    "    backend_grid_interval=Timedelta(seconds=5), \n",
    "    index_grid_interval=Timedelta(minutes=10)\n",
    ")"
   ]
  },
  {
   "cell_type": "code",
   "execution_count": 3,
   "id": "d7adb23d",
   "metadata": {},
   "outputs": [],
   "source": [
    "brd.metadata_engine.compute()"
   ]
  },
  {
   "cell_type": "code",
   "execution_count": null,
   "id": "735488f5",
   "metadata": {},
   "outputs": [
    {
     "name": "stderr",
     "output_type": "stream",
     "text": [
      "INFO:mnemosyne.dataset.interface:Computing 1395 partitions in 47 batches (30 days/batch) with 1 workers\n"
     ]
    },
    {
     "data": {
      "application/vnd.jupyter.widget-view+json": {
       "model_id": "8b7122107e7c4873a1e0600c068b53e7",
       "version_major": 2,
       "version_minor": 0
      },
      "text/plain": [
       "  0%|          | 0/47 [00:00<?, ?it/s]"
      ]
     },
     "metadata": {},
     "output_type": "display_data"
    },
    {
     "name": "stderr",
     "output_type": "stream",
     "text": [
      "/data/midas/mnemosyne/python/mnemosyne/dataset/interface.py:489: UserWarning: Sortedness of columns cannot be checked when 'by' groups provided\n",
      "  lf.sink_parquet(\n"
     ]
    }
   ],
   "source": [
    "brd.compute()"
   ]
  },
  {
   "cell_type": "code",
   "execution_count": null,
   "id": "3065bbb8",
   "metadata": {},
   "outputs": [],
   "source": [
    "# Todo:\n",
    "# 1. Figure out why initialization is slow\n",
    "# 2. Figure out why validation is so slow\n",
    "# 2. Figure out proper dependency & access pattern"
   ]
  }
 ],
 "metadata": {
  "kernelspec": {
   "display_name": ".venv",
   "language": "python",
   "name": "python3"
  },
  "language_info": {
   "codemirror_mode": {
    "name": "ipython",
    "version": 3
   },
   "file_extension": ".py",
   "mimetype": "text/x-python",
   "name": "python",
   "nbconvert_exporter": "python",
   "pygments_lexer": "ipython3",
   "version": "3.12.3"
  }
 },
 "nbformat": 4,
 "nbformat_minor": 5
}
