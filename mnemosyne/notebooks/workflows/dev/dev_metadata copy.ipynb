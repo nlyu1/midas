{
 "cells": [
  {
   "cell_type": "code",
   "execution_count": 28,
   "id": "f7ca146d",
   "metadata": {},
   "outputs": [],
   "source": [
    "import mnemosyne as ms\n",
    "from mnemosyne.engines import ReturnsEngine \n",
    "from datetime import datetime as Datetime, date as Date \n",
    "import polars as pl\n",
    "from pathlib import Path\n",
    "from tqdm.auto import tqdm \n",
    "from mnemosyne.dataset import ByDateDataset"
   ]
  },
  {
   "cell_type": "code",
   "execution_count": null,
   "id": "ac98cbac",
   "metadata": {},
   "outputs": [],
   "source": [
    "dataset_type, backend_grid_interval, peg_symbol = (ms.DatasetType.BinanceSpotTrades, '5s', 'USDC')\n",
    "returns_engine_kwargs = {}\n",
    "database_exprs = { # Backend database needs to be time-sorted!!\n",
    "    'volume': pl.col('volume'),\n",
    "    'vwap_price': pl.col('vwap_price'), \n",
    "    'time': pl.col('last_time'), # timestamp by which to merge in the database\n",
    "    'symbol': pl.col('symbol') # join_asof partition \n",
    "}\n",
    "\n",
    "returns_query_kwargs = {\n",
    "    'filter_by_query_dates': True, \n",
    "}\n",
    "\n",
    "universe_dataset = ms.binance.BinanceLastTradesGrid(\n",
    "        peg_symbol=peg_symbol, \n",
    "        grid_interval=backend_grid_interval, \n",
    "        dataset_type=dataset_type, \n",
    "        parquet_names='*.parquet',\n",
    "        num_workers=2, \n",
    "    )\n",
    "backend_db = universe_dataset.lazyframe()\n",
    "returns_engine = ReturnsEngine(backend_db, **returns_engine_kwargs)\n",
    "\n",
    "returns_interval = '10m'\n",
    "index_interval = '1d'\n",
    "start_date = Date(2025, 1, 1)\n",
    "end_date = Date(2025, 2, 1)\n",
    "\n",
    "# Filter to keep things manageable for now\n",
    "backend_universe_df = universe_dataset.universe().filter(pl.col('date') >= Date(2025, 10, 10))\n",
    "backend_universe_df = universe_dataset.cast_symbol_col_to_enum(backend_universe_df)\n"
   ]
  },
  {
   "cell_type": "code",
   "execution_count": null,
   "id": "06bd2e8a",
   "metadata": {},
   "outputs": [
    {
     "name": "stderr",
     "output_type": "stream",
     "text": [
      "sys:1: UserWarning: Sortedness of columns cannot be checked when 'by' groups provided\n"
     ]
    },
    {
     "data": {
      "text/html": [
       "<div><style>\n",
       ".dataframe > thead > tr,\n",
       ".dataframe > tbody > tr {\n",
       "  text-align: right;\n",
       "  white-space: pre-wrap;\n",
       "}\n",
       "</style>\n",
       "<small>shape: (517_680, 4)</small><table border=\"1\" class=\"dataframe\"><thead><tr><th>symbol</th><th>date</th><th>time</th><th>return</th></tr><tr><td>enum</td><td>date</td><td>datetime[μs]</td><td>f64</td></tr></thead><tbody><tr><td>&quot;0G&quot;</td><td>2025-10-10</td><td>2025-10-10 00:00:00</td><td>null</td></tr><tr><td>&quot;0G&quot;</td><td>2025-10-10</td><td>2025-10-10 00:10:00</td><td>-0.005006</td></tr><tr><td>&quot;0G&quot;</td><td>2025-10-10</td><td>2025-10-10 00:20:00</td><td>0.004643</td></tr><tr><td>&quot;0G&quot;</td><td>2025-10-10</td><td>2025-10-10 00:30:00</td><td>-0.003466</td></tr><tr><td>&quot;0G&quot;</td><td>2025-10-10</td><td>2025-10-10 00:40:00</td><td>-0.004252</td></tr><tr><td>&hellip;</td><td>&hellip;</td><td>&hellip;</td><td>&hellip;</td></tr><tr><td>&quot;ZRO&quot;</td><td>2025-10-23</td><td>2025-10-23 23:10:00</td><td>-0.001755</td></tr><tr><td>&quot;ZRO&quot;</td><td>2025-10-23</td><td>2025-10-23 23:20:00</td><td>-0.000586</td></tr><tr><td>&quot;ZRO&quot;</td><td>2025-10-23</td><td>2025-10-23 23:30:00</td><td>-0.000587</td></tr><tr><td>&quot;ZRO&quot;</td><td>2025-10-23</td><td>2025-10-23 23:40:00</td><td>0.002347</td></tr><tr><td>&quot;ZRO&quot;</td><td>2025-10-23</td><td>2025-10-23 23:50:00</td><td>0.001756</td></tr></tbody></table></div>"
      ],
      "text/plain": [
       "shape: (517_680, 4)\n",
       "┌────────┬────────────┬─────────────────────┬───────────┐\n",
       "│ symbol ┆ date       ┆ time                ┆ return    │\n",
       "│ ---    ┆ ---        ┆ ---                 ┆ ---       │\n",
       "│ enum   ┆ date       ┆ datetime[μs]        ┆ f64       │\n",
       "╞════════╪════════════╪═════════════════════╪═══════════╡\n",
       "│ 0G     ┆ 2025-10-10 ┆ 2025-10-10 00:00:00 ┆ null      │\n",
       "│ 0G     ┆ 2025-10-10 ┆ 2025-10-10 00:10:00 ┆ -0.005006 │\n",
       "│ 0G     ┆ 2025-10-10 ┆ 2025-10-10 00:20:00 ┆ 0.004643  │\n",
       "│ 0G     ┆ 2025-10-10 ┆ 2025-10-10 00:30:00 ┆ -0.003466 │\n",
       "│ 0G     ┆ 2025-10-10 ┆ 2025-10-10 00:40:00 ┆ -0.004252 │\n",
       "│ …      ┆ …          ┆ …                   ┆ …         │\n",
       "│ ZRO    ┆ 2025-10-23 ┆ 2025-10-23 23:10:00 ┆ -0.001755 │\n",
       "│ ZRO    ┆ 2025-10-23 ┆ 2025-10-23 23:20:00 ┆ -0.000586 │\n",
       "│ ZRO    ┆ 2025-10-23 ┆ 2025-10-23 23:30:00 ┆ -0.000587 │\n",
       "│ ZRO    ┆ 2025-10-23 ┆ 2025-10-23 23:40:00 ┆ 0.002347  │\n",
       "│ ZRO    ┆ 2025-10-23 ┆ 2025-10-23 23:50:00 ┆ 0.001756  │\n",
       "└────────┴────────────┴─────────────────────┴───────────┘"
      ]
     },
     "execution_count": 39,
     "metadata": {},
     "output_type": "execute_result"
    }
   ],
   "source": [
    "relevant_backend_db = backend_db.filter(pl.col('date') >= Date(2025, 10, 8))\n",
    "\n",
    "# [symbol, date, time] with `returns_interval` interspaced \"time\" \n",
    "returns_query_df = backend_universe_df.with_columns(\n",
    "        time=pl.datetime_ranges(\n",
    "            pl.col('date'), \n",
    "            pl.col('date').dt.offset_by('1d'),\n",
    "            interval=returns_interval,\n",
    "            closed='left'\n",
    "        )\n",
    "    ).explode('time')\n",
    "\n",
    "index_df = backend_universe_df.with_columns(\n",
    "        time=pl.datetime_ranges(\n",
    "            pl.col('date'), \n",
    "            pl.col('date').dt.offset_by('1d'),\n",
    "            interval=index_interval,\n",
    "            closed='left'\n",
    "        )\n",
    "    ).explode('time')\n",
    "\n",
    "index_with_returns = returns_engine.query(\n",
    "    returns_query_df.lazy(), \n",
    "    start_time_expr=pl.col('time'), \n",
    "    mark_duration=returns_interval, \n",
    "    tick_lag_tolerance=returns_interval,\n",
    "    append_lag=False, **returns_query_kwargs\n",
    ").sort('symbol', 'time').collect()\n",
    "\n",
    "index_with_returns"
   ]
  },
  {
   "cell_type": "code",
   "execution_count": 76,
   "id": "c35df0d9",
   "metadata": {},
   "outputs": [
    {
     "data": {
      "text/html": [
       "<div><style>\n",
       ".dataframe > thead > tr,\n",
       ".dataframe > tbody > tr {\n",
       "  text-align: right;\n",
       "  white-space: pre-wrap;\n",
       "}\n",
       "</style>\n",
       "<small>shape: (4_118, 7)</small><table border=\"1\" class=\"dataframe\"><thead><tr><th>symbol</th><th>grid_timestamp</th><th>liquidity</th><th>sqrtliq</th><th>excess_buy_ratio</th><th>trade_count</th><th>last_event_time</th></tr><tr><td>enum</td><td>datetime[μs]</td><td>f64</td><td>f64</td><td>f64</td><td>u64</td><td>datetime[μs]</td></tr></thead><tbody><tr><td>&quot;0G&quot;</td><td>2025-10-09 00:00:00</td><td>1.3311e6</td><td>1153.73357</td><td>-0.0413</td><td>13460</td><td>2025-10-08 23:59:50</td></tr><tr><td>&quot;0G&quot;</td><td>2025-10-10 00:00:00</td><td>2.6487e6</td><td>1627.492467</td><td>-0.033652</td><td>16628</td><td>2025-10-09 23:59:20</td></tr><tr><td>&quot;0G&quot;</td><td>2025-10-11 00:00:00</td><td>4.9708e6</td><td>2229.540186</td><td>-0.02316</td><td>29980</td><td>2025-10-10 23:59:50</td></tr><tr><td>&quot;0G&quot;</td><td>2025-10-12 00:00:00</td><td>2.8867e6</td><td>1699.024373</td><td>-0.012222</td><td>14318</td><td>2025-10-11 23:59:15</td></tr><tr><td>&quot;0G&quot;</td><td>2025-10-13 00:00:00</td><td>4.7497e6</td><td>2179.39064</td><td>0.024975</td><td>13897</td><td>2025-10-12 23:59:40</td></tr><tr><td>&hellip;</td><td>&hellip;</td><td>&hellip;</td><td>&hellip;</td><td>&hellip;</td><td>&hellip;</td><td>&hellip;</td></tr><tr><td>&quot;ZRO&quot;</td><td>2025-10-20 00:00:00</td><td>764441.93692</td><td>874.323703</td><td>0.020932</td><td>5336</td><td>2025-10-19 23:55:05</td></tr><tr><td>&quot;ZRO&quot;</td><td>2025-10-21 00:00:00</td><td>597768.82142</td><td>773.155108</td><td>0.054337</td><td>4840</td><td>2025-10-20 23:54:40</td></tr><tr><td>&quot;ZRO&quot;</td><td>2025-10-22 00:00:00</td><td>1.0173e6</td><td>1008.619844</td><td>0.038815</td><td>7446</td><td>2025-10-21 23:59:45</td></tr><tr><td>&quot;ZRO&quot;</td><td>2025-10-23 00:00:00</td><td>696259.88789</td><td>834.421888</td><td>0.050314</td><td>5330</td><td>2025-10-22 23:57:35</td></tr><tr><td>&quot;ZRO&quot;</td><td>2025-10-24 00:00:00</td><td>325173.26754</td><td>570.239658</td><td>-0.010414</td><td>1754</td><td>2025-10-23 23:59:05</td></tr></tbody></table></div>"
      ],
      "text/plain": [
       "shape: (4_118, 7)\n",
       "┌────────┬───────────────┬──────────────┬─────────────┬───────────────┬─────────────┬──────────────┐\n",
       "│ symbol ┆ grid_timestam ┆ liquidity    ┆ sqrtliq     ┆ excess_buy_ra ┆ trade_count ┆ last_event_t │\n",
       "│ ---    ┆ p             ┆ ---          ┆ ---         ┆ tio           ┆ ---         ┆ ime          │\n",
       "│ enum   ┆ ---           ┆ f64          ┆ f64         ┆ ---           ┆ u64         ┆ ---          │\n",
       "│        ┆ datetime[μs]  ┆              ┆             ┆ f64           ┆             ┆ datetime[μs] │\n",
       "╞════════╪═══════════════╪══════════════╪═════════════╪═══════════════╪═════════════╪══════════════╡\n",
       "│ 0G     ┆ 2025-10-09    ┆ 1.3311e6     ┆ 1153.73357  ┆ -0.0413       ┆ 13460       ┆ 2025-10-08   │\n",
       "│        ┆ 00:00:00      ┆              ┆             ┆               ┆             ┆ 23:59:50     │\n",
       "│ 0G     ┆ 2025-10-10    ┆ 2.6487e6     ┆ 1627.492467 ┆ -0.033652     ┆ 16628       ┆ 2025-10-09   │\n",
       "│        ┆ 00:00:00      ┆              ┆             ┆               ┆             ┆ 23:59:20     │\n",
       "│ 0G     ┆ 2025-10-11    ┆ 4.9708e6     ┆ 2229.540186 ┆ -0.02316      ┆ 29980       ┆ 2025-10-10   │\n",
       "│        ┆ 00:00:00      ┆              ┆             ┆               ┆             ┆ 23:59:50     │\n",
       "│ 0G     ┆ 2025-10-12    ┆ 2.8867e6     ┆ 1699.024373 ┆ -0.012222     ┆ 14318       ┆ 2025-10-11   │\n",
       "│        ┆ 00:00:00      ┆              ┆             ┆               ┆             ┆ 23:59:15     │\n",
       "│ 0G     ┆ 2025-10-13    ┆ 4.7497e6     ┆ 2179.39064  ┆ 0.024975      ┆ 13897       ┆ 2025-10-12   │\n",
       "│        ┆ 00:00:00      ┆              ┆             ┆               ┆             ┆ 23:59:40     │\n",
       "│ …      ┆ …             ┆ …            ┆ …           ┆ …             ┆ …           ┆ …            │\n",
       "│ ZRO    ┆ 2025-10-20    ┆ 764441.93692 ┆ 874.323703  ┆ 0.020932      ┆ 5336        ┆ 2025-10-19   │\n",
       "│        ┆ 00:00:00      ┆              ┆             ┆               ┆             ┆ 23:55:05     │\n",
       "│ ZRO    ┆ 2025-10-21    ┆ 597768.82142 ┆ 773.155108  ┆ 0.054337      ┆ 4840        ┆ 2025-10-20   │\n",
       "│        ┆ 00:00:00      ┆              ┆             ┆               ┆             ┆ 23:54:40     │\n",
       "│ ZRO    ┆ 2025-10-22    ┆ 1.0173e6     ┆ 1008.619844 ┆ 0.038815      ┆ 7446        ┆ 2025-10-21   │\n",
       "│        ┆ 00:00:00      ┆              ┆             ┆               ┆             ┆ 23:59:45     │\n",
       "│ ZRO    ┆ 2025-10-23    ┆ 696259.88789 ┆ 834.421888  ┆ 0.050314      ┆ 5330        ┆ 2025-10-22   │\n",
       "│        ┆ 00:00:00      ┆              ┆             ┆               ┆             ┆ 23:57:35     │\n",
       "│ ZRO    ┆ 2025-10-24    ┆ 325173.26754 ┆ 570.239658  ┆ -0.010414     ┆ 1754        ┆ 2025-10-23   │\n",
       "│        ┆ 00:00:00      ┆              ┆             ┆               ┆             ┆ 23:59:05     │\n",
       "└────────┴───────────────┴──────────────┴─────────────┴───────────────┴─────────────┴──────────────┘"
      ]
     },
     "execution_count": 76,
     "metadata": {},
     "output_type": "execute_result"
    }
   ],
   "source": [
    "def metadata_by_symbol_index():\n",
    "    \"\"\"\n",
    "    This is applied on `index_interval` grids, pre-joining with returns.\n",
    "    Directly applied to backend_db, grouped by symbol and grid_timestamp\n",
    "    \"\"\"\n",
    "    liquidity = (pl.col('vwap_price') * pl.col('volume')).sum().alias('liquidity')\n",
    "    yield liquidity\n",
    "    yield liquidity.pow(0.5).alias('sqrtliq')\n",
    "    yield ((pl.col('taker_buy_volume') - pl.col('taker_sell_volume')).sum() / pl.col('volume').sum()).alias('excess_buy_ratio')\n",
    "    # Engineer buy_quote_fill_ratio, sell_quote_fill_ratio\n",
    "    yield pl.col('trade_count').sum().alias('trade_count')\n",
    "\n",
    "quantile_expand_metadata = ['liquidity', 'trade_count']\n",
    "\n",
    "# This is gridded by index_interval\n",
    "db_with_metadata = relevant_backend_db.with_columns(\n",
    "    grid_timestamp=pl.col('time').dt.truncate(index_interval).dt.offset_by(index_interval)\n",
    ").group_by('symbol', 'grid_timestamp').agg(\n",
    "    [*metadata_by_symbol_index(), database_exprs['time'].last().alias('last_event_time')]\n",
    ").sort('symbol', 'grid_timestamp').collect()\n",
    "db_with_metadata"
   ]
  },
  {
   "cell_type": "code",
   "execution_count": null,
   "id": "7a529832",
   "metadata": {},
   "outputs": [
    {
     "name": "stderr",
     "output_type": "stream",
     "text": [
      "/tmp/ipykernel_3549801/850112839.py:2: UserWarning: Sortedness of columns cannot be checked when 'by' groups provided\n",
      "  returns_with_index_grid_timestamp = index_with_returns.join_asof(\n"
     ]
    },
    {
     "data": {
      "text/html": [
       "<div><style>\n",
       ".dataframe > thead > tr,\n",
       ".dataframe > tbody > tr {\n",
       "  text-align: right;\n",
       "  white-space: pre-wrap;\n",
       "}\n",
       "</style>\n",
       "<small>shape: (3_589, 10)</small><table border=\"1\" class=\"dataframe\"><thead><tr><th>symbol</th><th>grid_timestamp</th><th>returns_drift</th><th>volatility</th><th>vol_ssize</th><th>liquidity</th><th>sqrtliq</th><th>excess_buy_ratio</th><th>trade_count</th><th>last_event_time</th></tr><tr><td>enum</td><td>datetime[μs]</td><td>f64</td><td>f64</td><td>u64</td><td>f64</td><td>f64</td><td>f64</td><td>u64</td><td>datetime[μs]</td></tr></thead><tbody><tr><td>&quot;0G&quot;</td><td>2025-10-10 00:00:00</td><td>-0.001066</td><td>0.021807</td><td>143</td><td>2.6487e6</td><td>1627.492467</td><td>-0.033652</td><td>16628</td><td>2025-10-09 23:59:20</td></tr><tr><td>&quot;0G&quot;</td><td>2025-10-11 00:00:00</td><td>0.000131</td><td>0.009138</td><td>144</td><td>4.9708e6</td><td>2229.540186</td><td>-0.02316</td><td>29980</td><td>2025-10-10 23:59:50</td></tr><tr><td>&quot;0G&quot;</td><td>2025-10-12 00:00:00</td><td>0.000361</td><td>0.006728</td><td>144</td><td>2.8867e6</td><td>1699.024373</td><td>-0.012222</td><td>14318</td><td>2025-10-11 23:59:15</td></tr><tr><td>&quot;0G&quot;</td><td>2025-10-13 00:00:00</td><td>0.000218</td><td>0.006485</td><td>144</td><td>4.7497e6</td><td>2179.39064</td><td>0.024975</td><td>13897</td><td>2025-10-12 23:59:40</td></tr><tr><td>&quot;0G&quot;</td><td>2025-10-14 00:00:00</td><td>-0.000464</td><td>0.006961</td><td>144</td><td>3.3068e6</td><td>1818.452166</td><td>-0.005451</td><td>12802</td><td>2025-10-13 23:58:55</td></tr><tr><td>&hellip;</td><td>&hellip;</td><td>&hellip;</td><td>&hellip;</td><td>&hellip;</td><td>&hellip;</td><td>&hellip;</td><td>&hellip;</td><td>&hellip;</td><td>&hellip;</td></tr><tr><td>&quot;ZRO&quot;</td><td>2025-10-19 00:00:00</td><td>1.6948e-7</td><td>0.004103</td><td>144</td><td>235095.13855</td><td>484.866104</td><td>-0.058784</td><td>2355</td><td>2025-10-18 23:56:25</td></tr><tr><td>&quot;ZRO&quot;</td><td>2025-10-20 00:00:00</td><td>0.000088</td><td>0.004275</td><td>140</td><td>764441.93692</td><td>874.323703</td><td>0.020932</td><td>5336</td><td>2025-10-19 23:55:05</td></tr><tr><td>&quot;ZRO&quot;</td><td>2025-10-21 00:00:00</td><td>-0.000274</td><td>0.005819</td><td>142</td><td>597768.82142</td><td>773.155108</td><td>0.054337</td><td>4840</td><td>2025-10-20 23:54:40</td></tr><tr><td>&quot;ZRO&quot;</td><td>2025-10-22 00:00:00</td><td>0.000006</td><td>0.004533</td><td>142</td><td>1.0173e6</td><td>1008.619844</td><td>0.038815</td><td>7446</td><td>2025-10-21 23:59:45</td></tr><tr><td>&quot;ZRO&quot;</td><td>2025-10-23 00:00:00</td><td>0.000125</td><td>0.003058</td><td>121</td><td>696259.88789</td><td>834.421888</td><td>0.050314</td><td>5330</td><td>2025-10-22 23:57:35</td></tr></tbody></table></div>"
      ],
      "text/plain": [
       "shape: (3_589, 10)\n",
       "┌────────┬────────────┬────────────┬───────────┬───┬───────────┬───────────┬───────────┬───────────┐\n",
       "│ symbol ┆ grid_times ┆ returns_dr ┆ volatilit ┆ … ┆ sqrtliq   ┆ excess_bu ┆ trade_cou ┆ last_even │\n",
       "│ ---    ┆ tamp       ┆ ift        ┆ y         ┆   ┆ ---       ┆ y_ratio   ┆ nt        ┆ t_time    │\n",
       "│ enum   ┆ ---        ┆ ---        ┆ ---       ┆   ┆ f64       ┆ ---       ┆ ---       ┆ ---       │\n",
       "│        ┆ datetime[μ ┆ f64        ┆ f64       ┆   ┆           ┆ f64       ┆ u64       ┆ datetime[ │\n",
       "│        ┆ s]         ┆            ┆           ┆   ┆           ┆           ┆           ┆ μs]       │\n",
       "╞════════╪════════════╪════════════╪═══════════╪═══╪═══════════╪═══════════╪═══════════╪═══════════╡\n",
       "│ 0G     ┆ 2025-10-10 ┆ -0.001066  ┆ 0.021807  ┆ … ┆ 1627.4924 ┆ -0.033652 ┆ 16628     ┆ 2025-10-0 │\n",
       "│        ┆ 00:00:00   ┆            ┆           ┆   ┆ 67        ┆           ┆           ┆ 9         │\n",
       "│        ┆            ┆            ┆           ┆   ┆           ┆           ┆           ┆ 23:59:20  │\n",
       "│ 0G     ┆ 2025-10-11 ┆ 0.000131   ┆ 0.009138  ┆ … ┆ 2229.5401 ┆ -0.02316  ┆ 29980     ┆ 2025-10-1 │\n",
       "│        ┆ 00:00:00   ┆            ┆           ┆   ┆ 86        ┆           ┆           ┆ 0         │\n",
       "│        ┆            ┆            ┆           ┆   ┆           ┆           ┆           ┆ 23:59:50  │\n",
       "│ 0G     ┆ 2025-10-12 ┆ 0.000361   ┆ 0.006728  ┆ … ┆ 1699.0243 ┆ -0.012222 ┆ 14318     ┆ 2025-10-1 │\n",
       "│        ┆ 00:00:00   ┆            ┆           ┆   ┆ 73        ┆           ┆           ┆ 1         │\n",
       "│        ┆            ┆            ┆           ┆   ┆           ┆           ┆           ┆ 23:59:15  │\n",
       "│ 0G     ┆ 2025-10-13 ┆ 0.000218   ┆ 0.006485  ┆ … ┆ 2179.3906 ┆ 0.024975  ┆ 13897     ┆ 2025-10-1 │\n",
       "│        ┆ 00:00:00   ┆            ┆           ┆   ┆ 4         ┆           ┆           ┆ 2         │\n",
       "│        ┆            ┆            ┆           ┆   ┆           ┆           ┆           ┆ 23:59:40  │\n",
       "│ 0G     ┆ 2025-10-14 ┆ -0.000464  ┆ 0.006961  ┆ … ┆ 1818.4521 ┆ -0.005451 ┆ 12802     ┆ 2025-10-1 │\n",
       "│        ┆ 00:00:00   ┆            ┆           ┆   ┆ 66        ┆           ┆           ┆ 3         │\n",
       "│        ┆            ┆            ┆           ┆   ┆           ┆           ┆           ┆ 23:58:55  │\n",
       "│ …      ┆ …          ┆ …          ┆ …         ┆ … ┆ …         ┆ …         ┆ …         ┆ …         │\n",
       "│ ZRO    ┆ 2025-10-19 ┆ 1.6948e-7  ┆ 0.004103  ┆ … ┆ 484.86610 ┆ -0.058784 ┆ 2355      ┆ 2025-10-1 │\n",
       "│        ┆ 00:00:00   ┆            ┆           ┆   ┆ 4         ┆           ┆           ┆ 8         │\n",
       "│        ┆            ┆            ┆           ┆   ┆           ┆           ┆           ┆ 23:56:25  │\n",
       "│ ZRO    ┆ 2025-10-20 ┆ 0.000088   ┆ 0.004275  ┆ … ┆ 874.32370 ┆ 0.020932  ┆ 5336      ┆ 2025-10-1 │\n",
       "│        ┆ 00:00:00   ┆            ┆           ┆   ┆ 3         ┆           ┆           ┆ 9         │\n",
       "│        ┆            ┆            ┆           ┆   ┆           ┆           ┆           ┆ 23:55:05  │\n",
       "│ ZRO    ┆ 2025-10-21 ┆ -0.000274  ┆ 0.005819  ┆ … ┆ 773.15510 ┆ 0.054337  ┆ 4840      ┆ 2025-10-2 │\n",
       "│        ┆ 00:00:00   ┆            ┆           ┆   ┆ 8         ┆           ┆           ┆ 0         │\n",
       "│        ┆            ┆            ┆           ┆   ┆           ┆           ┆           ┆ 23:54:40  │\n",
       "│ ZRO    ┆ 2025-10-22 ┆ 0.000006   ┆ 0.004533  ┆ … ┆ 1008.6198 ┆ 0.038815  ┆ 7446      ┆ 2025-10-2 │\n",
       "│        ┆ 00:00:00   ┆            ┆           ┆   ┆ 44        ┆           ┆           ┆ 1         │\n",
       "│        ┆            ┆            ┆           ┆   ┆           ┆           ┆           ┆ 23:59:45  │\n",
       "│ ZRO    ┆ 2025-10-23 ┆ 0.000125   ┆ 0.003058  ┆ … ┆ 834.42188 ┆ 0.050314  ┆ 5330      ┆ 2025-10-2 │\n",
       "│        ┆ 00:00:00   ┆            ┆           ┆   ┆ 8         ┆           ┆           ┆ 2         │\n",
       "│        ┆            ┆            ┆           ┆   ┆           ┆           ┆           ┆ 23:57:35  │\n",
       "└────────┴────────────┴────────────┴───────────┴───┴───────────┴───────────┴───────────┴───────────┘"
      ]
     },
     "execution_count": 83,
     "metadata": {},
     "output_type": "execute_result"
    }
   ],
   "source": [
    "# Duplicate over `grid_timestamp`! Granularity is over returns_interval\n",
    "returns_with_index_grid_timestamp = index_with_returns.join_asof(\n",
    "    db_with_metadata.select('grid_timestamp', 'symbol'),\n",
    "    left_on='time',\n",
    "    right_on='grid_timestamp',\n",
    "    by='symbol',\n",
    "    strategy='backward'\n",
    ").sort('symbol', 'grid_timestamp')\n",
    "\n",
    "index_gridded_returns=returns_with_index_grid_timestamp.group_by('symbol', 'grid_timestamp').agg(\n",
    "    returns_drift=pl.col('return').mean(),\n",
    "    volatility=pl.col('return').std(), \n",
    "    vol_ssize=pl.col('return').count()\n",
    ")\n",
    "\n",
    "index_grid_metadata_with_vol = index_gridded_returns.join(\n",
    "    db_with_metadata, \n",
    "    on=['symbol', 'grid_timestamp']\n",
    ")\n",
    "\n",
    "# Compute things like (drift, volatility, liquidity, excess_buy_ratio, trade_count) quantile\n",
    "index_grid_metadata_with_vol.group_by('grid_timestamp').agg([\n",
    "    pl.all(),\n",
    "    *[\n",
    "        (pl.col(c).rank('average') / pl.col(c).count()).alias(f'{c}_q')\n",
    "        for c in quantile_expand_metadata + ['returns_drift', 'volatility']\n",
    "    ]\n",
    "]).explode(pl.all().exclude('grid_timestamp'))"
   ]
  }
 ],
 "metadata": {
  "kernelspec": {
   "display_name": "midas",
   "language": "python",
   "name": "midas"
  },
  "language_info": {
   "codemirror_mode": {
    "name": "ipython",
    "version": 3
   },
   "file_extension": ".py",
   "mimetype": "text/x-python",
   "name": "python",
   "nbconvert_exporter": "python",
   "pygments_lexer": "ipython3",
   "version": "3.12.3"
  }
 },
 "nbformat": 4,
 "nbformat_minor": 5
}
