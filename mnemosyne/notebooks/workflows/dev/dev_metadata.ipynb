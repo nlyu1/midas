{
 "cells": [
  {
   "cell_type": "code",
   "execution_count": 4,
   "id": "f7ca146d",
   "metadata": {},
   "outputs": [],
   "source": [
    "import mnemosyne as ms\n",
    "from mnemosyne.engines import ReturnsEngine, MetadataEngine\n",
    "from datetime import datetime as Datetime, date as Date\n",
    "from timedelta_isoformat import timedelta as Timedelta\n",
    "import polars as pl\n",
    "from pathlib import Path\n",
    "from tqdm.auto import tqdm \n",
    "from mnemosyne.dataset import ByDateDataset"
   ]
  },
  {
   "cell_type": "markdown",
   "id": "728f3a99-eceb-4813-8b5b-74a184d33497",
   "metadata": {},
   "source": [
    "# Class-based example"
   ]
  },
  {
   "cell_type": "code",
   "execution_count": 5,
   "id": "b41b6abb-7d3b-4908-b6dc-ce39bbf3723f",
   "metadata": {
    "scrolled": true
   },
   "outputs": [],
   "source": [
    "grid_dataset = ms.binance.BinanceLastTradesGrid(\n",
    "        peg_symbol='USDT',\n",
    "        grid_interval=Timedelta(seconds=5),\n",
    "        dataset_type=ms.DatasetType.BinanceSpotTrades, \n",
    "        parquet_names='*.parquet',\n",
    "    )\n",
    "\n",
    "metadata_engine = MetadataEngine(\n",
    "    path='/data/midas/mnemosyne/notebooks/workflows/dev/metadata', num_workers=1, \n",
    "    backend_dataset=grid_dataset, \n",
    ")"
   ]
  },
  {
   "cell_type": "code",
   "execution_count": 6,
   "id": "6aa5ebc9-04f8-4673-a98a-1ab45756a321",
   "metadata": {},
   "outputs": [],
   "source": [
    "metadata_engine.compute()"
   ]
  },
  {
   "cell_type": "code",
   "execution_count": 7,
   "id": "b7e11b8b",
   "metadata": {},
   "outputs": [
    {
     "data": {
      "text/html": [
       "<div><style>\n",
       ".dataframe > thead > tr,\n",
       ".dataframe > tbody > tr {\n",
       "  text-align: right;\n",
       "  white-space: pre-wrap;\n",
       "}\n",
       "</style>\n",
       "<small>shape: (11_871_990, 22)</small><table border=\"1\" class=\"dataframe\"><thead><tr><th>symbol</th><th>time</th><th>date</th><th>last_event_time</th><th>liquidity_1d</th><th>sqrtliq_1d</th><th>excess_buy_ratio_1d</th><th>trade_count_1d</th><th>liquidity_7d</th><th>sqrtliq_7d</th><th>excess_buy_ratio_7d</th><th>trade_count_7d</th><th>daily_returns_drift_7d_lookback</th><th>daily_vol_7d_lookback</th><th>vol_ssize_7d_lookback</th><th>daily_returns_drift_30d_lookback</th><th>daily_vol_30d_lookback</th><th>vol_ssize_30d_lookback</th><th>liquidity_1d_q</th><th>liquidity_7d_q</th><th>daily_vol_7d_lookback_q</th><th>daily_vol_30d_lookback_q</th></tr><tr><td>enum</td><td>datetime[μs]</td><td>date</td><td>datetime[μs]</td><td>f64</td><td>f64</td><td>f64</td><td>u64</td><td>f64</td><td>f64</td><td>f64</td><td>u64</td><td>f64</td><td>f64</td><td>u64</td><td>f64</td><td>f64</td><td>u64</td><td>f64</td><td>f64</td><td>f64</td><td>f64</td></tr></thead><tbody><tr><td>&quot;1INCH&quot;</td><td>2022-01-01 01:00:00</td><td>2022-01-01</td><td>2022-01-01 00:59:46.473</td><td>461963.1408</td><td>679.678704</td><td>0.145341</td><td>2578</td><td>461963.1408</td><td>679.678704</td><td>0.145341</td><td>2578</td><td>0.299437</td><td>0.031425</td><td>4</td><td>0.299437</td><td>0.031425</td><td>4</td><td>0.705706</td><td>0.705706</td><td>0.38253</td><td>0.38253</td></tr><tr><td>&quot;AAVE&quot;</td><td>2022-01-01 01:00:00</td><td>2022-01-01</td><td>2022-01-01 00:59:59.207</td><td>1.9722e6</td><td>1404.345523</td><td>0.215496</td><td>10411</td><td>1.9722e6</td><td>1404.345523</td><td>0.215496</td><td>10411</td><td>0.572448</td><td>0.063986</td><td>4</td><td>0.572448</td><td>0.063986</td><td>4</td><td>0.894895</td><td>0.894895</td><td>0.813253</td><td>0.813253</td></tr><tr><td>&quot;ACM&quot;</td><td>2022-01-01 01:00:00</td><td>2022-01-01</td><td>2022-01-01 00:59:33.783</td><td>60102.7902</td><td>245.158704</td><td>0.098034</td><td>397</td><td>60102.7902</td><td>245.158704</td><td>0.098034</td><td>397</td><td>0.228686</td><td>0.007803</td><td>4</td><td>0.228686</td><td>0.007803</td><td>4</td><td>0.33033</td><td>0.33033</td><td>0.033133</td><td>0.033133</td></tr><tr><td>&quot;ADA&quot;</td><td>2022-01-01 01:00:00</td><td>2022-01-01</td><td>2022-01-01 00:59:58.613</td><td>5.6464e6</td><td>2376.225047</td><td>0.18526</td><td>9254</td><td>5.6464e6</td><td>2376.225047</td><td>0.18526</td><td>9254</td><td>0.353817</td><td>0.015707</td><td>4</td><td>0.353817</td><td>0.015707</td><td>4</td><td>0.948949</td><td>0.948949</td><td>0.087349</td><td>0.087349</td></tr><tr><td>&quot;ADADOWN&quot;</td><td>2022-01-01 01:00:00</td><td>2022-01-01</td><td>2022-01-01 00:58:43.535</td><td>72833.738578</td><td>269.877266</td><td>-0.21072</td><td>396</td><td>72833.738578</td><td>269.877266</td><td>-0.21072</td><td>396</td><td>-0.677815</td><td>0.067786</td><td>4</td><td>-0.677815</td><td>0.067786</td><td>4</td><td>0.384384</td><td>0.384384</td><td>0.837349</td><td>0.837349</td></tr><tr><td>&hellip;</td><td>&hellip;</td><td>&hellip;</td><td>&hellip;</td><td>&hellip;</td><td>&hellip;</td><td>&hellip;</td><td>&hellip;</td><td>&hellip;</td><td>&hellip;</td><td>&hellip;</td><td>&hellip;</td><td>&hellip;</td><td>&hellip;</td><td>&hellip;</td><td>&hellip;</td><td>&hellip;</td><td>&hellip;</td><td>&hellip;</td><td>&hellip;</td><td>&hellip;</td><td>&hellip;</td></tr><tr><td>&quot;ZIL&quot;</td><td>2025-10-22 23:00:00</td><td>2025-10-22</td><td>2025-10-22 22:54:22.045624</td><td>1.5447e6</td><td>1242.862427</td><td>-0.199955</td><td>12037</td><td>6.7418e6</td><td>2596.493307</td><td>-0.050147</td><td>64611</td><td>-0.014623</td><td>0.048778</td><td>1008</td><td>-0.006546</td><td>0.096182</td><td>4320</td><td>0.430876</td><td>0.260369</td><td>0.205069</td><td>0.223502</td></tr><tr><td>&quot;ZK&quot;</td><td>2025-10-22 23:00:00</td><td>2025-10-22</td><td>2025-10-22 22:59:59.573118</td><td>4.6756e6</td><td>2162.308817</td><td>-0.074665</td><td>80466</td><td>2.9939e7</td><td>5471.621105</td><td>-0.023599</td><td>563328</td><td>-0.019417</td><td>0.062789</td><td>1008</td><td>-0.004525</td><td>0.131191</td><td>4320</td><td>0.707373</td><td>0.656682</td><td>0.605991</td><td>0.520737</td></tr><tr><td>&quot;ZKC&quot;</td><td>2025-10-22 23:00:00</td><td>2025-10-22</td><td>2025-10-22 22:59:43.552853</td><td>9.0517e6</td><td>3008.60374</td><td>0.057722</td><td>62978</td><td>1.7326e8</td><td>13162.774378</td><td>0.017276</td><td>1535698</td><td>0.02882</td><td>0.166723</td><td>1008</td><td>-0.028198</td><td>0.14544</td><td>4320</td><td>0.813364</td><td>0.891705</td><td>0.988479</td><td>0.633641</td></tr><tr><td>&quot;ZRO&quot;</td><td>2025-10-22 23:00:00</td><td>2025-10-22</td><td>2025-10-22 22:59:14.069030</td><td>4.7691e6</td><td>2183.831338</td><td>0.00182</td><td>42300</td><td>3.8418e7</td><td>6198.230371</td><td>-0.01955</td><td>350613</td><td>-0.014994</td><td>0.0578</td><td>1008</td><td>0.003</td><td>0.116789</td><td>4320</td><td>0.709677</td><td>0.714286</td><td>0.451613</td><td>0.391705</td></tr><tr><td>&quot;ZRX&quot;</td><td>2025-10-22 23:00:00</td><td>2025-10-22</td><td>2025-10-22 22:59:14.143317</td><td>2.0352e6</td><td>1426.611656</td><td>-0.057275</td><td>11556</td><td>1.2567e7</td><td>3545.06555</td><td>-0.028359</td><td>39608</td><td>-0.011217</td><td>0.0492</td><td>1008</td><td>-0.002235</td><td>0.092585</td><td>4320</td><td>0.504608</td><td>0.437788</td><td>0.214286</td><td>0.200461</td></tr></tbody></table></div>"
      ],
      "text/plain": [
       "shape: (11_871_990, 22)\n",
       "┌─────────┬────────────┬───────────┬───────────┬───┬───────────┬───────────┬───────────┬───────────┐\n",
       "│ symbol  ┆ time       ┆ date      ┆ last_even ┆ … ┆ liquidity ┆ liquidity ┆ daily_vol ┆ daily_vol │\n",
       "│ ---     ┆ ---        ┆ ---       ┆ t_time    ┆   ┆ _1d_q     ┆ _7d_q     ┆ _7d_lookb ┆ _30d_look │\n",
       "│ enum    ┆ datetime[μ ┆ date      ┆ ---       ┆   ┆ ---       ┆ ---       ┆ ack_q     ┆ back_q    │\n",
       "│         ┆ s]         ┆           ┆ datetime[ ┆   ┆ f64       ┆ f64       ┆ ---       ┆ ---       │\n",
       "│         ┆            ┆           ┆ μs]       ┆   ┆           ┆           ┆ f64       ┆ f64       │\n",
       "╞═════════╪════════════╪═══════════╪═══════════╪═══╪═══════════╪═══════════╪═══════════╪═══════════╡\n",
       "│ 1INCH   ┆ 2022-01-01 ┆ 2022-01-0 ┆ 2022-01-0 ┆ … ┆ 0.705706  ┆ 0.705706  ┆ 0.38253   ┆ 0.38253   │\n",
       "│         ┆ 01:00:00   ┆ 1         ┆ 1 00:59:4 ┆   ┆           ┆           ┆           ┆           │\n",
       "│         ┆            ┆           ┆ 6.473     ┆   ┆           ┆           ┆           ┆           │\n",
       "│ AAVE    ┆ 2022-01-01 ┆ 2022-01-0 ┆ 2022-01-0 ┆ … ┆ 0.894895  ┆ 0.894895  ┆ 0.813253  ┆ 0.813253  │\n",
       "│         ┆ 01:00:00   ┆ 1         ┆ 1 00:59:5 ┆   ┆           ┆           ┆           ┆           │\n",
       "│         ┆            ┆           ┆ 9.207     ┆   ┆           ┆           ┆           ┆           │\n",
       "│ ACM     ┆ 2022-01-01 ┆ 2022-01-0 ┆ 2022-01-0 ┆ … ┆ 0.33033   ┆ 0.33033   ┆ 0.033133  ┆ 0.033133  │\n",
       "│         ┆ 01:00:00   ┆ 1         ┆ 1 00:59:3 ┆   ┆           ┆           ┆           ┆           │\n",
       "│         ┆            ┆           ┆ 3.783     ┆   ┆           ┆           ┆           ┆           │\n",
       "│ ADA     ┆ 2022-01-01 ┆ 2022-01-0 ┆ 2022-01-0 ┆ … ┆ 0.948949  ┆ 0.948949  ┆ 0.087349  ┆ 0.087349  │\n",
       "│         ┆ 01:00:00   ┆ 1         ┆ 1 00:59:5 ┆   ┆           ┆           ┆           ┆           │\n",
       "│         ┆            ┆           ┆ 8.613     ┆   ┆           ┆           ┆           ┆           │\n",
       "│ ADADOWN ┆ 2022-01-01 ┆ 2022-01-0 ┆ 2022-01-0 ┆ … ┆ 0.384384  ┆ 0.384384  ┆ 0.837349  ┆ 0.837349  │\n",
       "│         ┆ 01:00:00   ┆ 1         ┆ 1 00:58:4 ┆   ┆           ┆           ┆           ┆           │\n",
       "│         ┆            ┆           ┆ 3.535     ┆   ┆           ┆           ┆           ┆           │\n",
       "│ …       ┆ …          ┆ …         ┆ …         ┆ … ┆ …         ┆ …         ┆ …         ┆ …         │\n",
       "│ ZIL     ┆ 2025-10-22 ┆ 2025-10-2 ┆ 2025-10-2 ┆ … ┆ 0.430876  ┆ 0.260369  ┆ 0.205069  ┆ 0.223502  │\n",
       "│         ┆ 23:00:00   ┆ 2         ┆ 2 22:54:2 ┆   ┆           ┆           ┆           ┆           │\n",
       "│         ┆            ┆           ┆ 2.045624  ┆   ┆           ┆           ┆           ┆           │\n",
       "│ ZK      ┆ 2025-10-22 ┆ 2025-10-2 ┆ 2025-10-2 ┆ … ┆ 0.707373  ┆ 0.656682  ┆ 0.605991  ┆ 0.520737  │\n",
       "│         ┆ 23:00:00   ┆ 2         ┆ 2 22:59:5 ┆   ┆           ┆           ┆           ┆           │\n",
       "│         ┆            ┆           ┆ 9.573118  ┆   ┆           ┆           ┆           ┆           │\n",
       "│ ZKC     ┆ 2025-10-22 ┆ 2025-10-2 ┆ 2025-10-2 ┆ … ┆ 0.813364  ┆ 0.891705  ┆ 0.988479  ┆ 0.633641  │\n",
       "│         ┆ 23:00:00   ┆ 2         ┆ 2 22:59:4 ┆   ┆           ┆           ┆           ┆           │\n",
       "│         ┆            ┆           ┆ 3.552853  ┆   ┆           ┆           ┆           ┆           │\n",
       "│ ZRO     ┆ 2025-10-22 ┆ 2025-10-2 ┆ 2025-10-2 ┆ … ┆ 0.709677  ┆ 0.714286  ┆ 0.451613  ┆ 0.391705  │\n",
       "│         ┆ 23:00:00   ┆ 2         ┆ 2 22:59:1 ┆   ┆           ┆           ┆           ┆           │\n",
       "│         ┆            ┆           ┆ 4.069030  ┆   ┆           ┆           ┆           ┆           │\n",
       "│ ZRX     ┆ 2025-10-22 ┆ 2025-10-2 ┆ 2025-10-2 ┆ … ┆ 0.504608  ┆ 0.437788  ┆ 0.214286  ┆ 0.200461  │\n",
       "│         ┆ 23:00:00   ┆ 2         ┆ 2 22:59:1 ┆   ┆           ┆           ┆           ┆           │\n",
       "│         ┆            ┆           ┆ 4.143317  ┆   ┆           ┆           ┆           ┆           │\n",
       "└─────────┴────────────┴───────────┴───────────┴───┴───────────┴───────────┴───────────┴───────────┘"
      ]
     },
     "execution_count": 7,
     "metadata": {},
     "output_type": "execute_result"
    }
   ],
   "source": [
    "metadata_engine.lazyframe().collect()"
   ]
  },
  {
   "cell_type": "code",
   "execution_count": null,
   "id": "20a42a5c",
   "metadata": {},
   "outputs": [],
   "source": []
  },
  {
   "cell_type": "markdown",
   "id": "74563d54-bfba-4b4f-8a89-cf5bef459bb7",
   "metadata": {},
   "source": [
    "# Debugging dev"
   ]
  },
  {
   "cell_type": "code",
   "execution_count": null,
   "id": "d0a7a51f",
   "metadata": {},
   "outputs": [],
   "source": [
    "def default_metadata(returns_interval: Timedelta):\n",
    "    liquidity = (pl.col('vwap_price') * pl.col('volume')).sum()\n",
    "    sqrtliq = liquidity.pow(0.5)\n",
    "    excess_buy_ratio = ((pl.col('taker_buy_volume') - pl.col('taker_sell_volume')).sum() / pl.col('volume').sum())\n",
    "    trade_count = pl.col('trade_count').sum()\n",
    "\n",
    "    num_intervals_in_day = Timedelta(days=1) / returns_interval\n",
    "    returns_drift = pl.col('return').mean() * num_intervals_in_day\n",
    "    volatility = pl.col('return').std() * num_intervals_in_day ** .5\n",
    "    vol_ssize = pl.col('return').count().alias('vol_ssize')\n",
    "    return {\n",
    "        # These are calculated \n",
    "        'by_symbol_index': {\n",
    "            Timedelta(days=1): [\n",
    "                liquidity.alias('liquidity_1d'),\n",
    "                sqrtliq.alias('sqrtliq_1d'),\n",
    "                excess_buy_ratio.alias('excess_buy_ratio_1d'), \n",
    "                trade_count.alias('trade_count_1d')\n",
    "            ], \n",
    "            Timedelta(days=7): [\n",
    "                liquidity.alias('liquidity_7d'),\n",
    "                sqrtliq.alias('sqrtliq_7d'),\n",
    "                excess_buy_ratio.alias('excess_buy_ratio_7d'), \n",
    "                trade_count.alias('trade_count_7d'), \n",
    "            ], \n",
    "        },\n",
    "        'accum_returns': {\n",
    "            Timedelta(days=7): [\n",
    "                returns_drift.alias('daily_returns_drift_7d_lookback'), \n",
    "                volatility.alias('daily_vol_7d_lookback') , \n",
    "                vol_ssize.alias('vol_ssize_7d_lookback'),\n",
    "            ],\n",
    "            Timedelta(days=30): [\n",
    "                returns_drift.alias('daily_returns_drift_30d_lookback'), \n",
    "                volatility.alias('daily_vol_30d_lookback') , \n",
    "                vol_ssize.alias('vol_ssize_30d_lookback'),\n",
    "            ]\n",
    "        }\n",
    "    }\n",
    "\n",
    "dataset_type, backend_grid_interval, peg_symbol = (ms.DatasetType.BinanceSpotTrades, Timedelta(seconds=5), 'USDC')\n",
    "backend_dataset = ms.binance.BinanceLastTradesGrid(\n",
    "        peg_symbol=peg_symbol, \n",
    "        grid_interval=backend_grid_interval, \n",
    "        dataset_type=dataset_type, \n",
    "        parquet_names='*.parquet',\n",
    "    )"
   ]
  },
  {
   "cell_type": "code",
   "execution_count": null,
   "id": "86124c8c",
   "metadata": {},
   "outputs": [],
   "source": [
    "# Arguments and preparation\n",
    "returns_engine_kwargs = {}\n",
    "returns_query_kwargs = {\n",
    "    'filter_by_query_dates': True, \n",
    "}\n",
    "\n",
    "# Class initialization argument (whole dataset)\n",
    "# Should support initializing a ReturnsEngine\n",
    "# Supplies both (1) symbol-date universe (via .universe()) and (2) source for metadata computation\n",
    "backend_dataset = backend_dataset\n",
    "\n",
    "# Some more arguments. Users should pass these in manually\n",
    "last_event_time_expr = pl.col('last_event_time')\n",
    "\n",
    "# returns_interval should ideally partition grid_interval. \n",
    "# Vol and drift are \"\"essentially\" for returns over this range\n",
    "returns_interval = Timedelta(minutes=10)\n",
    "\n",
    "# This is applied on grid_interval (coarser compared to returns) grids pre joining with returns. \n",
    "# Directly applied to backend_dataset's db (match schema there), grouped by symbol and grid_timestamp\n",
    "# Indexed by rolling window duration over which these are calculated\n",
    "metadata_exprs = default_metadata(returns_interval)\n",
    "quantile_expand_exprs = pl.col('^daily_vol.*$', '^liquidity.*$')\n",
    "dir(returns_engine)\n",
    "\n",
    "grid_interval = Timedelta(hours=1) # grid_interval **must** be larger than returns_interval! "
   ]
  },
  {
   "cell_type": "code",
   "execution_count": null,
   "id": "ac98cbac",
   "metadata": {},
   "outputs": [],
   "source": [
    "# Initialization: prepare for later queries by initializing returns_engine\n",
    "backend_db = backend_dataset.lazyframe()\n",
    "returns_engine = ReturnsEngine(backend_db, **returns_engine_kwargs)\n",
    "\n",
    "# Compute maximum lookbacks for returns & metadata\n",
    "max_returns_lookback = max(metadata_exprs['accum_returns'].keys())\n",
    "max_metadata_lookback = max(metadata_exprs['by_symbol_index'].keys())\n",
    "\n",
    "# Filter laxly around given date ranges: returns & index grids symbol-date pairs are constructed off this dataframe\n",
    "backend_universe_df = backend_dataset.cast_symbol_col_to_enum(backend_dataset.universe())\n",
    "returns_grid = backend_universe_df.with_columns(\n",
    "        returns_grid_time=pl.datetime_ranges(\n",
    "            pl.col('date'), \n",
    "            pl.col('date').dt.offset_by('1d'),\n",
    "            interval=returns_interval,\n",
    "            closed='left'\n",
    "        )\n",
    "    ).explode('returns_grid_time').sort('symbol', 'returns_grid_time').lazy()"
   ]
  },
  {
   "cell_type": "code",
   "execution_count": null,
   "id": "7edb30b8",
   "metadata": {},
   "outputs": [],
   "source": [
    "# Now, argument for subset metadata computation\n",
    "start_date = Date(2025, 1, 1)\n",
    "end_date = Date(2025, 2, 1) # Inclusive on the left, exclusive on the right"
   ]
  },
  {
   "cell_type": "code",
   "execution_count": null,
   "id": "06bd2e8a",
   "metadata": {},
   "outputs": [],
   "source": [
    "## Step 1: compute returns_interval gridded returns\n",
    "# [symbol, date, time] with `returns_interval` interspaced \"time\" \n",
    "returns_query = returns_grid.filter(\n",
    "    (pl.col('date') >= start_date - max_returns_lookback) & \n",
    "    (pl.col('date') <= pl.lit(end_date))\n",
    ").sort('symbol', 'returns_grid_time')\n",
    "\n",
    "index_with_returns = returns_engine.query(\n",
    "    returns_query, \n",
    "    start_time_expr=pl.col('returns_grid_time'), \n",
    "    mark_duration=returns_interval, \n",
    "    tick_lag_tolerance=returns_interval,\n",
    "    append_lag=True, **returns_query_kwargs\n",
    ").sort('symbol', 'returns_grid_time')\n",
    "\n",
    "index_with_returns.collect()"
   ]
  },
  {
   "cell_type": "code",
   "execution_count": null,
   "id": "68146cbf-beb8-4bec-9bc8-eeb11cba83c3",
   "metadata": {},
   "outputs": [],
   "source": [
    "returns_metadata = pl.concat([\n",
    "    index_with_returns.select('symbol', 'returns_grid_time')\n",
    "] + [\n",
    "    index_with_returns.rolling(\n",
    "        pl.col('returns_grid_time'), period=interval, closed='left', group_by='symbol'\n",
    "    ).agg(cols).sort('symbol', 'returns_grid_time').drop('symbol', 'returns_grid_time')\n",
    "    for interval, cols in metadata_exprs['accum_returns'].items()\n",
    "], how='horizontal').with_columns(\n",
    "    # Add grid_interval to make grid_time point-in-time as well\n",
    "    grid_time = pl.col('returns_grid_time').dt.truncate(grid_interval) + grid_interval\n",
    ").drop('returns_grid_time').filter(\n",
    "    # We can filter early here since here's a direct join to the final result\n",
    "    pl.col('grid_time').is_between(start_date, end_date, closed='left')\n",
    ").group_by('symbol', 'grid_time').agg(pl.all().last()).sort('symbol', 'grid_time')\n",
    "returns_metadata.collect()"
   ]
  },
  {
   "cell_type": "code",
   "execution_count": null,
   "id": "f38c07ee-8876-4940-bc4a-8a05c9b6be49",
   "metadata": {},
   "outputs": [],
   "source": [
    "# Collect rolling database of metadata. \n",
    "# Only collect index-gridded entries\n",
    "inrange_db = backend_db.filter(\n",
    "    (pl.col('date') >= start_date - max_metadata_lookback) & \n",
    "    (pl.col('date') <= end_date)\n",
    ").sort('symbol', 'last_event_time')\n",
    "\n",
    "rolling_metadata = pl.concat([\n",
    "    inrange_db.select('symbol', last_event_time_expr)\n",
    "] + [\n",
    "    inrange_db.rolling(\n",
    "        last_event_time_expr, period=interval, closed='left', group_by='symbol'\n",
    "    ).agg(cols).sort('symbol', last_event_time_expr).drop('symbol', last_event_time_expr)\n",
    "    for interval, cols in metadata_exprs['by_symbol_index'].items()\n",
    "], how='horizontal').with_columns(\n",
    "    # Add grid_interval to make grid_time point-in-time as well\n",
    "    grid_time = last_event_time_expr.dt.truncate(grid_interval) + grid_interval\n",
    ").filter(\n",
    "    # We can filter early here since here's a direct join to the final result\n",
    "    pl.col('grid_time').is_between(start_date, end_date, closed='left')\n",
    ").group_by('symbol', 'grid_time').agg(pl.all().last()).sort('symbol', 'grid_time')\n",
    "rolling_metadata.collect()"
   ]
  },
  {
   "cell_type": "code",
   "execution_count": null,
   "id": "7a529832",
   "metadata": {},
   "outputs": [],
   "source": [
    "final_metadata = rolling_metadata.join(\n",
    "    returns_metadata, \n",
    "    on=['symbol', 'grid_time']\n",
    ").with_columns(\n",
    "    (\n",
    "        quantile_expand_exprs.rank('average') / quantile_expand_exprs.count()\n",
    "    ).name.suffix('_q').over('grid_time')\n",
    ").sort('symbol', last_event_time_expr)\n",
    "final_metadata = final_metadata.collect(engine='streaming')"
   ]
  },
  {
   "cell_type": "code",
   "execution_count": null,
   "id": "a204e4fe-0bd9-4e48-a438-d8366883557e",
   "metadata": {},
   "outputs": [],
   "source": [
    "final_metadata"
   ]
  },
  {
   "cell_type": "code",
   "execution_count": null,
   "id": "ddf17649-ad21-4eae-9e29-cf7568353f8c",
   "metadata": {},
   "outputs": [],
   "source": [
    "final_metadata.schema"
   ]
  }
 ],
 "metadata": {
  "kernelspec": {
   "display_name": ".venv",
   "language": "python",
   "name": "python3"
  },
  "language_info": {
   "codemirror_mode": {
    "name": "ipython",
    "version": 3
   },
   "file_extension": ".py",
   "mimetype": "text/x-python",
   "name": "python",
   "nbconvert_exporter": "python",
   "pygments_lexer": "ipython3",
   "version": "3.12.3"
  },
  "widgets": {
   "application/vnd.jupyter.widget-state+json": {
    "state": {},
    "version_major": 2,
    "version_minor": 0
   }
  }
 },
 "nbformat": 4,
 "nbformat_minor": 5
}
