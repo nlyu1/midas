{
 "cells": [
  {
   "cell_type": "code",
   "execution_count": 1,
   "id": "f7ca146d",
   "metadata": {},
   "outputs": [],
   "source": [
    "import mnemosyne as ms\n",
    "from mnemosyne.engines import ReturnsEngine, MetadataEngine\n",
    "from datetime import datetime as Datetime, date as Date\n",
    "from timedelta_isoformat import timedelta as Timedelta\n",
    "import polars as pl\n",
    "from pathlib import Path\n",
    "from tqdm.auto import tqdm \n",
    "from mnemosyne.dataset import ByDateDataset"
   ]
  },
  {
   "cell_type": "markdown",
   "id": "728f3a99-eceb-4813-8b5b-74a184d33497",
   "metadata": {},
   "source": [
    "# Class-based example"
   ]
  },
  {
   "cell_type": "code",
   "execution_count": 2,
   "id": "b41b6abb-7d3b-4908-b6dc-ce39bbf3723f",
   "metadata": {
    "scrolled": true
   },
   "outputs": [],
   "source": [
    "backend_dataset = ms.binance.BinanceLastTradesGrid(\n",
    "        peg_symbol='USDT',\n",
    "        grid_interval=Timedelta(seconds=5),\n",
    "        dataset_type=ms.DatasetType.BinanceSpotTrades, \n",
    "        parquet_names='*.parquet',\n",
    "    )\n",
    "\n",
    "me = MetadataEngine(\n",
    "    path='/home/nlyu/Code/midas/mnemosyne/notebooks/workflows/dev/metadata', num_workers=1, \n",
    "    backend_dataset=backend_dataset, \n",
    ")"
   ]
  },
  {
   "cell_type": "code",
   "execution_count": null,
   "id": "6aa5ebc9-04f8-4673-a98a-1ab45756a321",
   "metadata": {},
   "outputs": [
    {
     "name": "stderr",
     "output_type": "stream",
     "text": [
      "INFO:mnemosyne.dataset.interface:Computing 1392 partitions in 47 batches (30 days/batch) with 1 workers\n"
     ]
    },
    {
     "data": {
      "application/vnd.jupyter.widget-view+json": {
       "model_id": "843c9423b67f4a10aea7f2d06b8b1e70",
       "version_major": 2,
       "version_minor": 0
      },
      "text/plain": [
       "  0%|          | 0/47 [00:00<?, ?it/s]"
      ]
     },
     "metadata": {},
     "output_type": "display_data"
    }
   ],
   "source": [
    "me.compute(recompute=False, days_per_batch=30)"
   ]
  },
  {
   "cell_type": "markdown",
   "id": "74563d54-bfba-4b4f-8a89-cf5bef459bb7",
   "metadata": {},
   "source": [
    "# Debugging dev"
   ]
  },
  {
   "cell_type": "code",
   "execution_count": 115,
   "id": "d0a7a51f",
   "metadata": {},
   "outputs": [],
   "source": [
    "def default_metadata(returns_interval: Timedelta):\n",
    "    liquidity = (pl.col('vwap_price') * pl.col('volume')).sum()\n",
    "    sqrtliq = liquidity.pow(0.5)\n",
    "    excess_buy_ratio = ((pl.col('taker_buy_volume') - pl.col('taker_sell_volume')).sum() / pl.col('volume').sum())\n",
    "    trade_count = pl.col('trade_count').sum()\n",
    "\n",
    "    num_intervals_in_day = Timedelta(days=1) / returns_interval\n",
    "    returns_drift = pl.col('return').mean() * num_intervals_in_day\n",
    "    volatility = pl.col('return').std() * num_intervals_in_day ** .5\n",
    "    vol_ssize = pl.col('return').count().alias('vol_ssize')\n",
    "    return {\n",
    "        # These are calculated \n",
    "        'by_symbol_index': {\n",
    "            Timedelta(days=1): [\n",
    "                liquidity.alias('liquidity_1d'),\n",
    "                sqrtliq.alias('sqrtliq_1d'),\n",
    "                excess_buy_ratio.alias('excess_buy_ratio_1d'), \n",
    "                trade_count.alias('trade_count_1d')\n",
    "            ], \n",
    "            Timedelta(days=7): [\n",
    "                liquidity.alias('liquidity_7d'),\n",
    "                sqrtliq.alias('sqrtliq_7d'),\n",
    "                excess_buy_ratio.alias('excess_buy_ratio_7d'), \n",
    "                trade_count.alias('trade_count_7d'), \n",
    "            ], \n",
    "        },\n",
    "        'accum_returns': {\n",
    "            Timedelta(days=7): [\n",
    "                returns_drift.alias('daily_returns_drift_7d_lookback'), \n",
    "                volatility.alias('daily_vol_7d_lookback') , \n",
    "                vol_ssize.alias('vol_ssize_7d_lookback'),\n",
    "            ],\n",
    "            Timedelta(days=30): [\n",
    "                returns_drift.alias('daily_returns_drift_30d_lookback'), \n",
    "                volatility.alias('daily_vol_30d_lookback') , \n",
    "                vol_ssize.alias('vol_ssize_30d_lookback'),\n",
    "            ]\n",
    "        }\n",
    "    }\n",
    "\n",
    "dataset_type, backend_grid_interval, peg_symbol = (ms.DatasetType.BinanceSpotTrades, Timedelta(seconds=5), 'USDC')\n",
    "backend_dataset = ms.binance.BinanceLastTradesGrid(\n",
    "        peg_symbol=peg_symbol, \n",
    "        grid_interval=backend_grid_interval, \n",
    "        dataset_type=dataset_type, \n",
    "        parquet_names='*.parquet',\n",
    "    )"
   ]
  },
  {
   "cell_type": "code",
   "execution_count": 134,
   "id": "86124c8c",
   "metadata": {},
   "outputs": [],
   "source": [
    "# Arguments and preparation\n",
    "returns_engine_kwargs = {}\n",
    "returns_query_kwargs = {\n",
    "    'filter_by_query_dates': True, \n",
    "}\n",
    "\n",
    "# Class initialization argument (whole dataset)\n",
    "# Should support initializing a ReturnsEngine\n",
    "# Supplies both (1) symbol-date universe (via .universe()) and (2) source for metadata computation\n",
    "backend_dataset = backend_dataset\n",
    "\n",
    "# Some more arguments. Users should pass these in manually\n",
    "last_event_time_expr = pl.col('last_event_time')\n",
    "\n",
    "# returns_interval should ideally partition grid_interval. \n",
    "# Vol and drift are \"\"essentially\" for returns over this range\n",
    "returns_interval = Timedelta(minutes=10)\n",
    "\n",
    "# This is applied on grid_interval (coarser compared to returns) grids pre joining with returns. \n",
    "# Directly applied to backend_dataset's db (match schema there), grouped by symbol and grid_timestamp\n",
    "# Indexed by rolling window duration over which these are calculated\n",
    "metadata_exprs = default_metadata(returns_interval)\n",
    "quantile_expand_exprs = pl.col('^daily_vol.*$', '^liquidity.*$')\n",
    "dir(returns_engine)\n",
    "\n",
    "grid_interval = Timedelta(hours=1) # grid_interval **must** be larger than returns_interval! "
   ]
  },
  {
   "cell_type": "code",
   "execution_count": 123,
   "id": "ac98cbac",
   "metadata": {},
   "outputs": [],
   "source": [
    "# Initialization: prepare for later queries by initializing returns_engine\n",
    "backend_db = backend_dataset.lazyframe()\n",
    "returns_engine = ReturnsEngine(backend_db, **returns_engine_kwargs)\n",
    "\n",
    "# Compute maximum lookbacks for returns & metadata\n",
    "max_returns_lookback = max(metadata_exprs['accum_returns'].keys())\n",
    "max_metadata_lookback = max(metadata_exprs['by_symbol_index'].keys())\n",
    "\n",
    "# Filter laxly around given date ranges: returns & index grids symbol-date pairs are constructed off this dataframe\n",
    "backend_universe_df = backend_dataset.cast_symbol_col_to_enum(backend_dataset.universe())\n",
    "returns_grid = backend_universe_df.with_columns(\n",
    "        returns_grid_time=pl.datetime_ranges(\n",
    "            pl.col('date'), \n",
    "            pl.col('date').dt.offset_by('1d'),\n",
    "            interval=returns_interval,\n",
    "            closed='left'\n",
    "        )\n",
    "    ).explode('returns_grid_time').sort('symbol', 'returns_grid_time').lazy()"
   ]
  },
  {
   "cell_type": "code",
   "execution_count": 124,
   "id": "7edb30b8",
   "metadata": {},
   "outputs": [],
   "source": [
    "# Now, argument for subset metadata computation\n",
    "start_date = Date(2025, 1, 1)\n",
    "end_date = Date(2025, 2, 1) # Inclusive on the left, exclusive on the right"
   ]
  },
  {
   "cell_type": "code",
   "execution_count": 125,
   "id": "06bd2e8a",
   "metadata": {},
   "outputs": [
    {
     "data": {
      "text/html": [
       "<div><style>\n",
       ".dataframe > thead > tr,\n",
       ".dataframe > tbody > tr {\n",
       "  text-align: right;\n",
       "  white-space: pre-wrap;\n",
       "}\n",
       "</style>\n",
       "<small>shape: (1_032_048, 5)</small><table border=\"1\" class=\"dataframe\"><thead><tr><th>symbol</th><th>date</th><th>returns_grid_time</th><th>max_tick_to_query_lag</th><th>return</th></tr><tr><td>enum</td><td>date</td><td>datetime[μs]</td><td>duration[μs]</td><td>f64</td></tr></thead><tbody><tr><td>&quot;1000CAT&quot;</td><td>2024-12-19</td><td>2024-12-19 00:00:00</td><td>null</td><td>null</td></tr><tr><td>&quot;1000CAT&quot;</td><td>2024-12-19</td><td>2024-12-19 00:10:00</td><td>null</td><td>null</td></tr><tr><td>&quot;1000CAT&quot;</td><td>2024-12-19</td><td>2024-12-19 00:20:00</td><td>null</td><td>null</td></tr><tr><td>&quot;1000CAT&quot;</td><td>2024-12-19</td><td>2024-12-19 00:30:00</td><td>null</td><td>null</td></tr><tr><td>&quot;1000CAT&quot;</td><td>2024-12-19</td><td>2024-12-19 00:40:00</td><td>null</td><td>null</td></tr><tr><td>&hellip;</td><td>&hellip;</td><td>&hellip;</td><td>&hellip;</td><td>&hellip;</td></tr><tr><td>&quot;ZRO&quot;</td><td>2025-02-01</td><td>2025-02-01 23:10:00</td><td>25s 988620µs</td><td>-0.00233</td></tr><tr><td>&quot;ZRO&quot;</td><td>2025-02-01</td><td>2025-02-01 23:20:00</td><td>25s 988620µs</td><td>-0.004871</td></tr><tr><td>&quot;ZRO&quot;</td><td>2025-02-01</td><td>2025-02-01 23:30:00</td><td>38s 663478µs</td><td>0.00513</td></tr><tr><td>&quot;ZRO&quot;</td><td>2025-02-01</td><td>2025-02-01 23:40:00</td><td>58s 505111µs</td><td>0.0003</td></tr><tr><td>&quot;ZRO&quot;</td><td>2025-02-01</td><td>2025-02-01 23:50:00</td><td>58s 505111µs</td><td>-0.006002</td></tr></tbody></table></div>"
      ],
      "text/plain": [
       "shape: (1_032_048, 5)\n",
       "┌─────────┬────────────┬─────────────────────┬───────────────────────┬───────────┐\n",
       "│ symbol  ┆ date       ┆ returns_grid_time   ┆ max_tick_to_query_lag ┆ return    │\n",
       "│ ---     ┆ ---        ┆ ---                 ┆ ---                   ┆ ---       │\n",
       "│ enum    ┆ date       ┆ datetime[μs]        ┆ duration[μs]          ┆ f64       │\n",
       "╞═════════╪════════════╪═════════════════════╪═══════════════════════╪═══════════╡\n",
       "│ 1000CAT ┆ 2024-12-19 ┆ 2024-12-19 00:00:00 ┆ null                  ┆ null      │\n",
       "│ 1000CAT ┆ 2024-12-19 ┆ 2024-12-19 00:10:00 ┆ null                  ┆ null      │\n",
       "│ 1000CAT ┆ 2024-12-19 ┆ 2024-12-19 00:20:00 ┆ null                  ┆ null      │\n",
       "│ 1000CAT ┆ 2024-12-19 ┆ 2024-12-19 00:30:00 ┆ null                  ┆ null      │\n",
       "│ 1000CAT ┆ 2024-12-19 ┆ 2024-12-19 00:40:00 ┆ null                  ┆ null      │\n",
       "│ …       ┆ …          ┆ …                   ┆ …                     ┆ …         │\n",
       "│ ZRO     ┆ 2025-02-01 ┆ 2025-02-01 23:10:00 ┆ 25s 988620µs          ┆ -0.00233  │\n",
       "│ ZRO     ┆ 2025-02-01 ┆ 2025-02-01 23:20:00 ┆ 25s 988620µs          ┆ -0.004871 │\n",
       "│ ZRO     ┆ 2025-02-01 ┆ 2025-02-01 23:30:00 ┆ 38s 663478µs          ┆ 0.00513   │\n",
       "│ ZRO     ┆ 2025-02-01 ┆ 2025-02-01 23:40:00 ┆ 58s 505111µs          ┆ 0.0003    │\n",
       "│ ZRO     ┆ 2025-02-01 ┆ 2025-02-01 23:50:00 ┆ 58s 505111µs          ┆ -0.006002 │\n",
       "└─────────┴────────────┴─────────────────────┴───────────────────────┴───────────┘"
      ]
     },
     "execution_count": 125,
     "metadata": {},
     "output_type": "execute_result"
    }
   ],
   "source": [
    "## Step 1: compute returns_interval gridded returns\n",
    "# [symbol, date, time] with `returns_interval` interspaced \"time\" \n",
    "returns_query = returns_grid.filter(\n",
    "    (pl.col('date') >= start_date - max_returns_lookback) & \n",
    "    (pl.col('date') <= pl.lit(end_date))\n",
    ").sort('symbol', 'returns_grid_time')\n",
    "\n",
    "index_with_returns = returns_engine.query(\n",
    "    returns_query, \n",
    "    start_time_expr=pl.col('returns_grid_time'), \n",
    "    mark_duration=returns_interval, \n",
    "    tick_lag_tolerance=returns_interval,\n",
    "    append_lag=True, **returns_query_kwargs\n",
    ").sort('symbol', 'returns_grid_time')\n",
    "\n",
    "index_with_returns.collect()"
   ]
  },
  {
   "cell_type": "code",
   "execution_count": 129,
   "id": "68146cbf-beb8-4bec-9bc8-eeb11cba83c3",
   "metadata": {},
   "outputs": [
    {
     "data": {
      "text/html": [
       "<div><style>\n",
       ".dataframe > thead > tr,\n",
       ".dataframe > tbody > tr {\n",
       "  text-align: right;\n",
       "  white-space: pre-wrap;\n",
       "}\n",
       "</style>\n",
       "<small>shape: (89_606, 8)</small><table border=\"1\" class=\"dataframe\"><thead><tr><th>symbol</th><th>grid_time</th><th>daily_returns_drift_7d_lookback</th><th>daily_vol_7d_lookback</th><th>vol_ssize_7d_lookback</th><th>daily_returns_drift_30d_lookback</th><th>daily_vol_30d_lookback</th><th>vol_ssize_30d_lookback</th></tr><tr><td>enum</td><td>datetime[μs]</td><td>f64</td><td>f64</td><td>u64</td><td>f64</td><td>f64</td><td>u64</td></tr></thead><tbody><tr><td>&quot;1000CAT&quot;</td><td>2025-01-01 00:00:00</td><td>-0.024929</td><td>0.067075</td><td>853</td><td>-0.007298</td><td>0.102369</td><td>1547</td></tr><tr><td>&quot;1000CAT&quot;</td><td>2025-01-01 01:00:00</td><td>-0.021115</td><td>0.066939</td><td>856</td><td>-0.006412</td><td>0.102215</td><td>1553</td></tr><tr><td>&quot;1000CAT&quot;</td><td>2025-01-01 02:00:00</td><td>-0.023647</td><td>0.066973</td><td>854</td><td>-0.00706</td><td>0.102167</td><td>1557</td></tr><tr><td>&quot;1000CAT&quot;</td><td>2025-01-01 03:00:00</td><td>-0.027245</td><td>0.066641</td><td>854</td><td>-0.007542</td><td>0.102005</td><td>1563</td></tr><tr><td>&quot;1000CAT&quot;</td><td>2025-01-01 04:00:00</td><td>-0.027395</td><td>0.066389</td><td>849</td><td>-0.007754</td><td>0.101975</td><td>1564</td></tr><tr><td>&hellip;</td><td>&hellip;</td><td>&hellip;</td><td>&hellip;</td><td>&hellip;</td><td>&hellip;</td><td>&hellip;</td><td>&hellip;</td></tr><tr><td>&quot;ZRO&quot;</td><td>2025-01-31 19:00:00</td><td>-0.002194</td><td>0.061163</td><td>980</td><td>-0.008682</td><td>0.063703</td><td>4141</td></tr><tr><td>&quot;ZRO&quot;</td><td>2025-01-31 20:00:00</td><td>-0.001208</td><td>0.061129</td><td>980</td><td>-0.008981</td><td>0.0637</td><td>4141</td></tr><tr><td>&quot;ZRO&quot;</td><td>2025-01-31 21:00:00</td><td>0.001459</td><td>0.061115</td><td>980</td><td>-0.009111</td><td>0.063726</td><td>4141</td></tr><tr><td>&quot;ZRO&quot;</td><td>2025-01-31 22:00:00</td><td>0.000057</td><td>0.06118</td><td>980</td><td>-0.009494</td><td>0.063752</td><td>4141</td></tr><tr><td>&quot;ZRO&quot;</td><td>2025-01-31 23:00:00</td><td>0.000747</td><td>0.061251</td><td>978</td><td>-0.009715</td><td>0.063744</td><td>4140</td></tr></tbody></table></div>"
      ],
      "text/plain": [
       "shape: (89_606, 8)\n",
       "┌─────────┬────────────┬────────────┬────────────┬────────────┬────────────┬───────────┬───────────┐\n",
       "│ symbol  ┆ grid_time  ┆ daily_retu ┆ daily_vol_ ┆ vol_ssize_ ┆ daily_retu ┆ daily_vol ┆ vol_ssize │\n",
       "│ ---     ┆ ---        ┆ rns_drift_ ┆ 7d_lookbac ┆ 7d_lookbac ┆ rns_drift_ ┆ _30d_look ┆ _30d_look │\n",
       "│ enum    ┆ datetime[μ ┆ 7d_lookbac ┆ k          ┆ k          ┆ 30d_lookba ┆ back      ┆ back      │\n",
       "│         ┆ s]         ┆ …          ┆ ---        ┆ ---        ┆ …          ┆ ---       ┆ ---       │\n",
       "│         ┆            ┆ ---        ┆ f64        ┆ u64        ┆ ---        ┆ f64       ┆ u64       │\n",
       "│         ┆            ┆ f64        ┆            ┆            ┆ f64        ┆           ┆           │\n",
       "╞═════════╪════════════╪════════════╪════════════╪════════════╪════════════╪═══════════╪═══════════╡\n",
       "│ 1000CAT ┆ 2025-01-01 ┆ -0.024929  ┆ 0.067075   ┆ 853        ┆ -0.007298  ┆ 0.102369  ┆ 1547      │\n",
       "│         ┆ 00:00:00   ┆            ┆            ┆            ┆            ┆           ┆           │\n",
       "│ 1000CAT ┆ 2025-01-01 ┆ -0.021115  ┆ 0.066939   ┆ 856        ┆ -0.006412  ┆ 0.102215  ┆ 1553      │\n",
       "│         ┆ 01:00:00   ┆            ┆            ┆            ┆            ┆           ┆           │\n",
       "│ 1000CAT ┆ 2025-01-01 ┆ -0.023647  ┆ 0.066973   ┆ 854        ┆ -0.00706   ┆ 0.102167  ┆ 1557      │\n",
       "│         ┆ 02:00:00   ┆            ┆            ┆            ┆            ┆           ┆           │\n",
       "│ 1000CAT ┆ 2025-01-01 ┆ -0.027245  ┆ 0.066641   ┆ 854        ┆ -0.007542  ┆ 0.102005  ┆ 1563      │\n",
       "│         ┆ 03:00:00   ┆            ┆            ┆            ┆            ┆           ┆           │\n",
       "│ 1000CAT ┆ 2025-01-01 ┆ -0.027395  ┆ 0.066389   ┆ 849        ┆ -0.007754  ┆ 0.101975  ┆ 1564      │\n",
       "│         ┆ 04:00:00   ┆            ┆            ┆            ┆            ┆           ┆           │\n",
       "│ …       ┆ …          ┆ …          ┆ …          ┆ …          ┆ …          ┆ …         ┆ …         │\n",
       "│ ZRO     ┆ 2025-01-31 ┆ -0.002194  ┆ 0.061163   ┆ 980        ┆ -0.008682  ┆ 0.063703  ┆ 4141      │\n",
       "│         ┆ 19:00:00   ┆            ┆            ┆            ┆            ┆           ┆           │\n",
       "│ ZRO     ┆ 2025-01-31 ┆ -0.001208  ┆ 0.061129   ┆ 980        ┆ -0.008981  ┆ 0.0637    ┆ 4141      │\n",
       "│         ┆ 20:00:00   ┆            ┆            ┆            ┆            ┆           ┆           │\n",
       "│ ZRO     ┆ 2025-01-31 ┆ 0.001459   ┆ 0.061115   ┆ 980        ┆ -0.009111  ┆ 0.063726  ┆ 4141      │\n",
       "│         ┆ 21:00:00   ┆            ┆            ┆            ┆            ┆           ┆           │\n",
       "│ ZRO     ┆ 2025-01-31 ┆ 0.000057   ┆ 0.06118    ┆ 980        ┆ -0.009494  ┆ 0.063752  ┆ 4141      │\n",
       "│         ┆ 22:00:00   ┆            ┆            ┆            ┆            ┆           ┆           │\n",
       "│ ZRO     ┆ 2025-01-31 ┆ 0.000747   ┆ 0.061251   ┆ 978        ┆ -0.009715  ┆ 0.063744  ┆ 4140      │\n",
       "│         ┆ 23:00:00   ┆            ┆            ┆            ┆            ┆           ┆           │\n",
       "└─────────┴────────────┴────────────┴────────────┴────────────┴────────────┴───────────┴───────────┘"
      ]
     },
     "execution_count": 129,
     "metadata": {},
     "output_type": "execute_result"
    }
   ],
   "source": [
    "returns_metadata = pl.concat([\n",
    "    index_with_returns.select('symbol', 'returns_grid_time')\n",
    "] + [\n",
    "    index_with_returns.rolling(\n",
    "        pl.col('returns_grid_time'), period=interval, closed='left', group_by='symbol'\n",
    "    ).agg(cols).sort('symbol', 'returns_grid_time').drop('symbol', 'returns_grid_time')\n",
    "    for interval, cols in metadata_exprs['accum_returns'].items()\n",
    "], how='horizontal').with_columns(\n",
    "    # Add grid_interval to make grid_time point-in-time as well\n",
    "    grid_time = pl.col('returns_grid_time').dt.truncate(grid_interval) + grid_interval\n",
    ").drop('returns_grid_time').filter(\n",
    "    # We can filter early here since here's a direct join to the final result\n",
    "    pl.col('grid_time').is_between(start_date, end_date, closed='left')\n",
    ").group_by('symbol', 'grid_time').agg(pl.all().last()).sort('symbol', 'grid_time')\n",
    "returns_metadata.collect()"
   ]
  },
  {
   "cell_type": "code",
   "execution_count": 130,
   "id": "f38c07ee-8876-4940-bc4a-8a05c9b6be49",
   "metadata": {},
   "outputs": [
    {
     "data": {
      "text/html": [
       "<div><style>\n",
       ".dataframe > thead > tr,\n",
       ".dataframe > tbody > tr {\n",
       "  text-align: right;\n",
       "  white-space: pre-wrap;\n",
       "}\n",
       "</style>\n",
       "<small>shape: (89_069, 11)</small><table border=\"1\" class=\"dataframe\"><thead><tr><th>symbol</th><th>grid_time</th><th>last_event_time</th><th>liquidity_1d</th><th>sqrtliq</th><th>excess_buy_ratio_1d</th><th>trade_count_1d</th><th>liquidity_7d</th><th>sqrtliq_7d</th><th>excess_buy_ratio_7d</th><th>trade_count_7d</th></tr><tr><td>enum</td><td>datetime[μs]</td><td>datetime[μs]</td><td>f64</td><td>f64</td><td>f64</td><td>u64</td><td>f64</td><td>f64</td><td>f64</td><td>u64</td></tr></thead><tbody><tr><td>&quot;1000CAT&quot;</td><td>2025-01-01 00:00:00</td><td>2024-12-31 23:59:18.049</td><td>214760.802636</td><td>463.42292</td><td>-0.013242</td><td>1612</td><td>1.2542e6</td><td>1119.910153</td><td>-0.063638</td><td>9013</td></tr><tr><td>&quot;1000CAT&quot;</td><td>2025-01-01 01:00:00</td><td>2025-01-01 00:59:47.577389</td><td>217760.182704</td><td>466.647814</td><td>-0.007948</td><td>1615</td><td>1.2526e6</td><td>1119.202457</td><td>-0.062124</td><td>8999</td></tr><tr><td>&quot;1000CAT&quot;</td><td>2025-01-01 02:00:00</td><td>2025-01-01 01:59:39.017357</td><td>217977.38804</td><td>466.880486</td><td>-0.01082</td><td>1617</td><td>1.2439e6</td><td>1115.300266</td><td>-0.065258</td><td>8964</td></tr><tr><td>&quot;1000CAT&quot;</td><td>2025-01-01 03:00:00</td><td>2025-01-01 02:44:41.683038</td><td>217640.013302</td><td>466.519039</td><td>-0.012695</td><td>1618</td><td>1.2403e6</td><td>1113.708652</td><td>-0.066678</td><td>8955</td></tr><tr><td>&quot;1000CAT&quot;</td><td>2025-01-01 04:00:00</td><td>2025-01-01 03:59:10.187902</td><td>216397.397557</td><td>465.185337</td><td>-0.016817</td><td>1622</td><td>1.2357e6</td><td>1111.599964</td><td>-0.065782</td><td>8912</td></tr><tr><td>&hellip;</td><td>&hellip;</td><td>&hellip;</td><td>&hellip;</td><td>&hellip;</td><td>&hellip;</td><td>&hellip;</td><td>&hellip;</td><td>&hellip;</td><td>&hellip;</td><td>&hellip;</td></tr><tr><td>&quot;ZRO&quot;</td><td>2025-01-31 19:00:00</td><td>2025-01-31 18:59:21.951842</td><td>656664.31342</td><td>810.348267</td><td>-0.045236</td><td>3604</td><td>3.4926e6</td><td>1868.862888</td><td>0.010385</td><td>21958</td></tr><tr><td>&quot;ZRO&quot;</td><td>2025-01-31 20:00:00</td><td>2025-01-31 19:59:59.483243</td><td>661811.90783</td><td>813.518228</td><td>-0.059075</td><td>3639</td><td>3.4776e6</td><td>1864.844928</td><td>0.006648</td><td>21868</td></tr><tr><td>&quot;ZRO&quot;</td><td>2025-01-31 21:00:00</td><td>2025-01-31 20:58:59.996442</td><td>674722.98676</td><td>821.415234</td><td>-0.062523</td><td>3710</td><td>3.4652e6</td><td>1861.508267</td><td>0.006254</td><td>21763</td></tr><tr><td>&quot;ZRO&quot;</td><td>2025-01-31 22:00:00</td><td>2025-01-31 21:57:07.919238</td><td>670567.31308</td><td>818.881745</td><td>-0.065919</td><td>3708</td><td>3.4587e6</td><td>1859.756358</td><td>0.005963</td><td>21719</td></tr><tr><td>&quot;ZRO&quot;</td><td>2025-01-31 23:00:00</td><td>2025-01-31 22:58:59.192791</td><td>701650.03523</td><td>837.645531</td><td>-0.03046</td><td>3795</td><td>3.4861e6</td><td>1867.099918</td><td>0.011312</td><td>21768</td></tr></tbody></table></div>"
      ],
      "text/plain": [
       "shape: (89_069, 11)\n",
       "┌─────────┬────────────┬───────────┬───────────┬───┬───────────┬───────────┬───────────┬───────────┐\n",
       "│ symbol  ┆ grid_time  ┆ last_even ┆ liquidity ┆ … ┆ liquidity ┆ sqrtliq_7 ┆ excess_bu ┆ trade_cou │\n",
       "│ ---     ┆ ---        ┆ t_time    ┆ _1d       ┆   ┆ _7d       ┆ d         ┆ y_ratio_7 ┆ nt_7d     │\n",
       "│ enum    ┆ datetime[μ ┆ ---       ┆ ---       ┆   ┆ ---       ┆ ---       ┆ d         ┆ ---       │\n",
       "│         ┆ s]         ┆ datetime[ ┆ f64       ┆   ┆ f64       ┆ f64       ┆ ---       ┆ u64       │\n",
       "│         ┆            ┆ μs]       ┆           ┆   ┆           ┆           ┆ f64       ┆           │\n",
       "╞═════════╪════════════╪═══════════╪═══════════╪═══╪═══════════╪═══════════╪═══════════╪═══════════╡\n",
       "│ 1000CAT ┆ 2025-01-01 ┆ 2024-12-3 ┆ 214760.80 ┆ … ┆ 1.2542e6  ┆ 1119.9101 ┆ -0.063638 ┆ 9013      │\n",
       "│         ┆ 00:00:00   ┆ 1 23:59:1 ┆ 2636      ┆   ┆           ┆ 53        ┆           ┆           │\n",
       "│         ┆            ┆ 8.049     ┆           ┆   ┆           ┆           ┆           ┆           │\n",
       "│ 1000CAT ┆ 2025-01-01 ┆ 2025-01-0 ┆ 217760.18 ┆ … ┆ 1.2526e6  ┆ 1119.2024 ┆ -0.062124 ┆ 8999      │\n",
       "│         ┆ 01:00:00   ┆ 1 00:59:4 ┆ 2704      ┆   ┆           ┆ 57        ┆           ┆           │\n",
       "│         ┆            ┆ 7.577389  ┆           ┆   ┆           ┆           ┆           ┆           │\n",
       "│ 1000CAT ┆ 2025-01-01 ┆ 2025-01-0 ┆ 217977.38 ┆ … ┆ 1.2439e6  ┆ 1115.3002 ┆ -0.065258 ┆ 8964      │\n",
       "│         ┆ 02:00:00   ┆ 1 01:59:3 ┆ 804       ┆   ┆           ┆ 66        ┆           ┆           │\n",
       "│         ┆            ┆ 9.017357  ┆           ┆   ┆           ┆           ┆           ┆           │\n",
       "│ 1000CAT ┆ 2025-01-01 ┆ 2025-01-0 ┆ 217640.01 ┆ … ┆ 1.2403e6  ┆ 1113.7086 ┆ -0.066678 ┆ 8955      │\n",
       "│         ┆ 03:00:00   ┆ 1 02:44:4 ┆ 3302      ┆   ┆           ┆ 52        ┆           ┆           │\n",
       "│         ┆            ┆ 1.683038  ┆           ┆   ┆           ┆           ┆           ┆           │\n",
       "│ 1000CAT ┆ 2025-01-01 ┆ 2025-01-0 ┆ 216397.39 ┆ … ┆ 1.2357e6  ┆ 1111.5999 ┆ -0.065782 ┆ 8912      │\n",
       "│         ┆ 04:00:00   ┆ 1 03:59:1 ┆ 7557      ┆   ┆           ┆ 64        ┆           ┆           │\n",
       "│         ┆            ┆ 0.187902  ┆           ┆   ┆           ┆           ┆           ┆           │\n",
       "│ …       ┆ …          ┆ …         ┆ …         ┆ … ┆ …         ┆ …         ┆ …         ┆ …         │\n",
       "│ ZRO     ┆ 2025-01-31 ┆ 2025-01-3 ┆ 656664.31 ┆ … ┆ 3.4926e6  ┆ 1868.8628 ┆ 0.010385  ┆ 21958     │\n",
       "│         ┆ 19:00:00   ┆ 1 18:59:2 ┆ 342       ┆   ┆           ┆ 88        ┆           ┆           │\n",
       "│         ┆            ┆ 1.951842  ┆           ┆   ┆           ┆           ┆           ┆           │\n",
       "│ ZRO     ┆ 2025-01-31 ┆ 2025-01-3 ┆ 661811.90 ┆ … ┆ 3.4776e6  ┆ 1864.8449 ┆ 0.006648  ┆ 21868     │\n",
       "│         ┆ 20:00:00   ┆ 1 19:59:5 ┆ 783       ┆   ┆           ┆ 28        ┆           ┆           │\n",
       "│         ┆            ┆ 9.483243  ┆           ┆   ┆           ┆           ┆           ┆           │\n",
       "│ ZRO     ┆ 2025-01-31 ┆ 2025-01-3 ┆ 674722.98 ┆ … ┆ 3.4652e6  ┆ 1861.5082 ┆ 0.006254  ┆ 21763     │\n",
       "│         ┆ 21:00:00   ┆ 1 20:58:5 ┆ 676       ┆   ┆           ┆ 67        ┆           ┆           │\n",
       "│         ┆            ┆ 9.996442  ┆           ┆   ┆           ┆           ┆           ┆           │\n",
       "│ ZRO     ┆ 2025-01-31 ┆ 2025-01-3 ┆ 670567.31 ┆ … ┆ 3.4587e6  ┆ 1859.7563 ┆ 0.005963  ┆ 21719     │\n",
       "│         ┆ 22:00:00   ┆ 1 21:57:0 ┆ 308       ┆   ┆           ┆ 58        ┆           ┆           │\n",
       "│         ┆            ┆ 7.919238  ┆           ┆   ┆           ┆           ┆           ┆           │\n",
       "│ ZRO     ┆ 2025-01-31 ┆ 2025-01-3 ┆ 701650.03 ┆ … ┆ 3.4861e6  ┆ 1867.0999 ┆ 0.011312  ┆ 21768     │\n",
       "│         ┆ 23:00:00   ┆ 1 22:58:5 ┆ 523       ┆   ┆           ┆ 18        ┆           ┆           │\n",
       "│         ┆            ┆ 9.192791  ┆           ┆   ┆           ┆           ┆           ┆           │\n",
       "└─────────┴────────────┴───────────┴───────────┴───┴───────────┴───────────┴───────────┴───────────┘"
      ]
     },
     "execution_count": 130,
     "metadata": {},
     "output_type": "execute_result"
    }
   ],
   "source": [
    "# Collect rolling database of metadata. \n",
    "# Only collect index-gridded entries\n",
    "inrange_db = backend_db.filter(\n",
    "    (pl.col('date') >= start_date - max_metadata_lookback) & \n",
    "    (pl.col('date') <= end_date)\n",
    ").sort('symbol', 'last_event_time')\n",
    "\n",
    "rolling_metadata = pl.concat([\n",
    "    inrange_db.select('symbol', last_event_time_expr)\n",
    "] + [\n",
    "    inrange_db.rolling(\n",
    "        last_event_time_expr, period=interval, closed='left', group_by='symbol'\n",
    "    ).agg(cols).sort('symbol', last_event_time_expr).drop('symbol', last_event_time_expr)\n",
    "    for interval, cols in metadata_exprs['by_symbol_index'].items()\n",
    "], how='horizontal').with_columns(\n",
    "    # Add grid_interval to make grid_time point-in-time as well\n",
    "    grid_time = last_event_time_expr.dt.truncate(grid_interval) + grid_interval\n",
    ").filter(\n",
    "    # We can filter early here since here's a direct join to the final result\n",
    "    pl.col('grid_time').is_between(start_date, end_date, closed='left')\n",
    ").group_by('symbol', 'grid_time').agg(pl.all().last()).sort('symbol', 'grid_time')\n",
    "rolling_metadata.collect()"
   ]
  },
  {
   "cell_type": "code",
   "execution_count": 150,
   "id": "7a529832",
   "metadata": {},
   "outputs": [
    {
     "name": "stderr",
     "output_type": "stream",
     "text": [
      "/tmp/ipykernel_699263/2050422109.py:9: UserWarning: Sortedness of columns cannot be checked when 'by' groups provided\n",
      "  final_metadata = final_metadata.collect(engine='streaming')\n"
     ]
    }
   ],
   "source": [
    "final_metadata = rolling_metadata.join(\n",
    "    returns_metadata, \n",
    "    on=['symbol', 'grid_time']\n",
    ").with_columns(\n",
    "    (\n",
    "        quantile_expand_exprs.rank('average') / quantile_expand_exprs.count()\n",
    "    ).name.suffix('_q').over('grid_time')\n",
    ").sort('symbol', last_event_time_expr)\n",
    "final_metadata = final_metadata.collect(engine='streaming')"
   ]
  },
  {
   "cell_type": "code",
   "execution_count": 151,
   "id": "a204e4fe-0bd9-4e48-a438-d8366883557e",
   "metadata": {},
   "outputs": [
    {
     "data": {
      "text/html": [
       "<div><style>\n",
       ".dataframe > thead > tr,\n",
       ".dataframe > tbody > tr {\n",
       "  text-align: right;\n",
       "  white-space: pre-wrap;\n",
       "}\n",
       "</style>\n",
       "<small>shape: (89_069, 21)</small><table border=\"1\" class=\"dataframe\"><thead><tr><th>symbol</th><th>grid_time</th><th>last_event_time</th><th>liquidity_1d</th><th>sqrtliq</th><th>excess_buy_ratio_1d</th><th>trade_count_1d</th><th>liquidity_7d</th><th>sqrtliq_7d</th><th>excess_buy_ratio_7d</th><th>trade_count_7d</th><th>daily_returns_drift_7d_lookback</th><th>daily_vol_7d_lookback</th><th>vol_ssize_7d_lookback</th><th>daily_returns_drift_30d_lookback</th><th>daily_vol_30d_lookback</th><th>vol_ssize_30d_lookback</th><th>liquidity_1d_q</th><th>liquidity_7d_q</th><th>daily_vol_7d_lookback_q</th><th>daily_vol_30d_lookback_q</th></tr><tr><td>enum</td><td>datetime[μs]</td><td>datetime[μs]</td><td>f64</td><td>f64</td><td>f64</td><td>u64</td><td>f64</td><td>f64</td><td>f64</td><td>u64</td><td>f64</td><td>f64</td><td>u64</td><td>f64</td><td>f64</td><td>u64</td><td>f64</td><td>f64</td><td>f64</td><td>f64</td></tr></thead><tbody><tr><td>&quot;1000CAT&quot;</td><td>2025-01-01 00:00:00</td><td>2024-12-31 23:59:18.049</td><td>214760.802636</td><td>463.42292</td><td>-0.013242</td><td>1612</td><td>1.2542e6</td><td>1119.910153</td><td>-0.063638</td><td>9013</td><td>-0.024929</td><td>0.067075</td><td>853</td><td>-0.007298</td><td>0.102369</td><td>1547</td><td>0.309735</td><td>0.212389</td><td>0.80531</td><td>0.902655</td></tr><tr><td>&quot;1000CAT&quot;</td><td>2025-01-01 01:00:00</td><td>2025-01-01 00:59:47.577389</td><td>217760.182704</td><td>466.647814</td><td>-0.007948</td><td>1615</td><td>1.2526e6</td><td>1119.202457</td><td>-0.062124</td><td>8999</td><td>-0.021115</td><td>0.066939</td><td>856</td><td>-0.006412</td><td>0.102215</td><td>1553</td><td>0.307018</td><td>0.219298</td><td>0.798246</td><td>0.885965</td></tr><tr><td>&quot;1000CAT&quot;</td><td>2025-01-01 02:00:00</td><td>2025-01-01 01:59:39.017357</td><td>217977.38804</td><td>466.880486</td><td>-0.01082</td><td>1617</td><td>1.2439e6</td><td>1115.300266</td><td>-0.065258</td><td>8964</td><td>-0.023647</td><td>0.066973</td><td>854</td><td>-0.00706</td><td>0.102167</td><td>1557</td><td>0.307018</td><td>0.219298</td><td>0.798246</td><td>0.903509</td></tr><tr><td>&quot;1000CAT&quot;</td><td>2025-01-01 03:00:00</td><td>2025-01-01 02:44:41.683038</td><td>217640.013302</td><td>466.519039</td><td>-0.012695</td><td>1618</td><td>1.2403e6</td><td>1113.708652</td><td>-0.066678</td><td>8955</td><td>-0.027245</td><td>0.066641</td><td>854</td><td>-0.007542</td><td>0.102005</td><td>1563</td><td>0.303571</td><td>0.214286</td><td>0.8125</td><td>0.901786</td></tr><tr><td>&quot;1000CAT&quot;</td><td>2025-01-01 04:00:00</td><td>2025-01-01 03:59:10.187902</td><td>216397.397557</td><td>465.185337</td><td>-0.016817</td><td>1622</td><td>1.2357e6</td><td>1111.599964</td><td>-0.065782</td><td>8912</td><td>-0.027395</td><td>0.066389</td><td>849</td><td>-0.007754</td><td>0.101975</td><td>1564</td><td>0.297297</td><td>0.198198</td><td>0.810811</td><td>0.900901</td></tr><tr><td>&hellip;</td><td>&hellip;</td><td>&hellip;</td><td>&hellip;</td><td>&hellip;</td><td>&hellip;</td><td>&hellip;</td><td>&hellip;</td><td>&hellip;</td><td>&hellip;</td><td>&hellip;</td><td>&hellip;</td><td>&hellip;</td><td>&hellip;</td><td>&hellip;</td><td>&hellip;</td><td>&hellip;</td><td>&hellip;</td><td>&hellip;</td><td>&hellip;</td><td>&hellip;</td></tr><tr><td>&quot;ZRO&quot;</td><td>2025-01-31 19:00:00</td><td>2025-01-31 18:59:21.951842</td><td>656664.31342</td><td>810.348267</td><td>-0.045236</td><td>3604</td><td>3.4926e6</td><td>1868.862888</td><td>0.010385</td><td>21958</td><td>-0.002194</td><td>0.061163</td><td>980</td><td>-0.008682</td><td>0.063703</td><td>4141</td><td>0.491935</td><td>0.467742</td><td>0.403226</td><td>0.403226</td></tr><tr><td>&quot;ZRO&quot;</td><td>2025-01-31 20:00:00</td><td>2025-01-31 19:59:59.483243</td><td>661811.90783</td><td>813.518228</td><td>-0.059075</td><td>3639</td><td>3.4776e6</td><td>1864.844928</td><td>0.006648</td><td>21868</td><td>-0.001208</td><td>0.061129</td><td>980</td><td>-0.008981</td><td>0.0637</td><td>4141</td><td>0.479675</td><td>0.463415</td><td>0.406504</td><td>0.406504</td></tr><tr><td>&quot;ZRO&quot;</td><td>2025-01-31 21:00:00</td><td>2025-01-31 20:58:59.996442</td><td>674722.98676</td><td>821.415234</td><td>-0.062523</td><td>3710</td><td>3.4652e6</td><td>1861.508267</td><td>0.006254</td><td>21763</td><td>0.001459</td><td>0.061115</td><td>980</td><td>-0.009111</td><td>0.063726</td><td>4141</td><td>0.479675</td><td>0.463415</td><td>0.406504</td><td>0.406504</td></tr><tr><td>&quot;ZRO&quot;</td><td>2025-01-31 22:00:00</td><td>2025-01-31 21:57:07.919238</td><td>670567.31308</td><td>818.881745</td><td>-0.065919</td><td>3708</td><td>3.4587e6</td><td>1859.756358</td><td>0.005963</td><td>21719</td><td>0.000057</td><td>0.06118</td><td>980</td><td>-0.009494</td><td>0.063752</td><td>4141</td><td>0.479675</td><td>0.463415</td><td>0.406504</td><td>0.406504</td></tr><tr><td>&quot;ZRO&quot;</td><td>2025-01-31 23:00:00</td><td>2025-01-31 22:58:59.192791</td><td>701650.03523</td><td>837.645531</td><td>-0.03046</td><td>3795</td><td>3.4861e6</td><td>1867.099918</td><td>0.011312</td><td>21768</td><td>0.000747</td><td>0.061251</td><td>978</td><td>-0.009715</td><td>0.063744</td><td>4140</td><td>0.47541</td><td>0.459016</td><td>0.409836</td><td>0.409836</td></tr></tbody></table></div>"
      ],
      "text/plain": [
       "shape: (89_069, 21)\n",
       "┌─────────┬────────────┬───────────┬───────────┬───┬───────────┬───────────┬───────────┬───────────┐\n",
       "│ symbol  ┆ grid_time  ┆ last_even ┆ liquidity ┆ … ┆ liquidity ┆ liquidity ┆ daily_vol ┆ daily_vol │\n",
       "│ ---     ┆ ---        ┆ t_time    ┆ _1d       ┆   ┆ _1d_q     ┆ _7d_q     ┆ _7d_lookb ┆ _30d_look │\n",
       "│ enum    ┆ datetime[μ ┆ ---       ┆ ---       ┆   ┆ ---       ┆ ---       ┆ ack_q     ┆ back_q    │\n",
       "│         ┆ s]         ┆ datetime[ ┆ f64       ┆   ┆ f64       ┆ f64       ┆ ---       ┆ ---       │\n",
       "│         ┆            ┆ μs]       ┆           ┆   ┆           ┆           ┆ f64       ┆ f64       │\n",
       "╞═════════╪════════════╪═══════════╪═══════════╪═══╪═══════════╪═══════════╪═══════════╪═══════════╡\n",
       "│ 1000CAT ┆ 2025-01-01 ┆ 2024-12-3 ┆ 214760.80 ┆ … ┆ 0.309735  ┆ 0.212389  ┆ 0.80531   ┆ 0.902655  │\n",
       "│         ┆ 00:00:00   ┆ 1 23:59:1 ┆ 2636      ┆   ┆           ┆           ┆           ┆           │\n",
       "│         ┆            ┆ 8.049     ┆           ┆   ┆           ┆           ┆           ┆           │\n",
       "│ 1000CAT ┆ 2025-01-01 ┆ 2025-01-0 ┆ 217760.18 ┆ … ┆ 0.307018  ┆ 0.219298  ┆ 0.798246  ┆ 0.885965  │\n",
       "│         ┆ 01:00:00   ┆ 1 00:59:4 ┆ 2704      ┆   ┆           ┆           ┆           ┆           │\n",
       "│         ┆            ┆ 7.577389  ┆           ┆   ┆           ┆           ┆           ┆           │\n",
       "│ 1000CAT ┆ 2025-01-01 ┆ 2025-01-0 ┆ 217977.38 ┆ … ┆ 0.307018  ┆ 0.219298  ┆ 0.798246  ┆ 0.903509  │\n",
       "│         ┆ 02:00:00   ┆ 1 01:59:3 ┆ 804       ┆   ┆           ┆           ┆           ┆           │\n",
       "│         ┆            ┆ 9.017357  ┆           ┆   ┆           ┆           ┆           ┆           │\n",
       "│ 1000CAT ┆ 2025-01-01 ┆ 2025-01-0 ┆ 217640.01 ┆ … ┆ 0.303571  ┆ 0.214286  ┆ 0.8125    ┆ 0.901786  │\n",
       "│         ┆ 03:00:00   ┆ 1 02:44:4 ┆ 3302      ┆   ┆           ┆           ┆           ┆           │\n",
       "│         ┆            ┆ 1.683038  ┆           ┆   ┆           ┆           ┆           ┆           │\n",
       "│ 1000CAT ┆ 2025-01-01 ┆ 2025-01-0 ┆ 216397.39 ┆ … ┆ 0.297297  ┆ 0.198198  ┆ 0.810811  ┆ 0.900901  │\n",
       "│         ┆ 04:00:00   ┆ 1 03:59:1 ┆ 7557      ┆   ┆           ┆           ┆           ┆           │\n",
       "│         ┆            ┆ 0.187902  ┆           ┆   ┆           ┆           ┆           ┆           │\n",
       "│ …       ┆ …          ┆ …         ┆ …         ┆ … ┆ …         ┆ …         ┆ …         ┆ …         │\n",
       "│ ZRO     ┆ 2025-01-31 ┆ 2025-01-3 ┆ 656664.31 ┆ … ┆ 0.491935  ┆ 0.467742  ┆ 0.403226  ┆ 0.403226  │\n",
       "│         ┆ 19:00:00   ┆ 1 18:59:2 ┆ 342       ┆   ┆           ┆           ┆           ┆           │\n",
       "│         ┆            ┆ 1.951842  ┆           ┆   ┆           ┆           ┆           ┆           │\n",
       "│ ZRO     ┆ 2025-01-31 ┆ 2025-01-3 ┆ 661811.90 ┆ … ┆ 0.479675  ┆ 0.463415  ┆ 0.406504  ┆ 0.406504  │\n",
       "│         ┆ 20:00:00   ┆ 1 19:59:5 ┆ 783       ┆   ┆           ┆           ┆           ┆           │\n",
       "│         ┆            ┆ 9.483243  ┆           ┆   ┆           ┆           ┆           ┆           │\n",
       "│ ZRO     ┆ 2025-01-31 ┆ 2025-01-3 ┆ 674722.98 ┆ … ┆ 0.479675  ┆ 0.463415  ┆ 0.406504  ┆ 0.406504  │\n",
       "│         ┆ 21:00:00   ┆ 1 20:58:5 ┆ 676       ┆   ┆           ┆           ┆           ┆           │\n",
       "│         ┆            ┆ 9.996442  ┆           ┆   ┆           ┆           ┆           ┆           │\n",
       "│ ZRO     ┆ 2025-01-31 ┆ 2025-01-3 ┆ 670567.31 ┆ … ┆ 0.479675  ┆ 0.463415  ┆ 0.406504  ┆ 0.406504  │\n",
       "│         ┆ 22:00:00   ┆ 1 21:57:0 ┆ 308       ┆   ┆           ┆           ┆           ┆           │\n",
       "│         ┆            ┆ 7.919238  ┆           ┆   ┆           ┆           ┆           ┆           │\n",
       "│ ZRO     ┆ 2025-01-31 ┆ 2025-01-3 ┆ 701650.03 ┆ … ┆ 0.47541   ┆ 0.459016  ┆ 0.409836  ┆ 0.409836  │\n",
       "│         ┆ 23:00:00   ┆ 1 22:58:5 ┆ 523       ┆   ┆           ┆           ┆           ┆           │\n",
       "│         ┆            ┆ 9.192791  ┆           ┆   ┆           ┆           ┆           ┆           │\n",
       "└─────────┴────────────┴───────────┴───────────┴───┴───────────┴───────────┴───────────┴───────────┘"
      ]
     },
     "execution_count": 151,
     "metadata": {},
     "output_type": "execute_result"
    }
   ],
   "source": [
    "final_metadata"
   ]
  },
  {
   "cell_type": "code",
   "execution_count": 152,
   "id": "ddf17649-ad21-4eae-9e29-cf7568353f8c",
   "metadata": {},
   "outputs": [
    {
     "data": {
      "text/plain": [
       "Schema([('symbol',\n",
       "         Enum(categories=['0G', '1000CAT', '1000CHEEMS', '1000SATS', '1MBABYDOGE', '2Z', 'A', 'A2Z', 'AAVE', 'ACH', 'ACT', 'ACX', 'ADA', 'AEVO', 'AIXBT', 'ALGO', 'ALT', 'ANIME', 'APE', 'API3', 'APT', 'AR', 'ARB', 'ARKM', 'ASTER', 'ATOM', 'AUCTION', 'AUD', 'AVAX', 'AVNT', 'AXS', 'BABY', 'BANANA', 'BANANAS31', 'BARD', 'BB', 'BCH', 'BEAMX', 'BERA', 'BFUSD', 'BIGTIME', 'BIO', 'BLUR', 'BMT', 'BNB', 'BNX', 'BOME', 'BONK', 'BROCCOLI714', 'BTC', 'BTT', 'BTTC', 'C', 'CAKE', 'CATI', 'CETUS', 'CFX', 'CGPT', 'CHESS', 'CHZ', 'CKB', 'COMP', 'COOKIE', 'COW', 'CRV', 'CVC', 'CVX', 'CYBER', 'DF', 'DOGE', 'DOGS', 'DOLO', 'DOT', 'DYDX', 'EDEN', 'EGLD', 'EIGEN', 'ENA', 'ENJ', 'ENS', 'ENSO', 'EOS', 'EPIC', 'ERA', 'ETC', 'ETH', 'ETHFI', 'EUL', 'EUR', 'EURI', 'FDUSD', 'FET', 'FF', 'FIL', 'FLOKI', 'FLUX', 'FORM', 'FRONT', 'FTM', 'FUN', 'GALA', 'GMT', 'GMX', 'GPS', 'GRT', 'GUN', 'HAEDAL', 'HBAR', 'HEI', 'HEMI', 'HIVE', 'HMSTR', 'HOLO', 'HOME', 'HUMA', 'HYPER', 'ICP', 'IDEX', 'ILV', 'IMX', 'INIT', 'INJ', 'IO', 'IOTA', 'JTO', 'JUP', 'JUV', 'KAIA', 'KAITO', 'KERNEL', 'KMNO', 'LA', 'LAYER', 'LDO', 'LINEA', 'LINK', 'LISTA', 'LPT', 'LTC', 'MAGIC', 'MANTA', 'MASK', 'MATIC', 'MAV', 'ME', 'MEME', 'MIRA', 'MITO', 'MKR', 'MORPHO', 'MOVE', 'MUBARAK', 'NEAR', 'NEIRO', 'NEO', 'NEWT', 'NIL', 'NMR', 'NOM', 'NOT', 'NXPC', 'OM', 'OMNI', 'ONDO', 'ONT', 'OP', 'OPEN', 'ORCA', 'ORDI', 'OSMO', 'PARTI', 'PAXG', 'PENDLE', 'PENGU', 'PEOPLE', 'PEPE', 'PHA', 'PIXEL', 'PLUME', 'PNUT', 'POL', 'PROVE', 'PUMP', 'PUNDIX', 'PYTH', 'QNT', 'QTUM', 'RARE', 'RAY', 'RED', 'RENDER', 'RESOLV', 'REZ', 'RNDR', 'ROSE', 'RPL', 'RSR', 'RUNE', 'RVN', 'S', 'SAGA', 'SAHARA', 'SAND', 'SEI', 'SHELL', 'SHIB', 'SIGN', 'SKL', 'SKY', 'SLF', 'SNX', 'SOL', 'SOMI', 'SOPH', 'SPK', 'SSV', 'STEEM', 'STO', 'STRK', 'STX', 'SUI', 'SUSHI', 'SXT', 'SYN', 'SYRUP', 'T', 'TAO', 'THE', 'THETA', 'TIA', 'TLM', 'TNSR', 'TON', 'TOWNS', 'TRB', 'TREE', 'TROY', 'TRUMP', 'TRX', 'TST', 'TURBO', 'TURTLE', 'TUT', 'TWT', 'UMA', 'UNI', 'USDE', 'USUAL', 'UTK', 'VANA', 'VANRY', 'VELODROME', 'VET', 'VIRTUAL', 'W', 'WAL', 'WCT', 'WIF', 'WIN', 'WLD', 'WLFI', 'XAI', 'XLM', 'XPL', 'XRP', 'XTZ', 'YB', 'YGG', 'ZBT', 'ZEC', 'ZEN', 'ZK', 'ZKC', 'ZRO'])),\n",
       "        ('grid_time', Datetime(time_unit='us', time_zone=None)),\n",
       "        ('last_event_time', Datetime(time_unit='us', time_zone=None)),\n",
       "        ('liquidity_1d', Float64),\n",
       "        ('sqrtliq', Float64),\n",
       "        ('excess_buy_ratio_1d', Float64),\n",
       "        ('trade_count_1d', UInt64),\n",
       "        ('liquidity_7d', Float64),\n",
       "        ('sqrtliq_7d', Float64),\n",
       "        ('excess_buy_ratio_7d', Float64),\n",
       "        ('trade_count_7d', UInt64),\n",
       "        ('daily_returns_drift_7d_lookback', Float64),\n",
       "        ('daily_vol_7d_lookback', Float64),\n",
       "        ('vol_ssize_7d_lookback', UInt64),\n",
       "        ('daily_returns_drift_30d_lookback', Float64),\n",
       "        ('daily_vol_30d_lookback', Float64),\n",
       "        ('vol_ssize_30d_lookback', UInt64),\n",
       "        ('liquidity_1d_q', Float64),\n",
       "        ('liquidity_7d_q', Float64),\n",
       "        ('daily_vol_7d_lookback_q', Float64),\n",
       "        ('daily_vol_30d_lookback_q', Float64)])"
      ]
     },
     "execution_count": 152,
     "metadata": {},
     "output_type": "execute_result"
    }
   ],
   "source": [
    "final_metadata.schema"
   ]
  }
 ],
 "metadata": {
  "kernelspec": {
   "display_name": "midas",
   "language": "python",
   "name": "midas"
  },
  "language_info": {
   "codemirror_mode": {
    "name": "ipython",
    "version": 3
   },
   "file_extension": ".py",
   "mimetype": "text/x-python",
   "name": "python",
   "nbconvert_exporter": "python",
   "pygments_lexer": "ipython3",
   "version": "3.12.3"
  },
  "widgets": {
   "application/vnd.jupyter.widget-state+json": {
    "state": {
     "1f40c5c1d15e4cd6a2758116ea6b6a2a": {
      "model_module": "@jupyter-widgets/controls",
      "model_module_version": "2.0.0",
      "model_name": "HTMLModel",
      "state": {
       "layout": "IPY_MODEL_c570780cee99487a88926916e59e06c2",
       "style": "IPY_MODEL_d9500f40a21e422b9f66f8610ec031bb",
       "value": " 0/47 [00:00&lt;?, ?it/s]"
      }
     },
     "22b2afd8ee97494294e34ab323ecd9bb": {
      "model_module": "@jupyter-widgets/base",
      "model_module_version": "2.0.0",
      "model_name": "LayoutModel",
      "state": {}
     },
     "2914da102029474098b4eac087fa85ef": {
      "model_module": "@jupyter-widgets/controls",
      "model_module_version": "2.0.0",
      "model_name": "HTMLModel",
      "state": {
       "layout": "IPY_MODEL_22b2afd8ee97494294e34ab323ecd9bb",
       "style": "IPY_MODEL_d96671c847f8485d8598fa4bc9bfe762",
       "value": "  0%"
      }
     },
     "4d68934e2c274f178dc5cdfb231b4f1e": {
      "model_module": "@jupyter-widgets/controls",
      "model_module_version": "2.0.0",
      "model_name": "ProgressStyleModel",
      "state": {
       "description_width": ""
      }
     },
     "843c9423b67f4a10aea7f2d06b8b1e70": {
      "model_module": "@jupyter-widgets/controls",
      "model_module_version": "2.0.0",
      "model_name": "HBoxModel",
      "state": {
       "children": [
        "IPY_MODEL_2914da102029474098b4eac087fa85ef",
        "IPY_MODEL_f7dd49c6ce744364b01843c0ee320f56",
        "IPY_MODEL_1f40c5c1d15e4cd6a2758116ea6b6a2a"
       ],
       "layout": "IPY_MODEL_99a7892bded04dd2ac944aaa6fbf6ef5"
      }
     },
     "856e41993cd9474babdb809246b1f315": {
      "model_module": "@jupyter-widgets/base",
      "model_module_version": "2.0.0",
      "model_name": "LayoutModel",
      "state": {}
     },
     "99a7892bded04dd2ac944aaa6fbf6ef5": {
      "model_module": "@jupyter-widgets/base",
      "model_module_version": "2.0.0",
      "model_name": "LayoutModel",
      "state": {}
     },
     "c570780cee99487a88926916e59e06c2": {
      "model_module": "@jupyter-widgets/base",
      "model_module_version": "2.0.0",
      "model_name": "LayoutModel",
      "state": {}
     },
     "d9500f40a21e422b9f66f8610ec031bb": {
      "model_module": "@jupyter-widgets/controls",
      "model_module_version": "2.0.0",
      "model_name": "HTMLStyleModel",
      "state": {
       "description_width": "",
       "font_size": null,
       "text_color": null
      }
     },
     "d96671c847f8485d8598fa4bc9bfe762": {
      "model_module": "@jupyter-widgets/controls",
      "model_module_version": "2.0.0",
      "model_name": "HTMLStyleModel",
      "state": {
       "description_width": "",
       "font_size": null,
       "text_color": null
      }
     },
     "f7dd49c6ce744364b01843c0ee320f56": {
      "model_module": "@jupyter-widgets/controls",
      "model_module_version": "2.0.0",
      "model_name": "FloatProgressModel",
      "state": {
       "layout": "IPY_MODEL_856e41993cd9474babdb809246b1f315",
       "max": 47,
       "style": "IPY_MODEL_4d68934e2c274f178dc5cdfb231b4f1e"
      }
     }
    },
    "version_major": 2,
    "version_minor": 0
   }
  }
 },
 "nbformat": 4,
 "nbformat_minor": 5
}
