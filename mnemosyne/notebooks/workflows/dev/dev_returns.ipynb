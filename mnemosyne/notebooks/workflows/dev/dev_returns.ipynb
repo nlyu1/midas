{
 "cells": [
  {
   "cell_type": "markdown",
   "id": "b557875c",
   "metadata": {},
   "source": [
    "# Returns engine development"
   ]
  },
  {
   "cell_type": "code",
   "execution_count": 1,
   "id": "00e9e27b",
   "metadata": {},
   "outputs": [
    {
     "data": {
      "text/html": [
       "<div><style>\n",
       ".dataframe > thead > tr,\n",
       ".dataframe > tbody > tr {\n",
       "  text-align: right;\n",
       "  white-space: pre-wrap;\n",
       "}\n",
       "</style>\n",
       "<small>shape: (951_143, 17)</small><table border=\"1\" class=\"dataframe\"><thead><tr><th>symbol</th><th>date</th><th>time</th><th>peg_symbol</th><th>open</th><th>high</th><th>low</th><th>close</th><th>volume_base</th><th>volume_quote</th><th>trade_count</th><th>last_trade_time</th><th>taker_buy_volume_quote</th><th>taker_sell_volume_quote</th><th>vwap_taker_buy</th><th>vwap_taker_sell</th><th>vwap_total_by_base</th></tr><tr><td>enum</td><td>date</td><td>datetime[μs]</td><td>str</td><td>f64</td><td>f64</td><td>f64</td><td>f64</td><td>f64</td><td>f64</td><td>u32</td><td>datetime[μs]</td><td>f64</td><td>f64</td><td>f64</td><td>f64</td><td>f64</td></tr></thead><tbody><tr><td>&quot;ARDR&quot;</td><td>2022-01-31</td><td>2022-01-31 00:00:00</td><td>&quot;USDT&quot;</td><td>0.1749</td><td>0.1831</td><td>0.1749</td><td>0.179</td><td>515684.0</td><td>92477.4439</td><td>459</td><td>2022-01-31 00:09:59.319</td><td>57200.8171</td><td>35276.6268</td><td>0.179366</td><td>0.179305</td><td>0.17933</td></tr><tr><td>&quot;ARPA&quot;</td><td>2022-01-31</td><td>2022-01-31 00:00:00</td><td>&quot;USDT&quot;</td><td>0.06183</td><td>0.06192</td><td>0.06134</td><td>0.06134</td><td>151652.8</td><td>9333.058485</td><td>98</td><td>2022-01-31 00:09:32.215</td><td>5141.489062</td><td>4191.569423</td><td>0.061471</td><td>0.061631</td><td>0.061542</td></tr><tr><td>&quot;BOND&quot;</td><td>2022-01-31</td><td>2022-01-31 00:00:00</td><td>&quot;USDT&quot;</td><td>10.2</td><td>10.2</td><td>9.97</td><td>10.02</td><td>3427.05</td><td>34399.8332</td><td>168</td><td>2022-01-31 00:09:56.116</td><td>16174.6935</td><td>18225.1397</td><td>10.039816</td><td>10.036063</td><td>10.037739</td></tr><tr><td>&quot;BTG&quot;</td><td>2022-01-31</td><td>2022-01-31 00:00:00</td><td>&quot;USDT&quot;</td><td>29.58</td><td>29.62</td><td>29.46</td><td>29.5</td><td>37.36</td><td>1103.2826</td><td>15</td><td>2022-01-31 00:09:01.129</td><td>583.915</td><td>519.3676</td><td>29.565412</td><td>29.492793</td><td>29.531119</td></tr><tr><td>&quot;CAKE&quot;</td><td>2022-01-31</td><td>2022-01-31 00:00:00</td><td>&quot;USDT&quot;</td><td>7.39</td><td>7.41</td><td>7.32</td><td>7.34</td><td>19347.78</td><td>142541.8449</td><td>537</td><td>2022-01-31 00:09:49.236</td><td>71648.6994</td><td>70893.1455</td><td>7.369551</td><td>7.365282</td><td>7.367349</td></tr><tr><td>&hellip;</td><td>&hellip;</td><td>&hellip;</td><td>&hellip;</td><td>&hellip;</td><td>&hellip;</td><td>&hellip;</td><td>&hellip;</td><td>&hellip;</td><td>&hellip;</td><td>&hellip;</td><td>&hellip;</td><td>&hellip;</td><td>&hellip;</td><td>&hellip;</td><td>&hellip;</td><td>&hellip;</td></tr><tr><td>&quot;WING&quot;</td><td>2022-02-19</td><td>2022-02-19 23:50:00</td><td>&quot;USDT&quot;</td><td>9.37</td><td>9.37</td><td>9.36</td><td>9.36</td><td>92.48</td><td>865.9888</td><td>15</td><td>2022-02-19 23:59:47.704</td><td>301.714</td><td>564.2748</td><td>9.37</td><td>9.360897</td><td>9.364066</td></tr><tr><td>&quot;MBL&quot;</td><td>2022-02-19</td><td>2022-02-19 23:50:00</td><td>&quot;USDT&quot;</td><td>0.005826</td><td>0.005829</td><td>0.005814</td><td>0.005821</td><td>891217.0</td><td>5187.745615</td><td>45</td><td>2022-02-19 23:59:57.064</td><td>2474.894487</td><td>2712.851128</td><td>0.005824</td><td>0.005819</td><td>0.005821</td></tr><tr><td>&quot;PSG&quot;</td><td>2022-02-19</td><td>2022-02-19 23:50:00</td><td>&quot;USDT&quot;</td><td>15.08</td><td>15.14</td><td>15.07</td><td>15.11</td><td>241.07</td><td>3643.4404</td><td>26</td><td>2022-02-19 23:55:48.020</td><td>3340.8348</td><td>302.6056</td><td>15.117606</td><td>15.07</td><td>15.11362</td></tr><tr><td>&quot;HIGH&quot;</td><td>2022-02-19</td><td>2022-02-19 23:50:00</td><td>&quot;USDT&quot;</td><td>4.53</td><td>4.57</td><td>4.53</td><td>4.56</td><td>770.237</td><td>3501.90544</td><td>46</td><td>2022-02-19 23:57:40.687</td><td>1685.72248</td><td>1816.18296</td><td>4.55098</td><td>4.542443</td><td>4.54653</td></tr><tr><td>&quot;STORJ&quot;</td><td>2022-02-19</td><td>2022-02-19 23:50:00</td><td>&quot;USDT&quot;</td><td>1.0239</td><td>1.0289</td><td>1.0239</td><td>1.0251</td><td>6733.0</td><td>6915.0193</td><td>65</td><td>2022-02-19 23:59:51.096</td><td>5543.8224</td><td>1371.1969</td><td>1.027015</td><td>1.027114</td><td>1.027034</td></tr></tbody></table></div>"
      ],
      "text/plain": [
       "shape: (951_143, 17)\n",
       "┌────────┬────────────┬────────────┬───────────┬───┬───────────┬───────────┬───────────┬───────────┐\n",
       "│ symbol ┆ date       ┆ time       ┆ peg_symbo ┆ … ┆ taker_sel ┆ vwap_take ┆ vwap_take ┆ vwap_tota │\n",
       "│ ---    ┆ ---        ┆ ---        ┆ l         ┆   ┆ l_volume_ ┆ r_buy     ┆ r_sell    ┆ l_by_base │\n",
       "│ enum   ┆ date       ┆ datetime[μ ┆ ---       ┆   ┆ quote     ┆ ---       ┆ ---       ┆ ---       │\n",
       "│        ┆            ┆ s]         ┆ str       ┆   ┆ ---       ┆ f64       ┆ f64       ┆ f64       │\n",
       "│        ┆            ┆            ┆           ┆   ┆ f64       ┆           ┆           ┆           │\n",
       "╞════════╪════════════╪════════════╪═══════════╪═══╪═══════════╪═══════════╪═══════════╪═══════════╡\n",
       "│ ARDR   ┆ 2022-01-31 ┆ 2022-01-31 ┆ USDT      ┆ … ┆ 35276.626 ┆ 0.179366  ┆ 0.179305  ┆ 0.17933   │\n",
       "│        ┆            ┆ 00:00:00   ┆           ┆   ┆ 8         ┆           ┆           ┆           │\n",
       "│ ARPA   ┆ 2022-01-31 ┆ 2022-01-31 ┆ USDT      ┆ … ┆ 4191.5694 ┆ 0.061471  ┆ 0.061631  ┆ 0.061542  │\n",
       "│        ┆            ┆ 00:00:00   ┆           ┆   ┆ 23        ┆           ┆           ┆           │\n",
       "│ BOND   ┆ 2022-01-31 ┆ 2022-01-31 ┆ USDT      ┆ … ┆ 18225.139 ┆ 10.039816 ┆ 10.036063 ┆ 10.037739 │\n",
       "│        ┆            ┆ 00:00:00   ┆           ┆   ┆ 7         ┆           ┆           ┆           │\n",
       "│ BTG    ┆ 2022-01-31 ┆ 2022-01-31 ┆ USDT      ┆ … ┆ 519.3676  ┆ 29.565412 ┆ 29.492793 ┆ 29.531119 │\n",
       "│        ┆            ┆ 00:00:00   ┆           ┆   ┆           ┆           ┆           ┆           │\n",
       "│ CAKE   ┆ 2022-01-31 ┆ 2022-01-31 ┆ USDT      ┆ … ┆ 70893.145 ┆ 7.369551  ┆ 7.365282  ┆ 7.367349  │\n",
       "│        ┆            ┆ 00:00:00   ┆           ┆   ┆ 5         ┆           ┆           ┆           │\n",
       "│ …      ┆ …          ┆ …          ┆ …         ┆ … ┆ …         ┆ …         ┆ …         ┆ …         │\n",
       "│ WING   ┆ 2022-02-19 ┆ 2022-02-19 ┆ USDT      ┆ … ┆ 564.2748  ┆ 9.37      ┆ 9.360897  ┆ 9.364066  │\n",
       "│        ┆            ┆ 23:50:00   ┆           ┆   ┆           ┆           ┆           ┆           │\n",
       "│ MBL    ┆ 2022-02-19 ┆ 2022-02-19 ┆ USDT      ┆ … ┆ 2712.8511 ┆ 0.005824  ┆ 0.005819  ┆ 0.005821  │\n",
       "│        ┆            ┆ 23:50:00   ┆           ┆   ┆ 28        ┆           ┆           ┆           │\n",
       "│ PSG    ┆ 2022-02-19 ┆ 2022-02-19 ┆ USDT      ┆ … ┆ 302.6056  ┆ 15.117606 ┆ 15.07     ┆ 15.11362  │\n",
       "│        ┆            ┆ 23:50:00   ┆           ┆   ┆           ┆           ┆           ┆           │\n",
       "│ HIGH   ┆ 2022-02-19 ┆ 2022-02-19 ┆ USDT      ┆ … ┆ 1816.1829 ┆ 4.55098   ┆ 4.542443  ┆ 4.54653   │\n",
       "│        ┆            ┆ 23:50:00   ┆           ┆   ┆ 6         ┆           ┆           ┆           │\n",
       "│ STORJ  ┆ 2022-02-19 ┆ 2022-02-19 ┆ USDT      ┆ … ┆ 1371.1969 ┆ 1.027015  ┆ 1.027114  ┆ 1.027034  │\n",
       "│        ┆            ┆ 23:50:00   ┆           ┆   ┆           ┆           ┆           ┆           │\n",
       "└────────┴────────────┴────────────┴───────────┴───┴───────────┴───────────┴───────────┴───────────┘"
      ]
     },
     "execution_count": 1,
     "metadata": {},
     "output_type": "execute_result"
    }
   ],
   "source": [
    "import mnemosyne as ms \n",
    "import polars as pl\n",
    "from datetime import date as Date\n",
    "\n",
    "peg_symbol = 'USDT'\n",
    "dstype = ms.DatasetType.BinanceSpotTrades\n",
    "grid_interval = '10m'\n",
    "\n",
    "dataset = ms.binance.BinanceLastTradesGrid(\n",
    "        peg_symbol=peg_symbol, \n",
    "        grid_interval=grid_interval, \n",
    "        dataset_type=dstype, \n",
    "        parquet_names='*.parquet', \n",
    "        num_workers=4, \n",
    "    )\n",
    "\n",
    "df = dataset[dataset.partitions[30:50]].collect()\n",
    "df"
   ]
  },
  {
   "cell_type": "code",
   "execution_count": 2,
   "id": "c200fcde",
   "metadata": {},
   "outputs": [
    {
     "data": {
      "text/html": [
       "<div><style>\n",
       ".dataframe > thead > tr,\n",
       ".dataframe > tbody > tr {\n",
       "  text-align: right;\n",
       "  white-space: pre-wrap;\n",
       "}\n",
       "</style>\n",
       "<small>shape: (951_143, 2)</small><table border=\"1\" class=\"dataframe\"><thead><tr><th>symbol</th><th>start_time</th></tr><tr><td>enum</td><td>datetime[μs]</td></tr></thead><tbody><tr><td>&quot;ARDR&quot;</td><td>2022-01-31 00:09:59.319</td></tr><tr><td>&quot;ARPA&quot;</td><td>2022-01-31 00:09:32.215</td></tr><tr><td>&quot;BOND&quot;</td><td>2022-01-31 00:09:56.116</td></tr><tr><td>&quot;BTG&quot;</td><td>2022-01-31 00:09:01.129</td></tr><tr><td>&quot;CAKE&quot;</td><td>2022-01-31 00:09:49.236</td></tr><tr><td>&hellip;</td><td>&hellip;</td></tr><tr><td>&quot;WING&quot;</td><td>2022-02-19 23:59:47.704</td></tr><tr><td>&quot;MBL&quot;</td><td>2022-02-19 23:59:57.064</td></tr><tr><td>&quot;PSG&quot;</td><td>2022-02-19 23:55:48.020</td></tr><tr><td>&quot;HIGH&quot;</td><td>2022-02-19 23:57:40.687</td></tr><tr><td>&quot;STORJ&quot;</td><td>2022-02-19 23:59:51.096</td></tr></tbody></table></div>"
      ],
      "text/plain": [
       "shape: (951_143, 2)\n",
       "┌────────┬─────────────────────────┐\n",
       "│ symbol ┆ start_time              │\n",
       "│ ---    ┆ ---                     │\n",
       "│ enum   ┆ datetime[μs]            │\n",
       "╞════════╪═════════════════════════╡\n",
       "│ ARDR   ┆ 2022-01-31 00:09:59.319 │\n",
       "│ ARPA   ┆ 2022-01-31 00:09:32.215 │\n",
       "│ BOND   ┆ 2022-01-31 00:09:56.116 │\n",
       "│ BTG    ┆ 2022-01-31 00:09:01.129 │\n",
       "│ CAKE   ┆ 2022-01-31 00:09:49.236 │\n",
       "│ …      ┆ …                       │\n",
       "│ WING   ┆ 2022-02-19 23:59:47.704 │\n",
       "│ MBL    ┆ 2022-02-19 23:59:57.064 │\n",
       "│ PSG    ┆ 2022-02-19 23:55:48.020 │\n",
       "│ HIGH   ┆ 2022-02-19 23:57:40.687 │\n",
       "│ STORJ  ┆ 2022-02-19 23:59:51.096 │\n",
       "└────────┴─────────────────────────┘"
      ]
     },
     "execution_count": 2,
     "metadata": {},
     "output_type": "execute_result"
    }
   ],
   "source": [
    "query_lf = df.lazy().select('symbol', 'time', pl.col('last_trade_time').alias('start_time')).drop('time')\n",
    "\n",
    "start_time = pl.col('last_trade_time')\n",
    "fair_expr = pl.col('vwap_total_by_base') # Expression from gridded schema from which to compute fair \n",
    "mark_expr = pl.lit('10m')\n",
    "tick_lag_tolerance = pl.lit('30s')\n",
    "\n",
    "peg_symbol = 'USDC'\n",
    "grid_backend_dstype = ms.DatasetType.BinanceSpotTrades\n",
    "grid_backend_interval = '10m'\n",
    "\n",
    "query_lf.collect()"
   ]
  },
  {
   "cell_type": "code",
   "execution_count": 74,
   "id": "ab66a3d0",
   "metadata": {},
   "outputs": [],
   "source": [
    "backend_dataset = ms.binance.BinanceLastTradesGrid(\n",
    "        peg_symbol=peg_symbol, \n",
    "        grid_interval=grid_backend_interval, \n",
    "        dataset_type=grid_backend_dstype, \n",
    "        parquet_names='*.parquet')\n",
    "db = backend_dataset.lazyframe()\n",
    "db_symbol_enum = db.collect_schema()['symbol']"
   ]
  },
  {
   "cell_type": "code",
   "execution_count": 75,
   "id": "8e4ce2a5",
   "metadata": {},
   "outputs": [
    {
     "data": {
      "text/html": [
       "<div><style>\n",
       ".dataframe > thead > tr,\n",
       ".dataframe > tbody > tr {\n",
       "  text-align: right;\n",
       "  white-space: pre-wrap;\n",
       "}\n",
       "</style>\n",
       "<small>shape: (290_152, 4)</small><table border=\"1\" class=\"dataframe\"><thead><tr><th>row_id</th><th>symbol</th><th>start_time</th><th>end_time</th></tr><tr><td>u32</td><td>enum</td><td>datetime[μs]</td><td>datetime[μs]</td></tr></thead><tbody><tr><td>0</td><td>&quot;AAVE&quot;</td><td>2022-01-31 00:09:30.630</td><td>2022-01-31 00:19:30.630</td></tr><tr><td>1</td><td>&quot;AAVE&quot;</td><td>2022-01-31 00:19:58.736</td><td>2022-01-31 00:29:58.736</td></tr><tr><td>2</td><td>&quot;AAVE&quot;</td><td>2022-01-31 00:29:56.692</td><td>2022-01-31 00:39:56.692</td></tr><tr><td>3</td><td>&quot;AAVE&quot;</td><td>2022-01-31 00:39:23.640</td><td>2022-01-31 00:49:23.640</td></tr><tr><td>4</td><td>&quot;AAVE&quot;</td><td>2022-01-31 00:49:58.437</td><td>2022-01-31 00:59:58.437</td></tr><tr><td>&hellip;</td><td>&hellip;</td><td>&hellip;</td><td>&hellip;</td></tr><tr><td>290147</td><td>&quot;ZEN&quot;</td><td>2022-02-19 23:19:44.638</td><td>2022-02-19 23:29:44.638</td></tr><tr><td>290148</td><td>&quot;ZEN&quot;</td><td>2022-02-19 23:29:24.084</td><td>2022-02-19 23:39:24.084</td></tr><tr><td>290149</td><td>&quot;ZEN&quot;</td><td>2022-02-19 23:39:46.778</td><td>2022-02-19 23:49:46.778</td></tr><tr><td>290150</td><td>&quot;ZEN&quot;</td><td>2022-02-19 23:49:53.570</td><td>2022-02-19 23:59:53.570</td></tr><tr><td>290151</td><td>&quot;ZEN&quot;</td><td>2022-02-19 23:59:56.510</td><td>2022-02-20 00:09:56.510</td></tr></tbody></table></div>"
      ],
      "text/plain": [
       "shape: (290_152, 4)\n",
       "┌────────┬────────┬─────────────────────────┬─────────────────────────┐\n",
       "│ row_id ┆ symbol ┆ start_time              ┆ end_time                │\n",
       "│ ---    ┆ ---    ┆ ---                     ┆ ---                     │\n",
       "│ u32    ┆ enum   ┆ datetime[μs]            ┆ datetime[μs]            │\n",
       "╞════════╪════════╪═════════════════════════╪═════════════════════════╡\n",
       "│ 0      ┆ AAVE   ┆ 2022-01-31 00:09:30.630 ┆ 2022-01-31 00:19:30.630 │\n",
       "│ 1      ┆ AAVE   ┆ 2022-01-31 00:19:58.736 ┆ 2022-01-31 00:29:58.736 │\n",
       "│ 2      ┆ AAVE   ┆ 2022-01-31 00:29:56.692 ┆ 2022-01-31 00:39:56.692 │\n",
       "│ 3      ┆ AAVE   ┆ 2022-01-31 00:39:23.640 ┆ 2022-01-31 00:49:23.640 │\n",
       "│ 4      ┆ AAVE   ┆ 2022-01-31 00:49:58.437 ┆ 2022-01-31 00:59:58.437 │\n",
       "│ …      ┆ …      ┆ …                       ┆ …                       │\n",
       "│ 290147 ┆ ZEN    ┆ 2022-02-19 23:19:44.638 ┆ 2022-02-19 23:29:44.638 │\n",
       "│ 290148 ┆ ZEN    ┆ 2022-02-19 23:29:24.084 ┆ 2022-02-19 23:39:24.084 │\n",
       "│ 290149 ┆ ZEN    ┆ 2022-02-19 23:39:46.778 ┆ 2022-02-19 23:49:46.778 │\n",
       "│ 290150 ┆ ZEN    ┆ 2022-02-19 23:49:53.570 ┆ 2022-02-19 23:59:53.570 │\n",
       "│ 290151 ┆ ZEN    ┆ 2022-02-19 23:59:56.510 ┆ 2022-02-20 00:09:56.510 │\n",
       "└────────┴────────┴─────────────────────────┴─────────────────────────┘"
      ]
     },
     "execution_count": 75,
     "metadata": {},
     "output_type": "execute_result"
    }
   ],
   "source": [
    "# {row_id, symbol, start_time, end_time}\n",
    "query_with_both = (\n",
    "    query_lf\n",
    "    .sort(['symbol', 'start_time'])\n",
    "    # IMPORTANT: filter to compatible symbols (rest are marked with nans)\n",
    "    # Then convert from querys' to backends' enum type\n",
    "    .filter(pl.col('symbol').cast(str).is_in(list(db_symbol_enum.categories)))\n",
    "    .with_columns(pl.col('symbol').cast(str).cast(db_symbol_enum))\n",
    "    .with_row_index('row_id')\n",
    "    .with_columns(\n",
    "        pl.col('start_time').dt.offset_by(mark_expr).alias('end_time')\n",
    "    )\n",
    "    .with_columns([\n",
    "        pl.col('start_time').set_sorted(),\n",
    "        pl.col('end_time').set_sorted()\n",
    "    ])\n",
    ")\n",
    "# row_id, symbol, query_time, query_type\n",
    "query_type_enum = pl.Enum(['start', 'end'])\n",
    "# Make sure that query has the same symbol-enum type as backend database\n",
    "long_format = pl.concat([\n",
    "        query_with_both.select(\n",
    "            'row_id', 'symbol', 'start_time',\n",
    "            pl.col('start_time').alias('query_time'),\n",
    "            pl.lit('start').alias('query_type').cast(query_type_enum)\n",
    "        ),\n",
    "        query_with_both.select(\n",
    "            'row_id', 'symbol', 'start_time',\n",
    "            pl.col('end_time').alias('query_time'),\n",
    "            pl.lit('end').alias('query_type').cast(query_type_enum)\n",
    "        )\n",
    "    ]).drop('start_time').sort(['symbol', 'query_time'])\n",
    "\n",
    "query_with_both.collect()"
   ]
  },
  {
   "cell_type": "code",
   "execution_count": 76,
   "id": "5364aa05",
   "metadata": {},
   "outputs": [],
   "source": [
    "min_date, max_date = long_format.select(\n",
    "    pl.col('query_time').dt.date().min().alias('min'),\n",
    "    pl.col('query_time').dt.date().max().alias('max')\n",
    ").collect().row(0)\n",
    "\n",
    "inrange_db = db.filter(\n",
    "        pl.col('date').is_between(\n",
    "            min_date, \n",
    "            max_date\n",
    "        )\n",
    "    ).select(\n",
    "        'symbol',\n",
    "        fair_expr.alias('mark_fair'),\n",
    "        pl.col('last_trade_time').alias('mark_time'), \n",
    "    ).sort('symbol', 'mark_time').with_columns(pl.col('mark_time').set_sorted())"
   ]
  },
  {
   "cell_type": "code",
   "execution_count": 63,
   "id": "3f854947",
   "metadata": {},
   "outputs": [
    {
     "data": {
      "text/html": [
       "<div><style>\n",
       ".dataframe > thead > tr,\n",
       ".dataframe > tbody > tr {\n",
       "  text-align: right;\n",
       "  white-space: pre-wrap;\n",
       "}\n",
       "</style>\n",
       "<small>shape: (2_880, 4)</small><table border=\"1\" class=\"dataframe\"><thead><tr><th>symbol</th><th>start_time</th><th>max_tick_to_query_lag</th><th>return</th></tr><tr><td>enum</td><td>datetime[μs]</td><td>duration[μs]</td><td>f64</td></tr></thead><tbody><tr><td>&quot;BTC&quot;</td><td>2022-01-31 00:09:59.999</td><td>2s 163ms</td><td>-0.000698</td></tr><tr><td>&quot;BTC&quot;</td><td>2022-01-31 00:19:59.999</td><td>26s 281ms</td><td>-0.00159</td></tr><tr><td>&quot;BTC&quot;</td><td>2022-01-31 00:29:59.999</td><td>26s 281ms</td><td>-0.002775</td></tr><tr><td>&quot;BTC&quot;</td><td>2022-01-31 00:39:59.999</td><td>2s 989ms</td><td>-0.009482</td></tr><tr><td>&quot;BTC&quot;</td><td>2022-01-31 00:49:59.999</td><td>2s 844ms</td><td>-0.008116</td></tr><tr><td>&hellip;</td><td>&hellip;</td><td>&hellip;</td><td>&hellip;</td></tr><tr><td>&quot;BTC&quot;</td><td>2022-02-19 23:19:59.999</td><td>21s 429ms</td><td>0.00037</td></tr><tr><td>&quot;BTC&quot;</td><td>2022-02-19 23:29:59.999</td><td>23s 27ms</td><td>-0.000236</td></tr><tr><td>&quot;BTC&quot;</td><td>2022-02-19 23:39:59.999</td><td>23s 27ms</td><td>0.000155</td></tr><tr><td>&quot;BTC&quot;</td><td>2022-02-19 23:49:59.999</td><td>17s 78ms</td><td>0.001244</td></tr><tr><td>&quot;BTC&quot;</td><td>2022-02-19 23:59:59.999</td><td>11s 447ms</td><td>-0.000283</td></tr></tbody></table></div>"
      ],
      "text/plain": [
       "shape: (2_880, 4)\n",
       "┌────────┬─────────────────────────┬───────────────────────┬───────────┐\n",
       "│ symbol ┆ start_time              ┆ max_tick_to_query_lag ┆ return    │\n",
       "│ ---    ┆ ---                     ┆ ---                   ┆ ---       │\n",
       "│ enum   ┆ datetime[μs]            ┆ duration[μs]          ┆ f64       │\n",
       "╞════════╪═════════════════════════╪═══════════════════════╪═══════════╡\n",
       "│ BTC    ┆ 2022-01-31 00:09:59.999 ┆ 2s 163ms              ┆ -0.000698 │\n",
       "│ BTC    ┆ 2022-01-31 00:19:59.999 ┆ 26s 281ms             ┆ -0.00159  │\n",
       "│ BTC    ┆ 2022-01-31 00:29:59.999 ┆ 26s 281ms             ┆ -0.002775 │\n",
       "│ BTC    ┆ 2022-01-31 00:39:59.999 ┆ 2s 989ms              ┆ -0.009482 │\n",
       "│ BTC    ┆ 2022-01-31 00:49:59.999 ┆ 2s 844ms              ┆ -0.008116 │\n",
       "│ …      ┆ …                       ┆ …                     ┆ …         │\n",
       "│ BTC    ┆ 2022-02-19 23:19:59.999 ┆ 21s 429ms             ┆ 0.00037   │\n",
       "│ BTC    ┆ 2022-02-19 23:29:59.999 ┆ 23s 27ms              ┆ -0.000236 │\n",
       "│ BTC    ┆ 2022-02-19 23:39:59.999 ┆ 23s 27ms              ┆ 0.000155  │\n",
       "│ BTC    ┆ 2022-02-19 23:49:59.999 ┆ 17s 78ms              ┆ 0.001244  │\n",
       "│ BTC    ┆ 2022-02-19 23:59:59.999 ┆ 11s 447ms             ┆ -0.000283 │\n",
       "└────────┴─────────────────────────┴───────────────────────┴───────────┘"
      ]
     },
     "execution_count": 63,
     "metadata": {},
     "output_type": "execute_result"
    }
   ],
   "source": [
    "merged_results = long_format.join_asof(\n",
    "    inrange_db,\n",
    "    left_on='query_time',\n",
    "    right_on='mark_time',\n",
    "    by='symbol',\n",
    "    strategy='backward'\n",
    ").with_columns(\n",
    "    (pl.col('query_time') - pl.col('mark_time')).alias('tick_to_query_lag'),\n",
    "    pl.when(\n",
    "        pl.col('mark_time').dt.offset_by(tick_lag_tolerance) >= pl.col('query_time')\n",
    "    ).then(pl.col('mark_fair')).otherwise(None).alias('mark_fair')\n",
    ").select('row_id', 'symbol', 'query_time', 'query_type', 'tick_to_query_lag', 'mark_fair')\n",
    "\n",
    "mark_cols = (\n",
    "    merged_results.group_by(['row_id', 'symbol'])\n",
    "    .agg([\n",
    "        pl.col('tick_to_query_lag').max().alias('max_tick_to_query_lag'), # This is maximum over ticks\n",
    "        # pl.col('query_time').filter(pl.col('query_type') == 'start').first().alias('start_query_time'), \n",
    "        # pl.col('query_time').filter(pl.col('query_type') == 'end').first().alias('end_query_time'), \n",
    "        # pl.col('mark_fair').filter(pl.col('query_type') == 'start').first().alias('start_fair'), \n",
    "        # pl.col('mark_fair').filter(pl.col('query_type') == 'end').first().alias('end_fair'), \n",
    "        (\n",
    "            (pl.col('mark_fair').filter(pl.col('query_type') == 'end').first() - \n",
    "            pl.col('mark_fair').filter(pl.col('query_type') == 'start').first()) \n",
    "            / pl.col('mark_fair').filter(pl.col('query_type') == 'start').first()\n",
    "        ).alias('return')\n",
    "    ])\n",
    "    .sort('row_id')\n",
    ").drop('symbol')\n",
    "return_lf = query_with_both.join(\n",
    "    mark_cols, on='row_id'\n",
    ").drop('row_id', 'end_time')\n",
    "# symbol, start_time, max_tick_to_query_lag, return\n",
    "return_lf.filter(pl.col('symbol') == 'BTC').collect()"
   ]
  },
  {
   "cell_type": "code",
   "execution_count": 81,
   "id": "37b3da4a",
   "metadata": {},
   "outputs": [
    {
     "data": {
      "text/html": [
       "<div><style>\n",
       ".dataframe > thead > tr,\n",
       ".dataframe > tbody > tr {\n",
       "  text-align: right;\n",
       "  white-space: pre-wrap;\n",
       "}\n",
       "</style>\n",
       "<small>shape: (951_143, 2)</small><table border=\"1\" class=\"dataframe\"><thead><tr><th>symbol</th><th>start_time</th></tr><tr><td>enum</td><td>datetime[μs]</td></tr></thead><tbody><tr><td>&quot;ARDR&quot;</td><td>2022-01-31 00:09:59.319</td></tr><tr><td>&quot;ARPA&quot;</td><td>2022-01-31 00:09:32.215</td></tr><tr><td>&quot;BOND&quot;</td><td>2022-01-31 00:09:56.116</td></tr><tr><td>&quot;BTG&quot;</td><td>2022-01-31 00:09:01.129</td></tr><tr><td>&quot;CAKE&quot;</td><td>2022-01-31 00:09:49.236</td></tr><tr><td>&hellip;</td><td>&hellip;</td></tr><tr><td>&quot;WING&quot;</td><td>2022-02-19 23:59:47.704</td></tr><tr><td>&quot;MBL&quot;</td><td>2022-02-19 23:59:57.064</td></tr><tr><td>&quot;PSG&quot;</td><td>2022-02-19 23:55:48.020</td></tr><tr><td>&quot;HIGH&quot;</td><td>2022-02-19 23:57:40.687</td></tr><tr><td>&quot;STORJ&quot;</td><td>2022-02-19 23:59:51.096</td></tr></tbody></table></div>"
      ],
      "text/plain": [
       "shape: (951_143, 2)\n",
       "┌────────┬─────────────────────────┐\n",
       "│ symbol ┆ start_time              │\n",
       "│ ---    ┆ ---                     │\n",
       "│ enum   ┆ datetime[μs]            │\n",
       "╞════════╪═════════════════════════╡\n",
       "│ ARDR   ┆ 2022-01-31 00:09:59.319 │\n",
       "│ ARPA   ┆ 2022-01-31 00:09:32.215 │\n",
       "│ BOND   ┆ 2022-01-31 00:09:56.116 │\n",
       "│ BTG    ┆ 2022-01-31 00:09:01.129 │\n",
       "│ CAKE   ┆ 2022-01-31 00:09:49.236 │\n",
       "│ …      ┆ …                       │\n",
       "│ WING   ┆ 2022-02-19 23:59:47.704 │\n",
       "│ MBL    ┆ 2022-02-19 23:59:57.064 │\n",
       "│ PSG    ┆ 2022-02-19 23:55:48.020 │\n",
       "│ HIGH   ┆ 2022-02-19 23:57:40.687 │\n",
       "│ STORJ  ┆ 2022-02-19 23:59:51.096 │\n",
       "└────────┴─────────────────────────┘"
      ]
     },
     "execution_count": 81,
     "metadata": {},
     "output_type": "execute_result"
    }
   ],
   "source": [
    "query_lf.collect()"
   ]
  },
  {
   "cell_type": "markdown",
   "id": "59ecf906",
   "metadata": {},
   "source": [
    "# Example usage"
   ]
  },
  {
   "cell_type": "code",
   "execution_count": 3,
   "id": "502ad8b9",
   "metadata": {},
   "outputs": [
    {
     "data": {
      "text/html": [
       "<div><style>\n",
       ".dataframe > thead > tr,\n",
       ".dataframe > tbody > tr {\n",
       "  text-align: right;\n",
       "  white-space: pre-wrap;\n",
       "}\n",
       "</style>\n",
       "<small>shape: (10, 17)</small><table border=\"1\" class=\"dataframe\"><thead><tr><th>symbol</th><th>date</th><th>time</th><th>peg_symbol</th><th>open</th><th>high</th><th>low</th><th>close</th><th>volume_base</th><th>volume_quote</th><th>trade_count</th><th>last_trade_time</th><th>taker_buy_volume_quote</th><th>taker_sell_volume_quote</th><th>vwap_taker_buy</th><th>vwap_taker_sell</th><th>vwap_total_by_base</th></tr><tr><td>enum</td><td>date</td><td>datetime[μs]</td><td>str</td><td>f64</td><td>f64</td><td>f64</td><td>f64</td><td>f64</td><td>f64</td><td>u32</td><td>datetime[μs]</td><td>f64</td><td>f64</td><td>f64</td><td>f64</td><td>f64</td></tr></thead><tbody><tr><td>&quot;GXS&quot;</td><td>2022-01-01</td><td>2022-01-01 00:00:00</td><td>&quot;USDT&quot;</td><td>1.9461</td><td>1.9461</td><td>1.945</td><td>1.945</td><td>3222.0</td><td>6267.3141</td><td>7</td><td>2022-01-01 00:00:01.940</td><td>0.0</td><td>6267.3141</td><td>NaN</td><td>1.945163</td><td>1.945163</td></tr><tr><td>&quot;LTO&quot;</td><td>2022-01-01</td><td>2022-01-01 00:00:00</td><td>&quot;USDT&quot;</td><td>0.368</td><td>0.3682</td><td>0.368</td><td>0.368</td><td>1659.0</td><td>610.5198</td><td>21</td><td>2022-01-01 00:00:03.418</td><td>610.5198</td><td>0.0</td><td>0.368005</td><td>NaN</td><td>0.368005</td></tr><tr><td>&quot;TLM&quot;</td><td>2022-01-01</td><td>2022-01-01 00:00:00</td><td>&quot;USDT&quot;</td><td>0.2128</td><td>0.2128</td><td>0.2128</td><td>0.2128</td><td>8116.0</td><td>1727.0848</td><td>5</td><td>2022-01-01 00:00:03.404</td><td>1727.0848</td><td>0.0</td><td>0.2128</td><td>NaN</td><td>0.2128</td></tr><tr><td>&quot;VET&quot;</td><td>2022-01-01</td><td>2022-01-01 00:00:00</td><td>&quot;USDT&quot;</td><td>0.08266</td><td>0.08271</td><td>0.08264</td><td>0.08264</td><td>34872.9</td><td>2882.627338</td><td>11</td><td>2022-01-01 00:00:03.327</td><td>138.387351</td><td>2744.239987</td><td>0.082708</td><td>0.082659</td><td>0.082661</td></tr><tr><td>&quot;YFI&quot;</td><td>2022-01-01</td><td>2022-01-01 00:00:00</td><td>&quot;USDT&quot;</td><td>33056.93</td><td>33056.93</td><td>33056.93</td><td>33056.93</td><td>0.0005</td><td>16.528465</td><td>1</td><td>2022-01-01 00:00:03.827</td><td>16.528465</td><td>0.0</td><td>33056.93</td><td>NaN</td><td>33056.93</td></tr><tr><td>&quot;SHIB&quot;</td><td>2022-01-01</td><td>2022-01-01 00:00:00</td><td>&quot;USDT&quot;</td><td>0.000033</td><td>0.000033</td><td>0.000033</td><td>0.000033</td><td>2.724839e7</td><td>909.155507</td><td>11</td><td>2022-01-01 00:00:03.929</td><td>497.93506</td><td>411.220447</td><td>0.000033</td><td>0.000033</td><td>0.000033</td></tr><tr><td>&quot;STX&quot;</td><td>2022-01-01</td><td>2022-01-01 00:00:00</td><td>&quot;USDT&quot;</td><td>2.167</td><td>2.169</td><td>2.164</td><td>2.164</td><td>2223.5</td><td>4818.6095</td><td>30</td><td>2022-01-01 00:00:03.475</td><td>2830.4749</td><td>1988.1346</td><td>2.168116</td><td>2.165724</td><td>2.167128</td></tr><tr><td>&quot;AVAX&quot;</td><td>2022-01-01</td><td>2022-01-01 00:00:00</td><td>&quot;USDT&quot;</td><td>109.43</td><td>109.47</td><td>109.42</td><td>109.47</td><td>55.28</td><td>6049.8288</td><td>17</td><td>2022-01-01 00:00:02.591</td><td>5612.1488</td><td>437.68</td><td>109.441282</td><td>109.42</td><td>109.43974</td></tr><tr><td>&quot;BNB&quot;</td><td>2022-01-01</td><td>2022-01-01 00:00:00</td><td>&quot;USDT&quot;</td><td>511.5</td><td>511.6</td><td>511.4</td><td>511.6</td><td>9.031</td><td>4619.4794</td><td>17</td><td>2022-01-01 00:00:03.545</td><td>3710.5537</td><td>908.9257</td><td>511.518296</td><td>511.494486</td><td>511.513609</td></tr><tr><td>&quot;GALA&quot;</td><td>2022-01-01</td><td>2022-01-01 00:00:00</td><td>&quot;USDT&quot;</td><td>0.45035</td><td>0.45044</td><td>0.45035</td><td>0.45044</td><td>610.0</td><td>274.75022</td><td>2</td><td>2022-01-01 00:00:02.857</td><td>0.0</td><td>274.75022</td><td>NaN</td><td>0.45041</td><td>0.45041</td></tr></tbody></table></div>"
      ],
      "text/plain": [
       "shape: (10, 17)\n",
       "┌────────┬────────────┬────────────┬───────────┬───┬───────────┬───────────┬───────────┬───────────┐\n",
       "│ symbol ┆ date       ┆ time       ┆ peg_symbo ┆ … ┆ taker_sel ┆ vwap_take ┆ vwap_take ┆ vwap_tota │\n",
       "│ ---    ┆ ---        ┆ ---        ┆ l         ┆   ┆ l_volume_ ┆ r_buy     ┆ r_sell    ┆ l_by_base │\n",
       "│ enum   ┆ date       ┆ datetime[μ ┆ ---       ┆   ┆ quote     ┆ ---       ┆ ---       ┆ ---       │\n",
       "│        ┆            ┆ s]         ┆ str       ┆   ┆ ---       ┆ f64       ┆ f64       ┆ f64       │\n",
       "│        ┆            ┆            ┆           ┆   ┆ f64       ┆           ┆           ┆           │\n",
       "╞════════╪════════════╪════════════╪═══════════╪═══╪═══════════╪═══════════╪═══════════╪═══════════╡\n",
       "│ GXS    ┆ 2022-01-01 ┆ 2022-01-01 ┆ USDT      ┆ … ┆ 6267.3141 ┆ NaN       ┆ 1.945163  ┆ 1.945163  │\n",
       "│        ┆            ┆ 00:00:00   ┆           ┆   ┆           ┆           ┆           ┆           │\n",
       "│ LTO    ┆ 2022-01-01 ┆ 2022-01-01 ┆ USDT      ┆ … ┆ 0.0       ┆ 0.368005  ┆ NaN       ┆ 0.368005  │\n",
       "│        ┆            ┆ 00:00:00   ┆           ┆   ┆           ┆           ┆           ┆           │\n",
       "│ TLM    ┆ 2022-01-01 ┆ 2022-01-01 ┆ USDT      ┆ … ┆ 0.0       ┆ 0.2128    ┆ NaN       ┆ 0.2128    │\n",
       "│        ┆            ┆ 00:00:00   ┆           ┆   ┆           ┆           ┆           ┆           │\n",
       "│ VET    ┆ 2022-01-01 ┆ 2022-01-01 ┆ USDT      ┆ … ┆ 2744.2399 ┆ 0.082708  ┆ 0.082659  ┆ 0.082661  │\n",
       "│        ┆            ┆ 00:00:00   ┆           ┆   ┆ 87        ┆           ┆           ┆           │\n",
       "│ YFI    ┆ 2022-01-01 ┆ 2022-01-01 ┆ USDT      ┆ … ┆ 0.0       ┆ 33056.93  ┆ NaN       ┆ 33056.93  │\n",
       "│        ┆            ┆ 00:00:00   ┆           ┆   ┆           ┆           ┆           ┆           │\n",
       "│ SHIB   ┆ 2022-01-01 ┆ 2022-01-01 ┆ USDT      ┆ … ┆ 411.22044 ┆ 0.000033  ┆ 0.000033  ┆ 0.000033  │\n",
       "│        ┆            ┆ 00:00:00   ┆           ┆   ┆ 7         ┆           ┆           ┆           │\n",
       "│ STX    ┆ 2022-01-01 ┆ 2022-01-01 ┆ USDT      ┆ … ┆ 1988.1346 ┆ 2.168116  ┆ 2.165724  ┆ 2.167128  │\n",
       "│        ┆            ┆ 00:00:00   ┆           ┆   ┆           ┆           ┆           ┆           │\n",
       "│ AVAX   ┆ 2022-01-01 ┆ 2022-01-01 ┆ USDT      ┆ … ┆ 437.68    ┆ 109.44128 ┆ 109.42    ┆ 109.43974 │\n",
       "│        ┆            ┆ 00:00:00   ┆           ┆   ┆           ┆ 2         ┆           ┆           │\n",
       "│ BNB    ┆ 2022-01-01 ┆ 2022-01-01 ┆ USDT      ┆ … ┆ 908.9257  ┆ 511.51829 ┆ 511.49448 ┆ 511.51360 │\n",
       "│        ┆            ┆ 00:00:00   ┆           ┆   ┆           ┆ 6         ┆ 6         ┆ 9         │\n",
       "│ GALA   ┆ 2022-01-01 ┆ 2022-01-01 ┆ USDT      ┆ … ┆ 274.75022 ┆ NaN       ┆ 0.45041   ┆ 0.45041   │\n",
       "│        ┆            ┆ 00:00:00   ┆           ┆   ┆           ┆           ┆           ┆           │\n",
       "└────────┴────────────┴────────────┴───────────┴───┴───────────┴───────────┴───────────┴───────────┘"
      ]
     },
     "execution_count": 3,
     "metadata": {},
     "output_type": "execute_result"
    }
   ],
   "source": [
    "pl.scan_parquet('/data/mnemosyne/binance/grids/spot/last_trade/4s/peg_symbol=USDT/date=*/*.parquet').head(10).collect()"
   ]
  },
  {
   "cell_type": "code",
   "execution_count": 1,
   "id": "81e2e5d7",
   "metadata": {},
   "outputs": [
    {
     "name": "stdout",
     "output_type": "stream",
     "text": [
      "Trying to scan: /data/mnemosyne/binance/grids/spot/last_trade/10m/peg_symbol=USDT/date=*/**/*.parquet\n"
     ]
    },
    {
     "name": "stderr",
     "output_type": "stream",
     "text": [
      "sys:1: UserWarning: Sortedness of columns cannot be checked when 'by' groups provided\n"
     ]
    },
    {
     "data": {
      "text/html": [
       "<div><style>\n",
       ".dataframe > thead > tr,\n",
       ".dataframe > tbody > tr {\n",
       "  text-align: right;\n",
       "  white-space: pre-wrap;\n",
       "}\n",
       "</style>\n",
       "<small>shape: (4, 4)</small><table border=\"1\" class=\"dataframe\"><thead><tr><th>symbol</th><th>times</th><th>max_tick_to_query_lag</th><th>return</th></tr><tr><td>enum</td><td>datetime[μs]</td><td>duration[μs]</td><td>f64</td></tr></thead><tbody><tr><td>&quot;BTC&quot;</td><td>2025-08-01 09:00:00</td><td>154216µs</td><td>0.002026</td></tr><tr><td>&quot;ETH&quot;</td><td>2025-08-01 09:00:00</td><td>677388µs</td><td>0.001934</td></tr><tr><td>&quot;BTCDOWN&quot;</td><td>2025-08-01 09:00:00</td><td>null</td><td>null</td></tr><tr><td>&quot;BNB&quot;</td><td>2025-08-01 09:00:00</td><td>1s 191853µs</td><td>0.001734</td></tr></tbody></table></div>"
      ],
      "text/plain": [
       "shape: (4, 4)\n",
       "┌─────────┬─────────────────────┬───────────────────────┬──────────┐\n",
       "│ symbol  ┆ times               ┆ max_tick_to_query_lag ┆ return   │\n",
       "│ ---     ┆ ---                 ┆ ---                   ┆ ---      │\n",
       "│ enum    ┆ datetime[μs]        ┆ duration[μs]          ┆ f64      │\n",
       "╞═════════╪═════════════════════╪═══════════════════════╪══════════╡\n",
       "│ BTC     ┆ 2025-08-01 09:00:00 ┆ 154216µs              ┆ 0.002026 │\n",
       "│ ETH     ┆ 2025-08-01 09:00:00 ┆ 677388µs              ┆ 0.001934 │\n",
       "│ BTCDOWN ┆ 2025-08-01 09:00:00 ┆ null                  ┆ null     │\n",
       "│ BNB     ┆ 2025-08-01 09:00:00 ┆ 1s 191853µs           ┆ 0.001734 │\n",
       "└─────────┴─────────────────────┴───────────────────────┴──────────┘"
      ]
     },
     "execution_count": 1,
     "metadata": {},
     "output_type": "execute_result"
    }
   ],
   "source": [
    "import mnemosyne as ms\n",
    "from mnemosyne.engines import ReturnsEngine \n",
    "from datetime import datetime as Datetime\n",
    "import polars as pl\n",
    "\n",
    "symbol_enum = pl.Enum(['BTC', 'ETH', 'BTCDOWN', 'BNB'])\n",
    "\n",
    "query_lf = pl.DataFrame({\n",
    "    'symbol': ['BTC', 'ETH', 'BTCDOWN', 'BNB'], \n",
    "    'times': [Datetime(2025, 8, 1, 9, 0, 0)] * 4\n",
    "}).with_columns(pl.col('symbol').cast(symbol_enum)).lazy()\n",
    "\n",
    "backend_db = ms.binance.BinanceLastTradesGrid(\n",
    "            peg_symbol='USDT', \n",
    "            grid_interval='10m', \n",
    "            dataset_type=ms.DatasetType.BinanceSpotTrades, \n",
    "        ).lazyframe()\n",
    "\n",
    "re = ReturnsEngine(\n",
    "    backend_db, \n",
    "    backend_fair_expr = pl.col('vwap_total_by_base'), \n",
    "    backend_time_expr = pl.col('last_trade_time')\n",
    ")\n",
    "\n",
    "value = re.query(query_lf, \n",
    "    start_time_expr = pl.col('times'), \n",
    "    mark_duration=pl.lit('10m'), \n",
    "    tick_lag_tolerance=pl.lit('30s')\n",
    ")\n",
    "value.collect()"
   ]
  },
  {
   "cell_type": "markdown",
   "id": "4afbef7b",
   "metadata": {},
   "source": [
    "# Quick enum test"
   ]
  },
  {
   "cell_type": "code",
   "execution_count": 76,
   "id": "55abc391",
   "metadata": {},
   "outputs": [],
   "source": [
    "dfA.write_parquet('/tmp/dfA.pq')"
   ]
  },
  {
   "cell_type": "code",
   "execution_count": 77,
   "id": "bfd529b6",
   "metadata": {},
   "outputs": [
    {
     "data": {
      "text/html": [
       "<div><style>\n",
       ".dataframe > thead > tr,\n",
       ".dataframe > tbody > tr {\n",
       "  text-align: right;\n",
       "  white-space: pre-wrap;\n",
       "}\n",
       "</style>\n",
       "<small>shape: (2, 2)</small><table border=\"1\" class=\"dataframe\"><thead><tr><th>col</th><th>misc</th></tr><tr><td>enum</td><td>i64</td></tr></thead><tbody><tr><td>&quot;b&quot;</td><td>1</td></tr><tr><td>&quot;c&quot;</td><td>2</td></tr></tbody></table></div>"
      ],
      "text/plain": [
       "shape: (2, 2)\n",
       "┌──────┬──────┐\n",
       "│ col  ┆ misc │\n",
       "│ ---  ┆ ---  │\n",
       "│ enum ┆ i64  │\n",
       "╞══════╪══════╡\n",
       "│ b    ┆ 1    │\n",
       "│ c    ┆ 2    │\n",
       "└──────┴──────┘"
      ]
     },
     "execution_count": 77,
     "metadata": {},
     "output_type": "execute_result"
    }
   ],
   "source": [
    "dfA_read = pl.read_parquet('/tmp/dfA.pq')\n",
    "dfA_read"
   ]
  },
  {
   "cell_type": "code",
   "execution_count": 79,
   "id": "3cd4a851",
   "metadata": {},
   "outputs": [
    {
     "data": {
      "text/html": [
       "<div><style>\n",
       ".dataframe > thead > tr,\n",
       ".dataframe > tbody > tr {\n",
       "  text-align: right;\n",
       "  white-space: pre-wrap;\n",
       "}\n",
       "</style>\n",
       "<small>shape: (2, 2)</small><table border=\"1\" class=\"dataframe\"><thead><tr><th>col</th><th>misc</th></tr><tr><td>enum</td><td>i64</td></tr></thead><tbody><tr><td>&quot;b&quot;</td><td>1</td></tr><tr><td>&quot;c&quot;</td><td>2</td></tr></tbody></table></div>"
      ],
      "text/plain": [
       "shape: (2, 2)\n",
       "┌──────┬──────┐\n",
       "│ col  ┆ misc │\n",
       "│ ---  ┆ ---  │\n",
       "│ enum ┆ i64  │\n",
       "╞══════╪══════╡\n",
       "│ b    ┆ 1    │\n",
       "│ c    ┆ 2    │\n",
       "└──────┴──────┘"
      ]
     },
     "execution_count": 79,
     "metadata": {},
     "output_type": "execute_result"
    }
   ],
   "source": [
    "dfA_read.with_columns(pl.col('col').cast(enumA))"
   ]
  },
  {
   "cell_type": "code",
   "execution_count": null,
   "id": "7d423cf7",
   "metadata": {},
   "outputs": [],
   "source": []
  }
 ],
 "metadata": {
  "kernelspec": {
   "display_name": "midas",
   "language": "python",
   "name": "midas"
  },
  "language_info": {
   "codemirror_mode": {
    "name": "ipython",
    "version": 3
   },
   "file_extension": ".py",
   "mimetype": "text/x-python",
   "name": "python",
   "nbconvert_exporter": "python",
   "pygments_lexer": "ipython3",
   "version": "3.12.3"
  }
 },
 "nbformat": 4,
 "nbformat_minor": 5
}
