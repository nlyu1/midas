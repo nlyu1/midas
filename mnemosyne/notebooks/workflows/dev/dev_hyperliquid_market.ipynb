{
 "cells": [
  {
   "cell_type": "code",
   "execution_count": 1,
   "id": "3a02903c",
   "metadata": {},
   "outputs": [],
   "source": [
    "import polars as pl\n",
    "import mnemosyne as ms\n",
    "import lz4.frame\n",
    "import boto3\n",
    "from datetime import date as Date, datetime as Datetime\n",
    "from pprint import pprint\n",
    "from tqdm.autonotebook import tqdm\n",
    "import json\n",
    "from pathlib import Path\n",
    "from tqdm.auto import tqdm"
   ]
  },
  {
   "cell_type": "code",
   "execution_count": 2,
   "id": "75b7a885",
   "metadata": {},
   "outputs": [],
   "source": [
    "def read_hyperliquid_l2book_lz4(symbol_file: Path, symbol: str) -> pl.DataFrame:\n",
    "    dataframe = {\n",
    "        'time': [],\n",
    "        'timestamp': [],\n",
    "        'is_bid': [],\n",
    "        'price': [],\n",
    "        'csize': [],\n",
    "        'depth': [],\n",
    "        'num_orders_at_level': [], \n",
    "    }\n",
    "\n",
    "    with open(symbol_file, 'rb') as file:\n",
    "        data = lz4.frame.decompress(file.read())\n",
    "\n",
    "    records = []\n",
    "    for line in data.strip().split(b'\\n'):\n",
    "        if line:  # Skip empty lines\n",
    "            record = json.loads(line)\n",
    "            records.append(record)\n",
    "\n",
    "    for record in records:\n",
    "        time = record['time']\n",
    "        ver_num = record['ver_num']\n",
    "        channel = record['raw']['channel']\n",
    "        record_symbol = record['raw']['data']['coin']\n",
    "        timestamp = record['raw']['data']['time']\n",
    "        levels = record['raw']['data']['levels']\n",
    "        assert ver_num == 1\n",
    "        assert len(levels) == 2\n",
    "        assert record_symbol == symbol \n",
    "        assert channel == 'l2Book'\n",
    "        for k in range(2):\n",
    "            csize = 0 \n",
    "            for j, level in enumerate(levels[k]): # bids \n",
    "                dataframe['time'].append(time)\n",
    "                dataframe['timestamp'].append(timestamp)\n",
    "                dataframe['is_bid'].append(True if k == 0 else False)\n",
    "                dataframe['price'].append(level['px'])\n",
    "                csize += float(level['sz'])\n",
    "                dataframe['depth'].append(j)\n",
    "                dataframe['csize'].append(csize)\n",
    "                dataframe['num_orders_at_level'].append(level['n'])\n",
    "    return pl.DataFrame(dataframe).select(\n",
    "        pl.col('time').cast(pl.Datetime),\n",
    "        pl.col('price').cast(pl.Float64),\n",
    "        pl.col('csize').cast(pl.Float64),\n",
    "        pl.col('depth').cast(pl.Int16),\n",
    "        pl.col('num_orders_at_level').cast(pl.Int16),\n",
    "        pl.from_epoch(pl.col('timestamp'), time_unit='ms').alias('created_time'),\n",
    "    )"
   ]
  },
  {
   "cell_type": "code",
   "execution_count": 3,
   "id": "ba213c7e",
   "metadata": {},
   "outputs": [
    {
     "name": "stdout",
     "output_type": "stream",
     "text": [
      "/bigdata/mnemosyne/hyperliquid/raw/futures/market_data /bigdata/mnemosyne/hyperliquid/lossless/l2\n"
     ]
    }
   ],
   "source": [
    "dataset_type = ms.DatasetType.HyperliquidPerpL2\n",
    "raw_path = Path(dataset_type.raw_data_path(\"\"))\n",
    "hive_path = Path(dataset_type.hive_path(\"\"))\n",
    "print(raw_path, hive_path)"
   ]
  },
  {
   "cell_type": "code",
   "execution_count": 4,
   "id": "ffdfd6a9",
   "metadata": {},
   "outputs": [],
   "source": [
    "# date = Date(2025, 9, 30)\n",
    "# date_df = []\n",
    "# for hour in tqdm(range(24)):\n",
    "#     hour_path = raw_path / date.strftime('%Y%m%d') / str(hour) / 'l2Book'\n",
    "#     symbol_files = filter(lambda x: x.is_file and x.suffix == '.lz4', hour_path.glob('*'))\n",
    "#     for symbol_file in symbol_files:\n",
    "#         date_df.append(read_hyperliquid_l2book_lz4(symbol_file, symbol_file.stem))\n",
    "# date_df = pl.concat(date_df)\n",
    "# date_df.drop('created_time').write_parquet('~/Documents/market.parquet', compression='brotli')"
   ]
  },
  {
   "cell_type": "code",
   "execution_count": 5,
   "id": "b83949ab",
   "metadata": {},
   "outputs": [
    {
     "name": "stdout",
     "output_type": "stream",
     "text": [
      "898 dates\n"
     ]
    },
    {
     "ename": "",
     "evalue": "",
     "output_type": "error",
     "traceback": [
      "\u001b[1;31mThe Kernel crashed while executing code in the current cell or a previous cell. \n",
      "\u001b[1;31mPlease review the code in the cell(s) to identify a possible cause of the failure. \n",
      "\u001b[1;31mClick <a href='https://aka.ms/vscodeJupyterKernelCrash'>here</a> for more info. \n",
      "\u001b[1;31mView Jupyter <a href='command:jupyter.viewOutput'>log</a> for further details."
     ]
    }
   ],
   "source": [
    "marketdata_root = Path('/bigdata/mnemosyne/hyperliquid/raw/futures/market_data')\n",
    "dates = [\n",
    "    Datetime.strptime(p.stem, '%Y%m%d').strftime('%Y-%m-%d')\n",
    "    for p in marketdata_root.glob('*') if p.is_dir()\n",
    "]\n",
    "print(len(dates), 'dates')\n",
    "\n",
    "for date in tqdm(dates):\n",
    "    ms._mnemosyne_ext.py_read_hyperliquid_l2book_bydate_to(\n",
    "        \"/bigdata/mnemosyne/hyperliquid/raw/futures/market_data\", \n",
    "        date, f'/data/mnemosyne/cache/date={date}/0.parquet'\n",
    "    )"
   ]
  },
  {
   "cell_type": "code",
   "execution_count": 5,
   "id": "b14a4418",
   "metadata": {},
   "outputs": [
    {
     "data": {
      "text/html": [
       "<div><style>\n",
       ".dataframe > thead > tr,\n",
       ".dataframe > tbody > tr {\n",
       "  text-align: right;\n",
       "  white-space: pre-wrap;\n",
       "}\n",
       "</style>\n",
       "<small>shape: (101_728_938, 7)</small><table border=\"1\" class=\"dataframe\"><thead><tr><th>time</th><th>price</th><th>csize</th><th>depth</th><th>num_orders_at_level</th><th>is_bid</th><th>created_time</th></tr><tr><td>datetime[μs]</td><td>f64</td><td>f64</td><td>i16</td><td>i16</td><td>bool</td><td>datetime[μs]</td></tr></thead><tbody><tr><td>2023-04-15 00:00:07.695948</td><td>96.345</td><td>3.39</td><td>0</td><td>2</td><td>true</td><td>2023-04-15 00:00:07.400</td></tr><tr><td>2023-04-15 00:00:07.695948</td><td>96.316</td><td>32.35</td><td>1</td><td>1</td><td>true</td><td>2023-04-15 00:00:07.400</td></tr><tr><td>2023-04-15 00:00:07.695948</td><td>96.296</td><td>74.36</td><td>2</td><td>1</td><td>true</td><td>2023-04-15 00:00:07.400</td></tr><tr><td>2023-04-15 00:00:07.695948</td><td>96.249</td><td>118.72</td><td>3</td><td>1</td><td>true</td><td>2023-04-15 00:00:07.400</td></tr><tr><td>2023-04-15 00:00:07.695948</td><td>96.248</td><td>151.03</td><td>4</td><td>1</td><td>true</td><td>2023-04-15 00:00:07.400</td></tr><tr><td>&hellip;</td><td>&hellip;</td><td>&hellip;</td><td>&hellip;</td><td>&hellip;</td><td>&hellip;</td><td>&hellip;</td></tr><tr><td>2023-04-15 23:59:59.235864</td><td>2.8788</td><td>8923.6</td><td>5</td><td>1</td><td>false</td><td>2023-04-15 23:59:58.970</td></tr><tr><td>2023-04-15 23:59:59.235864</td><td>2.8872</td><td>10425.2</td><td>6</td><td>1</td><td>false</td><td>2023-04-15 23:59:58.970</td></tr><tr><td>2023-04-15 23:59:59.235864</td><td>2.8886</td><td>11981.5</td><td>7</td><td>1</td><td>false</td><td>2023-04-15 23:59:58.970</td></tr><tr><td>2023-04-15 23:59:59.235864</td><td>2.8956</td><td>13166.9</td><td>8</td><td>1</td><td>false</td><td>2023-04-15 23:59:58.970</td></tr><tr><td>2023-04-15 23:59:59.235864</td><td>2.8957</td><td>14723.6</td><td>9</td><td>1</td><td>false</td><td>2023-04-15 23:59:58.970</td></tr></tbody></table></div>"
      ],
      "text/plain": [
       "shape: (101_728_938, 7)\n",
       "┌─────────────────┬────────┬─────────┬───────┬─────────────────────┬────────┬──────────────┐\n",
       "│ time            ┆ price  ┆ csize   ┆ depth ┆ num_orders_at_level ┆ is_bid ┆ created_time │\n",
       "│ ---             ┆ ---    ┆ ---     ┆ ---   ┆ ---                 ┆ ---    ┆ ---          │\n",
       "│ datetime[μs]    ┆ f64    ┆ f64     ┆ i16   ┆ i16                 ┆ bool   ┆ datetime[μs] │\n",
       "╞═════════════════╪════════╪═════════╪═══════╪═════════════════════╪════════╪══════════════╡\n",
       "│ 2023-04-15      ┆ 96.345 ┆ 3.39    ┆ 0     ┆ 2                   ┆ true   ┆ 2023-04-15   │\n",
       "│ 00:00:07.695948 ┆        ┆         ┆       ┆                     ┆        ┆ 00:00:07.400 │\n",
       "│ 2023-04-15      ┆ 96.316 ┆ 32.35   ┆ 1     ┆ 1                   ┆ true   ┆ 2023-04-15   │\n",
       "│ 00:00:07.695948 ┆        ┆         ┆       ┆                     ┆        ┆ 00:00:07.400 │\n",
       "│ 2023-04-15      ┆ 96.296 ┆ 74.36   ┆ 2     ┆ 1                   ┆ true   ┆ 2023-04-15   │\n",
       "│ 00:00:07.695948 ┆        ┆         ┆       ┆                     ┆        ┆ 00:00:07.400 │\n",
       "│ 2023-04-15      ┆ 96.249 ┆ 118.72  ┆ 3     ┆ 1                   ┆ true   ┆ 2023-04-15   │\n",
       "│ 00:00:07.695948 ┆        ┆         ┆       ┆                     ┆        ┆ 00:00:07.400 │\n",
       "│ 2023-04-15      ┆ 96.248 ┆ 151.03  ┆ 4     ┆ 1                   ┆ true   ┆ 2023-04-15   │\n",
       "│ 00:00:07.695948 ┆        ┆         ┆       ┆                     ┆        ┆ 00:00:07.400 │\n",
       "│ …               ┆ …      ┆ …       ┆ …     ┆ …                   ┆ …      ┆ …            │\n",
       "│ 2023-04-15      ┆ 2.8788 ┆ 8923.6  ┆ 5     ┆ 1                   ┆ false  ┆ 2023-04-15   │\n",
       "│ 23:59:59.235864 ┆        ┆         ┆       ┆                     ┆        ┆ 23:59:58.970 │\n",
       "│ 2023-04-15      ┆ 2.8872 ┆ 10425.2 ┆ 6     ┆ 1                   ┆ false  ┆ 2023-04-15   │\n",
       "│ 23:59:59.235864 ┆        ┆         ┆       ┆                     ┆        ┆ 23:59:58.970 │\n",
       "│ 2023-04-15      ┆ 2.8886 ┆ 11981.5 ┆ 7     ┆ 1                   ┆ false  ┆ 2023-04-15   │\n",
       "│ 23:59:59.235864 ┆        ┆         ┆       ┆                     ┆        ┆ 23:59:58.970 │\n",
       "│ 2023-04-15      ┆ 2.8956 ┆ 13166.9 ┆ 8     ┆ 1                   ┆ false  ┆ 2023-04-15   │\n",
       "│ 23:59:59.235864 ┆        ┆         ┆       ┆                     ┆        ┆ 23:59:58.970 │\n",
       "│ 2023-04-15      ┆ 2.8957 ┆ 14723.6 ┆ 9     ┆ 1                   ┆ false  ┆ 2023-04-15   │\n",
       "│ 23:59:59.235864 ┆        ┆         ┆       ┆                     ┆        ┆ 23:59:58.970 │\n",
       "└─────────────────┴────────┴─────────┴───────┴─────────────────────┴────────┴──────────────┘"
      ]
     },
     "execution_count": 5,
     "metadata": {},
     "output_type": "execute_result"
    }
   ],
   "source": [
    "date = '2023-04-15'\n",
    "ms._mnemosyne_ext.py_read_hyperliquid_l2book_bydate_to(\n",
    "        \"/bigdata/mnemosyne/hyperliquid/raw/futures/market_data\", \n",
    "        date, f'/data/mnemosyne/cache/date={date}/0.parquet'\n",
    "    )\n",
    "pl.read_parquet(f'/data/mnemosyne/cache/date={date}/0.parquet')"
   ]
  },
  {
   "cell_type": "code",
   "execution_count": null,
   "id": "ef3684e4",
   "metadata": {},
   "outputs": [],
   "source": []
  }
 ],
 "metadata": {
  "kernelspec": {
   "display_name": ".venv",
   "language": "python",
   "name": "python3"
  },
  "language_info": {
   "codemirror_mode": {
    "name": "ipython",
    "version": 3
   },
   "file_extension": ".py",
   "mimetype": "text/x-python",
   "name": "python",
   "nbconvert_exporter": "python",
   "pygments_lexer": "ipython3",
   "version": "3.12.3"
  }
 },
 "nbformat": 4,
 "nbformat_minor": 5
}
