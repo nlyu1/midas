{
 "cells": [
  {
   "cell_type": "code",
   "execution_count": 113,
   "id": "3a02903c",
   "metadata": {},
   "outputs": [],
   "source": [
    "import polars as pl\n",
    "import mnemosyne as ms\n",
    "import lz4.frame\n",
    "import boto3\n",
    "from datetime import date as Date \n",
    "from pprint import pprint\n",
    "import json\n",
    "from pathlib import Path\n",
    "from tqdm.auto import tqdm"
   ]
  },
  {
   "cell_type": "code",
   "execution_count": 114,
   "id": "75b7a885",
   "metadata": {},
   "outputs": [],
   "source": [
    "def read_hyperliquid_l2book_lz4(symbol_file: Path, symbol: str) -> pl.DataFrame:\n",
    "    dataframe = {\n",
    "        'time': [],\n",
    "        'timestamp': [],\n",
    "        'is_bid': [],\n",
    "        'price': [],\n",
    "        'csize': [],\n",
    "        'depth': [],\n",
    "        'num_orders_at_level': [], \n",
    "    }\n",
    "\n",
    "    with open(symbol_file, 'rb') as file:\n",
    "        data = lz4.frame.decompress(file.read())\n",
    "\n",
    "    records = []\n",
    "    for line in data.strip().split(b'\\n'):\n",
    "        if line:  # Skip empty lines\n",
    "            record = json.loads(line)\n",
    "            records.append(record)\n",
    "\n",
    "    for record in records:\n",
    "        time = record['time']\n",
    "        ver_num = record['ver_num']\n",
    "        channel = record['raw']['channel']\n",
    "        record_symbol = record['raw']['data']['coin']\n",
    "        timestamp = record['raw']['data']['time']\n",
    "        levels = record['raw']['data']['levels']\n",
    "        assert ver_num == 1\n",
    "        assert len(levels) == 2\n",
    "        assert record_symbol == symbol \n",
    "        assert channel == 'l2Book'\n",
    "        for k in range(2):\n",
    "            csize = 0 \n",
    "            for j, level in enumerate(levels[k]): # bids \n",
    "                dataframe['time'].append(time)\n",
    "                dataframe['timestamp'].append(timestamp)\n",
    "                dataframe['is_bid'].append(True if k == 0 else False)\n",
    "                dataframe['price'].append(level['px'])\n",
    "                csize += float(level['sz'])\n",
    "                dataframe['depth'].append(j)\n",
    "                dataframe['csize'].append(csize)\n",
    "                dataframe['num_orders_at_level'].append(level['n'])\n",
    "    return pl.DataFrame(dataframe).select(\n",
    "        pl.col('time').cast(pl.Datetime),\n",
    "        pl.col('price').cast(pl.Float64),\n",
    "        pl.col('csize').cast(pl.Float64),\n",
    "        pl.col('depth').cast(pl.Int16),\n",
    "        pl.col('num_orders_at_level').cast(pl.Int16),\n",
    "        pl.from_epoch(pl.col('timestamp'), time_unit='ms').alias('created_time'),\n",
    "    )"
   ]
  },
  {
   "cell_type": "code",
   "execution_count": 115,
   "id": "ba213c7e",
   "metadata": {},
   "outputs": [
    {
     "name": "stdout",
     "output_type": "stream",
     "text": [
      "/bigdata/mnemosyne/hyperliquid/raw/futures/market_data /bigdata/mnemosyne/hyperliquid/lossless/l2\n"
     ]
    }
   ],
   "source": [
    "dataset_type = ms.DatasetType.HyperliquidPerpL2\n",
    "raw_path = Path(dataset_type.raw_data_path(\"\"))\n",
    "hive_path = Path(dataset_type.hive_path(\"\"))\n",
    "print(raw_path, hive_path)"
   ]
  },
  {
   "cell_type": "code",
   "execution_count": 116,
   "id": "ffdfd6a9",
   "metadata": {},
   "outputs": [
    {
     "data": {
      "application/vnd.jupyter.widget-view+json": {
       "model_id": "578c83acd7344f14ab1e77df9199ab96",
       "version_major": 2,
       "version_minor": 0
      },
      "text/plain": [
       "  0%|          | 0/24 [00:00<?, ?it/s]"
      ]
     },
     "metadata": {},
     "output_type": "display_data"
    }
   ],
   "source": [
    "# Submit this list to Rust. \n",
    "date = Date(2025, 9, 30)\n",
    "\n",
    "date_df = []\n",
    "for hour in tqdm(range(24)):\n",
    "    hour_path = raw_path / date.strftime('%Y%m%d') / str(hour) / 'l2Book'\n",
    "    symbol_files = filter(lambda x: x.is_file and x.suffix == '.lz4', hour_path.glob('*'))\n",
    "    for symbol_file in symbol_files:\n",
    "        date_df.append(read_hyperliquid_l2book_lz4(symbol_file, symbol_file.stem))\n",
    "date_df = pl.concat(date_df)"
   ]
  },
  {
   "cell_type": "code",
   "execution_count": 126,
   "id": "86dfd0f5",
   "metadata": {},
   "outputs": [],
   "source": [
    "date_df.drop('created_time').write_parquet('~/Documents/market.parquet', compression='brotli')"
   ]
  },
  {
   "cell_type": "code",
   "execution_count": null,
   "id": "88a72dd4",
   "metadata": {},
   "outputs": [],
   "source": []
  }
 ],
 "metadata": {
  "kernelspec": {
   "display_name": "midas",
   "language": "python",
   "name": "midas"
  },
  "language_info": {
   "codemirror_mode": {
    "name": "ipython",
    "version": 3
   },
   "file_extension": ".py",
   "mimetype": "text/x-python",
   "name": "python",
   "nbconvert_exporter": "python",
   "pygments_lexer": "ipython3",
   "version": "3.12.3"
  }
 },
 "nbformat": 4,
 "nbformat_minor": 5
}
