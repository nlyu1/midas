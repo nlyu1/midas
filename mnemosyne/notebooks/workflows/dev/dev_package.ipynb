{
 "cells": [
  {
   "cell_type": "code",
   "execution_count": 1,
   "id": "37c85954",
   "metadata": {},
   "outputs": [],
   "source": [
    "import polars as pl\n",
    "import mnemosyne as ms"
   ]
  },
  {
   "cell_type": "code",
   "execution_count": 8,
   "id": "c4cf1339",
   "metadata": {},
   "outputs": [
    {
     "name": "stderr",
     "output_type": "stream",
     "text": [
      "\n",
      "thread '<unnamed>' panicked at mnemosyne/src/datasets.rs:23:9:\n",
      "assertion failed: (peg_symbol == \"USDT\") || (peg_symbol == \"USDC\")\n",
      "note: run with `RUST_BACKTRACE=1` environment variable to display a backtrace\n"
     ]
    },
    {
     "ename": "PanicException",
     "evalue": "assertion failed: (peg_symbol == \"USDT\") || (peg_symbol == \"USDC\")",
     "output_type": "error",
     "traceback": [
      "\u001b[31m---------------------------------------------------------------------------\u001b[39m",
      "\u001b[31mPanicException\u001b[39m                            Traceback (most recent call last)",
      "\u001b[36mCell\u001b[39m\u001b[36m \u001b[39m\u001b[32mIn[8]\u001b[39m\u001b[32m, line 1\u001b[39m\n\u001b[32m----> \u001b[39m\u001b[32m1\u001b[39m \u001b[43mms\u001b[49m\u001b[43m.\u001b[49m\u001b[43mDatasetType\u001b[49m\u001b[43m.\u001b[49m\u001b[43mBinanceSpotTrades\u001b[49m\u001b[43m.\u001b[49m\u001b[43mhive_path\u001b[49m\u001b[43m(\u001b[49m\u001b[33;43m'\u001b[39;49m\u001b[33;43mUSDLN\u001b[39;49m\u001b[33;43m'\u001b[39;49m\u001b[43m)\u001b[49m\n",
      "\u001b[31mPanicException\u001b[39m: assertion failed: (peg_symbol == \"USDT\") || (peg_symbol == \"USDC\")"
     ]
    }
   ],
   "source": [
    "ms.DatasetType.BinanceSpotTrades.hive_path('USDLN')"
   ]
  },
  {
   "cell_type": "code",
   "execution_count": null,
   "id": "6cec707f",
   "metadata": {},
   "outputs": [],
   "source": []
  }
 ],
 "metadata": {
  "kernelspec": {
   "display_name": "mnemosyne-pXsC6e9R-py3.12",
   "language": "python",
   "name": "python3"
  },
  "language_info": {
   "codemirror_mode": {
    "name": "ipython",
    "version": 3
   },
   "file_extension": ".py",
   "mimetype": "text/x-python",
   "name": "python",
   "nbconvert_exporter": "python",
   "pygments_lexer": "ipython3",
   "version": "3.12.3"
  }
 },
 "nbformat": 4,
 "nbformat_minor": 5
}
