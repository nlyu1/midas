{
 "cells": [
  {
   "cell_type": "code",
   "execution_count": 12,
   "id": "f7ca146d",
   "metadata": {},
   "outputs": [],
   "source": [
    "import mnemosyne as ms\n",
    "from mnemosyne.engines import ReturnsEngine \n",
    "from datetime import datetime as Datetime, date as Date, timedelta as Timedelta\n",
    "import polars as pl\n",
    "from pathlib import Path\n",
    "from tqdm.auto import tqdm \n",
    "from mnemosyne.dataset import ByDateDataset"
   ]
  },
  {
   "cell_type": "code",
   "execution_count": 19,
   "id": "d0a7a51f",
   "metadata": {},
   "outputs": [],
   "source": [
    "def default_metadata():\n",
    "    liquidity = (pl.col('vwap_price') * pl.col('volume')).sum().alias('liquidity')\n",
    "    sqrtliq = liquidity.pow(0.5).alias('sqrtliq')\n",
    "    excess_buy_ratio = ((pl.col('taker_buy_volume') - pl.col('taker_sell_volume')).sum() / pl.col('volume').sum()).alias('excess_buy_ratio')\n",
    "    trade_count = pl.col('trade_count').sum().alias('trade_count')\n",
    "\n",
    "    vol_sampling_timeframe = Timedelta(days=7)\n",
    "    num_days = vol_sampling_timeframe / Timedelta(days=1)\n",
    "    returns_drift = (pl.col('return').mean() / num_days).alias('daily_returns_drift')\n",
    "    volatility = (pl.col('return').std() / num_days ** .5).alias('daily_vol') \n",
    "    vol_ssize = pl.col('return').count().alias('vol_ssize')\n",
    "    return {\n",
    "        # These are calculated \n",
    "        'by_symbol_index': {\n",
    "            Timedelta(days=1): [liquidity, sqrtliq, excess_buy_ratio, trade_count], \n",
    "        },\n",
    "        'accum_returns': {\n",
    "            vol_sampling_timeframe: [returns_drift, volatility, vol_ssize]\n",
    "        }\n",
    "    }\n",
    "\n",
    "dataset_type, backend_grid_interval, peg_symbol = (ms.DatasetType.BinanceSpotTrades, '5s', 'USDC')\n",
    "backend_dataset = ms.binance.BinanceLastTradesGrid(\n",
    "        peg_symbol=peg_symbol, \n",
    "        grid_interval=backend_grid_interval, \n",
    "        dataset_type=dataset_type, \n",
    "        parquet_names='*.parquet',\n",
    "    )"
   ]
  },
  {
   "cell_type": "code",
   "execution_count": 20,
   "id": "86124c8c",
   "metadata": {},
   "outputs": [],
   "source": [
    "# Arguments and preparation\n",
    "returns_engine_kwargs = {}\n",
    "returns_query_kwargs = {\n",
    "    'filter_by_query_dates': True, \n",
    "}\n",
    "\n",
    "# Class initialization argument (whole dataset)\n",
    "# Should support initializing a ReturnsEngine\n",
    "# Supplies both (1) symbol-date universe (via .universe()) and (2) source for metadata computation\n",
    "backend_dataset = backend_dataset\n",
    "\n",
    "# Some more arguments. Users should pass these in manually\n",
    "last_event_time_expr = pl.col('last_event_time')\n",
    "\n",
    "# This is applied on grid_interval (coarser compared to returns) grids pre joining with returns. \n",
    "# Directly applied to backend_dataset's db (match schema there), grouped by symbol and grid_timestamp\n",
    "# Indexed by rolling window duration over which these are calculated\n",
    "metadata_exprs = default_metadata()\n",
    "quantile_expand_metadata_names = ['liquidity', 'trade_count']\n",
    "\n",
    "# returns_interval should ideally partition grid_interval. \n",
    "# Vol and drift are \"\"essentially\" for returns over this range\n",
    "returns_interval = Timedelta(minutes=10)\n",
    "\n",
    "# This is the granularity at which metadata are calculated\n",
    "grid_interval = Timedelta(days=1) # grid_interval **must** be larger than returns_interval! "
   ]
  },
  {
   "cell_type": "code",
   "execution_count": 28,
   "id": "ac98cbac",
   "metadata": {},
   "outputs": [
    {
     "data": {
      "text/plain": [
       "(11976048, 3)"
      ]
     },
     "execution_count": 28,
     "metadata": {},
     "output_type": "execute_result"
    }
   ],
   "source": [
    "returns_metadata_exprs = metadata_exprs['accum_returns']\n",
    "bysymbol_index_metadata_exprs = metadata_exprs['by_symbol_index']\n",
    "max_returns_lookback = max(returns_metadata_exprs.keys())\n",
    "\n",
    "# Initialization: prepare for later queries by initializing returns_engine\n",
    "\n",
    "backend_db = backend_dataset.lazyframe()\n",
    "returns_engine = ReturnsEngine(backend_db, **returns_engine_kwargs)\n",
    "\n",
    "backend_universe_df = backend_dataset.cast_symbol_col_to_enum(backend_dataset.universe())\n",
    "returns_grid = backend_universe_df.with_columns(\n",
    "        returns_grid_time=pl.datetime_ranges(\n",
    "            pl.col('date'), \n",
    "            pl.col('date').dt.offset_by('1d'),\n",
    "            interval=returns_interval,\n",
    "            closed='left'\n",
    "        )\n",
    "    ).explode('returns_grid_time').sort('symbol', 'returns_grid_time').lazy()\n",
    "returns_grid.collect().shape"
   ]
  },
  {
   "cell_type": "code",
   "execution_count": 29,
   "id": "7edb30b8",
   "metadata": {},
   "outputs": [],
   "source": [
    "# Now, argument for subset metadata computation\n",
    "start_date = Date(2025, 1, 1)\n",
    "end_date = Date(2025, 2, 1) # Inclusive on the left, exclusive on the right"
   ]
  },
  {
   "cell_type": "code",
   "execution_count": 31,
   "id": "34e7ece1-f2bc-4e89-a5ce-c1bd54ec6381",
   "metadata": {},
   "outputs": [
    {
     "data": {
      "text/html": [
       "<div><style>\n",
       ".dataframe > thead > tr,\n",
       ".dataframe > tbody > tr {\n",
       "  text-align: right;\n",
       "  white-space: pre-wrap;\n",
       "}\n",
       "</style>\n",
       "<small>shape: (670_464, 3)</small><table border=\"1\" class=\"dataframe\"><thead><tr><th>symbol</th><th>date</th><th>returns_grid_time</th></tr><tr><td>enum</td><td>date</td><td>datetime[μs]</td></tr></thead><tbody><tr><td>&quot;1000CAT&quot;</td><td>2024-12-25</td><td>2024-12-25 00:00:00</td></tr><tr><td>&quot;1000CAT&quot;</td><td>2024-12-25</td><td>2024-12-25 00:10:00</td></tr><tr><td>&quot;1000CAT&quot;</td><td>2024-12-25</td><td>2024-12-25 00:20:00</td></tr><tr><td>&quot;1000CAT&quot;</td><td>2024-12-25</td><td>2024-12-25 00:30:00</td></tr><tr><td>&quot;1000CAT&quot;</td><td>2024-12-25</td><td>2024-12-25 00:40:00</td></tr><tr><td>&hellip;</td><td>&hellip;</td><td>&hellip;</td></tr><tr><td>&quot;ZRO&quot;</td><td>2025-02-01</td><td>2025-02-01 23:10:00</td></tr><tr><td>&quot;ZRO&quot;</td><td>2025-02-01</td><td>2025-02-01 23:20:00</td></tr><tr><td>&quot;ZRO&quot;</td><td>2025-02-01</td><td>2025-02-01 23:30:00</td></tr><tr><td>&quot;ZRO&quot;</td><td>2025-02-01</td><td>2025-02-01 23:40:00</td></tr><tr><td>&quot;ZRO&quot;</td><td>2025-02-01</td><td>2025-02-01 23:50:00</td></tr></tbody></table></div>"
      ],
      "text/plain": [
       "shape: (670_464, 3)\n",
       "┌─────────┬────────────┬─────────────────────┐\n",
       "│ symbol  ┆ date       ┆ returns_grid_time   │\n",
       "│ ---     ┆ ---        ┆ ---                 │\n",
       "│ enum    ┆ date       ┆ datetime[μs]        │\n",
       "╞═════════╪════════════╪═════════════════════╡\n",
       "│ 1000CAT ┆ 2024-12-25 ┆ 2024-12-25 00:00:00 │\n",
       "│ 1000CAT ┆ 2024-12-25 ┆ 2024-12-25 00:10:00 │\n",
       "│ 1000CAT ┆ 2024-12-25 ┆ 2024-12-25 00:20:00 │\n",
       "│ 1000CAT ┆ 2024-12-25 ┆ 2024-12-25 00:30:00 │\n",
       "│ 1000CAT ┆ 2024-12-25 ┆ 2024-12-25 00:40:00 │\n",
       "│ …       ┆ …          ┆ …                   │\n",
       "│ ZRO     ┆ 2025-02-01 ┆ 2025-02-01 23:10:00 │\n",
       "│ ZRO     ┆ 2025-02-01 ┆ 2025-02-01 23:20:00 │\n",
       "│ ZRO     ┆ 2025-02-01 ┆ 2025-02-01 23:30:00 │\n",
       "│ ZRO     ┆ 2025-02-01 ┆ 2025-02-01 23:40:00 │\n",
       "│ ZRO     ┆ 2025-02-01 ┆ 2025-02-01 23:50:00 │\n",
       "└─────────┴────────────┴─────────────────────┘"
      ]
     },
     "execution_count": 31,
     "metadata": {},
     "output_type": "execute_result"
    }
   ],
   "source": [
    "returns_query.collect()"
   ]
  },
  {
   "cell_type": "code",
   "execution_count": 30,
   "id": "06bd2e8a",
   "metadata": {},
   "outputs": [
    {
     "ename": "SchemaError",
     "evalue": "invalid series dtype: expected `String`, got `duration[μs]` for series with name `literal`",
     "output_type": "error",
     "traceback": [
      "\u001b[31m---------------------------------------------------------------------------\u001b[39m",
      "\u001b[31mSchemaError\u001b[39m                               Traceback (most recent call last)",
      "\u001b[36mCell\u001b[39m\u001b[36m \u001b[39m\u001b[32mIn[30]\u001b[39m\u001b[32m, line 8\u001b[39m\n\u001b[32m      1\u001b[39m \u001b[38;5;66;03m## Step 1: compute returns_interval gridded returns\u001b[39;00m\n\u001b[32m      2\u001b[39m \u001b[38;5;66;03m# [symbol, date, time] with `returns_interval` interspaced \"time\" \u001b[39;00m\n\u001b[32m      3\u001b[39m returns_query = returns_grid.filter(\n\u001b[32m      4\u001b[39m     (pl.col(\u001b[33m'\u001b[39m\u001b[33mdate\u001b[39m\u001b[33m'\u001b[39m) >= start_date - max_returns_lookback) & \n\u001b[32m      5\u001b[39m     (pl.col(\u001b[33m'\u001b[39m\u001b[33mdate\u001b[39m\u001b[33m'\u001b[39m) <= end_date)\n\u001b[32m      6\u001b[39m ).sort(\u001b[33m'\u001b[39m\u001b[33msymbol\u001b[39m\u001b[33m'\u001b[39m, \u001b[33m'\u001b[39m\u001b[33mreturns_grid_time\u001b[39m\u001b[33m'\u001b[39m)\n\u001b[32m----> \u001b[39m\u001b[32m8\u001b[39m index_with_returns = \u001b[43mreturns_engine\u001b[49m\u001b[43m.\u001b[49m\u001b[43mquery\u001b[49m\u001b[43m(\u001b[49m\n\u001b[32m      9\u001b[39m \u001b[43m    \u001b[49m\u001b[43mreturns_query\u001b[49m\u001b[43m,\u001b[49m\u001b[43m \u001b[49m\n\u001b[32m     10\u001b[39m \u001b[43m    \u001b[49m\u001b[43mstart_time_expr\u001b[49m\u001b[43m=\u001b[49m\u001b[43mpl\u001b[49m\u001b[43m.\u001b[49m\u001b[43mcol\u001b[49m\u001b[43m(\u001b[49m\u001b[33;43m'\u001b[39;49m\u001b[33;43mreturns_grid_time\u001b[39;49m\u001b[33;43m'\u001b[39;49m\u001b[43m)\u001b[49m\u001b[43m,\u001b[49m\u001b[43m \u001b[49m\n\u001b[32m     11\u001b[39m \u001b[43m    \u001b[49m\u001b[43mmark_duration\u001b[49m\u001b[43m=\u001b[49m\u001b[43mreturns_interval\u001b[49m\u001b[43m,\u001b[49m\u001b[43m \u001b[49m\n\u001b[32m     12\u001b[39m \u001b[43m    \u001b[49m\u001b[43mtick_lag_tolerance\u001b[49m\u001b[43m=\u001b[49m\u001b[43mreturns_interval\u001b[49m\u001b[43m,\u001b[49m\n\u001b[32m     13\u001b[39m \u001b[43m    \u001b[49m\u001b[43mappend_lag\u001b[49m\u001b[43m=\u001b[49m\u001b[38;5;28;43;01mTrue\u001b[39;49;00m\u001b[43m,\u001b[49m\u001b[43m \u001b[49m\u001b[43m*\u001b[49m\u001b[43m*\u001b[49m\u001b[43mreturns_query_kwargs\u001b[49m\n\u001b[32m     14\u001b[39m \u001b[43m)\u001b[49m.sort(\u001b[33m'\u001b[39m\u001b[33msymbol\u001b[39m\u001b[33m'\u001b[39m, \u001b[33m'\u001b[39m\u001b[33mreturns_grid_time\u001b[39m\u001b[33m'\u001b[39m)\n\u001b[32m     16\u001b[39m index_with_returns.collect()\n",
      "\u001b[36mFile \u001b[39m\u001b[32m~/Code/midas/mnemosyne/python/mnemosyne/engines/returns.py:56\u001b[39m, in \u001b[36mReturnsEngine.query\u001b[39m\u001b[34m(self, query_lf, start_time_expr, mark_duration, tick_lag_tolerance, append_query_tick_times, append_lag, filter_by_query_dates, append_start_end_fairs, verbose_debug)\u001b[39m\n\u001b[32m     41\u001b[39m \u001b[38;5;250m\u001b[39m\u001b[33;03m\"\"\"\u001b[39;00m\n\u001b[32m     42\u001b[39m \u001b[33;03mQuery for computing a single return specification.\u001b[39;00m\n\u001b[32m     43\u001b[39m \n\u001b[32m   (...)\u001b[39m\u001b[32m     52\u001b[39m \u001b[33;03m    - `return`: computed return value\u001b[39;00m\n\u001b[32m     53\u001b[39m \u001b[33;03m\"\"\"\u001b[39;00m\n\u001b[32m     55\u001b[39m \u001b[38;5;66;03m# Call query_batch with a single mark spec using temporary name '0'\u001b[39;00m\n\u001b[32m---> \u001b[39m\u001b[32m56\u001b[39m result = \u001b[38;5;28;43mself\u001b[39;49m\u001b[43m.\u001b[49m\u001b[43mquery_batch\u001b[49m\u001b[43m(\u001b[49m\n\u001b[32m     57\u001b[39m \u001b[43m    \u001b[49m\u001b[43mquery_lf\u001b[49m\u001b[43m,\u001b[49m\n\u001b[32m     58\u001b[39m \u001b[43m    \u001b[49m\u001b[43mmark_exprs\u001b[49m\u001b[43m=\u001b[49m\u001b[43m{\u001b[49m\u001b[33;43m'\u001b[39;49m\u001b[33;43m0\u001b[39;49m\u001b[33;43m'\u001b[39;49m\u001b[43m:\u001b[49m\u001b[43m \u001b[49m\u001b[43m(\u001b[49m\u001b[43mstart_time_expr\u001b[49m\u001b[43m,\u001b[49m\u001b[43m \u001b[49m\u001b[43mmark_duration\u001b[49m\u001b[43m)\u001b[49m\u001b[43m}\u001b[49m\u001b[43m,\u001b[49m\n\u001b[32m     59\u001b[39m \u001b[43m    \u001b[49m\u001b[43mtick_lag_tolerance\u001b[49m\u001b[43m=\u001b[49m\u001b[43mtick_lag_tolerance\u001b[49m\u001b[43m,\u001b[49m\n\u001b[32m     60\u001b[39m \u001b[43m    \u001b[49m\u001b[43mappend_query_tick_times\u001b[49m\u001b[43m=\u001b[49m\u001b[43mappend_query_tick_times\u001b[49m\u001b[43m,\u001b[49m\n\u001b[32m     61\u001b[39m \u001b[43m    \u001b[49m\u001b[43mappend_lag\u001b[49m\u001b[43m=\u001b[49m\u001b[43mappend_lag\u001b[49m\u001b[43m,\u001b[49m\n\u001b[32m     62\u001b[39m \u001b[43m    \u001b[49m\u001b[43mfilter_by_query_dates\u001b[49m\u001b[43m=\u001b[49m\u001b[43mfilter_by_query_dates\u001b[49m\u001b[43m,\u001b[49m\n\u001b[32m     63\u001b[39m \u001b[43m    \u001b[49m\u001b[43mappend_start_end_fairs\u001b[49m\u001b[43m=\u001b[49m\u001b[43mappend_start_end_fairs\u001b[49m\u001b[43m,\u001b[49m\n\u001b[32m     64\u001b[39m \u001b[43m    \u001b[49m\u001b[43mverbose_debug\u001b[49m\u001b[43m=\u001b[49m\u001b[43mverbose_debug\u001b[49m\n\u001b[32m     65\u001b[39m \u001b[43m\u001b[49m\u001b[43m)\u001b[49m\n\u001b[32m     67\u001b[39m \u001b[38;5;66;03m# Strip '_0' suffix from all appended columns\u001b[39;00m\n\u001b[32m     68\u001b[39m \u001b[38;5;66;03m# Columns like 'return_0' -> 'return', 'max_tick_to_query_lag_0' -> 'max_tick_to_query_lag'\u001b[39;00m\n\u001b[32m     69\u001b[39m \u001b[38;5;28;01mreturn\u001b[39;00m result.rename({\n\u001b[32m     70\u001b[39m     col: col[:-\u001b[32m2\u001b[39m]  \u001b[38;5;66;03m# Remove last 2 characters '_0'\u001b[39;00m\n\u001b[32m     71\u001b[39m     \u001b[38;5;28;01mfor\u001b[39;00m col \u001b[38;5;129;01min\u001b[39;00m result.collect_schema().names() \u001b[38;5;28;01mif\u001b[39;00m col.endswith(\u001b[33m'\u001b[39m\u001b[33m_0\u001b[39m\u001b[33m'\u001b[39m)\n\u001b[32m     72\u001b[39m })\n",
      "\u001b[36mFile \u001b[39m\u001b[32m~/Code/midas/mnemosyne/python/mnemosyne/engines/returns.py:158\u001b[39m, in \u001b[36mReturnsEngine.query_batch\u001b[39m\u001b[34m(self, query_lf, mark_exprs, tick_lag_tolerance, append_query_tick_times, append_lag, filter_by_query_dates, append_start_end_fairs, verbose_debug)\u001b[39m\n\u001b[32m    153\u001b[39m all_max_dates = []\n\u001b[32m    154\u001b[39m \u001b[38;5;28;01mfor\u001b[39;00m start_expr, duration_expr \u001b[38;5;129;01min\u001b[39;00m mark_exprs.values():\n\u001b[32m    155\u001b[39m     min_d, max_d = \u001b[43mquery_lf\u001b[49m\u001b[43m.\u001b[49m\u001b[43mselect\u001b[49m\u001b[43m(\u001b[49m\n\u001b[32m    156\u001b[39m \u001b[43m        \u001b[49m\u001b[43mstart_expr\u001b[49m\u001b[43m.\u001b[49m\u001b[43mdt\u001b[49m\u001b[43m.\u001b[49m\u001b[43mdate\u001b[49m\u001b[43m(\u001b[49m\u001b[43m)\u001b[49m\u001b[43m.\u001b[49m\u001b[43mmin\u001b[49m\u001b[43m(\u001b[49m\u001b[43m)\u001b[49m\u001b[43m.\u001b[49m\u001b[43malias\u001b[49m\u001b[43m(\u001b[49m\u001b[33;43m'\u001b[39;49m\u001b[33;43mmin\u001b[39;49m\u001b[33;43m'\u001b[39;49m\u001b[43m)\u001b[49m\u001b[43m,\u001b[49m\n\u001b[32m    157\u001b[39m \u001b[43m        \u001b[49m\u001b[43mstart_expr\u001b[49m\u001b[43m.\u001b[49m\u001b[43mdt\u001b[49m\u001b[43m.\u001b[49m\u001b[43moffset_by\u001b[49m\u001b[43m(\u001b[49m\u001b[43mduration_expr\u001b[49m\u001b[43m)\u001b[49m\u001b[43m.\u001b[49m\u001b[43mdt\u001b[49m\u001b[43m.\u001b[49m\u001b[43mdate\u001b[49m\u001b[43m(\u001b[49m\u001b[43m)\u001b[49m\u001b[43m.\u001b[49m\u001b[43mmax\u001b[49m\u001b[43m(\u001b[49m\u001b[43m)\u001b[49m\u001b[43m.\u001b[49m\u001b[43malias\u001b[49m\u001b[43m(\u001b[49m\u001b[33;43m'\u001b[39;49m\u001b[33;43mmax\u001b[39;49m\u001b[33;43m'\u001b[39;49m\u001b[43m)\u001b[49m\n\u001b[32m--> \u001b[39m\u001b[32m158\u001b[39m \u001b[43m    \u001b[49m\u001b[43m)\u001b[49m\u001b[43m.\u001b[49m\u001b[43mcollect\u001b[49m\u001b[43m(\u001b[49m\u001b[43m)\u001b[49m.row(\u001b[32m0\u001b[39m)\n\u001b[32m    159\u001b[39m     all_min_dates.append(min_d)\n\u001b[32m    160\u001b[39m     all_max_dates.append(max_d)\n",
      "\u001b[36mFile \u001b[39m\u001b[32m~/Code/midas/.venv/lib/python3.12/site-packages/polars/_utils/deprecation.py:97\u001b[39m, in \u001b[36mdeprecate_streaming_parameter.<locals>.decorate.<locals>.wrapper\u001b[39m\u001b[34m(*args, **kwargs)\u001b[39m\n\u001b[32m     93\u001b[39m         kwargs[\u001b[33m\"\u001b[39m\u001b[33mengine\u001b[39m\u001b[33m\"\u001b[39m] = \u001b[33m\"\u001b[39m\u001b[33min-memory\u001b[39m\u001b[33m\"\u001b[39m\n\u001b[32m     95\u001b[39m     \u001b[38;5;28;01mdel\u001b[39;00m kwargs[\u001b[33m\"\u001b[39m\u001b[33mstreaming\u001b[39m\u001b[33m\"\u001b[39m]\n\u001b[32m---> \u001b[39m\u001b[32m97\u001b[39m \u001b[38;5;28;01mreturn\u001b[39;00m \u001b[43mfunction\u001b[49m\u001b[43m(\u001b[49m\u001b[43m*\u001b[49m\u001b[43margs\u001b[49m\u001b[43m,\u001b[49m\u001b[43m \u001b[49m\u001b[43m*\u001b[49m\u001b[43m*\u001b[49m\u001b[43mkwargs\u001b[49m\u001b[43m)\u001b[49m\n",
      "\u001b[36mFile \u001b[39m\u001b[32m~/Code/midas/.venv/lib/python3.12/site-packages/polars/lazyframe/opt_flags.py:330\u001b[39m, in \u001b[36mforward_old_opt_flags.<locals>.decorate.<locals>.wrapper\u001b[39m\u001b[34m(*args, **kwargs)\u001b[39m\n\u001b[32m    327\u001b[39m         optflags = cb(optflags, kwargs.pop(key))  \u001b[38;5;66;03m# type: ignore[no-untyped-call,unused-ignore]\u001b[39;00m\n\u001b[32m    329\u001b[39m kwargs[\u001b[33m\"\u001b[39m\u001b[33moptimizations\u001b[39m\u001b[33m\"\u001b[39m] = optflags\n\u001b[32m--> \u001b[39m\u001b[32m330\u001b[39m \u001b[38;5;28;01mreturn\u001b[39;00m \u001b[43mfunction\u001b[49m\u001b[43m(\u001b[49m\u001b[43m*\u001b[49m\u001b[43margs\u001b[49m\u001b[43m,\u001b[49m\u001b[43m \u001b[49m\u001b[43m*\u001b[49m\u001b[43m*\u001b[49m\u001b[43mkwargs\u001b[49m\u001b[43m)\u001b[49m\n",
      "\u001b[36mFile \u001b[39m\u001b[32m~/Code/midas/.venv/lib/python3.12/site-packages/polars/lazyframe/frame.py:2407\u001b[39m, in \u001b[36mLazyFrame.collect\u001b[39m\u001b[34m(self, type_coercion, predicate_pushdown, projection_pushdown, simplify_expression, slice_pushdown, comm_subplan_elim, comm_subexpr_elim, cluster_with_columns, collapse_joins, no_optimization, engine, background, optimizations, **_kwargs)\u001b[39m\n\u001b[32m   2405\u001b[39m \u001b[38;5;66;03m# Only for testing purposes\u001b[39;00m\n\u001b[32m   2406\u001b[39m callback = _kwargs.get(\u001b[33m\"\u001b[39m\u001b[33mpost_opt_callback\u001b[39m\u001b[33m\"\u001b[39m, callback)\n\u001b[32m-> \u001b[39m\u001b[32m2407\u001b[39m \u001b[38;5;28;01mreturn\u001b[39;00m wrap_df(\u001b[43mldf\u001b[49m\u001b[43m.\u001b[49m\u001b[43mcollect\u001b[49m\u001b[43m(\u001b[49m\u001b[43mengine\u001b[49m\u001b[43m,\u001b[49m\u001b[43m \u001b[49m\u001b[43mcallback\u001b[49m\u001b[43m)\u001b[49m)\n",
      "\u001b[31mSchemaError\u001b[39m: invalid series dtype: expected `String`, got `duration[μs]` for series with name `literal`"
     ]
    }
   ],
   "source": [
    "## Step 1: compute returns_interval gridded returns\n",
    "# [symbol, date, time] with `returns_interval` interspaced \"time\" \n",
    "returns_query = returns_grid.filter(\n",
    "    (pl.col('date') >= start_date - max_returns_lookback) & \n",
    "    (pl.col('date') <= end_date)\n",
    ").sort('symbol', 'returns_grid_time')\n",
    "\n",
    "index_with_returns = returns_engine.query(\n",
    "    returns_query, \n",
    "    start_time_expr=pl.col('returns_grid_time'), \n",
    "    mark_duration=returns_interval, \n",
    "    tick_lag_tolerance=returns_interval,\n",
    "    append_lag=True, **returns_query_kwargs\n",
    ").sort('symbol', 'returns_grid_time')\n",
    "\n",
    "index_with_returns.collect()"
   ]
  },
  {
   "cell_type": "code",
   "execution_count": null,
   "id": "7a529832",
   "metadata": {},
   "outputs": [],
   "source": [
    "## Step2: fetch database metadata\n",
    "db_with_metadata = backend_db.filter(\n",
    "    (pl.col('date').dt.offset_by(grid_interval) >= start_date) & \n",
    "    (pl.col('date') <= pl.lit(end_date).dt.offset_by(grid_interval))\n",
    ").with_columns(\n",
    "    # Offset so that grid_time=t row contains info accessible **at time t**\n",
    "    grid_time=last_event_time_expr.dt.truncate(grid_interval).dt.offset_by(grid_interval)\n",
    ").group_by('symbol', 'grid_time').agg(\n",
    "    [*metadata_exprs_per_symbol_index, last_event_time_expr.last().alias('last_event_time')]\n",
    ").sort('symbol', 'grid_time')\n",
    "\n",
    "# Duplicate over `grid_time`! Granularity is over returns_interval\n",
    "# Join with (coarser) index grid to obtain index grid groups\n",
    "returns_with_index_grid = index_with_returns.\n",
    "\n",
    "index_grid_metadata=returns_with_index_grid.group_by('symbol', 'grid_time').agg(\n",
    "        returns_drift=pl.col('return').mean(),\n",
    "        volatility=pl.col('return').std(), \n",
    "        vol_ssize=pl.col('return').count(), # Number of non-nan samples\n",
    "    ).join(\n",
    "        # Join returns-based metadata with metadata we computed previously (symbol-index level)\n",
    "        # last_event_time comes from db_with_metadata\n",
    "        db_with_metadata, \n",
    "        on=['symbol', 'grid_time']\n",
    "    ).group_by('grid_time').agg([\n",
    "        pl.all(),\n",
    "        *[\n",
    "            (pl.col(c).rank('average') / pl.col(c).count()).alias(f'{c}_q')\n",
    "            for c in quantile_expand_metadata_names + ['returns_drift', 'volatility']\n",
    "        ]\n",
    "    ]).explode(pl.all().exclude('grid_time')\n",
    "    ).sort('symbol', 'grid_time').filter(\n",
    "        pl.col('grid_time').is_between(start_date, end_date, closed='left')\n",
    "    )"
   ]
  },
  {
   "cell_type": "code",
   "execution_count": 25,
   "id": "e0d0a4fd",
   "metadata": {},
   "outputs": [
    {
     "name": "stderr",
     "output_type": "stream",
     "text": [
      "sys:1: UserWarning: Sortedness of columns cannot be checked when 'by' groups provided\n",
      "/tmp/ipykernel_4032520/102038385.py:1: UserWarning: Sortedness of columns cannot be checked when 'by' groups provided\n",
      "  returns_with_index_grid.collect()\n"
     ]
    },
    {
     "data": {
      "text/html": [
       "<div><style>\n",
       ".dataframe > thead > tr,\n",
       ".dataframe > tbody > tr {\n",
       "  text-align: right;\n",
       "  white-space: pre-wrap;\n",
       "}\n",
       "</style>\n",
       "<small>shape: (589_824, 11)</small><table border=\"1\" class=\"dataframe\"><thead><tr><th>symbol</th><th>date</th><th>returns_grid_time</th><th>max_tick_to_query_lag</th><th>return</th><th>grid_time</th><th>liquidity</th><th>sqrtliq</th><th>excess_buy_ratio</th><th>trade_count</th><th>last_event_time</th></tr><tr><td>enum</td><td>date</td><td>datetime[μs]</td><td>duration[μs]</td><td>f64</td><td>datetime[μs]</td><td>f64</td><td>f64</td><td>f64</td><td>u64</td><td>datetime[μs]</td></tr></thead><tbody><tr><td>&quot;1000CAT&quot;</td><td>2024-12-31</td><td>2024-12-31 00:00:00</td><td>null</td><td>null</td><td>null</td><td>null</td><td>null</td><td>null</td><td>null</td><td>null</td></tr><tr><td>&quot;1000CAT&quot;</td><td>2024-12-31</td><td>2024-12-31 00:10:00</td><td>null</td><td>null</td><td>null</td><td>null</td><td>null</td><td>null</td><td>null</td><td>null</td></tr><tr><td>&quot;1000CAT&quot;</td><td>2024-12-31</td><td>2024-12-31 00:20:00</td><td>6m 2s 143ms</td><td>null</td><td>null</td><td>null</td><td>null</td><td>null</td><td>null</td><td>null</td></tr><tr><td>&quot;1000CAT&quot;</td><td>2024-12-31</td><td>2024-12-31 00:30:00</td><td>6m 2s 143ms</td><td>-0.00607</td><td>null</td><td>null</td><td>null</td><td>null</td><td>null</td><td>null</td></tr><tr><td>&quot;1000CAT&quot;</td><td>2024-12-31</td><td>2024-12-31 00:40:00</td><td>5m 28s 768ms</td><td>0.002826</td><td>null</td><td>null</td><td>null</td><td>null</td><td>null</td><td>null</td></tr><tr><td>&hellip;</td><td>&hellip;</td><td>&hellip;</td><td>&hellip;</td><td>&hellip;</td><td>&hellip;</td><td>&hellip;</td><td>&hellip;</td><td>&hellip;</td><td>&hellip;</td><td>&hellip;</td></tr><tr><td>&quot;ZRO&quot;</td><td>2025-02-02</td><td>2025-02-02 23:10:00</td><td>33s 690446µs</td><td>0.019807</td><td>2025-02-02 00:00:00</td><td>316412.07427</td><td>562.505177</td><td>-0.142262</td><td>2302</td><td>2025-02-01 23:59:44.202991</td></tr><tr><td>&quot;ZRO&quot;</td><td>2025-02-02</td><td>2025-02-02 23:20:00</td><td>33s 690446µs</td><td>-0.022039</td><td>2025-02-02 00:00:00</td><td>316412.07427</td><td>562.505177</td><td>-0.142262</td><td>2302</td><td>2025-02-01 23:59:44.202991</td></tr><tr><td>&quot;ZRO&quot;</td><td>2025-02-02</td><td>2025-02-02 23:30:00</td><td>17s 159931µs</td><td>0.014181</td><td>2025-02-02 00:00:00</td><td>316412.07427</td><td>562.505177</td><td>-0.142262</td><td>2302</td><td>2025-02-01 23:59:44.202991</td></tr><tr><td>&quot;ZRO&quot;</td><td>2025-02-02</td><td>2025-02-02 23:40:00</td><td>38s 447202µs</td><td>0.010321</td><td>2025-02-02 00:00:00</td><td>316412.07427</td><td>562.505177</td><td>-0.142262</td><td>2302</td><td>2025-02-01 23:59:44.202991</td></tr><tr><td>&quot;ZRO&quot;</td><td>2025-02-02</td><td>2025-02-02 23:50:00</td><td>1m 7s 683801µs</td><td>0.008935</td><td>2025-02-02 00:00:00</td><td>316412.07427</td><td>562.505177</td><td>-0.142262</td><td>2302</td><td>2025-02-01 23:59:44.202991</td></tr></tbody></table></div>"
      ],
      "text/plain": [
       "shape: (589_824, 11)\n",
       "┌─────────┬────────────┬───────────┬───────────┬───┬───────────┬───────────┬───────────┬───────────┐\n",
       "│ symbol  ┆ date       ┆ returns_g ┆ max_tick_ ┆ … ┆ sqrtliq   ┆ excess_bu ┆ trade_cou ┆ last_even │\n",
       "│ ---     ┆ ---        ┆ rid_time  ┆ to_query_ ┆   ┆ ---       ┆ y_ratio   ┆ nt        ┆ t_time    │\n",
       "│ enum    ┆ date       ┆ ---       ┆ lag       ┆   ┆ f64       ┆ ---       ┆ ---       ┆ ---       │\n",
       "│         ┆            ┆ datetime[ ┆ ---       ┆   ┆           ┆ f64       ┆ u64       ┆ datetime[ │\n",
       "│         ┆            ┆ μs]       ┆ duration[ ┆   ┆           ┆           ┆           ┆ μs]       │\n",
       "│         ┆            ┆           ┆ μs]       ┆   ┆           ┆           ┆           ┆           │\n",
       "╞═════════╪════════════╪═══════════╪═══════════╪═══╪═══════════╪═══════════╪═══════════╪═══════════╡\n",
       "│ 1000CAT ┆ 2024-12-31 ┆ 2024-12-3 ┆ null      ┆ … ┆ null      ┆ null      ┆ null      ┆ null      │\n",
       "│         ┆            ┆ 1         ┆           ┆   ┆           ┆           ┆           ┆           │\n",
       "│         ┆            ┆ 00:00:00  ┆           ┆   ┆           ┆           ┆           ┆           │\n",
       "│ 1000CAT ┆ 2024-12-31 ┆ 2024-12-3 ┆ null      ┆ … ┆ null      ┆ null      ┆ null      ┆ null      │\n",
       "│         ┆            ┆ 1         ┆           ┆   ┆           ┆           ┆           ┆           │\n",
       "│         ┆            ┆ 00:10:00  ┆           ┆   ┆           ┆           ┆           ┆           │\n",
       "│ 1000CAT ┆ 2024-12-31 ┆ 2024-12-3 ┆ 6m 2s     ┆ … ┆ null      ┆ null      ┆ null      ┆ null      │\n",
       "│         ┆            ┆ 1         ┆ 143ms     ┆   ┆           ┆           ┆           ┆           │\n",
       "│         ┆            ┆ 00:20:00  ┆           ┆   ┆           ┆           ┆           ┆           │\n",
       "│ 1000CAT ┆ 2024-12-31 ┆ 2024-12-3 ┆ 6m 2s     ┆ … ┆ null      ┆ null      ┆ null      ┆ null      │\n",
       "│         ┆            ┆ 1         ┆ 143ms     ┆   ┆           ┆           ┆           ┆           │\n",
       "│         ┆            ┆ 00:30:00  ┆           ┆   ┆           ┆           ┆           ┆           │\n",
       "│ 1000CAT ┆ 2024-12-31 ┆ 2024-12-3 ┆ 5m 28s    ┆ … ┆ null      ┆ null      ┆ null      ┆ null      │\n",
       "│         ┆            ┆ 1         ┆ 768ms     ┆   ┆           ┆           ┆           ┆           │\n",
       "│         ┆            ┆ 00:40:00  ┆           ┆   ┆           ┆           ┆           ┆           │\n",
       "│ …       ┆ …          ┆ …         ┆ …         ┆ … ┆ …         ┆ …         ┆ …         ┆ …         │\n",
       "│ ZRO     ┆ 2025-02-02 ┆ 2025-02-0 ┆ 33s       ┆ … ┆ 562.50517 ┆ -0.142262 ┆ 2302      ┆ 2025-02-0 │\n",
       "│         ┆            ┆ 2         ┆ 690446µs  ┆   ┆ 7         ┆           ┆           ┆ 1 23:59:4 │\n",
       "│         ┆            ┆ 23:10:00  ┆           ┆   ┆           ┆           ┆           ┆ 4.202991  │\n",
       "│ ZRO     ┆ 2025-02-02 ┆ 2025-02-0 ┆ 33s       ┆ … ┆ 562.50517 ┆ -0.142262 ┆ 2302      ┆ 2025-02-0 │\n",
       "│         ┆            ┆ 2         ┆ 690446µs  ┆   ┆ 7         ┆           ┆           ┆ 1 23:59:4 │\n",
       "│         ┆            ┆ 23:20:00  ┆           ┆   ┆           ┆           ┆           ┆ 4.202991  │\n",
       "│ ZRO     ┆ 2025-02-02 ┆ 2025-02-0 ┆ 17s       ┆ … ┆ 562.50517 ┆ -0.142262 ┆ 2302      ┆ 2025-02-0 │\n",
       "│         ┆            ┆ 2         ┆ 159931µs  ┆   ┆ 7         ┆           ┆           ┆ 1 23:59:4 │\n",
       "│         ┆            ┆ 23:30:00  ┆           ┆   ┆           ┆           ┆           ┆ 4.202991  │\n",
       "│ ZRO     ┆ 2025-02-02 ┆ 2025-02-0 ┆ 38s       ┆ … ┆ 562.50517 ┆ -0.142262 ┆ 2302      ┆ 2025-02-0 │\n",
       "│         ┆            ┆ 2         ┆ 447202µs  ┆   ┆ 7         ┆           ┆           ┆ 1 23:59:4 │\n",
       "│         ┆            ┆ 23:40:00  ┆           ┆   ┆           ┆           ┆           ┆ 4.202991  │\n",
       "│ ZRO     ┆ 2025-02-02 ┆ 2025-02-0 ┆ 1m 7s     ┆ … ┆ 562.50517 ┆ -0.142262 ┆ 2302      ┆ 2025-02-0 │\n",
       "│         ┆            ┆ 2         ┆ 683801µs  ┆   ┆ 7         ┆           ┆           ┆ 1 23:59:4 │\n",
       "│         ┆            ┆ 23:50:00  ┆           ┆   ┆           ┆           ┆           ┆ 4.202991  │\n",
       "└─────────┴────────────┴───────────┴───────────┴───┴───────────┴───────────┴───────────┴───────────┘"
      ]
     },
     "execution_count": 25,
     "metadata": {},
     "output_type": "execute_result"
    }
   ],
   "source": [
    "returns_with_index_grid.collect()"
   ]
  },
  {
   "cell_type": "code",
   "execution_count": null,
   "id": "0a0a8f94",
   "metadata": {},
   "outputs": [],
   "source": []
  },
  {
   "cell_type": "code",
   "execution_count": 24,
   "id": "b8364a3c",
   "metadata": {},
   "outputs": [
    {
     "name": "stderr",
     "output_type": "stream",
     "text": [
      "sys:1: UserWarning: Sortedness of columns cannot be checked when 'by' groups provided\n"
     ]
    },
    {
     "data": {
      "text/html": [
       "<div><style>\n",
       ".dataframe > thead > tr,\n",
       ".dataframe > tbody > tr {\n",
       "  text-align: right;\n",
       "  white-space: pre-wrap;\n",
       "}\n",
       "</style>\n",
       "<small>shape: (3_723, 14)</small><table border=\"1\" class=\"dataframe\"><thead><tr><th>grid_time</th><th>symbol</th><th>returns_drift</th><th>volatility</th><th>vol_ssize</th><th>liquidity</th><th>sqrtliq</th><th>excess_buy_ratio</th><th>trade_count</th><th>last_event_time</th><th>liquidity_q</th><th>trade_count_q</th><th>returns_drift_q</th><th>volatility_q</th></tr><tr><td>datetime[μs]</td><td>enum</td><td>f64</td><td>f64</td><td>u64</td><td>f64</td><td>f64</td><td>f64</td><td>u64</td><td>datetime[μs]</td><td>f64</td><td>f64</td><td>f64</td><td>f64</td></tr></thead><tbody><tr><td>2025-01-01 00:00:00</td><td>&quot;1000CAT&quot;</td><td>-0.000248</td><td>0.004545</td><td>117</td><td>215708.3999</td><td>464.444184</td><td>-0.017691</td><td>1614</td><td>2024-12-31 23:59:18.049</td><td>0.315789</td><td>0.377193</td><td>0.035088</td><td>0.719298</td></tr><tr><td>2025-01-02 00:00:00</td><td>&quot;1000CAT&quot;</td><td>0.000101</td><td>0.003936</td><td>131</td><td>95842.97356</td><td>309.585164</td><td>0.016945</td><td>1040</td><td>2025-01-01 23:52:38.379022</td><td>0.122807</td><td>0.22807</td><td>0.27193</td><td>0.54386</td></tr><tr><td>2025-01-03 00:00:00</td><td>&quot;1000CAT&quot;</td><td>0.000611</td><td>0.005214</td><td>134</td><td>128623.064756</td><td>358.640579</td><td>0.176573</td><td>1220</td><td>2025-01-02 23:59:45.891355</td><td>0.114035</td><td>0.236842</td><td>0.77193</td><td>0.850877</td></tr><tr><td>2025-01-04 00:00:00</td><td>&quot;1000CAT&quot;</td><td>-0.000354</td><td>0.004723</td><td>130</td><td>252062.335275</td><td>502.0581</td><td>-0.01835</td><td>1874</td><td>2025-01-03 23:58:19.093973</td><td>0.245614</td><td>0.280702</td><td>0.061404</td><td>0.877193</td></tr><tr><td>2025-01-05 00:00:00</td><td>&quot;1000CAT&quot;</td><td>-0.00004</td><td>0.004473</td><td>121</td><td>123504.089262</td><td>351.431486</td><td>-0.062253</td><td>944</td><td>2025-01-04 23:57:40.851917</td><td>0.175439</td><td>0.219298</td><td>0.473684</td><td>0.868421</td></tr><tr><td>&hellip;</td><td>&hellip;</td><td>&hellip;</td><td>&hellip;</td><td>&hellip;</td><td>&hellip;</td><td>&hellip;</td><td>&hellip;</td><td>&hellip;</td><td>&hellip;</td><td>&hellip;</td><td>&hellip;</td><td>&hellip;</td><td>&hellip;</td></tr><tr><td>2025-01-27 00:00:00</td><td>&quot;ZRO&quot;</td><td>0.000161</td><td>0.007195</td><td>144</td><td>299587.70247</td><td>547.346054</td><td>-0.029462</td><td>2241</td><td>2025-01-26 23:59:13.368413</td><td>0.467742</td><td>0.467742</td><td>0.846774</td><td>0.395161</td></tr><tr><td>2025-01-28 00:00:00</td><td>&quot;ZRO&quot;</td><td>-0.000789</td><td>0.004959</td><td>138</td><td>810045.97199</td><td>900.02554</td><td>-0.087889</td><td>5602</td><td>2025-01-27 23:54:53.186411</td><td>0.475806</td><td>0.451613</td><td>0.379032</td><td>0.556452</td></tr><tr><td>2025-01-29 00:00:00</td><td>&quot;ZRO&quot;</td><td>0.000229</td><td>0.006524</td><td>138</td><td>555960.14533</td><td>745.62735</td><td>0.221771</td><td>2790</td><td>2025-01-28 23:59:55.578232</td><td>0.5</td><td>0.427419</td><td>0.467742</td><td>0.443548</td></tr><tr><td>2025-01-30 00:00:00</td><td>&quot;ZRO&quot;</td><td>0.000432</td><td>0.004047</td><td>140</td><td>375670.84145</td><td>612.919931</td><td>-0.071833</td><td>2620</td><td>2025-01-29 23:57:31.351612</td><td>0.435484</td><td>0.395161</td><td>0.677419</td><td>0.427419</td></tr><tr><td>2025-01-31 00:00:00</td><td>&quot;ZRO&quot;</td><td>0.000233</td><td>0.004458</td><td>137</td><td>250936.87283</td><td>500.935997</td><td>0.096277</td><td>1796</td><td>2025-01-30 23:59:29.097936</td><td>0.370968</td><td>0.387097</td><td>0.798387</td><td>0.443548</td></tr></tbody></table></div>"
      ],
      "text/plain": [
       "shape: (3_723, 14)\n",
       "┌────────────┬─────────┬───────────┬───────────┬───┬───────────┬───────────┬───────────┬───────────┐\n",
       "│ grid_time  ┆ symbol  ┆ returns_d ┆ volatilit ┆ … ┆ liquidity ┆ trade_cou ┆ returns_d ┆ volatilit │\n",
       "│ ---        ┆ ---     ┆ rift      ┆ y         ┆   ┆ _q        ┆ nt_q      ┆ rift_q    ┆ y_q       │\n",
       "│ datetime[μ ┆ enum    ┆ ---       ┆ ---       ┆   ┆ ---       ┆ ---       ┆ ---       ┆ ---       │\n",
       "│ s]         ┆         ┆ f64       ┆ f64       ┆   ┆ f64       ┆ f64       ┆ f64       ┆ f64       │\n",
       "╞════════════╪═════════╪═══════════╪═══════════╪═══╪═══════════╪═══════════╪═══════════╪═══════════╡\n",
       "│ 2025-01-01 ┆ 1000CAT ┆ -0.000248 ┆ 0.004545  ┆ … ┆ 0.315789  ┆ 0.377193  ┆ 0.035088  ┆ 0.719298  │\n",
       "│ 00:00:00   ┆         ┆           ┆           ┆   ┆           ┆           ┆           ┆           │\n",
       "│ 2025-01-02 ┆ 1000CAT ┆ 0.000101  ┆ 0.003936  ┆ … ┆ 0.122807  ┆ 0.22807   ┆ 0.27193   ┆ 0.54386   │\n",
       "│ 00:00:00   ┆         ┆           ┆           ┆   ┆           ┆           ┆           ┆           │\n",
       "│ 2025-01-03 ┆ 1000CAT ┆ 0.000611  ┆ 0.005214  ┆ … ┆ 0.114035  ┆ 0.236842  ┆ 0.77193   ┆ 0.850877  │\n",
       "│ 00:00:00   ┆         ┆           ┆           ┆   ┆           ┆           ┆           ┆           │\n",
       "│ 2025-01-04 ┆ 1000CAT ┆ -0.000354 ┆ 0.004723  ┆ … ┆ 0.245614  ┆ 0.280702  ┆ 0.061404  ┆ 0.877193  │\n",
       "│ 00:00:00   ┆         ┆           ┆           ┆   ┆           ┆           ┆           ┆           │\n",
       "│ 2025-01-05 ┆ 1000CAT ┆ -0.00004  ┆ 0.004473  ┆ … ┆ 0.175439  ┆ 0.219298  ┆ 0.473684  ┆ 0.868421  │\n",
       "│ 00:00:00   ┆         ┆           ┆           ┆   ┆           ┆           ┆           ┆           │\n",
       "│ …          ┆ …       ┆ …         ┆ …         ┆ … ┆ …         ┆ …         ┆ …         ┆ …         │\n",
       "│ 2025-01-27 ┆ ZRO     ┆ 0.000161  ┆ 0.007195  ┆ … ┆ 0.467742  ┆ 0.467742  ┆ 0.846774  ┆ 0.395161  │\n",
       "│ 00:00:00   ┆         ┆           ┆           ┆   ┆           ┆           ┆           ┆           │\n",
       "│ 2025-01-28 ┆ ZRO     ┆ -0.000789 ┆ 0.004959  ┆ … ┆ 0.475806  ┆ 0.451613  ┆ 0.379032  ┆ 0.556452  │\n",
       "│ 00:00:00   ┆         ┆           ┆           ┆   ┆           ┆           ┆           ┆           │\n",
       "│ 2025-01-29 ┆ ZRO     ┆ 0.000229  ┆ 0.006524  ┆ … ┆ 0.5       ┆ 0.427419  ┆ 0.467742  ┆ 0.443548  │\n",
       "│ 00:00:00   ┆         ┆           ┆           ┆   ┆           ┆           ┆           ┆           │\n",
       "│ 2025-01-30 ┆ ZRO     ┆ 0.000432  ┆ 0.004047  ┆ … ┆ 0.435484  ┆ 0.395161  ┆ 0.677419  ┆ 0.427419  │\n",
       "│ 00:00:00   ┆         ┆           ┆           ┆   ┆           ┆           ┆           ┆           │\n",
       "│ 2025-01-31 ┆ ZRO     ┆ 0.000233  ┆ 0.004458  ┆ … ┆ 0.370968  ┆ 0.387097  ┆ 0.798387  ┆ 0.443548  │\n",
       "│ 00:00:00   ┆         ┆           ┆           ┆   ┆           ┆           ┆           ┆           │\n",
       "└────────────┴─────────┴───────────┴───────────┴───┴───────────┴───────────┴───────────┴───────────┘"
      ]
     },
     "execution_count": 24,
     "metadata": {},
     "output_type": "execute_result"
    }
   ],
   "source": [
    "index_grid_metadata.collect()"
   ]
  },
  {
   "cell_type": "code",
   "execution_count": null,
   "id": "6e0cede5",
   "metadata": {},
   "outputs": [],
   "source": []
  }
 ],
 "metadata": {
  "kernelspec": {
   "display_name": "midas",
   "language": "python",
   "name": "midas"
  },
  "language_info": {
   "codemirror_mode": {
    "name": "ipython",
    "version": 3
   },
   "file_extension": ".py",
   "mimetype": "text/x-python",
   "name": "python",
   "nbconvert_exporter": "python",
   "pygments_lexer": "ipython3",
   "version": "3.12.3"
  },
  "widgets": {
   "application/vnd.jupyter.widget-state+json": {
    "state": {},
    "version_major": 2,
    "version_minor": 0
   }
  }
 },
 "nbformat": 4,
 "nbformat_minor": 5
}
