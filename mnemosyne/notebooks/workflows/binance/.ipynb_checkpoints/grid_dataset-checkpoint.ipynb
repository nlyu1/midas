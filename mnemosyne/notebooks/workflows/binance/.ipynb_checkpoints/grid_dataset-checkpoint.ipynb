{
 "cells": [
  {
   "cell_type": "markdown",
   "id": "b557875c",
   "metadata": {},
   "source": [
    "# Lossless -> gridded \n",
    "\n",
    "Grids `last_trade` data: \n",
    "\n",
    "- Each `BinanceLastTradesGrid` reads the underlying lossless dataset `symbol_date_df` to determine symbol-date pairs. \n",
    "- Each dataset maintains a list of \"validated\" dates. Second runs will be very quick"
   ]
  },
  {
   "cell_type": "code",
   "execution_count": 4,
   "id": "00e9e27b",
   "metadata": {},
   "outputs": [],
   "source": [
    "import mnemosyne as ms \n",
    "import polars as pl\n",
    "from datetime import date as Date \n",
    "\n",
    "args = [\n",
    "    (ms.DatasetType.BinanceSpotTrades, '5s', 'USDC'),\n",
    "    (ms.DatasetType.BinanceUmPerpTrades, '5s', 'USDC'),\n",
    "    (ms.DatasetType.BinanceSpotTrades, '5s', 'USDT'),\n",
    "    (ms.DatasetType.BinanceUmPerpTrades, '5s', 'USDT'),\n",
    "\n",
    "    (ms.DatasetType.BinanceSpotTrades, '10m', 'USDC'),\n",
    "    (ms.DatasetType.BinanceUmPerpTrades, '10m', 'USDC'),\n",
    "    (ms.DatasetType.BinanceSpotTrades, '10m', 'USDT'),\n",
    "    (ms.DatasetType.BinanceUmPerpTrades, '10m', 'USDT'),\n",
    "]"
   ]
  },
  {
   "cell_type": "code",
   "execution_count": 5,
   "id": "47e95f33",
   "metadata": {},
   "outputs": [
    {
     "name": "stdout",
     "output_type": "stream",
     "text": [
      "BinanceSpotTrades 5s USDC: /data/mnemosyne/binance/grids/spot/last_trade/5s/peg_symbol=USDC\n",
      "BinanceUmPerpTrades 5s USDC: /data/mnemosyne/binance/grids/futures/um/last_trade/5s/peg_symbol=USDC\n",
      "BinanceSpotTrades 5s USDT: /data/mnemosyne/binance/grids/spot/last_trade/5s/peg_symbol=USDT\n",
      "BinanceUmPerpTrades 5s USDT: /data/mnemosyne/binance/grids/futures/um/last_trade/5s/peg_symbol=USDT\n",
      "BinanceSpotTrades 10m USDC: /data/mnemosyne/binance/grids/spot/last_trade/10m/peg_symbol=USDC\n",
      "BinanceUmPerpTrades 10m USDC: /data/mnemosyne/binance/grids/futures/um/last_trade/10m/peg_symbol=USDC\n",
      "BinanceSpotTrades 10m USDT: /data/mnemosyne/binance/grids/spot/last_trade/10m/peg_symbol=USDT\n",
      "BinanceUmPerpTrades 10m USDT: /data/mnemosyne/binance/grids/futures/um/last_trade/10m/peg_symbol=USDT\n"
     ]
    }
   ],
   "source": [
    "for dataset_type, grid_interval, peg_symbol in args:\n",
    "    # Reads the underlying lossless dataset's `symbol_date_df` to determine symbol-date pairs\n",
    "    dataset = ms.binance.BinanceLastTradesGrid(\n",
    "        peg_symbol=peg_symbol, \n",
    "        grid_interval=grid_interval, \n",
    "        dataset_type=dataset_type, \n",
    "        parquet_names='*.parquet',\n",
    "        num_workers=1, \n",
    "    )\n",
    "    print(f'{dataset_type} {grid_interval} {peg_symbol}: {dataset.path}')\n",
    "    dataset.compute(recompute=False, days_per_batch=60)"
   ]
  },
  {
   "cell_type": "markdown",
   "id": "53cc4ef1",
   "metadata": {},
   "source": [
    "# Usage example"
   ]
  },
  {
   "cell_type": "code",
   "execution_count": 3,
   "id": "36be39d2",
   "metadata": {},
   "outputs": [
    {
     "name": "stderr",
     "output_type": "stream",
     "text": [
      "WARNING:mnemosyne.dataset.interface:No validation cache-file exists at /data/mnemosyne/binance/grids/futures/um/last_trade/2m/peg_symbol=USDT/validated_partitions.json\n",
      "Check whether /data/mnemosyne/binance/grids/futures/um/last_trade/2m/peg_symbol=USDT exists.\n"
     ]
    },
    {
     "data": {
      "text/html": [
       "<div><style>\n",
       ".dataframe > thead > tr,\n",
       ".dataframe > tbody > tr {\n",
       "  text-align: right;\n",
       "  white-space: pre-wrap;\n",
       "}\n",
       "</style>\n",
       "<small>shape: (347_794, 2)</small><table border=\"1\" class=\"dataframe\"><thead><tr><th>symbol</th><th>date</th></tr><tr><td>str</td><td>date</td></tr></thead><tbody><tr><td>&quot;AGLD&quot;</td><td>2024-03-17</td></tr><tr><td>&quot;APE&quot;</td><td>2024-03-17</td></tr><tr><td>&quot;REN&quot;</td><td>2024-03-17</td></tr><tr><td>&quot;JUP&quot;</td><td>2024-03-17</td></tr><tr><td>&quot;AXS&quot;</td><td>2024-03-17</td></tr><tr><td>&hellip;</td><td>&hellip;</td></tr><tr><td>&quot;DAM&quot;</td><td>2025-10-23</td></tr><tr><td>&quot;TOKEN&quot;</td><td>2025-10-23</td></tr><tr><td>&quot;VVV&quot;</td><td>2025-10-23</td></tr><tr><td>&quot;DEGO&quot;</td><td>2025-10-23</td></tr><tr><td>&quot;BAN&quot;</td><td>2025-10-23</td></tr></tbody></table></div>"
      ],
      "text/plain": [
       "shape: (347_794, 2)\n",
       "┌────────┬────────────┐\n",
       "│ symbol ┆ date       │\n",
       "│ ---    ┆ ---        │\n",
       "│ str    ┆ date       │\n",
       "╞════════╪════════════╡\n",
       "│ AGLD   ┆ 2024-03-17 │\n",
       "│ APE    ┆ 2024-03-17 │\n",
       "│ REN    ┆ 2024-03-17 │\n",
       "│ JUP    ┆ 2024-03-17 │\n",
       "│ AXS    ┆ 2024-03-17 │\n",
       "│ …      ┆ …          │\n",
       "│ DAM    ┆ 2025-10-23 │\n",
       "│ TOKEN  ┆ 2025-10-23 │\n",
       "│ VVV    ┆ 2025-10-23 │\n",
       "│ DEGO   ┆ 2025-10-23 │\n",
       "│ BAN    ┆ 2025-10-23 │\n",
       "└────────┴────────────┘"
      ]
     },
     "execution_count": 3,
     "metadata": {},
     "output_type": "execute_result"
    }
   ],
   "source": [
    "peg_symbol = 'USDT'\n",
    "dstype = ms.DatasetType.BinanceUmPerpTrades\n",
    "grid_interval = '2m'\n",
    "\n",
    "dataset = ms.binance.BinanceLastTradesGrid(\n",
    "        peg_symbol=peg_symbol, \n",
    "        grid_interval=grid_interval, \n",
    "        dataset_type=dstype, \n",
    "        parquet_names='*.parquet', \n",
    "        num_workers=4, \n",
    "    )\n",
    "\n",
    "# Reading the full dataset\n",
    "lf = pl.scan_parquet(dataset.path / f'**/{dataset.parquet_names}')\n",
    "dataset.universe_df"
   ]
  },
  {
   "cell_type": "code",
   "execution_count": null,
   "id": "75b9905f",
   "metadata": {},
   "outputs": [],
   "source": []
  }
 ],
 "metadata": {
  "kernelspec": {
   "display_name": "midas",
   "language": "python",
   "name": "midas"
  },
  "language_info": {
   "codemirror_mode": {
    "name": "ipython",
    "version": 3
   },
   "file_extension": ".py",
   "mimetype": "text/x-python",
   "name": "python",
   "nbconvert_exporter": "python",
   "pygments_lexer": "ipython3",
   "version": "3.12.3"
  },
  "widgets": {
   "application/vnd.jupyter.widget-state+json": {
    "state": {
     "0379d6f735a347c2b948a4c602711c1f": {
      "model_module": "@jupyter-widgets/controls",
      "model_module_version": "2.0.0",
      "model_name": "ProgressStyleModel",
      "state": {
       "description_width": ""
      }
     },
     "0ce3a08d450f4ae3b0bcbe6df1692922": {
      "model_module": "@jupyter-widgets/base",
      "model_module_version": "2.0.0",
      "model_name": "LayoutModel",
      "state": {}
     },
     "123a1e6a91eb488bb5183d7cdab00854": {
      "model_module": "@jupyter-widgets/controls",
      "model_module_version": "2.0.0",
      "model_name": "HTMLModel",
      "state": {
       "layout": "IPY_MODEL_5a70487f0bd64450a59d08868aa41c47",
       "style": "IPY_MODEL_79848ebcd70c45fe92285f3924815a02",
       "value": " 11/11 [00:30&lt;00:00,  3.86s/it]"
      }
     },
     "2aa57f36fa5646478dde459be877b43f": {
      "model_module": "@jupyter-widgets/controls",
      "model_module_version": "2.0.0",
      "model_name": "HTMLModel",
      "state": {
       "layout": "IPY_MODEL_671c8860227e480d94a262734f3ebe93",
       "style": "IPY_MODEL_c84e2c374c8c4bd38894298cf46a8589",
       "value": "100%"
      }
     },
     "305583ea6d9644d0abc8721ec85186ba": {
      "model_module": "@jupyter-widgets/controls",
      "model_module_version": "2.0.0",
      "model_name": "HTMLStyleModel",
      "state": {
       "description_width": "",
       "font_size": null,
       "text_color": null
      }
     },
     "34e50f48f1904aaf84afdc064daae118": {
      "model_module": "@jupyter-widgets/base",
      "model_module_version": "2.0.0",
      "model_name": "LayoutModel",
      "state": {}
     },
     "36368b743fbd45a8bb3f244564065203": {
      "model_module": "@jupyter-widgets/controls",
      "model_module_version": "2.0.0",
      "model_name": "ProgressStyleModel",
      "state": {
       "description_width": ""
      }
     },
     "3ad376f431c04d209fdfc034728be09c": {
      "model_module": "@jupyter-widgets/base",
      "model_module_version": "2.0.0",
      "model_name": "LayoutModel",
      "state": {}
     },
     "3e49cb2f893245608cd1742121a28b43": {
      "model_module": "@jupyter-widgets/controls",
      "model_module_version": "2.0.0",
      "model_name": "HTMLStyleModel",
      "state": {
       "description_width": "",
       "font_size": null,
       "text_color": null
      }
     },
     "40facf60a8c7414eb08b683d17e54efc": {
      "model_module": "@jupyter-widgets/controls",
      "model_module_version": "2.0.0",
      "model_name": "HTMLStyleModel",
      "state": {
       "description_width": "",
       "font_size": null,
       "text_color": null
      }
     },
     "439e9cb8ba664ecfa30a872a91f7b8c9": {
      "model_module": "@jupyter-widgets/controls",
      "model_module_version": "2.0.0",
      "model_name": "HTMLStyleModel",
      "state": {
       "description_width": "",
       "font_size": null,
       "text_color": null
      }
     },
     "4430b96fcf7e41ea814bcf04d4e40734": {
      "model_module": "@jupyter-widgets/base",
      "model_module_version": "2.0.0",
      "model_name": "LayoutModel",
      "state": {}
     },
     "457a0adfba0740ed8f7048537f3fa53a": {
      "model_module": "@jupyter-widgets/controls",
      "model_module_version": "2.0.0",
      "model_name": "HTMLModel",
      "state": {
       "layout": "IPY_MODEL_ce00836bc1f94a458e4cd94712f7476b",
       "style": "IPY_MODEL_e391ce7c92ba41c1955acfb95a0ea0fe",
       "value": "100%"
      }
     },
     "4abfeb7640c44c688ab2c37a5da0fe34": {
      "model_module": "@jupyter-widgets/controls",
      "model_module_version": "2.0.0",
      "model_name": "ProgressStyleModel",
      "state": {
       "description_width": ""
      }
     },
     "529aeeb5149645f195e3ecb127da71fa": {
      "model_module": "@jupyter-widgets/base",
      "model_module_version": "2.0.0",
      "model_name": "LayoutModel",
      "state": {}
     },
     "57afa95ae9394148815b8c1fcb908274": {
      "model_module": "@jupyter-widgets/base",
      "model_module_version": "2.0.0",
      "model_name": "LayoutModel",
      "state": {}
     },
     "5a70487f0bd64450a59d08868aa41c47": {
      "model_module": "@jupyter-widgets/base",
      "model_module_version": "2.0.0",
      "model_name": "LayoutModel",
      "state": {}
     },
     "671c8860227e480d94a262734f3ebe93": {
      "model_module": "@jupyter-widgets/base",
      "model_module_version": "2.0.0",
      "model_name": "LayoutModel",
      "state": {}
     },
     "69697b8f3dd545c7a319460a25efc1cd": {
      "model_module": "@jupyter-widgets/controls",
      "model_module_version": "2.0.0",
      "model_name": "HBoxModel",
      "state": {
       "children": [
        "IPY_MODEL_fb5c1c70c94845a68686ab923335a2b2",
        "IPY_MODEL_b2cbfdbd8b0540e89bd43de1eea97175",
        "IPY_MODEL_123a1e6a91eb488bb5183d7cdab00854"
       ],
       "layout": "IPY_MODEL_e534a19745fd4201be86a7588f438170"
      }
     },
     "6a8d6e3815d94296bc3c959b0c15d139": {
      "model_module": "@jupyter-widgets/base",
      "model_module_version": "2.0.0",
      "model_name": "LayoutModel",
      "state": {}
     },
     "79848ebcd70c45fe92285f3924815a02": {
      "model_module": "@jupyter-widgets/controls",
      "model_module_version": "2.0.0",
      "model_name": "HTMLStyleModel",
      "state": {
       "description_width": "",
       "font_size": null,
       "text_color": null
      }
     },
     "8a3e8b3cfab5450f952fd6c01361215f": {
      "model_module": "@jupyter-widgets/controls",
      "model_module_version": "2.0.0",
      "model_name": "ProgressStyleModel",
      "state": {
       "description_width": ""
      }
     },
     "8e86b0732d2240bab72358e35725fb63": {
      "model_module": "@jupyter-widgets/base",
      "model_module_version": "2.0.0",
      "model_name": "LayoutModel",
      "state": {}
     },
     "a519abe8c75b48488a944169b2e97ee4": {
      "model_module": "@jupyter-widgets/controls",
      "model_module_version": "2.0.0",
      "model_name": "FloatProgressModel",
      "state": {
       "bar_style": "success",
       "layout": "IPY_MODEL_57afa95ae9394148815b8c1fcb908274",
       "max": 24,
       "style": "IPY_MODEL_0379d6f735a347c2b948a4c602711c1f",
       "value": 24
      }
     },
     "aa70ec57c187443395628fba86a2be5a": {
      "model_module": "@jupyter-widgets/controls",
      "model_module_version": "2.0.0",
      "model_name": "HTMLModel",
      "state": {
       "layout": "IPY_MODEL_b537790370874868901033d328d46888",
       "style": "IPY_MODEL_305583ea6d9644d0abc8721ec85186ba",
       "value": " 21/21 [01:15&lt;00:00,  5.20s/it]"
      }
     },
     "b2cbfdbd8b0540e89bd43de1eea97175": {
      "model_module": "@jupyter-widgets/controls",
      "model_module_version": "2.0.0",
      "model_name": "FloatProgressModel",
      "state": {
       "bar_style": "success",
       "layout": "IPY_MODEL_529aeeb5149645f195e3ecb127da71fa",
       "max": 11,
       "style": "IPY_MODEL_4abfeb7640c44c688ab2c37a5da0fe34",
       "value": 11
      }
     },
     "b2ec16d85a184bd39e0e2d8b6e02b415": {
      "model_module": "@jupyter-widgets/base",
      "model_module_version": "2.0.0",
      "model_name": "LayoutModel",
      "state": {}
     },
     "b4d5e123f5a2454b9bec5e2233da0f84": {
      "model_module": "@jupyter-widgets/controls",
      "model_module_version": "2.0.0",
      "model_name": "HTMLModel",
      "state": {
       "layout": "IPY_MODEL_6a8d6e3815d94296bc3c959b0c15d139",
       "style": "IPY_MODEL_439e9cb8ba664ecfa30a872a91f7b8c9",
       "value": " 24/24 [16:17&lt;00:00, 54.10s/it]"
      }
     },
     "b4ec834cb9f343f29304bade92b2a597": {
      "model_module": "@jupyter-widgets/controls",
      "model_module_version": "2.0.0",
      "model_name": "FloatProgressModel",
      "state": {
       "bar_style": "success",
       "layout": "IPY_MODEL_3ad376f431c04d209fdfc034728be09c",
       "max": 21,
       "style": "IPY_MODEL_8a3e8b3cfab5450f952fd6c01361215f",
       "value": 21
      }
     },
     "b537790370874868901033d328d46888": {
      "model_module": "@jupyter-widgets/base",
      "model_module_version": "2.0.0",
      "model_name": "LayoutModel",
      "state": {}
     },
     "bbf9ed68eb504c81ad9e757548570169": {
      "model_module": "@jupyter-widgets/controls",
      "model_module_version": "2.0.0",
      "model_name": "HTMLStyleModel",
      "state": {
       "description_width": "",
       "font_size": null,
       "text_color": null
      }
     },
     "bddc25de3acf48c7951a0699cc7f98ac": {
      "model_module": "@jupyter-widgets/controls",
      "model_module_version": "2.0.0",
      "model_name": "FloatProgressModel",
      "state": {
       "bar_style": "success",
       "layout": "IPY_MODEL_0ce3a08d450f4ae3b0bcbe6df1692922",
       "max": 24,
       "style": "IPY_MODEL_36368b743fbd45a8bb3f244564065203",
       "value": 24
      }
     },
     "c84e2c374c8c4bd38894298cf46a8589": {
      "model_module": "@jupyter-widgets/controls",
      "model_module_version": "2.0.0",
      "model_name": "HTMLStyleModel",
      "state": {
       "description_width": "",
       "font_size": null,
       "text_color": null
      }
     },
     "caac1a850fd048269bc1f9395ec9c620": {
      "model_module": "@jupyter-widgets/controls",
      "model_module_version": "2.0.0",
      "model_name": "HBoxModel",
      "state": {
       "children": [
        "IPY_MODEL_e431ee03ac3b43feb1a39dcc385d882e",
        "IPY_MODEL_b4ec834cb9f343f29304bade92b2a597",
        "IPY_MODEL_aa70ec57c187443395628fba86a2be5a"
       ],
       "layout": "IPY_MODEL_cf836f19a57142f18c46a26411fc07bc"
      }
     },
     "ce00836bc1f94a458e4cd94712f7476b": {
      "model_module": "@jupyter-widgets/base",
      "model_module_version": "2.0.0",
      "model_name": "LayoutModel",
      "state": {}
     },
     "cf836f19a57142f18c46a26411fc07bc": {
      "model_module": "@jupyter-widgets/base",
      "model_module_version": "2.0.0",
      "model_name": "LayoutModel",
      "state": {}
     },
     "d261e0574c7949dca5543f764569a95e": {
      "model_module": "@jupyter-widgets/controls",
      "model_module_version": "2.0.0",
      "model_name": "HBoxModel",
      "state": {
       "children": [
        "IPY_MODEL_2aa57f36fa5646478dde459be877b43f",
        "IPY_MODEL_a519abe8c75b48488a944169b2e97ee4",
        "IPY_MODEL_b4d5e123f5a2454b9bec5e2233da0f84"
       ],
       "layout": "IPY_MODEL_8e86b0732d2240bab72358e35725fb63"
      }
     },
     "dff413d6d0a3447186ca47803e88c64f": {
      "model_module": "@jupyter-widgets/controls",
      "model_module_version": "2.0.0",
      "model_name": "HBoxModel",
      "state": {
       "children": [
        "IPY_MODEL_457a0adfba0740ed8f7048537f3fa53a",
        "IPY_MODEL_bddc25de3acf48c7951a0699cc7f98ac",
        "IPY_MODEL_e19c996ca8ef48ed9e563613a8dcc22e"
       ],
       "layout": "IPY_MODEL_4430b96fcf7e41ea814bcf04d4e40734"
      }
     },
     "e19c996ca8ef48ed9e563613a8dcc22e": {
      "model_module": "@jupyter-widgets/controls",
      "model_module_version": "2.0.0",
      "model_name": "HTMLModel",
      "state": {
       "layout": "IPY_MODEL_34e50f48f1904aaf84afdc064daae118",
       "style": "IPY_MODEL_40facf60a8c7414eb08b683d17e54efc",
       "value": " 24/24 [37:11&lt;00:00, 141.19s/it]"
      }
     },
     "e391ce7c92ba41c1955acfb95a0ea0fe": {
      "model_module": "@jupyter-widgets/controls",
      "model_module_version": "2.0.0",
      "model_name": "HTMLStyleModel",
      "state": {
       "description_width": "",
       "font_size": null,
       "text_color": null
      }
     },
     "e431ee03ac3b43feb1a39dcc385d882e": {
      "model_module": "@jupyter-widgets/controls",
      "model_module_version": "2.0.0",
      "model_name": "HTMLModel",
      "state": {
       "layout": "IPY_MODEL_b2ec16d85a184bd39e0e2d8b6e02b415",
       "style": "IPY_MODEL_bbf9ed68eb504c81ad9e757548570169",
       "value": "100%"
      }
     },
     "e534a19745fd4201be86a7588f438170": {
      "model_module": "@jupyter-widgets/base",
      "model_module_version": "2.0.0",
      "model_name": "LayoutModel",
      "state": {}
     },
     "f88b48fe51e54b3497f71df3d7a490f9": {
      "model_module": "@jupyter-widgets/base",
      "model_module_version": "2.0.0",
      "model_name": "LayoutModel",
      "state": {}
     },
     "fb5c1c70c94845a68686ab923335a2b2": {
      "model_module": "@jupyter-widgets/controls",
      "model_module_version": "2.0.0",
      "model_name": "HTMLModel",
      "state": {
       "layout": "IPY_MODEL_f88b48fe51e54b3497f71df3d7a490f9",
       "style": "IPY_MODEL_3e49cb2f893245608cd1742121a28b43",
       "value": "100%"
      }
     }
    },
    "version_major": 2,
    "version_minor": 0
   }
  }
 },
 "nbformat": 4,
 "nbformat_minor": 5
}
