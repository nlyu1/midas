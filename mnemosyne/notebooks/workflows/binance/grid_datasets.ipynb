{
 "cells": [
  {
   "cell_type": "markdown",
   "id": "b557875c",
   "metadata": {},
   "source": [
    "# Lossless -> gridded \n",
    "\n",
    "Grids `last_trade` data: \n",
    "\n",
    "- Each `BinanceLastTradesGrid` reads the underlying lossless dataset `symbol_date_df` to determine symbol-date pairs. \n",
    "- Each dataset maintains a list of \"validated\" dates. Second runs will be very quick"
   ]
  },
  {
   "cell_type": "code",
   "execution_count": 4,
   "id": "00e9e27b",
   "metadata": {},
   "outputs": [],
   "source": [
    "import mnemosyne as ms \n",
    "import polars as pl\n",
    "from datetime import date as Date\n",
    "from timedelta_isoformat import timedelta as Timedelta\n",
    "\n",
    "args = [\n",
    "    # (ms.DatasetType.BinanceSpotTrades, Timedelta(seconds=5), 'USDC'),\n",
    "    # (ms.DatasetType.BinanceUmPerpTrades, Timedelta(seconds=5), 'USDC'),\n",
    "    # (ms.DatasetType.BinanceSpotTrades, Timedelta(minutes=10), 'USDC'),\n",
    "    # (ms.DatasetType.BinanceUmPerpTrades, Timedelta(minutes=10), 'USDC'),\n",
    "    \n",
    "    (ms.DatasetType.BinanceSpotTrades, Timedelta(seconds=5), 'USDT'),\n",
    "    (ms.DatasetType.BinanceUmPerpTrades, Timedelta(seconds=5), 'USDT'),\n",
    "    (ms.DatasetType.BinanceSpotTrades, Timedelta(minutes=10), 'USDT'),\n",
    "    (ms.DatasetType.BinanceUmPerpTrades, Timedelta(minutes=10), 'USDT'),\n",
    "]"
   ]
  },
  {
   "cell_type": "markdown",
   "id": "5c23e4cc",
   "metadata": {},
   "source": [
    "# (pre)-compute gridded datasets"
   ]
  },
  {
   "cell_type": "code",
   "execution_count": 5,
   "id": "47e95f33",
   "metadata": {},
   "outputs": [
    {
     "name": "stderr",
     "output_type": "stream",
     "text": [
      "INFO:mnemosyne.dataset.interface:Computing 3 partitions in 1 batches (60 days/batch) with 1 workers\n"
     ]
    },
    {
     "name": "stdout",
     "output_type": "stream",
     "text": [
      "BinanceSpotTrades 0:00:05 USDT: /data/mnemosyne/binance/grids/spot/last_trade/PT5S/peg_symbol=USDT\n"
     ]
    },
    {
     "data": {
      "application/vnd.jupyter.widget-view+json": {
       "model_id": "7e55f7e594d84defb160cef0d6c690eb",
       "version_major": 2,
       "version_minor": 0
      },
      "text/plain": [
       "  0%|          | 0/1 [00:00<?, ?it/s]"
      ]
     },
     "metadata": {},
     "output_type": "display_data"
    },
    {
     "name": "stderr",
     "output_type": "stream",
     "text": [
      "INFO:mnemosyne.dataset.interface:Computation complete: 3/3 successful\n",
      "INFO:mnemosyne.dataset.interface:Computing 3 partitions in 1 batches (60 days/batch) with 1 workers\n"
     ]
    },
    {
     "name": "stdout",
     "output_type": "stream",
     "text": [
      "BinanceUmPerpTrades 0:00:05 USDT: /data/mnemosyne/binance/grids/futures/um/last_trade/PT5S/peg_symbol=USDT\n"
     ]
    },
    {
     "data": {
      "application/vnd.jupyter.widget-view+json": {
       "model_id": "dbc29d7bbf0c408cb64b77adc8ae7a8e",
       "version_major": 2,
       "version_minor": 0
      },
      "text/plain": [
       "  0%|          | 0/1 [00:00<?, ?it/s]"
      ]
     },
     "metadata": {},
     "output_type": "display_data"
    },
    {
     "name": "stderr",
     "output_type": "stream",
     "text": [
      "INFO:mnemosyne.dataset.interface:Computation complete: 3/3 successful\n",
      "INFO:mnemosyne.dataset.interface:Computing 3 partitions in 1 batches (60 days/batch) with 1 workers\n"
     ]
    },
    {
     "name": "stdout",
     "output_type": "stream",
     "text": [
      "BinanceSpotTrades 0:10:00 USDT: /data/mnemosyne/binance/grids/spot/last_trade/PT10M/peg_symbol=USDT\n"
     ]
    },
    {
     "data": {
      "application/vnd.jupyter.widget-view+json": {
       "model_id": "78da6b942cfc489c9f2408e8a0059749",
       "version_major": 2,
       "version_minor": 0
      },
      "text/plain": [
       "  0%|          | 0/1 [00:00<?, ?it/s]"
      ]
     },
     "metadata": {},
     "output_type": "display_data"
    },
    {
     "name": "stderr",
     "output_type": "stream",
     "text": [
      "INFO:mnemosyne.dataset.interface:Computation complete: 3/3 successful\n",
      "INFO:mnemosyne.dataset.interface:Computing 3 partitions in 1 batches (60 days/batch) with 1 workers\n"
     ]
    },
    {
     "name": "stdout",
     "output_type": "stream",
     "text": [
      "BinanceUmPerpTrades 0:10:00 USDT: /data/mnemosyne/binance/grids/futures/um/last_trade/PT10M/peg_symbol=USDT\n"
     ]
    },
    {
     "data": {
      "application/vnd.jupyter.widget-view+json": {
       "model_id": "9b2f5459caec4f92a9d84c39cc71ef4c",
       "version_major": 2,
       "version_minor": 0
      },
      "text/plain": [
       "  0%|          | 0/1 [00:00<?, ?it/s]"
      ]
     },
     "metadata": {},
     "output_type": "display_data"
    },
    {
     "name": "stderr",
     "output_type": "stream",
     "text": [
      "INFO:mnemosyne.dataset.interface:Computation complete: 3/3 successful\n"
     ]
    }
   ],
   "source": [
    "for dataset_type, grid_interval, peg_symbol in args:\n",
    "    # Reads the underlying lossless dataset's `symbol_date_df` to determine symbol-date pairs\n",
    "    dataset = ms.binance.BinanceLastTradesGrid(\n",
    "        peg_symbol=peg_symbol, \n",
    "        grid_interval=grid_interval, \n",
    "        dataset_type=dataset_type, \n",
    "        parquet_names='*.parquet',\n",
    "        num_workers=1, \n",
    "    )\n",
    "    print(f'{dataset_type} {grid_interval} {peg_symbol}: {dataset.path}')\n",
    "    dataset.compute(recompute=False, days_per_batch=60)"
   ]
  },
  {
   "cell_type": "markdown",
   "id": "53cc4ef1",
   "metadata": {},
   "source": [
    "# Usage example"
   ]
  },
  {
   "cell_type": "code",
   "execution_count": 6,
   "id": "36be39d2",
   "metadata": {},
   "outputs": [],
   "source": [
    "peg_symbol = 'USDT'\n",
    "dstype = ms.DatasetType.BinanceUmPerpTrades\n",
    "\n",
    "dataset_10m = ms.binance.BinanceLastTradesGrid(\n",
    "        peg_symbol=peg_symbol, \n",
    "        grid_interval=Timedelta(minutes=10), \n",
    "        dataset_type=dstype, \n",
    "        parquet_names='*.parquet', \n",
    "        num_workers=4, \n",
    "    )\n",
    "\n",
    "dataset_5s = ms.binance.BinanceLastTradesGrid(\n",
    "        peg_symbol=peg_symbol, \n",
    "        grid_interval=Timedelta(minutes=10), \n",
    "        dataset_type=dstype, \n",
    "        parquet_names='*.parquet', \n",
    "        num_workers=4, \n",
    "    )"
   ]
  },
  {
   "cell_type": "code",
   "execution_count": 9,
   "id": "75b9905f",
   "metadata": {},
   "outputs": [
    {
     "data": {
      "text/html": [
       "<div><style>\n",
       ".dataframe > thead > tr,\n",
       ".dataframe > tbody > tr {\n",
       "  text-align: right;\n",
       "  white-space: pre-wrap;\n",
       "}\n",
       "</style>\n",
       "<small>shape: (349_372, 2)</small><table border=\"1\" class=\"dataframe\"><thead><tr><th>symbol</th><th>date</th></tr><tr><td>bool</td><td>bool</td></tr></thead><tbody><tr><td>true</td><td>true</td></tr><tr><td>true</td><td>true</td></tr><tr><td>true</td><td>true</td></tr><tr><td>true</td><td>true</td></tr><tr><td>true</td><td>true</td></tr><tr><td>&hellip;</td><td>&hellip;</td></tr><tr><td>true</td><td>true</td></tr><tr><td>true</td><td>true</td></tr><tr><td>true</td><td>true</td></tr><tr><td>true</td><td>true</td></tr><tr><td>true</td><td>true</td></tr></tbody></table></div>"
      ],
      "text/plain": [
       "shape: (349_372, 2)\n",
       "┌────────┬──────┐\n",
       "│ symbol ┆ date │\n",
       "│ ---    ┆ ---  │\n",
       "│ bool   ┆ bool │\n",
       "╞════════╪══════╡\n",
       "│ true   ┆ true │\n",
       "│ true   ┆ true │\n",
       "│ true   ┆ true │\n",
       "│ true   ┆ true │\n",
       "│ true   ┆ true │\n",
       "│ …      ┆ …    │\n",
       "│ true   ┆ true │\n",
       "│ true   ┆ true │\n",
       "│ true   ┆ true │\n",
       "│ true   ┆ true │\n",
       "│ true   ┆ true │\n",
       "└────────┴──────┘"
      ]
     },
     "execution_count": 9,
     "metadata": {},
     "output_type": "execute_result"
    }
   ],
   "source": [
    "dataset_10m.universe() == dataset_5s.universe()"
   ]
  },
  {
   "cell_type": "code",
   "execution_count": null,
   "id": "780709d4",
   "metadata": {},
   "outputs": [],
   "source": []
  }
 ],
 "metadata": {
  "kernelspec": {
   "display_name": ".venv",
   "language": "python",
   "name": "python3"
  },
  "language_info": {
   "codemirror_mode": {
    "name": "ipython",
    "version": 3
   },
   "file_extension": ".py",
   "mimetype": "text/x-python",
   "name": "python",
   "nbconvert_exporter": "python",
   "pygments_lexer": "ipython3",
   "version": "3.12.3"
  },
  "widgets": {
   "application/vnd.jupyter.widget-state+json": {
    "state": {},
    "version_major": 2,
    "version_minor": 0
   }
  }
 },
 "nbformat": 4,
 "nbformat_minor": 5
}
