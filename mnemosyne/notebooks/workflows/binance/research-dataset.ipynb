{
 "cells": [
  {
   "cell_type": "code",
   "execution_count": 1,
   "id": "79e21ecd",
   "metadata": {},
   "outputs": [],
   "source": [
    "import mnemosyne as ms\n",
    "from datetime import datetime as Datetime, date as Date\n",
    "from timedelta_isoformat import timedelta as Timedelta # Import this particular timedelta! Supports proper to-string\n",
    "import polars as pl\n",
    "from datetime import date as Date"
   ]
  },
  {
   "cell_type": "code",
   "execution_count": null,
   "id": "f3488129",
   "metadata": {},
   "outputs": [
    {
     "name": "stderr",
     "output_type": "stream",
     "text": [
      "INFO:mnemosyne.dataset.interface:Computing 1395 partitions in 24 batches (60 days/batch) with 1 workers\n"
     ]
    },
    {
     "data": {
      "application/vnd.jupyter.widget-view+json": {
       "model_id": "eead4ba77ffb414a98d709cdf89c4dfb",
       "version_major": 2,
       "version_minor": 0
      },
      "text/plain": [
       "  0%|          | 0/24 [00:00<?, ?it/s]"
      ]
     },
     "metadata": {},
     "output_type": "display_data"
    },
    {
     "name": "stderr",
     "output_type": "stream",
     "text": [
      "/data/midas/mnemosyne/python/mnemosyne/dataset/interface.py:489: UserWarning: Sortedness of columns cannot be checked when 'by' groups provided\n",
      "  lf.sink_parquet(\n"
     ]
    }
   ],
   "source": [
    "spot_dataset = ms.binance.BinanceResearchDataset(\n",
    "    peg_symbol='USDT', dataset_type=ms.DatasetType.BinanceSpotTrades, \n",
    "    backend_grid_interval=Timedelta(seconds=5), \n",
    "    index_grid_interval=Timedelta(minutes=10), \n",
    "    num_workers=1,\n",
    ")\n",
    "spot_dataset.metadata_engine.compute(days_per_batch=60)\n",
    "spot_dataset.compute(recompute=True, days_per_batch=60)"
   ]
  },
  {
   "cell_type": "code",
   "execution_count": null,
   "id": "92c5d48d",
   "metadata": {},
   "outputs": [
    {
     "name": "stderr",
     "output_type": "stream",
     "text": [
      "WARNING:mnemosyne.dataset.interface:No validation cache-file exists at /data/mnemosyne/cache/USDT_BinanceUmPerpTrades_index=PT10M_backend=PT5S/metadata_backend/validated_partitions.json\n",
      "Check whether /data/mnemosyne/cache/USDT_BinanceUmPerpTrades_index=PT10M_backend=PT5S/metadata_backend exists.\n",
      "WARNING:mnemosyne.dataset.interface:No validation cache-file exists at /data/mnemosyne/cache/USDT_BinanceUmPerpTrades_index=PT10M_backend=PT5S/validated_partitions.json\n",
      "Check whether /data/mnemosyne/cache/USDT_BinanceUmPerpTrades_index=PT10M_backend=PT5S exists.\n",
      "INFO:mnemosyne.dataset.interface:Computing 1395 partitions in 24 batches (60 days/batch) with 1 workers\n"
     ]
    },
    {
     "data": {
      "application/vnd.jupyter.widget-view+json": {
       "model_id": "25c2ed66cd8646f6874ec4a3ecb3be58",
       "version_major": 2,
       "version_minor": 0
      },
      "text/plain": [
       "  0%|          | 0/24 [00:00<?, ?it/s]"
      ]
     },
     "metadata": {},
     "output_type": "display_data"
    },
    {
     "name": "stderr",
     "output_type": "stream",
     "text": [
      "WARNING:mnemosyne.dataset.interface:No validation cache-file exists at /data/mnemosyne/cache/USDT_BinanceUmPerpTrades_index=PT10M_backend=PT5S/metadata_backend/validated_partitions.json\n",
      "Check whether /data/mnemosyne/cache/USDT_BinanceUmPerpTrades_index=PT10M_backend=PT5S/metadata_backend exists.\n",
      "/data/midas/mnemosyne/python/mnemosyne/dataset/interface.py:489: UserWarning: Sortedness of columns cannot be checked when 'by' groups provided\n",
      "  lf.sink_parquet(\n",
      "WARNING:mnemosyne.dataset.interface:No validation cache-file exists at /data/mnemosyne/cache/USDT_BinanceUmPerpTrades_index=PT10M_backend=PT5S/metadata_backend/validated_partitions.json\n",
      "Check whether /data/mnemosyne/cache/USDT_BinanceUmPerpTrades_index=PT10M_backend=PT5S/metadata_backend exists.\n",
      "WARNING:mnemosyne.dataset.interface:No validation cache-file exists at /data/mnemosyne/cache/USDT_BinanceUmPerpTrades_index=PT10M_backend=PT5S/metadata_backend/validated_partitions.json\n",
      "Check whether /data/mnemosyne/cache/USDT_BinanceUmPerpTrades_index=PT10M_backend=PT5S/metadata_backend exists.\n"
     ]
    }
   ],
   "source": [
    "futures_dataset = ms.binance.BinanceResearchDataset(\n",
    "    peg_symbol='USDT', dataset_type=ms.DatasetType.BinanceUmPerpTrades, \n",
    "    backend_grid_interval=Timedelta(seconds=5), \n",
    "    index_grid_interval=Timedelta(minutes=10), \n",
    "    num_workers=1\n",
    ")\n",
    "futures_dataset.metadata_engine.compute(days_per_batch=60)\n",
    "futures_dataset.compute(recompute=True, days_per_batch=60)"
   ]
  },
  {
   "cell_type": "code",
   "execution_count": null,
   "id": "c70dec0b",
   "metadata": {},
   "outputs": [],
   "source": []
  },
  {
   "cell_type": "code",
   "execution_count": null,
   "id": "7b5041af",
   "metadata": {},
   "outputs": [],
   "source": []
  }
 ],
 "metadata": {
  "kernelspec": {
   "display_name": ".venv",
   "language": "python",
   "name": "python3"
  },
  "language_info": {
   "codemirror_mode": {
    "name": "ipython",
    "version": 3
   },
   "file_extension": ".py",
   "mimetype": "text/x-python",
   "name": "python",
   "nbconvert_exporter": "python",
   "pygments_lexer": "ipython3",
   "version": "3.12.3"
  }
 },
 "nbformat": 4,
 "nbformat_minor": 5
}
