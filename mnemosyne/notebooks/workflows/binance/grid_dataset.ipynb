{
 "cells": [
  {
   "cell_type": "markdown",
   "id": "b557875c",
   "metadata": {},
   "source": [
    "# Lossless -> gridded \n",
    "\n",
    "Grids `last_trade` data: \n",
    "\n",
    "- Each `BinanceLastTradesGrid` reads the underlying lossless dataset `symbol_date_df` to determine symbol-date pairs. \n",
    "- Each dataset maintains a list of \"validated\" dates. Second runs will be very quick"
   ]
  },
  {
   "cell_type": "code",
   "execution_count": 2,
   "id": "00e9e27b",
   "metadata": {},
   "outputs": [],
   "source": [
    "import mnemosyne as ms \n",
    "import polars as pl\n",
    "\n",
    "args = [\n",
    "    # (ms.DatasetType.BinanceSpotTrades, '20s', 'USDC'),\n",
    "    # (ms.DatasetType.BinanceSpotTrades, '2m', 'USDC'),\n",
    "    # (ms.DatasetType.BinanceSpotTrades, '10m', 'USDC'),\n",
    "\n",
    "    (ms.DatasetType.BinanceUmPerpTrades, '2m', 'USDC'),\n",
    "    (ms.DatasetType.BinanceUmPerpTrades, '10m', 'USDC'),\n",
    "\n",
    "    # (ms.DatasetType.BinanceSpotTrades, '20s', 'USDT'), \n",
    "    # (ms.DatasetType.BinanceSpotTrades, '2m', 'USDT'),\n",
    "    # (ms.DatasetType.BinanceSpotTrades, '4s', 'USDT'),\n",
    "    # (ms.DatasetType.BinanceSpotTrades, '10m', 'USDT'),\n",
    "\n",
    "    (ms.DatasetType.BinanceUmPerpTrades, '2m', 'USDT'),\n",
    "    (ms.DatasetType.BinanceUmPerpTrades, '10m', 'USDT'),\n",
    "    (ms.DatasetType.BinanceUmPerpTrades, '4s', 'USDT'),\n",
    "]"
   ]
  },
  {
   "cell_type": "code",
   "execution_count": null,
   "id": "47e95f33",
   "metadata": {},
   "outputs": [
    {
     "name": "stderr",
     "output_type": "stream",
     "text": [
      "WARNING:mnemosyne.dataset.interface:No validation cache-file exists at /data/mnemosyne/binance/grids/futures/um/last_trade/2m/peg_symbol=USDC/validated_partitions.json\n",
      "Check whether /data/mnemosyne/binance/grids/futures/um/last_trade/2m/peg_symbol=USDC exists.\n",
      "INFO:mnemosyne.dataset.interface:Computing 658 partitions in 22 batches (30 days/batch) with 2 workers\n"
     ]
    },
    {
     "name": "stdout",
     "output_type": "stream",
     "text": [
      "BinanceUmPerpTrades 2m USDC: /data/mnemosyne/binance/grids/futures/um/last_trade/2m/peg_symbol=USDC\n"
     ]
    },
    {
     "data": {
      "application/vnd.jupyter.widget-view+json": {
       "model_id": "5d68be3a165f416d9618ff92742a6257",
       "version_major": 2,
       "version_minor": 0
      },
      "text/plain": [
       "  0%|          | 0/22 [00:00<?, ?it/s]"
      ]
     },
     "metadata": {},
     "output_type": "display_data"
    },
    {
     "name": "stderr",
     "output_type": "stream",
     "text": [
      "WARNING:mnemosyne.dataset.interface:No validation cache-file exists at /data/mnemosyne/binance/grids/futures/um/last_trade/2m/peg_symbol=USDC/validated_partitions.json\n",
      "Check whether /data/mnemosyne/binance/grids/futures/um/last_trade/2m/peg_symbol=USDC exists.\n",
      "WARNING:mnemosyne.dataset.interface:No validation cache-file exists at /data/mnemosyne/binance/grids/futures/um/last_trade/2m/peg_symbol=USDC/validated_partitions.json\n",
      "Check whether /data/mnemosyne/binance/grids/futures/um/last_trade/2m/peg_symbol=USDC exists.\n",
      "WARNING:mnemosyne.dataset.interface:No validation cache-file exists at /data/mnemosyne/binance/grids/futures/um/last_trade/2m/peg_symbol=USDC/validated_partitions.json\n",
      "Check whether /data/mnemosyne/binance/grids/futures/um/last_trade/2m/peg_symbol=USDC exists.\n",
      "WARNING:mnemosyne.dataset.interface:No validation cache-file exists at /data/mnemosyne/binance/grids/futures/um/last_trade/2m/peg_symbol=USDC/validated_partitions.json\n",
      "Check whether /data/mnemosyne/binance/grids/futures/um/last_trade/2m/peg_symbol=USDC exists.\n",
      "WARNING:mnemosyne.dataset.interface:No validation cache-file exists at /data/mnemosyne/binance/grids/futures/um/last_trade/2m/peg_symbol=USDC/validated_partitions.json\n",
      "Check whether /data/mnemosyne/binance/grids/futures/um/last_trade/2m/peg_symbol=USDC exists.\n",
      "WARNING:mnemosyne.dataset.interface:No validation cache-file exists at /data/mnemosyne/binance/grids/futures/um/last_trade/2m/peg_symbol=USDC/validated_partitions.json\n",
      "Check whether /data/mnemosyne/binance/grids/futures/um/last_trade/2m/peg_symbol=USDC exists.\n",
      "WARNING:mnemosyne.dataset.interface:No validation cache-file exists at /data/mnemosyne/binance/grids/futures/um/last_trade/2m/peg_symbol=USDC/validated_partitions.json\n",
      "Check whether /data/mnemosyne/binance/grids/futures/um/last_trade/2m/peg_symbol=USDC exists.\n",
      "WARNING:mnemosyne.dataset.interface:No validation cache-file exists at /data/mnemosyne/binance/grids/futures/um/last_trade/2m/peg_symbol=USDC/validated_partitions.json\n",
      "Check whether /data/mnemosyne/binance/grids/futures/um/last_trade/2m/peg_symbol=USDC exists.\n",
      "WARNING:mnemosyne.dataset.interface:No validation cache-file exists at /data/mnemosyne/binance/grids/futures/um/last_trade/2m/peg_symbol=USDC/validated_partitions.json\n",
      "Check whether /data/mnemosyne/binance/grids/futures/um/last_trade/2m/peg_symbol=USDC exists.\n",
      "WARNING:mnemosyne.dataset.interface:No validation cache-file exists at /data/mnemosyne/binance/grids/futures/um/last_trade/2m/peg_symbol=USDC/validated_partitions.json\n",
      "Check whether /data/mnemosyne/binance/grids/futures/um/last_trade/2m/peg_symbol=USDC exists.\n",
      "WARNING:mnemosyne.dataset.interface:No validation cache-file exists at /data/mnemosyne/binance/grids/futures/um/last_trade/2m/peg_symbol=USDC/validated_partitions.json\n",
      "Check whether /data/mnemosyne/binance/grids/futures/um/last_trade/2m/peg_symbol=USDC exists.\n",
      "WARNING:mnemosyne.dataset.interface:No validation cache-file exists at /data/mnemosyne/binance/grids/futures/um/last_trade/2m/peg_symbol=USDC/validated_partitions.json\n",
      "Check whether /data/mnemosyne/binance/grids/futures/um/last_trade/2m/peg_symbol=USDC exists.\n",
      "WARNING:mnemosyne.dataset.interface:No validation cache-file exists at /data/mnemosyne/binance/grids/futures/um/last_trade/2m/peg_symbol=USDC/validated_partitions.json\n",
      "Check whether /data/mnemosyne/binance/grids/futures/um/last_trade/2m/peg_symbol=USDC exists.\n",
      "WARNING:mnemosyne.dataset.interface:No validation cache-file exists at /data/mnemosyne/binance/grids/futures/um/last_trade/2m/peg_symbol=USDC/validated_partitions.json\n",
      "Check whether /data/mnemosyne/binance/grids/futures/um/last_trade/2m/peg_symbol=USDC exists.\n",
      "WARNING:mnemosyne.dataset.interface:No validation cache-file exists at /data/mnemosyne/binance/grids/futures/um/last_trade/2m/peg_symbol=USDC/validated_partitions.json\n",
      "Check whether /data/mnemosyne/binance/grids/futures/um/last_trade/2m/peg_symbol=USDC exists.\n",
      "WARNING:mnemosyne.dataset.interface:No validation cache-file exists at /data/mnemosyne/binance/grids/futures/um/last_trade/2m/peg_symbol=USDC/validated_partitions.json\n",
      "Check whether /data/mnemosyne/binance/grids/futures/um/last_trade/2m/peg_symbol=USDC exists.\n",
      "WARNING:mnemosyne.dataset.interface:No validation cache-file exists at /data/mnemosyne/binance/grids/futures/um/last_trade/2m/peg_symbol=USDC/validated_partitions.json\n",
      "Check whether /data/mnemosyne/binance/grids/futures/um/last_trade/2m/peg_symbol=USDC exists.\n",
      "WARNING:mnemosyne.dataset.interface:No validation cache-file exists at /data/mnemosyne/binance/grids/futures/um/last_trade/2m/peg_symbol=USDC/validated_partitions.json\n",
      "Check whether /data/mnemosyne/binance/grids/futures/um/last_trade/2m/peg_symbol=USDC exists.\n",
      "WARNING:mnemosyne.dataset.interface:No validation cache-file exists at /data/mnemosyne/binance/grids/futures/um/last_trade/2m/peg_symbol=USDC/validated_partitions.json\n",
      "Check whether /data/mnemosyne/binance/grids/futures/um/last_trade/2m/peg_symbol=USDC exists.\n",
      "WARNING:mnemosyne.dataset.interface:No validation cache-file exists at /data/mnemosyne/binance/grids/futures/um/last_trade/2m/peg_symbol=USDC/validated_partitions.json\n",
      "Check whether /data/mnemosyne/binance/grids/futures/um/last_trade/2m/peg_symbol=USDC exists.\n",
      "WARNING:mnemosyne.dataset.interface:No validation cache-file exists at /data/mnemosyne/binance/grids/futures/um/last_trade/2m/peg_symbol=USDC/validated_partitions.json\n",
      "Check whether /data/mnemosyne/binance/grids/futures/um/last_trade/2m/peg_symbol=USDC exists.\n",
      "WARNING:mnemosyne.dataset.interface:No validation cache-file exists at /data/mnemosyne/binance/grids/futures/um/last_trade/2m/peg_symbol=USDC/validated_partitions.json\n",
      "Check whether /data/mnemosyne/binance/grids/futures/um/last_trade/2m/peg_symbol=USDC exists.\n",
      "INFO:mnemosyne.dataset.interface:Computation complete: 658/658 successful\n",
      "INFO:mnemosyne.dataset.interface:Computing 658 partitions in 22 batches (30 days/batch) with 2 workers\n"
     ]
    },
    {
     "name": "stdout",
     "output_type": "stream",
     "text": [
      "BinanceUmPerpTrades 10m USDC: /data/mnemosyne/binance/grids/futures/um/last_trade/10m/peg_symbol=USDC\n"
     ]
    },
    {
     "data": {
      "application/vnd.jupyter.widget-view+json": {
       "model_id": "2df2f4de0b9f445a87bd9b741e2611e7",
       "version_major": 2,
       "version_minor": 0
      },
      "text/plain": [
       "  0%|          | 0/22 [00:00<?, ?it/s]"
      ]
     },
     "metadata": {},
     "output_type": "display_data"
    }
   ],
   "source": [
    "for dataset_type, grid_interval, peg_symbol in args:\n",
    "    # Reads the underlying lossless dataset's `symbol_date_df` to determine symbol-date pairs\n",
    "    dataset = ms.binance.BinanceLastTradesGrid(\n",
    "        peg_symbol=peg_symbol, \n",
    "        grid_interval=grid_interval, \n",
    "        dataset_type=dataset_type, \n",
    "        parquet_names='*.parquet', # Write to a single parquet: polars defaults to \"0.parquet, 1.parquet ...\"\n",
    "        num_workers=2, \n",
    "    )\n",
    "    print(f'{dataset_type} {grid_interval} {peg_symbol}: {dataset.path}')\n",
    "    dataset.compute(recompute=True, days_per_batch=30)"
   ]
  },
  {
   "cell_type": "markdown",
   "id": "53cc4ef1",
   "metadata": {},
   "source": [
    "# Usage example"
   ]
  },
  {
   "cell_type": "code",
   "execution_count": 4,
   "id": "36be39d2",
   "metadata": {},
   "outputs": [
    {
     "name": "stderr",
     "output_type": "stream",
     "text": [
      "WARNING:mnemosyne.dataset.interface:No validation cache-file exists at /data/mnemosyne/binance/grids/futures/um/last_trade/2m/peg_symbol=USDT/validated_partitions.json\n",
      "Check whether /data/mnemosyne/binance/grids/futures/um/last_trade/2m/peg_symbol=USDT exists.\n"
     ]
    },
    {
     "data": {
      "text/html": [
       "<div><style>\n",
       ".dataframe > thead > tr,\n",
       ".dataframe > tbody > tr {\n",
       "  text-align: right;\n",
       "  white-space: pre-wrap;\n",
       "}\n",
       "</style>\n",
       "<small>shape: (222_568, 2)</small><table border=\"1\" class=\"dataframe\"><thead><tr><th>symbol</th><th>date</th></tr><tr><td>str</td><td>date</td></tr></thead><tbody><tr><td>&quot;AGLD&quot;</td><td>2024-03-17</td></tr><tr><td>&quot;APE&quot;</td><td>2024-03-17</td></tr><tr><td>&quot;REN&quot;</td><td>2024-03-17</td></tr><tr><td>&quot;JUP&quot;</td><td>2024-03-17</td></tr><tr><td>&quot;AXS&quot;</td><td>2024-03-17</td></tr><tr><td>&hellip;</td><td>&hellip;</td></tr><tr><td>&quot;CETUS&quot;</td><td>2024-11-24</td></tr><tr><td>&quot;ONE&quot;</td><td>2024-11-24</td></tr><tr><td>&quot;NTRN&quot;</td><td>2024-11-24</td></tr><tr><td>&quot;ALPACA&quot;</td><td>2024-11-24</td></tr><tr><td>&quot;HBAR&quot;</td><td>2024-11-24</td></tr></tbody></table></div>"
      ],
      "text/plain": [
       "shape: (222_568, 2)\n",
       "┌────────┬────────────┐\n",
       "│ symbol ┆ date       │\n",
       "│ ---    ┆ ---        │\n",
       "│ str    ┆ date       │\n",
       "╞════════╪════════════╡\n",
       "│ AGLD   ┆ 2024-03-17 │\n",
       "│ APE    ┆ 2024-03-17 │\n",
       "│ REN    ┆ 2024-03-17 │\n",
       "│ JUP    ┆ 2024-03-17 │\n",
       "│ AXS    ┆ 2024-03-17 │\n",
       "│ …      ┆ …          │\n",
       "│ CETUS  ┆ 2024-11-24 │\n",
       "│ ONE    ┆ 2024-11-24 │\n",
       "│ NTRN   ┆ 2024-11-24 │\n",
       "│ ALPACA ┆ 2024-11-24 │\n",
       "│ HBAR   ┆ 2024-11-24 │\n",
       "└────────┴────────────┘"
      ]
     },
     "execution_count": 4,
     "metadata": {},
     "output_type": "execute_result"
    }
   ],
   "source": [
    "from datetime import date as Date \n",
    "\n",
    "peg_symbol = 'USDT'\n",
    "dstype = ms.DatasetType.BinanceUmPerpTrades\n",
    "grid_interval = '2m'\n",
    "\n",
    "dataset = ms.binance.BinanceLastTradesGrid(\n",
    "        peg_symbol=peg_symbol, \n",
    "        grid_interval=grid_interval, \n",
    "        dataset_type=dstype, \n",
    "        parquet_names='*.parquet', \n",
    "        num_workers=4, \n",
    "    )\n",
    "\n",
    "# Reading the full dataset\n",
    "lf = pl.scan_parquet(dataset.path / f'**/{dataset.parquet_names}')\n",
    "dataset.universe_df"
   ]
  },
  {
   "cell_type": "code",
   "execution_count": null,
   "id": "486ebc64",
   "metadata": {},
   "outputs": [],
   "source": [
    "# db = pl.scan_parquet(dataset.src_path / '**/data.parquet', hive_partitioning=True)\n",
    "# db.filter(pl.col('date') >= Date(2025, 1, 1)).select(pl.len()).collect()"
   ]
  },
  {
   "cell_type": "code",
   "execution_count": 1,
   "id": "8fed7677",
   "metadata": {},
   "outputs": [
    {
     "ename": "NameError",
     "evalue": "name 'dataset' is not defined",
     "output_type": "error",
     "traceback": [
      "\u001b[31m---------------------------------------------------------------------------\u001b[39m",
      "\u001b[31mNameError\u001b[39m                                 Traceback (most recent call last)",
      "\u001b[36mCell\u001b[39m\u001b[36m \u001b[39m\u001b[32mIn[1]\u001b[39m\u001b[32m, line 2\u001b[39m\n\u001b[32m      1\u001b[39m \u001b[38;5;66;03m# Getting specific dates\u001b[39;00m\n\u001b[32m----> \u001b[39m\u001b[32m2\u001b[39m \u001b[43mdataset\u001b[49m[[Date(\u001b[32m2024\u001b[39m, \u001b[32m2\u001b[39m, \u001b[32m2\u001b[39m), Date(\u001b[32m2025\u001b[39m, \u001b[32m3\u001b[39m, \u001b[32m4\u001b[39m)]].collect()\n",
      "\u001b[31mNameError\u001b[39m: name 'dataset' is not defined"
     ]
    }
   ],
   "source": [
    "# Getting specific dates\n",
    "dataset[[Date(2024, 2, 2), Date(2025, 3, 4)]].collect()"
   ]
  },
  {
   "cell_type": "code",
   "execution_count": null,
   "id": "75b9905f",
   "metadata": {},
   "outputs": [],
   "source": []
  }
 ],
 "metadata": {
  "kernelspec": {
   "display_name": "midas",
   "language": "python",
   "name": "midas"
  },
  "language_info": {
   "codemirror_mode": {
    "name": "ipython",
    "version": 3
   },
   "file_extension": ".py",
   "mimetype": "text/x-python",
   "name": "python",
   "nbconvert_exporter": "python",
   "pygments_lexer": "ipython3",
   "version": "3.12.3"
  }
 },
 "nbformat": 4,
 "nbformat_minor": 5
}
