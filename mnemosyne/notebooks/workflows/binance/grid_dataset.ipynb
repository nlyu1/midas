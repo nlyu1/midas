{
 "cells": [
  {
   "cell_type": "markdown",
   "id": "b557875c",
   "metadata": {},
   "source": [
    "# Lossless -> gridded \n",
    "\n",
    "Grids `last_trade` data: \n",
    "\n",
    "- Each `BinanceLastTradesGrid` reads the underlying lossless dataset `symbol_date_df` to determine symbol-date pairs. \n",
    "- Each dataset maintains a list of \"validated\" dates. Second runs will be very quick"
   ]
  },
  {
   "cell_type": "code",
   "execution_count": 1,
   "id": "00e9e27b",
   "metadata": {},
   "outputs": [],
   "source": [
    "import mnemosyne as ms \n",
    "import polars as pl\n",
    "\n",
    "args = [\n",
    "    (ms.DatasetType.BinanceSpotTrades, '20s', 'USDC'),\n",
    "    (ms.DatasetType.BinanceSpotTrades, '2m', 'USDC'),\n",
    "    (ms.DatasetType.BinanceSpotTrades, '10m', 'USDC'),\n",
    "\n",
    "    (ms.DatasetType.BinanceUmPerpTrades, '20s', 'USDC'),\n",
    "    (ms.DatasetType.BinanceUmPerpTrades, '2m', 'USDC'),\n",
    "    (ms.DatasetType.BinanceUmPerpTrades, '10m', 'USDC'),\n",
    "\n",
    "    (ms.DatasetType.BinanceSpotTrades, '20s', 'USDT'), \n",
    "    (ms.DatasetType.BinanceSpotTrades, '2m', 'USDT'),\n",
    "    (ms.DatasetType.BinanceSpotTrades, '4s', 'USDT'),\n",
    "    (ms.DatasetType.BinanceSpotTrades, '10m', 'USDT'),\n",
    "\n",
    "    (ms.DatasetType.BinanceUmPerpTrades, '20s', 'USDT'),\n",
    "    (ms.DatasetType.BinanceUmPerpTrades, '2m', 'USDT'),\n",
    "    (ms.DatasetType.BinanceUmPerpTrades, '10m', 'USDT'),\n",
    "    (ms.DatasetType.BinanceUmPerpTrades, '4s', 'USDT'),\n",
    "]"
   ]
  },
  {
   "cell_type": "code",
   "execution_count": 2,
   "id": "47e95f33",
   "metadata": {},
   "outputs": [
    {
     "name": "stderr",
     "output_type": "stream",
     "text": [
      "INFO:mnemosyne.dataset.interface:Computing 60 partitions in 2 batches (30 days/batch) with 4 workers\n"
     ]
    },
    {
     "name": "stdout",
     "output_type": "stream",
     "text": [
      "BinanceSpotTrades 20s USDC: /data/mnemosyne/binance/grids/spot/last_trade/20s/peg_symbol=USDC\n",
      "BinanceSpotTrades 2m USDC: /data/mnemosyne/binance/grids/spot/last_trade/2m/peg_symbol=USDC\n",
      "BinanceSpotTrades 10m USDC: /data/mnemosyne/binance/grids/spot/last_trade/10m/peg_symbol=USDC\n",
      "BinanceUmPerpTrades 20s USDC: /data/mnemosyne/binance/grids/futures/um/last_trade/20s/peg_symbol=USDC\n",
      "BinanceUmPerpTrades 2m USDC: /data/mnemosyne/binance/grids/futures/um/last_trade/2m/peg_symbol=USDC\n",
      "BinanceUmPerpTrades 10m USDC: /data/mnemosyne/binance/grids/futures/um/last_trade/10m/peg_symbol=USDC\n",
      "BinanceSpotTrades 20s USDT: /data/mnemosyne/binance/grids/spot/last_trade/20s/peg_symbol=USDT\n"
     ]
    },
    {
     "data": {
      "application/vnd.jupyter.widget-view+json": {
       "model_id": "f8869428dc504ae98887dbbd6e6b89ba",
       "version_major": 2,
       "version_minor": 0
      },
      "text/plain": [
       "  0%|          | 0/2 [00:00<?, ?it/s]"
      ]
     },
     "metadata": {},
     "output_type": "display_data"
    },
    {
     "name": "stderr",
     "output_type": "stream",
     "text": [
      "INFO:mnemosyne.dataset.interface:Computation complete: 60/60 successful\n"
     ]
    },
    {
     "name": "stdout",
     "output_type": "stream",
     "text": [
      "BinanceSpotTrades 2m USDT: /data/mnemosyne/binance/grids/spot/last_trade/2m/peg_symbol=USDT\n",
      "BinanceSpotTrades 4s USDT: /data/mnemosyne/binance/grids/spot/last_trade/4s/peg_symbol=USDT\n",
      "BinanceSpotTrades 10m USDT: /data/mnemosyne/binance/grids/spot/last_trade/10m/peg_symbol=USDT\n",
      "BinanceUmPerpTrades 20s USDT: /data/mnemosyne/binance/grids/futures/um/last_trade/20s/peg_symbol=USDT\n",
      "BinanceUmPerpTrades 2m USDT: /data/mnemosyne/binance/grids/futures/um/last_trade/2m/peg_symbol=USDT\n",
      "BinanceUmPerpTrades 10m USDT: /data/mnemosyne/binance/grids/futures/um/last_trade/10m/peg_symbol=USDT\n",
      "BinanceUmPerpTrades 4s USDT: /data/mnemosyne/binance/grids/futures/um/last_trade/4s/peg_symbol=USDT\n"
     ]
    }
   ],
   "source": [
    "for dataset_type, grid_interval, peg_symbol in args:\n",
    "    # Reads the underlying lossless dataset's `symbol_date_df` to determine symbol-date pairs\n",
    "    dataset = ms.binance.BinanceLastTradesGrid(\n",
    "        peg_symbol=peg_symbol, \n",
    "        grid_interval=grid_interval, \n",
    "        dataset_type=dataset_type, \n",
    "        parquet_names='*.parquet', # Write to a single parquet: polars defaults to \"0.parquet, 1.parquet ...\"\n",
    "        num_workers=4, \n",
    "    )\n",
    "    print(f'{dataset_type} {grid_interval} {peg_symbol}: {dataset.path}')\n",
    "    dataset.compute(recompute=False, days_per_batch=30)"
   ]
  },
  {
   "cell_type": "markdown",
   "id": "53cc4ef1",
   "metadata": {},
   "source": [
    "# Usage example"
   ]
  },
  {
   "cell_type": "code",
   "execution_count": 6,
   "id": "36be39d2",
   "metadata": {},
   "outputs": [
    {
     "data": {
      "text/html": [
       "<div><style>\n",
       ".dataframe > thead > tr,\n",
       ".dataframe > tbody > tr {\n",
       "  text-align: right;\n",
       "  white-space: pre-wrap;\n",
       "}\n",
       "</style>\n",
       "<small>shape: (1, 17)</small><table border=\"1\" class=\"dataframe\"><thead><tr><th>symbol</th><th>date</th><th>time</th><th>peg_symbol</th><th>open</th><th>high</th><th>low</th><th>close</th><th>volume_base</th><th>volume_quote</th><th>trade_count</th><th>last_trade_time</th><th>taker_buy_volume_quote</th><th>taker_sell_volume_quote</th><th>vwap_taker_buy</th><th>vwap_taker_sell</th><th>vwap_total_by_base</th></tr><tr><td>enum</td><td>date</td><td>datetime[μs]</td><td>str</td><td>f64</td><td>f64</td><td>f64</td><td>f64</td><td>f64</td><td>f64</td><td>u32</td><td>datetime[μs]</td><td>f64</td><td>f64</td><td>f64</td><td>f64</td><td>f64</td></tr></thead><tbody><tr><td>&quot;BTC&quot;</td><td>2024-01-04</td><td>2024-01-04 12:30:00</td><td>&quot;USDC&quot;</td><td>43272.9</td><td>43456.0</td><td>42980.1</td><td>43411.5</td><td>0.047</td><td>2036.8845</td><td>16</td><td>2024-01-04 12:39:28.393</td><td>1649.1237</td><td>387.7608</td><td>43398.04692</td><td>43084.698663</td><td>43337.968085</td></tr></tbody></table></div>"
      ],
      "text/plain": [
       "shape: (1, 17)\n",
       "┌────────┬────────────┬────────────┬───────────┬───┬───────────┬───────────┬───────────┬───────────┐\n",
       "│ symbol ┆ date       ┆ time       ┆ peg_symbo ┆ … ┆ taker_sel ┆ vwap_take ┆ vwap_take ┆ vwap_tota │\n",
       "│ ---    ┆ ---        ┆ ---        ┆ l         ┆   ┆ l_volume_ ┆ r_buy     ┆ r_sell    ┆ l_by_base │\n",
       "│ enum   ┆ date       ┆ datetime[μ ┆ ---       ┆   ┆ quote     ┆ ---       ┆ ---       ┆ ---       │\n",
       "│        ┆            ┆ s]         ┆ str       ┆   ┆ ---       ┆ f64       ┆ f64       ┆ f64       │\n",
       "│        ┆            ┆            ┆           ┆   ┆ f64       ┆           ┆           ┆           │\n",
       "╞════════╪════════════╪════════════╪═══════════╪═══╪═══════════╪═══════════╪═══════════╪═══════════╡\n",
       "│ BTC    ┆ 2024-01-04 ┆ 2024-01-04 ┆ USDC      ┆ … ┆ 387.7608  ┆ 43398.046 ┆ 43084.698 ┆ 43337.968 │\n",
       "│        ┆            ┆ 12:30:00   ┆           ┆   ┆           ┆ 92        ┆ 663       ┆ 085       │\n",
       "└────────┴────────────┴────────────┴───────────┴───┴───────────┴───────────┴───────────┴───────────┘"
      ]
     },
     "execution_count": 6,
     "metadata": {},
     "output_type": "execute_result"
    }
   ],
   "source": [
    "from datetime import date as Date \n",
    "\n",
    "peg_symbol = 'USDC'\n",
    "dstype = ms.DatasetType.BinanceSpotTrades\n",
    "grid_interval = '10m'\n",
    "\n",
    "dataset = ms.binance.BinanceLastTradesGrid(\n",
    "        peg_symbol=peg_symbol, \n",
    "        grid_interval=grid_interval, \n",
    "        dataset_type=dataset_type, \n",
    "        parquet_names='*.parquet', \n",
    "        num_workers=4, \n",
    "    )\n",
    "\n",
    "# Reading the full dataset\n",
    "lf = pl.scan_parquet(dataset.path / f'**/{dataset.parquet_names}')\n",
    "lf.head(1).collect()"
   ]
  },
  {
   "cell_type": "code",
   "execution_count": null,
   "id": "9fc54b76",
   "metadata": {},
   "outputs": [
    {
     "data": {
      "text/html": [
       "<div><style>\n",
       ".dataframe > thead > tr,\n",
       ".dataframe > tbody > tr {\n",
       "  text-align: right;\n",
       "  white-space: pre-wrap;\n",
       "}\n",
       "</style>\n",
       "<small>shape: (17_006, 2)</small><table border=\"1\" class=\"dataframe\"><thead><tr><th>symbol</th><th>date</th></tr><tr><td>str</td><td>date</td></tr></thead><tbody><tr><td>&quot;BTC&quot;</td><td>2025-10-05</td></tr><tr><td>&quot;ENA&quot;</td><td>2024-08-05</td></tr><tr><td>&quot;LINK&quot;</td><td>2024-12-08</td></tr><tr><td>&quot;BTC&quot;</td><td>2025-09-14</td></tr><tr><td>&quot;SOL&quot;</td><td>2025-04-25</td></tr><tr><td>&hellip;</td><td>&hellip;</td></tr><tr><td>&quot;CRV&quot;</td><td>2025-10-17</td></tr><tr><td>&quot;TRUMP&quot;</td><td>2025-10-17</td></tr><tr><td>&quot;BOME&quot;</td><td>2025-10-17</td></tr><tr><td>&quot;UNI&quot;</td><td>2025-10-17</td></tr><tr><td>&quot;NEO&quot;</td><td>2025-10-17</td></tr></tbody></table></div>"
      ],
      "text/plain": [
       "shape: (17_006, 2)\n",
       "┌────────┬────────────┐\n",
       "│ symbol ┆ date       │\n",
       "│ ---    ┆ ---        │\n",
       "│ str    ┆ date       │\n",
       "╞════════╪════════════╡\n",
       "│ BTC    ┆ 2025-10-05 │\n",
       "│ ENA    ┆ 2024-08-05 │\n",
       "│ LINK   ┆ 2024-12-08 │\n",
       "│ BTC    ┆ 2025-09-14 │\n",
       "│ SOL    ┆ 2025-04-25 │\n",
       "│ …      ┆ …          │\n",
       "│ CRV    ┆ 2025-10-17 │\n",
       "│ TRUMP  ┆ 2025-10-17 │\n",
       "│ BOME   ┆ 2025-10-17 │\n",
       "│ UNI    ┆ 2025-10-17 │\n",
       "│ NEO    ┆ 2025-10-17 │\n",
       "└────────┴────────────┘"
      ]
     },
     "execution_count": 25,
     "metadata": {},
     "output_type": "execute_result"
    }
   ],
   "source": [
    "# Get universe: same as symbol-date-pair of the underlying universe\n",
    "dataset.universe_df"
   ]
  },
  {
   "cell_type": "code",
   "execution_count": null,
   "id": "8fed7677",
   "metadata": {},
   "outputs": [
    {
     "data": {
      "text/html": [
       "<div><style>\n",
       ".dataframe > thead > tr,\n",
       ".dataframe > tbody > tr {\n",
       "  text-align: right;\n",
       "  white-space: pre-wrap;\n",
       "}\n",
       "</style>\n",
       "<small>shape: (890, 17)</small><table border=\"1\" class=\"dataframe\"><thead><tr><th>symbol</th><th>date</th><th>time</th><th>peg_symbol</th><th>open</th><th>high</th><th>low</th><th>close</th><th>volume_base</th><th>volume_quote</th><th>trade_count</th><th>last_trade_time</th><th>taker_buy_volume_quote</th><th>taker_sell_volume_quote</th><th>vwap_taker_buy</th><th>vwap_taker_sell</th><th>vwap_total_by_base</th></tr><tr><td>str</td><td>date</td><td>datetime[μs]</td><td>str</td><td>f64</td><td>f64</td><td>f64</td><td>f64</td><td>f64</td><td>f64</td><td>u32</td><td>datetime[μs]</td><td>f64</td><td>f64</td><td>f64</td><td>f64</td><td>f64</td></tr></thead><tbody><tr><td>&quot;BNB&quot;</td><td>2024-02-02</td><td>2024-02-02 00:00:00</td><td>&quot;USDC&quot;</td><td>300.06</td><td>300.06</td><td>299.71</td><td>299.98</td><td>23.39</td><td>7014.4566</td><td>177</td><td>2024-02-02 00:09:17.705</td><td>4036.1001</td><td>2978.3565</td><td>299.858869</td><td>299.935241</td><td>299.891261</td></tr><tr><td>&quot;BTC&quot;</td><td>2024-02-02</td><td>2024-02-02 00:00:00</td><td>&quot;USDC&quot;</td><td>43056.1</td><td>43082.3</td><td>43011.8</td><td>43068.7</td><td>23.108</td><td>994810.0591</td><td>434</td><td>2024-02-02 00:09:58.651</td><td>540385.8848</td><td>454424.1743</td><td>43051.784762</td><td>43048.904351</td><td>43050.461273</td></tr><tr><td>&quot;ETH&quot;</td><td>2024-02-02</td><td>2024-02-02 00:00:00</td><td>&quot;USDC&quot;</td><td>2302.9</td><td>2303.7</td><td>2299.39</td><td>2303.13</td><td>137.195</td><td>315792.4751</td><td>320</td><td>2024-02-02 00:09:50.536</td><td>109773.28767</td><td>206019.18743</td><td>2301.471908</td><td>2301.94249</td><td>2301.778309</td></tr><tr><td>&quot;XRP&quot;</td><td>2024-02-02</td><td>2024-02-02 00:00:00</td><td>&quot;USDC&quot;</td><td>0.5056</td><td>0.5057</td><td>0.5049</td><td>0.5053</td><td>60722.8</td><td>30678.17274</td><td>102</td><td>2024-02-02 00:09:50.628</td><td>12550.15994</td><td>18128.0128</td><td>0.50515</td><td>0.505263</td><td>0.505217</td></tr><tr><td>&quot;SOL&quot;</td><td>2024-02-02</td><td>2024-02-02 00:00:00</td><td>&quot;USDC&quot;</td><td>97.839</td><td>97.856</td><td>97.335</td><td>97.748</td><td>1734.47</td><td>169273.60727</td><td>732</td><td>2024-02-02 00:09:57.690</td><td>59633.10515</td><td>109640.50212</td><td>97.628022</td><td>97.575423</td><td>97.593851</td></tr><tr><td>&hellip;</td><td>&hellip;</td><td>&hellip;</td><td>&hellip;</td><td>&hellip;</td><td>&hellip;</td><td>&hellip;</td><td>&hellip;</td><td>&hellip;</td><td>&hellip;</td><td>&hellip;</td><td>&hellip;</td><td>&hellip;</td><td>&hellip;</td><td>&hellip;</td><td>&hellip;</td><td>&hellip;</td></tr><tr><td>&quot;BNB&quot;</td><td>2025-03-04</td><td>1970-01-21 03:30:00</td><td>&quot;USDC&quot;</td><td>575.4</td><td>588.4</td><td>545.82</td><td>583.69</td><td>61059.37</td><td>3.4661e7</td><td>113237</td><td>1970-01-21 03:38:52.794063</td><td>1.7052e7</td><td>1.7609e7</td><td>567.758032</td><td>567.851393</td><td>567.657145</td></tr><tr><td>&quot;CRV&quot;</td><td>2025-03-04</td><td>1970-01-21 03:30:00</td><td>&quot;USDC&quot;</td><td>0.413</td><td>0.4257</td><td>0.3674</td><td>0.4179</td><td>1.2394e7</td><td>4.9436e6</td><td>50638</td><td>1970-01-21 03:38:52.793583</td><td>2.3239e6</td><td>2.6197e6</td><td>0.39991</td><td>0.398696</td><td>0.398874</td></tr><tr><td>&quot;1000BONK&quot;</td><td>2025-03-04</td><td>1970-01-21 03:30:00</td><td>&quot;USDC&quot;</td><td>0.012438</td><td>0.012569</td><td>0.010901</td><td>0.011949</td><td>7.12926061e8</td><td>8.4018e6</td><td>107470</td><td>1970-01-21 03:38:52.799115</td><td>4.1345e6</td><td>4.2673e6</td><td>0.011795</td><td>0.011787</td><td>0.011785</td></tr><tr><td>&quot;NEO&quot;</td><td>2025-03-04</td><td>1970-01-21 03:30:00</td><td>&quot;USDC&quot;</td><td>8.711</td><td>8.844</td><td>8.114</td><td>8.736</td><td>320539.63</td><td>2.7209e6</td><td>39786</td><td>1970-01-21 03:38:52.794871</td><td>1.3551e6</td><td>1.3658e6</td><td>8.493885</td><td>8.487714</td><td>8.488408</td></tr><tr><td>&quot;SOL&quot;</td><td>2025-03-04</td><td>1970-01-21 03:30:00</td><td>&quot;USDC&quot;</td><td>141.97</td><td>146.75</td><td>130.44</td><td>144.66</td><td>2.3342e6</td><td>3.2227e8</td><td>462536</td><td>1970-01-21 03:38:52.795275</td><td>1.6094e8</td><td>1.6133e8</td><td>138.15484</td><td>138.134785</td><td>138.068668</td></tr></tbody></table></div>"
      ],
      "text/plain": [
       "shape: (890, 17)\n",
       "┌──────────┬───────────┬───────────┬───────────┬───┬───────────┬───────────┬───────────┬───────────┐\n",
       "│ symbol   ┆ date      ┆ time      ┆ peg_symbo ┆ … ┆ taker_sel ┆ vwap_take ┆ vwap_take ┆ vwap_tota │\n",
       "│ ---      ┆ ---       ┆ ---       ┆ l         ┆   ┆ l_volume_ ┆ r_buy     ┆ r_sell    ┆ l_by_base │\n",
       "│ str      ┆ date      ┆ datetime[ ┆ ---       ┆   ┆ quote     ┆ ---       ┆ ---       ┆ ---       │\n",
       "│          ┆           ┆ μs]       ┆ str       ┆   ┆ ---       ┆ f64       ┆ f64       ┆ f64       │\n",
       "│          ┆           ┆           ┆           ┆   ┆ f64       ┆           ┆           ┆           │\n",
       "╞══════════╪═══════════╪═══════════╪═══════════╪═══╪═══════════╪═══════════╪═══════════╪═══════════╡\n",
       "│ BNB      ┆ 2024-02-0 ┆ 2024-02-0 ┆ USDC      ┆ … ┆ 2978.3565 ┆ 299.85886 ┆ 299.93524 ┆ 299.89126 │\n",
       "│          ┆ 2         ┆ 2         ┆           ┆   ┆           ┆ 9         ┆ 1         ┆ 1         │\n",
       "│          ┆           ┆ 00:00:00  ┆           ┆   ┆           ┆           ┆           ┆           │\n",
       "│ BTC      ┆ 2024-02-0 ┆ 2024-02-0 ┆ USDC      ┆ … ┆ 454424.17 ┆ 43051.784 ┆ 43048.904 ┆ 43050.461 │\n",
       "│          ┆ 2         ┆ 2         ┆           ┆   ┆ 43        ┆ 762       ┆ 351       ┆ 273       │\n",
       "│          ┆           ┆ 00:00:00  ┆           ┆   ┆           ┆           ┆           ┆           │\n",
       "│ ETH      ┆ 2024-02-0 ┆ 2024-02-0 ┆ USDC      ┆ … ┆ 206019.18 ┆ 2301.4719 ┆ 2301.9424 ┆ 2301.7783 │\n",
       "│          ┆ 2         ┆ 2         ┆           ┆   ┆ 743       ┆ 08        ┆ 9         ┆ 09        │\n",
       "│          ┆           ┆ 00:00:00  ┆           ┆   ┆           ┆           ┆           ┆           │\n",
       "│ XRP      ┆ 2024-02-0 ┆ 2024-02-0 ┆ USDC      ┆ … ┆ 18128.012 ┆ 0.50515   ┆ 0.505263  ┆ 0.505217  │\n",
       "│          ┆ 2         ┆ 2         ┆           ┆   ┆ 8         ┆           ┆           ┆           │\n",
       "│          ┆           ┆ 00:00:00  ┆           ┆   ┆           ┆           ┆           ┆           │\n",
       "│ SOL      ┆ 2024-02-0 ┆ 2024-02-0 ┆ USDC      ┆ … ┆ 109640.50 ┆ 97.628022 ┆ 97.575423 ┆ 97.593851 │\n",
       "│          ┆ 2         ┆ 2         ┆           ┆   ┆ 212       ┆           ┆           ┆           │\n",
       "│          ┆           ┆ 00:00:00  ┆           ┆   ┆           ┆           ┆           ┆           │\n",
       "│ …        ┆ …         ┆ …         ┆ …         ┆ … ┆ …         ┆ …         ┆ …         ┆ …         │\n",
       "│ BNB      ┆ 2025-03-0 ┆ 1970-01-2 ┆ USDC      ┆ … ┆ 1.7609e7  ┆ 567.75803 ┆ 567.85139 ┆ 567.65714 │\n",
       "│          ┆ 4         ┆ 1         ┆           ┆   ┆           ┆ 2         ┆ 3         ┆ 5         │\n",
       "│          ┆           ┆ 03:30:00  ┆           ┆   ┆           ┆           ┆           ┆           │\n",
       "│ CRV      ┆ 2025-03-0 ┆ 1970-01-2 ┆ USDC      ┆ … ┆ 2.6197e6  ┆ 0.39991   ┆ 0.398696  ┆ 0.398874  │\n",
       "│          ┆ 4         ┆ 1         ┆           ┆   ┆           ┆           ┆           ┆           │\n",
       "│          ┆           ┆ 03:30:00  ┆           ┆   ┆           ┆           ┆           ┆           │\n",
       "│ 1000BONK ┆ 2025-03-0 ┆ 1970-01-2 ┆ USDC      ┆ … ┆ 4.2673e6  ┆ 0.011795  ┆ 0.011787  ┆ 0.011785  │\n",
       "│          ┆ 4         ┆ 1         ┆           ┆   ┆           ┆           ┆           ┆           │\n",
       "│          ┆           ┆ 03:30:00  ┆           ┆   ┆           ┆           ┆           ┆           │\n",
       "│ NEO      ┆ 2025-03-0 ┆ 1970-01-2 ┆ USDC      ┆ … ┆ 1.3658e6  ┆ 8.493885  ┆ 8.487714  ┆ 8.488408  │\n",
       "│          ┆ 4         ┆ 1         ┆           ┆   ┆           ┆           ┆           ┆           │\n",
       "│          ┆           ┆ 03:30:00  ┆           ┆   ┆           ┆           ┆           ┆           │\n",
       "│ SOL      ┆ 2025-03-0 ┆ 1970-01-2 ┆ USDC      ┆ … ┆ 1.6133e8  ┆ 138.15484 ┆ 138.13478 ┆ 138.06866 │\n",
       "│          ┆ 4         ┆ 1         ┆           ┆   ┆           ┆           ┆ 5         ┆ 8         │\n",
       "│          ┆           ┆ 03:30:00  ┆           ┆   ┆           ┆           ┆           ┆           │\n",
       "└──────────┴───────────┴───────────┴───────────┴───┴───────────┴───────────┴───────────┴───────────┘"
      ]
     },
     "execution_count": 27,
     "metadata": {},
     "output_type": "execute_result"
    }
   ],
   "source": [
    "# Getting specific dates\n",
    "dataset[[Date(2024, 2, 2), Date(2025, 3, 4)]].collect()"
   ]
  },
  {
   "cell_type": "code",
   "execution_count": null,
   "id": "75b9905f",
   "metadata": {},
   "outputs": [],
   "source": []
  }
 ],
 "metadata": {
  "kernelspec": {
   "display_name": "midas",
   "language": "python",
   "name": "midas"
  },
  "language_info": {
   "codemirror_mode": {
    "name": "ipython",
    "version": 3
   },
   "file_extension": ".py",
   "mimetype": "text/x-python",
   "name": "python",
   "nbconvert_exporter": "python",
   "pygments_lexer": "ipython3",
   "version": "3.12.3"
  }
 },
 "nbformat": 4,
 "nbformat_minor": 5
}
