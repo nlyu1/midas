{
 "cells": [
  {
   "cell_type": "markdown",
   "id": "b557875c",
   "metadata": {},
   "source": [
    "# Lossless -> gridded \n",
    "\n",
    "Grids `last_trade` data: \n",
    "\n",
    "- Each `BinanceLastTradesGrid` reads the underlying lossless dataset `symbol_date_df` to determine symbol-date pairs. \n",
    "- Each dataset maintains a list of \"validated\" dates. Second runs will be very quick"
   ]
  },
  {
   "cell_type": "code",
   "execution_count": 6,
   "id": "00e9e27b",
   "metadata": {},
   "outputs": [],
   "source": [
    "import mnemosyne as ms \n",
    "import polars as pl\n",
    "from datetime import date as Date\n",
    "from timedelta_isoformat import timedelta as Timedelta\n",
    "\n",
    "args = [\n",
    "    (ms.DatasetType.BinanceSpotTrades, Timedelta(seconds=5), 'USDC'),\n",
    "    (ms.DatasetType.BinanceUmPerpTrades, Timedelta(seconds=5), 'USDC'),\n",
    "    (ms.DatasetType.BinanceSpotTrades, Timedelta(minutes=10), 'USDC'),\n",
    "    (ms.DatasetType.BinanceUmPerpTrades, Timedelta(minutes=10), 'USDC'),\n",
    "    \n",
    "    (ms.DatasetType.BinanceSpotTrades, Timedelta(seconds=5), 'USDT'),\n",
    "    (ms.DatasetType.BinanceUmPerpTrades, Timedelta(seconds=5), 'USDT'),\n",
    "    (ms.DatasetType.BinanceSpotTrades, Timedelta(minutes=10), 'USDT'),\n",
    "    (ms.DatasetType.BinanceUmPerpTrades, Timedelta(minutes=10), 'USDT'),\n",
    "]"
   ]
  },
  {
   "cell_type": "code",
   "execution_count": 8,
   "id": "47e95f33",
   "metadata": {},
   "outputs": [
    {
     "name": "stdout",
     "output_type": "stream",
     "text": [
      "BinanceSpotTrades 0:00:05 USDC: /data/mnemosyne/binance/grids/spot/last_trade/PT5S/peg_symbol=USDC\n",
      "BinanceUmPerpTrades 0:00:05 USDC: /data/mnemosyne/binance/grids/futures/um/last_trade/PT5S/peg_symbol=USDC\n",
      "BinanceSpotTrades 0:10:00 USDC: /data/mnemosyne/binance/grids/spot/last_trade/PT10M/peg_symbol=USDC\n",
      "BinanceUmPerpTrades 0:10:00 USDC: /data/mnemosyne/binance/grids/futures/um/last_trade/PT10M/peg_symbol=USDC\n",
      "BinanceSpotTrades 0:00:05 USDT: /data/mnemosyne/binance/grids/spot/last_trade/PT5S/peg_symbol=USDT\n",
      "BinanceUmPerpTrades 0:00:05 USDT: /data/mnemosyne/binance/grids/futures/um/last_trade/PT5S/peg_symbol=USDT\n",
      "BinanceSpotTrades 0:10:00 USDT: /data/mnemosyne/binance/grids/spot/last_trade/PT10M/peg_symbol=USDT\n",
      "BinanceUmPerpTrades 0:10:00 USDT: /data/mnemosyne/binance/grids/futures/um/last_trade/PT10M/peg_symbol=USDT\n"
     ]
    }
   ],
   "source": [
    "for dataset_type, grid_interval, peg_symbol in args:\n",
    "    # Reads the underlying lossless dataset's `symbol_date_df` to determine symbol-date pairs\n",
    "    dataset = ms.binance.BinanceLastTradesGrid(\n",
    "        peg_symbol=peg_symbol, \n",
    "        grid_interval=grid_interval, \n",
    "        dataset_type=dataset_type, \n",
    "        parquet_names='*.parquet',\n",
    "        num_workers=1, \n",
    "    )\n",
    "    print(f'{dataset_type} {grid_interval} {peg_symbol}: {dataset.path}')\n",
    "    dataset.compute(recompute=False, days_per_batch=60)"
   ]
  },
  {
   "cell_type": "markdown",
   "id": "53cc4ef1",
   "metadata": {},
   "source": [
    "# Usage example"
   ]
  },
  {
   "cell_type": "code",
   "execution_count": null,
   "id": "36be39d2",
   "metadata": {},
   "outputs": [],
   "source": [
    "peg_symbol = 'USDT'\n",
    "dstype = ms.DatasetType.BinanceUmPerpTrades\n",
    "grid_interval = Timedelta(minutes=2)\n",
    "\n",
    "dataset = ms.binance.BinanceLastTradesGrid(\n",
    "        peg_symbol=peg_symbol, \n",
    "        grid_interval=grid_interval, \n",
    "        dataset_type=dstype, \n",
    "        parquet_names='*.parquet', \n",
    "        num_workers=4, \n",
    "    )\n",
    "\n",
    "# Reading the full dataset\n",
    "lf = pl.scan_parquet(dataset.path / f'**/{dataset.parquet_names}')\n",
    "dataset.universe_df"
   ]
  },
  {
   "cell_type": "code",
   "execution_count": null,
   "id": "75b9905f",
   "metadata": {},
   "outputs": [],
   "source": []
  }
 ],
 "metadata": {
  "kernelspec": {
   "display_name": "midas",
   "language": "python",
   "name": "midas"
  },
  "language_info": {
   "codemirror_mode": {
    "name": "ipython",
    "version": 3
   },
   "file_extension": ".py",
   "mimetype": "text/x-python",
   "name": "python",
   "nbconvert_exporter": "python",
   "pygments_lexer": "ipython3",
   "version": "3.12.3"
  },
  "widgets": {
   "application/vnd.jupyter.widget-state+json": {
    "state": {
     "12add1402f51479bbf865686a9683cdd": {
      "model_module": "@jupyter-widgets/controls",
      "model_module_version": "2.0.0",
      "model_name": "ProgressStyleModel",
      "state": {
       "description_width": ""
      }
     },
     "1b238b3d8d0d441c9f59d6afc2850ceb": {
      "model_module": "@jupyter-widgets/controls",
      "model_module_version": "2.0.0",
      "model_name": "HTMLStyleModel",
      "state": {
       "description_width": "",
       "font_size": null,
       "text_color": null
      }
     },
     "336e7caf5f234c909a000d7b53187cdc": {
      "model_module": "@jupyter-widgets/controls",
      "model_module_version": "2.0.0",
      "model_name": "HTMLModel",
      "state": {
       "layout": "IPY_MODEL_ffa04b5feca84f9db6621bb9ca15a67d",
       "style": "IPY_MODEL_604daff85a6b4f1cbe1bf24322b4456a",
       "value": " 21/21 [02:15&lt;00:00, 13.42s/it]"
      }
     },
     "4336b2a7953c4c8d852d525c1d9faaa6": {
      "model_module": "@jupyter-widgets/base",
      "model_module_version": "2.0.0",
      "model_name": "LayoutModel",
      "state": {}
     },
     "4720d12d32234c7d8e579316e6e30b9c": {
      "model_module": "@jupyter-widgets/base",
      "model_module_version": "2.0.0",
      "model_name": "LayoutModel",
      "state": {}
     },
     "604daff85a6b4f1cbe1bf24322b4456a": {
      "model_module": "@jupyter-widgets/controls",
      "model_module_version": "2.0.0",
      "model_name": "HTMLStyleModel",
      "state": {
       "description_width": "",
       "font_size": null,
       "text_color": null
      }
     },
     "6b61c217953749b7b439e3cf2149eb21": {
      "model_module": "@jupyter-widgets/controls",
      "model_module_version": "2.0.0",
      "model_name": "FloatProgressModel",
      "state": {
       "bar_style": "success",
       "layout": "IPY_MODEL_4336b2a7953c4c8d852d525c1d9faaa6",
       "max": 21,
       "style": "IPY_MODEL_12add1402f51479bbf865686a9683cdd",
       "value": 21
      }
     },
     "6df6e493d2734fdf9406f45aa9dcfa70": {
      "model_module": "@jupyter-widgets/controls",
      "model_module_version": "2.0.0",
      "model_name": "HBoxModel",
      "state": {
       "children": [
        "IPY_MODEL_bc3d041ef4f54fee9dc60d569895f5bd",
        "IPY_MODEL_6b61c217953749b7b439e3cf2149eb21",
        "IPY_MODEL_336e7caf5f234c909a000d7b53187cdc"
       ],
       "layout": "IPY_MODEL_b13d7bade1dd43259032ea5879252e8a"
      }
     },
     "b13d7bade1dd43259032ea5879252e8a": {
      "model_module": "@jupyter-widgets/base",
      "model_module_version": "2.0.0",
      "model_name": "LayoutModel",
      "state": {}
     },
     "bc3d041ef4f54fee9dc60d569895f5bd": {
      "model_module": "@jupyter-widgets/controls",
      "model_module_version": "2.0.0",
      "model_name": "HTMLModel",
      "state": {
       "layout": "IPY_MODEL_4720d12d32234c7d8e579316e6e30b9c",
       "style": "IPY_MODEL_1b238b3d8d0d441c9f59d6afc2850ceb",
       "value": "100%"
      }
     },
     "ffa04b5feca84f9db6621bb9ca15a67d": {
      "model_module": "@jupyter-widgets/base",
      "model_module_version": "2.0.0",
      "model_name": "LayoutModel",
      "state": {}
     }
    },
    "version_major": 2,
    "version_minor": 0
   }
  }
 },
 "nbformat": 4,
 "nbformat_minor": 5
}
