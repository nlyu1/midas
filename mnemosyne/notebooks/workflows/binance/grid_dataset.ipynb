{
 "cells": [
  {
   "cell_type": "markdown",
   "id": "b557875c",
   "metadata": {},
   "source": [
    "# Lossless -> gridded \n",
    "\n",
    "Grids `last_trade` data: \n",
    "\n",
    "- Each `BinanceLastTradesGrid` reads the underlying lossless dataset `symbol_date_df` to determine symbol-date pairs. \n",
    "- Each dataset maintains a list of \"validated\" dates. Second runs will be very quick"
   ]
  },
  {
   "cell_type": "code",
   "execution_count": null,
   "id": "00e9e27b",
   "metadata": {},
   "outputs": [],
   "source": [
    "import mnemosyne as ms \n",
    "import polars as pl\n",
    "from datetime import date as Date \n",
    "\n",
    "args = [\n",
    "    (ms.DatasetType.BinanceSpotTrades, '4s', 'USDC'),\n",
    "    (ms.DatasetType.BinanceSpotTrades, '10m', 'USDC'),\n",
    "\n",
    "    (ms.DatasetType.BinanceUmPerpTrades, '4s', 'USDC'),\n",
    "    (ms.DatasetType.BinanceUmPerpTrades, '10m', 'USDC'),\n",
    "\n",
    "    (ms.DatasetType.BinanceSpotTrades, '20s', 'USDT'), \n",
    "    (ms.DatasetType.BinanceSpotTrades, '2m', 'USDT'),\n",
    "    (ms.DatasetType.BinanceSpotTrades, '4s', 'USDT'),\n",
    "    (ms.DatasetType.BinanceSpotTrades, '10m', 'USDT'),\n",
    "\n",
    "    (ms.DatasetType.BinanceUmPerpTrades, '2m', 'USDT'),\n",
    "    (ms.DatasetType.BinanceUmPerpTrades, '20s', 'USDT'),\n",
    "    (ms.DatasetType.BinanceUmPerpTrades, '10m', 'USDT'),\n",
    "    (ms.DatasetType.BinanceUmPerpTrades, '4s', 'USDT'),\n",
    "]"
   ]
  },
  {
   "cell_type": "code",
   "execution_count": 7,
   "id": "47e95f33",
   "metadata": {},
   "outputs": [
    {
     "name": "stdout",
     "output_type": "stream",
     "text": [
      "BinanceSpotTrades 4s USDC: /data/mnemosyne/binance/grids/spot/last_trade/4s/peg_symbol=USDC\n",
      "BinanceSpotTrades 10m USDC: /data/mnemosyne/binance/grids/spot/last_trade/10m/peg_symbol=USDC\n",
      "BinanceUmPerpTrades 4s USDC: /data/mnemosyne/binance/grids/futures/um/last_trade/4s/peg_symbol=USDC\n",
      "BinanceUmPerpTrades 10m USDC: /data/mnemosyne/binance/grids/futures/um/last_trade/10m/peg_symbol=USDC\n",
      "BinanceSpotTrades 20s USDT: /data/mnemosyne/binance/grids/spot/last_trade/20s/peg_symbol=USDT\n",
      "BinanceSpotTrades 2m USDT: /data/mnemosyne/binance/grids/spot/last_trade/2m/peg_symbol=USDT\n",
      "BinanceSpotTrades 4s USDT: /data/mnemosyne/binance/grids/spot/last_trade/4s/peg_symbol=USDT\n",
      "BinanceSpotTrades 10m USDT: /data/mnemosyne/binance/grids/spot/last_trade/10m/peg_symbol=USDT\n",
      "BinanceUmPerpTrades 2m USDT: /data/mnemosyne/binance/grids/futures/um/last_trade/2m/peg_symbol=USDT\n",
      "BinanceUmPerpTrades 20s USDT: /data/mnemosyne/binance/grids/futures/um/last_trade/20s/peg_symbol=USDT\n",
      "BinanceUmPerpTrades 10m USDT: /data/mnemosyne/binance/grids/futures/um/last_trade/10m/peg_symbol=USDT\n",
      "BinanceUmPerpTrades 4s USDT: /data/mnemosyne/binance/grids/futures/um/last_trade/4s/peg_symbol=USDT\n"
     ]
    }
   ],
   "source": [
    "for dataset_type, grid_interval, peg_symbol in args:\n",
    "    # Reads the underlying lossless dataset's `symbol_date_df` to determine symbol-date pairs\n",
    "    dataset = ms.binance.BinanceLastTradesGrid(\n",
    "        peg_symbol=peg_symbol, \n",
    "        grid_interval=grid_interval, \n",
    "        dataset_type=dataset_type, \n",
    "        parquet_names='*.parquet', # Write to a single parquet: polars defaults to \"0.parquet, 1.parquet ...\"\n",
    "        num_workers=2, \n",
    "    )\n",
    "    print(f'{dataset_type} {grid_interval} {peg_symbol}: {dataset.path}')\n",
    "    dataset.compute(recompute=False, days_per_batch=30)"
   ]
  },
  {
   "cell_type": "markdown",
   "id": "53cc4ef1",
   "metadata": {},
   "source": [
    "# Usage example"
   ]
  },
  {
   "cell_type": "code",
   "execution_count": null,
   "id": "36be39d2",
   "metadata": {},
   "outputs": [
    {
     "data": {
      "text/html": [
       "<div><style>\n",
       ".dataframe > thead > tr,\n",
       ".dataframe > tbody > tr {\n",
       "  text-align: right;\n",
       "  white-space: pre-wrap;\n",
       "}\n",
       "</style>\n",
       "<small>shape: (347_794, 2)</small><table border=\"1\" class=\"dataframe\"><thead><tr><th>symbol</th><th>date</th></tr><tr><td>str</td><td>date</td></tr></thead><tbody><tr><td>&quot;AGLD&quot;</td><td>2024-03-17</td></tr><tr><td>&quot;APE&quot;</td><td>2024-03-17</td></tr><tr><td>&quot;REN&quot;</td><td>2024-03-17</td></tr><tr><td>&quot;JUP&quot;</td><td>2024-03-17</td></tr><tr><td>&quot;AXS&quot;</td><td>2024-03-17</td></tr><tr><td>&hellip;</td><td>&hellip;</td></tr><tr><td>&quot;DAM&quot;</td><td>2025-10-23</td></tr><tr><td>&quot;TOKEN&quot;</td><td>2025-10-23</td></tr><tr><td>&quot;VVV&quot;</td><td>2025-10-23</td></tr><tr><td>&quot;DEGO&quot;</td><td>2025-10-23</td></tr><tr><td>&quot;BAN&quot;</td><td>2025-10-23</td></tr></tbody></table></div>"
      ],
      "text/plain": [
       "shape: (347_794, 2)\n",
       "┌────────┬────────────┐\n",
       "│ symbol ┆ date       │\n",
       "│ ---    ┆ ---        │\n",
       "│ str    ┆ date       │\n",
       "╞════════╪════════════╡\n",
       "│ AGLD   ┆ 2024-03-17 │\n",
       "│ APE    ┆ 2024-03-17 │\n",
       "│ REN    ┆ 2024-03-17 │\n",
       "│ JUP    ┆ 2024-03-17 │\n",
       "│ AXS    ┆ 2024-03-17 │\n",
       "│ …      ┆ …          │\n",
       "│ DAM    ┆ 2025-10-23 │\n",
       "│ TOKEN  ┆ 2025-10-23 │\n",
       "│ VVV    ┆ 2025-10-23 │\n",
       "│ DEGO   ┆ 2025-10-23 │\n",
       "│ BAN    ┆ 2025-10-23 │\n",
       "└────────┴────────────┘"
      ]
     },
     "execution_count": 11,
     "metadata": {},
     "output_type": "execute_result"
    }
   ],
   "source": [
    "peg_symbol = 'USDT'\n",
    "dstype = ms.DatasetType.BinanceUmPerpTrades\n",
    "grid_interval = '2m'\n",
    "\n",
    "dataset = ms.binance.BinanceLastTradesGrid(\n",
    "        peg_symbol=peg_symbol, \n",
    "        grid_interval=grid_interval, \n",
    "        dataset_type=dstype, \n",
    "        parquet_names='*.parquet', \n",
    "        num_workers=4, \n",
    "    )\n",
    "\n",
    "# Reading the full dataset\n",
    "lf = pl.scan_parquet(dataset.path / f'**/{dataset.parquet_names}')\n",
    "dataset.universe_df"
   ]
  },
  {
   "cell_type": "code",
   "execution_count": null,
   "id": "75b9905f",
   "metadata": {},
   "outputs": [],
   "source": []
  }
 ],
 "metadata": {
  "kernelspec": {
   "display_name": "midas",
   "language": "python",
   "name": "midas"
  },
  "language_info": {
   "codemirror_mode": {
    "name": "ipython",
    "version": 3
   },
   "file_extension": ".py",
   "mimetype": "text/x-python",
   "name": "python",
   "nbconvert_exporter": "python",
   "pygments_lexer": "ipython3",
   "version": "3.12.3"
  }
 },
 "nbformat": 4,
 "nbformat_minor": 5
}
