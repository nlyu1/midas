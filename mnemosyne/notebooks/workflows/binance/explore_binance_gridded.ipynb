{
 "cells": [
  {
   "cell_type": "code",
   "execution_count": 1,
   "id": "d84dfd17",
   "metadata": {},
   "outputs": [],
   "source": [
    "%load_ext autoreload\n",
    "%autoreload 2\n",
    "\n",
    "import polars as pl \n",
    "import mnemosyne as ms\n",
    "from pprint import pprint\n",
    "\n",
    "spot_trades_path = ms.BINANCE_DATA_PATH / \"spot/last_trade\"\n",
    "futures_trades_path = ms.BINANCE_DATA_PATH / \"futures/um\""
   ]
  },
  {
   "cell_type": "code",
   "execution_count": 2,
   "id": "ca2eac37",
   "metadata": {},
   "outputs": [],
   "source": [
    "grid_interval = '10m'\n",
    "dev_version = 0 \n",
    "\n",
    "data_path = ms.BINANCE_DATA_PATH / f'grids/spot/last_trade/{grid_interval}'\n",
    "db = pl.scan_parquet(data_path, hive_partitioning=True)"
   ]
  },
  {
   "cell_type": "code",
   "execution_count": 3,
   "id": "413347f1",
   "metadata": {},
   "outputs": [],
   "source": [
    "df = db.collect()"
   ]
  },
  {
   "cell_type": "code",
   "execution_count": 5,
   "id": "5043a1e3",
   "metadata": {},
   "outputs": [
    {
     "name": "stdout",
     "output_type": "stream",
     "text": [
      "Rows: 72361666\n",
      "Columns: 17\n",
      "$ symbol                           <str> 'SNX', 'AKRO', 'ASR', 'BNB', 'BCHDOWN', 'BUSD', 'DODO', 'FOR', 'KAVA', 'OCEAN'\n",
      "$ date                            <date> 2022-01-01, 2022-01-01, 2022-01-01, 2022-01-01, 2022-01-01, 2022-01-01, 2022-01-01, 2022-01-01, 2022-01-01, 2022-01-01\n",
      "$ peg_symbol                       <str> 'USDT', 'USDT', 'USDT', 'USDT', 'USDT', 'USDT', 'USDT', 'USDT', 'USDT', 'USDT'\n",
      "$ open                             <f64> 5.489, 0.02218, 4.01, 511.5, 0.2207, 1.0, 0.843, 0.07357, 3.951, 0.856\n",
      "$ high                             <f64> 5.529, 0.02233, 4.052, 514.0, 0.2207, 1.0, 0.85, 0.07387, 3.984, 0.8653\n",
      "$ low                              <f64> 5.485, 0.02218, 4.009, 511.4, 0.2207, 0.9999, 0.843, 0.07334, 3.947, 0.856\n",
      "$ close                            <f64> 5.515, 0.02232, 4.05, 513.3, 0.2207, 1.0, 0.848, 0.07367, 3.96, 0.8628\n",
      "$ volume_base                      <f64> 33688.89999999999, 146500.0, 584.7000000000002, 4040.8170000000105, 3485.08, 2784849.0, 43324.299999999996, 217688.0, 67649.6000000001, 47125.0\n",
      "$ volume_quote                     <f64> 185489.92309999975, 3262.31365, 2361.4275000000016, 2073121.6605000072, 769.157156, 2784777.4818000044, 36727.59929999996, 16004.334119999989, 268304.43019999994, 40607.52980000001\n",
      "$ trade_count                      <u32> 438, 34, 46, 2673, 2, 2351, 247, 102, 577, 195\n",
      "$ taker_buy_volume_quote           <f64> 115828.75819999995, 1413.2827700000003, 1645.4796, 1089501.9121, 94.2389, 2069667.0, 18703.183, 8466.61124, 109866.67460000003, 28804.307299999993\n",
      "$ taker_sell_volume_quote          <f64> 69661.16490000005, 1849.03088, 715.9479, 983619.7483999995, 674.918256, 715110.4818000002, 18024.416300000008, 7537.72288, 158437.7555999999, 11803.222499999998\n",
      "$ vwap_taker_buy                   <f64> 5.502252429706185, 0.02225509623972844, 4.038008854804401, 513.015974237509, 0.22069999999999998, 1.0, 0.8474924095433378, 0.07356138806472469, 3.966537172089851, 0.861686201089446\n",
      "$ vwap_taker_sell                  <f64> 5.512183764892794, 0.022278629025384366, 4.040352078831434, 513.0788189846797, 0.2207, 0.9998999999999988, 0.8479936046250786, 0.07347295713328214, 3.9658055762802076, 0.8617413371297543\n",
      "$ vwap_total_by_base               <f64> 5.505965558388663, 0.022268352559726964, 4.038699332991279, 513.0451739091382, 0.2207, 0.9999743188230329, 0.8477367043437506, 0.07351959740546098, 3.9660904159078485, 0.8616982450928384\n",
      "$ actual_time_offset      <duration[μs]> 0:00:20.684000, 0:01:27.928000, 0:00:10.176000, 0:00:01.359000, 0:00:33.439000, 0:00:00.072000, 0:00:00.684000, 0:00:07.661000, 0:00:00.545000, 0:00:27.355000\n",
      "$ time                    <datetime[μs]> 2022-01-01 00:00:00, 2022-01-01 00:00:00, 2022-01-01 00:00:00, 2022-01-01 00:00:00, 2022-01-01 00:00:00, 2022-01-01 00:00:00, 2022-01-01 00:00:00, 2022-01-01 00:00:00, 2022-01-01 00:00:00, 2022-01-01 00:00:00\n",
      "\n"
     ]
    }
   ],
   "source": [
    "df.glimpse()"
   ]
  },
  {
   "cell_type": "code",
   "execution_count": null,
   "id": "c3f04e3a",
   "metadata": {},
   "outputs": [],
   "source": []
  }
 ],
 "metadata": {
  "kernelspec": {
   "display_name": "mnemosyne-pXsC6e9R-py3.12",
   "language": "python",
   "name": "python3"
  },
  "language_info": {
   "codemirror_mode": {
    "name": "ipython",
    "version": 3
   },
   "file_extension": ".py",
   "mimetype": "text/x-python",
   "name": "python",
   "nbconvert_exporter": "python",
   "pygments_lexer": "ipython3",
   "version": "3.12.3"
  }
 },
 "nbformat": 4,
 "nbformat_minor": 5
}
