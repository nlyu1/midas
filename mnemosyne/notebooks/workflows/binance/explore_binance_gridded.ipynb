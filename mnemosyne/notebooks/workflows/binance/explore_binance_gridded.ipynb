{
 "cells": [
  {
   "cell_type": "code",
   "execution_count": null,
   "id": "d84dfd17",
   "metadata": {},
   "outputs": [],
   "source": [
    "%load_ext autoreload\n",
    "%autoreload 2\n",
    "\n",
    "import polars as pl \n",
    "import mnemosyne as ms\n",
    "from pprint import pprint\n",
    "\n",
    "spot_trades_path = ms.BINANCE_DATA_PATH / \"spot/last_trade\"\n",
    "futures_trades_path = ms.BINANCE_DATA_PATH / \"futures/um\""
   ]
  },
  {
   "cell_type": "code",
   "execution_count": null,
   "id": "ca2eac37",
   "metadata": {},
   "outputs": [],
   "source": [
    "from pathlib import Path \n",
    "\n",
    "grid_interval = '10m'\n",
    "dev_version = 0 \n",
    "\n",
    "data_path = Path(\"/data/mnemosyne/binance\") / f'grids/spot/last_trade/{grid_interval}'\n",
    "db = pl.scan_parquet(data_path, hive_partitioning=True)"
   ]
  },
  {
   "cell_type": "code",
   "execution_count": null,
   "id": "413347f1",
   "metadata": {},
   "outputs": [],
   "source": [
    "df = db.collect()"
   ]
  },
  {
   "cell_type": "code",
   "execution_count": 19,
   "id": "5043a1e3",
   "metadata": {},
   "outputs": [
    {
     "data": {
      "text/html": [
       "<div><style>\n",
       ".dataframe > thead > tr,\n",
       ".dataframe > tbody > tr {\n",
       "  text-align: right;\n",
       "  white-space: pre-wrap;\n",
       "}\n",
       "</style>\n",
       "<small>shape: (686_225, 3)</small><table border=\"1\" class=\"dataframe\"><thead><tr><th>symbol</th><th>date</th><th>peg_symbol</th></tr><tr><td>str</td><td>date</td><td>str</td></tr></thead><tbody><tr><td>&quot;LDO&quot;</td><td>2022-05-09</td><td>&quot;USDT&quot;</td></tr><tr><td>&quot;LDO&quot;</td><td>2022-05-10</td><td>&quot;USDT&quot;</td></tr><tr><td>&quot;LDO&quot;</td><td>2022-05-11</td><td>&quot;USDT&quot;</td></tr><tr><td>&quot;LDO&quot;</td><td>2022-05-12</td><td>&quot;USDT&quot;</td></tr><tr><td>&quot;LDO&quot;</td><td>2022-05-13</td><td>&quot;USDT&quot;</td></tr><tr><td>&hellip;</td><td>&hellip;</td><td>&hellip;</td></tr><tr><td>&quot;PNUT&quot;</td><td>2025-10-08</td><td>&quot;USDT&quot;</td></tr><tr><td>&quot;PNUT&quot;</td><td>2025-10-09</td><td>&quot;USDT&quot;</td></tr><tr><td>&quot;PNUT&quot;</td><td>2025-10-10</td><td>&quot;USDT&quot;</td></tr><tr><td>&quot;PNUT&quot;</td><td>2025-10-11</td><td>&quot;USDT&quot;</td></tr><tr><td>&quot;PNUT&quot;</td><td>2025-10-12</td><td>&quot;USDT&quot;</td></tr></tbody></table></div>"
      ],
      "text/plain": [
       "shape: (686_225, 3)\n",
       "┌────────┬────────────┬────────────┐\n",
       "│ symbol ┆ date       ┆ peg_symbol │\n",
       "│ ---    ┆ ---        ┆ ---        │\n",
       "│ str    ┆ date       ┆ str        │\n",
       "╞════════╪════════════╪════════════╡\n",
       "│ LDO    ┆ 2022-05-09 ┆ USDT       │\n",
       "│ LDO    ┆ 2022-05-10 ┆ USDT       │\n",
       "│ LDO    ┆ 2022-05-11 ┆ USDT       │\n",
       "│ LDO    ┆ 2022-05-12 ┆ USDT       │\n",
       "│ LDO    ┆ 2022-05-13 ┆ USDT       │\n",
       "│ …      ┆ …          ┆ …          │\n",
       "│ PNUT   ┆ 2025-10-08 ┆ USDT       │\n",
       "│ PNUT   ┆ 2025-10-09 ┆ USDT       │\n",
       "│ PNUT   ┆ 2025-10-10 ┆ USDT       │\n",
       "│ PNUT   ┆ 2025-10-11 ┆ USDT       │\n",
       "│ PNUT   ┆ 2025-10-12 ┆ USDT       │\n",
       "└────────┴────────────┴────────────┘"
      ]
     },
     "execution_count": 19,
     "metadata": {},
     "output_type": "execute_result"
    }
   ],
   "source": [
    "data_path = Path(\"/data/mnemosyne/binance/spot/last_trade/peg_symbol=USDT/universe.parquet\")\n",
    "pl.read_parquet(data_path, hive_partitioning=True)"
   ]
  },
  {
   "cell_type": "code",
   "execution_count": 20,
   "id": "4a7bd522",
   "metadata": {},
   "outputs": [
    {
     "data": {
      "text/html": [
       "<div><style>\n",
       ".dataframe > thead > tr,\n",
       ".dataframe > tbody > tr {\n",
       "  text-align: right;\n",
       "  white-space: pre-wrap;\n",
       "}\n",
       "</style>\n",
       "<small>shape: (507_774, 3)</small><table border=\"1\" class=\"dataframe\"><thead><tr><th>symbol</th><th>date</th><th>peg_symbol</th></tr><tr><td>str</td><td>date</td><td>str</td></tr></thead><tbody><tr><td>&quot;BETH&quot;</td><td>2023-08-14</td><td>&quot;USDT&quot;</td></tr><tr><td>&quot;FIDA&quot;</td><td>2023-08-14</td><td>&quot;USDT&quot;</td></tr><tr><td>&quot;BICO&quot;</td><td>2023-08-14</td><td>&quot;USDT&quot;</td></tr><tr><td>&quot;AVA&quot;</td><td>2023-08-14</td><td>&quot;USDT&quot;</td></tr><tr><td>&quot;KMD&quot;</td><td>2023-08-14</td><td>&quot;USDT&quot;</td></tr><tr><td>&hellip;</td><td>&hellip;</td><td>&hellip;</td></tr><tr><td>&quot;QTUM&quot;</td><td>2022-11-27</td><td>&quot;USDT&quot;</td></tr><tr><td>&quot;SUSHI&quot;</td><td>2022-05-04</td><td>&quot;USDT&quot;</td></tr><tr><td>&quot;QTUM&quot;</td><td>2022-10-08</td><td>&quot;USDT&quot;</td></tr><tr><td>&quot;SUSHI&quot;</td><td>2022-02-27</td><td>&quot;USDT&quot;</td></tr><tr><td>&quot;SUSHI&quot;</td><td>2022-01-10</td><td>&quot;USDT&quot;</td></tr></tbody></table></div>"
      ],
      "text/plain": [
       "shape: (507_774, 3)\n",
       "┌────────┬────────────┬────────────┐\n",
       "│ symbol ┆ date       ┆ peg_symbol │\n",
       "│ ---    ┆ ---        ┆ ---        │\n",
       "│ str    ┆ date       ┆ str        │\n",
       "╞════════╪════════════╪════════════╡\n",
       "│ BETH   ┆ 2023-08-14 ┆ USDT       │\n",
       "│ FIDA   ┆ 2023-08-14 ┆ USDT       │\n",
       "│ BICO   ┆ 2023-08-14 ┆ USDT       │\n",
       "│ AVA    ┆ 2023-08-14 ┆ USDT       │\n",
       "│ KMD    ┆ 2023-08-14 ┆ USDT       │\n",
       "│ …      ┆ …          ┆ …          │\n",
       "│ QTUM   ┆ 2022-11-27 ┆ USDT       │\n",
       "│ SUSHI  ┆ 2022-05-04 ┆ USDT       │\n",
       "│ QTUM   ┆ 2022-10-08 ┆ USDT       │\n",
       "│ SUSHI  ┆ 2022-02-27 ┆ USDT       │\n",
       "│ SUSHI  ┆ 2022-01-10 ┆ USDT       │\n",
       "└────────┴────────────┴────────────┘"
      ]
     },
     "execution_count": 20,
     "metadata": {},
     "output_type": "execute_result"
    }
   ],
   "source": [
    "data_path = Path(\"/data/mnemosyne/binance/spot/last_trade/peg_symbol=USDT/hive_symbol_date_pairs.parquet\")\n",
    "pl.read_parquet(data_path, hive_partitioning=True)"
   ]
  },
  {
   "cell_type": "code",
   "execution_count": null,
   "id": "d154d4f3",
   "metadata": {},
   "outputs": [],
   "source": []
  }
 ],
 "metadata": {
  "kernelspec": {
   "display_name": "mnemosyne-pXsC6e9R-py3.12",
   "language": "python",
   "name": "python3"
  },
  "language_info": {
   "codemirror_mode": {
    "name": "ipython",
    "version": 3
   },
   "file_extension": ".py",
   "mimetype": "text/x-python",
   "name": "python",
   "nbconvert_exporter": "python",
   "pygments_lexer": "ipython3",
   "version": "3.12.3"
  }
 },
 "nbformat": 4,
 "nbformat_minor": 5
}
