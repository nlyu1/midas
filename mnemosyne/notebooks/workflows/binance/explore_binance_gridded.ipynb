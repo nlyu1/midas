{
 "cells": [
  {
   "cell_type": "code",
   "execution_count": 1,
   "id": "d84dfd17",
   "metadata": {},
   "outputs": [],
   "source": [
    "%load_ext autoreload\n",
    "%autoreload 2\n",
    "\n",
    "import polars as pl \n",
    "import mnemosyne as ms\n",
    "from pprint import pprint\n",
    "\n",
    "spot_trades_path = ms.BINANCE_DATA_PATH / \"spot/last_trade\"\n",
    "futures_trades_path = ms.BINANCE_DATA_PATH / \"futures/um\""
   ]
  },
  {
   "cell_type": "code",
   "execution_count": 2,
   "id": "ca2eac37",
   "metadata": {},
   "outputs": [],
   "source": [
    "grid_interval = '10m'\n",
    "dev_version = 0 \n",
    "\n",
    "data_path = ms.BINANCE_DATA_PATH / f'grids/spot/last_trade/{grid_interval}'\n",
    "db = pl.scan_parquet(data_path, hive_partitioning=True)"
   ]
  },
  {
   "cell_type": "code",
   "execution_count": 3,
   "id": "413347f1",
   "metadata": {},
   "outputs": [],
   "source": [
    "df = db.collect()"
   ]
  },
  {
   "cell_type": "code",
   "execution_count": 6,
   "id": "5043a1e3",
   "metadata": {},
   "outputs": [
    {
     "data": {
      "text/html": [
       "<div><style>\n",
       ".dataframe > thead > tr,\n",
       ".dataframe > tbody > tr {\n",
       "  text-align: right;\n",
       "  white-space: pre-wrap;\n",
       "}\n",
       "</style>\n",
       "<small>shape: (5, 17)</small><table border=\"1\" class=\"dataframe\"><thead><tr><th>symbol</th><th>date</th><th>peg_symbol</th><th>open</th><th>high</th><th>low</th><th>close</th><th>volume_base</th><th>volume_quote</th><th>trade_count</th><th>taker_buy_volume_quote</th><th>taker_sell_volume_quote</th><th>vwap_taker_buy</th><th>vwap_taker_sell</th><th>vwap_total_by_base</th><th>actual_time_offset</th><th>time</th></tr><tr><td>str</td><td>date</td><td>str</td><td>f64</td><td>f64</td><td>f64</td><td>f64</td><td>f64</td><td>f64</td><td>u32</td><td>f64</td><td>f64</td><td>f64</td><td>f64</td><td>f64</td><td>duration[μs]</td><td>datetime[μs]</td></tr></thead><tbody><tr><td>&quot;SNX&quot;</td><td>2022-01-01</td><td>&quot;USDT&quot;</td><td>5.489</td><td>5.529</td><td>5.485</td><td>5.515</td><td>33688.9</td><td>185489.9231</td><td>438</td><td>115828.7582</td><td>69661.1649</td><td>5.502252</td><td>5.512184</td><td>5.505966</td><td>20s 684ms</td><td>2022-01-01 00:00:00</td></tr><tr><td>&quot;AKRO&quot;</td><td>2022-01-01</td><td>&quot;USDT&quot;</td><td>0.02218</td><td>0.02233</td><td>0.02218</td><td>0.02232</td><td>146500.0</td><td>3262.31365</td><td>34</td><td>1413.28277</td><td>1849.03088</td><td>0.022255</td><td>0.022279</td><td>0.022268</td><td>1m 27s 928ms</td><td>2022-01-01 00:00:00</td></tr><tr><td>&quot;ASR&quot;</td><td>2022-01-01</td><td>&quot;USDT&quot;</td><td>4.01</td><td>4.052</td><td>4.009</td><td>4.05</td><td>584.7</td><td>2361.4275</td><td>46</td><td>1645.4796</td><td>715.9479</td><td>4.038009</td><td>4.040352</td><td>4.038699</td><td>10s 176ms</td><td>2022-01-01 00:00:00</td></tr><tr><td>&quot;BNB&quot;</td><td>2022-01-01</td><td>&quot;USDT&quot;</td><td>511.5</td><td>514.0</td><td>511.4</td><td>513.3</td><td>4040.817</td><td>2.0731e6</td><td>2673</td><td>1.0895e6</td><td>983619.7484</td><td>513.015974</td><td>513.078819</td><td>513.045174</td><td>1s 359ms</td><td>2022-01-01 00:00:00</td></tr><tr><td>&quot;BCHDOWN&quot;</td><td>2022-01-01</td><td>&quot;USDT&quot;</td><td>0.2207</td><td>0.2207</td><td>0.2207</td><td>0.2207</td><td>3485.08</td><td>769.157156</td><td>2</td><td>94.2389</td><td>674.918256</td><td>0.2207</td><td>0.2207</td><td>0.2207</td><td>33s 439ms</td><td>2022-01-01 00:00:00</td></tr></tbody></table></div>"
      ],
      "text/plain": [
       "shape: (5, 17)\n",
       "┌─────────┬────────────┬────────────┬─────────┬───┬────────────┬───────────┬───────────┬───────────┐\n",
       "│ symbol  ┆ date       ┆ peg_symbol ┆ open    ┆ … ┆ vwap_taker ┆ vwap_tota ┆ actual_ti ┆ time      │\n",
       "│ ---     ┆ ---        ┆ ---        ┆ ---     ┆   ┆ _sell      ┆ l_by_base ┆ me_offset ┆ ---       │\n",
       "│ str     ┆ date       ┆ str        ┆ f64     ┆   ┆ ---        ┆ ---       ┆ ---       ┆ datetime[ │\n",
       "│         ┆            ┆            ┆         ┆   ┆ f64        ┆ f64       ┆ duration[ ┆ μs]       │\n",
       "│         ┆            ┆            ┆         ┆   ┆            ┆           ┆ μs]       ┆           │\n",
       "╞═════════╪════════════╪════════════╪═════════╪═══╪════════════╪═══════════╪═══════════╪═══════════╡\n",
       "│ SNX     ┆ 2022-01-01 ┆ USDT       ┆ 5.489   ┆ … ┆ 5.512184   ┆ 5.505966  ┆ 20s 684ms ┆ 2022-01-0 │\n",
       "│         ┆            ┆            ┆         ┆   ┆            ┆           ┆           ┆ 1         │\n",
       "│         ┆            ┆            ┆         ┆   ┆            ┆           ┆           ┆ 00:00:00  │\n",
       "│ AKRO    ┆ 2022-01-01 ┆ USDT       ┆ 0.02218 ┆ … ┆ 0.022279   ┆ 0.022268  ┆ 1m 27s    ┆ 2022-01-0 │\n",
       "│         ┆            ┆            ┆         ┆   ┆            ┆           ┆ 928ms     ┆ 1         │\n",
       "│         ┆            ┆            ┆         ┆   ┆            ┆           ┆           ┆ 00:00:00  │\n",
       "│ ASR     ┆ 2022-01-01 ┆ USDT       ┆ 4.01    ┆ … ┆ 4.040352   ┆ 4.038699  ┆ 10s 176ms ┆ 2022-01-0 │\n",
       "│         ┆            ┆            ┆         ┆   ┆            ┆           ┆           ┆ 1         │\n",
       "│         ┆            ┆            ┆         ┆   ┆            ┆           ┆           ┆ 00:00:00  │\n",
       "│ BNB     ┆ 2022-01-01 ┆ USDT       ┆ 511.5   ┆ … ┆ 513.078819 ┆ 513.04517 ┆ 1s 359ms  ┆ 2022-01-0 │\n",
       "│         ┆            ┆            ┆         ┆   ┆            ┆ 4         ┆           ┆ 1         │\n",
       "│         ┆            ┆            ┆         ┆   ┆            ┆           ┆           ┆ 00:00:00  │\n",
       "│ BCHDOWN ┆ 2022-01-01 ┆ USDT       ┆ 0.2207  ┆ … ┆ 0.2207     ┆ 0.2207    ┆ 33s 439ms ┆ 2022-01-0 │\n",
       "│         ┆            ┆            ┆         ┆   ┆            ┆           ┆           ┆ 1         │\n",
       "│         ┆            ┆            ┆         ┆   ┆            ┆           ┆           ┆ 00:00:00  │\n",
       "└─────────┴────────────┴────────────┴─────────┴───┴────────────┴───────────┴───────────┴───────────┘"
      ]
     },
     "execution_count": 6,
     "metadata": {},
     "output_type": "execute_result"
    }
   ],
   "source": [
    "df.head()"
   ]
  },
  {
   "cell_type": "code",
   "execution_count": null,
   "id": "c3f04e3a",
   "metadata": {},
   "outputs": [],
   "source": []
  }
 ],
 "metadata": {
  "kernelspec": {
   "display_name": "mnemosyne-pXsC6e9R-py3.12",
   "language": "python",
   "name": "python3"
  },
  "language_info": {
   "codemirror_mode": {
    "name": "ipython",
    "version": 3
   },
   "file_extension": ".py",
   "mimetype": "text/x-python",
   "name": "python",
   "nbconvert_exporter": "python",
   "pygments_lexer": "ipython3",
   "version": "3.12.3"
  }
 },
 "nbformat": 4,
 "nbformat_minor": 5
}
