{
 "cells": [
  {
   "cell_type": "code",
   "execution_count": 5,
   "id": "3df23827",
   "metadata": {},
   "outputs": [],
   "source": [
    "import mnemosyne as ms\n",
    "import polars as pl\n",
    "from datetime import date as Date"
   ]
  },
  {
   "cell_type": "code",
   "execution_count": 13,
   "id": "ad269a9c",
   "metadata": {},
   "outputs": [],
   "source": [
    "dataset_type, backend_grid_interval, peg_symbol = (ms.DatasetType.BinanceSpotTrades, '5s', 'USDC')\n",
    "\n",
    "sample_grid = ms.binance.BinanceLastTradesGrid(\n",
    "        peg_symbol=peg_symbol, \n",
    "        grid_interval=backend_grid_interval, \n",
    "        dataset_type=dataset_type, \n",
    "        parquet_names='*.parquet',\n",
    "        num_workers=2, \n",
    "    )\n",
    "\n",
    "sample_date = Date(2024, 7, 26)"
   ]
  },
  {
   "cell_type": "code",
   "execution_count": 15,
   "id": "12c61fda",
   "metadata": {},
   "outputs": [
    {
     "data": {
      "text/html": [
       "<div><style>\n",
       ".dataframe > thead > tr,\n",
       ".dataframe > tbody > tr {\n",
       "  text-align: right;\n",
       "  white-space: pre-wrap;\n",
       "}\n",
       "</style>\n",
       "<small>shape: (680_336, 10)</small><table border=\"1\" class=\"dataframe\"><thead><tr><th>trade_id</th><th>price</th><th>quantity</th><th>quote_quantity</th><th>time</th><th>is_buyer_maker</th><th>is_best_match</th><th>peg_symbol</th><th>date</th><th>symbol</th></tr><tr><td>i64</td><td>f64</td><td>f64</td><td>f64</td><td>datetime[μs]</td><td>bool</td><td>bool</td><td>str</td><td>date</td><td>str</td></tr></thead><tbody><tr><td>46336</td><td>0.0003074</td><td>876209.0</td><td>269.346647</td><td>2024-07-26 00:00:40.828</td><td>true</td><td>true</td><td>&quot;USDC&quot;</td><td>2024-07-26</td><td>&quot;1000SATS&quot;</td></tr><tr><td>46337</td><td>0.000307</td><td>441781.0</td><td>135.626767</td><td>2024-07-26 00:00:45.379</td><td>true</td><td>true</td><td>&quot;USDC&quot;</td><td>2024-07-26</td><td>&quot;1000SATS&quot;</td></tr><tr><td>46338</td><td>0.0003068</td><td>5492.0</td><td>1.6849456</td><td>2024-07-26 00:01:15.807</td><td>true</td><td>true</td><td>&quot;USDC&quot;</td><td>2024-07-26</td><td>&quot;1000SATS&quot;</td></tr><tr><td>46339</td><td>0.0003073</td><td>5688.0</td><td>1.7479224</td><td>2024-07-26 00:01:16.071</td><td>false</td><td>true</td><td>&quot;USDC&quot;</td><td>2024-07-26</td><td>&quot;1000SATS&quot;</td></tr><tr><td>46340</td><td>0.0003077</td><td>441616.0</td><td>135.885243</td><td>2024-07-26 00:01:40.980</td><td>true</td><td>true</td><td>&quot;USDC&quot;</td><td>2024-07-26</td><td>&quot;1000SATS&quot;</td></tr><tr><td>&hellip;</td><td>&hellip;</td><td>&hellip;</td><td>&hellip;</td><td>&hellip;</td><td>&hellip;</td><td>&hellip;</td><td>&hellip;</td><td>&hellip;</td><td>&hellip;</td></tr><tr><td>108938</td><td>4.699</td><td>14.29</td><td>67.14871</td><td>2024-07-26 22:54:52.988</td><td>true</td><td>true</td><td>&quot;USDC&quot;</td><td>2024-07-26</td><td>&quot;ZRO&quot;</td></tr><tr><td>108939</td><td>4.7</td><td>2.0</td><td>9.4</td><td>2024-07-26 22:58:48.126</td><td>true</td><td>true</td><td>&quot;USDC&quot;</td><td>2024-07-26</td><td>&quot;ZRO&quot;</td></tr><tr><td>108940</td><td>4.698</td><td>4.0</td><td>18.792</td><td>2024-07-26 23:03:26.389</td><td>true</td><td>true</td><td>&quot;USDC&quot;</td><td>2024-07-26</td><td>&quot;ZRO&quot;</td></tr><tr><td>108941</td><td>4.711</td><td>10.61</td><td>49.98371</td><td>2024-07-26 23:05:29.409</td><td>false</td><td>true</td><td>&quot;USDC&quot;</td><td>2024-07-26</td><td>&quot;ZRO&quot;</td></tr><tr><td>108942</td><td>4.727</td><td>1.05</td><td>4.96335</td><td>2024-07-26 23:17:44.620</td><td>false</td><td>true</td><td>&quot;USDC&quot;</td><td>2024-07-26</td><td>&quot;ZRO&quot;</td></tr></tbody></table></div>"
      ],
      "text/plain": [
       "shape: (680_336, 10)\n",
       "┌──────────┬───────────┬──────────┬────────────┬───┬────────────┬───────────┬───────────┬──────────┐\n",
       "│ trade_id ┆ price     ┆ quantity ┆ quote_quan ┆ … ┆ is_best_ma ┆ peg_symbo ┆ date      ┆ symbol   │\n",
       "│ ---      ┆ ---       ┆ ---      ┆ tity       ┆   ┆ tch        ┆ l         ┆ ---       ┆ ---      │\n",
       "│ i64      ┆ f64       ┆ f64      ┆ ---        ┆   ┆ ---        ┆ ---       ┆ date      ┆ str      │\n",
       "│          ┆           ┆          ┆ f64        ┆   ┆ bool       ┆ str       ┆           ┆          │\n",
       "╞══════════╪═══════════╪══════════╪════════════╪═══╪════════════╪═══════════╪═══════════╪══════════╡\n",
       "│ 46336    ┆ 0.0003074 ┆ 876209.0 ┆ 269.346647 ┆ … ┆ true       ┆ USDC      ┆ 2024-07-2 ┆ 1000SATS │\n",
       "│          ┆           ┆          ┆            ┆   ┆            ┆           ┆ 6         ┆          │\n",
       "│ 46337    ┆ 0.000307  ┆ 441781.0 ┆ 135.626767 ┆ … ┆ true       ┆ USDC      ┆ 2024-07-2 ┆ 1000SATS │\n",
       "│          ┆           ┆          ┆            ┆   ┆            ┆           ┆ 6         ┆          │\n",
       "│ 46338    ┆ 0.0003068 ┆ 5492.0   ┆ 1.6849456  ┆ … ┆ true       ┆ USDC      ┆ 2024-07-2 ┆ 1000SATS │\n",
       "│          ┆           ┆          ┆            ┆   ┆            ┆           ┆ 6         ┆          │\n",
       "│ 46339    ┆ 0.0003073 ┆ 5688.0   ┆ 1.7479224  ┆ … ┆ true       ┆ USDC      ┆ 2024-07-2 ┆ 1000SATS │\n",
       "│          ┆           ┆          ┆            ┆   ┆            ┆           ┆ 6         ┆          │\n",
       "│ 46340    ┆ 0.0003077 ┆ 441616.0 ┆ 135.885243 ┆ … ┆ true       ┆ USDC      ┆ 2024-07-2 ┆ 1000SATS │\n",
       "│          ┆           ┆          ┆            ┆   ┆            ┆           ┆ 6         ┆          │\n",
       "│ …        ┆ …         ┆ …        ┆ …          ┆ … ┆ …          ┆ …         ┆ …         ┆ …        │\n",
       "│ 108938   ┆ 4.699     ┆ 14.29    ┆ 67.14871   ┆ … ┆ true       ┆ USDC      ┆ 2024-07-2 ┆ ZRO      │\n",
       "│          ┆           ┆          ┆            ┆   ┆            ┆           ┆ 6         ┆          │\n",
       "│ 108939   ┆ 4.7       ┆ 2.0      ┆ 9.4        ┆ … ┆ true       ┆ USDC      ┆ 2024-07-2 ┆ ZRO      │\n",
       "│          ┆           ┆          ┆            ┆   ┆            ┆           ┆ 6         ┆          │\n",
       "│ 108940   ┆ 4.698     ┆ 4.0      ┆ 18.792     ┆ … ┆ true       ┆ USDC      ┆ 2024-07-2 ┆ ZRO      │\n",
       "│          ┆           ┆          ┆            ┆   ┆            ┆           ┆ 6         ┆          │\n",
       "│ 108941   ┆ 4.711     ┆ 10.61    ┆ 49.98371   ┆ … ┆ true       ┆ USDC      ┆ 2024-07-2 ┆ ZRO      │\n",
       "│          ┆           ┆          ┆            ┆   ┆            ┆           ┆ 6         ┆          │\n",
       "│ 108942   ┆ 4.727     ┆ 1.05     ┆ 4.96335    ┆ … ┆ true       ┆ USDC      ┆ 2024-07-2 ┆ ZRO      │\n",
       "│          ┆           ┆          ┆            ┆   ┆            ┆           ┆ 6         ┆          │\n",
       "└──────────┴───────────┴──────────┴────────────┴───┴────────────┴───────────┴───────────┴──────────┘"
      ]
     },
     "execution_count": 15,
     "metadata": {},
     "output_type": "execute_result"
    }
   ],
   "source": [
    "# Underlying raw dataset\n",
    "raw_df = pl.read_parquet(sample_grid.src_path / f'date={sample_date.strftime(\"%Y-%m-%d\")}/**/data.parquet', hive_partitioning=True)\n",
    "raw_df"
   ]
  },
  {
   "cell_type": "code",
   "execution_count": 16,
   "id": "628401af",
   "metadata": {},
   "outputs": [
    {
     "data": {
      "text/html": [
       "<div><style>\n",
       ".dataframe > thead > tr,\n",
       ".dataframe > tbody > tr {\n",
       "  text-align: right;\n",
       "  white-space: pre-wrap;\n",
       "}\n",
       "</style>\n",
       "<small>shape: (113_567, 16)</small><table border=\"1\" class=\"dataframe\"><thead><tr><th>symbol</th><th>date</th><th>time</th><th>peg_symbol</th><th>open</th><th>high</th><th>low</th><th>close</th><th>volume</th><th>trade_count</th><th>last_trade_time</th><th>taker_buy_volume</th><th>taker_sell_volume</th><th>vwap_taker_buy</th><th>vwap_taker_sell</th><th>vwap_price</th></tr><tr><td>enum</td><td>date</td><td>datetime[μs]</td><td>str</td><td>f64</td><td>f64</td><td>f64</td><td>f64</td><td>f64</td><td>u64</td><td>datetime[μs]</td><td>f64</td><td>f64</td><td>f64</td><td>f64</td><td>f64</td></tr></thead><tbody><tr><td>&quot;PEPE&quot;</td><td>2024-07-26</td><td>2024-07-26 00:00:05</td><td>&quot;USDC&quot;</td><td>0.000011</td><td>0.000011</td><td>0.000011</td><td>0.000011</td><td>2.6139571e7</td><td>1</td><td>2024-07-26 00:00:04.230</td><td>0.0</td><td>2.6139571e7</td><td>NaN</td><td>0.000011</td><td>0.000011</td></tr><tr><td>&quot;AVAX&quot;</td><td>2024-07-26</td><td>2024-07-26 00:00:05</td><td>&quot;USDC&quot;</td><td>27.23</td><td>27.23</td><td>27.23</td><td>27.23</td><td>1.13</td><td>1</td><td>2024-07-26 00:00:04.374</td><td>0.0</td><td>1.13</td><td>NaN</td><td>27.23</td><td>27.23</td></tr><tr><td>&quot;ARB&quot;</td><td>2024-07-26</td><td>2024-07-26 00:00:05</td><td>&quot;USDC&quot;</td><td>0.6983</td><td>0.6983</td><td>0.6983</td><td>0.6983</td><td>3580.1</td><td>1</td><td>2024-07-26 00:00:04.063</td><td>0.0</td><td>3580.1</td><td>NaN</td><td>0.6983</td><td>0.6983</td></tr><tr><td>&quot;GALA&quot;</td><td>2024-07-26</td><td>2024-07-26 00:00:05</td><td>&quot;USDC&quot;</td><td>0.02247</td><td>0.02247</td><td>0.02247</td><td>0.02247</td><td>13358.0</td><td>2</td><td>2024-07-26 00:00:04.084</td><td>0.0</td><td>13358.0</td><td>NaN</td><td>0.02247</td><td>0.02247</td></tr><tr><td>&quot;STRK&quot;</td><td>2024-07-26</td><td>2024-07-26 00:00:05</td><td>&quot;USDC&quot;</td><td>0.512</td><td>0.512</td><td>0.512</td><td>0.512</td><td>32.36</td><td>1</td><td>2024-07-26 00:00:04.970</td><td>0.0</td><td>32.36</td><td>NaN</td><td>0.512</td><td>0.512</td></tr><tr><td>&hellip;</td><td>&hellip;</td><td>&hellip;</td><td>&hellip;</td><td>&hellip;</td><td>&hellip;</td><td>&hellip;</td><td>&hellip;</td><td>&hellip;</td><td>&hellip;</td><td>&hellip;</td><td>&hellip;</td><td>&hellip;</td><td>&hellip;</td><td>&hellip;</td><td>&hellip;</td></tr><tr><td>&quot;JUP&quot;</td><td>2024-07-26</td><td>2024-07-26 23:59:55</td><td>&quot;USDC&quot;</td><td>1.071</td><td>1.0711</td><td>1.071</td><td>1.0711</td><td>333.9</td><td>3</td><td>2024-07-26 23:59:51.489</td><td>66.3</td><td>267.6</td><td>1.0711</td><td>1.071</td><td>1.07102</td></tr><tr><td>&quot;DOT&quot;</td><td>2024-07-26</td><td>2024-07-27 00:00:00</td><td>&quot;USDC&quot;</td><td>5.868</td><td>5.868</td><td>5.868</td><td>5.868</td><td>198.14</td><td>2</td><td>2024-07-26 23:59:57.944</td><td>198.14</td><td>0.0</td><td>5.868</td><td>NaN</td><td>5.868</td></tr><tr><td>&quot;AVAX&quot;</td><td>2024-07-26</td><td>2024-07-27 00:00:00</td><td>&quot;USDC&quot;</td><td>28.73</td><td>28.73</td><td>28.73</td><td>28.73</td><td>87.01</td><td>3</td><td>2024-07-26 23:59:57.229</td><td>0.0</td><td>87.01</td><td>NaN</td><td>28.73</td><td>28.73</td></tr><tr><td>&quot;SOL&quot;</td><td>2024-07-26</td><td>2024-07-27 00:00:00</td><td>&quot;USDC&quot;</td><td>183.06</td><td>183.06</td><td>183.06</td><td>183.06</td><td>6.351</td><td>2</td><td>2024-07-26 23:59:57.945</td><td>0.0</td><td>6.351</td><td>NaN</td><td>183.06</td><td>183.06</td></tr><tr><td>&quot;ETH&quot;</td><td>2024-07-26</td><td>2024-07-27 00:00:00</td><td>&quot;USDC&quot;</td><td>3275.5</td><td>3275.5</td><td>3275.3</td><td>3275.3</td><td>0.253</td><td>4</td><td>2024-07-26 23:59:58.258</td><td>0.0</td><td>0.253</td><td>NaN</td><td>3275.381423</td><td>3275.381423</td></tr></tbody></table></div>"
      ],
      "text/plain": [
       "shape: (113_567, 16)\n",
       "┌────────┬────────────┬────────────┬───────────┬───┬───────────┬───────────┬───────────┬───────────┐\n",
       "│ symbol ┆ date       ┆ time       ┆ peg_symbo ┆ … ┆ taker_sel ┆ vwap_take ┆ vwap_take ┆ vwap_pric │\n",
       "│ ---    ┆ ---        ┆ ---        ┆ l         ┆   ┆ l_volume  ┆ r_buy     ┆ r_sell    ┆ e         │\n",
       "│ enum   ┆ date       ┆ datetime[μ ┆ ---       ┆   ┆ ---       ┆ ---       ┆ ---       ┆ ---       │\n",
       "│        ┆            ┆ s]         ┆ str       ┆   ┆ f64       ┆ f64       ┆ f64       ┆ f64       │\n",
       "╞════════╪════════════╪════════════╪═══════════╪═══╪═══════════╪═══════════╪═══════════╪═══════════╡\n",
       "│ PEPE   ┆ 2024-07-26 ┆ 2024-07-26 ┆ USDC      ┆ … ┆ 2.6139571 ┆ NaN       ┆ 0.000011  ┆ 0.000011  │\n",
       "│        ┆            ┆ 00:00:05   ┆           ┆   ┆ e7        ┆           ┆           ┆           │\n",
       "│ AVAX   ┆ 2024-07-26 ┆ 2024-07-26 ┆ USDC      ┆ … ┆ 1.13      ┆ NaN       ┆ 27.23     ┆ 27.23     │\n",
       "│        ┆            ┆ 00:00:05   ┆           ┆   ┆           ┆           ┆           ┆           │\n",
       "│ ARB    ┆ 2024-07-26 ┆ 2024-07-26 ┆ USDC      ┆ … ┆ 3580.1    ┆ NaN       ┆ 0.6983    ┆ 0.6983    │\n",
       "│        ┆            ┆ 00:00:05   ┆           ┆   ┆           ┆           ┆           ┆           │\n",
       "│ GALA   ┆ 2024-07-26 ┆ 2024-07-26 ┆ USDC      ┆ … ┆ 13358.0   ┆ NaN       ┆ 0.02247   ┆ 0.02247   │\n",
       "│        ┆            ┆ 00:00:05   ┆           ┆   ┆           ┆           ┆           ┆           │\n",
       "│ STRK   ┆ 2024-07-26 ┆ 2024-07-26 ┆ USDC      ┆ … ┆ 32.36     ┆ NaN       ┆ 0.512     ┆ 0.512     │\n",
       "│        ┆            ┆ 00:00:05   ┆           ┆   ┆           ┆           ┆           ┆           │\n",
       "│ …      ┆ …          ┆ …          ┆ …         ┆ … ┆ …         ┆ …         ┆ …         ┆ …         │\n",
       "│ JUP    ┆ 2024-07-26 ┆ 2024-07-26 ┆ USDC      ┆ … ┆ 267.6     ┆ 1.0711    ┆ 1.071     ┆ 1.07102   │\n",
       "│        ┆            ┆ 23:59:55   ┆           ┆   ┆           ┆           ┆           ┆           │\n",
       "│ DOT    ┆ 2024-07-26 ┆ 2024-07-27 ┆ USDC      ┆ … ┆ 0.0       ┆ 5.868     ┆ NaN       ┆ 5.868     │\n",
       "│        ┆            ┆ 00:00:00   ┆           ┆   ┆           ┆           ┆           ┆           │\n",
       "│ AVAX   ┆ 2024-07-26 ┆ 2024-07-27 ┆ USDC      ┆ … ┆ 87.01     ┆ NaN       ┆ 28.73     ┆ 28.73     │\n",
       "│        ┆            ┆ 00:00:00   ┆           ┆   ┆           ┆           ┆           ┆           │\n",
       "│ SOL    ┆ 2024-07-26 ┆ 2024-07-27 ┆ USDC      ┆ … ┆ 6.351     ┆ NaN       ┆ 183.06    ┆ 183.06    │\n",
       "│        ┆            ┆ 00:00:00   ┆           ┆   ┆           ┆           ┆           ┆           │\n",
       "│ ETH    ┆ 2024-07-26 ┆ 2024-07-27 ┆ USDC      ┆ … ┆ 0.253     ┆ NaN       ┆ 3275.3814 ┆ 3275.3814 │\n",
       "│        ┆            ┆ 00:00:00   ┆           ┆   ┆           ┆           ┆ 23        ┆ 23        │\n",
       "└────────┴────────────┴────────────┴───────────┴───┴───────────┴───────────┴───────────┴───────────┘"
      ]
     },
     "execution_count": 16,
     "metadata": {},
     "output_type": "execute_result"
    }
   ],
   "source": [
    "# Gridded result\n",
    "sample_grid[[sample_date]].collect()"
   ]
  },
  {
   "cell_type": "code",
   "execution_count": null,
   "id": "266f0968",
   "metadata": {},
   "outputs": [],
   "source": []
  }
 ],
 "metadata": {
  "kernelspec": {
   "display_name": "midas",
   "language": "python",
   "name": "midas"
  },
  "language_info": {
   "codemirror_mode": {
    "name": "ipython",
    "version": 3
   },
   "file_extension": ".py",
   "mimetype": "text/x-python",
   "name": "python",
   "nbconvert_exporter": "python",
   "pygments_lexer": "ipython3",
   "version": "3.12.3"
  }
 },
 "nbformat": 4,
 "nbformat_minor": 5
}
