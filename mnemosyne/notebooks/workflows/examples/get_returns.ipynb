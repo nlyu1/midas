{
 "cells": [
  {
   "cell_type": "code",
   "execution_count": 6,
   "id": "3895fd3b",
   "metadata": {},
   "outputs": [
    {
     "name": "stderr",
     "output_type": "stream",
     "text": [
      "sys:1: UserWarning: Sortedness of columns cannot be checked when 'by' groups provided\n"
     ]
    },
    {
     "data": {
      "text/html": [
       "<div><style>\n",
       ".dataframe > thead > tr,\n",
       ".dataframe > tbody > tr {\n",
       "  text-align: right;\n",
       "  white-space: pre-wrap;\n",
       "}\n",
       "</style>\n",
       "<small>shape: (5, 4)</small><table border=\"1\" class=\"dataframe\"><thead><tr><th>symbol</th><th>times</th><th>max_tick_to_query_lag</th><th>return</th></tr><tr><td>enum</td><td>datetime[μs]</td><td>duration[μs]</td><td>f64</td></tr></thead><tbody><tr><td>&quot;BTC&quot;</td><td>2025-08-01 09:00:00</td><td>3s 766592µs</td><td>0.001697</td></tr><tr><td>&quot;ETH&quot;</td><td>2025-08-01 09:00:00</td><td>399614µs</td><td>0.002277</td></tr><tr><td>&quot;BTCDOWN&quot;</td><td>2025-08-01 09:00:00</td><td>null</td><td>null</td></tr><tr><td>&quot;BNB&quot;</td><td>2025-08-01 09:00:00</td><td>1s 88569µs</td><td>0.002054</td></tr><tr><td>&quot;SHIB&quot;</td><td>2025-08-01 09:00:00</td><td>5s 547004µs</td><td>0.002032</td></tr></tbody></table></div>"
      ],
      "text/plain": [
       "shape: (5, 4)\n",
       "┌─────────┬─────────────────────┬───────────────────────┬──────────┐\n",
       "│ symbol  ┆ times               ┆ max_tick_to_query_lag ┆ return   │\n",
       "│ ---     ┆ ---                 ┆ ---                   ┆ ---      │\n",
       "│ enum    ┆ datetime[μs]        ┆ duration[μs]          ┆ f64      │\n",
       "╞═════════╪═════════════════════╪═══════════════════════╪══════════╡\n",
       "│ BTC     ┆ 2025-08-01 09:00:00 ┆ 3s 766592µs           ┆ 0.001697 │\n",
       "│ ETH     ┆ 2025-08-01 09:00:00 ┆ 399614µs              ┆ 0.002277 │\n",
       "│ BTCDOWN ┆ 2025-08-01 09:00:00 ┆ null                  ┆ null     │\n",
       "│ BNB     ┆ 2025-08-01 09:00:00 ┆ 1s 88569µs            ┆ 0.002054 │\n",
       "│ SHIB    ┆ 2025-08-01 09:00:00 ┆ 5s 547004µs           ┆ 0.002032 │\n",
       "└─────────┴─────────────────────┴───────────────────────┴──────────┘"
      ]
     },
     "execution_count": 6,
     "metadata": {},
     "output_type": "execute_result"
    }
   ],
   "source": [
    "import mnemosyne as ms\n",
    "from mnemosyne.engines import ReturnsEngine \n",
    "from datetime import datetime as Datetime\n",
    "import polars as pl\n",
    "\n",
    "symbol_enum = pl.Enum(['BTC', 'ETH', 'BTCDOWN', 'BNB', 'SHIB'])\n",
    "\n",
    "query_lf = pl.DataFrame({\n",
    "    'symbol': ['BTC', 'ETH', 'BTCDOWN', 'BNB', 'SHIB'], \n",
    "    'times': [Datetime(2025, 8, 1, 9, 0, 0)] * 5\n",
    "}).with_columns(pl.col('symbol').cast(symbol_enum)).lazy()\n",
    "\n",
    "backend_db = ms.binance.BinanceLastTradesGrid(\n",
    "            peg_symbol='USDC', \n",
    "            grid_interval='10m', \n",
    "            dataset_type=ms.DatasetType.BinanceSpotTrades, \n",
    "        ).lazyframe()\n",
    "\n",
    "re = ReturnsEngine(\n",
    "    backend_db, \n",
    "    backend_fair_expr = pl.col('vwap_total_by_base'), \n",
    "    backend_time_expr = pl.col('last_trade_time')\n",
    ")\n",
    "\n",
    "value = re.query(query_lf, \n",
    "    start_time_expr = pl.col('times'), \n",
    "    mark_duration=pl.lit('10m'), \n",
    "    tick_lag_tolerance=pl.lit('30s')\n",
    ")\n",
    "value.collect()"
   ]
  },
  {
   "cell_type": "code",
   "execution_count": null,
   "id": "17d99f55",
   "metadata": {},
   "outputs": [],
   "source": []
  }
 ],
 "metadata": {
  "kernelspec": {
   "display_name": "midas",
   "language": "python",
   "name": "midas"
  },
  "language_info": {
   "codemirror_mode": {
    "name": "ipython",
    "version": 3
   },
   "file_extension": ".py",
   "mimetype": "text/x-python",
   "name": "python",
   "nbconvert_exporter": "python",
   "pygments_lexer": "ipython3",
   "version": "3.12.3"
  }
 },
 "nbformat": 4,
 "nbformat_minor": 5
}
