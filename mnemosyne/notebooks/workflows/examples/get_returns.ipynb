{
 "cells": [
  {
   "cell_type": "code",
   "execution_count": 1,
   "id": "3895fd3b",
   "metadata": {},
   "outputs": [
    {
     "name": "stderr",
     "output_type": "stream",
     "text": [
      "sys:1: UserWarning: Sortedness of columns cannot be checked when 'by' groups provided\n"
     ]
    },
    {
     "data": {
      "text/html": [
       "<div><style>\n",
       ".dataframe > thead > tr,\n",
       ".dataframe > tbody > tr {\n",
       "  text-align: right;\n",
       "  white-space: pre-wrap;\n",
       "}\n",
       "</style>\n",
       "<small>shape: (5, 6)</small><table border=\"1\" class=\"dataframe\"><thead><tr><th>symbol</th><th>times</th><th>max_tick_to_query_lag</th><th>start_fair</th><th>end_fair</th><th>return</th></tr><tr><td>enum</td><td>datetime[μs]</td><td>duration[μs]</td><td>f64</td><td>f64</td><td>f64</td></tr></thead><tbody><tr><td>&quot;BTC&quot;</td><td>2025-08-01 09:00:00</td><td>154216µs</td><td>114733.002664</td><td>114965.474546</td><td>0.002026</td></tr><tr><td>&quot;ETH&quot;</td><td>2025-08-01 09:00:00</td><td>677388µs</td><td>3618.49958</td><td>3625.498517</td><td>0.001934</td></tr><tr><td>&quot;BTCDOWN&quot;</td><td>2025-08-01 09:00:00</td><td>null</td><td>null</td><td>null</td><td>null</td></tr><tr><td>&quot;BNB&quot;</td><td>2025-08-01 09:00:00</td><td>1s 191853µs</td><td>768.270433</td><td>769.60263</td><td>0.001734</td></tr><tr><td>&quot;SHIB&quot;</td><td>2025-08-01 09:00:00</td><td>6s 436199µs</td><td>0.000012</td><td>0.000012</td><td>0.002999</td></tr></tbody></table></div>"
      ],
      "text/plain": [
       "shape: (5, 6)\n",
       "┌─────────┬─────────────────────┬───────────────────────┬───────────────┬───────────────┬──────────┐\n",
       "│ symbol  ┆ times               ┆ max_tick_to_query_lag ┆ start_fair    ┆ end_fair      ┆ return   │\n",
       "│ ---     ┆ ---                 ┆ ---                   ┆ ---           ┆ ---           ┆ ---      │\n",
       "│ enum    ┆ datetime[μs]        ┆ duration[μs]          ┆ f64           ┆ f64           ┆ f64      │\n",
       "╞═════════╪═════════════════════╪═══════════════════════╪═══════════════╪═══════════════╪══════════╡\n",
       "│ BTC     ┆ 2025-08-01 09:00:00 ┆ 154216µs              ┆ 114733.002664 ┆ 114965.474546 ┆ 0.002026 │\n",
       "│ ETH     ┆ 2025-08-01 09:00:00 ┆ 677388µs              ┆ 3618.49958    ┆ 3625.498517   ┆ 0.001934 │\n",
       "│ BTCDOWN ┆ 2025-08-01 09:00:00 ┆ null                  ┆ null          ┆ null          ┆ null     │\n",
       "│ BNB     ┆ 2025-08-01 09:00:00 ┆ 1s 191853µs           ┆ 768.270433    ┆ 769.60263     ┆ 0.001734 │\n",
       "│ SHIB    ┆ 2025-08-01 09:00:00 ┆ 6s 436199µs           ┆ 0.000012      ┆ 0.000012      ┆ 0.002999 │\n",
       "└─────────┴─────────────────────┴───────────────────────┴───────────────┴───────────────┴──────────┘"
      ]
     },
     "execution_count": 1,
     "metadata": {},
     "output_type": "execute_result"
    }
   ],
   "source": [
    "import mnemosyne as ms\n",
    "from mnemosyne.engines import ReturnsEngine \n",
    "from datetime import datetime as Datetime\n",
    "import polars as pl\n",
    "from pathlib import Path\n",
    "from datetime import date as Date\n",
    "\n",
    "symbol_enum = pl.Enum(['BTC', 'ETH', 'BTCDOWN', 'BNB', 'SHIB'])\n",
    "\n",
    "query_lf = pl.DataFrame({\n",
    "    'symbol': ['BTC', 'ETH', 'BTCDOWN', 'BNB', 'SHIB'], \n",
    "    'times': [Datetime(2025, 8, 1, 9, 0, 0)] * 5\n",
    "}).with_columns(pl.col('symbol').cast(symbol_enum)).lazy()\n",
    "\n",
    "backend_db = ms.binance.BinanceLastTradesGrid(\n",
    "            peg_symbol='USDT', \n",
    "            grid_interval='10m', \n",
    "            dataset_type=ms.DatasetType.BinanceSpotTrades, \n",
    "        ).lazyframe()\n",
    "\n",
    "re = ReturnsEngine(\n",
    "    backend_db, \n",
    "    backend_fair_expr = pl.col('vwap_total_by_base'), \n",
    "    backend_time_expr = pl.col('last_trade_time')\n",
    ")\n",
    "\n",
    "value = re.query(query_lf, \n",
    "    start_time_expr = pl.col('times'), \n",
    "    mark_duration=pl.lit('10m'), \n",
    "    tick_lag_tolerance=pl.lit('30s'), \n",
    "    verbose_debug=False\n",
    ")\n",
    "value.collect()"
   ]
  },
  {
   "cell_type": "markdown",
   "id": "a3b8a936",
   "metadata": {},
   "source": [
    "# Collect 10m-gridded data"
   ]
  },
  {
   "cell_type": "code",
   "execution_count": 2,
   "id": "f64e8a43",
   "metadata": {},
   "outputs": [],
   "source": [
    "save_root = Path('~/Documents/binance_gridded_returns')\n",
    "\n",
    "pivot_dates = [\n",
    "    Date(2022, 9, 1),\n",
    "    Date(2023, 6, 1),\n",
    "    Date(2024, 3, 1),\n",
    "    Date(2025, 1, 1), \n",
    "    Date(2026, 1, 1)\n",
    "]"
   ]
  },
  {
   "cell_type": "code",
   "execution_count": 3,
   "id": "17d99f55",
   "metadata": {},
   "outputs": [],
   "source": [
    "query_lf = ms.binance.BinanceLastTradesGrid(\n",
    "    peg_symbol='USDT',\n",
    "    grid_interval='10m',\n",
    "    dataset_type=ms.DatasetType.BinanceSpotTrades, \n",
    ").lazyframe()\n",
    "\n",
    "backend_db = ms.binance.BinanceLastTradesGrid(\n",
    "            peg_symbol='USDT', \n",
    "            grid_interval='4s', \n",
    "            dataset_type=ms.DatasetType.BinanceSpotTrades, \n",
    "        ).lazyframe()\n",
    "\n",
    "re = ReturnsEngine(\n",
    "    backend_db, \n",
    "    backend_fair_expr = pl.col('vwap_total_by_base'), \n",
    "    backend_time_expr = pl.col('last_trade_time')\n",
    ")\n",
    "\n",
    "value = re.query(query_lf, \n",
    "    start_time_expr = pl.col('time'), \n",
    "    mark_duration=pl.lit('10m'), \n",
    "    tick_lag_tolerance=pl.lit('30s')\n",
    ")\n",
    "# value.sink_parquet(save_root / 'binance_spot_10m_grid_mark10m.parquet', compression='brotli')"
   ]
  },
  {
   "cell_type": "code",
   "execution_count": null,
   "id": "751f6dda",
   "metadata": {},
   "outputs": [],
   "source": [
    "lf = pl.scan_parquet(\n",
    "    save_root / 'binance_spot_10m_grid_mark10m.parquet'\n",
    ").drop('start_fair', 'end_fair', 'start_tick_time', 'end_tick_time', 'start_query_time', 'end_query_time')\n",
    "for j in range(len(pivot_dates) - 1):\n",
    "    (\n",
    "        lf.filter(pl.col('date').is_between(pivot_dates[j], pivot_dates[j+1], closed='left'))\n",
    "        .sink_parquet(save_root / f'binance_spot_10m_grid_mark10m_{j}.parquet', compression='brotli')\n",
    "    )"
   ]
  },
  {
   "cell_type": "code",
   "execution_count": 12,
   "id": "053337b4",
   "metadata": {},
   "outputs": [],
   "source": [
    "qdb = ms.binance.BinanceLastTradesGrid(\n",
    "    peg_symbol='USDT',\n",
    "    grid_interval='10m',\n",
    "    dataset_type=ms.DatasetType.BinanceUmPerpTrades, \n",
    ")"
   ]
  },
  {
   "cell_type": "code",
   "execution_count": 36,
   "id": "9558d54b",
   "metadata": {},
   "outputs": [],
   "source": [
    "from datetime import datetime as Datetime, date as Date"
   ]
  },
  {
   "cell_type": "code",
   "execution_count": null,
   "id": "58abc9a1",
   "metadata": {},
   "outputs": [],
   "source": [
    "lossless_path = Path(ms.DatasetType.BinanceUmPerpTrades.hive_path(peg_symbol='USDT'))\n",
    "qdb = pl.scan_parquet(lossless_path / '**/data.parquet', hive_partitioning=True).filter(pl.col('date') >= Date(2025, 1, 1))\n",
    "qdb.tail(5).collect()"
   ]
  },
  {
   "cell_type": "code",
   "execution_count": null,
   "id": "ff310163",
   "metadata": {},
   "outputs": [
    {
     "data": {
      "text/html": [
       "<div><style>\n",
       ".dataframe > thead > tr,\n",
       ".dataframe > tbody > tr {\n",
       "  text-align: right;\n",
       "  white-space: pre-wrap;\n",
       "}\n",
       "</style>\n",
       "<small>shape: (5, 9)</small><table border=\"1\" class=\"dataframe\"><thead><tr><th>id</th><th>price</th><th>qty</th><th>quote_qty</th><th>time</th><th>is_buyer_maker</th><th>peg_symbol</th><th>date</th><th>symbol</th></tr><tr><td>i64</td><td>f64</td><td>f64</td><td>f64</td><td>datetime[μs]</td><td>bool</td><td>str</td><td>date</td><td>str</td></tr></thead><tbody><tr><td>429417379</td><td>0.033373</td><td>1747.0</td><td>58.302631</td><td>2022-01-01 00:00:03.669</td><td>true</td><td>&quot;USDT&quot;</td><td>2022-01-01</td><td>&quot;1000SHIB&quot;</td></tr><tr><td>429417380</td><td>0.033373</td><td>16075.0</td><td>536.470975</td><td>2022-01-01 00:00:03.669</td><td>true</td><td>&quot;USDT&quot;</td><td>2022-01-01</td><td>&quot;1000SHIB&quot;</td></tr><tr><td>429417381</td><td>0.033373</td><td>2861.0</td><td>95.480153</td><td>2022-01-01 00:00:03.669</td><td>true</td><td>&quot;USDT&quot;</td><td>2022-01-01</td><td>&quot;1000SHIB&quot;</td></tr><tr><td>429417382</td><td>0.03337</td><td>9088.0</td><td>303.26656</td><td>2022-01-01 00:00:03.669</td><td>true</td><td>&quot;USDT&quot;</td><td>2022-01-01</td><td>&quot;1000SHIB&quot;</td></tr><tr><td>429417383</td><td>0.03337</td><td>3015.0</td><td>100.61055</td><td>2022-01-01 00:00:03.669</td><td>true</td><td>&quot;USDT&quot;</td><td>2022-01-01</td><td>&quot;1000SHIB&quot;</td></tr></tbody></table></div>"
      ],
      "text/plain": [
       "shape: (5, 9)\n",
       "┌───────────┬──────────┬─────────┬────────────┬───┬────────────┬────────────┬───────────┬──────────┐\n",
       "│ id        ┆ price    ┆ qty     ┆ quote_qty  ┆ … ┆ is_buyer_m ┆ peg_symbol ┆ date      ┆ symbol   │\n",
       "│ ---       ┆ ---      ┆ ---     ┆ ---        ┆   ┆ aker       ┆ ---        ┆ ---       ┆ ---      │\n",
       "│ i64       ┆ f64      ┆ f64     ┆ f64        ┆   ┆ ---        ┆ str        ┆ date      ┆ str      │\n",
       "│           ┆          ┆         ┆            ┆   ┆ bool       ┆            ┆           ┆          │\n",
       "╞═══════════╪══════════╪═════════╪════════════╪═══╪════════════╪════════════╪═══════════╪══════════╡\n",
       "│ 429417379 ┆ 0.033373 ┆ 1747.0  ┆ 58.302631  ┆ … ┆ true       ┆ USDT       ┆ 2022-01-0 ┆ 1000SHIB │\n",
       "│           ┆          ┆         ┆            ┆   ┆            ┆            ┆ 1         ┆          │\n",
       "│ 429417380 ┆ 0.033373 ┆ 16075.0 ┆ 536.470975 ┆ … ┆ true       ┆ USDT       ┆ 2022-01-0 ┆ 1000SHIB │\n",
       "│           ┆          ┆         ┆            ┆   ┆            ┆            ┆ 1         ┆          │\n",
       "│ 429417381 ┆ 0.033373 ┆ 2861.0  ┆ 95.480153  ┆ … ┆ true       ┆ USDT       ┆ 2022-01-0 ┆ 1000SHIB │\n",
       "│           ┆          ┆         ┆            ┆   ┆            ┆            ┆ 1         ┆          │\n",
       "│ 429417382 ┆ 0.03337  ┆ 9088.0  ┆ 303.26656  ┆ … ┆ true       ┆ USDT       ┆ 2022-01-0 ┆ 1000SHIB │\n",
       "│           ┆          ┆         ┆            ┆   ┆            ┆            ┆ 1         ┆          │\n",
       "│ 429417383 ┆ 0.03337  ┆ 3015.0  ┆ 100.61055  ┆ … ┆ true       ┆ USDT       ┆ 2022-01-0 ┆ 1000SHIB │\n",
       "│           ┆          ┆         ┆            ┆   ┆            ┆            ┆ 1         ┆          │\n",
       "└───────────┴──────────┴─────────┴────────────┴───┴────────────┴────────────┴───────────┴──────────┘"
      ]
     },
     "execution_count": 35,
     "metadata": {},
     "output_type": "execute_result"
    }
   ],
   "source": [
    "qdb.head(5).collect()"
   ]
  },
  {
   "cell_type": "code",
   "execution_count": 19,
   "id": "25fd7040",
   "metadata": {},
   "outputs": [
    {
     "name": "stdout",
     "output_type": "stream",
     "text": [
      "'peg_symbol=USDC'  'peg_symbol=USDT'\n"
     ]
    }
   ],
   "source": [
    "!ls /bigdata/mnemosyne/binance/lossless/futures/um/last_trade/"
   ]
  },
  {
   "cell_type": "code",
   "execution_count": 16,
   "id": "6f32567a",
   "metadata": {},
   "outputs": [
    {
     "data": {
      "text/plain": [
       "'/bigdata/mnemosyne/binance/lossless/futures/um/last_trade/peg_symbol=USDT'"
      ]
     },
     "execution_count": 16,
     "metadata": {},
     "output_type": "execute_result"
    }
   ],
   "source": [
    "ms.DatasetType.BinanceUmPerpTrades.hive_path(peg_symbol='USDT')"
   ]
  },
  {
   "cell_type": "code",
   "execution_count": 13,
   "id": "fbcd5d03",
   "metadata": {},
   "outputs": [
    {
     "data": {
      "text/plain": [
       "['BinanceSpotTrades',\n",
       " 'BinanceUmPerpTrades',\n",
       " 'HyperliquidPerpL2',\n",
       " 'HyperliquidPerpTrades',\n",
       " '__class__',\n",
       " '__delattr__',\n",
       " '__dir__',\n",
       " '__doc__',\n",
       " '__eq__',\n",
       " '__format__',\n",
       " '__ge__',\n",
       " '__getattribute__',\n",
       " '__getstate__',\n",
       " '__gt__',\n",
       " '__hash__',\n",
       " '__init__',\n",
       " '__init_subclass__',\n",
       " '__int__',\n",
       " '__le__',\n",
       " '__lt__',\n",
       " '__module__',\n",
       " '__ne__',\n",
       " '__new__',\n",
       " '__reduce__',\n",
       " '__reduce_ex__',\n",
       " '__repr__',\n",
       " '__setattr__',\n",
       " '__sizeof__',\n",
       " '__str__',\n",
       " '__subclasshook__',\n",
       " 'grid_hive_path',\n",
       " 'hive_path',\n",
       " 'raw_data_path']"
      ]
     },
     "execution_count": 13,
     "metadata": {},
     "output_type": "execute_result"
    }
   ],
   "source": [
    "dir(ms.DatasetType.BinanceUmPerpTrades)"
   ]
  },
  {
   "cell_type": "code",
   "execution_count": 4,
   "id": "6b439b7c",
   "metadata": {},
   "outputs": [],
   "source": [
    "query_lf = ms.binance.BinanceLastTradesGrid(\n",
    "    peg_symbol='USDT',\n",
    "    grid_interval='10m',\n",
    "    dataset_type=ms.DatasetType.BinanceUmPerpTrades, \n",
    ").lazyframe()\n",
    "\n",
    "backend_db = ms.binance.BinanceLastTradesGrid(\n",
    "            peg_symbol='USDT', \n",
    "            grid_interval='4s', \n",
    "            dataset_type=ms.DatasetType.BinanceUmPerpTrades, \n",
    "        ).lazyframe()\n",
    "\n",
    "re = ReturnsEngine(\n",
    "    backend_db, \n",
    "    backend_fair_expr = pl.col('vwap_total_by_base'), \n",
    "    backend_time_expr = pl.col('last_trade_time')\n",
    ")\n",
    "\n",
    "value = re.query(query_lf, \n",
    "    start_time_expr = pl.col('time'), \n",
    "    mark_duration=pl.lit('10m'), \n",
    "    tick_lag_tolerance=pl.lit('30s')\n",
    ")\n",
    "# value.sink_parquet(save_root / 'binance_futures_10m_grid_mark10m.parquet', compression='brotli')"
   ]
  },
  {
   "cell_type": "code",
   "execution_count": 23,
   "id": "fda83956",
   "metadata": {},
   "outputs": [],
   "source": [
    "lf = pl.scan_parquet(\n",
    "    save_root / 'binance_futures_10m_grid_mark10m.parquet'\n",
    ").drop('start_fair', 'end_fair', 'start_tick_time', 'end_tick_time', 'start_query_time', 'end_query_time')\n",
    "for j in range(len(pivot_dates) - 1):\n",
    "    (\n",
    "        lf.filter(pl.col('date').is_between(pivot_dates[j], pivot_dates[j+1], closed='left'))\n",
    "        .sink_parquet(save_root / f'binance_futures_10m_grid_mark10m_{j}.parquet', compression='brotli')\n",
    "    )"
   ]
  },
  {
   "cell_type": "code",
   "execution_count": 6,
   "id": "92461905",
   "metadata": {},
   "outputs": [],
   "source": [
    "query_df = query_lf.collect()"
   ]
  },
  {
   "cell_type": "code",
   "execution_count": 8,
   "id": "ab7a2e06",
   "metadata": {},
   "outputs": [
    {
     "data": {
      "text/html": [
       "<div><style>\n",
       ".dataframe > thead > tr,\n",
       ".dataframe > tbody > tr {\n",
       "  text-align: right;\n",
       "  white-space: pre-wrap;\n",
       "}\n",
       "</style>\n",
       "<small>shape: (1, 1)</small><table border=\"1\" class=\"dataframe\"><thead><tr><th>len</th></tr><tr><td>u32</td></tr></thead><tbody><tr><td>10011433</td></tr></tbody></table></div>"
      ],
      "text/plain": [
       "shape: (1, 1)\n",
       "┌──────────┐\n",
       "│ len      │\n",
       "│ ---      │\n",
       "│ u32      │\n",
       "╞══════════╡\n",
       "│ 10011433 │\n",
       "└──────────┘"
      ]
     },
     "execution_count": 8,
     "metadata": {},
     "output_type": "execute_result"
    }
   ],
   "source": [
    "query_df.filter(pl.col('date').is_between(Date(2023, 1, 1), Date(2024, 1, 1))).select(pl.len())"
   ]
  },
  {
   "cell_type": "code",
   "execution_count": 9,
   "id": "cd0b580c",
   "metadata": {},
   "outputs": [
    {
     "data": {
      "text/html": [
       "<div><style>\n",
       ".dataframe > thead > tr,\n",
       ".dataframe > tbody > tr {\n",
       "  text-align: right;\n",
       "  white-space: pre-wrap;\n",
       "}\n",
       "</style>\n",
       "<small>shape: (1, 1)</small><table border=\"1\" class=\"dataframe\"><thead><tr><th>len</th></tr><tr><td>u32</td></tr></thead><tbody><tr><td>14577751</td></tr></tbody></table></div>"
      ],
      "text/plain": [
       "shape: (1, 1)\n",
       "┌──────────┐\n",
       "│ len      │\n",
       "│ ---      │\n",
       "│ u32      │\n",
       "╞══════════╡\n",
       "│ 14577751 │\n",
       "└──────────┘"
      ]
     },
     "execution_count": 9,
     "metadata": {},
     "output_type": "execute_result"
    }
   ],
   "source": [
    "query_df.filter(pl.col('date').is_between(Date(2024, 1, 1), Date(2025, 1, 1))).select(pl.len())"
   ]
  },
  {
   "cell_type": "code",
   "execution_count": 11,
   "id": "67c79dd8",
   "metadata": {},
   "outputs": [
    {
     "data": {
      "text/html": [
       "<div><style>\n",
       ".dataframe > thead > tr,\n",
       ".dataframe > tbody > tr {\n",
       "  text-align: right;\n",
       "  white-space: pre-wrap;\n",
       "}\n",
       "</style>\n",
       "<small>shape: (141_532, 17)</small><table border=\"1\" class=\"dataframe\"><thead><tr><th>symbol</th><th>date</th><th>time</th><th>peg_symbol</th><th>open</th><th>high</th><th>low</th><th>close</th><th>volume_base</th><th>volume_quote</th><th>trade_count</th><th>last_trade_time</th><th>taker_buy_volume_quote</th><th>taker_sell_volume_quote</th><th>vwap_taker_buy</th><th>vwap_taker_sell</th><th>vwap_total_by_base</th></tr><tr><td>enum</td><td>date</td><td>datetime[μs]</td><td>str</td><td>f64</td><td>f64</td><td>f64</td><td>f64</td><td>f64</td><td>f64</td><td>u32</td><td>datetime[μs]</td><td>f64</td><td>f64</td><td>f64</td><td>f64</td><td>f64</td></tr></thead><tbody><tr><td>&quot;AGLD&quot;</td><td>2025-01-01</td><td>1970-01-21 02:00:00</td><td>&quot;USDT&quot;</td><td>2.4282</td><td>2.5564</td><td>2.1448</td><td>2.5455</td><td>2.26478952e8</td><td>5.1920e8</td><td>2436437</td><td>1970-01-21 02:09:35.999999</td><td>2.6210e8</td><td>2.5710e8</td><td>2.296756</td><td>2.296941</td><td>2.292473</td></tr><tr><td>&quot;ANKR&quot;</td><td>2025-01-01</td><td>1970-01-21 02:00:00</td><td>&quot;USDT&quot;</td><td>0.03359</td><td>0.03549</td><td>0.03294</td><td>0.03538</td><td>1.4729798e8</td><td>5.0357e6</td><td>65464</td><td>1970-01-21 02:09:35.975050</td><td>2.6130e6</td><td>2.4227e6</td><td>0.03421</td><td>0.034187</td><td>0.034187</td></tr><tr><td>&quot;DOT&quot;</td><td>2025-01-01</td><td>1970-01-21 02:00:00</td><td>&quot;USDT&quot;</td><td>6.637</td><td>7.14</td><td>6.515</td><td>7.052</td><td>2.5994e7</td><td>1.7749e8</td><td>518902</td><td>1970-01-21 02:09:35.999935</td><td>8.9169e7</td><td>8.8321e7</td><td>6.836149</td><td>6.829809</td><td>6.827975</td></tr><tr><td>&quot;LIT&quot;</td><td>2025-01-01</td><td>1970-01-21 02:00:00</td><td>&quot;USDT&quot;</td><td>0.912</td><td>0.939</td><td>0.882</td><td>0.93</td><td>1.3988e7</td><td>1.2835e7</td><td>78369</td><td>1970-01-21 02:09:35.981491</td><td>6.5114e6</td><td>6.3240e6</td><td>0.917488</td><td>0.918088</td><td>0.917625</td></tr><tr><td>&quot;OMG&quot;</td><td>2025-01-01</td><td>1970-01-21 02:00:00</td><td>&quot;USDT&quot;</td><td>0.3235</td><td>0.3398</td><td>0.3194</td><td>0.3356</td><td>6.8406e6</td><td>2.2511e6</td><td>33019</td><td>1970-01-21 02:09:35.997395</td><td>1.0997e6</td><td>1.1515e6</td><td>0.329015</td><td>0.329286</td><td>0.329084</td></tr><tr><td>&hellip;</td><td>&hellip;</td><td>&hellip;</td><td>&hellip;</td><td>&hellip;</td><td>&hellip;</td><td>&hellip;</td><td>&hellip;</td><td>&hellip;</td><td>&hellip;</td><td>&hellip;</td><td>&hellip;</td><td>&hellip;</td><td>&hellip;</td><td>&hellip;</td><td>&hellip;</td><td>&hellip;</td></tr><tr><td>&quot;SAHARA&quot;</td><td>2025-10-22</td><td>1970-01-21 09:10:00</td><td>&quot;USDT&quot;</td><td>0.07415</td><td>0.07651</td><td>0.073</td><td>0.07468</td><td>1.77342133e8</td><td>1.3266e7</td><td>179262</td><td>1970-01-21 09:12:57.599654</td><td>6.6582e6</td><td>6.6080e6</td><td>0.074831</td><td>0.074797</td><td>0.074806</td></tr><tr><td>&quot;MERL&quot;</td><td>2025-10-22</td><td>1970-01-21 09:10:00</td><td>&quot;USDT&quot;</td><td>0.36075</td><td>0.36452</td><td>0.32863</td><td>0.33784</td><td>6.0191366e7</td><td>2.0991e7</td><td>430509</td><td>1970-01-21 09:12:57.597712</td><td>1.0222e7</td><td>1.0769e7</td><td>0.349334</td><td>0.348429</td><td>0.348737</td></tr><tr><td>&quot;PLAY&quot;</td><td>2025-10-22</td><td>1970-01-21 09:10:00</td><td>&quot;USDT&quot;</td><td>0.02655</td><td>0.02716</td><td>0.02561</td><td>0.02643</td><td>4.6664741e7</td><td>1.2374e6</td><td>71374</td><td>1970-01-21 09:12:57.598127</td><td>571756.95799</td><td>665596.77082</td><td>0.026528</td><td>0.026512</td><td>0.026516</td></tr><tr><td>&quot;RONIN&quot;</td><td>2025-10-22</td><td>1970-01-21 09:10:00</td><td>&quot;USDT&quot;</td><td>0.3703</td><td>0.3735</td><td>0.356</td><td>0.3654</td><td>2.9915e6</td><td>1.0973e6</td><td>21284</td><td>1970-01-21 09:12:57.589218</td><td>543071.05686</td><td>554182.90128</td><td>0.367057</td><td>0.36661</td><td>0.366788</td></tr><tr><td>&quot;RIF&quot;</td><td>2025-10-22</td><td>1970-01-21 09:10:00</td><td>&quot;USDT&quot;</td><td>0.04705</td><td>0.04771</td><td>0.0454</td><td>0.04675</td><td>2.3235546e7</td><td>1.0888e6</td><td>25866</td><td>1970-01-21 09:12:57.574753</td><td>552036.56457</td><td>536760.92578</td><td>0.046858</td><td>0.04687</td><td>0.046859</td></tr></tbody></table></div>"
      ],
      "text/plain": [
       "shape: (141_532, 17)\n",
       "┌────────┬────────────┬────────────┬───────────┬───┬───────────┬───────────┬───────────┬───────────┐\n",
       "│ symbol ┆ date       ┆ time       ┆ peg_symbo ┆ … ┆ taker_sel ┆ vwap_take ┆ vwap_take ┆ vwap_tota │\n",
       "│ ---    ┆ ---        ┆ ---        ┆ l         ┆   ┆ l_volume_ ┆ r_buy     ┆ r_sell    ┆ l_by_base │\n",
       "│ enum   ┆ date       ┆ datetime[μ ┆ ---       ┆   ┆ quote     ┆ ---       ┆ ---       ┆ ---       │\n",
       "│        ┆            ┆ s]         ┆ str       ┆   ┆ ---       ┆ f64       ┆ f64       ┆ f64       │\n",
       "│        ┆            ┆            ┆           ┆   ┆ f64       ┆           ┆           ┆           │\n",
       "╞════════╪════════════╪════════════╪═══════════╪═══╪═══════════╪═══════════╪═══════════╪═══════════╡\n",
       "│ AGLD   ┆ 2025-01-01 ┆ 1970-01-21 ┆ USDT      ┆ … ┆ 2.5710e8  ┆ 2.296756  ┆ 2.296941  ┆ 2.292473  │\n",
       "│        ┆            ┆ 02:00:00   ┆           ┆   ┆           ┆           ┆           ┆           │\n",
       "│ ANKR   ┆ 2025-01-01 ┆ 1970-01-21 ┆ USDT      ┆ … ┆ 2.4227e6  ┆ 0.03421   ┆ 0.034187  ┆ 0.034187  │\n",
       "│        ┆            ┆ 02:00:00   ┆           ┆   ┆           ┆           ┆           ┆           │\n",
       "│ DOT    ┆ 2025-01-01 ┆ 1970-01-21 ┆ USDT      ┆ … ┆ 8.8321e7  ┆ 6.836149  ┆ 6.829809  ┆ 6.827975  │\n",
       "│        ┆            ┆ 02:00:00   ┆           ┆   ┆           ┆           ┆           ┆           │\n",
       "│ LIT    ┆ 2025-01-01 ┆ 1970-01-21 ┆ USDT      ┆ … ┆ 6.3240e6  ┆ 0.917488  ┆ 0.918088  ┆ 0.917625  │\n",
       "│        ┆            ┆ 02:00:00   ┆           ┆   ┆           ┆           ┆           ┆           │\n",
       "│ OMG    ┆ 2025-01-01 ┆ 1970-01-21 ┆ USDT      ┆ … ┆ 1.1515e6  ┆ 0.329015  ┆ 0.329286  ┆ 0.329084  │\n",
       "│        ┆            ┆ 02:00:00   ┆           ┆   ┆           ┆           ┆           ┆           │\n",
       "│ …      ┆ …          ┆ …          ┆ …         ┆ … ┆ …         ┆ …         ┆ …         ┆ …         │\n",
       "│ SAHARA ┆ 2025-10-22 ┆ 1970-01-21 ┆ USDT      ┆ … ┆ 6.6080e6  ┆ 0.074831  ┆ 0.074797  ┆ 0.074806  │\n",
       "│        ┆            ┆ 09:10:00   ┆           ┆   ┆           ┆           ┆           ┆           │\n",
       "│ MERL   ┆ 2025-10-22 ┆ 1970-01-21 ┆ USDT      ┆ … ┆ 1.0769e7  ┆ 0.349334  ┆ 0.348429  ┆ 0.348737  │\n",
       "│        ┆            ┆ 09:10:00   ┆           ┆   ┆           ┆           ┆           ┆           │\n",
       "│ PLAY   ┆ 2025-10-22 ┆ 1970-01-21 ┆ USDT      ┆ … ┆ 665596.77 ┆ 0.026528  ┆ 0.026512  ┆ 0.026516  │\n",
       "│        ┆            ┆ 09:10:00   ┆           ┆   ┆ 082       ┆           ┆           ┆           │\n",
       "│ RONIN  ┆ 2025-10-22 ┆ 1970-01-21 ┆ USDT      ┆ … ┆ 554182.90 ┆ 0.367057  ┆ 0.36661   ┆ 0.366788  │\n",
       "│        ┆            ┆ 09:10:00   ┆           ┆   ┆ 128       ┆           ┆           ┆           │\n",
       "│ RIF    ┆ 2025-10-22 ┆ 1970-01-21 ┆ USDT      ┆ … ┆ 536760.92 ┆ 0.046858  ┆ 0.04687   ┆ 0.046859  │\n",
       "│        ┆            ┆ 09:10:00   ┆           ┆   ┆ 578       ┆           ┆           ┆           │\n",
       "└────────┴────────────┴────────────┴───────────┴───┴───────────┴───────────┴───────────┴───────────┘"
      ]
     },
     "execution_count": 11,
     "metadata": {},
     "output_type": "execute_result"
    }
   ],
   "source": [
    "query_df.filter(pl.col('date').is_between(Date(2025, 1, 1), Date(2025, 11, 1)))"
   ]
  },
  {
   "cell_type": "code",
   "execution_count": null,
   "id": "ac26deb0",
   "metadata": {},
   "outputs": [],
   "source": []
  }
 ],
 "metadata": {
  "kernelspec": {
   "display_name": "midas",
   "language": "python",
   "name": "midas"
  },
  "language_info": {
   "codemirror_mode": {
    "name": "ipython",
    "version": 3
   },
   "file_extension": ".py",
   "mimetype": "text/x-python",
   "name": "python",
   "nbconvert_exporter": "python",
   "pygments_lexer": "ipython3",
   "version": "3.12.3"
  }
 },
 "nbformat": 4,
 "nbformat_minor": 5
}
