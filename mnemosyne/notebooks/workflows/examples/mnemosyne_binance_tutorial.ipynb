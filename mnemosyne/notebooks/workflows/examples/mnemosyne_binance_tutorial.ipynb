{
 "cells": [
  {
   "cell_type": "code",
   "execution_count": 1,
   "id": "3df23827",
   "metadata": {},
   "outputs": [],
   "source": [
    "import mnemosyne as ms\n",
    "from datetime import datetime as Datetime, date as Date\n",
    "from timedelta_isoformat import timedelta as Timedelta # Import this particular timedelta! Supports proper to-string\n",
    "import polars as pl\n",
    "from datetime import date as Date"
   ]
  },
  {
   "cell_type": "markdown",
   "id": "777118ee",
   "metadata": {},
   "source": [
    "# TLDR: I just want to work with research dataset"
   ]
  },
  {
   "cell_type": "code",
   "execution_count": 2,
   "id": "8858a64a",
   "metadata": {},
   "outputs": [
    {
     "data": {
      "text/html": [
       "<div><style>\n",
       ".dataframe > thead > tr,\n",
       ".dataframe > tbody > tr {\n",
       "  text-align: right;\n",
       "  white-space: pre-wrap;\n",
       "}\n",
       "</style>\n",
       "<small>shape: (73_397_651, 64)</small><table border=\"1\" class=\"dataframe\"><thead><tr><th>symbol</th><th>date</th><th>time</th><th>peg_symbol</th><th>open</th><th>high</th><th>low</th><th>close</th><th>volume</th><th>trade_count</th><th>last_event_time</th><th>taker_buy_volume</th><th>taker_sell_volume</th><th>vwap_taker_buy</th><th>vwap_taker_sell</th><th>vwap_price</th><th>return_m10m_to_now</th><th>return_m12h_to_now</th><th>return_m1d_to_now</th><th>return_m1h_to_now</th><th>return_m1m_to_now</th><th>return_m20m_to_now</th><th>return_m2h_to_now</th><th>return_m2m_to_now</th><th>return_m30m_to_now</th><th>return_m3h_to_now</th><th>return_m5m_to_now</th><th>return_m6h_to_now</th><th>return_now_to_p1m</th><th>return_now_to_p2m</th><th>return_now_to_p5m</th><th>return_now_to_p10m</th><th>return_now_to_p20m</th><th>return_now_to_p30m</th><th>return_now_to_p1h</th><th>return_now_to_p2h</th><th>return_now_to_p3h</th><th>return_now_to_p6h</th><th>return_now_to_p12h</th><th>return_now_to_p1d</th><th>return_p1m_to_p11m</th><th>return_p1m_to_p2m</th><th>return_p1m_to_p3m</th><th>return_p1m_to_p6m</th><th>date_right</th><th>last_event_time_right</th><th>liquidity_1d</th><th>sqrtliq_1d</th><th>excess_buy_ratio_1d</th><th>trade_count_1d</th><th>liquidity_7d</th><th>sqrtliq_7d</th><th>excess_buy_ratio_7d</th><th>trade_count_7d</th><th>daily_returns_drift_7d_lookback</th><th>daily_vol_7d_lookback</th><th>vol_ssize_7d_lookback</th><th>daily_returns_drift_30d_lookback</th><th>daily_vol_30d_lookback</th><th>vol_ssize_30d_lookback</th><th>liquidity_1d_q</th><th>liquidity_7d_q</th><th>daily_vol_7d_lookback_q</th><th>daily_vol_30d_lookback_q</th></tr><tr><td>enum</td><td>date</td><td>datetime[μs]</td><td>str</td><td>f64</td><td>f64</td><td>f64</td><td>f64</td><td>f64</td><td>u64</td><td>datetime[μs]</td><td>f64</td><td>f64</td><td>f64</td><td>f64</td><td>f64</td><td>f64</td><td>f64</td><td>f64</td><td>f64</td><td>f64</td><td>f64</td><td>f64</td><td>f64</td><td>f64</td><td>f64</td><td>f64</td><td>f64</td><td>f64</td><td>f64</td><td>f64</td><td>f64</td><td>f64</td><td>f64</td><td>f64</td><td>f64</td><td>f64</td><td>f64</td><td>f64</td><td>f64</td><td>f64</td><td>f64</td><td>f64</td><td>f64</td><td>date</td><td>datetime[μs]</td><td>f64</td><td>f64</td><td>f64</td><td>u64</td><td>f64</td><td>f64</td><td>f64</td><td>u64</td><td>f64</td><td>f64</td><td>u64</td><td>f64</td><td>f64</td><td>u64</td><td>f64</td><td>f64</td><td>f64</td><td>f64</td></tr></thead><tbody><tr><td>&quot;1INCH&quot;</td><td>2022-01-01</td><td>2022-01-01 00:10:00</td><td>&quot;USDT&quot;</td><td>2.391</td><td>2.407</td><td>2.391</td><td>2.4</td><td>50297.5</td><td>562</td><td>2022-01-01 00:09:59.897</td><td>32070.7</td><td>18226.8</td><td>2.400687</td><td>2.401023</td><td>2.400809</td><td>null</td><td>null</td><td>null</td><td>null</td><td>0.0</td><td>null</td><td>null</td><td>-0.001248</td><td>null</td><td>null</td><td>-0.000134</td><td>null</td><td>0.000417</td><td>-0.002083</td><td>-0.000417</td><td>-0.001667</td><td>0.000595</td><td>0.004167</td><td>0.008333</td><td>0.013742</td><td>0.015417</td><td>0.014799</td><td>0.01125</td><td>0.048496</td><td>-0.000833</td><td>-0.002499</td><td>-0.002499</td><td>-0.000833</td><td>null</td><td>null</td><td>null</td><td>null</td><td>null</td><td>null</td><td>null</td><td>null</td><td>null</td><td>null</td><td>null</td><td>null</td><td>null</td><td>null</td><td>null</td><td>null</td><td>null</td><td>null</td><td>null</td><td>null</td></tr><tr><td>&quot;AAVE&quot;</td><td>2022-01-01</td><td>2022-01-01 00:10:00</td><td>&quot;USDT&quot;</td><td>253.9</td><td>257.6</td><td>253.8</td><td>257.0</td><td>2265.003</td><td>1899</td><td>2022-01-01 00:09:54.945</td><td>1363.131</td><td>901.872</td><td>256.08445</td><td>256.018935</td><td>256.058363</td><td>null</td><td>null</td><td>null</td><td>null</td><td>-2.2118e-16</td><td>null</td><td>null</td><td>-0.000778</td><td>null</td><td>null</td><td>0.00425</td><td>null</td><td>2.2118e-16</td><td>-0.002724</td><td>-0.001552</td><td>-0.003694</td><td>0.000778</td><td>0.007782</td><td>0.020623</td><td>0.015175</td><td>0.011284</td><td>0.018176</td><td>-0.02179</td><td>0.029572</td><td>-0.003113</td><td>-0.002724</td><td>-0.003502</td><td>-0.001946</td><td>null</td><td>null</td><td>null</td><td>null</td><td>null</td><td>null</td><td>null</td><td>null</td><td>null</td><td>null</td><td>null</td><td>null</td><td>null</td><td>null</td><td>null</td><td>null</td><td>null</td><td>null</td><td>null</td><td>null</td></tr><tr><td>&quot;ACM&quot;</td><td>2022-01-01</td><td>2022-01-01 00:10:00</td><td>&quot;USDT&quot;</td><td>5.007</td><td>5.044</td><td>5.006</td><td>5.026</td><td>384.7</td><td>10</td><td>2022-01-01 00:08:04.213</td><td>332.6</td><td>52.1</td><td>5.041531</td><td>5.023697</td><td>5.039115</td><td>null</td><td>null</td><td>null</td><td>null</td><td>0.0</td><td>null</td><td>null</td><td>-0.003081</td><td>null</td><td>null</td><td>0.003795</td><td>null</td><td>0.0</td><td>0.0</td><td>0.0</td><td>0.001525</td><td>0.003979</td><td>0.005491</td><td>0.003746</td><td>0.010147</td><td>0.006388</td><td>0.019499</td><td>0.032232</td><td>0.035615</td><td>0.001525</td><td>0.0</td><td>0.0</td><td>0.0</td><td>null</td><td>null</td><td>null</td><td>null</td><td>null</td><td>null</td><td>null</td><td>null</td><td>null</td><td>null</td><td>null</td><td>null</td><td>null</td><td>null</td><td>null</td><td>null</td><td>null</td><td>null</td><td>null</td><td>null</td></tr><tr><td>&quot;ADA&quot;</td><td>2022-01-01</td><td>2022-01-01 00:10:00</td><td>&quot;USDT&quot;</td><td>1.308</td><td>1.32</td><td>1.307</td><td>1.316</td><td>1.5076e6</td><td>1995</td><td>2022-01-01 00:09:57.441</td><td>936582.3</td><td>571028.5</td><td>1.315078</td><td>1.315597</td><td>1.315274</td><td>null</td><td>null</td><td>null</td><td>null</td><td>-0.000759</td><td>null</td><td>null</td><td>-0.001517</td><td>null</td><td>null</td><td>0.001502</td><td>null</td><td>0.00076</td><td>0.0</td><td>0.00076</td><td>0.00076</td><td>0.002989</td><td>0.006839</td><td>0.008359</td><td>0.012918</td><td>0.0073</td><td>0.006839</td><td>0.005074</td><td>0.042564</td><td>0.000518</td><td>-0.000759</td><td>-0.001519</td><td>0.000759</td><td>null</td><td>null</td><td>null</td><td>null</td><td>null</td><td>null</td><td>null</td><td>null</td><td>null</td><td>null</td><td>null</td><td>null</td><td>null</td><td>null</td><td>null</td><td>null</td><td>null</td><td>null</td><td>null</td><td>null</td></tr><tr><td>&quot;ADADOWN&quot;</td><td>2022-01-01</td><td>2022-01-01 00:10:00</td><td>&quot;USDT&quot;</td><td>0.006249</td><td>0.006264</td><td>0.006142</td><td>0.006191</td><td>3.9720e6</td><td>113</td><td>2022-01-01 00:09:59.166</td><td>1.3302e6</td><td>2.6418e6</td><td>0.006193</td><td>0.006208</td><td>0.006203</td><td>null</td><td>null</td><td>null</td><td>null</td><td>0.00065</td><td>null</td><td>null</td><td>0.002595</td><td>null</td><td>null</td><td>-0.001932</td><td>null</td><td>-0.000488</td><td>0.000481</td><td>-0.000003</td><td>0.001536</td><td>-0.010666</td><td>-0.014503</td><td>-0.017564</td><td>-0.02569</td><td>-0.014058</td><td>-0.012507</td><td>-0.011312</td><td>-0.083363</td><td>-0.000647</td><td>0.00097</td><td>0.001778</td><td>-0.000485</td><td>null</td><td>null</td><td>null</td><td>null</td><td>null</td><td>null</td><td>null</td><td>null</td><td>null</td><td>null</td><td>null</td><td>null</td><td>null</td><td>null</td><td>null</td><td>null</td><td>null</td><td>null</td><td>null</td><td>null</td></tr><tr><td>&hellip;</td><td>&hellip;</td><td>&hellip;</td><td>&hellip;</td><td>&hellip;</td><td>&hellip;</td><td>&hellip;</td><td>&hellip;</td><td>&hellip;</td><td>&hellip;</td><td>&hellip;</td><td>&hellip;</td><td>&hellip;</td><td>&hellip;</td><td>&hellip;</td><td>&hellip;</td><td>&hellip;</td><td>&hellip;</td><td>&hellip;</td><td>&hellip;</td><td>&hellip;</td><td>&hellip;</td><td>&hellip;</td><td>&hellip;</td><td>&hellip;</td><td>&hellip;</td><td>&hellip;</td><td>&hellip;</td><td>&hellip;</td><td>&hellip;</td><td>&hellip;</td><td>&hellip;</td><td>&hellip;</td><td>&hellip;</td><td>&hellip;</td><td>&hellip;</td><td>&hellip;</td><td>&hellip;</td><td>&hellip;</td><td>&hellip;</td><td>&hellip;</td><td>&hellip;</td><td>&hellip;</td><td>&hellip;</td><td>&hellip;</td><td>&hellip;</td><td>&hellip;</td><td>&hellip;</td><td>&hellip;</td><td>&hellip;</td><td>&hellip;</td><td>&hellip;</td><td>&hellip;</td><td>&hellip;</td><td>&hellip;</td><td>&hellip;</td><td>&hellip;</td><td>&hellip;</td><td>&hellip;</td><td>&hellip;</td><td>&hellip;</td><td>&hellip;</td><td>&hellip;</td><td>&hellip;</td></tr><tr><td>&quot;ZIL&quot;</td><td>2025-10-26</td><td>2025-10-27 00:00:00</td><td>&quot;USDT&quot;</td><td>0.00817</td><td>0.00817</td><td>0.00814</td><td>0.00815</td><td>275478.2</td><td>22</td><td>2025-10-26 23:59:47.181376</td><td>10601.4</td><td>264876.8</td><td>0.008167</td><td>0.008155</td><td>0.008155</td><td>-0.003667</td><td>0.008663</td><td>0.01875</td><td>-0.004884</td><td>0.001229</td><td>-0.003667</td><td>0.007417</td><td>-0.001225</td><td>-0.004884</td><td>0.011884</td><td>-0.002448</td><td>0.004932</td><td>0.0</td><td>0.0</td><td>0.0</td><td>null</td><td>null</td><td>null</td><td>null</td><td>null</td><td>null</td><td>null</td><td>null</td><td>null</td><td>null</td><td>0.0</td><td>0.0</td><td>0.0</td><td>2025-10-25</td><td>2025-10-25 22:59:00.557429</td><td>270439.226412</td><td>520.037716</td><td>-0.05143</td><td>3346</td><td>5.2521e6</td><td>2291.753007</td><td>-0.056588</td><td>48429</td><td>0.001034</td><td>0.036826</td><td>1006</td><td>-0.002537</td><td>0.095923</td><td>4318</td><td>0.197248</td><td>0.259174</td><td>0.176606</td><td>0.227064</td></tr><tr><td>&quot;ZK&quot;</td><td>2025-10-26</td><td>2025-10-27 00:00:00</td><td>&quot;USDT&quot;</td><td>0.03394</td><td>0.03394</td><td>0.03381</td><td>0.03386</td><td>569801.9</td><td>277</td><td>2025-10-26 23:59:57.575669</td><td>192949.8</td><td>376852.1</td><td>0.033868</td><td>0.033876</td><td>0.033873</td><td>-0.002018</td><td>0.011048</td><td>0.042488</td><td>-0.009362</td><td>0.001479</td><td>-0.005679</td><td>0.010143</td><td>0.001479</td><td>-0.007111</td><td>0.019856</td><td>0.000817</td><td>0.022961</td><td>0.0</td><td>0.0</td><td>0.0</td><td>null</td><td>null</td><td>null</td><td>null</td><td>null</td><td>null</td><td>null</td><td>null</td><td>null</td><td>null</td><td>0.0</td><td>0.0</td><td>0.0</td><td>2025-10-25</td><td>2025-10-25 22:59:56.311487</td><td>2.5689e6</td><td>1602.77598</td><td>-0.195551</td><td>34801</td><td>2.2556e7</td><td>4749.344816</td><td>-0.02946</td><td>370843</td><td>-0.013098</td><td>0.047775</td><td>1008</td><td>-0.001643</td><td>0.130784</td><td>4320</td><td>0.715596</td><td>0.649083</td><td>0.522936</td><td>0.522936</td></tr><tr><td>&quot;ZKC&quot;</td><td>2025-10-26</td><td>2025-10-27 00:00:00</td><td>&quot;USDT&quot;</td><td>0.2822</td><td>0.2835</td><td>0.2797</td><td>0.2804</td><td>693852.0</td><td>736</td><td>2025-10-26 23:59:57.928032</td><td>303224.4</td><td>390627.6</td><td>0.280813</td><td>0.280934</td><td>0.280881</td><td>-0.005724</td><td>0.032401</td><td>-0.009259</td><td>0.015206</td><td>0.000648</td><td>0.004658</td><td>0.028977</td><td>0.002335</td><td>-0.000713</td><td>0.035262</td><td>-0.003554</td><td>0.039674</td><td>0.0</td><td>0.0</td><td>0.0</td><td>null</td><td>null</td><td>null</td><td>null</td><td>null</td><td>null</td><td>null</td><td>null</td><td>null</td><td>null</td><td>0.0</td><td>0.0</td><td>0.0</td><td>2025-10-25</td><td>2025-10-25 22:59:34.905632</td><td>2.9469e7</td><td>5428.514357</td><td>0.045221</td><td>183142</td><td>8.7094e7</td><td>9332.409854</td><td>0.027025</td><td>603503</td><td>0.020618</td><td>0.095702</td><td>1008</td><td>-0.010035</td><td>0.146932</td><td>4320</td><td>0.951835</td><td>0.848624</td><td>0.942661</td><td>0.651376</td></tr><tr><td>&quot;ZRO&quot;</td><td>2025-10-26</td><td>2025-10-27 00:00:00</td><td>&quot;USDT&quot;</td><td>1.76</td><td>1.761</td><td>1.756</td><td>1.76</td><td>8930.1</td><td>194</td><td>2025-10-26 23:59:51.772326</td><td>5604.51</td><td>3325.59</td><td>1.758666</td><td>1.758942</td><td>1.758769</td><td>-1.2616e-16</td><td>-0.000568</td><td>0.022067</td><td>-0.003962</td><td>0.000569</td><td>-0.002268</td><td>0.00849</td><td>0.001138</td><td>-0.001702</td><td>0.008018</td><td>0.001707</td><td>0.004747</td><td>0.0</td><td>0.0</td><td>0.0</td><td>null</td><td>null</td><td>null</td><td>null</td><td>null</td><td>null</td><td>null</td><td>null</td><td>null</td><td>null</td><td>0.0</td><td>0.0</td><td>0.0</td><td>2025-10-25</td><td>2025-10-25 22:59:39.395200</td><td>1.8685e6</td><td>1366.942356</td><td>0.022491</td><td>20204</td><td>3.0424e7</td><td>5515.766088</td><td>0.018846</td><td>281127</td><td>0.00326</td><td>0.046854</td><td>1008</td><td>0.00102</td><td>0.115416</td><td>4320</td><td>0.633028</td><td>0.720183</td><td>0.497706</td><td>0.389908</td></tr><tr><td>&quot;ZRX&quot;</td><td>2025-10-26</td><td>2025-10-27 00:00:00</td><td>&quot;USDT&quot;</td><td>0.2005</td><td>0.2007</td><td>0.1999</td><td>0.2002</td><td>85014.0</td><td>101</td><td>2025-10-26 23:59:44.676149</td><td>53631.0</td><td>31383.0</td><td>0.200178</td><td>0.20039</td><td>0.200256</td><td>-0.00152</td><td>0.009581</td><td>0.017794</td><td>-0.005464</td><td>0.001</td><td>-0.003484</td><td>0.010601</td><td>0.00096</td><td>-0.003484</td><td>0.014698</td><td>0.0005</td><td>0.007549</td><td>0.0</td><td>0.0</td><td>0.0</td><td>null</td><td>null</td><td>null</td><td>null</td><td>null</td><td>null</td><td>null</td><td>null</td><td>null</td><td>null</td><td>0.0</td><td>0.0</td><td>0.0</td><td>2025-10-25</td><td>2025-10-25 22:59:59.576702</td><td>2.0236e6</td><td>1422.53589</td><td>-0.039378</td><td>5165</td><td>1.4506e7</td><td>3808.695005</td><td>-0.020455</td><td>40135</td><td>0.00003</td><td>0.036935</td><td>1008</td><td>0.000088</td><td>0.09211</td><td>4320</td><td>0.667431</td><td>0.550459</td><td>0.181193</td><td>0.201835</td></tr></tbody></table></div>"
      ],
      "text/plain": [
       "shape: (73_397_651, 64)\n",
       "┌─────────┬────────────┬───────────┬───────────┬───┬───────────┬───────────┬───────────┬───────────┐\n",
       "│ symbol  ┆ date       ┆ time      ┆ peg_symbo ┆ … ┆ liquidity ┆ liquidity ┆ daily_vol ┆ daily_vol │\n",
       "│ ---     ┆ ---        ┆ ---       ┆ l         ┆   ┆ _1d_q     ┆ _7d_q     ┆ _7d_lookb ┆ _30d_look │\n",
       "│ enum    ┆ date       ┆ datetime[ ┆ ---       ┆   ┆ ---       ┆ ---       ┆ ack_q     ┆ back_q    │\n",
       "│         ┆            ┆ μs]       ┆ str       ┆   ┆ f64       ┆ f64       ┆ ---       ┆ ---       │\n",
       "│         ┆            ┆           ┆           ┆   ┆           ┆           ┆ f64       ┆ f64       │\n",
       "╞═════════╪════════════╪═══════════╪═══════════╪═══╪═══════════╪═══════════╪═══════════╪═══════════╡\n",
       "│ 1INCH   ┆ 2022-01-01 ┆ 2022-01-0 ┆ USDT      ┆ … ┆ null      ┆ null      ┆ null      ┆ null      │\n",
       "│         ┆            ┆ 1         ┆           ┆   ┆           ┆           ┆           ┆           │\n",
       "│         ┆            ┆ 00:10:00  ┆           ┆   ┆           ┆           ┆           ┆           │\n",
       "│ AAVE    ┆ 2022-01-01 ┆ 2022-01-0 ┆ USDT      ┆ … ┆ null      ┆ null      ┆ null      ┆ null      │\n",
       "│         ┆            ┆ 1         ┆           ┆   ┆           ┆           ┆           ┆           │\n",
       "│         ┆            ┆ 00:10:00  ┆           ┆   ┆           ┆           ┆           ┆           │\n",
       "│ ACM     ┆ 2022-01-01 ┆ 2022-01-0 ┆ USDT      ┆ … ┆ null      ┆ null      ┆ null      ┆ null      │\n",
       "│         ┆            ┆ 1         ┆           ┆   ┆           ┆           ┆           ┆           │\n",
       "│         ┆            ┆ 00:10:00  ┆           ┆   ┆           ┆           ┆           ┆           │\n",
       "│ ADA     ┆ 2022-01-01 ┆ 2022-01-0 ┆ USDT      ┆ … ┆ null      ┆ null      ┆ null      ┆ null      │\n",
       "│         ┆            ┆ 1         ┆           ┆   ┆           ┆           ┆           ┆           │\n",
       "│         ┆            ┆ 00:10:00  ┆           ┆   ┆           ┆           ┆           ┆           │\n",
       "│ ADADOWN ┆ 2022-01-01 ┆ 2022-01-0 ┆ USDT      ┆ … ┆ null      ┆ null      ┆ null      ┆ null      │\n",
       "│         ┆            ┆ 1         ┆           ┆   ┆           ┆           ┆           ┆           │\n",
       "│         ┆            ┆ 00:10:00  ┆           ┆   ┆           ┆           ┆           ┆           │\n",
       "│ …       ┆ …          ┆ …         ┆ …         ┆ … ┆ …         ┆ …         ┆ …         ┆ …         │\n",
       "│ ZIL     ┆ 2025-10-26 ┆ 2025-10-2 ┆ USDT      ┆ … ┆ 0.197248  ┆ 0.259174  ┆ 0.176606  ┆ 0.227064  │\n",
       "│         ┆            ┆ 7         ┆           ┆   ┆           ┆           ┆           ┆           │\n",
       "│         ┆            ┆ 00:00:00  ┆           ┆   ┆           ┆           ┆           ┆           │\n",
       "│ ZK      ┆ 2025-10-26 ┆ 2025-10-2 ┆ USDT      ┆ … ┆ 0.715596  ┆ 0.649083  ┆ 0.522936  ┆ 0.522936  │\n",
       "│         ┆            ┆ 7         ┆           ┆   ┆           ┆           ┆           ┆           │\n",
       "│         ┆            ┆ 00:00:00  ┆           ┆   ┆           ┆           ┆           ┆           │\n",
       "│ ZKC     ┆ 2025-10-26 ┆ 2025-10-2 ┆ USDT      ┆ … ┆ 0.951835  ┆ 0.848624  ┆ 0.942661  ┆ 0.651376  │\n",
       "│         ┆            ┆ 7         ┆           ┆   ┆           ┆           ┆           ┆           │\n",
       "│         ┆            ┆ 00:00:00  ┆           ┆   ┆           ┆           ┆           ┆           │\n",
       "│ ZRO     ┆ 2025-10-26 ┆ 2025-10-2 ┆ USDT      ┆ … ┆ 0.633028  ┆ 0.720183  ┆ 0.497706  ┆ 0.389908  │\n",
       "│         ┆            ┆ 7         ┆           ┆   ┆           ┆           ┆           ┆           │\n",
       "│         ┆            ┆ 00:00:00  ┆           ┆   ┆           ┆           ┆           ┆           │\n",
       "│ ZRX     ┆ 2025-10-26 ┆ 2025-10-2 ┆ USDT      ┆ … ┆ 0.667431  ┆ 0.550459  ┆ 0.181193  ┆ 0.201835  │\n",
       "│         ┆            ┆ 7         ┆           ┆   ┆           ┆           ┆           ┆           │\n",
       "│         ┆            ┆ 00:00:00  ┆           ┆   ┆           ┆           ┆           ┆           │\n",
       "└─────────┴────────────┴───────────┴───────────┴───┴───────────┴───────────┴───────────┴───────────┘"
      ]
     },
     "execution_count": 2,
     "metadata": {},
     "output_type": "execute_result"
    }
   ],
   "source": [
    "brd = ms.binance.BinanceResearchDataset(\n",
    "    peg_symbol='USDT', dataset_type=ms.DatasetType.BinanceSpotTrades, \n",
    "    backend_grid_interval=Timedelta(seconds=5), \n",
    "    index_grid_interval=Timedelta(minutes=10), \n",
    ")\n",
    "brd.lazyframe().sort('time', 'symbol').collect()"
   ]
  },
  {
   "cell_type": "markdown",
   "id": "2c69848e",
   "metadata": {},
   "source": [
    "# Data flow\n",
    "\n",
    "`lossless` -> `gridded` -> (`returns_engine` and `metadata_engine`)\n",
    "\n",
    "1. `peg_symbol`: could be `USDC` (much less data) or `USDT`\n",
    "2. `dataset_type`: futures or spot\n",
    "2. `backend_grid_interval`: currently cached `5s` and `10m` grids. Granularity from lossless data\n",
    "\n",
    "All data are recorded from `2022-01-01` onwards to (roughly) today. Let's experiment with `10m` grids\n",
    "\n",
    "- 5-second gridded data is `~200G`"
   ]
  },
  {
   "cell_type": "code",
   "execution_count": 2,
   "id": "d41395b0",
   "metadata": {},
   "outputs": [],
   "source": [
    "dataset_type = ms.DatasetType.BinanceUmPerpTrades # ms.DatasetType.BinanceSpotTrades\n",
    "grid_interval = Timedelta(minutes=10) # Only 5s and 10m are precomputed and cached\n",
    "peg_symbol = 'USDT' # Good default\n",
    "\n",
    "# Two dates we'll inspect\n",
    "\n",
    "sample_dates = [Date(2024, 1, 1), Date(2024, 11, 27)]"
   ]
  },
  {
   "cell_type": "markdown",
   "id": "7b15ad07",
   "metadata": {},
   "source": [
    "All datasets inherit `ByDateDataset`, which support:\n",
    "\n",
    "1. `compute(recompute: bool)` which computes the dataset in-place. Will try to use cached dataset if `recompute=False`. \n",
    "2. `dataset[[date1, date2]]` will return a `LazyFrame` "
   ]
  },
  {
   "cell_type": "code",
   "execution_count": 3,
   "id": "ad269a9c",
   "metadata": {},
   "outputs": [],
   "source": [
    "# Load the grid_dataset\n",
    "grid_dataset = ms.binance.BinanceLastTradesGrid(\n",
    "        peg_symbol=peg_symbol, \n",
    "        grid_interval=grid_interval, \n",
    "        dataset_type=dataset_type, \n",
    "        parquet_names='*.parquet',\n",
    "        num_workers=2, \n",
    "    )\n",
    "\n",
    "# This will take **long** if it's not already computed\n",
    "# Computes the dataset in-place and returns nothing\n",
    "grid_dataset.compute(recompute=False) "
   ]
  },
  {
   "cell_type": "markdown",
   "id": "b9ed015a",
   "metadata": {},
   "source": [
    "# 1. Common `ByDateDataset` operations\n",
    "\n",
    "`dataset.universe()` will always return a dataframe (not lazyframe, so no `.collect()`) of the tuple of symbol, dates on which the dataset is defined"
   ]
  },
  {
   "cell_type": "code",
   "execution_count": 4,
   "id": "6acc3360",
   "metadata": {},
   "outputs": [
    {
     "data": {
      "text/html": [
       "<div><style>\n",
       ".dataframe > thead > tr,\n",
       ".dataframe > tbody > tr {\n",
       "  text-align: right;\n",
       "  white-space: pre-wrap;\n",
       "}\n",
       "</style>\n",
       "<small>shape: (349_372, 2)</small><table border=\"1\" class=\"dataframe\"><thead><tr><th>symbol</th><th>date</th></tr><tr><td>str</td><td>date</td></tr></thead><tbody><tr><td>&quot;AGLD&quot;</td><td>2024-03-17</td></tr><tr><td>&quot;APE&quot;</td><td>2024-03-17</td></tr><tr><td>&quot;REN&quot;</td><td>2024-03-17</td></tr><tr><td>&quot;JUP&quot;</td><td>2024-03-17</td></tr><tr><td>&quot;AXS&quot;</td><td>2024-03-17</td></tr><tr><td>&hellip;</td><td>&hellip;</td></tr><tr><td>&quot;DIA&quot;</td><td>2025-10-24</td></tr><tr><td>&quot;JST&quot;</td><td>2025-10-24</td></tr><tr><td>&quot;ALPINE&quot;</td><td>2025-10-24</td></tr><tr><td>&quot;RIVER&quot;</td><td>2025-10-24</td></tr><tr><td>&quot;OP&quot;</td><td>2025-10-24</td></tr></tbody></table></div>"
      ],
      "text/plain": [
       "shape: (349_372, 2)\n",
       "┌────────┬────────────┐\n",
       "│ symbol ┆ date       │\n",
       "│ ---    ┆ ---        │\n",
       "│ str    ┆ date       │\n",
       "╞════════╪════════════╡\n",
       "│ AGLD   ┆ 2024-03-17 │\n",
       "│ APE    ┆ 2024-03-17 │\n",
       "│ REN    ┆ 2024-03-17 │\n",
       "│ JUP    ┆ 2024-03-17 │\n",
       "│ AXS    ┆ 2024-03-17 │\n",
       "│ …      ┆ …          │\n",
       "│ DIA    ┆ 2025-10-24 │\n",
       "│ JST    ┆ 2025-10-24 │\n",
       "│ ALPINE ┆ 2025-10-24 │\n",
       "│ RIVER  ┆ 2025-10-24 │\n",
       "│ OP     ┆ 2025-10-24 │\n",
       "└────────┴────────────┘"
      ]
     },
     "execution_count": 4,
     "metadata": {},
     "output_type": "execute_result"
    }
   ],
   "source": [
    "grid_dataset.universe()"
   ]
  },
  {
   "cell_type": "markdown",
   "id": "95023ce7",
   "metadata": {},
   "source": [
    "`dataset[[date1, date2]]` (note that the index is a date list!) will return the slice of dataset on these dates"
   ]
  },
  {
   "cell_type": "code",
   "execution_count": 5,
   "id": "028103eb",
   "metadata": {},
   "outputs": [
    {
     "data": {
      "text/html": [
       "<div><style>\n",
       ".dataframe > thead > tr,\n",
       ".dataframe > tbody > tr {\n",
       "  text-align: right;\n",
       "  white-space: pre-wrap;\n",
       "}\n",
       "</style>\n",
       "<small>shape: (81_256, 16)</small><table border=\"1\" class=\"dataframe\"><thead><tr><th>symbol</th><th>date</th><th>time</th><th>peg_symbol</th><th>open</th><th>high</th><th>low</th><th>close</th><th>volume</th><th>trade_count</th><th>last_event_time</th><th>taker_buy_volume</th><th>taker_sell_volume</th><th>vwap_taker_buy</th><th>vwap_taker_sell</th><th>vwap_price</th></tr><tr><td>enum</td><td>date</td><td>datetime[μs]</td><td>str</td><td>f64</td><td>f64</td><td>f64</td><td>f64</td><td>f64</td><td>u64</td><td>datetime[μs]</td><td>f64</td><td>f64</td><td>f64</td><td>f64</td><td>f64</td></tr></thead><tbody><tr><td>&quot;MTL&quot;</td><td>2024-01-01</td><td>2024-01-01 00:10:00</td><td>&quot;USDT&quot;</td><td>1.5666</td><td>1.573</td><td>1.5631</td><td>1.5707</td><td>99239.0</td><td>1714</td><td>2024-01-01 00:09:58.233</td><td>47067.0</td><td>52172.0</td><td>1.567926</td><td>1.567795</td><td>1.567857</td></tr><tr><td>&quot;DUSK&quot;</td><td>2024-01-01</td><td>2024-01-01 00:10:00</td><td>&quot;USDT&quot;</td><td>0.18705</td><td>0.18773</td><td>0.18662</td><td>0.18762</td><td>426256.0</td><td>1631</td><td>2024-01-01 00:09:58.500</td><td>196691.0</td><td>229565.0</td><td>0.187152</td><td>0.187159</td><td>0.187156</td></tr><tr><td>&quot;1000LUNC&quot;</td><td>2024-01-01</td><td>2024-01-01 00:10:00</td><td>&quot;USDT&quot;</td><td>0.13877</td><td>0.13968</td><td>0.13858</td><td>0.13959</td><td>5.101784e6</td><td>3846</td><td>2024-01-01 00:09:59.248</td><td>2.788563e6</td><td>2.313221e6</td><td>0.139275</td><td>0.139338</td><td>0.139303</td></tr><tr><td>&quot;YGG&quot;</td><td>2024-01-01</td><td>2024-01-01 00:10:00</td><td>&quot;USDT&quot;</td><td>0.4261</td><td>0.4307</td><td>0.426</td><td>0.4303</td><td>470887.0</td><td>2051</td><td>2024-01-01 00:09:58.587</td><td>295372.0</td><td>175515.0</td><td>0.428078</td><td>0.428826</td><td>0.428357</td></tr><tr><td>&quot;NKN&quot;</td><td>2024-01-01</td><td>2024-01-01 00:10:00</td><td>&quot;USDT&quot;</td><td>0.11213</td><td>0.11284</td><td>0.11201</td><td>0.11284</td><td>483070.0</td><td>1337</td><td>2024-01-01 00:09:57.907</td><td>251653.0</td><td>231417.0</td><td>0.112396</td><td>0.1124</td><td>0.112398</td></tr><tr><td>&hellip;</td><td>&hellip;</td><td>&hellip;</td><td>&hellip;</td><td>&hellip;</td><td>&hellip;</td><td>&hellip;</td><td>&hellip;</td><td>&hellip;</td><td>&hellip;</td><td>&hellip;</td><td>&hellip;</td><td>&hellip;</td><td>&hellip;</td><td>&hellip;</td><td>&hellip;</td></tr><tr><td>&quot;INJ&quot;</td><td>2024-11-27</td><td>2024-11-28 00:00:00</td><td>&quot;USDT&quot;</td><td>29.815</td><td>29.898</td><td>29.779</td><td>29.8</td><td>26810.1</td><td>3813</td><td>2024-11-27 23:59:59.844</td><td>14621.3</td><td>12188.8</td><td>29.835396</td><td>29.821177</td><td>29.828932</td></tr><tr><td>&quot;GTC&quot;</td><td>2024-11-27</td><td>2024-11-28 00:00:00</td><td>&quot;USDT&quot;</td><td>0.939</td><td>0.94</td><td>0.937</td><td>0.939</td><td>69263.9</td><td>313</td><td>2024-11-27 23:59:57.189</td><td>28952.4</td><td>40311.5</td><td>0.93948</td><td>0.939148</td><td>0.939287</td></tr><tr><td>&quot;XVS&quot;</td><td>2024-11-27</td><td>2024-11-28 00:00:00</td><td>&quot;USDT&quot;</td><td>9.885</td><td>9.885</td><td>9.857</td><td>9.88</td><td>3026.5</td><td>403</td><td>2024-11-27 23:59:59.920</td><td>1324.7</td><td>1701.8</td><td>9.869658</td><td>9.87046</td><td>9.870109</td></tr><tr><td>&quot;COS&quot;</td><td>2024-11-27</td><td>2024-11-28 00:00:00</td><td>&quot;USDT&quot;</td><td>0.011962</td><td>0.011985</td><td>0.011945</td><td>0.011953</td><td>7.949783e6</td><td>1015</td><td>2024-11-27 23:59:58.303</td><td>2.923972e6</td><td>5.025811e6</td><td>0.011966</td><td>0.011966</td><td>0.011966</td></tr><tr><td>&quot;OMG&quot;</td><td>2024-11-27</td><td>2024-11-28 00:00:00</td><td>&quot;USDT&quot;</td><td>0.4488</td><td>0.4517</td><td>0.4455</td><td>0.4489</td><td>736366.6</td><td>3475</td><td>2024-11-27 23:59:59.828</td><td>398368.9</td><td>337997.7</td><td>0.44859</td><td>0.448447</td><td>0.448525</td></tr></tbody></table></div>"
      ],
      "text/plain": [
       "shape: (81_256, 16)\n",
       "┌──────────┬───────────┬───────────┬───────────┬───┬───────────┬───────────┬───────────┬───────────┐\n",
       "│ symbol   ┆ date      ┆ time      ┆ peg_symbo ┆ … ┆ taker_sel ┆ vwap_take ┆ vwap_take ┆ vwap_pric │\n",
       "│ ---      ┆ ---       ┆ ---       ┆ l         ┆   ┆ l_volume  ┆ r_buy     ┆ r_sell    ┆ e         │\n",
       "│ enum     ┆ date      ┆ datetime[ ┆ ---       ┆   ┆ ---       ┆ ---       ┆ ---       ┆ ---       │\n",
       "│          ┆           ┆ μs]       ┆ str       ┆   ┆ f64       ┆ f64       ┆ f64       ┆ f64       │\n",
       "╞══════════╪═══════════╪═══════════╪═══════════╪═══╪═══════════╪═══════════╪═══════════╪═══════════╡\n",
       "│ MTL      ┆ 2024-01-0 ┆ 2024-01-0 ┆ USDT      ┆ … ┆ 52172.0   ┆ 1.567926  ┆ 1.567795  ┆ 1.567857  │\n",
       "│          ┆ 1         ┆ 1         ┆           ┆   ┆           ┆           ┆           ┆           │\n",
       "│          ┆           ┆ 00:10:00  ┆           ┆   ┆           ┆           ┆           ┆           │\n",
       "│ DUSK     ┆ 2024-01-0 ┆ 2024-01-0 ┆ USDT      ┆ … ┆ 229565.0  ┆ 0.187152  ┆ 0.187159  ┆ 0.187156  │\n",
       "│          ┆ 1         ┆ 1         ┆           ┆   ┆           ┆           ┆           ┆           │\n",
       "│          ┆           ┆ 00:10:00  ┆           ┆   ┆           ┆           ┆           ┆           │\n",
       "│ 1000LUNC ┆ 2024-01-0 ┆ 2024-01-0 ┆ USDT      ┆ … ┆ 2.313221e ┆ 0.139275  ┆ 0.139338  ┆ 0.139303  │\n",
       "│          ┆ 1         ┆ 1         ┆           ┆   ┆ 6         ┆           ┆           ┆           │\n",
       "│          ┆           ┆ 00:10:00  ┆           ┆   ┆           ┆           ┆           ┆           │\n",
       "│ YGG      ┆ 2024-01-0 ┆ 2024-01-0 ┆ USDT      ┆ … ┆ 175515.0  ┆ 0.428078  ┆ 0.428826  ┆ 0.428357  │\n",
       "│          ┆ 1         ┆ 1         ┆           ┆   ┆           ┆           ┆           ┆           │\n",
       "│          ┆           ┆ 00:10:00  ┆           ┆   ┆           ┆           ┆           ┆           │\n",
       "│ NKN      ┆ 2024-01-0 ┆ 2024-01-0 ┆ USDT      ┆ … ┆ 231417.0  ┆ 0.112396  ┆ 0.1124    ┆ 0.112398  │\n",
       "│          ┆ 1         ┆ 1         ┆           ┆   ┆           ┆           ┆           ┆           │\n",
       "│          ┆           ┆ 00:10:00  ┆           ┆   ┆           ┆           ┆           ┆           │\n",
       "│ …        ┆ …         ┆ …         ┆ …         ┆ … ┆ …         ┆ …         ┆ …         ┆ …         │\n",
       "│ INJ      ┆ 2024-11-2 ┆ 2024-11-2 ┆ USDT      ┆ … ┆ 12188.8   ┆ 29.835396 ┆ 29.821177 ┆ 29.828932 │\n",
       "│          ┆ 7         ┆ 8         ┆           ┆   ┆           ┆           ┆           ┆           │\n",
       "│          ┆           ┆ 00:00:00  ┆           ┆   ┆           ┆           ┆           ┆           │\n",
       "│ GTC      ┆ 2024-11-2 ┆ 2024-11-2 ┆ USDT      ┆ … ┆ 40311.5   ┆ 0.93948   ┆ 0.939148  ┆ 0.939287  │\n",
       "│          ┆ 7         ┆ 8         ┆           ┆   ┆           ┆           ┆           ┆           │\n",
       "│          ┆           ┆ 00:00:00  ┆           ┆   ┆           ┆           ┆           ┆           │\n",
       "│ XVS      ┆ 2024-11-2 ┆ 2024-11-2 ┆ USDT      ┆ … ┆ 1701.8    ┆ 9.869658  ┆ 9.87046   ┆ 9.870109  │\n",
       "│          ┆ 7         ┆ 8         ┆           ┆   ┆           ┆           ┆           ┆           │\n",
       "│          ┆           ┆ 00:00:00  ┆           ┆   ┆           ┆           ┆           ┆           │\n",
       "│ COS      ┆ 2024-11-2 ┆ 2024-11-2 ┆ USDT      ┆ … ┆ 5.025811e ┆ 0.011966  ┆ 0.011966  ┆ 0.011966  │\n",
       "│          ┆ 7         ┆ 8         ┆           ┆   ┆ 6         ┆           ┆           ┆           │\n",
       "│          ┆           ┆ 00:00:00  ┆           ┆   ┆           ┆           ┆           ┆           │\n",
       "│ OMG      ┆ 2024-11-2 ┆ 2024-11-2 ┆ USDT      ┆ … ┆ 337997.7  ┆ 0.44859   ┆ 0.448447  ┆ 0.448525  │\n",
       "│          ┆ 7         ┆ 8         ┆           ┆   ┆           ┆           ┆           ┆           │\n",
       "│          ┆           ┆ 00:00:00  ┆           ┆   ┆           ┆           ┆           ┆           │\n",
       "└──────────┴───────────┴───────────┴───────────┴───┴───────────┴───────────┴───────────┴───────────┘"
      ]
     },
     "execution_count": 5,
     "metadata": {},
     "output_type": "execute_result"
    }
   ],
   "source": [
    "grid_dataset[sample_dates].collect()"
   ]
  },
  {
   "cell_type": "markdown",
   "id": "62f4ff9b",
   "metadata": {},
   "source": [
    "`.lazyframe()` returns the full dataset. Collecting on it will instantiate a huge dataframe\n",
    "\n",
    "As an example, let's compute the number of unique symbols per date. The operation below will take very long on `5s` grid"
   ]
  },
  {
   "cell_type": "code",
   "execution_count": 6,
   "id": "7755ff2d",
   "metadata": {},
   "outputs": [
    {
     "data": {
      "text/html": [
       "<div><style>\n",
       ".dataframe > thead > tr,\n",
       ".dataframe > tbody > tr {\n",
       "  text-align: right;\n",
       "  white-space: pre-wrap;\n",
       "}\n",
       "</style>\n",
       "<small>shape: (1_395, 2)</small><table border=\"1\" class=\"dataframe\"><thead><tr><th>date</th><th>num_unique_symbols</th></tr><tr><td>date</td><td>u32</td></tr></thead><tbody><tr><td>2022-01-01</td><td>136</td></tr><tr><td>2022-01-02</td><td>136</td></tr><tr><td>2022-01-03</td><td>136</td></tr><tr><td>2022-01-04</td><td>136</td></tr><tr><td>2022-01-05</td><td>136</td></tr><tr><td>&hellip;</td><td>&hellip;</td></tr><tr><td>2025-10-22</td><td>524</td></tr><tr><td>2025-10-23</td><td>525</td></tr><tr><td>2025-10-24</td><td>526</td></tr><tr><td>2025-10-25</td><td>526</td></tr><tr><td>2025-10-26</td><td>526</td></tr></tbody></table></div>"
      ],
      "text/plain": [
       "shape: (1_395, 2)\n",
       "┌────────────┬────────────────────┐\n",
       "│ date       ┆ num_unique_symbols │\n",
       "│ ---        ┆ ---                │\n",
       "│ date       ┆ u32                │\n",
       "╞════════════╪════════════════════╡\n",
       "│ 2022-01-01 ┆ 136                │\n",
       "│ 2022-01-02 ┆ 136                │\n",
       "│ 2022-01-03 ┆ 136                │\n",
       "│ 2022-01-04 ┆ 136                │\n",
       "│ 2022-01-05 ┆ 136                │\n",
       "│ …          ┆ …                  │\n",
       "│ 2025-10-22 ┆ 524                │\n",
       "│ 2025-10-23 ┆ 525                │\n",
       "│ 2025-10-24 ┆ 526                │\n",
       "│ 2025-10-25 ┆ 526                │\n",
       "│ 2025-10-26 ┆ 526                │\n",
       "└────────────┴────────────────────┘"
      ]
     },
     "execution_count": 6,
     "metadata": {},
     "output_type": "execute_result"
    }
   ],
   "source": [
    "grid_database = grid_dataset.lazyframe()\n",
    "\n",
    "num_symbols_per_date = grid_database.group_by('date').agg(\n",
    "    pl.col('symbol').unique().count().alias('num_unique_symbols')\n",
    ").collect(engine='streaming').sort('date')\n",
    "\n",
    "num_symbols_per_date"
   ]
  },
  {
   "cell_type": "markdown",
   "id": "0a9f237b",
   "metadata": {},
   "source": [
    "# Returns engine\n",
    "\n",
    "The returns engine **consumes a gridded dataset** to support returns queries. \n",
    "\n",
    "We usually use the `5s` grid so that e.g. `10m` returns will actually make sense (it doesn't make that much sense to compute `10m` returns on `10m` vwap prices)\n",
    "\n",
    "Define a `query_lf` with `symbol, date, time` columns and execute a query"
   ]
  },
  {
   "cell_type": "code",
   "execution_count": 7,
   "id": "f902dc63",
   "metadata": {},
   "outputs": [
    {
     "data": {
      "text/html": [
       "<div><style>\n",
       ".dataframe > thead > tr,\n",
       ".dataframe > tbody > tr {\n",
       "  text-align: right;\n",
       "  white-space: pre-wrap;\n",
       "}\n",
       "</style>\n",
       "<small>shape: (5, 3)</small><table border=\"1\" class=\"dataframe\"><thead><tr><th>symbol</th><th>date</th><th>time</th></tr><tr><td>enum</td><td>date</td><td>datetime[μs]</td></tr></thead><tbody><tr><td>&quot;JUP&quot;</td><td>2025-01-01</td><td>2025-01-01 00:00:05</td></tr><tr><td>&quot;INJ&quot;</td><td>2025-01-01</td><td>2025-01-01 00:00:05</td></tr><tr><td>&quot;STEEM&quot;</td><td>2025-01-01</td><td>2025-01-01 00:00:05</td></tr><tr><td>&quot;HIVE&quot;</td><td>2025-01-01</td><td>2025-01-01 00:00:05</td></tr><tr><td>&quot;REI&quot;</td><td>2025-01-01</td><td>2025-01-01 00:00:05</td></tr></tbody></table></div>"
      ],
      "text/plain": [
       "shape: (5, 3)\n",
       "┌────────┬────────────┬─────────────────────┐\n",
       "│ symbol ┆ date       ┆ time                │\n",
       "│ ---    ┆ ---        ┆ ---                 │\n",
       "│ enum   ┆ date       ┆ datetime[μs]        │\n",
       "╞════════╪════════════╪═════════════════════╡\n",
       "│ JUP    ┆ 2025-01-01 ┆ 2025-01-01 00:00:05 │\n",
       "│ INJ    ┆ 2025-01-01 ┆ 2025-01-01 00:00:05 │\n",
       "│ STEEM  ┆ 2025-01-01 ┆ 2025-01-01 00:00:05 │\n",
       "│ HIVE   ┆ 2025-01-01 ┆ 2025-01-01 00:00:05 │\n",
       "│ REI    ┆ 2025-01-01 ┆ 2025-01-01 00:00:05 │\n",
       "└────────┴────────────┴─────────────────────┘"
      ]
     },
     "metadata": {},
     "output_type": "display_data"
    }
   ],
   "source": [
    "from mnemosyne.engines import ReturnsEngine \n",
    "\n",
    "backend_grid_dataset = ms.binance.BinanceLastTradesGrid(\n",
    "            peg_symbol='USDT', \n",
    "            grid_interval=Timedelta(seconds=5), \n",
    "            dataset_type=ms.DatasetType.BinanceSpotTrades)\n",
    "\n",
    "returns_engine = ReturnsEngine(\n",
    "    backend_grid_dataset.lazyframe(), # returns-engine will use this dataframe\n",
    "    # This is the default value: what we want to compute returns over. We can also specify pl.col('open') for open-to-open returns\n",
    "    backend_fair_expr = pl.col('vwap_price'), \n",
    ")\n",
    "\n",
    "# Next, define a query lazyframe (call .lazy() on dataframe to make it lazy) containing 'symbol' and 'times'. \n",
    "#  Here, let's just take 10m grids on 2025, 1, 1\n",
    "query_lf = backend_grid_dataset[[Date(2025, 1, 1)]].select('symbol', 'date', 'time')\n",
    "display(query_lf.head().collect())"
   ]
  },
  {
   "cell_type": "markdown",
   "id": "b4dadf1d",
   "metadata": {},
   "source": [
    "### Single-mark query"
   ]
  },
  {
   "cell_type": "code",
   "execution_count": 8,
   "id": "a8a5247c",
   "metadata": {},
   "outputs": [
    {
     "name": "stderr",
     "output_type": "stream",
     "text": [
      "sys:1: UserWarning: Sortedness of columns cannot be checked when 'by' groups provided\n"
     ]
    },
    {
     "data": {
      "text/html": [
       "<div><style>\n",
       ".dataframe > thead > tr,\n",
       ".dataframe > tbody > tr {\n",
       "  text-align: right;\n",
       "  white-space: pre-wrap;\n",
       "}\n",
       "</style>\n",
       "<small>shape: (2_824_525, 5)</small><table border=\"1\" class=\"dataframe\"><thead><tr><th>symbol</th><th>date</th><th>time</th><th>max_tick_to_query_lag</th><th>return</th></tr><tr><td>enum</td><td>date</td><td>datetime[μs]</td><td>duration[μs]</td><td>f64</td></tr></thead><tbody><tr><td>&quot;JUP&quot;</td><td>2025-01-01</td><td>2025-01-01 00:00:05</td><td>22s 734798µs</td><td>0.003655</td></tr><tr><td>&quot;INJ&quot;</td><td>2025-01-01</td><td>2025-01-01 00:00:05</td><td>38s 480131µs</td><td>0.004077</td></tr><tr><td>&quot;STEEM&quot;</td><td>2025-01-01</td><td>2025-01-01 00:00:05</td><td>147539µs</td><td>0.039094</td></tr><tr><td>&quot;HIVE&quot;</td><td>2025-01-01</td><td>2025-01-01 00:00:05</td><td>285121µs</td><td>-0.025055</td></tr><tr><td>&quot;REI&quot;</td><td>2025-01-01</td><td>2025-01-01 00:00:05</td><td>2m 7s 852805µs</td><td>0.005787</td></tr><tr><td>&hellip;</td><td>&hellip;</td><td>&hellip;</td><td>&hellip;</td><td>&hellip;</td></tr><tr><td>&quot;BEAMX&quot;</td><td>2025-01-01</td><td>2025-01-02 00:00:00</td><td>12s 120570µs</td><td>-0.004826</td></tr><tr><td>&quot;DOT&quot;</td><td>2025-01-01</td><td>2025-01-02 00:00:00</td><td>3s 128505µs</td><td>0.00413</td></tr><tr><td>&quot;ZK&quot;</td><td>2025-01-01</td><td>2025-01-02 00:00:00</td><td>3s 382198µs</td><td>-0.002047</td></tr><tr><td>&quot;WIN&quot;</td><td>2025-01-01</td><td>2025-01-02 00:00:00</td><td>1s 712479µs</td><td>0.002558</td></tr><tr><td>&quot;FTM&quot;</td><td>2025-01-01</td><td>2025-01-02 00:00:00</td><td>474439µs</td><td>-0.002613</td></tr></tbody></table></div>"
      ],
      "text/plain": [
       "shape: (2_824_525, 5)\n",
       "┌────────┬────────────┬─────────────────────┬───────────────────────┬───────────┐\n",
       "│ symbol ┆ date       ┆ time                ┆ max_tick_to_query_lag ┆ return    │\n",
       "│ ---    ┆ ---        ┆ ---                 ┆ ---                   ┆ ---       │\n",
       "│ enum   ┆ date       ┆ datetime[μs]        ┆ duration[μs]          ┆ f64       │\n",
       "╞════════╪════════════╪═════════════════════╪═══════════════════════╪═══════════╡\n",
       "│ JUP    ┆ 2025-01-01 ┆ 2025-01-01 00:00:05 ┆ 22s 734798µs          ┆ 0.003655  │\n",
       "│ INJ    ┆ 2025-01-01 ┆ 2025-01-01 00:00:05 ┆ 38s 480131µs          ┆ 0.004077  │\n",
       "│ STEEM  ┆ 2025-01-01 ┆ 2025-01-01 00:00:05 ┆ 147539µs              ┆ 0.039094  │\n",
       "│ HIVE   ┆ 2025-01-01 ┆ 2025-01-01 00:00:05 ┆ 285121µs              ┆ -0.025055 │\n",
       "│ REI    ┆ 2025-01-01 ┆ 2025-01-01 00:00:05 ┆ 2m 7s 852805µs        ┆ 0.005787  │\n",
       "│ …      ┆ …          ┆ …                   ┆ …                     ┆ …         │\n",
       "│ BEAMX  ┆ 2025-01-01 ┆ 2025-01-02 00:00:00 ┆ 12s 120570µs          ┆ -0.004826 │\n",
       "│ DOT    ┆ 2025-01-01 ┆ 2025-01-02 00:00:00 ┆ 3s 128505µs           ┆ 0.00413   │\n",
       "│ ZK     ┆ 2025-01-01 ┆ 2025-01-02 00:00:00 ┆ 3s 382198µs           ┆ -0.002047 │\n",
       "│ WIN    ┆ 2025-01-01 ┆ 2025-01-02 00:00:00 ┆ 1s 712479µs           ┆ 0.002558  │\n",
       "│ FTM    ┆ 2025-01-01 ┆ 2025-01-02 00:00:00 ┆ 474439µs              ┆ -0.002613 │\n",
       "└────────┴────────────┴─────────────────────┴───────────────────────┴───────────┘"
      ]
     },
     "execution_count": 8,
     "metadata": {},
     "output_type": "execute_result"
    }
   ],
   "source": [
    "# returns_engine will append a single `return_column`\n",
    "lf_with_returns = returns_engine.query(\n",
    "    query_lf, \n",
    "    start_time_expr = pl.col('time'), # What we want start time to be\n",
    "    mark_duration = Timedelta(minutes=10), \n",
    "    tick_lag_tolerance = Timedelta(minutes=10), # If we can't find a trade within last 1m, will return NaN\n",
    "    # Supply additional fields to get more info\n",
    "    # append_lag = True, \n",
    "    # append_query_tick_times = True, \n",
    "    # append_start_end_fairs = True\n",
    ")\n",
    "lf_with_returns.collect()"
   ]
  },
  {
   "cell_type": "markdown",
   "id": "cb0bab7a",
   "metadata": {},
   "source": [
    "# Multi-mark query\n",
    "\n",
    "This is much more efficient than calling `.query` multiple times. When fetching multiple marks at once, define a dictionary:\n",
    "\n",
    "1. Dictionary key = string name of the returns column\n",
    "2. Values are two-tuples. The first element defines the start time expression. The second element defines the mark duration. "
   ]
  },
  {
   "cell_type": "code",
   "execution_count": 9,
   "id": "9c729837",
   "metadata": {},
   "outputs": [
    {
     "data": {
      "text/html": [
       "<div><style>\n",
       ".dataframe > thead > tr,\n",
       ".dataframe > tbody > tr {\n",
       "  text-align: right;\n",
       "  white-space: pre-wrap;\n",
       "}\n",
       "</style>\n",
       "<small>shape: (2_824_525, 8)</small><table border=\"1\" class=\"dataframe\"><thead><tr><th>symbol</th><th>date</th><th>time</th><th>return_now_to_p10m</th><th>return_p1m_to_p11m</th><th>return_m10m_to_now</th><th>return_m20m_to_now</th><th>return_m30m_to_now</th></tr><tr><td>enum</td><td>date</td><td>datetime[μs]</td><td>f64</td><td>f64</td><td>f64</td><td>f64</td><td>f64</td></tr></thead><tbody><tr><td>&quot;JUP&quot;</td><td>2025-01-01</td><td>2025-01-01 00:00:05</td><td>0.003655</td><td>0.004433</td><td>-0.000844</td><td>-0.000594</td><td>-0.005583</td></tr><tr><td>&quot;INJ&quot;</td><td>2025-01-01</td><td>2025-01-01 00:00:05</td><td>null</td><td>0.002445</td><td>null</td><td>0.002043</td><td>-0.000509</td></tr><tr><td>&quot;STEEM&quot;</td><td>2025-01-01</td><td>2025-01-01 00:00:05</td><td>0.039094</td><td>-0.007883</td><td>-0.01133</td><td>-0.014362</td><td>0.023651</td></tr><tr><td>&quot;HIVE&quot;</td><td>2025-01-01</td><td>2025-01-01 00:00:05</td><td>-0.025055</td><td>0.001409</td><td>0.02954</td><td>0.033031</td><td>0.033522</td></tr><tr><td>&quot;REI&quot;</td><td>2025-01-01</td><td>2025-01-01 00:00:05</td><td>null</td><td>null</td><td>null</td><td>0.003266</td><td>null</td></tr><tr><td>&hellip;</td><td>&hellip;</td><td>&hellip;</td><td>&hellip;</td><td>&hellip;</td><td>&hellip;</td><td>&hellip;</td><td>&hellip;</td></tr><tr><td>&quot;BEAMX&quot;</td><td>2025-01-01</td><td>2025-01-02 00:00:00</td><td>-0.004826</td><td>-0.00482</td><td>-0.004802</td><td>-0.004067</td><td>-0.007735</td></tr><tr><td>&quot;DOT&quot;</td><td>2025-01-01</td><td>2025-01-02 00:00:00</td><td>0.00413</td><td>0.001941</td><td>0.003847</td><td>0.002845</td><td>0.000669</td></tr><tr><td>&quot;ZK&quot;</td><td>2025-01-01</td><td>2025-01-02 00:00:00</td><td>-0.002047</td><td>-0.001022</td><td>0.000512</td><td>0.00359</td><td>0.003595</td></tr><tr><td>&quot;WIN&quot;</td><td>2025-01-01</td><td>2025-01-02 00:00:00</td><td>0.002558</td><td>0.000647</td><td>0.000102</td><td>-0.00092</td><td>-0.002755</td></tr><tr><td>&quot;FTM&quot;</td><td>2025-01-01</td><td>2025-01-02 00:00:00</td><td>-0.002613</td><td>-0.001804</td><td>0.001823</td><td>-0.011756</td><td>-0.014063</td></tr></tbody></table></div>"
      ],
      "text/plain": [
       "shape: (2_824_525, 8)\n",
       "┌────────┬────────────┬────────────┬────────────┬────────────┬────────────┬────────────┬───────────┐\n",
       "│ symbol ┆ date       ┆ time       ┆ return_now ┆ return_p1m ┆ return_m10 ┆ return_m20 ┆ return_m3 │\n",
       "│ ---    ┆ ---        ┆ ---        ┆ _to_p10m   ┆ _to_p11m   ┆ m_to_now   ┆ m_to_now   ┆ 0m_to_now │\n",
       "│ enum   ┆ date       ┆ datetime[μ ┆ ---        ┆ ---        ┆ ---        ┆ ---        ┆ ---       │\n",
       "│        ┆            ┆ s]         ┆ f64        ┆ f64        ┆ f64        ┆ f64        ┆ f64       │\n",
       "╞════════╪════════════╪════════════╪════════════╪════════════╪════════════╪════════════╪═══════════╡\n",
       "│ JUP    ┆ 2025-01-01 ┆ 2025-01-01 ┆ 0.003655   ┆ 0.004433   ┆ -0.000844  ┆ -0.000594  ┆ -0.005583 │\n",
       "│        ┆            ┆ 00:00:05   ┆            ┆            ┆            ┆            ┆           │\n",
       "│ INJ    ┆ 2025-01-01 ┆ 2025-01-01 ┆ null       ┆ 0.002445   ┆ null       ┆ 0.002043   ┆ -0.000509 │\n",
       "│        ┆            ┆ 00:00:05   ┆            ┆            ┆            ┆            ┆           │\n",
       "│ STEEM  ┆ 2025-01-01 ┆ 2025-01-01 ┆ 0.039094   ┆ -0.007883  ┆ -0.01133   ┆ -0.014362  ┆ 0.023651  │\n",
       "│        ┆            ┆ 00:00:05   ┆            ┆            ┆            ┆            ┆           │\n",
       "│ HIVE   ┆ 2025-01-01 ┆ 2025-01-01 ┆ -0.025055  ┆ 0.001409   ┆ 0.02954    ┆ 0.033031   ┆ 0.033522  │\n",
       "│        ┆            ┆ 00:00:05   ┆            ┆            ┆            ┆            ┆           │\n",
       "│ REI    ┆ 2025-01-01 ┆ 2025-01-01 ┆ null       ┆ null       ┆ null       ┆ 0.003266   ┆ null      │\n",
       "│        ┆            ┆ 00:00:05   ┆            ┆            ┆            ┆            ┆           │\n",
       "│ …      ┆ …          ┆ …          ┆ …          ┆ …          ┆ …          ┆ …          ┆ …         │\n",
       "│ BEAMX  ┆ 2025-01-01 ┆ 2025-01-02 ┆ -0.004826  ┆ -0.00482   ┆ -0.004802  ┆ -0.004067  ┆ -0.007735 │\n",
       "│        ┆            ┆ 00:00:00   ┆            ┆            ┆            ┆            ┆           │\n",
       "│ DOT    ┆ 2025-01-01 ┆ 2025-01-02 ┆ 0.00413    ┆ 0.001941   ┆ 0.003847   ┆ 0.002845   ┆ 0.000669  │\n",
       "│        ┆            ┆ 00:00:00   ┆            ┆            ┆            ┆            ┆           │\n",
       "│ ZK     ┆ 2025-01-01 ┆ 2025-01-02 ┆ -0.002047  ┆ -0.001022  ┆ 0.000512   ┆ 0.00359    ┆ 0.003595  │\n",
       "│        ┆            ┆ 00:00:00   ┆            ┆            ┆            ┆            ┆           │\n",
       "│ WIN    ┆ 2025-01-01 ┆ 2025-01-02 ┆ 0.002558   ┆ 0.000647   ┆ 0.000102   ┆ -0.00092   ┆ -0.002755 │\n",
       "│        ┆            ┆ 00:00:00   ┆            ┆            ┆            ┆            ┆           │\n",
       "│ FTM    ┆ 2025-01-01 ┆ 2025-01-02 ┆ -0.002613  ┆ -0.001804  ┆ 0.001823   ┆ -0.011756  ┆ -0.014063 │\n",
       "│        ┆            ┆ 00:00:00   ┆            ┆            ┆            ┆            ┆           │\n",
       "└────────┴────────────┴────────────┴────────────┴────────────┴────────────┴────────────┴───────────┘"
      ]
     },
     "execution_count": 9,
     "metadata": {},
     "output_type": "execute_result"
    }
   ],
   "source": [
    "mark_exprs = {\n",
    "    'now_to_p10m': (pl.col('time'), Timedelta(minutes=10)),\n",
    "    'p1m_to_p11m': (pl.col('time') + Timedelta(minutes=1), Timedelta(minutes=10)),\n",
    "    'm10m_to_now': (pl.col('time') - Timedelta(minutes=10), Timedelta(minutes=10)),\n",
    "    'm20m_to_now': (pl.col('time') - Timedelta(minutes=20), Timedelta(minutes=20)),\n",
    "    'm30m_to_now': (pl.col('time') - Timedelta(minutes=30), Timedelta(minutes=30)),\n",
    "}\n",
    "\n",
    "\n",
    "lf_with_multi_returns = returns_engine.query_batch(query_lf, mark_exprs, append_lag=False)\n",
    "lf_with_multi_returns.collect()"
   ]
  },
  {
   "cell_type": "markdown",
   "id": "ba183b75",
   "metadata": {},
   "source": [
    "# Metadata engine\n",
    "\n",
    "The metadata engine **consumes a gridded dataset** to support metadata queries. \n",
    "\n",
    "**Still experimental**: we only have one set of metadata for now. Only this particular `metadata_engine` can be instantiated"
   ]
  },
  {
   "cell_type": "code",
   "execution_count": 10,
   "id": "ba994635",
   "metadata": {},
   "outputs": [
    {
     "data": {
      "text/html": [
       "<div><style>\n",
       ".dataframe > thead > tr,\n",
       ".dataframe > tbody > tr {\n",
       "  text-align: right;\n",
       "  white-space: pre-wrap;\n",
       "}\n",
       "</style>\n",
       "<small>shape: (5, 3)</small><table border=\"1\" class=\"dataframe\"><thead><tr><th>symbol</th><th>date</th><th>time</th></tr><tr><td>enum</td><td>date</td><td>datetime[μs]</td></tr></thead><tbody><tr><td>&quot;JUP&quot;</td><td>2025-01-01</td><td>2025-01-01 00:00:05</td></tr><tr><td>&quot;INJ&quot;</td><td>2025-01-01</td><td>2025-01-01 00:00:05</td></tr><tr><td>&quot;STEEM&quot;</td><td>2025-01-01</td><td>2025-01-01 00:00:05</td></tr><tr><td>&quot;HIVE&quot;</td><td>2025-01-01</td><td>2025-01-01 00:00:05</td></tr><tr><td>&quot;REI&quot;</td><td>2025-01-01</td><td>2025-01-01 00:00:05</td></tr></tbody></table></div>"
      ],
      "text/plain": [
       "shape: (5, 3)\n",
       "┌────────┬────────────┬─────────────────────┐\n",
       "│ symbol ┆ date       ┆ time                │\n",
       "│ ---    ┆ ---        ┆ ---                 │\n",
       "│ enum   ┆ date       ┆ datetime[μs]        │\n",
       "╞════════╪════════════╪═════════════════════╡\n",
       "│ JUP    ┆ 2025-01-01 ┆ 2025-01-01 00:00:05 │\n",
       "│ INJ    ┆ 2025-01-01 ┆ 2025-01-01 00:00:05 │\n",
       "│ STEEM  ┆ 2025-01-01 ┆ 2025-01-01 00:00:05 │\n",
       "│ HIVE   ┆ 2025-01-01 ┆ 2025-01-01 00:00:05 │\n",
       "│ REI    ┆ 2025-01-01 ┆ 2025-01-01 00:00:05 │\n",
       "└────────┴────────────┴─────────────────────┘"
      ]
     },
     "metadata": {},
     "output_type": "display_data"
    }
   ],
   "source": [
    "from mnemosyne.engines import MetadataEngine\n",
    "\n",
    "grid_dataset = ms.binance.BinanceLastTradesGrid(\n",
    "        peg_symbol='USDT',\n",
    "        grid_interval=Timedelta(seconds=5),\n",
    "        dataset_type=ms.DatasetType.BinanceSpotTrades, \n",
    "    )\n",
    "\n",
    "metadata_engine = MetadataEngine(\n",
    "    path='/data/midas/mnemosyne/notebooks/workflows/dev/metadata', num_workers=1, \n",
    "    backend_dataset=grid_dataset, \n",
    ")\n",
    "\n",
    "query_lf = backend_grid_dataset[[Date(2025, 1, 1)]].select('symbol', 'date', 'time')\n",
    "display(query_lf.head().collect())"
   ]
  },
  {
   "cell_type": "code",
   "execution_count": 11,
   "id": "a40bbb0f",
   "metadata": {},
   "outputs": [
    {
     "name": "stderr",
     "output_type": "stream",
     "text": [
      "/tmp/ipykernel_1787621/453145406.py:5: UserWarning: Sortedness of columns cannot be checked when 'by' groups provided\n",
      "  ).collect()\n"
     ]
    },
    {
     "data": {
      "text/html": [
       "<div><style>\n",
       ".dataframe > thead > tr,\n",
       ".dataframe > tbody > tr {\n",
       "  text-align: right;\n",
       "  white-space: pre-wrap;\n",
       "}\n",
       "</style>\n",
       "<small>shape: (2_824_525, 23)</small><table border=\"1\" class=\"dataframe\"><thead><tr><th>symbol</th><th>date</th><th>time</th><th>date_right</th><th>last_event_time</th><th>liquidity_1d</th><th>sqrtliq_1d</th><th>excess_buy_ratio_1d</th><th>trade_count_1d</th><th>liquidity_7d</th><th>sqrtliq_7d</th><th>excess_buy_ratio_7d</th><th>trade_count_7d</th><th>daily_returns_drift_7d_lookback</th><th>daily_vol_7d_lookback</th><th>vol_ssize_7d_lookback</th><th>daily_returns_drift_30d_lookback</th><th>daily_vol_30d_lookback</th><th>vol_ssize_30d_lookback</th><th>liquidity_1d_q</th><th>liquidity_7d_q</th><th>daily_vol_7d_lookback_q</th><th>daily_vol_30d_lookback_q</th></tr><tr><td>enum</td><td>date</td><td>datetime[μs]</td><td>date</td><td>datetime[μs]</td><td>f64</td><td>f64</td><td>f64</td><td>u64</td><td>f64</td><td>f64</td><td>f64</td><td>u64</td><td>f64</td><td>f64</td><td>u64</td><td>f64</td><td>f64</td><td>u64</td><td>f64</td><td>f64</td><td>f64</td><td>f64</td></tr></thead><tbody><tr><td>&quot;1000CAT&quot;</td><td>2025-01-01</td><td>2025-01-01 00:00:05</td><td>2024-12-31</td><td>2024-12-31 23:59:40.185</td><td>1.5255e7</td><td>3905.82702</td><td>-0.060271</td><td>72104</td><td>9.6338e7</td><td>9815.206139</td><td>-0.023955</td><td>488894</td><td>-0.026503</td><td>0.063133</td><td>1008</td><td>-0.037767</td><td>0.099495</td><td>2104</td><td>0.777778</td><td>0.718346</td><td>0.77261</td><td>0.873385</td></tr><tr><td>&quot;1000CAT&quot;</td><td>2025-01-01</td><td>2025-01-01 00:00:10</td><td>2024-12-31</td><td>2024-12-31 23:59:40.185</td><td>1.5255e7</td><td>3905.82702</td><td>-0.060271</td><td>72104</td><td>9.6338e7</td><td>9815.206139</td><td>-0.023955</td><td>488894</td><td>-0.026503</td><td>0.063133</td><td>1008</td><td>-0.037767</td><td>0.099495</td><td>2104</td><td>0.777778</td><td>0.718346</td><td>0.77261</td><td>0.873385</td></tr><tr><td>&quot;1000CAT&quot;</td><td>2025-01-01</td><td>2025-01-01 00:00:20</td><td>2024-12-31</td><td>2024-12-31 23:59:40.185</td><td>1.5255e7</td><td>3905.82702</td><td>-0.060271</td><td>72104</td><td>9.6338e7</td><td>9815.206139</td><td>-0.023955</td><td>488894</td><td>-0.026503</td><td>0.063133</td><td>1008</td><td>-0.037767</td><td>0.099495</td><td>2104</td><td>0.777778</td><td>0.718346</td><td>0.77261</td><td>0.873385</td></tr><tr><td>&quot;1000CAT&quot;</td><td>2025-01-01</td><td>2025-01-01 00:00:25</td><td>2024-12-31</td><td>2024-12-31 23:59:40.185</td><td>1.5255e7</td><td>3905.82702</td><td>-0.060271</td><td>72104</td><td>9.6338e7</td><td>9815.206139</td><td>-0.023955</td><td>488894</td><td>-0.026503</td><td>0.063133</td><td>1008</td><td>-0.037767</td><td>0.099495</td><td>2104</td><td>0.777778</td><td>0.718346</td><td>0.77261</td><td>0.873385</td></tr><tr><td>&quot;1000CAT&quot;</td><td>2025-01-01</td><td>2025-01-01 00:00:30</td><td>2024-12-31</td><td>2024-12-31 23:59:40.185</td><td>1.5255e7</td><td>3905.82702</td><td>-0.060271</td><td>72104</td><td>9.6338e7</td><td>9815.206139</td><td>-0.023955</td><td>488894</td><td>-0.026503</td><td>0.063133</td><td>1008</td><td>-0.037767</td><td>0.099495</td><td>2104</td><td>0.777778</td><td>0.718346</td><td>0.77261</td><td>0.873385</td></tr><tr><td>&hellip;</td><td>&hellip;</td><td>&hellip;</td><td>&hellip;</td><td>&hellip;</td><td>&hellip;</td><td>&hellip;</td><td>&hellip;</td><td>&hellip;</td><td>&hellip;</td><td>&hellip;</td><td>&hellip;</td><td>&hellip;</td><td>&hellip;</td><td>&hellip;</td><td>&hellip;</td><td>&hellip;</td><td>&hellip;</td><td>&hellip;</td><td>&hellip;</td><td>&hellip;</td><td>&hellip;</td><td>&hellip;</td></tr><tr><td>&quot;ZRX&quot;</td><td>2025-01-01</td><td>2025-01-01 23:58:10</td><td>2025-01-01</td><td>2025-01-01 22:59:50.502235</td><td>4.6053e6</td><td>2145.989053</td><td>0.079277</td><td>27962</td><td>3.2760e7</td><td>5723.64234</td><td>-0.035207</td><td>179302</td><td>-0.007864</td><td>0.054503</td><td>1008</td><td>-0.004149</td><td>0.090366</td><td>4320</td><td>0.551813</td><td>0.497409</td><td>0.608808</td><td>0.816062</td></tr><tr><td>&quot;ZRX&quot;</td><td>2025-01-01</td><td>2025-01-01 23:58:30</td><td>2025-01-01</td><td>2025-01-01 22:59:50.502235</td><td>4.6053e6</td><td>2145.989053</td><td>0.079277</td><td>27962</td><td>3.2760e7</td><td>5723.64234</td><td>-0.035207</td><td>179302</td><td>-0.007864</td><td>0.054503</td><td>1008</td><td>-0.004149</td><td>0.090366</td><td>4320</td><td>0.551813</td><td>0.497409</td><td>0.608808</td><td>0.816062</td></tr><tr><td>&quot;ZRX&quot;</td><td>2025-01-01</td><td>2025-01-01 23:58:35</td><td>2025-01-01</td><td>2025-01-01 22:59:50.502235</td><td>4.6053e6</td><td>2145.989053</td><td>0.079277</td><td>27962</td><td>3.2760e7</td><td>5723.64234</td><td>-0.035207</td><td>179302</td><td>-0.007864</td><td>0.054503</td><td>1008</td><td>-0.004149</td><td>0.090366</td><td>4320</td><td>0.551813</td><td>0.497409</td><td>0.608808</td><td>0.816062</td></tr><tr><td>&quot;ZRX&quot;</td><td>2025-01-01</td><td>2025-01-01 23:58:45</td><td>2025-01-01</td><td>2025-01-01 22:59:50.502235</td><td>4.6053e6</td><td>2145.989053</td><td>0.079277</td><td>27962</td><td>3.2760e7</td><td>5723.64234</td><td>-0.035207</td><td>179302</td><td>-0.007864</td><td>0.054503</td><td>1008</td><td>-0.004149</td><td>0.090366</td><td>4320</td><td>0.551813</td><td>0.497409</td><td>0.608808</td><td>0.816062</td></tr><tr><td>&quot;ZRX&quot;</td><td>2025-01-01</td><td>2025-01-01 23:59:40</td><td>2025-01-01</td><td>2025-01-01 22:59:50.502235</td><td>4.6053e6</td><td>2145.989053</td><td>0.079277</td><td>27962</td><td>3.2760e7</td><td>5723.64234</td><td>-0.035207</td><td>179302</td><td>-0.007864</td><td>0.054503</td><td>1008</td><td>-0.004149</td><td>0.090366</td><td>4320</td><td>0.551813</td><td>0.497409</td><td>0.608808</td><td>0.816062</td></tr></tbody></table></div>"
      ],
      "text/plain": [
       "shape: (2_824_525, 23)\n",
       "┌─────────┬────────────┬───────────┬───────────┬───┬───────────┬───────────┬───────────┬───────────┐\n",
       "│ symbol  ┆ date       ┆ time      ┆ date_righ ┆ … ┆ liquidity ┆ liquidity ┆ daily_vol ┆ daily_vol │\n",
       "│ ---     ┆ ---        ┆ ---       ┆ t         ┆   ┆ _1d_q     ┆ _7d_q     ┆ _7d_lookb ┆ _30d_look │\n",
       "│ enum    ┆ date       ┆ datetime[ ┆ ---       ┆   ┆ ---       ┆ ---       ┆ ack_q     ┆ back_q    │\n",
       "│         ┆            ┆ μs]       ┆ date      ┆   ┆ f64       ┆ f64       ┆ ---       ┆ ---       │\n",
       "│         ┆            ┆           ┆           ┆   ┆           ┆           ┆ f64       ┆ f64       │\n",
       "╞═════════╪════════════╪═══════════╪═══════════╪═══╪═══════════╪═══════════╪═══════════╪═══════════╡\n",
       "│ 1000CAT ┆ 2025-01-01 ┆ 2025-01-0 ┆ 2024-12-3 ┆ … ┆ 0.777778  ┆ 0.718346  ┆ 0.77261   ┆ 0.873385  │\n",
       "│         ┆            ┆ 1         ┆ 1         ┆   ┆           ┆           ┆           ┆           │\n",
       "│         ┆            ┆ 00:00:05  ┆           ┆   ┆           ┆           ┆           ┆           │\n",
       "│ 1000CAT ┆ 2025-01-01 ┆ 2025-01-0 ┆ 2024-12-3 ┆ … ┆ 0.777778  ┆ 0.718346  ┆ 0.77261   ┆ 0.873385  │\n",
       "│         ┆            ┆ 1         ┆ 1         ┆   ┆           ┆           ┆           ┆           │\n",
       "│         ┆            ┆ 00:00:10  ┆           ┆   ┆           ┆           ┆           ┆           │\n",
       "│ 1000CAT ┆ 2025-01-01 ┆ 2025-01-0 ┆ 2024-12-3 ┆ … ┆ 0.777778  ┆ 0.718346  ┆ 0.77261   ┆ 0.873385  │\n",
       "│         ┆            ┆ 1         ┆ 1         ┆   ┆           ┆           ┆           ┆           │\n",
       "│         ┆            ┆ 00:00:20  ┆           ┆   ┆           ┆           ┆           ┆           │\n",
       "│ 1000CAT ┆ 2025-01-01 ┆ 2025-01-0 ┆ 2024-12-3 ┆ … ┆ 0.777778  ┆ 0.718346  ┆ 0.77261   ┆ 0.873385  │\n",
       "│         ┆            ┆ 1         ┆ 1         ┆   ┆           ┆           ┆           ┆           │\n",
       "│         ┆            ┆ 00:00:25  ┆           ┆   ┆           ┆           ┆           ┆           │\n",
       "│ 1000CAT ┆ 2025-01-01 ┆ 2025-01-0 ┆ 2024-12-3 ┆ … ┆ 0.777778  ┆ 0.718346  ┆ 0.77261   ┆ 0.873385  │\n",
       "│         ┆            ┆ 1         ┆ 1         ┆   ┆           ┆           ┆           ┆           │\n",
       "│         ┆            ┆ 00:00:30  ┆           ┆   ┆           ┆           ┆           ┆           │\n",
       "│ …       ┆ …          ┆ …         ┆ …         ┆ … ┆ …         ┆ …         ┆ …         ┆ …         │\n",
       "│ ZRX     ┆ 2025-01-01 ┆ 2025-01-0 ┆ 2025-01-0 ┆ … ┆ 0.551813  ┆ 0.497409  ┆ 0.608808  ┆ 0.816062  │\n",
       "│         ┆            ┆ 1         ┆ 1         ┆   ┆           ┆           ┆           ┆           │\n",
       "│         ┆            ┆ 23:58:10  ┆           ┆   ┆           ┆           ┆           ┆           │\n",
       "│ ZRX     ┆ 2025-01-01 ┆ 2025-01-0 ┆ 2025-01-0 ┆ … ┆ 0.551813  ┆ 0.497409  ┆ 0.608808  ┆ 0.816062  │\n",
       "│         ┆            ┆ 1         ┆ 1         ┆   ┆           ┆           ┆           ┆           │\n",
       "│         ┆            ┆ 23:58:30  ┆           ┆   ┆           ┆           ┆           ┆           │\n",
       "│ ZRX     ┆ 2025-01-01 ┆ 2025-01-0 ┆ 2025-01-0 ┆ … ┆ 0.551813  ┆ 0.497409  ┆ 0.608808  ┆ 0.816062  │\n",
       "│         ┆            ┆ 1         ┆ 1         ┆   ┆           ┆           ┆           ┆           │\n",
       "│         ┆            ┆ 23:58:35  ┆           ┆   ┆           ┆           ┆           ┆           │\n",
       "│ ZRX     ┆ 2025-01-01 ┆ 2025-01-0 ┆ 2025-01-0 ┆ … ┆ 0.551813  ┆ 0.497409  ┆ 0.608808  ┆ 0.816062  │\n",
       "│         ┆            ┆ 1         ┆ 1         ┆   ┆           ┆           ┆           ┆           │\n",
       "│         ┆            ┆ 23:58:45  ┆           ┆   ┆           ┆           ┆           ┆           │\n",
       "│ ZRX     ┆ 2025-01-01 ┆ 2025-01-0 ┆ 2025-01-0 ┆ … ┆ 0.551813  ┆ 0.497409  ┆ 0.608808  ┆ 0.816062  │\n",
       "│         ┆            ┆ 1         ┆ 1         ┆   ┆           ┆           ┆           ┆           │\n",
       "│         ┆            ┆ 23:59:40  ┆           ┆   ┆           ┆           ┆           ┆           │\n",
       "└─────────┴────────────┴───────────┴───────────┴───┴───────────┴───────────┴───────────┴───────────┘"
      ]
     },
     "execution_count": 11,
     "metadata": {},
     "output_type": "execute_result"
    }
   ],
   "source": [
    "metadata_engine.append_metadata(\n",
    "    query_lf,\n",
    "    time_expr=pl.col('time'), \n",
    "    symbol_expr=pl.col('symbol')\n",
    ").collect()"
   ]
  },
  {
   "cell_type": "markdown",
   "id": "5b728d9d",
   "metadata": {},
   "source": [
    "## Lossless raw dataset\n",
    "\n",
    "Tick-level dataset directly parsed from Binance, in case you're ever interested. Usually, working with `5s` gridded dataframe is much more efficient. \n",
    "\n",
    "We only have parquet-level access. One single date has `~100M` rows"
   ]
  },
  {
   "cell_type": "code",
   "execution_count": 12,
   "id": "12c61fda",
   "metadata": {},
   "outputs": [
    {
     "data": {
      "text/html": [
       "<div><style>\n",
       ".dataframe > thead > tr,\n",
       ".dataframe > tbody > tr {\n",
       "  text-align: right;\n",
       "  white-space: pre-wrap;\n",
       "}\n",
       "</style>\n",
       "<small>shape: (29_490_578, 10)</small><table border=\"1\" class=\"dataframe\"><thead><tr><th>trade_id</th><th>price</th><th>quantity</th><th>quote_quantity</th><th>time</th><th>is_buyer_maker</th><th>is_best_match</th><th>peg_symbol</th><th>date</th><th>symbol</th></tr><tr><td>i64</td><td>f64</td><td>f64</td><td>f64</td><td>datetime[μs]</td><td>bool</td><td>bool</td><td>str</td><td>date</td><td>str</td></tr></thead><tbody><tr><td>15279222</td><td>0.0007793</td><td>283977.0</td><td>221.303276</td><td>2024-01-01 00:00:05.141</td><td>true</td><td>true</td><td>&quot;USDT&quot;</td><td>2024-01-01</td><td>&quot;1000SATS&quot;</td></tr><tr><td>15279223</td><td>0.0007793</td><td>1927.0</td><td>1.5017111</td><td>2024-01-01 00:00:05.141</td><td>true</td><td>true</td><td>&quot;USDT&quot;</td><td>2024-01-01</td><td>&quot;1000SATS&quot;</td></tr><tr><td>15279224</td><td>0.0007792</td><td>319059.0</td><td>248.610773</td><td>2024-01-01 00:00:05.141</td><td>true</td><td>true</td><td>&quot;USDT&quot;</td><td>2024-01-01</td><td>&quot;1000SATS&quot;</td></tr><tr><td>15279225</td><td>0.0007792</td><td>527469.0</td><td>411.003845</td><td>2024-01-01 00:00:05.141</td><td>true</td><td>true</td><td>&quot;USDT&quot;</td><td>2024-01-01</td><td>&quot;1000SATS&quot;</td></tr><tr><td>15279226</td><td>0.0007792</td><td>1934.0</td><td>1.5069728</td><td>2024-01-01 00:00:05.141</td><td>true</td><td>true</td><td>&quot;USDT&quot;</td><td>2024-01-01</td><td>&quot;1000SATS&quot;</td></tr><tr><td>&hellip;</td><td>&hellip;</td><td>&hellip;</td><td>&hellip;</td><td>&hellip;</td><td>&hellip;</td><td>&hellip;</td><td>&hellip;</td><td>&hellip;</td><td>&hellip;</td></tr><tr><td>40255595</td><td>0.3737</td><td>1490.0</td><td>556.813</td><td>2024-01-01 23:59:33.935</td><td>true</td><td>true</td><td>&quot;USDT&quot;</td><td>2024-01-01</td><td>&quot;ZRX&quot;</td></tr><tr><td>40255596</td><td>0.3737</td><td>915.0</td><td>341.9355</td><td>2024-01-01 23:59:38.661</td><td>true</td><td>true</td><td>&quot;USDT&quot;</td><td>2024-01-01</td><td>&quot;ZRX&quot;</td></tr><tr><td>40255597</td><td>0.3737</td><td>606.0</td><td>226.4622</td><td>2024-01-01 23:59:47.223</td><td>true</td><td>true</td><td>&quot;USDT&quot;</td><td>2024-01-01</td><td>&quot;ZRX&quot;</td></tr><tr><td>40255598</td><td>0.3737</td><td>1061.0</td><td>396.4957</td><td>2024-01-01 23:59:48.866</td><td>true</td><td>true</td><td>&quot;USDT&quot;</td><td>2024-01-01</td><td>&quot;ZRX&quot;</td></tr><tr><td>40255599</td><td>0.3737</td><td>1248.0</td><td>466.3776</td><td>2024-01-01 23:59:56.980</td><td>true</td><td>true</td><td>&quot;USDT&quot;</td><td>2024-01-01</td><td>&quot;ZRX&quot;</td></tr></tbody></table></div>"
      ],
      "text/plain": [
       "shape: (29_490_578, 10)\n",
       "┌──────────┬───────────┬──────────┬────────────┬───┬────────────┬───────────┬───────────┬──────────┐\n",
       "│ trade_id ┆ price     ┆ quantity ┆ quote_quan ┆ … ┆ is_best_ma ┆ peg_symbo ┆ date      ┆ symbol   │\n",
       "│ ---      ┆ ---       ┆ ---      ┆ tity       ┆   ┆ tch        ┆ l         ┆ ---       ┆ ---      │\n",
       "│ i64      ┆ f64       ┆ f64      ┆ ---        ┆   ┆ ---        ┆ ---       ┆ date      ┆ str      │\n",
       "│          ┆           ┆          ┆ f64        ┆   ┆ bool       ┆ str       ┆           ┆          │\n",
       "╞══════════╪═══════════╪══════════╪════════════╪═══╪════════════╪═══════════╪═══════════╪══════════╡\n",
       "│ 15279222 ┆ 0.0007793 ┆ 283977.0 ┆ 221.303276 ┆ … ┆ true       ┆ USDT      ┆ 2024-01-0 ┆ 1000SATS │\n",
       "│          ┆           ┆          ┆            ┆   ┆            ┆           ┆ 1         ┆          │\n",
       "│ 15279223 ┆ 0.0007793 ┆ 1927.0   ┆ 1.5017111  ┆ … ┆ true       ┆ USDT      ┆ 2024-01-0 ┆ 1000SATS │\n",
       "│          ┆           ┆          ┆            ┆   ┆            ┆           ┆ 1         ┆          │\n",
       "│ 15279224 ┆ 0.0007792 ┆ 319059.0 ┆ 248.610773 ┆ … ┆ true       ┆ USDT      ┆ 2024-01-0 ┆ 1000SATS │\n",
       "│          ┆           ┆          ┆            ┆   ┆            ┆           ┆ 1         ┆          │\n",
       "│ 15279225 ┆ 0.0007792 ┆ 527469.0 ┆ 411.003845 ┆ … ┆ true       ┆ USDT      ┆ 2024-01-0 ┆ 1000SATS │\n",
       "│          ┆           ┆          ┆            ┆   ┆            ┆           ┆ 1         ┆          │\n",
       "│ 15279226 ┆ 0.0007792 ┆ 1934.0   ┆ 1.5069728  ┆ … ┆ true       ┆ USDT      ┆ 2024-01-0 ┆ 1000SATS │\n",
       "│          ┆           ┆          ┆            ┆   ┆            ┆           ┆ 1         ┆          │\n",
       "│ …        ┆ …         ┆ …        ┆ …          ┆ … ┆ …          ┆ …         ┆ …         ┆ …        │\n",
       "│ 40255595 ┆ 0.3737    ┆ 1490.0   ┆ 556.813    ┆ … ┆ true       ┆ USDT      ┆ 2024-01-0 ┆ ZRX      │\n",
       "│          ┆           ┆          ┆            ┆   ┆            ┆           ┆ 1         ┆          │\n",
       "│ 40255596 ┆ 0.3737    ┆ 915.0    ┆ 341.9355   ┆ … ┆ true       ┆ USDT      ┆ 2024-01-0 ┆ ZRX      │\n",
       "│          ┆           ┆          ┆            ┆   ┆            ┆           ┆ 1         ┆          │\n",
       "│ 40255597 ┆ 0.3737    ┆ 606.0    ┆ 226.4622   ┆ … ┆ true       ┆ USDT      ┆ 2024-01-0 ┆ ZRX      │\n",
       "│          ┆           ┆          ┆            ┆   ┆            ┆           ┆ 1         ┆          │\n",
       "│ 40255598 ┆ 0.3737    ┆ 1061.0   ┆ 396.4957   ┆ … ┆ true       ┆ USDT      ┆ 2024-01-0 ┆ ZRX      │\n",
       "│          ┆           ┆          ┆            ┆   ┆            ┆           ┆ 1         ┆          │\n",
       "│ 40255599 ┆ 0.3737    ┆ 1248.0   ┆ 466.3776   ┆ … ┆ true       ┆ USDT      ┆ 2024-01-0 ┆ ZRX      │\n",
       "│          ┆           ┆          ┆            ┆   ┆            ┆           ┆ 1         ┆          │\n",
       "└──────────┴───────────┴──────────┴────────────┴───┴────────────┴───────────┴───────────┴──────────┘"
      ]
     },
     "execution_count": 12,
     "metadata": {},
     "output_type": "execute_result"
    }
   ],
   "source": [
    "pl.read_parquet(grid_dataset.src_path / f'date={sample_dates[0].strftime(\"%Y-%m-%d\")}/**/data.parquet', hive_partitioning=True)"
   ]
  },
  {
   "cell_type": "code",
   "execution_count": null,
   "id": "cc276167",
   "metadata": {},
   "outputs": [],
   "source": []
  }
 ],
 "metadata": {
  "kernelspec": {
   "display_name": ".venv",
   "language": "python",
   "name": "python3"
  },
  "language_info": {
   "codemirror_mode": {
    "name": "ipython",
    "version": 3
   },
   "file_extension": ".py",
   "mimetype": "text/x-python",
   "name": "python",
   "nbconvert_exporter": "python",
   "pygments_lexer": "ipython3",
   "version": "3.12.3"
  }
 },
 "nbformat": 4,
 "nbformat_minor": 5
}
