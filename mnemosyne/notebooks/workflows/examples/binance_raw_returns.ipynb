{
 "cells": [
  {
   "cell_type": "markdown",
   "id": "e52c8f36",
   "metadata": {},
   "source": [
    "# Returns engine demo\n",
    "\n",
    "Demonstrates usage of the returns engine, which consumes a backend db with \"time\", \"symbol\" and fair expressions"
   ]
  },
  {
   "cell_type": "code",
   "execution_count": 1,
   "id": "3895fd3b",
   "metadata": {},
   "outputs": [],
   "source": [
    "import mnemosyne as ms\n",
    "from mnemosyne.engines import ReturnsEngine \n",
    "from datetime import datetime as Datetime, date as Date\n",
    "from timedelta_isoformat import timedelta as Timedelta\n",
    "import polars as pl\n",
    "from pathlib import Path\n",
    "from tqdm.auto import tqdm"
   ]
  },
  {
   "cell_type": "markdown",
   "id": "cad851dd",
   "metadata": {},
   "source": [
    "# Minimal example"
   ]
  },
  {
   "cell_type": "code",
   "execution_count": 2,
   "id": "cdda6831",
   "metadata": {},
   "outputs": [
    {
     "name": "stderr",
     "output_type": "stream",
     "text": [
      "sys:1: UserWarning: Sortedness of columns cannot be checked when 'by' groups provided\n"
     ]
    },
    {
     "data": {
      "text/html": [
       "<div><style>\n",
       ".dataframe > thead > tr,\n",
       ".dataframe > tbody > tr {\n",
       "  text-align: right;\n",
       "  white-space: pre-wrap;\n",
       "}\n",
       "</style>\n",
       "<small>shape: (5, 4)</small><table border=\"1\" class=\"dataframe\"><thead><tr><th>symbol</th><th>times</th><th>max_tick_to_query_lag</th><th>return</th></tr><tr><td>enum</td><td>datetime[μs]</td><td>duration[μs]</td><td>f64</td></tr></thead><tbody><tr><td>&quot;BTC&quot;</td><td>2025-08-01 09:00:00</td><td>3s 766592µs</td><td>0.00313</td></tr><tr><td>&quot;ETH&quot;</td><td>2025-08-01 09:00:00</td><td>399614µs</td><td>0.004187</td></tr><tr><td>&quot;BTCDOWN&quot;</td><td>2025-08-01 09:00:00</td><td>null</td><td>null</td></tr><tr><td>&quot;BNB&quot;</td><td>2025-08-01 09:00:00</td><td>1s 88569µs</td><td>0.003798</td></tr><tr><td>&quot;SHIB&quot;</td><td>2025-08-01 09:00:00</td><td>5s 547004µs</td><td>0.00332</td></tr></tbody></table></div>"
      ],
      "text/plain": [
       "shape: (5, 4)\n",
       "┌─────────┬─────────────────────┬───────────────────────┬──────────┐\n",
       "│ symbol  ┆ times               ┆ max_tick_to_query_lag ┆ return   │\n",
       "│ ---     ┆ ---                 ┆ ---                   ┆ ---      │\n",
       "│ enum    ┆ datetime[μs]        ┆ duration[μs]          ┆ f64      │\n",
       "╞═════════╪═════════════════════╪═══════════════════════╪══════════╡\n",
       "│ BTC     ┆ 2025-08-01 09:00:00 ┆ 3s 766592µs           ┆ 0.00313  │\n",
       "│ ETH     ┆ 2025-08-01 09:00:00 ┆ 399614µs              ┆ 0.004187 │\n",
       "│ BTCDOWN ┆ 2025-08-01 09:00:00 ┆ null                  ┆ null     │\n",
       "│ BNB     ┆ 2025-08-01 09:00:00 ┆ 1s 88569µs            ┆ 0.003798 │\n",
       "│ SHIB    ┆ 2025-08-01 09:00:00 ┆ 5s 547004µs           ┆ 0.00332  │\n",
       "└─────────┴─────────────────────┴───────────────────────┴──────────┘"
      ]
     },
     "execution_count": 2,
     "metadata": {},
     "output_type": "execute_result"
    }
   ],
   "source": [
    "symbol_enum = pl.Enum(['BTC', 'ETH', 'BTCDOWN', 'BNB', 'SHIB'])\n",
    "\n",
    "query_lf = pl.DataFrame({\n",
    "    'symbol': ['BTC', 'ETH', 'BTCDOWN', 'BNB', 'SHIB'], \n",
    "    'times': [Datetime(2025, 8, 1, 9, 0, 0)] * 5\n",
    "}).with_columns(pl.col('symbol').cast(symbol_enum)).lazy()\n",
    "\n",
    "backend_db = ms.binance.BinanceLastTradesGrid(\n",
    "            peg_symbol='USDC', \n",
    "            grid_interval=Timedelta(seconds=5), \n",
    "            dataset_type=ms.DatasetType.BinanceSpotTrades, \n",
    "        ).lazyframe()\n",
    "\n",
    "re = ReturnsEngine(\n",
    "    backend_db, \n",
    "    backend_fair_expr = pl.col('vwap_price'), \n",
    "    backend_time_expr = pl.col('last_event_time')\n",
    ")\n",
    "\n",
    "value = re.query(query_lf, \n",
    "    start_time_expr = pl.col('times'), \n",
    "    mark_duration=Timedelta(minutes=10), \n",
    "    tick_lag_tolerance=Timedelta(minutes=10), \n",
    "    verbose_debug=False\n",
    ")\n",
    "value.collect()"
   ]
  },
  {
   "cell_type": "code",
   "execution_count": 3,
   "id": "f64e8a43",
   "metadata": {},
   "outputs": [
    {
     "data": {
      "text/html": [
       "<script type=\"esms-options\">{\"shimMode\": true}</script><style>*[data-root-id],\n",
       "*[data-root-id] > * {\n",
       "  box-sizing: border-box;\n",
       "  font-family: var(--jp-ui-font-family);\n",
       "  font-size: var(--jp-ui-font-size1);\n",
       "  color: var(--vscode-editor-foreground, var(--jp-ui-font-color1));\n",
       "}\n",
       "\n",
       "/* Override VSCode background color */\n",
       ".cell-output-ipywidget-background:has(\n",
       "  > .cell-output-ipywidget-background > .lm-Widget > *[data-root-id]\n",
       "),\n",
       ".cell-output-ipywidget-background:has(> .lm-Widget > *[data-root-id]) {\n",
       "  background-color: transparent !important;\n",
       "}\n",
       "</style>"
      ]
     },
     "metadata": {},
     "output_type": "display_data"
    },
    {
     "data": {
      "application/javascript": "(function(root) {\n  function now() {\n    return new Date();\n  }\n\n  const force = true;\n  const py_version = '3.8.0'.replace('rc', '-rc.').replace('.dev', '-dev.');\n  const reloading = false;\n  const Bokeh = root.Bokeh;\n\n  // Set a timeout for this load but only if we are not already initializing\n  if (typeof (root._bokeh_timeout) === \"undefined\" || (force || !root._bokeh_is_initializing)) {\n    root._bokeh_timeout = Date.now() + 5000;\n    root._bokeh_failed_load = false;\n  }\n\n  function run_callbacks() {\n    try {\n      root._bokeh_onload_callbacks.forEach(function(callback) {\n        if (callback != null)\n          callback();\n      });\n    } finally {\n      delete root._bokeh_onload_callbacks;\n    }\n    console.debug(\"Bokeh: all callbacks have finished\");\n  }\n\n  function load_libs(css_urls, js_urls, js_modules, js_exports, callback) {\n    if (css_urls == null) css_urls = [];\n    if (js_urls == null) js_urls = [];\n    if (js_modules == null) js_modules = [];\n    if (js_exports == null) js_exports = {};\n\n    root._bokeh_onload_callbacks.push(callback);\n\n    if (root._bokeh_is_loading > 0) {\n      // Don't load bokeh if it is still initializing\n      console.debug(\"Bokeh: BokehJS is being loaded, scheduling callback at\", now());\n      return null;\n    } else if (js_urls.length === 0 && js_modules.length === 0 && Object.keys(js_exports).length === 0) {\n      // There is nothing to load\n      run_callbacks();\n      return null;\n    }\n\n    function on_load() {\n      root._bokeh_is_loading--;\n      if (root._bokeh_is_loading === 0) {\n        console.debug(\"Bokeh: all BokehJS libraries/stylesheets loaded\");\n        run_callbacks()\n      }\n    }\n    window._bokeh_on_load = on_load\n\n    function on_error(e) {\n      const src_el = e.srcElement\n      console.error(\"failed to load \" + (src_el.href || src_el.src));\n    }\n\n    const skip = [];\n    if (window.requirejs) {\n      window.requirejs.config({'packages': {}, 'paths': {}, 'shim': {}});\n      root._bokeh_is_loading = css_urls.length + 0;\n    } else {\n      root._bokeh_is_loading = css_urls.length + js_urls.length + js_modules.length + Object.keys(js_exports).length;\n    }\n\n    const existing_stylesheets = []\n    const links = document.getElementsByTagName('link')\n    for (let i = 0; i < links.length; i++) {\n      const link = links[i]\n      if (link.href != null) {\n        existing_stylesheets.push(link.href)\n      }\n    }\n    for (let i = 0; i < css_urls.length; i++) {\n      const url = css_urls[i];\n      const escaped = encodeURI(url)\n      if (existing_stylesheets.indexOf(escaped) !== -1) {\n        on_load()\n        continue;\n      }\n      const element = document.createElement(\"link\");\n      element.onload = on_load;\n      element.onerror = on_error;\n      element.rel = \"stylesheet\";\n      element.type = \"text/css\";\n      element.href = url;\n      console.debug(\"Bokeh: injecting link tag for BokehJS stylesheet: \", url);\n      document.body.appendChild(element);\n    }    var existing_scripts = []\n    const scripts = document.getElementsByTagName('script')\n    for (let i = 0; i < scripts.length; i++) {\n      var script = scripts[i]\n      if (script.src != null) {\n        existing_scripts.push(script.src)\n      }\n    }\n    for (let i = 0; i < js_urls.length; i++) {\n      const url = js_urls[i];\n      const escaped = encodeURI(url)\n      if (skip.indexOf(escaped) !== -1 || existing_scripts.indexOf(escaped) !== -1) {\n        if (!window.requirejs) {\n          on_load();\n        }\n        continue;\n      }\n      const element = document.createElement('script');\n      element.onload = on_load;\n      element.onerror = on_error;\n      element.async = false;\n      element.src = url;\n      console.debug(\"Bokeh: injecting script tag for BokehJS library: \", url);\n      document.head.appendChild(element);\n    }\n    for (let i = 0; i < js_modules.length; i++) {\n      const url = js_modules[i];\n      const escaped = encodeURI(url)\n      if (skip.indexOf(escaped) !== -1 || existing_scripts.indexOf(escaped) !== -1) {\n        if (!window.requirejs) {\n          on_load();\n        }\n        continue;\n      }\n      var element = document.createElement('script');\n      element.onload = on_load;\n      element.onerror = on_error;\n      element.async = false;\n      element.src = url;\n      element.type = \"module\";\n      console.debug(\"Bokeh: injecting script tag for BokehJS library: \", url);\n      document.head.appendChild(element);\n    }\n    for (const name in js_exports) {\n      const url = js_exports[name];\n      const escaped = encodeURI(url)\n      if (skip.indexOf(escaped) >= 0 || root[name] != null) {\n        if (!window.requirejs) {\n          on_load();\n        }\n        continue;\n      }\n      var element = document.createElement('script');\n      element.onerror = on_error;\n      element.async = false;\n      element.type = \"module\";\n      console.debug(\"Bokeh: injecting script tag for BokehJS library: \", url);\n      element.textContent = `\n      import ${name} from \"${url}\"\n      window.${name} = ${name}\n      window._bokeh_on_load()\n      `\n      document.head.appendChild(element);\n    }\n    if (!js_urls.length && !js_modules.length) {\n      on_load()\n    }\n  };\n\n  function inject_raw_css(css) {\n    const element = document.createElement(\"style\");\n    element.appendChild(document.createTextNode(css));\n    document.body.appendChild(element);\n  }\n\n  const js_urls = [\"https://cdn.holoviz.org/panel/1.8.2/dist/bundled/reactiveesm/es-module-shims@^1.10.0/dist/es-module-shims.min.js\", \"https://cdn.bokeh.org/bokeh/release/bokeh-3.8.0.min.js\", \"https://cdn.bokeh.org/bokeh/release/bokeh-gl-3.8.0.min.js\", \"https://cdn.bokeh.org/bokeh/release/bokeh-widgets-3.8.0.min.js\", \"https://cdn.bokeh.org/bokeh/release/bokeh-tables-3.8.0.min.js\", \"https://cdn.holoviz.org/panel/1.8.2/dist/panel.min.js\"];\n  const js_modules = [];\n  const js_exports = {};\n  const css_urls = [];\n  const inline_js = [    function(Bokeh) {\n      Bokeh.set_log_level(\"info\");\n    },\nfunction(Bokeh) {} // ensure no trailing comma for IE\n  ];\n\n  function run_inline_js() {\n    if ((root.Bokeh !== undefined) || (force === true)) {\n      for (let i = 0; i < inline_js.length; i++) {\n        try {\n          inline_js[i].call(root, root.Bokeh);\n        } catch(e) {\n          if (!reloading) {\n            throw e;\n          }\n        }\n      }\n      // Cache old bokeh versions\n      if (Bokeh != undefined && !reloading) {\n        var NewBokeh = root.Bokeh;\n        if (Bokeh.versions === undefined) {\n          Bokeh.versions = new Map();\n        }\n        if (NewBokeh.version !== Bokeh.version) {\n          Bokeh.versions.set(NewBokeh.version, NewBokeh)\n        }\n        root.Bokeh = Bokeh;\n      }\n    } else if (Date.now() < root._bokeh_timeout) {\n      setTimeout(run_inline_js, 100);\n    } else if (!root._bokeh_failed_load) {\n      console.log(\"Bokeh: BokehJS failed to load within specified timeout.\");\n      root._bokeh_failed_load = true;\n    }\n    root._bokeh_is_initializing = false\n  }\n\n  function load_or_wait() {\n    // Implement a backoff loop that tries to ensure we do not load multiple\n    // versions of Bokeh and its dependencies at the same time.\n    // In recent versions we use the root._bokeh_is_initializing flag\n    // to determine whether there is an ongoing attempt to initialize\n    // bokeh, however for backward compatibility we also try to ensure\n    // that we do not start loading a newer (Panel>=1.0 and Bokeh>3) version\n    // before older versions are fully initialized.\n    if (root._bokeh_is_initializing && Date.now() > root._bokeh_timeout) {\n      // If the timeout and bokeh was not successfully loaded we reset\n      // everything and try loading again\n      root._bokeh_timeout = Date.now() + 5000;\n      root._bokeh_is_initializing = false;\n      root._bokeh_onload_callbacks = undefined;\n      root._bokeh_is_loading = 0\n      console.log(\"Bokeh: BokehJS was loaded multiple times but one version failed to initialize.\");\n      load_or_wait();\n    } else if (root._bokeh_is_initializing || (typeof root._bokeh_is_initializing === \"undefined\" && root._bokeh_onload_callbacks !== undefined)) {\n      setTimeout(load_or_wait, 100);\n    } else {\n      root._bokeh_is_initializing = true\n      root._bokeh_onload_callbacks = []\n      const bokeh_loaded = root.Bokeh != null && (root.Bokeh.version === py_version || (root.Bokeh.versions !== undefined && root.Bokeh.versions.has(py_version)));\n      if (!reloading && !bokeh_loaded) {\n        if (root.Bokeh) {\n          root.Bokeh = undefined;\n        }\n        console.debug(\"Bokeh: BokehJS not loaded, scheduling load and callback at\", now());\n      }\n      load_libs(css_urls, js_urls, js_modules, js_exports, function() {\n        console.debug(\"Bokeh: BokehJS plotting callback run at\", now());\n        run_inline_js();\n      });\n    }\n  }\n  // Give older versions of the autoload script a head-start to ensure\n  // they initialize before we start loading newer version.\n  setTimeout(load_or_wait, 100)\n}(window));",
      "application/vnd.holoviews_load.v0+json": ""
     },
     "metadata": {},
     "output_type": "display_data"
    },
    {
     "data": {
      "application/javascript": "\nif ((window.PyViz === undefined) || (window.PyViz instanceof HTMLElement)) {\n  window.PyViz = {comms: {}, comm_status:{}, kernels:{}, receivers: {}, plot_index: []}\n}\n\n\n    function JupyterCommManager() {\n    }\n\n    JupyterCommManager.prototype.register_target = function(plot_id, comm_id, msg_handler) {\n      if (window.comm_manager || ((window.Jupyter !== undefined) && (Jupyter.notebook.kernel != null))) {\n        var comm_manager = window.comm_manager || Jupyter.notebook.kernel.comm_manager;\n        comm_manager.register_target(comm_id, function(comm) {\n          comm.on_msg(msg_handler);\n        });\n      } else if ((plot_id in window.PyViz.kernels) && (window.PyViz.kernels[plot_id])) {\n        window.PyViz.kernels[plot_id].registerCommTarget(comm_id, function(comm) {\n          comm.onMsg = msg_handler;\n        });\n      } else if (typeof google != 'undefined' && google.colab.kernel != null) {\n        google.colab.kernel.comms.registerTarget(comm_id, (comm) => {\n          var messages = comm.messages[Symbol.asyncIterator]();\n          function processIteratorResult(result) {\n            var message = result.value;\n            var content = {data: message.data, comm_id};\n            var buffers = []\n            for (var buffer of message.buffers || []) {\n              buffers.push(new DataView(buffer))\n            }\n            var metadata = message.metadata || {};\n            var msg = {content, buffers, metadata}\n            msg_handler(msg);\n            return messages.next().then(processIteratorResult);\n          }\n          return messages.next().then(processIteratorResult);\n        })\n      }\n    }\n\n    JupyterCommManager.prototype.get_client_comm = function(plot_id, comm_id, msg_handler) {\n      if (comm_id in window.PyViz.comms) {\n        return window.PyViz.comms[comm_id];\n      } else if (window.comm_manager || ((window.Jupyter !== undefined) && (Jupyter.notebook.kernel != null))) {\n        var comm_manager = window.comm_manager || Jupyter.notebook.kernel.comm_manager;\n        var comm = comm_manager.new_comm(comm_id, {}, {}, {}, comm_id);\n        if (msg_handler) {\n          comm.on_msg(msg_handler);\n        }\n      } else if ((plot_id in window.PyViz.kernels) && (window.PyViz.kernels[plot_id])) {\n        var comm = window.PyViz.kernels[plot_id].connectToComm(comm_id);\n        let retries = 0;\n        const open = () => {\n          if (comm.active) {\n            comm.open();\n          } else if (retries > 3) {\n            console.warn('Comm target never activated')\n          } else {\n            retries += 1\n            setTimeout(open, 500)\n          }\n        }\n        if (comm.active) {\n          comm.open();\n        } else {\n          setTimeout(open, 500)\n        }\n        if (msg_handler) {\n          comm.onMsg = msg_handler;\n        }\n      } else if (typeof google != 'undefined' && google.colab.kernel != null) {\n        var comm_promise = google.colab.kernel.comms.open(comm_id)\n        comm_promise.then((comm) => {\n          window.PyViz.comms[comm_id] = comm;\n          if (msg_handler) {\n            var messages = comm.messages[Symbol.asyncIterator]();\n            function processIteratorResult(result) {\n              var message = result.value;\n              var content = {data: message.data};\n              var metadata = message.metadata || {comm_id};\n              var msg = {content, metadata}\n              msg_handler(msg);\n              return messages.next().then(processIteratorResult);\n            }\n            return messages.next().then(processIteratorResult);\n          }\n        })\n        var sendClosure = (data, metadata, buffers, disposeOnDone) => {\n          return comm_promise.then((comm) => {\n            comm.send(data, metadata, buffers, disposeOnDone);\n          });\n        };\n        var comm = {\n          send: sendClosure\n        };\n      }\n      window.PyViz.comms[comm_id] = comm;\n      return comm;\n    }\n    window.PyViz.comm_manager = new JupyterCommManager();\n    \n\n\nvar JS_MIME_TYPE = 'application/javascript';\nvar HTML_MIME_TYPE = 'text/html';\nvar EXEC_MIME_TYPE = 'application/vnd.holoviews_exec.v0+json';\nvar CLASS_NAME = 'output';\n\n/**\n * Render data to the DOM node\n */\nfunction render(props, node) {\n  var div = document.createElement(\"div\");\n  var script = document.createElement(\"script\");\n  node.appendChild(div);\n  node.appendChild(script);\n}\n\n/**\n * Handle when a new output is added\n */\nfunction handle_add_output(event, handle) {\n  var output_area = handle.output_area;\n  var output = handle.output;\n  if ((output.data == undefined) || (!output.data.hasOwnProperty(EXEC_MIME_TYPE))) {\n    return\n  }\n  var id = output.metadata[EXEC_MIME_TYPE][\"id\"];\n  var toinsert = output_area.element.find(\".\" + CLASS_NAME.split(' ')[0]);\n  if (id !== undefined) {\n    var nchildren = toinsert.length;\n    var html_node = toinsert[nchildren-1].children[0];\n    html_node.innerHTML = output.data[HTML_MIME_TYPE];\n    var scripts = [];\n    var nodelist = html_node.querySelectorAll(\"script\");\n    for (var i in nodelist) {\n      if (nodelist.hasOwnProperty(i)) {\n        scripts.push(nodelist[i])\n      }\n    }\n\n    scripts.forEach( function (oldScript) {\n      var newScript = document.createElement(\"script\");\n      var attrs = [];\n      var nodemap = oldScript.attributes;\n      for (var j in nodemap) {\n        if (nodemap.hasOwnProperty(j)) {\n          attrs.push(nodemap[j])\n        }\n      }\n      attrs.forEach(function(attr) { newScript.setAttribute(attr.name, attr.value) });\n      newScript.appendChild(document.createTextNode(oldScript.innerHTML));\n      oldScript.parentNode.replaceChild(newScript, oldScript);\n    });\n    if (JS_MIME_TYPE in output.data) {\n      toinsert[nchildren-1].children[1].textContent = output.data[JS_MIME_TYPE];\n    }\n    output_area._hv_plot_id = id;\n    if ((window.Bokeh !== undefined) && (id in Bokeh.index)) {\n      window.PyViz.plot_index[id] = Bokeh.index[id];\n    } else {\n      window.PyViz.plot_index[id] = null;\n    }\n  } else if (output.metadata[EXEC_MIME_TYPE][\"server_id\"] !== undefined) {\n    var bk_div = document.createElement(\"div\");\n    bk_div.innerHTML = output.data[HTML_MIME_TYPE];\n    var script_attrs = bk_div.children[0].attributes;\n    for (var i = 0; i < script_attrs.length; i++) {\n      toinsert[toinsert.length - 1].childNodes[1].setAttribute(script_attrs[i].name, script_attrs[i].value);\n    }\n    // store reference to server id on output_area\n    output_area._bokeh_server_id = output.metadata[EXEC_MIME_TYPE][\"server_id\"];\n  }\n}\n\n/**\n * Handle when an output is cleared or removed\n */\nfunction handle_clear_output(event, handle) {\n  var id = handle.cell.output_area._hv_plot_id;\n  var server_id = handle.cell.output_area._bokeh_server_id;\n  if (((id === undefined) || !(id in PyViz.plot_index)) && (server_id !== undefined)) { return; }\n  var comm = window.PyViz.comm_manager.get_client_comm(\"hv-extension-comm\", \"hv-extension-comm\", function () {});\n  if (server_id !== null) {\n    comm.send({event_type: 'server_delete', 'id': server_id});\n    return;\n  } else if (comm !== null) {\n    comm.send({event_type: 'delete', 'id': id});\n  }\n  delete PyViz.plot_index[id];\n  if ((window.Bokeh !== undefined) & (id in window.Bokeh.index)) {\n    var doc = window.Bokeh.index[id].model.document\n    doc.clear();\n    const i = window.Bokeh.documents.indexOf(doc);\n    if (i > -1) {\n      window.Bokeh.documents.splice(i, 1);\n    }\n  }\n}\n\n/**\n * Handle kernel restart event\n */\nfunction handle_kernel_cleanup(event, handle) {\n  delete PyViz.comms[\"hv-extension-comm\"];\n  window.PyViz.plot_index = {}\n}\n\n/**\n * Handle update_display_data messages\n */\nfunction handle_update_output(event, handle) {\n  handle_clear_output(event, {cell: {output_area: handle.output_area}})\n  handle_add_output(event, handle)\n}\n\nfunction register_renderer(events, OutputArea) {\n  function append_mime(data, metadata, element) {\n    // create a DOM node to render to\n    var toinsert = this.create_output_subarea(\n    metadata,\n    CLASS_NAME,\n    EXEC_MIME_TYPE\n    );\n    this.keyboard_manager.register_events(toinsert);\n    // Render to node\n    var props = {data: data, metadata: metadata[EXEC_MIME_TYPE]};\n    render(props, toinsert[0]);\n    element.append(toinsert);\n    return toinsert\n  }\n\n  events.on('output_added.OutputArea', handle_add_output);\n  events.on('output_updated.OutputArea', handle_update_output);\n  events.on('clear_output.CodeCell', handle_clear_output);\n  events.on('delete.Cell', handle_clear_output);\n  events.on('kernel_ready.Kernel', handle_kernel_cleanup);\n\n  OutputArea.prototype.register_mime_type(EXEC_MIME_TYPE, append_mime, {\n    safe: true,\n    index: 0\n  });\n}\n\nif (window.Jupyter !== undefined) {\n  try {\n    var events = require('base/js/events');\n    var OutputArea = require('notebook/js/outputarea').OutputArea;\n    if (OutputArea.prototype.mime_types().indexOf(EXEC_MIME_TYPE) == -1) {\n      register_renderer(events, OutputArea);\n    }\n  } catch(err) {\n  }\n}\n",
      "application/vnd.holoviews_load.v0+json": ""
     },
     "metadata": {},
     "output_type": "display_data"
    },
    {
     "data": {
      "application/vnd.holoviews_exec.v0+json": "",
      "text/html": [
       "<div id='783c2479-aa19-4424-a862-c1c7b1f02250'>\n",
       "  <div id=\"a840c28f-b87d-470e-aeaa-3c023f44f790\" data-root-id=\"783c2479-aa19-4424-a862-c1c7b1f02250\" style=\"display: contents;\"></div>\n",
       "</div>\n",
       "<script type=\"application/javascript\">(function(root) {\n",
       "  var docs_json = {\"100b4d13-01bc-4d43-ad97-3ee7d8c19aad\":{\"version\":\"3.8.0\",\"title\":\"Bokeh Application\",\"config\":{\"type\":\"object\",\"name\":\"DocumentConfig\",\"id\":\"c70f4088-dca5-4286-9d0e-be08a49b4f9d\",\"attributes\":{\"notifications\":{\"type\":\"object\",\"name\":\"Notifications\",\"id\":\"e134443b-26f3-4d40-a86c-2d3cad15868c\"}}},\"roots\":[{\"type\":\"object\",\"name\":\"panel.models.browser.BrowserInfo\",\"id\":\"783c2479-aa19-4424-a862-c1c7b1f02250\"},{\"type\":\"object\",\"name\":\"panel.models.comm_manager.CommManager\",\"id\":\"998c60dc-dd75-4a21-89eb-3f14a86c7f4a\",\"attributes\":{\"plot_id\":\"783c2479-aa19-4424-a862-c1c7b1f02250\",\"comm_id\":\"946d355f3fea4907be09d8b73cbeed94\",\"client_comm_id\":\"ea99bc914e814c2786067f1bb3210767\"}}],\"defs\":[{\"type\":\"model\",\"name\":\"ReactiveHTML1\"},{\"type\":\"model\",\"name\":\"FlexBox1\",\"properties\":[{\"name\":\"align_content\",\"kind\":\"Any\",\"default\":\"flex-start\"},{\"name\":\"align_items\",\"kind\":\"Any\",\"default\":\"flex-start\"},{\"name\":\"flex_direction\",\"kind\":\"Any\",\"default\":\"row\"},{\"name\":\"flex_wrap\",\"kind\":\"Any\",\"default\":\"wrap\"},{\"name\":\"gap\",\"kind\":\"Any\",\"default\":\"\"},{\"name\":\"justify_content\",\"kind\":\"Any\",\"default\":\"flex-start\"}]},{\"type\":\"model\",\"name\":\"FloatPanel1\",\"properties\":[{\"name\":\"config\",\"kind\":\"Any\",\"default\":{\"type\":\"map\"}},{\"name\":\"contained\",\"kind\":\"Any\",\"default\":true},{\"name\":\"position\",\"kind\":\"Any\",\"default\":\"right-top\"},{\"name\":\"offsetx\",\"kind\":\"Any\",\"default\":null},{\"name\":\"offsety\",\"kind\":\"Any\",\"default\":null},{\"name\":\"theme\",\"kind\":\"Any\",\"default\":\"primary\"},{\"name\":\"status\",\"kind\":\"Any\",\"default\":\"normalized\"}]},{\"type\":\"model\",\"name\":\"GridStack1\",\"properties\":[{\"name\":\"ncols\",\"kind\":\"Any\",\"default\":null},{\"name\":\"nrows\",\"kind\":\"Any\",\"default\":null},{\"name\":\"allow_resize\",\"kind\":\"Any\",\"default\":true},{\"name\":\"allow_drag\",\"kind\":\"Any\",\"default\":true},{\"name\":\"state\",\"kind\":\"Any\",\"default\":[]}]},{\"type\":\"model\",\"name\":\"drag1\",\"properties\":[{\"name\":\"slider_width\",\"kind\":\"Any\",\"default\":5},{\"name\":\"slider_color\",\"kind\":\"Any\",\"default\":\"black\"},{\"name\":\"start\",\"kind\":\"Any\",\"default\":0},{\"name\":\"end\",\"kind\":\"Any\",\"default\":100},{\"name\":\"value\",\"kind\":\"Any\",\"default\":50}]},{\"type\":\"model\",\"name\":\"click1\",\"properties\":[{\"name\":\"terminal_output\",\"kind\":\"Any\",\"default\":\"\"},{\"name\":\"debug_name\",\"kind\":\"Any\",\"default\":\"\"},{\"name\":\"clears\",\"kind\":\"Any\",\"default\":0}]},{\"type\":\"model\",\"name\":\"ReactiveESM1\",\"properties\":[{\"name\":\"esm_constants\",\"kind\":\"Any\",\"default\":{\"type\":\"map\"}}]},{\"type\":\"model\",\"name\":\"JSComponent1\",\"properties\":[{\"name\":\"esm_constants\",\"kind\":\"Any\",\"default\":{\"type\":\"map\"}}]},{\"type\":\"model\",\"name\":\"ReactComponent1\",\"properties\":[{\"name\":\"use_shadow_dom\",\"kind\":\"Any\",\"default\":true},{\"name\":\"esm_constants\",\"kind\":\"Any\",\"default\":{\"type\":\"map\"}}]},{\"type\":\"model\",\"name\":\"AnyWidgetComponent1\",\"properties\":[{\"name\":\"use_shadow_dom\",\"kind\":\"Any\",\"default\":true},{\"name\":\"esm_constants\",\"kind\":\"Any\",\"default\":{\"type\":\"map\"}}]},{\"type\":\"model\",\"name\":\"FastWrapper1\",\"properties\":[{\"name\":\"object\",\"kind\":\"Any\",\"default\":null},{\"name\":\"style\",\"kind\":\"Any\",\"default\":null}]},{\"type\":\"model\",\"name\":\"NotificationArea1\",\"properties\":[{\"name\":\"js_events\",\"kind\":\"Any\",\"default\":{\"type\":\"map\"}},{\"name\":\"max_notifications\",\"kind\":\"Any\",\"default\":5},{\"name\":\"notifications\",\"kind\":\"Any\",\"default\":[]},{\"name\":\"position\",\"kind\":\"Any\",\"default\":\"bottom-right\"},{\"name\":\"_clear\",\"kind\":\"Any\",\"default\":0},{\"name\":\"types\",\"kind\":\"Any\",\"default\":[{\"type\":\"map\",\"entries\":[[\"type\",\"warning\"],[\"background\",\"#ffc107\"],[\"icon\",{\"type\":\"map\",\"entries\":[[\"className\",\"fas fa-exclamation-triangle\"],[\"tagName\",\"i\"],[\"color\",\"white\"]]}]]},{\"type\":\"map\",\"entries\":[[\"type\",\"info\"],[\"background\",\"#007bff\"],[\"icon\",{\"type\":\"map\",\"entries\":[[\"className\",\"fas fa-info-circle\"],[\"tagName\",\"i\"],[\"color\",\"white\"]]}]]}]}]},{\"type\":\"model\",\"name\":\"Notification\",\"properties\":[{\"name\":\"background\",\"kind\":\"Any\",\"default\":null},{\"name\":\"duration\",\"kind\":\"Any\",\"default\":3000},{\"name\":\"icon\",\"kind\":\"Any\",\"default\":null},{\"name\":\"message\",\"kind\":\"Any\",\"default\":\"\"},{\"name\":\"notification_type\",\"kind\":\"Any\",\"default\":null},{\"name\":\"_rendered\",\"kind\":\"Any\",\"default\":false},{\"name\":\"_destroyed\",\"kind\":\"Any\",\"default\":false}]},{\"type\":\"model\",\"name\":\"TemplateActions1\",\"properties\":[{\"name\":\"open_modal\",\"kind\":\"Any\",\"default\":0},{\"name\":\"close_modal\",\"kind\":\"Any\",\"default\":0}]},{\"type\":\"model\",\"name\":\"BootstrapTemplateActions1\",\"properties\":[{\"name\":\"open_modal\",\"kind\":\"Any\",\"default\":0},{\"name\":\"close_modal\",\"kind\":\"Any\",\"default\":0}]},{\"type\":\"model\",\"name\":\"TemplateEditor1\",\"properties\":[{\"name\":\"layout\",\"kind\":\"Any\",\"default\":[]}]},{\"type\":\"model\",\"name\":\"MaterialTemplateActions1\",\"properties\":[{\"name\":\"open_modal\",\"kind\":\"Any\",\"default\":0},{\"name\":\"close_modal\",\"kind\":\"Any\",\"default\":0}]},{\"type\":\"model\",\"name\":\"request_value1\",\"properties\":[{\"name\":\"fill\",\"kind\":\"Any\",\"default\":\"none\"},{\"name\":\"_synced\",\"kind\":\"Any\",\"default\":null},{\"name\":\"_request_sync\",\"kind\":\"Any\",\"default\":0}]},{\"type\":\"model\",\"name\":\"holoviews.plotting.bokeh.raster.HoverModel\",\"properties\":[{\"name\":\"xy\",\"kind\":\"Any\",\"default\":null},{\"name\":\"data\",\"kind\":\"Any\",\"default\":null}]}]}};\n",
       "  var render_items = [{\"docid\":\"100b4d13-01bc-4d43-ad97-3ee7d8c19aad\",\"roots\":{\"783c2479-aa19-4424-a862-c1c7b1f02250\":\"a840c28f-b87d-470e-aeaa-3c023f44f790\"},\"root_ids\":[\"783c2479-aa19-4424-a862-c1c7b1f02250\"]}];\n",
       "  var docs = Object.values(docs_json)\n",
       "  if (!docs) {\n",
       "    return\n",
       "  }\n",
       "  const py_version = docs[0].version.replace('rc', '-rc.').replace('.dev', '-dev.')\n",
       "  async function embed_document(root) {\n",
       "    var Bokeh = get_bokeh(root)\n",
       "    await Bokeh.embed.embed_items_notebook(docs_json, render_items);\n",
       "    for (const render_item of render_items) {\n",
       "      for (const root_id of render_item.root_ids) {\n",
       "\tconst id_el = document.getElementById(root_id)\n",
       "\tif (id_el.children.length && id_el.children[0].hasAttribute('data-root-id')) {\n",
       "\t  const root_el = id_el.children[0]\n",
       "\t  root_el.id = root_el.id + '-rendered'\n",
       "\t  for (const child of root_el.children) {\n",
       "            // Ensure JupyterLab does not capture keyboard shortcuts\n",
       "            // see: https://jupyterlab.readthedocs.io/en/4.1.x/extension/notebook.html#keyboard-interaction-model\n",
       "\t    child.setAttribute('data-lm-suppress-shortcuts', 'true')\n",
       "\t  }\n",
       "\t}\n",
       "      }\n",
       "    }\n",
       "  }\n",
       "  function get_bokeh(root) {\n",
       "    if (root.Bokeh === undefined) {\n",
       "      return null\n",
       "    } else if (root.Bokeh.version !== py_version) {\n",
       "      if (root.Bokeh.versions === undefined || !root.Bokeh.versions.has(py_version)) {\n",
       "\treturn null\n",
       "      }\n",
       "      return root.Bokeh.versions.get(py_version);\n",
       "    } else if (root.Bokeh.version === py_version) {\n",
       "      return root.Bokeh\n",
       "    }\n",
       "    return null\n",
       "  }\n",
       "  function is_loaded(root) {\n",
       "    var Bokeh = get_bokeh(root)\n",
       "    return (Bokeh != null && Bokeh.Panel !== undefined)\n",
       "  }\n",
       "  if (is_loaded(root)) {\n",
       "    embed_document(root);\n",
       "  } else {\n",
       "    var attempts = 0;\n",
       "    var timer = setInterval(function(root) {\n",
       "      if (is_loaded(root)) {\n",
       "        clearInterval(timer);\n",
       "        embed_document(root);\n",
       "      } else if (document.readyState == \"complete\") {\n",
       "        attempts++;\n",
       "        if (attempts > 200) {\n",
       "          clearInterval(timer);\n",
       "\t  var Bokeh = get_bokeh(root)\n",
       "\t  if (Bokeh == null || Bokeh.Panel == null) {\n",
       "            console.warn(\"Panel: ERROR: Unable to run Panel code because Bokeh or Panel library is missing\");\n",
       "\t  } else {\n",
       "\t    console.warn(\"Panel: WARNING: Attempting to render but not all required libraries could be resolved.\")\n",
       "\t    embed_document(root)\n",
       "\t  }\n",
       "        }\n",
       "      }\n",
       "    }, 25, root)\n",
       "  }\n",
       "})(window);</script>"
      ]
     },
     "metadata": {
      "application/vnd.holoviews_exec.v0+json": {
       "id": "783c2479-aa19-4424-a862-c1c7b1f02250"
      }
     },
     "output_type": "display_data"
    },
    {
     "data": {
      "text/html": [
       "<script type=\"esms-options\">{\"shimMode\": true}</script><style>*[data-root-id],\n",
       "*[data-root-id] > * {\n",
       "  box-sizing: border-box;\n",
       "  font-family: var(--jp-ui-font-family);\n",
       "  font-size: var(--jp-ui-font-size1);\n",
       "  color: var(--vscode-editor-foreground, var(--jp-ui-font-color1));\n",
       "}\n",
       "\n",
       "/* Override VSCode background color */\n",
       ".cell-output-ipywidget-background:has(\n",
       "  > .cell-output-ipywidget-background > .lm-Widget > *[data-root-id]\n",
       "),\n",
       ".cell-output-ipywidget-background:has(> .lm-Widget > *[data-root-id]) {\n",
       "  background-color: transparent !important;\n",
       "}\n",
       "</style>"
      ]
     },
     "metadata": {},
     "output_type": "display_data"
    },
    {
     "data": {
      "application/javascript": "(function(root) {\n  function now() {\n    return new Date();\n  }\n\n  const force = false;\n  const py_version = '3.8.0'.replace('rc', '-rc.').replace('.dev', '-dev.');\n  const reloading = true;\n  const Bokeh = root.Bokeh;\n\n  // Set a timeout for this load but only if we are not already initializing\n  if (typeof (root._bokeh_timeout) === \"undefined\" || (force || !root._bokeh_is_initializing)) {\n    root._bokeh_timeout = Date.now() + 5000;\n    root._bokeh_failed_load = false;\n  }\n\n  function run_callbacks() {\n    try {\n      root._bokeh_onload_callbacks.forEach(function(callback) {\n        if (callback != null)\n          callback();\n      });\n    } finally {\n      delete root._bokeh_onload_callbacks;\n    }\n    console.debug(\"Bokeh: all callbacks have finished\");\n  }\n\n  function load_libs(css_urls, js_urls, js_modules, js_exports, callback) {\n    if (css_urls == null) css_urls = [];\n    if (js_urls == null) js_urls = [];\n    if (js_modules == null) js_modules = [];\n    if (js_exports == null) js_exports = {};\n\n    root._bokeh_onload_callbacks.push(callback);\n\n    if (root._bokeh_is_loading > 0) {\n      // Don't load bokeh if it is still initializing\n      console.debug(\"Bokeh: BokehJS is being loaded, scheduling callback at\", now());\n      return null;\n    } else if (js_urls.length === 0 && js_modules.length === 0 && Object.keys(js_exports).length === 0) {\n      // There is nothing to load\n      run_callbacks();\n      return null;\n    }\n\n    function on_load() {\n      root._bokeh_is_loading--;\n      if (root._bokeh_is_loading === 0) {\n        console.debug(\"Bokeh: all BokehJS libraries/stylesheets loaded\");\n        run_callbacks()\n      }\n    }\n    window._bokeh_on_load = on_load\n\n    function on_error(e) {\n      const src_el = e.srcElement\n      console.error(\"failed to load \" + (src_el.href || src_el.src));\n    }\n\n    const skip = [];\n    if (window.requirejs) {\n      window.requirejs.config({'packages': {}, 'paths': {'plotly': 'https://cdn.plot.ly/plotly-3.1.0.min'}, 'shim': {}});\n      require([\"plotly\"], function(Plotly) {\n        window.Plotly = Plotly\n        on_load()\n      })\n      root._bokeh_is_loading = css_urls.length + 1;\n    } else {\n      root._bokeh_is_loading = css_urls.length + js_urls.length + js_modules.length + Object.keys(js_exports).length;\n    }\n\n    const existing_stylesheets = []\n    const links = document.getElementsByTagName('link')\n    for (let i = 0; i < links.length; i++) {\n      const link = links[i]\n      if (link.href != null) {\n        existing_stylesheets.push(link.href)\n      }\n    }\n    for (let i = 0; i < css_urls.length; i++) {\n      const url = css_urls[i];\n      const escaped = encodeURI(url)\n      if (existing_stylesheets.indexOf(escaped) !== -1) {\n        on_load()\n        continue;\n      }\n      const element = document.createElement(\"link\");\n      element.onload = on_load;\n      element.onerror = on_error;\n      element.rel = \"stylesheet\";\n      element.type = \"text/css\";\n      element.href = url;\n      console.debug(\"Bokeh: injecting link tag for BokehJS stylesheet: \", url);\n      document.body.appendChild(element);\n    }    if (((window.Plotly !== undefined) && (!(window.Plotly instanceof HTMLElement))) || window.requirejs) {\n      var urls = [];\n      for (var i = 0; i < urls.length; i++) {\n        skip.push(encodeURI(urls[i]))\n      }\n    }    var existing_scripts = []\n    const scripts = document.getElementsByTagName('script')\n    for (let i = 0; i < scripts.length; i++) {\n      var script = scripts[i]\n      if (script.src != null) {\n        existing_scripts.push(script.src)\n      }\n    }\n    for (let i = 0; i < js_urls.length; i++) {\n      const url = js_urls[i];\n      const escaped = encodeURI(url)\n      if (skip.indexOf(escaped) !== -1 || existing_scripts.indexOf(escaped) !== -1) {\n        if (!window.requirejs) {\n          on_load();\n        }\n        continue;\n      }\n      const element = document.createElement('script');\n      element.onload = on_load;\n      element.onerror = on_error;\n      element.async = false;\n      element.src = url;\n      console.debug(\"Bokeh: injecting script tag for BokehJS library: \", url);\n      document.head.appendChild(element);\n    }\n    for (let i = 0; i < js_modules.length; i++) {\n      const url = js_modules[i];\n      const escaped = encodeURI(url)\n      if (skip.indexOf(escaped) !== -1 || existing_scripts.indexOf(escaped) !== -1) {\n        if (!window.requirejs) {\n          on_load();\n        }\n        continue;\n      }\n      var element = document.createElement('script');\n      element.onload = on_load;\n      element.onerror = on_error;\n      element.async = false;\n      element.src = url;\n      element.type = \"module\";\n      console.debug(\"Bokeh: injecting script tag for BokehJS library: \", url);\n      document.head.appendChild(element);\n    }\n    for (const name in js_exports) {\n      const url = js_exports[name];\n      const escaped = encodeURI(url)\n      if (skip.indexOf(escaped) >= 0 || root[name] != null) {\n        if (!window.requirejs) {\n          on_load();\n        }\n        continue;\n      }\n      var element = document.createElement('script');\n      element.onerror = on_error;\n      element.async = false;\n      element.type = \"module\";\n      console.debug(\"Bokeh: injecting script tag for BokehJS library: \", url);\n      element.textContent = `\n      import ${name} from \"${url}\"\n      window.${name} = ${name}\n      window._bokeh_on_load()\n      `\n      document.head.appendChild(element);\n    }\n    if (!js_urls.length && !js_modules.length) {\n      on_load()\n    }\n  };\n\n  function inject_raw_css(css) {\n    const element = document.createElement(\"style\");\n    element.appendChild(document.createTextNode(css));\n    document.body.appendChild(element);\n  }\n\n  const js_urls = [\"https://cdn.holoviz.org/panel/1.8.2/dist/bundled/reactiveesm/es-module-shims@^1.10.0/dist/es-module-shims.min.js\", \"https://cdn.holoviz.org/panel/1.8.2/dist/bundled/plotlyplot/plotly-3.1.0.min.js\"];\n  const js_modules = [];\n  const js_exports = {};\n  const css_urls = [\"https://cdn.holoviz.org/panel/1.8.2/dist/bundled/plotlyplot/maplibre-gl@4.4.1/dist/maplibre-gl.css\"];\n  const inline_js = [    function(Bokeh) {\n      Bokeh.set_log_level(\"info\");\n    },\nfunction(Bokeh) {} // ensure no trailing comma for IE\n  ];\n\n  function run_inline_js() {\n    if ((root.Bokeh !== undefined) || (force === true)) {\n      for (let i = 0; i < inline_js.length; i++) {\n        try {\n          inline_js[i].call(root, root.Bokeh);\n        } catch(e) {\n          if (!reloading) {\n            throw e;\n          }\n        }\n      }\n      // Cache old bokeh versions\n      if (Bokeh != undefined && !reloading) {\n        var NewBokeh = root.Bokeh;\n        if (Bokeh.versions === undefined) {\n          Bokeh.versions = new Map();\n        }\n        if (NewBokeh.version !== Bokeh.version) {\n          Bokeh.versions.set(NewBokeh.version, NewBokeh)\n        }\n        root.Bokeh = Bokeh;\n      }\n    } else if (Date.now() < root._bokeh_timeout) {\n      setTimeout(run_inline_js, 100);\n    } else if (!root._bokeh_failed_load) {\n      console.log(\"Bokeh: BokehJS failed to load within specified timeout.\");\n      root._bokeh_failed_load = true;\n    }\n    root._bokeh_is_initializing = false\n  }\n\n  function load_or_wait() {\n    // Implement a backoff loop that tries to ensure we do not load multiple\n    // versions of Bokeh and its dependencies at the same time.\n    // In recent versions we use the root._bokeh_is_initializing flag\n    // to determine whether there is an ongoing attempt to initialize\n    // bokeh, however for backward compatibility we also try to ensure\n    // that we do not start loading a newer (Panel>=1.0 and Bokeh>3) version\n    // before older versions are fully initialized.\n    if (root._bokeh_is_initializing && Date.now() > root._bokeh_timeout) {\n      // If the timeout and bokeh was not successfully loaded we reset\n      // everything and try loading again\n      root._bokeh_timeout = Date.now() + 5000;\n      root._bokeh_is_initializing = false;\n      root._bokeh_onload_callbacks = undefined;\n      root._bokeh_is_loading = 0\n      console.log(\"Bokeh: BokehJS was loaded multiple times but one version failed to initialize.\");\n      load_or_wait();\n    } else if (root._bokeh_is_initializing || (typeof root._bokeh_is_initializing === \"undefined\" && root._bokeh_onload_callbacks !== undefined)) {\n      setTimeout(load_or_wait, 100);\n    } else {\n      root._bokeh_is_initializing = true\n      root._bokeh_onload_callbacks = []\n      const bokeh_loaded = root.Bokeh != null && (root.Bokeh.version === py_version || (root.Bokeh.versions !== undefined && root.Bokeh.versions.has(py_version)));\n      if (!reloading && !bokeh_loaded) {\n        if (root.Bokeh) {\n          root.Bokeh = undefined;\n        }\n        console.debug(\"Bokeh: BokehJS not loaded, scheduling load and callback at\", now());\n      }\n      load_libs(css_urls, js_urls, js_modules, js_exports, function() {\n        console.debug(\"Bokeh: BokehJS plotting callback run at\", now());\n        run_inline_js();\n      });\n    }\n  }\n  // Give older versions of the autoload script a head-start to ensure\n  // they initialize before we start loading newer version.\n  setTimeout(load_or_wait, 100)\n}(window));",
      "application/vnd.holoviews_load.v0+json": ""
     },
     "metadata": {},
     "output_type": "display_data"
    },
    {
     "data": {
      "application/javascript": "\nif ((window.PyViz === undefined) || (window.PyViz instanceof HTMLElement)) {\n  window.PyViz = {comms: {}, comm_status:{}, kernels:{}, receivers: {}, plot_index: []}\n}\n\n\n    function JupyterCommManager() {\n    }\n\n    JupyterCommManager.prototype.register_target = function(plot_id, comm_id, msg_handler) {\n      if (window.comm_manager || ((window.Jupyter !== undefined) && (Jupyter.notebook.kernel != null))) {\n        var comm_manager = window.comm_manager || Jupyter.notebook.kernel.comm_manager;\n        comm_manager.register_target(comm_id, function(comm) {\n          comm.on_msg(msg_handler);\n        });\n      } else if ((plot_id in window.PyViz.kernels) && (window.PyViz.kernels[plot_id])) {\n        window.PyViz.kernels[plot_id].registerCommTarget(comm_id, function(comm) {\n          comm.onMsg = msg_handler;\n        });\n      } else if (typeof google != 'undefined' && google.colab.kernel != null) {\n        google.colab.kernel.comms.registerTarget(comm_id, (comm) => {\n          var messages = comm.messages[Symbol.asyncIterator]();\n          function processIteratorResult(result) {\n            var message = result.value;\n            var content = {data: message.data, comm_id};\n            var buffers = []\n            for (var buffer of message.buffers || []) {\n              buffers.push(new DataView(buffer))\n            }\n            var metadata = message.metadata || {};\n            var msg = {content, buffers, metadata}\n            msg_handler(msg);\n            return messages.next().then(processIteratorResult);\n          }\n          return messages.next().then(processIteratorResult);\n        })\n      }\n    }\n\n    JupyterCommManager.prototype.get_client_comm = function(plot_id, comm_id, msg_handler) {\n      if (comm_id in window.PyViz.comms) {\n        return window.PyViz.comms[comm_id];\n      } else if (window.comm_manager || ((window.Jupyter !== undefined) && (Jupyter.notebook.kernel != null))) {\n        var comm_manager = window.comm_manager || Jupyter.notebook.kernel.comm_manager;\n        var comm = comm_manager.new_comm(comm_id, {}, {}, {}, comm_id);\n        if (msg_handler) {\n          comm.on_msg(msg_handler);\n        }\n      } else if ((plot_id in window.PyViz.kernels) && (window.PyViz.kernels[plot_id])) {\n        var comm = window.PyViz.kernels[plot_id].connectToComm(comm_id);\n        let retries = 0;\n        const open = () => {\n          if (comm.active) {\n            comm.open();\n          } else if (retries > 3) {\n            console.warn('Comm target never activated')\n          } else {\n            retries += 1\n            setTimeout(open, 500)\n          }\n        }\n        if (comm.active) {\n          comm.open();\n        } else {\n          setTimeout(open, 500)\n        }\n        if (msg_handler) {\n          comm.onMsg = msg_handler;\n        }\n      } else if (typeof google != 'undefined' && google.colab.kernel != null) {\n        var comm_promise = google.colab.kernel.comms.open(comm_id)\n        comm_promise.then((comm) => {\n          window.PyViz.comms[comm_id] = comm;\n          if (msg_handler) {\n            var messages = comm.messages[Symbol.asyncIterator]();\n            function processIteratorResult(result) {\n              var message = result.value;\n              var content = {data: message.data};\n              var metadata = message.metadata || {comm_id};\n              var msg = {content, metadata}\n              msg_handler(msg);\n              return messages.next().then(processIteratorResult);\n            }\n            return messages.next().then(processIteratorResult);\n          }\n        })\n        var sendClosure = (data, metadata, buffers, disposeOnDone) => {\n          return comm_promise.then((comm) => {\n            comm.send(data, metadata, buffers, disposeOnDone);\n          });\n        };\n        var comm = {\n          send: sendClosure\n        };\n      }\n      window.PyViz.comms[comm_id] = comm;\n      return comm;\n    }\n    window.PyViz.comm_manager = new JupyterCommManager();\n    \n\n\nvar JS_MIME_TYPE = 'application/javascript';\nvar HTML_MIME_TYPE = 'text/html';\nvar EXEC_MIME_TYPE = 'application/vnd.holoviews_exec.v0+json';\nvar CLASS_NAME = 'output';\n\n/**\n * Render data to the DOM node\n */\nfunction render(props, node) {\n  var div = document.createElement(\"div\");\n  var script = document.createElement(\"script\");\n  node.appendChild(div);\n  node.appendChild(script);\n}\n\n/**\n * Handle when a new output is added\n */\nfunction handle_add_output(event, handle) {\n  var output_area = handle.output_area;\n  var output = handle.output;\n  if ((output.data == undefined) || (!output.data.hasOwnProperty(EXEC_MIME_TYPE))) {\n    return\n  }\n  var id = output.metadata[EXEC_MIME_TYPE][\"id\"];\n  var toinsert = output_area.element.find(\".\" + CLASS_NAME.split(' ')[0]);\n  if (id !== undefined) {\n    var nchildren = toinsert.length;\n    var html_node = toinsert[nchildren-1].children[0];\n    html_node.innerHTML = output.data[HTML_MIME_TYPE];\n    var scripts = [];\n    var nodelist = html_node.querySelectorAll(\"script\");\n    for (var i in nodelist) {\n      if (nodelist.hasOwnProperty(i)) {\n        scripts.push(nodelist[i])\n      }\n    }\n\n    scripts.forEach( function (oldScript) {\n      var newScript = document.createElement(\"script\");\n      var attrs = [];\n      var nodemap = oldScript.attributes;\n      for (var j in nodemap) {\n        if (nodemap.hasOwnProperty(j)) {\n          attrs.push(nodemap[j])\n        }\n      }\n      attrs.forEach(function(attr) { newScript.setAttribute(attr.name, attr.value) });\n      newScript.appendChild(document.createTextNode(oldScript.innerHTML));\n      oldScript.parentNode.replaceChild(newScript, oldScript);\n    });\n    if (JS_MIME_TYPE in output.data) {\n      toinsert[nchildren-1].children[1].textContent = output.data[JS_MIME_TYPE];\n    }\n    output_area._hv_plot_id = id;\n    if ((window.Bokeh !== undefined) && (id in Bokeh.index)) {\n      window.PyViz.plot_index[id] = Bokeh.index[id];\n    } else {\n      window.PyViz.plot_index[id] = null;\n    }\n  } else if (output.metadata[EXEC_MIME_TYPE][\"server_id\"] !== undefined) {\n    var bk_div = document.createElement(\"div\");\n    bk_div.innerHTML = output.data[HTML_MIME_TYPE];\n    var script_attrs = bk_div.children[0].attributes;\n    for (var i = 0; i < script_attrs.length; i++) {\n      toinsert[toinsert.length - 1].childNodes[1].setAttribute(script_attrs[i].name, script_attrs[i].value);\n    }\n    // store reference to server id on output_area\n    output_area._bokeh_server_id = output.metadata[EXEC_MIME_TYPE][\"server_id\"];\n  }\n}\n\n/**\n * Handle when an output is cleared or removed\n */\nfunction handle_clear_output(event, handle) {\n  var id = handle.cell.output_area._hv_plot_id;\n  var server_id = handle.cell.output_area._bokeh_server_id;\n  if (((id === undefined) || !(id in PyViz.plot_index)) && (server_id !== undefined)) { return; }\n  var comm = window.PyViz.comm_manager.get_client_comm(\"hv-extension-comm\", \"hv-extension-comm\", function () {});\n  if (server_id !== null) {\n    comm.send({event_type: 'server_delete', 'id': server_id});\n    return;\n  } else if (comm !== null) {\n    comm.send({event_type: 'delete', 'id': id});\n  }\n  delete PyViz.plot_index[id];\n  if ((window.Bokeh !== undefined) & (id in window.Bokeh.index)) {\n    var doc = window.Bokeh.index[id].model.document\n    doc.clear();\n    const i = window.Bokeh.documents.indexOf(doc);\n    if (i > -1) {\n      window.Bokeh.documents.splice(i, 1);\n    }\n  }\n}\n\n/**\n * Handle kernel restart event\n */\nfunction handle_kernel_cleanup(event, handle) {\n  delete PyViz.comms[\"hv-extension-comm\"];\n  window.PyViz.plot_index = {}\n}\n\n/**\n * Handle update_display_data messages\n */\nfunction handle_update_output(event, handle) {\n  handle_clear_output(event, {cell: {output_area: handle.output_area}})\n  handle_add_output(event, handle)\n}\n\nfunction register_renderer(events, OutputArea) {\n  function append_mime(data, metadata, element) {\n    // create a DOM node to render to\n    var toinsert = this.create_output_subarea(\n    metadata,\n    CLASS_NAME,\n    EXEC_MIME_TYPE\n    );\n    this.keyboard_manager.register_events(toinsert);\n    // Render to node\n    var props = {data: data, metadata: metadata[EXEC_MIME_TYPE]};\n    render(props, toinsert[0]);\n    element.append(toinsert);\n    return toinsert\n  }\n\n  events.on('output_added.OutputArea', handle_add_output);\n  events.on('output_updated.OutputArea', handle_update_output);\n  events.on('clear_output.CodeCell', handle_clear_output);\n  events.on('delete.Cell', handle_clear_output);\n  events.on('kernel_ready.Kernel', handle_kernel_cleanup);\n\n  OutputArea.prototype.register_mime_type(EXEC_MIME_TYPE, append_mime, {\n    safe: true,\n    index: 0\n  });\n}\n\nif (window.Jupyter !== undefined) {\n  try {\n    var events = require('base/js/events');\n    var OutputArea = require('notebook/js/outputarea').OutputArea;\n    if (OutputArea.prototype.mime_types().indexOf(EXEC_MIME_TYPE) == -1) {\n      register_renderer(events, OutputArea);\n    }\n  } catch(err) {\n  }\n}\n",
      "application/vnd.holoviews_load.v0+json": ""
     },
     "metadata": {},
     "output_type": "display_data"
    }
   ],
   "source": [
    "import hvplot.polars\n",
    "import hvplot \n",
    "hvplot.extension('plotly')\n",
    "\n",
    "\n",
    "save_root = Path('~/Documents/binance_gridded_returns')\n",
    "\n",
    "pivot_dates = [\n",
    "    Date(2022, 1, 1),\n",
    "    Date(2023, 2, 1),\n",
    "    Date(2024, 1, 1),\n",
    "    Date(2025, 1, 1),\n",
    "    Date(2026, 1, 1)\n",
    "]\n",
    "\n",
    "mark_exprs = {\n",
    "    'now_to_p10m': (pl.col('time'), Timedelta(minutes=10)),\n",
    "    'p1m_to_p11m': (pl.col('time') + Timedelta(minutes=1), Timedelta(minutes=10)),\n",
    "    'm10m_to_now': (pl.col('time') - Timedelta(minutes=10), Timedelta(minutes=10)),\n",
    "    'm20m_to_now': (pl.col('time') - Timedelta(minutes=20), Timedelta(minutes=20)),\n",
    "    'm30m_to_now': (pl.col('time') - Timedelta(minutes=30), Timedelta(minutes=30)),\n",
    "}"
   ]
  },
  {
   "cell_type": "markdown",
   "id": "a3b8a936",
   "metadata": {},
   "source": [
    "# Collect 10m-gridded data"
   ]
  },
  {
   "cell_type": "code",
   "execution_count": 4,
   "id": "17d99f55",
   "metadata": {},
   "outputs": [],
   "source": [
    "backend_dataset = ms.binance.BinanceLastTradesGrid(\n",
    "            peg_symbol='USDT', \n",
    "            grid_interval=Timedelta(seconds=5), \n",
    "            dataset_type=ms.DatasetType.BinanceSpotTrades)\n",
    "backend_db = backend_dataset.lazyframe()\n",
    "\n",
    "query_lf = ms.binance.BinanceLastTradesGrid(\n",
    "            peg_symbol='USDT', \n",
    "            grid_interval=Timedelta(minutes=10), \n",
    "            dataset_type=ms.DatasetType.BinanceSpotTrades).lazyframe()\n",
    "            \n",
    "backend_db = backend_dataset.lazyframe()\n",
    "\n",
    "re = ReturnsEngine(\n",
    "    backend_db, \n",
    "    backend_fair_expr = pl.col('vwap_price'), \n",
    "    backend_time_expr = pl.col('last_event_time')\n",
    ")"
   ]
  },
  {
   "cell_type": "code",
   "execution_count": 5,
   "id": "15364a97",
   "metadata": {},
   "outputs": [
    {
     "data": {
      "application/vnd.jupyter.widget-view+json": {
       "model_id": "b800df783fb54ace8e89ee51407b95bb",
       "version_major": 2,
       "version_minor": 0
      },
      "text/plain": [
       "  0%|          | 0/4 [00:00<?, ?it/s]"
      ]
     },
     "metadata": {},
     "output_type": "display_data"
    },
    {
     "name": "stderr",
     "output_type": "stream",
     "text": [
      "/tmp/ipykernel_530071/1417076761.py:8: UserWarning:\n",
      "\n",
      "Sortedness of columns cannot be checked when 'by' groups provided\n",
      "\n"
     ]
    }
   ],
   "source": [
    "for j in tqdm(range(len(pivot_dates) - 1)):\n",
    "    query_slice = query_lf.filter(pl.col('date').is_between(pivot_dates[j], pivot_dates[j+1], closed='left'))\n",
    "    value_lf = re.query_batch(\n",
    "        query_slice.sort('symbol', 'last_event_time'),\n",
    "        mark_exprs=mark_exprs,\n",
    "        tick_lag_tolerance=Timedelta(minutes=10),\n",
    "        append_lag=False)\n",
    "    value_lf.sink_parquet(save_root / f'binance_spot_10m_grid_mark10m_{j}.parquet', compression='brotli')"
   ]
  },
  {
   "cell_type": "code",
   "execution_count": 6,
   "id": "c29ce986",
   "metadata": {},
   "outputs": [
    {
     "name": "stdout",
     "output_type": "stream",
     "text": [
      "(73211214, 21)\n"
     ]
    },
    {
     "data": {
      "text/html": [
       "\n",
       "<style>\n",
       "  #altair-viz-ef4f952d1e8246459f06a7ec6168e367.vega-embed {\n",
       "    width: 100%;\n",
       "    display: flex;\n",
       "  }\n",
       "\n",
       "  #altair-viz-ef4f952d1e8246459f06a7ec6168e367.vega-embed details,\n",
       "  #altair-viz-ef4f952d1e8246459f06a7ec6168e367.vega-embed details summary {\n",
       "    position: relative;\n",
       "  }\n",
       "</style>\n",
       "<div id=\"altair-viz-ef4f952d1e8246459f06a7ec6168e367\"></div>\n",
       "<script type=\"text/javascript\">\n",
       "  var VEGA_DEBUG = (typeof VEGA_DEBUG == \"undefined\") ? {} : VEGA_DEBUG;\n",
       "  (function(spec, embedOpt){\n",
       "    let outputDiv = document.currentScript.previousElementSibling;\n",
       "    if (outputDiv.id !== \"altair-viz-ef4f952d1e8246459f06a7ec6168e367\") {\n",
       "      outputDiv = document.getElementById(\"altair-viz-ef4f952d1e8246459f06a7ec6168e367\");\n",
       "    }\n",
       "\n",
       "    const paths = {\n",
       "      \"vega\": \"https://cdn.jsdelivr.net/npm/vega@5?noext\",\n",
       "      \"vega-lib\": \"https://cdn.jsdelivr.net/npm/vega-lib?noext\",\n",
       "      \"vega-lite\": \"https://cdn.jsdelivr.net/npm/vega-lite@5.20.1?noext\",\n",
       "      \"vega-embed\": \"https://cdn.jsdelivr.net/npm/vega-embed@6?noext\",\n",
       "    };\n",
       "\n",
       "    function maybeLoadScript(lib, version) {\n",
       "      var key = `${lib.replace(\"-\", \"\")}_version`;\n",
       "      return (VEGA_DEBUG[key] == version) ?\n",
       "        Promise.resolve(paths[lib]) :\n",
       "        new Promise(function(resolve, reject) {\n",
       "          var s = document.createElement('script');\n",
       "          document.getElementsByTagName(\"head\")[0].appendChild(s);\n",
       "          s.async = true;\n",
       "          s.onload = () => {\n",
       "            VEGA_DEBUG[key] = version;\n",
       "            return resolve(paths[lib]);\n",
       "          };\n",
       "          s.onerror = () => reject(`Error loading script: ${paths[lib]}`);\n",
       "          s.src = paths[lib];\n",
       "        });\n",
       "    }\n",
       "\n",
       "    function showError(err) {\n",
       "      outputDiv.innerHTML = `<div class=\"error\" style=\"color:red;\">${err}</div>`;\n",
       "      throw err;\n",
       "    }\n",
       "\n",
       "    function displayChart(vegaEmbed) {\n",
       "      vegaEmbed(outputDiv, spec, embedOpt)\n",
       "        .catch(err => showError(`Javascript Error: ${err.message}<br>This usually means there's a typo in your chart specification. See the javascript console for the full traceback.`));\n",
       "    }\n",
       "\n",
       "    if(typeof define === \"function\" && define.amd) {\n",
       "      requirejs.config({paths});\n",
       "      let deps = [\"vega-embed\"];\n",
       "      require(deps, displayChart, err => showError(`Error loading script: ${err.message}`));\n",
       "    } else {\n",
       "      maybeLoadScript(\"vega\", \"5\")\n",
       "        .then(() => maybeLoadScript(\"vega-lite\", \"5.20.1\"))\n",
       "        .then(() => maybeLoadScript(\"vega-embed\", \"6\"))\n",
       "        .catch(showError)\n",
       "        .then(() => displayChart(vegaEmbed));\n",
       "    }\n",
       "  })({\"config\": {\"view\": {\"continuousWidth\": 300, \"continuousHeight\": 300}}, \"data\": {\"name\": \"data-3386b494d52303bbc3fa633fe8cb18c3\"}, \"mark\": {\"type\": \"line\", \"tooltip\": true}, \"encoding\": {\"x\": {\"field\": \"date\", \"type\": \"temporal\"}, \"y\": {\"field\": \"symbol\", \"type\": \"quantitative\"}}, \"params\": [{\"name\": \"param_1\", \"select\": {\"type\": \"interval\", \"encodings\": [\"x\", \"y\"]}, \"bind\": \"scales\"}], \"$schema\": \"https://vega.github.io/schema/vega-lite/v5.20.1.json\", \"datasets\": {\"data-3386b494d52303bbc3fa633fe8cb18c3\": [{\"date\": \"2022-01-01T00:00:00\", \"symbol\": 333}, {\"date\": \"2022-01-02T00:00:00\", \"symbol\": 333}, {\"date\": \"2022-01-03T00:00:00\", \"symbol\": 333}, {\"date\": \"2022-01-04T00:00:00\", \"symbol\": 333}, {\"date\": \"2022-01-05T00:00:00\", \"symbol\": 329}, {\"date\": \"2022-01-06T00:00:00\", \"symbol\": 329}, {\"date\": \"2022-01-07T00:00:00\", \"symbol\": 329}, {\"date\": \"2022-01-08T00:00:00\", \"symbol\": 329}, {\"date\": \"2022-01-09T00:00:00\", \"symbol\": 329}, {\"date\": \"2022-01-10T00:00:00\", \"symbol\": 331}, {\"date\": \"2022-01-11T00:00:00\", \"symbol\": 332}, {\"date\": \"2022-01-12T00:00:00\", \"symbol\": 332}, {\"date\": \"2022-01-13T00:00:00\", \"symbol\": 332}, {\"date\": \"2022-01-14T00:00:00\", \"symbol\": 332}, {\"date\": \"2022-01-15T00:00:00\", \"symbol\": 332}, {\"date\": \"2022-01-16T00:00:00\", \"symbol\": 332}, {\"date\": \"2022-01-17T00:00:00\", \"symbol\": 332}, {\"date\": \"2022-01-18T00:00:00\", \"symbol\": 331}, {\"date\": \"2022-01-19T00:00:00\", \"symbol\": 331}, {\"date\": \"2022-01-20T00:00:00\", \"symbol\": 332}, {\"date\": \"2022-01-21T00:00:00\", \"symbol\": 334}, {\"date\": \"2022-01-22T00:00:00\", \"symbol\": 334}, {\"date\": \"2022-01-23T00:00:00\", \"symbol\": 334}, {\"date\": \"2022-01-24T00:00:00\", \"symbol\": 334}, {\"date\": \"2022-01-25T00:00:00\", \"symbol\": 336}, {\"date\": \"2022-01-26T00:00:00\", \"symbol\": 336}, {\"date\": \"2022-01-27T00:00:00\", \"symbol\": 336}, {\"date\": \"2022-01-28T00:00:00\", \"symbol\": 333}, {\"date\": \"2022-01-29T00:00:00\", \"symbol\": 333}, {\"date\": \"2022-01-30T00:00:00\", \"symbol\": 333}, {\"date\": \"2022-01-31T00:00:00\", \"symbol\": 333}, {\"date\": \"2022-02-01T00:00:00\", \"symbol\": 333}, {\"date\": \"2022-02-02T00:00:00\", \"symbol\": 333}, {\"date\": \"2022-02-03T00:00:00\", \"symbol\": 333}, {\"date\": \"2022-02-04T00:00:00\", \"symbol\": 333}, {\"date\": \"2022-02-05T00:00:00\", \"symbol\": 333}, {\"date\": \"2022-02-06T00:00:00\", \"symbol\": 333}, {\"date\": \"2022-02-07T00:00:00\", \"symbol\": 333}, {\"date\": \"2022-02-08T00:00:00\", \"symbol\": 334}, {\"date\": \"2022-02-09T00:00:00\", \"symbol\": 334}, {\"date\": \"2022-02-10T00:00:00\", \"symbol\": 334}, {\"date\": \"2022-02-11T00:00:00\", \"symbol\": 334}, {\"date\": \"2022-02-12T00:00:00\", \"symbol\": 334}, {\"date\": \"2022-02-13T00:00:00\", \"symbol\": 334}, {\"date\": \"2022-02-14T00:00:00\", \"symbol\": 334}, {\"date\": \"2022-02-15T00:00:00\", \"symbol\": 334}, {\"date\": \"2022-02-16T00:00:00\", \"symbol\": 334}, {\"date\": \"2022-02-17T00:00:00\", \"symbol\": 332}, {\"date\": \"2022-02-18T00:00:00\", \"symbol\": 332}, {\"date\": \"2022-02-19T00:00:00\", \"symbol\": 332}, {\"date\": \"2022-02-20T00:00:00\", \"symbol\": 332}, {\"date\": \"2022-02-21T00:00:00\", \"symbol\": 333}, {\"date\": \"2022-02-22T00:00:00\", \"symbol\": 333}, {\"date\": \"2022-02-23T00:00:00\", \"symbol\": 333}, {\"date\": \"2022-02-24T00:00:00\", \"symbol\": 333}, {\"date\": \"2022-02-25T00:00:00\", \"symbol\": 334}, {\"date\": \"2022-02-26T00:00:00\", \"symbol\": 334}, {\"date\": \"2022-02-27T00:00:00\", \"symbol\": 334}, {\"date\": \"2022-02-28T00:00:00\", \"symbol\": 335}, {\"date\": \"2022-03-01T00:00:00\", \"symbol\": 335}, {\"date\": \"2022-03-02T00:00:00\", \"symbol\": 335}, {\"date\": \"2022-03-03T00:00:00\", \"symbol\": 335}, {\"date\": \"2022-03-04T00:00:00\", \"symbol\": 335}, {\"date\": \"2022-03-05T00:00:00\", \"symbol\": 335}, {\"date\": \"2022-03-06T00:00:00\", \"symbol\": 335}, {\"date\": \"2022-03-07T00:00:00\", \"symbol\": 335}, {\"date\": \"2022-03-08T00:00:00\", \"symbol\": 335}, {\"date\": \"2022-03-09T00:00:00\", \"symbol\": 336}, {\"date\": \"2022-03-10T00:00:00\", \"symbol\": 336}, {\"date\": \"2022-03-11T00:00:00\", \"symbol\": 338}, {\"date\": \"2022-03-12T00:00:00\", \"symbol\": 338}, {\"date\": \"2022-03-13T00:00:00\", \"symbol\": 338}, {\"date\": \"2022-03-14T00:00:00\", \"symbol\": 338}, {\"date\": \"2022-03-15T00:00:00\", \"symbol\": 337}, {\"date\": \"2022-03-16T00:00:00\", \"symbol\": 337}, {\"date\": \"2022-03-17T00:00:00\", \"symbol\": 338}, {\"date\": \"2022-03-18T00:00:00\", \"symbol\": 338}, {\"date\": \"2022-03-19T00:00:00\", \"symbol\": 338}, {\"date\": \"2022-03-20T00:00:00\", \"symbol\": 338}, {\"date\": \"2022-03-21T00:00:00\", \"symbol\": 339}, {\"date\": \"2022-03-22T00:00:00\", \"symbol\": 339}, {\"date\": \"2022-03-23T00:00:00\", \"symbol\": 339}, {\"date\": \"2022-03-24T00:00:00\", \"symbol\": 339}, {\"date\": \"2022-03-25T00:00:00\", \"symbol\": 339}, {\"date\": \"2022-03-26T00:00:00\", \"symbol\": 339}, {\"date\": \"2022-03-27T00:00:00\", \"symbol\": 339}, {\"date\": \"2022-03-28T00:00:00\", \"symbol\": 339}, {\"date\": \"2022-03-29T00:00:00\", \"symbol\": 339}, {\"date\": \"2022-03-30T00:00:00\", \"symbol\": 339}, {\"date\": \"2022-03-31T00:00:00\", \"symbol\": 338}, {\"date\": \"2022-04-01T00:00:00\", \"symbol\": 339}, {\"date\": \"2022-04-02T00:00:00\", \"symbol\": 339}, {\"date\": \"2022-04-03T00:00:00\", \"symbol\": 339}, {\"date\": \"2022-04-04T00:00:00\", \"symbol\": 339}, {\"date\": \"2022-04-05T00:00:00\", \"symbol\": 339}, {\"date\": \"2022-04-06T00:00:00\", \"symbol\": 340}, {\"date\": \"2022-04-07T00:00:00\", \"symbol\": 340}, {\"date\": \"2022-04-08T00:00:00\", \"symbol\": 340}, {\"date\": \"2022-04-09T00:00:00\", \"symbol\": 340}, {\"date\": \"2022-04-10T00:00:00\", \"symbol\": 340}, {\"date\": \"2022-04-11T00:00:00\", \"symbol\": 340}, {\"date\": \"2022-04-12T00:00:00\", \"symbol\": 339}, {\"date\": \"2022-04-13T00:00:00\", \"symbol\": 339}, {\"date\": \"2022-04-14T00:00:00\", \"symbol\": 339}, {\"date\": \"2022-04-15T00:00:00\", \"symbol\": 339}, {\"date\": \"2022-04-16T00:00:00\", \"symbol\": 339}, {\"date\": \"2022-04-17T00:00:00\", \"symbol\": 339}, {\"date\": \"2022-04-18T00:00:00\", \"symbol\": 339}, {\"date\": \"2022-04-19T00:00:00\", \"symbol\": 339}, {\"date\": \"2022-04-20T00:00:00\", \"symbol\": 339}, {\"date\": \"2022-04-21T00:00:00\", \"symbol\": 339}, {\"date\": \"2022-04-22T00:00:00\", \"symbol\": 340}, {\"date\": \"2022-04-23T00:00:00\", \"symbol\": 340}, {\"date\": \"2022-04-24T00:00:00\", \"symbol\": 340}, {\"date\": \"2022-04-25T00:00:00\", \"symbol\": 340}, {\"date\": \"2022-04-26T00:00:00\", \"symbol\": 339}, {\"date\": \"2022-04-27T00:00:00\", \"symbol\": 339}, {\"date\": \"2022-04-28T00:00:00\", \"symbol\": 339}, {\"date\": \"2022-04-29T00:00:00\", \"symbol\": 341}, {\"date\": \"2022-04-30T00:00:00\", \"symbol\": 341}, {\"date\": \"2022-05-01T00:00:00\", \"symbol\": 341}, {\"date\": \"2022-05-02T00:00:00\", \"symbol\": 341}, {\"date\": \"2022-05-03T00:00:00\", \"symbol\": 341}, {\"date\": \"2022-05-04T00:00:00\", \"symbol\": 342}, {\"date\": \"2022-05-05T00:00:00\", \"symbol\": 343}, {\"date\": \"2022-05-06T00:00:00\", \"symbol\": 343}, {\"date\": \"2022-05-07T00:00:00\", \"symbol\": 343}, {\"date\": \"2022-05-08T00:00:00\", \"symbol\": 343}, {\"date\": \"2022-05-09T00:00:00\", \"symbol\": 344}, {\"date\": \"2022-05-10T00:00:00\", \"symbol\": 343}, {\"date\": \"2022-05-11T00:00:00\", \"symbol\": 343}, {\"date\": \"2022-05-12T00:00:00\", \"symbol\": 343}, {\"date\": \"2022-05-13T00:00:00\", \"symbol\": 343}, {\"date\": \"2022-05-14T00:00:00\", \"symbol\": 341}, {\"date\": \"2022-05-15T00:00:00\", \"symbol\": 341}, {\"date\": \"2022-05-16T00:00:00\", \"symbol\": 341}, {\"date\": \"2022-05-17T00:00:00\", \"symbol\": 341}, {\"date\": \"2022-05-18T00:00:00\", \"symbol\": 341}, {\"date\": \"2022-05-19T00:00:00\", \"symbol\": 341}, {\"date\": \"2022-05-20T00:00:00\", \"symbol\": 341}, {\"date\": \"2022-05-21T00:00:00\", \"symbol\": 341}, {\"date\": \"2022-05-22T00:00:00\", \"symbol\": 341}, {\"date\": \"2022-05-23T00:00:00\", \"symbol\": 342}, {\"date\": \"2022-05-24T00:00:00\", \"symbol\": 342}, {\"date\": \"2022-05-25T00:00:00\", \"symbol\": 342}, {\"date\": \"2022-05-26T00:00:00\", \"symbol\": 342}, {\"date\": \"2022-05-27T00:00:00\", \"symbol\": 342}, {\"date\": \"2022-05-28T00:00:00\", \"symbol\": 342}, {\"date\": \"2022-05-29T00:00:00\", \"symbol\": 342}, {\"date\": \"2022-05-30T00:00:00\", \"symbol\": 342}, {\"date\": \"2022-05-31T00:00:00\", \"symbol\": 343}, {\"date\": \"2022-06-01T00:00:00\", \"symbol\": 344}, {\"date\": \"2022-06-02T00:00:00\", \"symbol\": 344}, {\"date\": \"2022-06-03T00:00:00\", \"symbol\": 344}, {\"date\": \"2022-06-04T00:00:00\", \"symbol\": 344}, {\"date\": \"2022-06-05T00:00:00\", \"symbol\": 344}, {\"date\": \"2022-06-06T00:00:00\", \"symbol\": 344}, {\"date\": \"2022-06-07T00:00:00\", \"symbol\": 344}, {\"date\": \"2022-06-08T00:00:00\", \"symbol\": 344}, {\"date\": \"2022-06-09T00:00:00\", \"symbol\": 344}, {\"date\": \"2022-06-10T00:00:00\", \"symbol\": 344}, {\"date\": \"2022-06-11T00:00:00\", \"symbol\": 344}, {\"date\": \"2022-06-12T00:00:00\", \"symbol\": 344}, {\"date\": \"2022-06-13T00:00:00\", \"symbol\": 344}, {\"date\": \"2022-06-14T00:00:00\", \"symbol\": 344}, {\"date\": \"2022-06-15T00:00:00\", \"symbol\": 344}, {\"date\": \"2022-06-16T00:00:00\", \"symbol\": 344}, {\"date\": \"2022-06-17T00:00:00\", \"symbol\": 344}, {\"date\": \"2022-06-18T00:00:00\", \"symbol\": 344}, {\"date\": \"2022-06-19T00:00:00\", \"symbol\": 344}, {\"date\": \"2022-06-20T00:00:00\", \"symbol\": 344}, {\"date\": \"2022-06-21T00:00:00\", \"symbol\": 344}, {\"date\": \"2022-06-22T00:00:00\", \"symbol\": 344}, {\"date\": \"2022-06-23T00:00:00\", \"symbol\": 344}, {\"date\": \"2022-06-24T00:00:00\", \"symbol\": 344}, {\"date\": \"2022-06-25T00:00:00\", \"symbol\": 344}, {\"date\": \"2022-06-26T00:00:00\", \"symbol\": 344}, {\"date\": \"2022-06-27T00:00:00\", \"symbol\": 344}, {\"date\": \"2022-06-28T00:00:00\", \"symbol\": 344}, {\"date\": \"2022-06-29T00:00:00\", \"symbol\": 344}, {\"date\": \"2022-06-30T00:00:00\", \"symbol\": 344}, {\"date\": \"2022-07-01T00:00:00\", \"symbol\": 344}, {\"date\": \"2022-07-02T00:00:00\", \"symbol\": 344}, {\"date\": \"2022-07-03T00:00:00\", \"symbol\": 344}, {\"date\": \"2022-07-04T00:00:00\", \"symbol\": 344}, {\"date\": \"2022-07-05T00:00:00\", \"symbol\": 343}, {\"date\": \"2022-07-06T00:00:00\", \"symbol\": 343}, {\"date\": \"2022-07-07T00:00:00\", \"symbol\": 343}, {\"date\": \"2022-07-08T00:00:00\", \"symbol\": 343}, {\"date\": \"2022-07-09T00:00:00\", \"symbol\": 343}, {\"date\": \"2022-07-10T00:00:00\", \"symbol\": 343}, {\"date\": \"2022-07-11T00:00:00\", \"symbol\": 343}, {\"date\": \"2022-07-12T00:00:00\", \"symbol\": 343}, {\"date\": \"2022-07-13T00:00:00\", \"symbol\": 344}, {\"date\": \"2022-07-14T00:00:00\", \"symbol\": 344}, {\"date\": \"2022-07-15T00:00:00\", \"symbol\": 344}, {\"date\": \"2022-07-16T00:00:00\", \"symbol\": 344}, {\"date\": \"2022-07-17T00:00:00\", \"symbol\": 344}, {\"date\": \"2022-07-18T00:00:00\", \"symbol\": 344}, {\"date\": \"2022-07-19T00:00:00\", \"symbol\": 344}, {\"date\": \"2022-07-20T00:00:00\", \"symbol\": 344}, {\"date\": \"2022-07-21T00:00:00\", \"symbol\": 344}, {\"date\": \"2022-07-22T00:00:00\", \"symbol\": 344}, {\"date\": \"2022-07-23T00:00:00\", \"symbol\": 344}, {\"date\": \"2022-07-24T00:00:00\", \"symbol\": 344}, {\"date\": \"2022-07-25T00:00:00\", \"symbol\": 344}, {\"date\": \"2022-07-26T00:00:00\", \"symbol\": 344}, {\"date\": \"2022-07-27T00:00:00\", \"symbol\": 344}, {\"date\": \"2022-07-28T00:00:00\", \"symbol\": 344}, {\"date\": \"2022-07-29T00:00:00\", \"symbol\": 344}, {\"date\": \"2022-07-30T00:00:00\", \"symbol\": 344}, {\"date\": \"2022-07-31T00:00:00\", \"symbol\": 344}, {\"date\": \"2022-08-01T00:00:00\", \"symbol\": 344}, {\"date\": \"2022-08-02T00:00:00\", \"symbol\": 344}, {\"date\": \"2022-08-03T00:00:00\", \"symbol\": 344}, {\"date\": \"2022-08-04T00:00:00\", \"symbol\": 344}, {\"date\": \"2022-08-05T00:00:00\", \"symbol\": 344}, {\"date\": \"2022-08-06T00:00:00\", \"symbol\": 344}, {\"date\": \"2022-08-07T00:00:00\", \"symbol\": 344}, {\"date\": \"2022-08-08T00:00:00\", \"symbol\": 344}, {\"date\": \"2022-08-09T00:00:00\", \"symbol\": 344}, {\"date\": \"2022-08-10T00:00:00\", \"symbol\": 344}, {\"date\": \"2022-08-11T00:00:00\", \"symbol\": 344}, {\"date\": \"2022-08-12T00:00:00\", \"symbol\": 344}, {\"date\": \"2022-08-13T00:00:00\", \"symbol\": 344}, {\"date\": \"2022-08-14T00:00:00\", \"symbol\": 344}, {\"date\": \"2022-08-15T00:00:00\", \"symbol\": 344}, {\"date\": \"2022-08-16T00:00:00\", \"symbol\": 344}, {\"date\": \"2022-08-17T00:00:00\", \"symbol\": 344}, {\"date\": \"2022-08-18T00:00:00\", \"symbol\": 344}, {\"date\": \"2022-08-19T00:00:00\", \"symbol\": 345}, {\"date\": \"2022-08-20T00:00:00\", \"symbol\": 345}, {\"date\": \"2022-08-21T00:00:00\", \"symbol\": 345}, {\"date\": \"2022-08-22T00:00:00\", \"symbol\": 345}, {\"date\": \"2022-08-23T00:00:00\", \"symbol\": 345}, {\"date\": \"2022-08-24T00:00:00\", \"symbol\": 345}, {\"date\": \"2022-08-25T00:00:00\", \"symbol\": 345}, {\"date\": \"2022-08-26T00:00:00\", \"symbol\": 345}, {\"date\": \"2022-08-27T00:00:00\", \"symbol\": 345}, {\"date\": \"2022-08-28T00:00:00\", \"symbol\": 345}, {\"date\": \"2022-08-29T00:00:00\", \"symbol\": 345}, {\"date\": \"2022-08-30T00:00:00\", \"symbol\": 345}, {\"date\": \"2022-08-31T00:00:00\", \"symbol\": 345}, {\"date\": \"2022-09-01T00:00:00\", \"symbol\": 345}, {\"date\": \"2022-09-02T00:00:00\", \"symbol\": 345}, {\"date\": \"2022-09-03T00:00:00\", \"symbol\": 345}, {\"date\": \"2022-09-04T00:00:00\", \"symbol\": 345}, {\"date\": \"2022-09-05T00:00:00\", \"symbol\": 345}, {\"date\": \"2022-09-06T00:00:00\", \"symbol\": 345}, {\"date\": \"2022-09-07T00:00:00\", \"symbol\": 345}, {\"date\": \"2022-09-08T00:00:00\", \"symbol\": 345}, {\"date\": \"2022-09-09T00:00:00\", \"symbol\": 346}, {\"date\": \"2022-09-10T00:00:00\", \"symbol\": 346}, {\"date\": \"2022-09-11T00:00:00\", \"symbol\": 346}, {\"date\": \"2022-09-12T00:00:00\", \"symbol\": 346}, {\"date\": \"2022-09-13T00:00:00\", \"symbol\": 346}, {\"date\": \"2022-09-14T00:00:00\", \"symbol\": 346}, {\"date\": \"2022-09-15T00:00:00\", \"symbol\": 346}, {\"date\": \"2022-09-16T00:00:00\", \"symbol\": 346}, {\"date\": \"2022-09-17T00:00:00\", \"symbol\": 346}, {\"date\": \"2022-09-18T00:00:00\", \"symbol\": 346}, {\"date\": \"2022-09-19T00:00:00\", \"symbol\": 346}, {\"date\": \"2022-09-20T00:00:00\", \"symbol\": 346}, {\"date\": \"2022-09-21T00:00:00\", \"symbol\": 346}, {\"date\": \"2022-09-22T00:00:00\", \"symbol\": 346}, {\"date\": \"2022-09-23T00:00:00\", \"symbol\": 346}, {\"date\": \"2022-09-24T00:00:00\", \"symbol\": 346}, {\"date\": \"2022-09-25T00:00:00\", \"symbol\": 346}, {\"date\": \"2022-09-26T00:00:00\", \"symbol\": 346}, {\"date\": \"2022-09-27T00:00:00\", \"symbol\": 343}, {\"date\": \"2022-09-28T00:00:00\", \"symbol\": 343}, {\"date\": \"2022-09-29T00:00:00\", \"symbol\": 343}, {\"date\": \"2022-09-30T00:00:00\", \"symbol\": 343}, {\"date\": \"2022-10-01T00:00:00\", \"symbol\": 343}, {\"date\": \"2022-10-02T00:00:00\", \"symbol\": 343}, {\"date\": \"2022-10-03T00:00:00\", \"symbol\": 343}, {\"date\": \"2022-10-04T00:00:00\", \"symbol\": 343}, {\"date\": \"2022-10-05T00:00:00\", \"symbol\": 344}, {\"date\": \"2022-10-06T00:00:00\", \"symbol\": 344}, {\"date\": \"2022-10-07T00:00:00\", \"symbol\": 344}, {\"date\": \"2022-10-08T00:00:00\", \"symbol\": 344}, {\"date\": \"2022-10-09T00:00:00\", \"symbol\": 344}, {\"date\": \"2022-10-10T00:00:00\", \"symbol\": 344}, {\"date\": \"2022-10-11T00:00:00\", \"symbol\": 343}, {\"date\": \"2022-10-12T00:00:00\", \"symbol\": 343}, {\"date\": \"2022-10-13T00:00:00\", \"symbol\": 343}, {\"date\": \"2022-10-14T00:00:00\", \"symbol\": 344}, {\"date\": \"2022-10-15T00:00:00\", \"symbol\": 343}, {\"date\": \"2022-10-16T00:00:00\", \"symbol\": 343}, {\"date\": \"2022-10-17T00:00:00\", \"symbol\": 344}, {\"date\": \"2022-10-18T00:00:00\", \"symbol\": 344}, {\"date\": \"2022-10-19T00:00:00\", \"symbol\": 345}, {\"date\": \"2022-10-20T00:00:00\", \"symbol\": 345}, {\"date\": \"2022-10-21T00:00:00\", \"symbol\": 345}, {\"date\": \"2022-10-22T00:00:00\", \"symbol\": 345}, {\"date\": \"2022-10-23T00:00:00\", \"symbol\": 345}, {\"date\": \"2022-10-24T00:00:00\", \"symbol\": 345}, {\"date\": \"2022-10-25T00:00:00\", \"symbol\": 341}, {\"date\": \"2022-10-26T00:00:00\", \"symbol\": 341}, {\"date\": \"2022-10-27T00:00:00\", \"symbol\": 341}, {\"date\": \"2022-10-28T00:00:00\", \"symbol\": 342}, {\"date\": \"2022-10-29T00:00:00\", \"symbol\": 342}, {\"date\": \"2022-10-30T00:00:00\", \"symbol\": 342}, {\"date\": \"2022-10-31T00:00:00\", \"symbol\": 342}, {\"date\": \"2022-11-01T00:00:00\", \"symbol\": 341}, {\"date\": \"2022-11-02T00:00:00\", \"symbol\": 341}, {\"date\": \"2022-11-03T00:00:00\", \"symbol\": 341}, {\"date\": \"2022-11-04T00:00:00\", \"symbol\": 341}, {\"date\": \"2022-11-05T00:00:00\", \"symbol\": 341}, {\"date\": \"2022-11-06T00:00:00\", \"symbol\": 341}, {\"date\": \"2022-11-07T00:00:00\", \"symbol\": 342}, {\"date\": \"2022-11-08T00:00:00\", \"symbol\": 342}, {\"date\": \"2022-11-09T00:00:00\", \"symbol\": 343}, {\"date\": \"2022-11-10T00:00:00\", \"symbol\": 343}, {\"date\": \"2022-11-11T00:00:00\", \"symbol\": 343}, {\"date\": \"2022-11-12T00:00:00\", \"symbol\": 343}, {\"date\": \"2022-11-13T00:00:00\", \"symbol\": 343}, {\"date\": \"2022-11-14T00:00:00\", \"symbol\": 343}, {\"date\": \"2022-11-15T00:00:00\", \"symbol\": 343}, {\"date\": \"2022-11-16T00:00:00\", \"symbol\": 342}, {\"date\": \"2022-11-17T00:00:00\", \"symbol\": 342}, {\"date\": \"2022-11-18T00:00:00\", \"symbol\": 343}, {\"date\": \"2022-11-19T00:00:00\", \"symbol\": 343}, {\"date\": \"2022-11-20T00:00:00\", \"symbol\": 343}, {\"date\": \"2022-11-21T00:00:00\", \"symbol\": 343}, {\"date\": \"2022-11-22T00:00:00\", \"symbol\": 343}, {\"date\": \"2022-11-23T00:00:00\", \"symbol\": 343}, {\"date\": \"2022-11-24T00:00:00\", \"symbol\": 343}, {\"date\": \"2022-11-25T00:00:00\", \"symbol\": 343}, {\"date\": \"2022-11-26T00:00:00\", \"symbol\": 343}, {\"date\": \"2022-11-27T00:00:00\", \"symbol\": 343}, {\"date\": \"2022-11-28T00:00:00\", \"symbol\": 343}, {\"date\": \"2022-11-29T00:00:00\", \"symbol\": 339}, {\"date\": \"2022-11-30T00:00:00\", \"symbol\": 335}, {\"date\": \"2022-12-01T00:00:00\", \"symbol\": 336}, {\"date\": \"2022-12-02T00:00:00\", \"symbol\": 336}, {\"date\": \"2022-12-03T00:00:00\", \"symbol\": 336}, {\"date\": \"2022-12-04T00:00:00\", \"symbol\": 336}, {\"date\": \"2022-12-05T00:00:00\", \"symbol\": 336}, {\"date\": \"2022-12-06T00:00:00\", \"symbol\": 336}, {\"date\": \"2022-12-07T00:00:00\", \"symbol\": 336}, {\"date\": \"2022-12-08T00:00:00\", \"symbol\": 336}, {\"date\": \"2022-12-09T00:00:00\", \"symbol\": 336}, {\"date\": \"2022-12-10T00:00:00\", \"symbol\": 335}, {\"date\": \"2022-12-11T00:00:00\", \"symbol\": 335}, {\"date\": \"2022-12-12T00:00:00\", \"symbol\": 336}, {\"date\": \"2022-12-13T00:00:00\", \"symbol\": 336}, {\"date\": \"2022-12-14T00:00:00\", \"symbol\": 336}, {\"date\": \"2022-12-15T00:00:00\", \"symbol\": 336}, {\"date\": \"2022-12-16T00:00:00\", \"symbol\": 336}, {\"date\": \"2022-12-17T00:00:00\", \"symbol\": 336}, {\"date\": \"2022-12-18T00:00:00\", \"symbol\": 336}, {\"date\": \"2022-12-19T00:00:00\", \"symbol\": 336}, {\"date\": \"2022-12-20T00:00:00\", \"symbol\": 336}, {\"date\": \"2022-12-21T00:00:00\", \"symbol\": 336}, {\"date\": \"2022-12-22T00:00:00\", \"symbol\": 336}, {\"date\": \"2022-12-23T00:00:00\", \"symbol\": 334}, {\"date\": \"2022-12-24T00:00:00\", \"symbol\": 334}, {\"date\": \"2022-12-25T00:00:00\", \"symbol\": 334}, {\"date\": \"2022-12-26T00:00:00\", \"symbol\": 334}, {\"date\": \"2022-12-27T00:00:00\", \"symbol\": 334}, {\"date\": \"2022-12-28T00:00:00\", \"symbol\": 331}, {\"date\": \"2022-12-29T00:00:00\", \"symbol\": 331}, {\"date\": \"2022-12-30T00:00:00\", \"symbol\": 331}, {\"date\": \"2022-12-31T00:00:00\", \"symbol\": 331}, {\"date\": \"2023-01-01T00:00:00\", \"symbol\": 331}, {\"date\": \"2023-01-02T00:00:00\", \"symbol\": 331}, {\"date\": \"2023-01-03T00:00:00\", \"symbol\": 331}, {\"date\": \"2023-01-04T00:00:00\", \"symbol\": 330}, {\"date\": \"2023-01-05T00:00:00\", \"symbol\": 330}, {\"date\": \"2023-01-06T00:00:00\", \"symbol\": 330}, {\"date\": \"2023-01-07T00:00:00\", \"symbol\": 330}, {\"date\": \"2023-01-08T00:00:00\", \"symbol\": 330}, {\"date\": \"2023-01-09T00:00:00\", \"symbol\": 330}, {\"date\": \"2023-01-10T00:00:00\", \"symbol\": 330}, {\"date\": \"2023-01-11T00:00:00\", \"symbol\": 330}, {\"date\": \"2023-01-12T00:00:00\", \"symbol\": 331}, {\"date\": \"2023-01-13T00:00:00\", \"symbol\": 331}, {\"date\": \"2023-01-14T00:00:00\", \"symbol\": 331}, {\"date\": \"2023-01-15T00:00:00\", \"symbol\": 331}, {\"date\": \"2023-01-16T00:00:00\", \"symbol\": 331}, {\"date\": \"2023-01-17T00:00:00\", \"symbol\": 331}, {\"date\": \"2023-01-18T00:00:00\", \"symbol\": 332}, {\"date\": \"2023-01-19T00:00:00\", \"symbol\": 332}, {\"date\": \"2023-01-20T00:00:00\", \"symbol\": 332}, {\"date\": \"2023-01-21T00:00:00\", \"symbol\": 332}, {\"date\": \"2023-01-22T00:00:00\", \"symbol\": 332}, {\"date\": \"2023-01-23T00:00:00\", \"symbol\": 332}, {\"date\": \"2023-01-24T00:00:00\", \"symbol\": 332}, {\"date\": \"2023-01-25T00:00:00\", \"symbol\": 332}, {\"date\": \"2023-01-26T00:00:00\", \"symbol\": 332}, {\"date\": \"2023-01-27T00:00:00\", \"symbol\": 332}, {\"date\": \"2023-01-28T00:00:00\", \"symbol\": 332}, {\"date\": \"2023-01-29T00:00:00\", \"symbol\": 332}, {\"date\": \"2023-01-30T00:00:00\", \"symbol\": 332}, {\"date\": \"2023-01-31T00:00:00\", \"symbol\": 332}, {\"date\": \"2023-02-01T00:00:00\", \"symbol\": 332}, {\"date\": \"2023-02-02T00:00:00\", \"symbol\": 332}, {\"date\": \"2023-02-03T00:00:00\", \"symbol\": 332}, {\"date\": \"2023-02-04T00:00:00\", \"symbol\": 332}, {\"date\": \"2023-02-05T00:00:00\", \"symbol\": 332}, {\"date\": \"2023-02-06T00:00:00\", \"symbol\": 332}, {\"date\": \"2023-02-07T00:00:00\", \"symbol\": 332}, {\"date\": \"2023-02-08T00:00:00\", \"symbol\": 332}, {\"date\": \"2023-02-09T00:00:00\", \"symbol\": 332}, {\"date\": \"2023-02-10T00:00:00\", \"symbol\": 332}, {\"date\": \"2023-02-11T00:00:00\", \"symbol\": 331}, {\"date\": \"2023-02-12T00:00:00\", \"symbol\": 331}, {\"date\": \"2023-02-13T00:00:00\", \"symbol\": 331}, {\"date\": \"2023-02-14T00:00:00\", \"symbol\": 331}, {\"date\": \"2023-02-15T00:00:00\", \"symbol\": 331}, {\"date\": \"2023-02-16T00:00:00\", \"symbol\": 331}, {\"date\": \"2023-02-17T00:00:00\", \"symbol\": 332}, {\"date\": \"2023-02-18T00:00:00\", \"symbol\": 332}, {\"date\": \"2023-02-19T00:00:00\", \"symbol\": 332}, {\"date\": \"2023-02-20T00:00:00\", \"symbol\": 332}, {\"date\": \"2023-02-21T00:00:00\", \"symbol\": 332}, {\"date\": \"2023-02-22T00:00:00\", \"symbol\": 334}, {\"date\": \"2023-02-23T00:00:00\", \"symbol\": 334}, {\"date\": \"2023-02-24T00:00:00\", \"symbol\": 336}, {\"date\": \"2023-02-25T00:00:00\", \"symbol\": 336}, {\"date\": \"2023-02-26T00:00:00\", \"symbol\": 336}, {\"date\": \"2023-02-27T00:00:00\", \"symbol\": 336}, {\"date\": \"2023-02-28T00:00:00\", \"symbol\": 336}, {\"date\": \"2023-03-01T00:00:00\", \"symbol\": 336}, {\"date\": \"2023-03-02T00:00:00\", \"symbol\": 336}, {\"date\": \"2023-03-03T00:00:00\", \"symbol\": 338}, {\"date\": \"2023-03-04T00:00:00\", \"symbol\": 338}, {\"date\": \"2023-03-05T00:00:00\", \"symbol\": 338}, {\"date\": \"2023-03-06T00:00:00\", \"symbol\": 338}, {\"date\": \"2023-03-07T00:00:00\", \"symbol\": 338}, {\"date\": \"2023-03-08T00:00:00\", \"symbol\": 338}, {\"date\": \"2023-03-09T00:00:00\", \"symbol\": 338}, {\"date\": \"2023-03-10T00:00:00\", \"symbol\": 340}, {\"date\": \"2023-03-11T00:00:00\", \"symbol\": 343}, {\"date\": \"2023-03-12T00:00:00\", \"symbol\": 343}, {\"date\": \"2023-03-13T00:00:00\", \"symbol\": 343}, {\"date\": \"2023-03-14T00:00:00\", \"symbol\": 343}, {\"date\": \"2023-03-15T00:00:00\", \"symbol\": 343}, {\"date\": \"2023-03-16T00:00:00\", \"symbol\": 343}, {\"date\": \"2023-03-17T00:00:00\", \"symbol\": 348}, {\"date\": \"2023-03-18T00:00:00\", \"symbol\": 348}, {\"date\": \"2023-03-19T00:00:00\", \"symbol\": 348}, {\"date\": \"2023-03-20T00:00:00\", \"symbol\": 348}, {\"date\": \"2023-03-21T00:00:00\", \"symbol\": 348}, {\"date\": \"2023-03-22T00:00:00\", \"symbol\": 349}, {\"date\": \"2023-03-23T00:00:00\", \"symbol\": 350}, {\"date\": \"2023-03-24T00:00:00\", \"symbol\": 352}, {\"date\": \"2023-03-25T00:00:00\", \"symbol\": 352}, {\"date\": \"2023-03-26T00:00:00\", \"symbol\": 352}, {\"date\": \"2023-03-27T00:00:00\", \"symbol\": 352}, {\"date\": \"2023-03-28T00:00:00\", \"symbol\": 352}, {\"date\": \"2023-03-29T00:00:00\", \"symbol\": 352}, {\"date\": \"2023-03-30T00:00:00\", \"symbol\": 353}, {\"date\": \"2023-03-31T00:00:00\", \"symbol\": 353}, {\"date\": \"2023-04-01T00:00:00\", \"symbol\": 353}, {\"date\": \"2023-04-02T00:00:00\", \"symbol\": 353}, {\"date\": \"2023-04-03T00:00:00\", \"symbol\": 353}, {\"date\": \"2023-04-04T00:00:00\", \"symbol\": 353}, {\"date\": \"2023-04-05T00:00:00\", \"symbol\": 353}, {\"date\": \"2023-04-06T00:00:00\", \"symbol\": 353}, {\"date\": \"2023-04-07T00:00:00\", \"symbol\": 351}, {\"date\": \"2023-04-08T00:00:00\", \"symbol\": 351}, {\"date\": \"2023-04-09T00:00:00\", \"symbol\": 351}, {\"date\": \"2023-04-10T00:00:00\", \"symbol\": 351}, {\"date\": \"2023-04-11T00:00:00\", \"symbol\": 351}, {\"date\": \"2023-04-12T00:00:00\", \"symbol\": 351}, {\"date\": \"2023-04-13T00:00:00\", \"symbol\": 351}, {\"date\": \"2023-04-14T00:00:00\", \"symbol\": 351}, {\"date\": \"2023-04-15T00:00:00\", \"symbol\": 351}, {\"date\": \"2023-04-16T00:00:00\", \"symbol\": 351}, {\"date\": \"2023-04-17T00:00:00\", \"symbol\": 351}, {\"date\": \"2023-04-18T00:00:00\", \"symbol\": 351}, {\"date\": \"2023-04-19T00:00:00\", \"symbol\": 349}, {\"date\": \"2023-04-20T00:00:00\", \"symbol\": 349}, {\"date\": \"2023-04-21T00:00:00\", \"symbol\": 349}, {\"date\": \"2023-04-22T00:00:00\", \"symbol\": 349}, {\"date\": \"2023-04-23T00:00:00\", \"symbol\": 349}, {\"date\": \"2023-04-24T00:00:00\", \"symbol\": 349}, {\"date\": \"2023-04-25T00:00:00\", \"symbol\": 349}, {\"date\": \"2023-04-26T00:00:00\", \"symbol\": 349}, {\"date\": \"2023-04-27T00:00:00\", \"symbol\": 349}, {\"date\": \"2023-04-28T00:00:00\", \"symbol\": 351}, {\"date\": \"2023-04-29T00:00:00\", \"symbol\": 351}, {\"date\": \"2023-04-30T00:00:00\", \"symbol\": 351}, {\"date\": \"2023-05-01T00:00:00\", \"symbol\": 351}, {\"date\": \"2023-05-02T00:00:00\", \"symbol\": 351}, {\"date\": \"2023-05-03T00:00:00\", \"symbol\": 352}, {\"date\": \"2023-05-04T00:00:00\", \"symbol\": 352}, {\"date\": \"2023-05-05T00:00:00\", \"symbol\": 355}, {\"date\": \"2023-05-06T00:00:00\", \"symbol\": 355}, {\"date\": \"2023-05-07T00:00:00\", \"symbol\": 355}, {\"date\": \"2023-05-08T00:00:00\", \"symbol\": 355}, {\"date\": \"2023-05-09T00:00:00\", \"symbol\": 355}, {\"date\": \"2023-05-10T00:00:00\", \"symbol\": 355}, {\"date\": \"2023-05-11T00:00:00\", \"symbol\": 355}, {\"date\": \"2023-05-12T00:00:00\", \"symbol\": 356}, {\"date\": \"2023-05-13T00:00:00\", \"symbol\": 354}, {\"date\": \"2023-05-14T00:00:00\", \"symbol\": 354}, {\"date\": \"2023-05-15T00:00:00\", \"symbol\": 354}, {\"date\": \"2023-05-16T00:00:00\", \"symbol\": 354}, {\"date\": \"2023-05-17T00:00:00\", \"symbol\": 354}, {\"date\": \"2023-05-18T00:00:00\", \"symbol\": 354}, {\"date\": \"2023-05-19T00:00:00\", \"symbol\": 356}, {\"date\": \"2023-05-20T00:00:00\", \"symbol\": 356}, {\"date\": \"2023-05-21T00:00:00\", \"symbol\": 356}, {\"date\": \"2023-05-22T00:00:00\", \"symbol\": 356}, {\"date\": \"2023-05-23T00:00:00\", \"symbol\": 356}, {\"date\": \"2023-05-24T00:00:00\", \"symbol\": 356}, {\"date\": \"2023-05-25T00:00:00\", \"symbol\": 356}, {\"date\": \"2023-05-26T00:00:00\", \"symbol\": 356}, {\"date\": \"2023-05-27T00:00:00\", \"symbol\": 356}, {\"date\": \"2023-05-28T00:00:00\", \"symbol\": 356}, {\"date\": \"2023-05-29T00:00:00\", \"symbol\": 356}, {\"date\": \"2023-05-30T00:00:00\", \"symbol\": 355}, {\"date\": \"2023-05-31T00:00:00\", \"symbol\": 355}, {\"date\": \"2023-06-01T00:00:00\", \"symbol\": 355}, {\"date\": \"2023-06-02T00:00:00\", \"symbol\": 355}, {\"date\": \"2023-06-03T00:00:00\", \"symbol\": 355}, {\"date\": \"2023-06-04T00:00:00\", \"symbol\": 355}, {\"date\": \"2023-06-05T00:00:00\", \"symbol\": 355}, {\"date\": \"2023-06-06T00:00:00\", \"symbol\": 355}, {\"date\": \"2023-06-07T00:00:00\", \"symbol\": 355}, {\"date\": \"2023-06-08T00:00:00\", \"symbol\": 355}, {\"date\": \"2023-06-09T00:00:00\", \"symbol\": 355}, {\"date\": \"2023-06-10T00:00:00\", \"symbol\": 355}, {\"date\": \"2023-06-11T00:00:00\", \"symbol\": 355}, {\"date\": \"2023-06-12T00:00:00\", \"symbol\": 355}, {\"date\": \"2023-06-13T00:00:00\", \"symbol\": 355}, {\"date\": \"2023-06-14T00:00:00\", \"symbol\": 355}, {\"date\": \"2023-06-15T00:00:00\", \"symbol\": 355}, {\"date\": \"2023-06-16T00:00:00\", \"symbol\": 355}, {\"date\": \"2023-06-17T00:00:00\", \"symbol\": 355}, {\"date\": \"2023-06-18T00:00:00\", \"symbol\": 355}, {\"date\": \"2023-06-19T00:00:00\", \"symbol\": 355}, {\"date\": \"2023-06-20T00:00:00\", \"symbol\": 355}, {\"date\": \"2023-06-21T00:00:00\", \"symbol\": 355}, {\"date\": \"2023-06-22T00:00:00\", \"symbol\": 355}, {\"date\": \"2023-06-23T00:00:00\", \"symbol\": 355}, {\"date\": \"2023-06-24T00:00:00\", \"symbol\": 355}, {\"date\": \"2023-06-25T00:00:00\", \"symbol\": 355}, {\"date\": \"2023-06-26T00:00:00\", \"symbol\": 355}, {\"date\": \"2023-06-27T00:00:00\", \"symbol\": 355}, {\"date\": \"2023-06-28T00:00:00\", \"symbol\": 356}, {\"date\": \"2023-06-29T00:00:00\", \"symbol\": 356}, {\"date\": \"2023-06-30T00:00:00\", \"symbol\": 356}, {\"date\": \"2023-07-01T00:00:00\", \"symbol\": 356}, {\"date\": \"2023-07-02T00:00:00\", \"symbol\": 356}, {\"date\": \"2023-07-03T00:00:00\", \"symbol\": 357}, {\"date\": \"2023-07-04T00:00:00\", \"symbol\": 357}, {\"date\": \"2023-07-05T00:00:00\", \"symbol\": 357}, {\"date\": \"2023-07-06T00:00:00\", \"symbol\": 357}, {\"date\": \"2023-07-07T00:00:00\", \"symbol\": 357}, {\"date\": \"2023-07-08T00:00:00\", \"symbol\": 357}, {\"date\": \"2023-07-09T00:00:00\", \"symbol\": 357}, {\"date\": \"2023-07-10T00:00:00\", \"symbol\": 357}, {\"date\": \"2023-07-11T00:00:00\", \"symbol\": 357}, {\"date\": \"2023-07-12T00:00:00\", \"symbol\": 357}, {\"date\": \"2023-07-13T00:00:00\", \"symbol\": 357}, {\"date\": \"2023-07-14T00:00:00\", \"symbol\": 357}, {\"date\": \"2023-07-15T00:00:00\", \"symbol\": 357}, {\"date\": \"2023-07-16T00:00:00\", \"symbol\": 357}, {\"date\": \"2023-07-17T00:00:00\", \"symbol\": 357}, {\"date\": \"2023-07-18T00:00:00\", \"symbol\": 357}, {\"date\": \"2023-07-19T00:00:00\", \"symbol\": 358}, {\"date\": \"2023-07-20T00:00:00\", \"symbol\": 358}, {\"date\": \"2023-07-21T00:00:00\", \"symbol\": 359}, {\"date\": \"2023-07-22T00:00:00\", \"symbol\": 359}, {\"date\": \"2023-07-23T00:00:00\", \"symbol\": 359}, {\"date\": \"2023-07-24T00:00:00\", \"symbol\": 360}, {\"date\": \"2023-07-25T00:00:00\", \"symbol\": 360}, {\"date\": \"2023-07-26T00:00:00\", \"symbol\": 361}, {\"date\": \"2023-07-27T00:00:00\", \"symbol\": 361}, {\"date\": \"2023-07-28T00:00:00\", \"symbol\": 361}, {\"date\": \"2023-07-29T00:00:00\", \"symbol\": 361}, {\"date\": \"2023-07-30T00:00:00\", \"symbol\": 361}, {\"date\": \"2023-07-31T00:00:00\", \"symbol\": 361}, {\"date\": \"2023-08-01T00:00:00\", \"symbol\": 361}, {\"date\": \"2023-08-02T00:00:00\", \"symbol\": 361}, {\"date\": \"2023-08-03T00:00:00\", \"symbol\": 361}, {\"date\": \"2023-08-04T00:00:00\", \"symbol\": 361}, {\"date\": \"2023-08-05T00:00:00\", \"symbol\": 361}, {\"date\": \"2023-08-06T00:00:00\", \"symbol\": 361}, {\"date\": \"2023-08-07T00:00:00\", \"symbol\": 361}, {\"date\": \"2023-08-08T00:00:00\", \"symbol\": 361}, {\"date\": \"2023-08-09T00:00:00\", \"symbol\": 361}, {\"date\": \"2023-08-10T00:00:00\", \"symbol\": 361}, {\"date\": \"2023-08-11T00:00:00\", \"symbol\": 361}, {\"date\": \"2023-08-12T00:00:00\", \"symbol\": 361}, {\"date\": \"2023-08-13T00:00:00\", \"symbol\": 361}, {\"date\": \"2023-08-14T00:00:00\", \"symbol\": 361}, {\"date\": \"2023-08-15T00:00:00\", \"symbol\": 363}, {\"date\": \"2023-08-16T00:00:00\", \"symbol\": 363}, {\"date\": \"2023-08-17T00:00:00\", \"symbol\": 361}, {\"date\": \"2023-08-18T00:00:00\", \"symbol\": 361}, {\"date\": \"2023-08-19T00:00:00\", \"symbol\": 361}, {\"date\": \"2023-08-20T00:00:00\", \"symbol\": 361}, {\"date\": \"2023-08-21T00:00:00\", \"symbol\": 361}, {\"date\": \"2023-08-22T00:00:00\", \"symbol\": 361}, {\"date\": \"2023-08-23T00:00:00\", \"symbol\": 360}, {\"date\": \"2023-08-24T00:00:00\", \"symbol\": 360}, {\"date\": \"2023-08-25T00:00:00\", \"symbol\": 360}, {\"date\": \"2023-08-26T00:00:00\", \"symbol\": 360}, {\"date\": \"2023-08-27T00:00:00\", \"symbol\": 360}, {\"date\": \"2023-08-28T00:00:00\", \"symbol\": 360}, {\"date\": \"2023-08-29T00:00:00\", \"symbol\": 360}, {\"date\": \"2023-08-30T00:00:00\", \"symbol\": 360}, {\"date\": \"2023-08-31T00:00:00\", \"symbol\": 360}, {\"date\": \"2023-09-01T00:00:00\", \"symbol\": 360}, {\"date\": \"2023-09-02T00:00:00\", \"symbol\": 360}, {\"date\": \"2023-09-03T00:00:00\", \"symbol\": 360}, {\"date\": \"2023-09-04T00:00:00\", \"symbol\": 360}, {\"date\": \"2023-09-05T00:00:00\", \"symbol\": 360}, {\"date\": \"2023-09-06T00:00:00\", \"symbol\": 360}, {\"date\": \"2023-09-07T00:00:00\", \"symbol\": 360}, {\"date\": \"2023-09-08T00:00:00\", \"symbol\": 360}, {\"date\": \"2023-09-09T00:00:00\", \"symbol\": 359}, {\"date\": \"2023-09-10T00:00:00\", \"symbol\": 359}, {\"date\": \"2023-09-11T00:00:00\", \"symbol\": 359}, {\"date\": \"2023-09-12T00:00:00\", \"symbol\": 359}, {\"date\": \"2023-09-13T00:00:00\", \"symbol\": 359}, {\"date\": \"2023-09-14T00:00:00\", \"symbol\": 359}, {\"date\": \"2023-09-15T00:00:00\", \"symbol\": 359}, {\"date\": \"2023-09-16T00:00:00\", \"symbol\": 359}, {\"date\": \"2023-09-17T00:00:00\", \"symbol\": 359}, {\"date\": \"2023-09-18T00:00:00\", \"symbol\": 359}, {\"date\": \"2023-09-19T00:00:00\", \"symbol\": 359}, {\"date\": \"2023-09-20T00:00:00\", \"symbol\": 359}, {\"date\": \"2023-09-21T00:00:00\", \"symbol\": 359}, {\"date\": \"2023-09-22T00:00:00\", \"symbol\": 364}, {\"date\": \"2023-09-23T00:00:00\", \"symbol\": 364}, {\"date\": \"2023-09-24T00:00:00\", \"symbol\": 364}, {\"date\": \"2023-09-25T00:00:00\", \"symbol\": 364}, {\"date\": \"2023-09-26T00:00:00\", \"symbol\": 364}, {\"date\": \"2023-09-27T00:00:00\", \"symbol\": 364}, {\"date\": \"2023-09-28T00:00:00\", \"symbol\": 364}, {\"date\": \"2023-09-29T00:00:00\", \"symbol\": 364}, {\"date\": \"2023-09-30T00:00:00\", \"symbol\": 364}, {\"date\": \"2023-10-01T00:00:00\", \"symbol\": 364}, {\"date\": \"2023-10-02T00:00:00\", \"symbol\": 364}, {\"date\": \"2023-10-03T00:00:00\", \"symbol\": 364}, {\"date\": \"2023-10-04T00:00:00\", \"symbol\": 364}, {\"date\": \"2023-10-05T00:00:00\", \"symbol\": 364}, {\"date\": \"2023-10-06T00:00:00\", \"symbol\": 364}, {\"date\": \"2023-10-07T00:00:00\", \"symbol\": 364}, {\"date\": \"2023-10-08T00:00:00\", \"symbol\": 364}, {\"date\": \"2023-10-09T00:00:00\", \"symbol\": 364}, {\"date\": \"2023-10-10T00:00:00\", \"symbol\": 365}, {\"date\": \"2023-10-11T00:00:00\", \"symbol\": 365}, {\"date\": \"2023-10-12T00:00:00\", \"symbol\": 364}, {\"date\": \"2023-10-13T00:00:00\", \"symbol\": 364}, {\"date\": \"2023-10-14T00:00:00\", \"symbol\": 364}, {\"date\": \"2023-10-15T00:00:00\", \"symbol\": 364}, {\"date\": \"2023-10-16T00:00:00\", \"symbol\": 364}, {\"date\": \"2023-10-17T00:00:00\", \"symbol\": 364}, {\"date\": \"2023-10-18T00:00:00\", \"symbol\": 364}, {\"date\": \"2023-10-19T00:00:00\", \"symbol\": 364}, {\"date\": \"2023-10-20T00:00:00\", \"symbol\": 364}, {\"date\": \"2023-10-21T00:00:00\", \"symbol\": 364}, {\"date\": \"2023-10-22T00:00:00\", \"symbol\": 364}, {\"date\": \"2023-10-23T00:00:00\", \"symbol\": 364}, {\"date\": \"2023-10-24T00:00:00\", \"symbol\": 364}, {\"date\": \"2023-10-25T00:00:00\", \"symbol\": 364}, {\"date\": \"2023-10-26T00:00:00\", \"symbol\": 364}, {\"date\": \"2023-10-27T00:00:00\", \"symbol\": 364}, {\"date\": \"2023-10-28T00:00:00\", \"symbol\": 364}, {\"date\": \"2023-10-29T00:00:00\", \"symbol\": 364}, {\"date\": \"2023-10-30T00:00:00\", \"symbol\": 364}, {\"date\": \"2023-10-31T00:00:00\", \"symbol\": 365}, {\"date\": \"2023-11-01T00:00:00\", \"symbol\": 365}, {\"date\": \"2023-11-02T00:00:00\", \"symbol\": 365}, {\"date\": \"2023-11-03T00:00:00\", \"symbol\": 366}, {\"date\": \"2023-11-04T00:00:00\", \"symbol\": 366}, {\"date\": \"2023-11-05T00:00:00\", \"symbol\": 366}, {\"date\": \"2023-11-06T00:00:00\", \"symbol\": 366}, {\"date\": \"2023-11-07T00:00:00\", \"symbol\": 367}, {\"date\": \"2023-11-08T00:00:00\", \"symbol\": 366}, {\"date\": \"2023-11-09T00:00:00\", \"symbol\": 366}, {\"date\": \"2023-11-10T00:00:00\", \"symbol\": 366}, {\"date\": \"2023-11-11T00:00:00\", \"symbol\": 366}, {\"date\": \"2023-11-12T00:00:00\", \"symbol\": 366}, {\"date\": \"2023-11-13T00:00:00\", \"symbol\": 366}, {\"date\": \"2023-11-14T00:00:00\", \"symbol\": 367}, {\"date\": \"2023-11-15T00:00:00\", \"symbol\": 367}, {\"date\": \"2023-11-16T00:00:00\", \"symbol\": 368}, {\"date\": \"2023-11-17T00:00:00\", \"symbol\": 368}, {\"date\": \"2023-11-18T00:00:00\", \"symbol\": 368}, {\"date\": \"2023-11-19T00:00:00\", \"symbol\": 368}, {\"date\": \"2023-11-20T00:00:00\", \"symbol\": 368}, {\"date\": \"2023-11-21T00:00:00\", \"symbol\": 367}, {\"date\": \"2023-11-22T00:00:00\", \"symbol\": 367}, {\"date\": \"2023-11-23T00:00:00\", \"symbol\": 367}, {\"date\": \"2023-11-24T00:00:00\", \"symbol\": 369}, {\"date\": \"2023-11-25T00:00:00\", \"symbol\": 369}, {\"date\": \"2023-11-26T00:00:00\", \"symbol\": 369}, {\"date\": \"2023-11-27T00:00:00\", \"symbol\": 369}, {\"date\": \"2023-11-28T00:00:00\", \"symbol\": 368}, {\"date\": \"2023-11-29T00:00:00\", \"symbol\": 368}, {\"date\": \"2023-11-30T00:00:00\", \"symbol\": 368}, {\"date\": \"2023-12-01T00:00:00\", \"symbol\": 369}, {\"date\": \"2023-12-02T00:00:00\", \"symbol\": 369}, {\"date\": \"2023-12-03T00:00:00\", \"symbol\": 369}, {\"date\": \"2023-12-04T00:00:00\", \"symbol\": 370}, {\"date\": \"2023-12-05T00:00:00\", \"symbol\": 370}, {\"date\": \"2023-12-06T00:00:00\", \"symbol\": 369}, {\"date\": \"2023-12-07T00:00:00\", \"symbol\": 370}, {\"date\": \"2023-12-08T00:00:00\", \"symbol\": 368}, {\"date\": \"2023-12-09T00:00:00\", \"symbol\": 368}, {\"date\": \"2023-12-10T00:00:00\", \"symbol\": 368}, {\"date\": \"2023-12-11T00:00:00\", \"symbol\": 368}, {\"date\": \"2023-12-12T00:00:00\", \"symbol\": 369}, {\"date\": \"2023-12-13T00:00:00\", \"symbol\": 369}, {\"date\": \"2023-12-14T00:00:00\", \"symbol\": 369}, {\"date\": \"2023-12-15T00:00:00\", \"symbol\": 370}, {\"date\": \"2023-12-16T00:00:00\", \"symbol\": 369}, {\"date\": \"2023-12-17T00:00:00\", \"symbol\": 369}, {\"date\": \"2023-12-18T00:00:00\", \"symbol\": 370}, {\"date\": \"2023-12-19T00:00:00\", \"symbol\": 370}, {\"date\": \"2023-12-20T00:00:00\", \"symbol\": 370}, {\"date\": \"2023-12-21T00:00:00\", \"symbol\": 370}, {\"date\": \"2023-12-22T00:00:00\", \"symbol\": 370}, {\"date\": \"2023-12-23T00:00:00\", \"symbol\": 370}, {\"date\": \"2023-12-24T00:00:00\", \"symbol\": 370}, {\"date\": \"2023-12-25T00:00:00\", \"symbol\": 370}, {\"date\": \"2023-12-26T00:00:00\", \"symbol\": 370}, {\"date\": \"2023-12-27T00:00:00\", \"symbol\": 371}, {\"date\": \"2023-12-28T00:00:00\", \"symbol\": 371}, {\"date\": \"2023-12-29T00:00:00\", \"symbol\": 371}, {\"date\": \"2023-12-30T00:00:00\", \"symbol\": 370}, {\"date\": \"2023-12-31T00:00:00\", \"symbol\": 370}, {\"date\": \"2024-01-01T00:00:00\", \"symbol\": 370}, {\"date\": \"2024-01-02T00:00:00\", \"symbol\": 370}, {\"date\": \"2024-01-03T00:00:00\", \"symbol\": 370}, {\"date\": \"2024-01-04T00:00:00\", \"symbol\": 371}, {\"date\": \"2024-01-05T00:00:00\", \"symbol\": 371}, {\"date\": \"2024-01-06T00:00:00\", \"symbol\": 371}, {\"date\": \"2024-01-07T00:00:00\", \"symbol\": 371}, {\"date\": \"2024-01-08T00:00:00\", \"symbol\": 371}, {\"date\": \"2024-01-09T00:00:00\", \"symbol\": 372}, {\"date\": \"2024-01-10T00:00:00\", \"symbol\": 372}, {\"date\": \"2024-01-11T00:00:00\", \"symbol\": 372}, {\"date\": \"2024-01-12T00:00:00\", \"symbol\": 372}, {\"date\": \"2024-01-13T00:00:00\", \"symbol\": 372}, {\"date\": \"2024-01-14T00:00:00\", \"symbol\": 372}, {\"date\": \"2024-01-15T00:00:00\", \"symbol\": 372}, {\"date\": \"2024-01-16T00:00:00\", \"symbol\": 372}, {\"date\": \"2024-01-17T00:00:00\", \"symbol\": 372}, {\"date\": \"2024-01-18T00:00:00\", \"symbol\": 373}, {\"date\": \"2024-01-19T00:00:00\", \"symbol\": 373}, {\"date\": \"2024-01-20T00:00:00\", \"symbol\": 373}, {\"date\": \"2024-01-21T00:00:00\", \"symbol\": 373}, {\"date\": \"2024-01-22T00:00:00\", \"symbol\": 373}, {\"date\": \"2024-01-23T00:00:00\", \"symbol\": 373}, {\"date\": \"2024-01-24T00:00:00\", \"symbol\": 373}, {\"date\": \"2024-01-25T00:00:00\", \"symbol\": 374}, {\"date\": \"2024-01-26T00:00:00\", \"symbol\": 374}, {\"date\": \"2024-01-27T00:00:00\", \"symbol\": 374}, {\"date\": \"2024-01-28T00:00:00\", \"symbol\": 374}, {\"date\": \"2024-01-29T00:00:00\", \"symbol\": 374}, {\"date\": \"2024-01-30T00:00:00\", \"symbol\": 374}, {\"date\": \"2024-01-31T00:00:00\", \"symbol\": 375}, {\"date\": \"2024-02-01T00:00:00\", \"symbol\": 375}, {\"date\": \"2024-02-02T00:00:00\", \"symbol\": 376}, {\"date\": \"2024-02-03T00:00:00\", \"symbol\": 376}, {\"date\": \"2024-02-04T00:00:00\", \"symbol\": 376}, {\"date\": \"2024-02-05T00:00:00\", \"symbol\": 377}, {\"date\": \"2024-02-06T00:00:00\", \"symbol\": 378}, {\"date\": \"2024-02-07T00:00:00\", \"symbol\": 378}, {\"date\": \"2024-02-08T00:00:00\", \"symbol\": 378}, {\"date\": \"2024-02-09T00:00:00\", \"symbol\": 378}, {\"date\": \"2024-02-10T00:00:00\", \"symbol\": 378}, {\"date\": \"2024-02-11T00:00:00\", \"symbol\": 378}, {\"date\": \"2024-02-12T00:00:00\", \"symbol\": 378}, {\"date\": \"2024-02-13T00:00:00\", \"symbol\": 378}, {\"date\": \"2024-02-14T00:00:00\", \"symbol\": 378}, {\"date\": \"2024-02-15T00:00:00\", \"symbol\": 378}, {\"date\": \"2024-02-16T00:00:00\", \"symbol\": 378}, {\"date\": \"2024-02-17T00:00:00\", \"symbol\": 378}, {\"date\": \"2024-02-18T00:00:00\", \"symbol\": 378}, {\"date\": \"2024-02-19T00:00:00\", \"symbol\": 379}, {\"date\": \"2024-02-20T00:00:00\", \"symbol\": 380}, {\"date\": \"2024-02-21T00:00:00\", \"symbol\": 377}, {\"date\": \"2024-02-22T00:00:00\", \"symbol\": 377}, {\"date\": \"2024-02-23T00:00:00\", \"symbol\": 377}, {\"date\": \"2024-02-24T00:00:00\", \"symbol\": 377}, {\"date\": \"2024-02-25T00:00:00\", \"symbol\": 377}, {\"date\": \"2024-02-26T00:00:00\", \"symbol\": 377}, {\"date\": \"2024-02-27T00:00:00\", \"symbol\": 376}, {\"date\": \"2024-02-28T00:00:00\", \"symbol\": 376}, {\"date\": \"2024-02-29T00:00:00\", \"symbol\": 371}, {\"date\": \"2024-03-01T00:00:00\", \"symbol\": 373}, {\"date\": \"2024-03-02T00:00:00\", \"symbol\": 373}, {\"date\": \"2024-03-03T00:00:00\", \"symbol\": 373}, {\"date\": \"2024-03-04T00:00:00\", \"symbol\": 373}, {\"date\": \"2024-03-05T00:00:00\", \"symbol\": 374}, {\"date\": \"2024-03-06T00:00:00\", \"symbol\": 374}, {\"date\": \"2024-03-07T00:00:00\", \"symbol\": 374}, {\"date\": \"2024-03-08T00:00:00\", \"symbol\": 374}, {\"date\": \"2024-03-09T00:00:00\", \"symbol\": 374}, {\"date\": \"2024-03-10T00:00:00\", \"symbol\": 374}, {\"date\": \"2024-03-11T00:00:00\", \"symbol\": 375}, {\"date\": \"2024-03-12T00:00:00\", \"symbol\": 375}, {\"date\": \"2024-03-13T00:00:00\", \"symbol\": 376}, {\"date\": \"2024-03-14T00:00:00\", \"symbol\": 376}, {\"date\": \"2024-03-15T00:00:00\", \"symbol\": 376}, {\"date\": \"2024-03-16T00:00:00\", \"symbol\": 377}, {\"date\": \"2024-03-17T00:00:00\", \"symbol\": 377}, {\"date\": \"2024-03-18T00:00:00\", \"symbol\": 378}, {\"date\": \"2024-03-19T00:00:00\", \"symbol\": 378}, {\"date\": \"2024-03-20T00:00:00\", \"symbol\": 378}, {\"date\": \"2024-03-21T00:00:00\", \"symbol\": 377}, {\"date\": \"2024-03-22T00:00:00\", \"symbol\": 377}, {\"date\": \"2024-03-23T00:00:00\", \"symbol\": 377}, {\"date\": \"2024-03-24T00:00:00\", \"symbol\": 377}, {\"date\": \"2024-03-25T00:00:00\", \"symbol\": 377}, {\"date\": \"2024-03-26T00:00:00\", \"symbol\": 377}, {\"date\": \"2024-03-27T00:00:00\", \"symbol\": 377}, {\"date\": \"2024-03-28T00:00:00\", \"symbol\": 378}, {\"date\": \"2024-03-29T00:00:00\", \"symbol\": 378}, {\"date\": \"2024-03-30T00:00:00\", \"symbol\": 378}, {\"date\": \"2024-03-31T00:00:00\", \"symbol\": 378}, {\"date\": \"2024-04-01T00:00:00\", \"symbol\": 378}, {\"date\": \"2024-04-02T00:00:00\", \"symbol\": 379}, {\"date\": \"2024-04-03T00:00:00\", \"symbol\": 380}, {\"date\": \"2024-04-04T00:00:00\", \"symbol\": 377}, {\"date\": \"2024-04-05T00:00:00\", \"symbol\": 377}, {\"date\": \"2024-04-06T00:00:00\", \"symbol\": 377}, {\"date\": \"2024-04-07T00:00:00\", \"symbol\": 377}, {\"date\": \"2024-04-08T00:00:00\", \"symbol\": 378}, {\"date\": \"2024-04-09T00:00:00\", \"symbol\": 379}, {\"date\": \"2024-04-10T00:00:00\", \"symbol\": 379}, {\"date\": \"2024-04-11T00:00:00\", \"symbol\": 380}, {\"date\": \"2024-04-12T00:00:00\", \"symbol\": 380}, {\"date\": \"2024-04-13T00:00:00\", \"symbol\": 380}, {\"date\": \"2024-04-14T00:00:00\", \"symbol\": 380}, {\"date\": \"2024-04-15T00:00:00\", \"symbol\": 380}, {\"date\": \"2024-04-16T00:00:00\", \"symbol\": 380}, {\"date\": \"2024-04-17T00:00:00\", \"symbol\": 381}, {\"date\": \"2024-04-18T00:00:00\", \"symbol\": 381}, {\"date\": \"2024-04-19T00:00:00\", \"symbol\": 381}, {\"date\": \"2024-04-20T00:00:00\", \"symbol\": 381}, {\"date\": \"2024-04-21T00:00:00\", \"symbol\": 381}, {\"date\": \"2024-04-22T00:00:00\", \"symbol\": 381}, {\"date\": \"2024-04-23T00:00:00\", \"symbol\": 381}, {\"date\": \"2024-04-24T00:00:00\", \"symbol\": 381}, {\"date\": \"2024-04-25T00:00:00\", \"symbol\": 381}, {\"date\": \"2024-04-26T00:00:00\", \"symbol\": 381}, {\"date\": \"2024-04-27T00:00:00\", \"symbol\": 381}, {\"date\": \"2024-04-28T00:00:00\", \"symbol\": 381}, {\"date\": \"2024-04-29T00:00:00\", \"symbol\": 381}, {\"date\": \"2024-04-30T00:00:00\", \"symbol\": 382}, {\"date\": \"2024-05-01T00:00:00\", \"symbol\": 382}, {\"date\": \"2024-05-02T00:00:00\", \"symbol\": 382}, {\"date\": \"2024-05-03T00:00:00\", \"symbol\": 382}, {\"date\": \"2024-05-04T00:00:00\", \"symbol\": 382}, {\"date\": \"2024-05-05T00:00:00\", \"symbol\": 382}, {\"date\": \"2024-05-06T00:00:00\", \"symbol\": 382}, {\"date\": \"2024-05-07T00:00:00\", \"symbol\": 382}, {\"date\": \"2024-05-08T00:00:00\", \"symbol\": 382}, {\"date\": \"2024-05-09T00:00:00\", \"symbol\": 382}, {\"date\": \"2024-05-10T00:00:00\", \"symbol\": 382}, {\"date\": \"2024-05-11T00:00:00\", \"symbol\": 382}, {\"date\": \"2024-05-12T00:00:00\", \"symbol\": 382}, {\"date\": \"2024-05-13T00:00:00\", \"symbol\": 383}, {\"date\": \"2024-05-14T00:00:00\", \"symbol\": 383}, {\"date\": \"2024-05-15T00:00:00\", \"symbol\": 383}, {\"date\": \"2024-05-16T00:00:00\", \"symbol\": 384}, {\"date\": \"2024-05-17T00:00:00\", \"symbol\": 384}, {\"date\": \"2024-05-18T00:00:00\", \"symbol\": 384}, {\"date\": \"2024-05-19T00:00:00\", \"symbol\": 384}, {\"date\": \"2024-05-20T00:00:00\", \"symbol\": 384}, {\"date\": \"2024-05-21T00:00:00\", \"symbol\": 384}, {\"date\": \"2024-05-22T00:00:00\", \"symbol\": 384}, {\"date\": \"2024-05-23T00:00:00\", \"symbol\": 384}, {\"date\": \"2024-05-24T00:00:00\", \"symbol\": 384}, {\"date\": \"2024-05-25T00:00:00\", \"symbol\": 384}, {\"date\": \"2024-05-26T00:00:00\", \"symbol\": 384}, {\"date\": \"2024-05-27T00:00:00\", \"symbol\": 384}, {\"date\": \"2024-05-28T00:00:00\", \"symbol\": 384}, {\"date\": \"2024-05-29T00:00:00\", \"symbol\": 384}, {\"date\": \"2024-05-30T00:00:00\", \"symbol\": 384}, {\"date\": \"2024-05-31T00:00:00\", \"symbol\": 384}, {\"date\": \"2024-06-01T00:00:00\", \"symbol\": 384}, {\"date\": \"2024-06-02T00:00:00\", \"symbol\": 384}, {\"date\": \"2024-06-03T00:00:00\", \"symbol\": 384}, {\"date\": \"2024-06-04T00:00:00\", \"symbol\": 384}, {\"date\": \"2024-06-05T00:00:00\", \"symbol\": 384}, {\"date\": \"2024-06-06T00:00:00\", \"symbol\": 384}, {\"date\": \"2024-06-07T00:00:00\", \"symbol\": 384}, {\"date\": \"2024-06-08T00:00:00\", \"symbol\": 384}, {\"date\": \"2024-06-09T00:00:00\", \"symbol\": 384}, {\"date\": \"2024-06-10T00:00:00\", \"symbol\": 384}, {\"date\": \"2024-06-11T00:00:00\", \"symbol\": 385}, {\"date\": \"2024-06-12T00:00:00\", \"symbol\": 385}, {\"date\": \"2024-06-13T00:00:00\", \"symbol\": 385}, {\"date\": \"2024-06-14T00:00:00\", \"symbol\": 385}, {\"date\": \"2024-06-15T00:00:00\", \"symbol\": 385}, {\"date\": \"2024-06-16T00:00:00\", \"symbol\": 385}, {\"date\": \"2024-06-17T00:00:00\", \"symbol\": 386}, {\"date\": \"2024-06-18T00:00:00\", \"symbol\": 382}, {\"date\": \"2024-06-19T00:00:00\", \"symbol\": 382}, {\"date\": \"2024-06-20T00:00:00\", \"symbol\": 384}, {\"date\": \"2024-06-21T00:00:00\", \"symbol\": 384}, {\"date\": \"2024-06-22T00:00:00\", \"symbol\": 384}, {\"date\": \"2024-06-23T00:00:00\", \"symbol\": 384}, {\"date\": \"2024-06-24T00:00:00\", \"symbol\": 384}, {\"date\": \"2024-06-25T00:00:00\", \"symbol\": 384}, {\"date\": \"2024-06-26T00:00:00\", \"symbol\": 384}, {\"date\": \"2024-06-27T00:00:00\", \"symbol\": 384}, {\"date\": \"2024-06-28T00:00:00\", \"symbol\": 384}, {\"date\": \"2024-06-29T00:00:00\", \"symbol\": 384}, {\"date\": \"2024-06-30T00:00:00\", \"symbol\": 384}, {\"date\": \"2024-07-01T00:00:00\", \"symbol\": 384}, {\"date\": \"2024-07-02T00:00:00\", \"symbol\": 382}, {\"date\": \"2024-07-03T00:00:00\", \"symbol\": 382}, {\"date\": \"2024-07-04T00:00:00\", \"symbol\": 382}, {\"date\": \"2024-07-05T00:00:00\", \"symbol\": 382}, {\"date\": \"2024-07-06T00:00:00\", \"symbol\": 382}, {\"date\": \"2024-07-07T00:00:00\", \"symbol\": 382}, {\"date\": \"2024-07-08T00:00:00\", \"symbol\": 382}, {\"date\": \"2024-07-09T00:00:00\", \"symbol\": 382}, {\"date\": \"2024-07-10T00:00:00\", \"symbol\": 382}, {\"date\": \"2024-07-11T00:00:00\", \"symbol\": 382}, {\"date\": \"2024-07-12T00:00:00\", \"symbol\": 382}, {\"date\": \"2024-07-13T00:00:00\", \"symbol\": 382}, {\"date\": \"2024-07-14T00:00:00\", \"symbol\": 382}, {\"date\": \"2024-07-15T00:00:00\", \"symbol\": 382}, {\"date\": \"2024-07-16T00:00:00\", \"symbol\": 381}, {\"date\": \"2024-07-17T00:00:00\", \"symbol\": 381}, {\"date\": \"2024-07-18T00:00:00\", \"symbol\": 381}, {\"date\": \"2024-07-19T00:00:00\", \"symbol\": 382}, {\"date\": \"2024-07-20T00:00:00\", \"symbol\": 383}, {\"date\": \"2024-07-21T00:00:00\", \"symbol\": 383}, {\"date\": \"2024-07-22T00:00:00\", \"symbol\": 383}, {\"date\": \"2024-07-23T00:00:00\", \"symbol\": 378}, {\"date\": \"2024-07-24T00:00:00\", \"symbol\": 378}, {\"date\": \"2024-07-25T00:00:00\", \"symbol\": 378}, {\"date\": \"2024-07-26T00:00:00\", \"symbol\": 379}, {\"date\": \"2024-07-27T00:00:00\", \"symbol\": 379}, {\"date\": \"2024-07-28T00:00:00\", \"symbol\": 379}, {\"date\": \"2024-07-29T00:00:00\", \"symbol\": 379}, {\"date\": \"2024-07-30T00:00:00\", \"symbol\": 379}, {\"date\": \"2024-07-31T00:00:00\", \"symbol\": 379}, {\"date\": \"2024-08-01T00:00:00\", \"symbol\": 379}, {\"date\": \"2024-08-02T00:00:00\", \"symbol\": 379}, {\"date\": \"2024-08-03T00:00:00\", \"symbol\": 379}, {\"date\": \"2024-08-04T00:00:00\", \"symbol\": 379}, {\"date\": \"2024-08-05T00:00:00\", \"symbol\": 379}, {\"date\": \"2024-08-06T00:00:00\", \"symbol\": 379}, {\"date\": \"2024-08-07T00:00:00\", \"symbol\": 379}, {\"date\": \"2024-08-08T00:00:00\", \"symbol\": 380}, {\"date\": \"2024-08-09T00:00:00\", \"symbol\": 380}, {\"date\": \"2024-08-10T00:00:00\", \"symbol\": 380}, {\"date\": \"2024-08-11T00:00:00\", \"symbol\": 380}, {\"date\": \"2024-08-12T00:00:00\", \"symbol\": 380}, {\"date\": \"2024-08-13T00:00:00\", \"symbol\": 380}, {\"date\": \"2024-08-14T00:00:00\", \"symbol\": 380}, {\"date\": \"2024-08-15T00:00:00\", \"symbol\": 380}, {\"date\": \"2024-08-16T00:00:00\", \"symbol\": 380}, {\"date\": \"2024-08-17T00:00:00\", \"symbol\": 380}, {\"date\": \"2024-08-18T00:00:00\", \"symbol\": 380}, {\"date\": \"2024-08-19T00:00:00\", \"symbol\": 380}, {\"date\": \"2024-08-20T00:00:00\", \"symbol\": 380}, {\"date\": \"2024-08-21T00:00:00\", \"symbol\": 380}, {\"date\": \"2024-08-22T00:00:00\", \"symbol\": 380}, {\"date\": \"2024-08-23T00:00:00\", \"symbol\": 380}, {\"date\": \"2024-08-24T00:00:00\", \"symbol\": 380}, {\"date\": \"2024-08-25T00:00:00\", \"symbol\": 380}, {\"date\": \"2024-08-26T00:00:00\", \"symbol\": 381}, {\"date\": \"2024-08-27T00:00:00\", \"symbol\": 375}, {\"date\": \"2024-08-28T00:00:00\", \"symbol\": 375}, {\"date\": \"2024-08-29T00:00:00\", \"symbol\": 375}, {\"date\": \"2024-08-30T00:00:00\", \"symbol\": 376}, {\"date\": \"2024-08-31T00:00:00\", \"symbol\": 376}, {\"date\": \"2024-09-01T00:00:00\", \"symbol\": 376}, {\"date\": \"2024-09-02T00:00:00\", \"symbol\": 376}, {\"date\": \"2024-09-03T00:00:00\", \"symbol\": 376}, {\"date\": \"2024-09-04T00:00:00\", \"symbol\": 376}, {\"date\": \"2024-09-05T00:00:00\", \"symbol\": 376}, {\"date\": \"2024-09-06T00:00:00\", \"symbol\": 376}, {\"date\": \"2024-09-07T00:00:00\", \"symbol\": 376}, {\"date\": \"2024-09-08T00:00:00\", \"symbol\": 376}, {\"date\": \"2024-09-09T00:00:00\", \"symbol\": 376}, {\"date\": \"2024-09-10T00:00:00\", \"symbol\": 376}, {\"date\": \"2024-09-11T00:00:00\", \"symbol\": 375}, {\"date\": \"2024-09-12T00:00:00\", \"symbol\": 375}, {\"date\": \"2024-09-13T00:00:00\", \"symbol\": 376}, {\"date\": \"2024-09-14T00:00:00\", \"symbol\": 376}, {\"date\": \"2024-09-15T00:00:00\", \"symbol\": 376}, {\"date\": \"2024-09-16T00:00:00\", \"symbol\": 379}, {\"date\": \"2024-09-17T00:00:00\", \"symbol\": 379}, {\"date\": \"2024-09-18T00:00:00\", \"symbol\": 379}, {\"date\": \"2024-09-19T00:00:00\", \"symbol\": 379}, {\"date\": \"2024-09-20T00:00:00\", \"symbol\": 380}, {\"date\": \"2024-09-21T00:00:00\", \"symbol\": 380}, {\"date\": \"2024-09-22T00:00:00\", \"symbol\": 380}, {\"date\": \"2024-09-23T00:00:00\", \"symbol\": 380}, {\"date\": \"2024-09-24T00:00:00\", \"symbol\": 380}, {\"date\": \"2024-09-25T00:00:00\", \"symbol\": 380}, {\"date\": \"2024-09-26T00:00:00\", \"symbol\": 381}, {\"date\": \"2024-09-27T00:00:00\", \"symbol\": 381}, {\"date\": \"2024-09-28T00:00:00\", \"symbol\": 381}, {\"date\": \"2024-09-29T00:00:00\", \"symbol\": 381}, {\"date\": \"2024-09-30T00:00:00\", \"symbol\": 381}, {\"date\": \"2024-10-01T00:00:00\", \"symbol\": 382}, {\"date\": \"2024-10-02T00:00:00\", \"symbol\": 382}, {\"date\": \"2024-10-03T00:00:00\", \"symbol\": 382}, {\"date\": \"2024-10-04T00:00:00\", \"symbol\": 382}, {\"date\": \"2024-10-05T00:00:00\", \"symbol\": 382}, {\"date\": \"2024-10-06T00:00:00\", \"symbol\": 382}, {\"date\": \"2024-10-07T00:00:00\", \"symbol\": 382}, {\"date\": \"2024-10-08T00:00:00\", \"symbol\": 382}, {\"date\": \"2024-10-09T00:00:00\", \"symbol\": 382}, {\"date\": \"2024-10-10T00:00:00\", \"symbol\": 382}, {\"date\": \"2024-10-11T00:00:00\", \"symbol\": 383}, {\"date\": \"2024-10-12T00:00:00\", \"symbol\": 383}, {\"date\": \"2024-10-13T00:00:00\", \"symbol\": 383}, {\"date\": \"2024-10-14T00:00:00\", \"symbol\": 383}, {\"date\": \"2024-10-15T00:00:00\", \"symbol\": 383}, {\"date\": \"2024-10-16T00:00:00\", \"symbol\": 382}, {\"date\": \"2024-10-17T00:00:00\", \"symbol\": 383}, {\"date\": \"2024-10-18T00:00:00\", \"symbol\": 384}, {\"date\": \"2024-10-19T00:00:00\", \"symbol\": 384}, {\"date\": \"2024-10-20T00:00:00\", \"symbol\": 384}, {\"date\": \"2024-10-21T00:00:00\", \"symbol\": 384}, {\"date\": \"2024-10-22T00:00:00\", \"symbol\": 384}, {\"date\": \"2024-10-23T00:00:00\", \"symbol\": 384}, {\"date\": \"2024-10-24T00:00:00\", \"symbol\": 384}, {\"date\": \"2024-10-25T00:00:00\", \"symbol\": 384}, {\"date\": \"2024-10-26T00:00:00\", \"symbol\": 384}, {\"date\": \"2024-10-27T00:00:00\", \"symbol\": 384}, {\"date\": \"2024-10-28T00:00:00\", \"symbol\": 384}, {\"date\": \"2024-10-29T00:00:00\", \"symbol\": 383}, {\"date\": \"2024-10-30T00:00:00\", \"symbol\": 383}, {\"date\": \"2024-10-31T00:00:00\", \"symbol\": 384}, {\"date\": \"2024-11-01T00:00:00\", \"symbol\": 384}, {\"date\": \"2024-11-02T00:00:00\", \"symbol\": 384}, {\"date\": \"2024-11-03T00:00:00\", \"symbol\": 384}, {\"date\": \"2024-11-04T00:00:00\", \"symbol\": 384}, {\"date\": \"2024-11-05T00:00:00\", \"symbol\": 384}, {\"date\": \"2024-11-06T00:00:00\", \"symbol\": 386}, {\"date\": \"2024-11-07T00:00:00\", \"symbol\": 383}, {\"date\": \"2024-11-08T00:00:00\", \"symbol\": 383}, {\"date\": \"2024-11-09T00:00:00\", \"symbol\": 383}, {\"date\": \"2024-11-10T00:00:00\", \"symbol\": 383}, {\"date\": \"2024-11-11T00:00:00\", \"symbol\": 385}, {\"date\": \"2024-11-12T00:00:00\", \"symbol\": 385}, {\"date\": \"2024-11-13T00:00:00\", \"symbol\": 385}, {\"date\": \"2024-11-14T00:00:00\", \"symbol\": 385}, {\"date\": \"2024-11-15T00:00:00\", \"symbol\": 385}, {\"date\": \"2024-11-16T00:00:00\", \"symbol\": 385}, {\"date\": \"2024-11-17T00:00:00\", \"symbol\": 385}, {\"date\": \"2024-11-18T00:00:00\", \"symbol\": 385}, {\"date\": \"2024-11-19T00:00:00\", \"symbol\": 386}, {\"date\": \"2024-11-20T00:00:00\", \"symbol\": 386}, {\"date\": \"2024-11-21T00:00:00\", \"symbol\": 386}, {\"date\": \"2024-11-22T00:00:00\", \"symbol\": 386}, {\"date\": \"2024-11-23T00:00:00\", \"symbol\": 386}, {\"date\": \"2024-11-24T00:00:00\", \"symbol\": 386}, {\"date\": \"2024-11-25T00:00:00\", \"symbol\": 386}, {\"date\": \"2024-11-26T00:00:00\", \"symbol\": 386}, {\"date\": \"2024-11-27T00:00:00\", \"symbol\": 387}, {\"date\": \"2024-11-28T00:00:00\", \"symbol\": 387}, {\"date\": \"2024-11-29T00:00:00\", \"symbol\": 387}, {\"date\": \"2024-11-30T00:00:00\", \"symbol\": 387}, {\"date\": \"2024-12-01T00:00:00\", \"symbol\": 387}, {\"date\": \"2024-12-02T00:00:00\", \"symbol\": 387}, {\"date\": \"2024-12-03T00:00:00\", \"symbol\": 387}, {\"date\": \"2024-12-04T00:00:00\", \"symbol\": 386}, {\"date\": \"2024-12-05T00:00:00\", \"symbol\": 386}, {\"date\": \"2024-12-06T00:00:00\", \"symbol\": 388}, {\"date\": \"2024-12-07T00:00:00\", \"symbol\": 388}, {\"date\": \"2024-12-08T00:00:00\", \"symbol\": 388}, {\"date\": \"2024-12-09T00:00:00\", \"symbol\": 389}, {\"date\": \"2024-12-10T00:00:00\", \"symbol\": 390}, {\"date\": \"2024-12-11T00:00:00\", \"symbol\": 386}, {\"date\": \"2024-12-12T00:00:00\", \"symbol\": 386}, {\"date\": \"2024-12-13T00:00:00\", \"symbol\": 387}, {\"date\": \"2024-12-14T00:00:00\", \"symbol\": 387}, {\"date\": \"2024-12-15T00:00:00\", \"symbol\": 387}, {\"date\": \"2024-12-16T00:00:00\", \"symbol\": 388}, {\"date\": \"2024-12-17T00:00:00\", \"symbol\": 390}, {\"date\": \"2024-12-18T00:00:00\", \"symbol\": 390}, {\"date\": \"2024-12-19T00:00:00\", \"symbol\": 390}, {\"date\": \"2024-12-20T00:00:00\", \"symbol\": 390}, {\"date\": \"2024-12-21T00:00:00\", \"symbol\": 390}, {\"date\": \"2024-12-22T00:00:00\", \"symbol\": 390}, {\"date\": \"2024-12-23T00:00:00\", \"symbol\": 390}, {\"date\": \"2024-12-24T00:00:00\", \"symbol\": 390}, {\"date\": \"2024-12-25T00:00:00\", \"symbol\": 390}, {\"date\": \"2024-12-26T00:00:00\", \"symbol\": 387}, {\"date\": \"2024-12-27T00:00:00\", \"symbol\": 387}, {\"date\": \"2024-12-28T00:00:00\", \"symbol\": 387}, {\"date\": \"2024-12-29T00:00:00\", \"symbol\": 387}, {\"date\": \"2024-12-30T00:00:00\", \"symbol\": 387}, {\"date\": \"2024-12-31T00:00:00\", \"symbol\": 387}, {\"date\": \"2025-01-01T00:00:00\", \"symbol\": 387}, {\"date\": \"2025-01-02T00:00:00\", \"symbol\": 387}, {\"date\": \"2025-01-03T00:00:00\", \"symbol\": 388}, {\"date\": \"2025-01-04T00:00:00\", \"symbol\": 388}, {\"date\": \"2025-01-05T00:00:00\", \"symbol\": 388}, {\"date\": \"2025-01-06T00:00:00\", \"symbol\": 388}, {\"date\": \"2025-01-07T00:00:00\", \"symbol\": 387}, {\"date\": \"2025-01-08T00:00:00\", \"symbol\": 387}, {\"date\": \"2025-01-09T00:00:00\", \"symbol\": 388}, {\"date\": \"2025-01-10T00:00:00\", \"symbol\": 391}, {\"date\": \"2025-01-11T00:00:00\", \"symbol\": 391}, {\"date\": \"2025-01-12T00:00:00\", \"symbol\": 391}, {\"date\": \"2025-01-13T00:00:00\", \"symbol\": 391}, {\"date\": \"2025-01-14T00:00:00\", \"symbol\": 390}, {\"date\": \"2025-01-15T00:00:00\", \"symbol\": 390}, {\"date\": \"2025-01-16T00:00:00\", \"symbol\": 391}, {\"date\": \"2025-01-17T00:00:00\", \"symbol\": 392}, {\"date\": \"2025-01-18T00:00:00\", \"symbol\": 392}, {\"date\": \"2025-01-19T00:00:00\", \"symbol\": 393}, {\"date\": \"2025-01-20T00:00:00\", \"symbol\": 393}, {\"date\": \"2025-01-21T00:00:00\", \"symbol\": 393}, {\"date\": \"2025-01-22T00:00:00\", \"symbol\": 393}, {\"date\": \"2025-01-23T00:00:00\", \"symbol\": 394}, {\"date\": \"2025-01-24T00:00:00\", \"symbol\": 394}, {\"date\": \"2025-01-25T00:00:00\", \"symbol\": 394}, {\"date\": \"2025-01-26T00:00:00\", \"symbol\": 394}, {\"date\": \"2025-01-27T00:00:00\", \"symbol\": 394}, {\"date\": \"2025-01-28T00:00:00\", \"symbol\": 394}, {\"date\": \"2025-01-29T00:00:00\", \"symbol\": 394}, {\"date\": \"2025-01-30T00:00:00\", \"symbol\": 394}, {\"date\": \"2025-01-31T00:00:00\", \"symbol\": 394}, {\"date\": \"2025-02-01T00:00:00\", \"symbol\": 394}, {\"date\": \"2025-02-02T00:00:00\", \"symbol\": 394}, {\"date\": \"2025-02-03T00:00:00\", \"symbol\": 394}, {\"date\": \"2025-02-04T00:00:00\", \"symbol\": 394}, {\"date\": \"2025-02-05T00:00:00\", \"symbol\": 394}, {\"date\": \"2025-02-06T00:00:00\", \"symbol\": 395}, {\"date\": \"2025-02-07T00:00:00\", \"symbol\": 395}, {\"date\": \"2025-02-08T00:00:00\", \"symbol\": 395}, {\"date\": \"2025-02-09T00:00:00\", \"symbol\": 397}, {\"date\": \"2025-02-10T00:00:00\", \"symbol\": 397}, {\"date\": \"2025-02-11T00:00:00\", \"symbol\": 397}, {\"date\": \"2025-02-12T00:00:00\", \"symbol\": 397}, {\"date\": \"2025-02-13T00:00:00\", \"symbol\": 398}, {\"date\": \"2025-02-14T00:00:00\", \"symbol\": 398}, {\"date\": \"2025-02-15T00:00:00\", \"symbol\": 398}, {\"date\": \"2025-02-16T00:00:00\", \"symbol\": 398}, {\"date\": \"2025-02-17T00:00:00\", \"symbol\": 398}, {\"date\": \"2025-02-18T00:00:00\", \"symbol\": 398}, {\"date\": \"2025-02-19T00:00:00\", \"symbol\": 398}, {\"date\": \"2025-02-20T00:00:00\", \"symbol\": 399}, {\"date\": \"2025-02-21T00:00:00\", \"symbol\": 399}, {\"date\": \"2025-02-22T00:00:00\", \"symbol\": 399}, {\"date\": \"2025-02-23T00:00:00\", \"symbol\": 399}, {\"date\": \"2025-02-24T00:00:00\", \"symbol\": 399}, {\"date\": \"2025-02-25T00:00:00\", \"symbol\": 395}, {\"date\": \"2025-02-26T00:00:00\", \"symbol\": 395}, {\"date\": \"2025-02-27T00:00:00\", \"symbol\": 396}, {\"date\": \"2025-02-28T00:00:00\", \"symbol\": 397}, {\"date\": \"2025-03-01T00:00:00\", \"symbol\": 397}, {\"date\": \"2025-03-02T00:00:00\", \"symbol\": 397}, {\"date\": \"2025-03-03T00:00:00\", \"symbol\": 397}, {\"date\": \"2025-03-04T00:00:00\", \"symbol\": 398}, {\"date\": \"2025-03-05T00:00:00\", \"symbol\": 398}, {\"date\": \"2025-03-06T00:00:00\", \"symbol\": 398}, {\"date\": \"2025-03-07T00:00:00\", \"symbol\": 398}, {\"date\": \"2025-03-08T00:00:00\", \"symbol\": 398}, {\"date\": \"2025-03-09T00:00:00\", \"symbol\": 398}, {\"date\": \"2025-03-10T00:00:00\", \"symbol\": 398}, {\"date\": \"2025-03-11T00:00:00\", \"symbol\": 397}, {\"date\": \"2025-03-12T00:00:00\", \"symbol\": 397}, {\"date\": \"2025-03-13T00:00:00\", \"symbol\": 398}, {\"date\": \"2025-03-14T00:00:00\", \"symbol\": 398}, {\"date\": \"2025-03-15T00:00:00\", \"symbol\": 398}, {\"date\": \"2025-03-16T00:00:00\", \"symbol\": 398}, {\"date\": \"2025-03-17T00:00:00\", \"symbol\": 398}, {\"date\": \"2025-03-18T00:00:00\", \"symbol\": 399}, {\"date\": \"2025-03-19T00:00:00\", \"symbol\": 400}, {\"date\": \"2025-03-20T00:00:00\", \"symbol\": 400}, {\"date\": \"2025-03-21T00:00:00\", \"symbol\": 400}, {\"date\": \"2025-03-22T00:00:00\", \"symbol\": 400}, {\"date\": \"2025-03-23T00:00:00\", \"symbol\": 400}, {\"date\": \"2025-03-24T00:00:00\", \"symbol\": 401}, {\"date\": \"2025-03-25T00:00:00\", \"symbol\": 402}, {\"date\": \"2025-03-26T00:00:00\", \"symbol\": 402}, {\"date\": \"2025-03-27T00:00:00\", \"symbol\": 406}, {\"date\": \"2025-03-28T00:00:00\", \"symbol\": 406}, {\"date\": \"2025-03-29T00:00:00\", \"symbol\": 401}, {\"date\": \"2025-03-30T00:00:00\", \"symbol\": 401}, {\"date\": \"2025-03-31T00:00:00\", \"symbol\": 402}, {\"date\": \"2025-04-01T00:00:00\", \"symbol\": 402}, {\"date\": \"2025-04-02T00:00:00\", \"symbol\": 402}, {\"date\": \"2025-04-03T00:00:00\", \"symbol\": 402}, {\"date\": \"2025-04-04T00:00:00\", \"symbol\": 402}, {\"date\": \"2025-04-05T00:00:00\", \"symbol\": 402}, {\"date\": \"2025-04-06T00:00:00\", \"symbol\": 402}, {\"date\": \"2025-04-07T00:00:00\", \"symbol\": 402}, {\"date\": \"2025-04-08T00:00:00\", \"symbol\": 402}, {\"date\": \"2025-04-09T00:00:00\", \"symbol\": 402}, {\"date\": \"2025-04-10T00:00:00\", \"symbol\": 403}, {\"date\": \"2025-04-11T00:00:00\", \"symbol\": 406}, {\"date\": \"2025-04-12T00:00:00\", \"symbol\": 406}, {\"date\": \"2025-04-13T00:00:00\", \"symbol\": 406}, {\"date\": \"2025-04-14T00:00:00\", \"symbol\": 407}, {\"date\": \"2025-04-15T00:00:00\", \"symbol\": 408}, {\"date\": \"2025-04-16T00:00:00\", \"symbol\": 408}, {\"date\": \"2025-04-17T00:00:00\", \"symbol\": 394}, {\"date\": \"2025-04-18T00:00:00\", \"symbol\": 394}, {\"date\": \"2025-04-19T00:00:00\", \"symbol\": 394}, {\"date\": \"2025-04-20T00:00:00\", \"symbol\": 394}, {\"date\": \"2025-04-21T00:00:00\", \"symbol\": 394}, {\"date\": \"2025-04-22T00:00:00\", \"symbol\": 395}, {\"date\": \"2025-04-23T00:00:00\", \"symbol\": 395}, {\"date\": \"2025-04-24T00:00:00\", \"symbol\": 396}, {\"date\": \"2025-04-25T00:00:00\", \"symbol\": 396}, {\"date\": \"2025-04-26T00:00:00\", \"symbol\": 396}, {\"date\": \"2025-04-27T00:00:00\", \"symbol\": 396}, {\"date\": \"2025-04-28T00:00:00\", \"symbol\": 397}, {\"date\": \"2025-04-29T00:00:00\", \"symbol\": 397}, {\"date\": \"2025-04-30T00:00:00\", \"symbol\": 397}, {\"date\": \"2025-05-01T00:00:00\", \"symbol\": 397}, {\"date\": \"2025-05-02T00:00:00\", \"symbol\": 398}, {\"date\": \"2025-05-03T00:00:00\", \"symbol\": 394}, {\"date\": \"2025-05-04T00:00:00\", \"symbol\": 394}, {\"date\": \"2025-05-05T00:00:00\", \"symbol\": 394}, {\"date\": \"2025-05-06T00:00:00\", \"symbol\": 396}, {\"date\": \"2025-05-07T00:00:00\", \"symbol\": 396}, {\"date\": \"2025-05-08T00:00:00\", \"symbol\": 397}, {\"date\": \"2025-05-09T00:00:00\", \"symbol\": 397}, {\"date\": \"2025-05-10T00:00:00\", \"symbol\": 397}, {\"date\": \"2025-05-11T00:00:00\", \"symbol\": 397}, {\"date\": \"2025-05-12T00:00:00\", \"symbol\": 397}, {\"date\": \"2025-05-13T00:00:00\", \"symbol\": 397}, {\"date\": \"2025-05-14T00:00:00\", \"symbol\": 397}, {\"date\": \"2025-05-15T00:00:00\", \"symbol\": 398}, {\"date\": \"2025-05-16T00:00:00\", \"symbol\": 398}, {\"date\": \"2025-05-17T00:00:00\", \"symbol\": 398}, {\"date\": \"2025-05-18T00:00:00\", \"symbol\": 398}, {\"date\": \"2025-05-19T00:00:00\", \"symbol\": 398}, {\"date\": \"2025-05-20T00:00:00\", \"symbol\": 397}, {\"date\": \"2025-05-21T00:00:00\", \"symbol\": 399}, {\"date\": \"2025-05-22T00:00:00\", \"symbol\": 400}, {\"date\": \"2025-05-23T00:00:00\", \"symbol\": 400}, {\"date\": \"2025-05-24T00:00:00\", \"symbol\": 400}, {\"date\": \"2025-05-25T00:00:00\", \"symbol\": 400}, {\"date\": \"2025-05-26T00:00:00\", \"symbol\": 401}, {\"date\": \"2025-05-27T00:00:00\", \"symbol\": 400}, {\"date\": \"2025-05-28T00:00:00\", \"symbol\": 402}, {\"date\": \"2025-05-29T00:00:00\", \"symbol\": 402}, {\"date\": \"2025-05-30T00:00:00\", \"symbol\": 402}, {\"date\": \"2025-05-31T00:00:00\", \"symbol\": 402}, {\"date\": \"2025-06-01T00:00:00\", \"symbol\": 402}, {\"date\": \"2025-06-02T00:00:00\", \"symbol\": 402}, {\"date\": \"2025-06-03T00:00:00\", \"symbol\": 402}, {\"date\": \"2025-06-04T00:00:00\", \"symbol\": 402}, {\"date\": \"2025-06-05T00:00:00\", \"symbol\": 402}, {\"date\": \"2025-06-06T00:00:00\", \"symbol\": 402}, {\"date\": \"2025-06-07T00:00:00\", \"symbol\": 402}, {\"date\": \"2025-06-08T00:00:00\", \"symbol\": 402}, {\"date\": \"2025-06-09T00:00:00\", \"symbol\": 402}, {\"date\": \"2025-06-10T00:00:00\", \"symbol\": 402}, {\"date\": \"2025-06-11T00:00:00\", \"symbol\": 403}, {\"date\": \"2025-06-12T00:00:00\", \"symbol\": 404}, {\"date\": \"2025-06-13T00:00:00\", \"symbol\": 404}, {\"date\": \"2025-06-14T00:00:00\", \"symbol\": 404}, {\"date\": \"2025-06-15T00:00:00\", \"symbol\": 404}, {\"date\": \"2025-06-16T00:00:00\", \"symbol\": 404}, {\"date\": \"2025-06-17T00:00:00\", \"symbol\": 405}, {\"date\": \"2025-06-18T00:00:00\", \"symbol\": 405}, {\"date\": \"2025-06-19T00:00:00\", \"symbol\": 405}, {\"date\": \"2025-06-20T00:00:00\", \"symbol\": 405}, {\"date\": \"2025-06-21T00:00:00\", \"symbol\": 405}, {\"date\": \"2025-06-22T00:00:00\", \"symbol\": 405}, {\"date\": \"2025-06-23T00:00:00\", \"symbol\": 405}, {\"date\": \"2025-06-24T00:00:00\", \"symbol\": 406}, {\"date\": \"2025-06-25T00:00:00\", \"symbol\": 406}, {\"date\": \"2025-06-26T00:00:00\", \"symbol\": 407}, {\"date\": \"2025-06-27T00:00:00\", \"symbol\": 407}, {\"date\": \"2025-06-28T00:00:00\", \"symbol\": 407}, {\"date\": \"2025-06-29T00:00:00\", \"symbol\": 407}, {\"date\": \"2025-06-30T00:00:00\", \"symbol\": 407}, {\"date\": \"2025-07-01T00:00:00\", \"symbol\": 407}, {\"date\": \"2025-07-02T00:00:00\", \"symbol\": 407}, {\"date\": \"2025-07-03T00:00:00\", \"symbol\": 407}, {\"date\": \"2025-07-04T00:00:00\", \"symbol\": 407}, {\"date\": \"2025-07-05T00:00:00\", \"symbol\": 402}, {\"date\": \"2025-07-06T00:00:00\", \"symbol\": 402}, {\"date\": \"2025-07-07T00:00:00\", \"symbol\": 402}, {\"date\": \"2025-07-08T00:00:00\", \"symbol\": 402}, {\"date\": \"2025-07-09T00:00:00\", \"symbol\": 403}, {\"date\": \"2025-07-10T00:00:00\", \"symbol\": 403}, {\"date\": \"2025-07-11T00:00:00\", \"symbol\": 403}, {\"date\": \"2025-07-12T00:00:00\", \"symbol\": 403}, {\"date\": \"2025-07-13T00:00:00\", \"symbol\": 403}, {\"date\": \"2025-07-14T00:00:00\", \"symbol\": 403}, {\"date\": \"2025-07-15T00:00:00\", \"symbol\": 403}, {\"date\": \"2025-07-16T00:00:00\", \"symbol\": 403}, {\"date\": \"2025-07-17T00:00:00\", \"symbol\": 404}, {\"date\": \"2025-07-18T00:00:00\", \"symbol\": 405}, {\"date\": \"2025-07-19T00:00:00\", \"symbol\": 405}, {\"date\": \"2025-07-20T00:00:00\", \"symbol\": 405}, {\"date\": \"2025-07-21T00:00:00\", \"symbol\": 405}, {\"date\": \"2025-07-22T00:00:00\", \"symbol\": 405}, {\"date\": \"2025-07-23T00:00:00\", \"symbol\": 405}, {\"date\": \"2025-07-24T00:00:00\", \"symbol\": 405}, {\"date\": \"2025-07-25T00:00:00\", \"symbol\": 405}, {\"date\": \"2025-07-26T00:00:00\", \"symbol\": 405}, {\"date\": \"2025-07-27T00:00:00\", \"symbol\": 405}, {\"date\": \"2025-07-28T00:00:00\", \"symbol\": 405}, {\"date\": \"2025-07-29T00:00:00\", \"symbol\": 405}, {\"date\": \"2025-07-30T00:00:00\", \"symbol\": 406}, {\"date\": \"2025-07-31T00:00:00\", \"symbol\": 406}, {\"date\": \"2025-08-01T00:00:00\", \"symbol\": 406}, {\"date\": \"2025-08-02T00:00:00\", \"symbol\": 406}, {\"date\": \"2025-08-03T00:00:00\", \"symbol\": 406}, {\"date\": \"2025-08-04T00:00:00\", \"symbol\": 406}, {\"date\": \"2025-08-05T00:00:00\", \"symbol\": 408}, {\"date\": \"2025-08-06T00:00:00\", \"symbol\": 408}, {\"date\": \"2025-08-07T00:00:00\", \"symbol\": 408}, {\"date\": \"2025-08-08T00:00:00\", \"symbol\": 408}, {\"date\": \"2025-08-09T00:00:00\", \"symbol\": 408}, {\"date\": \"2025-08-10T00:00:00\", \"symbol\": 408}, {\"date\": \"2025-08-11T00:00:00\", \"symbol\": 408}, {\"date\": \"2025-08-12T00:00:00\", \"symbol\": 408}, {\"date\": \"2025-08-13T00:00:00\", \"symbol\": 409}, {\"date\": \"2025-08-14T00:00:00\", \"symbol\": 409}, {\"date\": \"2025-08-15T00:00:00\", \"symbol\": 409}, {\"date\": \"2025-08-16T00:00:00\", \"symbol\": 409}, {\"date\": \"2025-08-17T00:00:00\", \"symbol\": 409}, {\"date\": \"2025-08-18T00:00:00\", \"symbol\": 410}, {\"date\": \"2025-08-19T00:00:00\", \"symbol\": 410}, {\"date\": \"2025-08-20T00:00:00\", \"symbol\": 410}, {\"date\": \"2025-08-21T00:00:00\", \"symbol\": 410}, {\"date\": \"2025-08-22T00:00:00\", \"symbol\": 410}, {\"date\": \"2025-08-23T00:00:00\", \"symbol\": 410}, {\"date\": \"2025-08-24T00:00:00\", \"symbol\": 410}, {\"date\": \"2025-08-25T00:00:00\", \"symbol\": 410}, {\"date\": \"2025-08-26T00:00:00\", \"symbol\": 410}, {\"date\": \"2025-08-27T00:00:00\", \"symbol\": 411}, {\"date\": \"2025-08-28T00:00:00\", \"symbol\": 411}, {\"date\": \"2025-08-29T00:00:00\", \"symbol\": 412}, {\"date\": \"2025-08-30T00:00:00\", \"symbol\": 412}, {\"date\": \"2025-08-31T00:00:00\", \"symbol\": 412}, {\"date\": \"2025-09-01T00:00:00\", \"symbol\": 413}, {\"date\": \"2025-09-02T00:00:00\", \"symbol\": 414}, {\"date\": \"2025-09-03T00:00:00\", \"symbol\": 414}, {\"date\": \"2025-09-04T00:00:00\", \"symbol\": 414}, {\"date\": \"2025-09-05T00:00:00\", \"symbol\": 414}, {\"date\": \"2025-09-06T00:00:00\", \"symbol\": 414}, {\"date\": \"2025-09-07T00:00:00\", \"symbol\": 414}, {\"date\": \"2025-09-08T00:00:00\", \"symbol\": 415}, {\"date\": \"2025-09-09T00:00:00\", \"symbol\": 416}, {\"date\": \"2025-09-10T00:00:00\", \"symbol\": 417}, {\"date\": \"2025-09-11T00:00:00\", \"symbol\": 419}, {\"date\": \"2025-09-12T00:00:00\", \"symbol\": 419}, {\"date\": \"2025-09-13T00:00:00\", \"symbol\": 419}, {\"date\": \"2025-09-14T00:00:00\", \"symbol\": 419}, {\"date\": \"2025-09-15T00:00:00\", \"symbol\": 421}, {\"date\": \"2025-09-16T00:00:00\", \"symbol\": 420}, {\"date\": \"2025-09-17T00:00:00\", \"symbol\": 421}, {\"date\": \"2025-09-18T00:00:00\", \"symbol\": 419}, {\"date\": \"2025-09-19T00:00:00\", \"symbol\": 419}, {\"date\": \"2025-09-20T00:00:00\", \"symbol\": 419}, {\"date\": \"2025-09-21T00:00:00\", \"symbol\": 419}, {\"date\": \"2025-09-22T00:00:00\", \"symbol\": 420}, {\"date\": \"2025-09-23T00:00:00\", \"symbol\": 421}, {\"date\": \"2025-09-24T00:00:00\", \"symbol\": 421}, {\"date\": \"2025-09-25T00:00:00\", \"symbol\": 422}, {\"date\": \"2025-09-26T00:00:00\", \"symbol\": 423}, {\"date\": \"2025-09-27T00:00:00\", \"symbol\": 423}, {\"date\": \"2025-09-28T00:00:00\", \"symbol\": 423}, {\"date\": \"2025-09-29T00:00:00\", \"symbol\": 424}, {\"date\": \"2025-09-30T00:00:00\", \"symbol\": 424}, {\"date\": \"2025-10-01T00:00:00\", \"symbol\": 425}, {\"date\": \"2025-10-02T00:00:00\", \"symbol\": 426}, {\"date\": \"2025-10-03T00:00:00\", \"symbol\": 427}, {\"date\": \"2025-10-04T00:00:00\", \"symbol\": 427}, {\"date\": \"2025-10-05T00:00:00\", \"symbol\": 427}, {\"date\": \"2025-10-06T00:00:00\", \"symbol\": 428}, {\"date\": \"2025-10-07T00:00:00\", \"symbol\": 428}, {\"date\": \"2025-10-08T00:00:00\", \"symbol\": 428}, {\"date\": \"2025-10-09T00:00:00\", \"symbol\": 428}, {\"date\": \"2025-10-10T00:00:00\", \"symbol\": 429}, {\"date\": \"2025-10-11T00:00:00\", \"symbol\": 429}, {\"date\": \"2025-10-12T00:00:00\", \"symbol\": 429}, {\"date\": \"2025-10-13T00:00:00\", \"symbol\": 430}, {\"date\": \"2025-10-14T00:00:00\", \"symbol\": 431}, {\"date\": \"2025-10-15T00:00:00\", \"symbol\": 432}, {\"date\": \"2025-10-16T00:00:00\", \"symbol\": 432}, {\"date\": \"2025-10-17T00:00:00\", \"symbol\": 433}, {\"date\": \"2025-10-18T00:00:00\", \"symbol\": 433}, {\"date\": \"2025-10-19T00:00:00\", \"symbol\": 433}, {\"date\": \"2025-10-20T00:00:00\", \"symbol\": 433}, {\"date\": \"2025-10-21T00:00:00\", \"symbol\": 433}, {\"date\": \"2025-10-22T00:00:00\", \"symbol\": 434}, {\"date\": \"2025-10-23T00:00:00\", \"symbol\": 434}]}}, {\"mode\": \"vega-lite\"});\n",
       "</script>"
      ],
      "text/plain": [
       "alt.Chart(...)"
      ]
     },
     "execution_count": 6,
     "metadata": {},
     "output_type": "execute_result"
    }
   ],
   "source": [
    "universe_df = pl.scan_parquet(save_root / 'binance_spot_10m_grid_mark10m_*.parquet').collect()\n",
    "print(universe_df.shape)\n",
    "universe_df.group_by('date').agg(pl.col('symbol').unique().len()).sort('date').plot.line(x='date', y='symbol')"
   ]
  },
  {
   "cell_type": "code",
   "execution_count": 7,
   "id": "60c7395c",
   "metadata": {},
   "outputs": [
    {
     "data": {
      "text/html": [
       "<div><style>\n",
       ".dataframe > thead > tr,\n",
       ".dataframe > tbody > tr {\n",
       "  text-align: right;\n",
       "  white-space: pre-wrap;\n",
       "}\n",
       "</style>\n",
       "<small>shape: (144, 21)</small><table border=\"1\" class=\"dataframe\"><thead><tr><th>symbol</th><th>date</th><th>time</th><th>peg_symbol</th><th>open</th><th>high</th><th>low</th><th>close</th><th>volume</th><th>trade_count</th><th>last_event_time</th><th>taker_buy_volume</th><th>taker_sell_volume</th><th>vwap_taker_buy</th><th>vwap_taker_sell</th><th>vwap_price</th><th>return_now_to_p10m</th><th>return_p1m_to_p11m</th><th>return_m10m_to_now</th><th>return_m20m_to_now</th><th>return_m30m_to_now</th></tr><tr><td>enum</td><td>date</td><td>datetime[μs]</td><td>str</td><td>f64</td><td>f64</td><td>f64</td><td>f64</td><td>f64</td><td>u64</td><td>datetime[μs]</td><td>f64</td><td>f64</td><td>f64</td><td>f64</td><td>f64</td><td>f64</td><td>f64</td><td>f64</td><td>f64</td><td>f64</td></tr></thead><tbody><tr><td>&quot;BTC&quot;</td><td>2025-05-11</td><td>2025-05-11 00:10:00</td><td>&quot;USDT&quot;</td><td>104809.53</td><td>104972.0</td><td>104655.84</td><td>104807.14</td><td>309.85195</td><td>69035</td><td>2025-05-11 00:09:59.903615</td><td>160.17704</td><td>149.67491</td><td>104840.081375</td><td>104863.212064</td><td>104851.254723</td><td>-0.003175</td><td>-0.003697</td><td>-0.00009</td><td>0.00195</td><td>0.002392</td></tr><tr><td>&quot;BTC&quot;</td><td>2025-05-11</td><td>2025-05-11 00:20:00</td><td>&quot;USDT&quot;</td><td>104807.14</td><td>104811.72</td><td>104333.01</td><td>104467.35</td><td>272.34659</td><td>60137</td><td>2025-05-11 00:19:59.979340</td><td>104.09577</td><td>168.25082</td><td>104550.356842</td><td>104569.926728</td><td>104562.446765</td><td>-0.005096</td><td>-0.002092</td><td>-0.003175</td><td>-0.003265</td><td>-0.001231</td></tr><tr><td>&quot;BTC&quot;</td><td>2025-05-11</td><td>2025-05-11 00:30:00</td><td>&quot;USDT&quot;</td><td>104467.36</td><td>104576.25</td><td>103926.47</td><td>103926.47</td><td>257.03953</td><td>57406</td><td>2025-05-11 00:29:59.996204</td><td>109.49165</td><td>147.54788</td><td>104341.145367</td><td>104282.907102</td><td>104307.714974</td><td>0.001918</td><td>0.000696</td><td>-0.005096</td><td>-0.008255</td><td>-0.008344</td></tr><tr><td>&quot;BTC&quot;</td><td>2025-05-11</td><td>2025-05-11 00:40:00</td><td>&quot;USDT&quot;</td><td>103926.48</td><td>104365.08</td><td>103926.48</td><td>104134.43</td><td>210.17262</td><td>46059</td><td>2025-05-11 00:39:59.956333</td><td>99.925</td><td>110.24762</td><td>104214.277978</td><td>104223.548055</td><td>104219.140667</td><td>0.004288</td><td>0.00309</td><td>0.001918</td><td>-0.003187</td><td>-0.006352</td></tr><tr><td>&quot;BTC&quot;</td><td>2025-05-11</td><td>2025-05-11 00:50:00</td><td>&quot;USDT&quot;</td><td>104134.44</td><td>104585.08</td><td>104123.58</td><td>104585.05</td><td>202.44225</td><td>32325</td><td>2025-05-11 00:49:59.914662</td><td>146.11504</td><td>56.32721</td><td>104407.967686</td><td>104416.555256</td><td>104410.357078</td><td>-0.001457</td><td>-0.002699</td><td>0.004288</td><td>0.006214</td><td>0.001087</td></tr><tr><td>&hellip;</td><td>&hellip;</td><td>&hellip;</td><td>&hellip;</td><td>&hellip;</td><td>&hellip;</td><td>&hellip;</td><td>&hellip;</td><td>&hellip;</td><td>&hellip;</td><td>&hellip;</td><td>&hellip;</td><td>&hellip;</td><td>&hellip;</td><td>&hellip;</td><td>&hellip;</td><td>&hellip;</td><td>&hellip;</td><td>&hellip;</td><td>&hellip;</td><td>&hellip;</td></tr><tr><td>&quot;BTC&quot;</td><td>2025-05-11</td><td>2025-05-11 23:20:00</td><td>&quot;USDT&quot;</td><td>103924.49</td><td>103997.6</td><td>103818.86</td><td>103952.38</td><td>85.53112</td><td>19869</td><td>2025-05-11 23:19:59.801496</td><td>42.27725</td><td>43.25387</td><td>103916.19682</td><td>103911.024208</td><td>103913.580983</td><td>0.000278</td><td>0.0003</td><td>0.000268</td><td>0.001529</td><td>0.00235</td></tr><tr><td>&quot;BTC&quot;</td><td>2025-05-11</td><td>2025-05-11 23:30:00</td><td>&quot;USDT&quot;</td><td>103952.38</td><td>104015.88</td><td>103814.36</td><td>103981.28</td><td>60.22206</td><td>17170</td><td>2025-05-11 23:29:59.348348</td><td>31.30052</td><td>28.92154</td><td>103940.057778</td><td>103906.115094</td><td>103923.756863</td><td>-0.001378</td><td>-0.00138</td><td>0.000278</td><td>0.000547</td><td>0.001808</td></tr><tr><td>&quot;BTC&quot;</td><td>2025-05-11</td><td>2025-05-11 23:40:00</td><td>&quot;USDT&quot;</td><td>103981.29</td><td>103981.29</td><td>103826.03</td><td>103837.97</td><td>53.05682</td><td>14255</td><td>2025-05-11 23:39:59.507288</td><td>27.69482</td><td>25.362</td><td>103871.780825</td><td>103898.185123</td><td>103884.402497</td><td>0.001237</td><td>0.001368</td><td>-0.001378</td><td>-0.001101</td><td>-0.000832</td></tr><tr><td>&quot;BTC&quot;</td><td>2025-05-11</td><td>2025-05-11 23:50:00</td><td>&quot;USDT&quot;</td><td>103837.97</td><td>104043.36</td><td>103774.59</td><td>103966.41</td><td>60.25643</td><td>14810</td><td>2025-05-11 23:49:59.863383</td><td>31.53394</td><td>28.72249</td><td>103933.285923</td><td>103949.697157</td><td>103941.108681</td><td>0.001458</td><td>0.001697</td><td>0.001237</td><td>-0.000143</td><td>0.000135</td></tr><tr><td>&quot;BTC&quot;</td><td>2025-05-11</td><td>2025-05-12 00:00:00</td><td>&quot;USDT&quot;</td><td>103966.41</td><td>104142.86</td><td>103920.0</td><td>104118.0</td><td>199.78005</td><td>21189</td><td>2025-05-11 23:59:59.988135</td><td>154.07276</td><td>45.70729</td><td>104014.691963</td><td>104033.99168</td><td>104019.107508</td><td>0.001028</td><td>0.000966</td><td>0.001458</td><td>0.002697</td><td>0.001315</td></tr></tbody></table></div>"
      ],
      "text/plain": [
       "shape: (144, 21)\n",
       "┌────────┬────────────┬────────────┬───────────┬───┬───────────┬───────────┬───────────┬───────────┐\n",
       "│ symbol ┆ date       ┆ time       ┆ peg_symbo ┆ … ┆ return_p1 ┆ return_m1 ┆ return_m2 ┆ return_m3 │\n",
       "│ ---    ┆ ---        ┆ ---        ┆ l         ┆   ┆ m_to_p11m ┆ 0m_to_now ┆ 0m_to_now ┆ 0m_to_now │\n",
       "│ enum   ┆ date       ┆ datetime[μ ┆ ---       ┆   ┆ ---       ┆ ---       ┆ ---       ┆ ---       │\n",
       "│        ┆            ┆ s]         ┆ str       ┆   ┆ f64       ┆ f64       ┆ f64       ┆ f64       │\n",
       "╞════════╪════════════╪════════════╪═══════════╪═══╪═══════════╪═══════════╪═══════════╪═══════════╡\n",
       "│ BTC    ┆ 2025-05-11 ┆ 2025-05-11 ┆ USDT      ┆ … ┆ -0.003697 ┆ -0.00009  ┆ 0.00195   ┆ 0.002392  │\n",
       "│        ┆            ┆ 00:10:00   ┆           ┆   ┆           ┆           ┆           ┆           │\n",
       "│ BTC    ┆ 2025-05-11 ┆ 2025-05-11 ┆ USDT      ┆ … ┆ -0.002092 ┆ -0.003175 ┆ -0.003265 ┆ -0.001231 │\n",
       "│        ┆            ┆ 00:20:00   ┆           ┆   ┆           ┆           ┆           ┆           │\n",
       "│ BTC    ┆ 2025-05-11 ┆ 2025-05-11 ┆ USDT      ┆ … ┆ 0.000696  ┆ -0.005096 ┆ -0.008255 ┆ -0.008344 │\n",
       "│        ┆            ┆ 00:30:00   ┆           ┆   ┆           ┆           ┆           ┆           │\n",
       "│ BTC    ┆ 2025-05-11 ┆ 2025-05-11 ┆ USDT      ┆ … ┆ 0.00309   ┆ 0.001918  ┆ -0.003187 ┆ -0.006352 │\n",
       "│        ┆            ┆ 00:40:00   ┆           ┆   ┆           ┆           ┆           ┆           │\n",
       "│ BTC    ┆ 2025-05-11 ┆ 2025-05-11 ┆ USDT      ┆ … ┆ -0.002699 ┆ 0.004288  ┆ 0.006214  ┆ 0.001087  │\n",
       "│        ┆            ┆ 00:50:00   ┆           ┆   ┆           ┆           ┆           ┆           │\n",
       "│ …      ┆ …          ┆ …          ┆ …         ┆ … ┆ …         ┆ …         ┆ …         ┆ …         │\n",
       "│ BTC    ┆ 2025-05-11 ┆ 2025-05-11 ┆ USDT      ┆ … ┆ 0.0003    ┆ 0.000268  ┆ 0.001529  ┆ 0.00235   │\n",
       "│        ┆            ┆ 23:20:00   ┆           ┆   ┆           ┆           ┆           ┆           │\n",
       "│ BTC    ┆ 2025-05-11 ┆ 2025-05-11 ┆ USDT      ┆ … ┆ -0.00138  ┆ 0.000278  ┆ 0.000547  ┆ 0.001808  │\n",
       "│        ┆            ┆ 23:30:00   ┆           ┆   ┆           ┆           ┆           ┆           │\n",
       "│ BTC    ┆ 2025-05-11 ┆ 2025-05-11 ┆ USDT      ┆ … ┆ 0.001368  ┆ -0.001378 ┆ -0.001101 ┆ -0.000832 │\n",
       "│        ┆            ┆ 23:40:00   ┆           ┆   ┆           ┆           ┆           ┆           │\n",
       "│ BTC    ┆ 2025-05-11 ┆ 2025-05-11 ┆ USDT      ┆ … ┆ 0.001697  ┆ 0.001237  ┆ -0.000143 ┆ 0.000135  │\n",
       "│        ┆            ┆ 23:50:00   ┆           ┆   ┆           ┆           ┆           ┆           │\n",
       "│ BTC    ┆ 2025-05-11 ┆ 2025-05-12 ┆ USDT      ┆ … ┆ 0.000966  ┆ 0.001458  ┆ 0.002697  ┆ 0.001315  │\n",
       "│        ┆            ┆ 00:00:00   ┆           ┆   ┆           ┆           ┆           ┆           │\n",
       "└────────┴────────────┴────────────┴───────────┴───┴───────────┴───────────┴───────────┴───────────┘"
      ]
     },
     "execution_count": 7,
     "metadata": {},
     "output_type": "execute_result"
    }
   ],
   "source": [
    "universe_df.sort('time').filter(pl.col('date') == Date(2025, 5, 11)).filter(pl.col('symbol') == 'BTC')"
   ]
  },
  {
   "cell_type": "markdown",
   "id": "35cc0e6a",
   "metadata": {},
   "source": [
    "# Perp data"
   ]
  },
  {
   "cell_type": "code",
   "execution_count": null,
   "id": "dc6c7fb5",
   "metadata": {},
   "outputs": [],
   "source": [
    "backend_dataset = ms.binance.BinanceLastTradesGrid(\n",
    "            peg_symbol='USDT', \n",
    "            grid_interval=Timedelta(seconds=5), \n",
    "            dataset_type=ms.DatasetType.BinanceUmPerpTrades)\n",
    "backend_db = backend_dataset.lazyframe()\n",
    "\n",
    "# query_lf = backend_dataset.cast_symbol_col_to_enum(backend_dataset.universe()).with_columns(\n",
    "#         time=pl.datetime_ranges(\n",
    "#             pl.col('date'), \n",
    "#             pl.col('date').dt.offset_by('1d'),\n",
    "#             interval=grid_query_interval,\n",
    "#             closed='left'\n",
    "#         )\n",
    "#     ).explode('time').lazy()\n",
    "query_lf = ms.binance.BinanceLastTradesGrid(\n",
    "            peg_symbol='USDT', \n",
    "            grid_interval=Timedelta(minutes=10), \n",
    "            dataset_type=ms.DatasetType.BinanceSpotTrades).lazyframe()\n",
    "\n",
    "re = ReturnsEngine(\n",
    "    backend_db, \n",
    "    backend_fair_expr = pl.col('vwap_price'), \n",
    "    backend_time_expr = pl.col('last_event_time')\n",
    ")"
   ]
  },
  {
   "cell_type": "code",
   "execution_count": null,
   "id": "1494b6bb",
   "metadata": {},
   "outputs": [],
   "source": [
    "for j in tqdm(range(len(pivot_dates) - 1)):\n",
    "    query_slice = query_lf.filter(pl.col('date').is_between(pivot_dates[j], pivot_dates[j+1], closed='left'))\n",
    "    value_lf = re.query_batch(\n",
    "        query_slice.sort('symbol', 'last_event_time'),\n",
    "        mark_exprs=mark_exprs,\n",
    "        tick_lag_tolerance=Timedelta(minutes=10),\n",
    "        append_lag=False)\n",
    "    value_lf.sink_parquet(save_root / f'binance_futures_10m_grid_mark10m_{j}.parquet', compression='brotli')"
   ]
  },
  {
   "cell_type": "code",
   "execution_count": 10,
   "id": "81db11d9",
   "metadata": {},
   "outputs": [
    {
     "name": "stdout",
     "output_type": "stream",
     "text": [
      "(73211214, 21)\n"
     ]
    },
    {
     "data": {
      "text/html": [
       "<div><style>\n",
       ".dataframe > thead > tr,\n",
       ".dataframe > tbody > tr {\n",
       "  text-align: right;\n",
       "  white-space: pre-wrap;\n",
       "}\n",
       "</style>\n",
       "<small>shape: (73_211_214, 21)</small><table border=\"1\" class=\"dataframe\"><thead><tr><th>symbol</th><th>date</th><th>time</th><th>peg_symbol</th><th>open</th><th>high</th><th>low</th><th>close</th><th>volume</th><th>trade_count</th><th>last_event_time</th><th>taker_buy_volume</th><th>taker_sell_volume</th><th>vwap_taker_buy</th><th>vwap_taker_sell</th><th>vwap_price</th><th>return_now_to_p10m</th><th>return_p1m_to_p11m</th><th>return_m10m_to_now</th><th>return_m20m_to_now</th><th>return_m30m_to_now</th></tr><tr><td>enum</td><td>date</td><td>datetime[μs]</td><td>str</td><td>f64</td><td>f64</td><td>f64</td><td>f64</td><td>f64</td><td>u64</td><td>datetime[μs]</td><td>f64</td><td>f64</td><td>f64</td><td>f64</td><td>f64</td><td>f64</td><td>f64</td><td>f64</td><td>f64</td><td>f64</td></tr></thead><tbody><tr><td>&quot;1INCH&quot;</td><td>2022-01-01</td><td>2022-01-01 06:00:00</td><td>&quot;USDT&quot;</td><td>2.436</td><td>2.437</td><td>2.428</td><td>2.432</td><td>20163.3</td><td>133</td><td>2022-01-01 05:59:57.916</td><td>7724.2</td><td>12439.1</td><td>2.430749</td><td>2.432594</td><td>2.431887</td><td>0.001702</td><td>0.000872</td><td>-0.001429</td><td>-0.004999</td><td>-0.00341</td></tr><tr><td>&quot;1INCH&quot;</td><td>2022-01-01</td><td>2022-01-01 06:20:00</td><td>&quot;USDT&quot;</td><td>2.437</td><td>2.444</td><td>2.433</td><td>2.436</td><td>33396.7</td><td>161</td><td>2022-01-01 06:19:57.979</td><td>27846.1</td><td>5550.6</td><td>2.439286</td><td>2.437145</td><td>2.43893</td><td>-0.003591</td><td>-0.002636</td><td>0.000184</td><td>0.001886</td><td>0.000454</td></tr><tr><td>&quot;1INCH&quot;</td><td>2022-01-01</td><td>2022-01-01 10:40:00</td><td>&quot;USDT&quot;</td><td>2.407</td><td>2.411</td><td>2.396</td><td>2.41</td><td>62915.1</td><td>1000</td><td>2022-01-01 10:39:58.541</td><td>29575.2</td><td>33339.9</td><td>2.401732</td><td>2.402023</td><td>2.401886</td><td>0.002977</td><td>0.002568</td><td>0.000954</td><td>-0.006091</td><td>-0.010355</td></tr><tr><td>&quot;1INCH&quot;</td><td>2022-01-02</td><td>2022-01-02 03:30:00</td><td>&quot;USDT&quot;</td><td>2.5</td><td>2.508</td><td>2.5</td><td>2.508</td><td>6451.8</td><td>74</td><td>2022-01-02 03:29:58.546</td><td>3645.8</td><td>2806.0</td><td>2.503042</td><td>2.504679</td><td>2.503754</td><td>0.001761</td><td>0.001227</td><td>0.003704</td><td>0.000434</td><td>0.00333</td></tr><tr><td>&quot;1INCH&quot;</td><td>2022-01-03</td><td>2022-01-03 14:50:00</td><td>&quot;USDT&quot;</td><td>2.621</td><td>2.64</td><td>2.604</td><td>2.607</td><td>268542.5</td><td>2899</td><td>2022-01-03 14:49:58.294</td><td>149138.9</td><td>119403.6</td><td>2.62326</td><td>2.623592</td><td>2.623408</td><td>-0.0026</td><td>0.001279</td><td>-0.005254</td><td>-0.001479</td><td>0.004717</td></tr><tr><td>&hellip;</td><td>&hellip;</td><td>&hellip;</td><td>&hellip;</td><td>&hellip;</td><td>&hellip;</td><td>&hellip;</td><td>&hellip;</td><td>&hellip;</td><td>&hellip;</td><td>&hellip;</td><td>&hellip;</td><td>&hellip;</td><td>&hellip;</td><td>&hellip;</td><td>&hellip;</td><td>&hellip;</td><td>&hellip;</td><td>&hellip;</td><td>&hellip;</td><td>&hellip;</td></tr><tr><td>&quot;BURGER&quot;</td><td>2025-03-27</td><td>2025-03-27 10:40:00</td><td>&quot;USDT&quot;</td><td>0.0472</td><td>0.0475</td><td>0.0469</td><td>0.0474</td><td>191600.0</td><td>156</td><td>2025-03-27 10:39:27.497752</td><td>98131.4</td><td>93468.6</td><td>0.047312</td><td>0.047048</td><td>0.047183</td><td>null</td><td>null</td><td>null</td><td>null</td><td>null</td></tr><tr><td>&quot;BURGER&quot;</td><td>2025-03-27</td><td>2025-03-27 13:20:00</td><td>&quot;USDT&quot;</td><td>0.0447</td><td>0.0447</td><td>0.0435</td><td>0.0435</td><td>180224.6</td><td>147</td><td>2025-03-27 13:19:52.865307</td><td>60586.2</td><td>119638.4</td><td>0.044306</td><td>0.04439</td><td>0.044362</td><td>null</td><td>null</td><td>null</td><td>null</td><td>null</td></tr><tr><td>&quot;BURGER&quot;</td><td>2025-03-27</td><td>2025-03-27 16:00:00</td><td>&quot;USDT&quot;</td><td>0.034</td><td>0.034</td><td>0.0333</td><td>0.0337</td><td>958765.4</td><td>220</td><td>2025-03-27 15:59:50.576751</td><td>879476.1</td><td>79289.3</td><td>0.033965</td><td>0.033769</td><td>0.033949</td><td>null</td><td>null</td><td>null</td><td>null</td><td>null</td></tr><tr><td>&quot;BURGER&quot;</td><td>2025-03-27</td><td>2025-03-27 19:50:00</td><td>&quot;USDT&quot;</td><td>0.0285</td><td>0.0293</td><td>0.0278</td><td>0.0284</td><td>881034.1</td><td>256</td><td>2025-03-27 19:49:54.450127</td><td>380981.8</td><td>500052.3</td><td>0.02882</td><td>0.028785</td><td>0.0288</td><td>null</td><td>null</td><td>null</td><td>null</td><td>null</td></tr><tr><td>&quot;BURGER&quot;</td><td>2025-03-28</td><td>2025-03-28 02:00:00</td><td>&quot;USDT&quot;</td><td>0.0237</td><td>0.0239</td><td>0.0232</td><td>0.0232</td><td>183238.3</td><td>131</td><td>2025-03-28 01:59:55.109085</td><td>86396.6</td><td>96841.7</td><td>0.023554</td><td>0.023587</td><td>0.023571</td><td>null</td><td>null</td><td>null</td><td>null</td><td>null</td></tr></tbody></table></div>"
      ],
      "text/plain": [
       "shape: (73_211_214, 21)\n",
       "┌────────┬────────────┬────────────┬───────────┬───┬───────────┬───────────┬───────────┬───────────┐\n",
       "│ symbol ┆ date       ┆ time       ┆ peg_symbo ┆ … ┆ return_p1 ┆ return_m1 ┆ return_m2 ┆ return_m3 │\n",
       "│ ---    ┆ ---        ┆ ---        ┆ l         ┆   ┆ m_to_p11m ┆ 0m_to_now ┆ 0m_to_now ┆ 0m_to_now │\n",
       "│ enum   ┆ date       ┆ datetime[μ ┆ ---       ┆   ┆ ---       ┆ ---       ┆ ---       ┆ ---       │\n",
       "│        ┆            ┆ s]         ┆ str       ┆   ┆ f64       ┆ f64       ┆ f64       ┆ f64       │\n",
       "╞════════╪════════════╪════════════╪═══════════╪═══╪═══════════╪═══════════╪═══════════╪═══════════╡\n",
       "│ 1INCH  ┆ 2022-01-01 ┆ 2022-01-01 ┆ USDT      ┆ … ┆ 0.000872  ┆ -0.001429 ┆ -0.004999 ┆ -0.00341  │\n",
       "│        ┆            ┆ 06:00:00   ┆           ┆   ┆           ┆           ┆           ┆           │\n",
       "│ 1INCH  ┆ 2022-01-01 ┆ 2022-01-01 ┆ USDT      ┆ … ┆ -0.002636 ┆ 0.000184  ┆ 0.001886  ┆ 0.000454  │\n",
       "│        ┆            ┆ 06:20:00   ┆           ┆   ┆           ┆           ┆           ┆           │\n",
       "│ 1INCH  ┆ 2022-01-01 ┆ 2022-01-01 ┆ USDT      ┆ … ┆ 0.002568  ┆ 0.000954  ┆ -0.006091 ┆ -0.010355 │\n",
       "│        ┆            ┆ 10:40:00   ┆           ┆   ┆           ┆           ┆           ┆           │\n",
       "│ 1INCH  ┆ 2022-01-02 ┆ 2022-01-02 ┆ USDT      ┆ … ┆ 0.001227  ┆ 0.003704  ┆ 0.000434  ┆ 0.00333   │\n",
       "│        ┆            ┆ 03:30:00   ┆           ┆   ┆           ┆           ┆           ┆           │\n",
       "│ 1INCH  ┆ 2022-01-03 ┆ 2022-01-03 ┆ USDT      ┆ … ┆ 0.001279  ┆ -0.005254 ┆ -0.001479 ┆ 0.004717  │\n",
       "│        ┆            ┆ 14:50:00   ┆           ┆   ┆           ┆           ┆           ┆           │\n",
       "│ …      ┆ …          ┆ …          ┆ …         ┆ … ┆ …         ┆ …         ┆ …         ┆ …         │\n",
       "│ BURGER ┆ 2025-03-27 ┆ 2025-03-27 ┆ USDT      ┆ … ┆ null      ┆ null      ┆ null      ┆ null      │\n",
       "│        ┆            ┆ 10:40:00   ┆           ┆   ┆           ┆           ┆           ┆           │\n",
       "│ BURGER ┆ 2025-03-27 ┆ 2025-03-27 ┆ USDT      ┆ … ┆ null      ┆ null      ┆ null      ┆ null      │\n",
       "│        ┆            ┆ 13:20:00   ┆           ┆   ┆           ┆           ┆           ┆           │\n",
       "│ BURGER ┆ 2025-03-27 ┆ 2025-03-27 ┆ USDT      ┆ … ┆ null      ┆ null      ┆ null      ┆ null      │\n",
       "│        ┆            ┆ 16:00:00   ┆           ┆   ┆           ┆           ┆           ┆           │\n",
       "│ BURGER ┆ 2025-03-27 ┆ 2025-03-27 ┆ USDT      ┆ … ┆ null      ┆ null      ┆ null      ┆ null      │\n",
       "│        ┆            ┆ 19:50:00   ┆           ┆   ┆           ┆           ┆           ┆           │\n",
       "│ BURGER ┆ 2025-03-28 ┆ 2025-03-28 ┆ USDT      ┆ … ┆ null      ┆ null      ┆ null      ┆ null      │\n",
       "│        ┆            ┆ 02:00:00   ┆           ┆   ┆           ┆           ┆           ┆           │\n",
       "└────────┴────────────┴────────────┴───────────┴───┴───────────┴───────────┴───────────┴───────────┘"
      ]
     },
     "execution_count": 10,
     "metadata": {},
     "output_type": "execute_result"
    }
   ],
   "source": [
    "universe_df = pl.scan_parquet(save_root / 'binance_futures_10m_grid_mark10m_*.parquet').collect()\n",
    "print(universe_df.shape)\n",
    "universe_df.group_by('date').agg(pl.col('symbol').unique().len()).sort('date').plot.line(x='date', y='symbol')\n",
    "universe_df"
   ]
  },
  {
   "cell_type": "markdown",
   "id": "179bd77f",
   "metadata": {},
   "source": [
    "# Test cells: batch & separate query should be equivalent"
   ]
  },
  {
   "cell_type": "code",
   "execution_count": null,
   "id": "4c5b6ac6",
   "metadata": {},
   "outputs": [],
   "source": [
    "# Use short names - 'return_' prefix will be added automatically by query_batch\n",
    "appends = [\n",
    "    (Timedelta(0), Timedelta(minutes=10), 'now_to_p10m'),\n",
    "    (Timedelta(minutes=1), Timedelta(minutes=10), 'p1m_to_p11m'),\n",
    "    (Timedelta(minutes=-10), Timedelta(minutes=10), 'm10m_to_now'),\n",
    "    (Timedelta(minutes=-20), Timedelta(minutes=20), 'm20m_to_now'),\n",
    "    (Timedelta(minutes=-30), Timedelta(minutes=30), 'm30m_to_now'),\n",
    "]\n",
    "\n",
    "# OLD get_returns_col function for single queries (kept for compatibility)\n",
    "# Returns a dataframe with one column corresponding to the given returns\n",
    "def get_returns_col(re, query_lf, start_offset, mark_offset, col_name, **kwargs) -> pl.LazyFrame:\n",
    "    return re.query(query_lf,\n",
    "            start_time_expr = pl.col('time') + start_offset, \n",
    "            mark_duration=mark_offset, \n",
    "            tick_lag_tolerance=Timedelta(minutes=10), \n",
    "            # append_lag=False,\n",
    "            append_lag=True, \n",
    "            append_query_tick_times=True, \n",
    "            append_start_end_fairs=True, \n",
    "            **kwargs\n",
    "        ).select(\n",
    "            pl.col('return').alias(f'return_{col_name}'), \n",
    "            pl.col('^.*query_time$').name.suffix(f'_{col_name}'), \n",
    "            pl.col('^.*_fair$').name.suffix(f'_{col_name}'))"
   ]
  },
  {
   "cell_type": "code",
   "execution_count": null,
   "id": "6b439b7c",
   "metadata": {},
   "outputs": [],
   "source": [
    "query_lf = ms.binance.BinanceLastTradesGrid(\n",
    "    peg_symbol='USDT',\n",
    "    grid_interval=Timedelta(minutes=10),\n",
    "    dataset_type=ms.DatasetType.BinanceUmPerpTrades, \n",
    ").lazyframe()\n",
    "\n",
    "backend_db = ms.binance.BinanceLastTradesGrid(\n",
    "            peg_symbol='USDT', \n",
    "            grid_interval=Timedelta(seconds=4), \n",
    "            dataset_type=ms.DatasetType.BinanceUmPerpTrades, \n",
    "        ).lazyframe()\n",
    "\n",
    "re = ReturnsEngine(\n",
    "    backend_db, \n",
    "    backend_fair_expr = pl.col('vwap_price'), \n",
    "    backend_time_expr = pl.col('last_event_time')\n",
    ")"
   ]
  },
  {
   "cell_type": "code",
   "execution_count": null,
   "id": "4c1e6119",
   "metadata": {},
   "outputs": [],
   "source": [
    "# OLD APPROACH: Multiple separate queries\n",
    "query_lf_slice = query_lf.filter(pl.col('date') >= Date(2025, 10, 20))\n",
    "\n",
    "benchmark_df = pl.concat([\n",
    "    query_lf_slice, \n",
    "    *[get_returns_col(re, query_lf_slice, *a) for a in appends]\n",
    "], how='horizontal').sort('symbol', 'time').collect()\n",
    "benchmark_df"
   ]
  },
  {
   "cell_type": "code",
   "execution_count": null,
   "id": "tlp1libxni",
   "metadata": {},
   "outputs": [],
   "source": [
    "# NEW APPROACH: Single batch query - much faster!\n",
    "query_lf_slice = query_lf.filter(pl.col('date') >= Date(2025, 10, 20))\n",
    "\n",
    "# Convert appends to mark_exprs for query_batch\n",
    "mark_exprs = {\n",
    "    'now_to_p10m': (pl.col('time'), Timedelta(minutes=10)),\n",
    "    'p1m_to_p11m': (pl.col('time') + Timedelta(minutes=1), Timedelta(minutes=10)),\n",
    "    'm10m_to_now': (pl.col('time') - Timedelta(minutes=10), Timedelta(minutes=10)),\n",
    "    'm20m_to_now': (pl.col('time') - Timedelta(minutes=20), Timedelta(minutes=20)),\n",
    "    'm30m_to_now': (pl.col('time') - Timedelta(minutes=30), Timedelta(minutes=30)),\n",
    "}\n",
    "\n",
    "answer_df = re.query_batch(\n",
    "    query_lf_slice,\n",
    "    mark_exprs=mark_exprs,\n",
    "    tick_lag_tolerance=Timedelta(minutes=10),\n",
    "    # append_lag=False\n",
    "    append_lag=True, \n",
    "    append_query_tick_times=True, \n",
    "    append_start_end_fairs=True\n",
    ").sort('symbol', 'time').collect()\n",
    "\n",
    "# Verify same column names as old approach\n",
    "print(f\"Column names: {answer_df.columns}\")\n",
    "answer_df"
   ]
  },
  {
   "cell_type": "code",
   "execution_count": null,
   "id": "b57fa985",
   "metadata": {},
   "outputs": [],
   "source": [
    "# Double-check: this should be all true if not null!!\n",
    "(answer_df.select('^return_.*$') == benchmark_df.select('^return_.*$'))"
   ]
  },
  {
   "cell_type": "markdown",
   "id": "fcba7717",
   "metadata": {},
   "source": [
    "# Debugging script\n",
    "\n",
    "Used during dev & debugging"
   ]
  },
  {
   "cell_type": "code",
   "execution_count": null,
   "id": "b850e994",
   "metadata": {},
   "outputs": [],
   "source": [
    "mark_exprs, append_cols, query_lf_withidx = re.query_batch(\n",
    "    query_lf_slice,\n",
    "    mark_exprs=mark_exprs,\n",
    "    tick_lag_tolerance=Timedelta(minutes=10),\n",
    "    # append_lag=False\n",
    "    append_lag=True, \n",
    "    append_query_tick_times=True, \n",
    "    append_start_end_fairs=True\n",
    ")\n",
    "\n",
    "schema = append_cols.collect_schema()\n",
    "metric_cols = [c for c in schema.names() if c not in ['row_id', 'return_col_name']]\n",
    "\n",
    "wide_append_cols = None\n",
    "for ret_col_name in mark_exprs.keys():\n",
    "    filtered = (\n",
    "        append_cols\n",
    "        .filter(pl.col('return_col_name') == ret_col_name)\n",
    "        .select(\n",
    "            'row_id',\n",
    "            *[pl.col(col).alias(f'{col}_{ret_col_name}') for col in metric_cols]\n",
    "        )\n",
    "    )\n",
    "\n",
    "    if wide_append_cols is None:\n",
    "        wide_append_cols = filtered\n",
    "    else:\n",
    "        wide_append_cols = wide_append_cols.join(filtered, on='row_id', how='left')\n",
    "\n",
    "\n",
    "\n",
    "# Join back to original query\n",
    "result = query_lf_withidx.join(\n",
    "    wide_append_cols, on='row_id',\n",
    "    how='left'\n",
    ").drop('row_id')\n",
    "\n",
    "answer_df = result.sort('symbol', 'time').collect()\n",
    "\n",
    "append_cols.collect()"
   ]
  },
  {
   "cell_type": "code",
   "execution_count": null,
   "id": "3d86b2c9",
   "metadata": {},
   "outputs": [],
   "source": []
  }
 ],
 "metadata": {
  "kernelspec": {
   "display_name": "midas",
   "language": "python",
   "name": "midas"
  },
  "language_info": {
   "codemirror_mode": {
    "name": "ipython",
    "version": 3
   },
   "file_extension": ".py",
   "mimetype": "text/x-python",
   "name": "python",
   "nbconvert_exporter": "python",
   "pygments_lexer": "ipython3",
   "version": "3.12.3"
  },
  "widgets": {
   "application/vnd.jupyter.widget-state+json": {
    "state": {},
    "version_major": 2,
    "version_minor": 0
   }
  }
 },
 "nbformat": 4,
 "nbformat_minor": 5
}
