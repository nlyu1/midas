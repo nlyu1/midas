{
 "cells": [
  {
   "cell_type": "code",
   "execution_count": 29,
   "id": "3df23827",
   "metadata": {},
   "outputs": [],
   "source": [
    "import mnemosyne as ms\n",
    "from datetime import datetime as Datetime, date as Date\n",
    "from timedelta_isoformat import timedelta as Timedelta # Import this particular timedelta! Supports proper to-string\n",
    "import polars as pl\n",
    "from datetime import date as Date"
   ]
  },
  {
   "cell_type": "markdown",
   "id": "2c69848e",
   "metadata": {},
   "source": [
    "# Data flow\n",
    "\n",
    "`lossless` -> `gridded` -> (`returns_engine` and `metadata_engine`)\n",
    "\n",
    "1. `peg_symbol`: could be `USDC` (much less data) or `USDT`\n",
    "2. `dataset_type`: futures or spot\n",
    "2. `backend_grid_interval`: currently cached `5s` and `10m` grids. Granularity from lossless data\n",
    "\n",
    "All data are recorded from `2022-01-01` onwards to (roughly) today. Let's experiment with `10m` grids\n",
    "\n",
    "- 5-second gridded data is `~200G`"
   ]
  },
  {
   "cell_type": "code",
   "execution_count": 30,
   "id": "d41395b0",
   "metadata": {},
   "outputs": [],
   "source": [
    "dataset_type = ms.DatasetType.BinanceUmPerpTrades # ms.DatasetType.BinanceSpotTrades\n",
    "grid_interval = Timedelta(minutes=10) # Only 5s and 10m are precomputed and cached\n",
    "peg_symbol = 'USDT' # Good default\n",
    "\n",
    "# Two dates we'll inspect\n",
    "sample_dates = [Date(2024, 1, 1), Date(2024, 11, 27)]"
   ]
  },
  {
   "cell_type": "markdown",
   "id": "7b15ad07",
   "metadata": {},
   "source": [
    "All datasets inherit `ByDateDataset`, which support:\n",
    "\n",
    "1. `compute(recompute: bool)` which computes the dataset in-place. Will try to use cached dataset if `recompute=False`. \n",
    "2. `dataset[[date1, date2]]` will return a `LazyFrame` "
   ]
  },
  {
   "cell_type": "code",
   "execution_count": 31,
   "id": "ad269a9c",
   "metadata": {},
   "outputs": [],
   "source": [
    "# Load the grid_dataset\n",
    "grid_dataset = ms.binance.BinanceLastTradesGrid(\n",
    "        peg_symbol=peg_symbol, \n",
    "        grid_interval=grid_interval, \n",
    "        dataset_type=dataset_type, \n",
    "        parquet_names='*.parquet',\n",
    "        num_workers=2, \n",
    "    )\n",
    "\n",
    "# This will take **long** if it's not already computed\n",
    "# Computes the dataset in-place and returns nothing\n",
    "grid_dataset.compute(recompute=False) "
   ]
  },
  {
   "cell_type": "markdown",
   "id": "b9ed015a",
   "metadata": {},
   "source": [
    "# 1. Common `ByDateDataset` operations\n",
    "\n",
    "`dataset.universe()` will always return a dataframe (not lazyframe, so no `.collect()`) of the tuple of symbol, dates on which the dataset is defined"
   ]
  },
  {
   "cell_type": "code",
   "execution_count": 32,
   "id": "6acc3360",
   "metadata": {},
   "outputs": [
    {
     "data": {
      "text/html": [
       "<div><style>\n",
       ".dataframe > thead > tr,\n",
       ".dataframe > tbody > tr {\n",
       "  text-align: right;\n",
       "  white-space: pre-wrap;\n",
       "}\n",
       "</style>\n",
       "<small>shape: (349_372, 2)</small><table border=\"1\" class=\"dataframe\"><thead><tr><th>symbol</th><th>date</th></tr><tr><td>str</td><td>date</td></tr></thead><tbody><tr><td>&quot;AGLD&quot;</td><td>2024-03-17</td></tr><tr><td>&quot;APE&quot;</td><td>2024-03-17</td></tr><tr><td>&quot;REN&quot;</td><td>2024-03-17</td></tr><tr><td>&quot;JUP&quot;</td><td>2024-03-17</td></tr><tr><td>&quot;AXS&quot;</td><td>2024-03-17</td></tr><tr><td>&hellip;</td><td>&hellip;</td></tr><tr><td>&quot;DIA&quot;</td><td>2025-10-24</td></tr><tr><td>&quot;JST&quot;</td><td>2025-10-24</td></tr><tr><td>&quot;ALPINE&quot;</td><td>2025-10-24</td></tr><tr><td>&quot;RIVER&quot;</td><td>2025-10-24</td></tr><tr><td>&quot;OP&quot;</td><td>2025-10-24</td></tr></tbody></table></div>"
      ],
      "text/plain": [
       "shape: (349_372, 2)\n",
       "┌────────┬────────────┐\n",
       "│ symbol ┆ date       │\n",
       "│ ---    ┆ ---        │\n",
       "│ str    ┆ date       │\n",
       "╞════════╪════════════╡\n",
       "│ AGLD   ┆ 2024-03-17 │\n",
       "│ APE    ┆ 2024-03-17 │\n",
       "│ REN    ┆ 2024-03-17 │\n",
       "│ JUP    ┆ 2024-03-17 │\n",
       "│ AXS    ┆ 2024-03-17 │\n",
       "│ …      ┆ …          │\n",
       "│ DIA    ┆ 2025-10-24 │\n",
       "│ JST    ┆ 2025-10-24 │\n",
       "│ ALPINE ┆ 2025-10-24 │\n",
       "│ RIVER  ┆ 2025-10-24 │\n",
       "│ OP     ┆ 2025-10-24 │\n",
       "└────────┴────────────┘"
      ]
     },
     "execution_count": 32,
     "metadata": {},
     "output_type": "execute_result"
    }
   ],
   "source": [
    "grid_dataset.universe()"
   ]
  },
  {
   "cell_type": "markdown",
   "id": "95023ce7",
   "metadata": {},
   "source": [
    "`dataset[[date1, date2]]` (note that the index is a date list!) will return the slice of dataset on these dates"
   ]
  },
  {
   "cell_type": "code",
   "execution_count": 33,
   "id": "028103eb",
   "metadata": {},
   "outputs": [
    {
     "data": {
      "text/html": [
       "<div><style>\n",
       ".dataframe > thead > tr,\n",
       ".dataframe > tbody > tr {\n",
       "  text-align: right;\n",
       "  white-space: pre-wrap;\n",
       "}\n",
       "</style>\n",
       "<small>shape: (81_256, 16)</small><table border=\"1\" class=\"dataframe\"><thead><tr><th>symbol</th><th>date</th><th>time</th><th>peg_symbol</th><th>open</th><th>high</th><th>low</th><th>close</th><th>volume</th><th>trade_count</th><th>last_event_time</th><th>taker_buy_volume</th><th>taker_sell_volume</th><th>vwap_taker_buy</th><th>vwap_taker_sell</th><th>vwap_price</th></tr><tr><td>enum</td><td>date</td><td>datetime[μs]</td><td>str</td><td>f64</td><td>f64</td><td>f64</td><td>f64</td><td>f64</td><td>u64</td><td>datetime[μs]</td><td>f64</td><td>f64</td><td>f64</td><td>f64</td><td>f64</td></tr></thead><tbody><tr><td>&quot;MTL&quot;</td><td>2024-01-01</td><td>2024-01-01 00:10:00</td><td>&quot;USDT&quot;</td><td>1.5666</td><td>1.573</td><td>1.5631</td><td>1.5707</td><td>99239.0</td><td>1714</td><td>2024-01-01 00:09:58.233</td><td>47067.0</td><td>52172.0</td><td>1.567926</td><td>1.567795</td><td>1.567857</td></tr><tr><td>&quot;DUSK&quot;</td><td>2024-01-01</td><td>2024-01-01 00:10:00</td><td>&quot;USDT&quot;</td><td>0.18705</td><td>0.18773</td><td>0.18662</td><td>0.18762</td><td>426256.0</td><td>1631</td><td>2024-01-01 00:09:58.500</td><td>196691.0</td><td>229565.0</td><td>0.187152</td><td>0.187159</td><td>0.187156</td></tr><tr><td>&quot;1000LUNC&quot;</td><td>2024-01-01</td><td>2024-01-01 00:10:00</td><td>&quot;USDT&quot;</td><td>0.13877</td><td>0.13968</td><td>0.13858</td><td>0.13959</td><td>5.101784e6</td><td>3846</td><td>2024-01-01 00:09:59.248</td><td>2.788563e6</td><td>2.313221e6</td><td>0.139275</td><td>0.139338</td><td>0.139303</td></tr><tr><td>&quot;YGG&quot;</td><td>2024-01-01</td><td>2024-01-01 00:10:00</td><td>&quot;USDT&quot;</td><td>0.4261</td><td>0.4307</td><td>0.426</td><td>0.4303</td><td>470887.0</td><td>2051</td><td>2024-01-01 00:09:58.587</td><td>295372.0</td><td>175515.0</td><td>0.428078</td><td>0.428826</td><td>0.428357</td></tr><tr><td>&quot;NKN&quot;</td><td>2024-01-01</td><td>2024-01-01 00:10:00</td><td>&quot;USDT&quot;</td><td>0.11213</td><td>0.11284</td><td>0.11201</td><td>0.11284</td><td>483070.0</td><td>1337</td><td>2024-01-01 00:09:57.907</td><td>251653.0</td><td>231417.0</td><td>0.112396</td><td>0.1124</td><td>0.112398</td></tr><tr><td>&hellip;</td><td>&hellip;</td><td>&hellip;</td><td>&hellip;</td><td>&hellip;</td><td>&hellip;</td><td>&hellip;</td><td>&hellip;</td><td>&hellip;</td><td>&hellip;</td><td>&hellip;</td><td>&hellip;</td><td>&hellip;</td><td>&hellip;</td><td>&hellip;</td><td>&hellip;</td></tr><tr><td>&quot;INJ&quot;</td><td>2024-11-27</td><td>2024-11-28 00:00:00</td><td>&quot;USDT&quot;</td><td>29.815</td><td>29.898</td><td>29.779</td><td>29.8</td><td>26810.1</td><td>3813</td><td>2024-11-27 23:59:59.844</td><td>14621.3</td><td>12188.8</td><td>29.835396</td><td>29.821177</td><td>29.828932</td></tr><tr><td>&quot;GTC&quot;</td><td>2024-11-27</td><td>2024-11-28 00:00:00</td><td>&quot;USDT&quot;</td><td>0.939</td><td>0.94</td><td>0.937</td><td>0.939</td><td>69263.9</td><td>313</td><td>2024-11-27 23:59:57.189</td><td>28952.4</td><td>40311.5</td><td>0.93948</td><td>0.939148</td><td>0.939287</td></tr><tr><td>&quot;XVS&quot;</td><td>2024-11-27</td><td>2024-11-28 00:00:00</td><td>&quot;USDT&quot;</td><td>9.885</td><td>9.885</td><td>9.857</td><td>9.88</td><td>3026.5</td><td>403</td><td>2024-11-27 23:59:59.920</td><td>1324.7</td><td>1701.8</td><td>9.869658</td><td>9.87046</td><td>9.870109</td></tr><tr><td>&quot;COS&quot;</td><td>2024-11-27</td><td>2024-11-28 00:00:00</td><td>&quot;USDT&quot;</td><td>0.011962</td><td>0.011985</td><td>0.011945</td><td>0.011953</td><td>7.949783e6</td><td>1015</td><td>2024-11-27 23:59:58.303</td><td>2.923972e6</td><td>5.025811e6</td><td>0.011966</td><td>0.011966</td><td>0.011966</td></tr><tr><td>&quot;OMG&quot;</td><td>2024-11-27</td><td>2024-11-28 00:00:00</td><td>&quot;USDT&quot;</td><td>0.4488</td><td>0.4517</td><td>0.4455</td><td>0.4489</td><td>736366.6</td><td>3475</td><td>2024-11-27 23:59:59.828</td><td>398368.9</td><td>337997.7</td><td>0.44859</td><td>0.448447</td><td>0.448525</td></tr></tbody></table></div>"
      ],
      "text/plain": [
       "shape: (81_256, 16)\n",
       "┌──────────┬───────────┬───────────┬───────────┬───┬───────────┬───────────┬───────────┬───────────┐\n",
       "│ symbol   ┆ date      ┆ time      ┆ peg_symbo ┆ … ┆ taker_sel ┆ vwap_take ┆ vwap_take ┆ vwap_pric │\n",
       "│ ---      ┆ ---       ┆ ---       ┆ l         ┆   ┆ l_volume  ┆ r_buy     ┆ r_sell    ┆ e         │\n",
       "│ enum     ┆ date      ┆ datetime[ ┆ ---       ┆   ┆ ---       ┆ ---       ┆ ---       ┆ ---       │\n",
       "│          ┆           ┆ μs]       ┆ str       ┆   ┆ f64       ┆ f64       ┆ f64       ┆ f64       │\n",
       "╞══════════╪═══════════╪═══════════╪═══════════╪═══╪═══════════╪═══════════╪═══════════╪═══════════╡\n",
       "│ MTL      ┆ 2024-01-0 ┆ 2024-01-0 ┆ USDT      ┆ … ┆ 52172.0   ┆ 1.567926  ┆ 1.567795  ┆ 1.567857  │\n",
       "│          ┆ 1         ┆ 1         ┆           ┆   ┆           ┆           ┆           ┆           │\n",
       "│          ┆           ┆ 00:10:00  ┆           ┆   ┆           ┆           ┆           ┆           │\n",
       "│ DUSK     ┆ 2024-01-0 ┆ 2024-01-0 ┆ USDT      ┆ … ┆ 229565.0  ┆ 0.187152  ┆ 0.187159  ┆ 0.187156  │\n",
       "│          ┆ 1         ┆ 1         ┆           ┆   ┆           ┆           ┆           ┆           │\n",
       "│          ┆           ┆ 00:10:00  ┆           ┆   ┆           ┆           ┆           ┆           │\n",
       "│ 1000LUNC ┆ 2024-01-0 ┆ 2024-01-0 ┆ USDT      ┆ … ┆ 2.313221e ┆ 0.139275  ┆ 0.139338  ┆ 0.139303  │\n",
       "│          ┆ 1         ┆ 1         ┆           ┆   ┆ 6         ┆           ┆           ┆           │\n",
       "│          ┆           ┆ 00:10:00  ┆           ┆   ┆           ┆           ┆           ┆           │\n",
       "│ YGG      ┆ 2024-01-0 ┆ 2024-01-0 ┆ USDT      ┆ … ┆ 175515.0  ┆ 0.428078  ┆ 0.428826  ┆ 0.428357  │\n",
       "│          ┆ 1         ┆ 1         ┆           ┆   ┆           ┆           ┆           ┆           │\n",
       "│          ┆           ┆ 00:10:00  ┆           ┆   ┆           ┆           ┆           ┆           │\n",
       "│ NKN      ┆ 2024-01-0 ┆ 2024-01-0 ┆ USDT      ┆ … ┆ 231417.0  ┆ 0.112396  ┆ 0.1124    ┆ 0.112398  │\n",
       "│          ┆ 1         ┆ 1         ┆           ┆   ┆           ┆           ┆           ┆           │\n",
       "│          ┆           ┆ 00:10:00  ┆           ┆   ┆           ┆           ┆           ┆           │\n",
       "│ …        ┆ …         ┆ …         ┆ …         ┆ … ┆ …         ┆ …         ┆ …         ┆ …         │\n",
       "│ INJ      ┆ 2024-11-2 ┆ 2024-11-2 ┆ USDT      ┆ … ┆ 12188.8   ┆ 29.835396 ┆ 29.821177 ┆ 29.828932 │\n",
       "│          ┆ 7         ┆ 8         ┆           ┆   ┆           ┆           ┆           ┆           │\n",
       "│          ┆           ┆ 00:00:00  ┆           ┆   ┆           ┆           ┆           ┆           │\n",
       "│ GTC      ┆ 2024-11-2 ┆ 2024-11-2 ┆ USDT      ┆ … ┆ 40311.5   ┆ 0.93948   ┆ 0.939148  ┆ 0.939287  │\n",
       "│          ┆ 7         ┆ 8         ┆           ┆   ┆           ┆           ┆           ┆           │\n",
       "│          ┆           ┆ 00:00:00  ┆           ┆   ┆           ┆           ┆           ┆           │\n",
       "│ XVS      ┆ 2024-11-2 ┆ 2024-11-2 ┆ USDT      ┆ … ┆ 1701.8    ┆ 9.869658  ┆ 9.87046   ┆ 9.870109  │\n",
       "│          ┆ 7         ┆ 8         ┆           ┆   ┆           ┆           ┆           ┆           │\n",
       "│          ┆           ┆ 00:00:00  ┆           ┆   ┆           ┆           ┆           ┆           │\n",
       "│ COS      ┆ 2024-11-2 ┆ 2024-11-2 ┆ USDT      ┆ … ┆ 5.025811e ┆ 0.011966  ┆ 0.011966  ┆ 0.011966  │\n",
       "│          ┆ 7         ┆ 8         ┆           ┆   ┆ 6         ┆           ┆           ┆           │\n",
       "│          ┆           ┆ 00:00:00  ┆           ┆   ┆           ┆           ┆           ┆           │\n",
       "│ OMG      ┆ 2024-11-2 ┆ 2024-11-2 ┆ USDT      ┆ … ┆ 337997.7  ┆ 0.44859   ┆ 0.448447  ┆ 0.448525  │\n",
       "│          ┆ 7         ┆ 8         ┆           ┆   ┆           ┆           ┆           ┆           │\n",
       "│          ┆           ┆ 00:00:00  ┆           ┆   ┆           ┆           ┆           ┆           │\n",
       "└──────────┴───────────┴───────────┴───────────┴───┴───────────┴───────────┴───────────┴───────────┘"
      ]
     },
     "execution_count": 33,
     "metadata": {},
     "output_type": "execute_result"
    }
   ],
   "source": [
    "grid_dataset[sample_dates].collect()"
   ]
  },
  {
   "cell_type": "markdown",
   "id": "62f4ff9b",
   "metadata": {},
   "source": [
    "`.lazyframe()` returns the full dataset. Collecting on it will instantiate a huge dataframe\n",
    "\n",
    "As an example, let's compute the number of unique symbols per date. The operation below will take very long on `5s` grid"
   ]
  },
  {
   "cell_type": "code",
   "execution_count": 34,
   "id": "7755ff2d",
   "metadata": {},
   "outputs": [
    {
     "data": {
      "text/html": [
       "<div><style>\n",
       ".dataframe > thead > tr,\n",
       ".dataframe > tbody > tr {\n",
       "  text-align: right;\n",
       "  white-space: pre-wrap;\n",
       "}\n",
       "</style>\n",
       "<small>shape: (1_395, 2)</small><table border=\"1\" class=\"dataframe\"><thead><tr><th>date</th><th>num_unique_symbols</th></tr><tr><td>date</td><td>u64</td></tr></thead><tbody><tr><td>2022-01-01</td><td>136</td></tr><tr><td>2022-01-02</td><td>136</td></tr><tr><td>2022-01-03</td><td>136</td></tr><tr><td>2022-01-04</td><td>136</td></tr><tr><td>2022-01-05</td><td>136</td></tr><tr><td>&hellip;</td><td>&hellip;</td></tr><tr><td>2025-10-22</td><td>524</td></tr><tr><td>2025-10-23</td><td>525</td></tr><tr><td>2025-10-24</td><td>526</td></tr><tr><td>2025-10-25</td><td>526</td></tr><tr><td>2025-10-26</td><td>526</td></tr></tbody></table></div>"
      ],
      "text/plain": [
       "shape: (1_395, 2)\n",
       "┌────────────┬────────────────────┐\n",
       "│ date       ┆ num_unique_symbols │\n",
       "│ ---        ┆ ---                │\n",
       "│ date       ┆ u64                │\n",
       "╞════════════╪════════════════════╡\n",
       "│ 2022-01-01 ┆ 136                │\n",
       "│ 2022-01-02 ┆ 136                │\n",
       "│ 2022-01-03 ┆ 136                │\n",
       "│ 2022-01-04 ┆ 136                │\n",
       "│ 2022-01-05 ┆ 136                │\n",
       "│ …          ┆ …                  │\n",
       "│ 2025-10-22 ┆ 524                │\n",
       "│ 2025-10-23 ┆ 525                │\n",
       "│ 2025-10-24 ┆ 526                │\n",
       "│ 2025-10-25 ┆ 526                │\n",
       "│ 2025-10-26 ┆ 526                │\n",
       "└────────────┴────────────────────┘"
      ]
     },
     "execution_count": 34,
     "metadata": {},
     "output_type": "execute_result"
    }
   ],
   "source": [
    "grid_database = grid_dataset.lazyframe()\n",
    "\n",
    "num_symbols_per_date = grid_database.group_by('date').agg(\n",
    "    pl.col('symbol').unique().count().alias('num_unique_symbols')\n",
    ").collect(engine='streaming').sort('date')\n",
    "\n",
    "num_symbols_per_date"
   ]
  },
  {
   "cell_type": "markdown",
   "id": "0a9f237b",
   "metadata": {},
   "source": [
    "# Returns engine\n",
    "\n",
    "The returns engine **consumes a gridded dataset** to support returns queries. \n",
    "\n",
    "We usually use the `5s` grid so that e.g. `10m` returns will actually make sense (it doesn't make that much sense to compute `10m` returns on `10m` vwap prices)\n",
    "\n",
    "Define a `query_lf` with `symbol, date, time` columns and execute a query"
   ]
  },
  {
   "cell_type": "code",
   "execution_count": 40,
   "id": "f902dc63",
   "metadata": {},
   "outputs": [
    {
     "data": {
      "text/html": [
       "<div><style>\n",
       ".dataframe > thead > tr,\n",
       ".dataframe > tbody > tr {\n",
       "  text-align: right;\n",
       "  white-space: pre-wrap;\n",
       "}\n",
       "</style>\n",
       "<small>shape: (5, 3)</small><table border=\"1\" class=\"dataframe\"><thead><tr><th>symbol</th><th>date</th><th>time</th></tr><tr><td>enum</td><td>date</td><td>datetime[μs]</td></tr></thead><tbody><tr><td>&quot;JUP&quot;</td><td>2025-01-01</td><td>2025-01-01 00:00:05</td></tr><tr><td>&quot;INJ&quot;</td><td>2025-01-01</td><td>2025-01-01 00:00:05</td></tr><tr><td>&quot;STEEM&quot;</td><td>2025-01-01</td><td>2025-01-01 00:00:05</td></tr><tr><td>&quot;HIVE&quot;</td><td>2025-01-01</td><td>2025-01-01 00:00:05</td></tr><tr><td>&quot;REI&quot;</td><td>2025-01-01</td><td>2025-01-01 00:00:05</td></tr></tbody></table></div>"
      ],
      "text/plain": [
       "shape: (5, 3)\n",
       "┌────────┬────────────┬─────────────────────┐\n",
       "│ symbol ┆ date       ┆ time                │\n",
       "│ ---    ┆ ---        ┆ ---                 │\n",
       "│ enum   ┆ date       ┆ datetime[μs]        │\n",
       "╞════════╪════════════╪═════════════════════╡\n",
       "│ JUP    ┆ 2025-01-01 ┆ 2025-01-01 00:00:05 │\n",
       "│ INJ    ┆ 2025-01-01 ┆ 2025-01-01 00:00:05 │\n",
       "│ STEEM  ┆ 2025-01-01 ┆ 2025-01-01 00:00:05 │\n",
       "│ HIVE   ┆ 2025-01-01 ┆ 2025-01-01 00:00:05 │\n",
       "│ REI    ┆ 2025-01-01 ┆ 2025-01-01 00:00:05 │\n",
       "└────────┴────────────┴─────────────────────┘"
      ]
     },
     "metadata": {},
     "output_type": "display_data"
    }
   ],
   "source": [
    "from mnemosyne.engines import ReturnsEngine \n",
    "\n",
    "backend_grid_dataset = ms.binance.BinanceLastTradesGrid(\n",
    "            peg_symbol='USDT', \n",
    "            grid_interval=Timedelta(seconds=5), \n",
    "            dataset_type=ms.DatasetType.BinanceSpotTrades)\n",
    "\n",
    "returns_engine = ReturnsEngine(\n",
    "    backend_grid_dataset.lazyframe(), # returns-engine will use this dataframe\n",
    "    # This is the default value: what we want to compute returns over. We can also specify pl.col('open') for open-to-open returns\n",
    "    backend_fair_expr = pl.col('vwap_price'), \n",
    ")\n",
    "\n",
    "# Next, define a query lazyframe (call .lazy() on dataframe to make it lazy) containing 'symbol' and 'times'. \n",
    "#  Here, let's just take 10m grids on 2025, 1, 1\n",
    "query_lf = backend_grid_dataset[[Date(2025, 1, 1)]].select('symbol', 'date', 'time')\n",
    "display(query_lf.head().collect())"
   ]
  },
  {
   "cell_type": "markdown",
   "id": "b4dadf1d",
   "metadata": {},
   "source": [
    "### Single-mark query"
   ]
  },
  {
   "cell_type": "code",
   "execution_count": 41,
   "id": "a8a5247c",
   "metadata": {},
   "outputs": [
    {
     "name": "stderr",
     "output_type": "stream",
     "text": [
      "sys:1: UserWarning: Sortedness of columns cannot be checked when 'by' groups provided\n"
     ]
    },
    {
     "data": {
      "text/html": [
       "<div><style>\n",
       ".dataframe > thead > tr,\n",
       ".dataframe > tbody > tr {\n",
       "  text-align: right;\n",
       "  white-space: pre-wrap;\n",
       "}\n",
       "</style>\n",
       "<small>shape: (2_824_525, 5)</small><table border=\"1\" class=\"dataframe\"><thead><tr><th>symbol</th><th>date</th><th>time</th><th>max_tick_to_query_lag</th><th>return</th></tr><tr><td>enum</td><td>date</td><td>datetime[μs]</td><td>duration[μs]</td><td>f64</td></tr></thead><tbody><tr><td>&quot;JUP&quot;</td><td>2025-01-01</td><td>2025-01-01 00:00:05</td><td>22s 734798µs</td><td>0.003655</td></tr><tr><td>&quot;INJ&quot;</td><td>2025-01-01</td><td>2025-01-01 00:00:05</td><td>38s 480131µs</td><td>0.004077</td></tr><tr><td>&quot;STEEM&quot;</td><td>2025-01-01</td><td>2025-01-01 00:00:05</td><td>147539µs</td><td>0.039094</td></tr><tr><td>&quot;HIVE&quot;</td><td>2025-01-01</td><td>2025-01-01 00:00:05</td><td>285121µs</td><td>-0.025055</td></tr><tr><td>&quot;REI&quot;</td><td>2025-01-01</td><td>2025-01-01 00:00:05</td><td>2m 7s 852805µs</td><td>0.005787</td></tr><tr><td>&hellip;</td><td>&hellip;</td><td>&hellip;</td><td>&hellip;</td><td>&hellip;</td></tr><tr><td>&quot;BEAMX&quot;</td><td>2025-01-01</td><td>2025-01-02 00:00:00</td><td>12s 120570µs</td><td>-0.004826</td></tr><tr><td>&quot;DOT&quot;</td><td>2025-01-01</td><td>2025-01-02 00:00:00</td><td>3s 128505µs</td><td>0.00413</td></tr><tr><td>&quot;ZK&quot;</td><td>2025-01-01</td><td>2025-01-02 00:00:00</td><td>3s 382198µs</td><td>-0.002047</td></tr><tr><td>&quot;WIN&quot;</td><td>2025-01-01</td><td>2025-01-02 00:00:00</td><td>1s 712479µs</td><td>0.002558</td></tr><tr><td>&quot;FTM&quot;</td><td>2025-01-01</td><td>2025-01-02 00:00:00</td><td>474439µs</td><td>-0.002613</td></tr></tbody></table></div>"
      ],
      "text/plain": [
       "shape: (2_824_525, 5)\n",
       "┌────────┬────────────┬─────────────────────┬───────────────────────┬───────────┐\n",
       "│ symbol ┆ date       ┆ time                ┆ max_tick_to_query_lag ┆ return    │\n",
       "│ ---    ┆ ---        ┆ ---                 ┆ ---                   ┆ ---       │\n",
       "│ enum   ┆ date       ┆ datetime[μs]        ┆ duration[μs]          ┆ f64       │\n",
       "╞════════╪════════════╪═════════════════════╪═══════════════════════╪═══════════╡\n",
       "│ JUP    ┆ 2025-01-01 ┆ 2025-01-01 00:00:05 ┆ 22s 734798µs          ┆ 0.003655  │\n",
       "│ INJ    ┆ 2025-01-01 ┆ 2025-01-01 00:00:05 ┆ 38s 480131µs          ┆ 0.004077  │\n",
       "│ STEEM  ┆ 2025-01-01 ┆ 2025-01-01 00:00:05 ┆ 147539µs              ┆ 0.039094  │\n",
       "│ HIVE   ┆ 2025-01-01 ┆ 2025-01-01 00:00:05 ┆ 285121µs              ┆ -0.025055 │\n",
       "│ REI    ┆ 2025-01-01 ┆ 2025-01-01 00:00:05 ┆ 2m 7s 852805µs        ┆ 0.005787  │\n",
       "│ …      ┆ …          ┆ …                   ┆ …                     ┆ …         │\n",
       "│ BEAMX  ┆ 2025-01-01 ┆ 2025-01-02 00:00:00 ┆ 12s 120570µs          ┆ -0.004826 │\n",
       "│ DOT    ┆ 2025-01-01 ┆ 2025-01-02 00:00:00 ┆ 3s 128505µs           ┆ 0.00413   │\n",
       "│ ZK     ┆ 2025-01-01 ┆ 2025-01-02 00:00:00 ┆ 3s 382198µs           ┆ -0.002047 │\n",
       "│ WIN    ┆ 2025-01-01 ┆ 2025-01-02 00:00:00 ┆ 1s 712479µs           ┆ 0.002558  │\n",
       "│ FTM    ┆ 2025-01-01 ┆ 2025-01-02 00:00:00 ┆ 474439µs              ┆ -0.002613 │\n",
       "└────────┴────────────┴─────────────────────┴───────────────────────┴───────────┘"
      ]
     },
     "execution_count": 41,
     "metadata": {},
     "output_type": "execute_result"
    }
   ],
   "source": [
    "# returns_engine will append a single `return_column`\n",
    "df_with_returns = returns_engine.query(\n",
    "    query_lf, \n",
    "    start_time_expr = pl.col('time'), # What we want start time to be\n",
    "    mark_duration = Timedelta(minutes=10), \n",
    "    tick_lag_tolerance = Timedelta(minutes=10), # If we can't find a trade within last 1m, will return NaN\n",
    "    # Supply additional fields to get more info\n",
    "    # append_lag = True, \n",
    "    # append_query_tick_times = True, \n",
    "    # append_start_end_fairs = True\n",
    ").collect()\n",
    "df_with_returns"
   ]
  },
  {
   "cell_type": "code",
   "execution_count": 42,
   "id": "67aeafe0",
   "metadata": {},
   "outputs": [
    {
     "data": {
      "text/html": [
       "<div><style>\n",
       ".dataframe > thead > tr,\n",
       ".dataframe > tbody > tr {\n",
       "  text-align: right;\n",
       "  white-space: pre-wrap;\n",
       "}\n",
       "</style>\n",
       "<small>shape: (48_960, 5)</small><table border=\"1\" class=\"dataframe\"><thead><tr><th>symbol</th><th>date</th><th>time</th><th>max_tick_to_query_lag</th><th>return</th></tr><tr><td>enum</td><td>date</td><td>datetime[μs]</td><td>duration[μs]</td><td>f64</td></tr></thead><tbody><tr><td>&quot;MKR&quot;</td><td>2025-01-01</td><td>2025-01-01 00:10:00</td><td>1m 54s 481419µs</td><td>0.000669</td></tr><tr><td>&quot;STORJ&quot;</td><td>2025-01-01</td><td>2025-01-01 00:10:00</td><td>12s 635638µs</td><td>0.000631</td></tr><tr><td>&quot;ETHFI&quot;</td><td>2025-01-01</td><td>2025-01-01 00:10:00</td><td>10s 819222µs</td><td>0.003157</td></tr><tr><td>&quot;ADA&quot;</td><td>2025-01-01</td><td>2025-01-01 00:10:00</td><td>2s 859622µs</td><td>0.001846</td></tr><tr><td>&quot;OP&quot;</td><td>2025-01-01</td><td>2025-01-01 00:10:00</td><td>4s 327719µs</td><td>0.001705</td></tr><tr><td>&hellip;</td><td>&hellip;</td><td>&hellip;</td><td>&hellip;</td><td>&hellip;</td></tr><tr><td>&quot;IOTA&quot;</td><td>2025-01-01</td><td>2025-01-02 00:00:00</td><td>3s 326499µs</td><td>0.020597</td></tr><tr><td>&quot;IMX&quot;</td><td>2025-01-01</td><td>2025-01-02 00:00:00</td><td>1m 3s 987844µs</td><td>0.001479</td></tr><tr><td>&quot;XAI&quot;</td><td>2025-01-01</td><td>2025-01-02 00:00:00</td><td>3s 250708µs</td><td>0.000864</td></tr><tr><td>&quot;AI&quot;</td><td>2025-01-01</td><td>2025-01-02 00:00:00</td><td>23s 967507µs</td><td>-0.006245</td></tr><tr><td>&quot;QUICK&quot;</td><td>2025-01-01</td><td>2025-01-02 00:00:00</td><td>13s 24567µs</td><td>-1.5962e-16</td></tr></tbody></table></div>"
      ],
      "text/plain": [
       "shape: (48_960, 5)\n",
       "┌────────┬────────────┬─────────────────────┬───────────────────────┬─────────────┐\n",
       "│ symbol ┆ date       ┆ time                ┆ max_tick_to_query_lag ┆ return      │\n",
       "│ ---    ┆ ---        ┆ ---                 ┆ ---                   ┆ ---         │\n",
       "│ enum   ┆ date       ┆ datetime[μs]        ┆ duration[μs]          ┆ f64         │\n",
       "╞════════╪════════════╪═════════════════════╪═══════════════════════╪═════════════╡\n",
       "│ MKR    ┆ 2025-01-01 ┆ 2025-01-01 00:10:00 ┆ 1m 54s 481419µs       ┆ 0.000669    │\n",
       "│ STORJ  ┆ 2025-01-01 ┆ 2025-01-01 00:10:00 ┆ 12s 635638µs          ┆ 0.000631    │\n",
       "│ ETHFI  ┆ 2025-01-01 ┆ 2025-01-01 00:10:00 ┆ 10s 819222µs          ┆ 0.003157    │\n",
       "│ ADA    ┆ 2025-01-01 ┆ 2025-01-01 00:10:00 ┆ 2s 859622µs           ┆ 0.001846    │\n",
       "│ OP     ┆ 2025-01-01 ┆ 2025-01-01 00:10:00 ┆ 4s 327719µs           ┆ 0.001705    │\n",
       "│ …      ┆ …          ┆ …                   ┆ …                     ┆ …           │\n",
       "│ IOTA   ┆ 2025-01-01 ┆ 2025-01-02 00:00:00 ┆ 3s 326499µs           ┆ 0.020597    │\n",
       "│ IMX    ┆ 2025-01-01 ┆ 2025-01-02 00:00:00 ┆ 1m 3s 987844µs        ┆ 0.001479    │\n",
       "│ XAI    ┆ 2025-01-01 ┆ 2025-01-02 00:00:00 ┆ 3s 250708µs           ┆ 0.000864    │\n",
       "│ AI     ┆ 2025-01-01 ┆ 2025-01-02 00:00:00 ┆ 23s 967507µs          ┆ -0.006245   │\n",
       "│ QUICK  ┆ 2025-01-01 ┆ 2025-01-02 00:00:00 ┆ 13s 24567µs           ┆ -1.5962e-16 │\n",
       "└────────┴────────────┴─────────────────────┴───────────────────────┴─────────────┘"
      ]
     },
     "execution_count": 42,
     "metadata": {},
     "output_type": "execute_result"
    }
   ],
   "source": [
    "other_query_lf = grid_dataset[[Date(2025, 1, 1)]].select('symbol', 'date', 'time')\n",
    "\n",
    "other_df_with_returns = returns_engine.query(\n",
    "    other_query_lf, \n",
    "    start_time_expr = pl.col('time'), # What we want start time to be\n",
    "    mark_duration = Timedelta(minutes=10), \n",
    "    tick_lag_tolerance = Timedelta(minutes=10), # If we can't find a trade within last 1m, will return NaN\n",
    "    # Supply additional fields to get more info\n",
    "    # append_lag = True, \n",
    "    # append_query_tick_times = True, \n",
    "    # append_start_end_fairs = True\n",
    ").collect()\n",
    "\n",
    "other_df_with_returns"
   ]
  },
  {
   "cell_type": "markdown",
   "id": "cb0bab7a",
   "metadata": {},
   "source": [
    "# Multi-mark query\n",
    "\n",
    "This is much more efficient than calling `.query` multiple times. When fetching multiple marks at once, define a dictionary:\n",
    "\n",
    "1. Dictionary key = string name of the returns column\n",
    "2. Values are two-tuples. The first element defines the start time expression. The second element defines the mark duration. "
   ]
  },
  {
   "cell_type": "code",
   "execution_count": 9,
   "id": "9c729837",
   "metadata": {},
   "outputs": [
    {
     "data": {
      "text/html": [
       "<div><style>\n",
       ".dataframe > thead > tr,\n",
       ".dataframe > tbody > tr {\n",
       "  text-align: right;\n",
       "  white-space: pre-wrap;\n",
       "}\n",
       "</style>\n",
       "<small>shape: (233_439, 8)</small><table border=\"1\" class=\"dataframe\"><thead><tr><th>symbol</th><th>date</th><th>time</th><th>return_now_to_p10m</th><th>return_p1m_to_p11m</th><th>return_m10m_to_now</th><th>return_m20m_to_now</th><th>return_m30m_to_now</th></tr><tr><td>enum</td><td>date</td><td>datetime[μs]</td><td>f64</td><td>f64</td><td>f64</td><td>f64</td><td>f64</td></tr></thead><tbody><tr><td>&quot;INJ&quot;</td><td>2025-01-01</td><td>2025-01-01 00:00:05</td><td>null</td><td>0.003577</td><td>null</td><td>null</td><td>null</td></tr><tr><td>&quot;BTC&quot;</td><td>2025-01-01</td><td>2025-01-01 00:00:05</td><td>0.000014</td><td>-0.001187</td><td>0.00028</td><td>0.001141</td><td>-0.001785</td></tr><tr><td>&quot;SUI&quot;</td><td>2025-01-01</td><td>2025-01-01 00:00:05</td><td>null</td><td>0.000802</td><td>-0.001325</td><td>null</td><td>null</td></tr><tr><td>&quot;MANTA&quot;</td><td>2025-01-01</td><td>2025-01-01 00:00:05</td><td>null</td><td>null</td><td>-0.000011</td><td>null</td><td>null</td></tr><tr><td>&quot;ETH&quot;</td><td>2025-01-01</td><td>2025-01-01 00:00:05</td><td>0.001224</td><td>0.000863</td><td>-0.000799</td><td>0.001092</td><td>-0.001756</td></tr><tr><td>&hellip;</td><td>&hellip;</td><td>&hellip;</td><td>&hellip;</td><td>&hellip;</td><td>&hellip;</td><td>&hellip;</td><td>&hellip;</td></tr><tr><td>&quot;OM&quot;</td><td>2025-01-01</td><td>2025-01-02 00:00:00</td><td>-0.002452</td><td>null</td><td>null</td><td>-0.002209</td><td>null</td></tr><tr><td>&quot;BNB&quot;</td><td>2025-01-01</td><td>2025-01-02 00:00:00</td><td>-0.00126</td><td>-0.00075</td><td>0.000312</td><td>0.000496</td><td>0.000628</td></tr><tr><td>&quot;XRP&quot;</td><td>2025-01-01</td><td>2025-01-02 00:00:00</td><td>0.01787</td><td>0.021373</td><td>0.007401</td><td>0.006486</td><td>-0.000901</td></tr><tr><td>&quot;PENGU&quot;</td><td>2025-01-01</td><td>2025-01-02 00:00:00</td><td>0.033905</td><td>0.02755</td><td>-0.006377</td><td>-0.005107</td><td>-0.005468</td></tr><tr><td>&quot;STX&quot;</td><td>2025-01-01</td><td>2025-01-02 00:00:00</td><td>null</td><td>null</td><td>-0.00279</td><td>-0.002171</td><td>-0.00279</td></tr></tbody></table></div>"
      ],
      "text/plain": [
       "shape: (233_439, 8)\n",
       "┌────────┬────────────┬────────────┬────────────┬────────────┬────────────┬────────────┬───────────┐\n",
       "│ symbol ┆ date       ┆ time       ┆ return_now ┆ return_p1m ┆ return_m10 ┆ return_m20 ┆ return_m3 │\n",
       "│ ---    ┆ ---        ┆ ---        ┆ _to_p10m   ┆ _to_p11m   ┆ m_to_now   ┆ m_to_now   ┆ 0m_to_now │\n",
       "│ enum   ┆ date       ┆ datetime[μ ┆ ---        ┆ ---        ┆ ---        ┆ ---        ┆ ---       │\n",
       "│        ┆            ┆ s]         ┆ f64        ┆ f64        ┆ f64        ┆ f64        ┆ f64       │\n",
       "╞════════╪════════════╪════════════╪════════════╪════════════╪════════════╪════════════╪═══════════╡\n",
       "│ INJ    ┆ 2025-01-01 ┆ 2025-01-01 ┆ null       ┆ 0.003577   ┆ null       ┆ null       ┆ null      │\n",
       "│        ┆            ┆ 00:00:05   ┆            ┆            ┆            ┆            ┆           │\n",
       "│ BTC    ┆ 2025-01-01 ┆ 2025-01-01 ┆ 0.000014   ┆ -0.001187  ┆ 0.00028    ┆ 0.001141   ┆ -0.001785 │\n",
       "│        ┆            ┆ 00:00:05   ┆            ┆            ┆            ┆            ┆           │\n",
       "│ SUI    ┆ 2025-01-01 ┆ 2025-01-01 ┆ null       ┆ 0.000802   ┆ -0.001325  ┆ null       ┆ null      │\n",
       "│        ┆            ┆ 00:00:05   ┆            ┆            ┆            ┆            ┆           │\n",
       "│ MANTA  ┆ 2025-01-01 ┆ 2025-01-01 ┆ null       ┆ null       ┆ -0.000011  ┆ null       ┆ null      │\n",
       "│        ┆            ┆ 00:00:05   ┆            ┆            ┆            ┆            ┆           │\n",
       "│ ETH    ┆ 2025-01-01 ┆ 2025-01-01 ┆ 0.001224   ┆ 0.000863   ┆ -0.000799  ┆ 0.001092   ┆ -0.001756 │\n",
       "│        ┆            ┆ 00:00:05   ┆            ┆            ┆            ┆            ┆           │\n",
       "│ …      ┆ …          ┆ …          ┆ …          ┆ …          ┆ …          ┆ …          ┆ …         │\n",
       "│ OM     ┆ 2025-01-01 ┆ 2025-01-02 ┆ -0.002452  ┆ null       ┆ null       ┆ -0.002209  ┆ null      │\n",
       "│        ┆            ┆ 00:00:00   ┆            ┆            ┆            ┆            ┆           │\n",
       "│ BNB    ┆ 2025-01-01 ┆ 2025-01-02 ┆ -0.00126   ┆ -0.00075   ┆ 0.000312   ┆ 0.000496   ┆ 0.000628  │\n",
       "│        ┆            ┆ 00:00:00   ┆            ┆            ┆            ┆            ┆           │\n",
       "│ XRP    ┆ 2025-01-01 ┆ 2025-01-02 ┆ 0.01787    ┆ 0.021373   ┆ 0.007401   ┆ 0.006486   ┆ -0.000901 │\n",
       "│        ┆            ┆ 00:00:00   ┆            ┆            ┆            ┆            ┆           │\n",
       "│ PENGU  ┆ 2025-01-01 ┆ 2025-01-02 ┆ 0.033905   ┆ 0.02755    ┆ -0.006377  ┆ -0.005107  ┆ -0.005468 │\n",
       "│        ┆            ┆ 00:00:00   ┆            ┆            ┆            ┆            ┆           │\n",
       "│ STX    ┆ 2025-01-01 ┆ 2025-01-02 ┆ null       ┆ null       ┆ -0.00279   ┆ -0.002171  ┆ -0.00279  │\n",
       "│        ┆            ┆ 00:00:00   ┆            ┆            ┆            ┆            ┆           │\n",
       "└────────┴────────────┴────────────┴────────────┴────────────┴────────────┴────────────┴───────────┘"
      ]
     },
     "execution_count": 9,
     "metadata": {},
     "output_type": "execute_result"
    }
   ],
   "source": [
    "mark_exprs = {\n",
    "    'now_to_p10m': (pl.col('time'), Timedelta(minutes=10)),\n",
    "    'p1m_to_p11m': (pl.col('time') + Timedelta(minutes=1), Timedelta(minutes=10)),\n",
    "    'm10m_to_now': (pl.col('time') - Timedelta(minutes=10), Timedelta(minutes=10)),\n",
    "    'm20m_to_now': (pl.col('time') - Timedelta(minutes=20), Timedelta(minutes=20)),\n",
    "    'm30m_to_now': (pl.col('time') - Timedelta(minutes=30), Timedelta(minutes=30)),\n",
    "}\n",
    "\n",
    "\n",
    "lf_with_multi_returns = returns_engine.query_batch(query_lf, mark_exprs, append_lag=False)\n",
    "lf_with_multi_returns.collect()"
   ]
  },
  {
   "cell_type": "markdown",
   "id": "ba183b75",
   "metadata": {},
   "source": [
    "# Metadata engine\n",
    "\n",
    "The metadata engine **consumes a gridded dataset** to support metadata queries. \n",
    "\n",
    "**Still experimental**: we only have one set of metadata for now. Only this particular `metadata_engine` can be instantiated"
   ]
  },
  {
   "cell_type": "code",
   "execution_count": 16,
   "id": "ba994635",
   "metadata": {},
   "outputs": [
    {
     "data": {
      "text/html": [
       "<div><style>\n",
       ".dataframe > thead > tr,\n",
       ".dataframe > tbody > tr {\n",
       "  text-align: right;\n",
       "  white-space: pre-wrap;\n",
       "}\n",
       "</style>\n",
       "<small>shape: (5, 3)</small><table border=\"1\" class=\"dataframe\"><thead><tr><th>symbol</th><th>date</th><th>time</th></tr><tr><td>enum</td><td>date</td><td>datetime[μs]</td></tr></thead><tbody><tr><td>&quot;INJ&quot;</td><td>2025-01-01</td><td>2025-01-01 00:00:05</td></tr><tr><td>&quot;BTC&quot;</td><td>2025-01-01</td><td>2025-01-01 00:00:05</td></tr><tr><td>&quot;SUI&quot;</td><td>2025-01-01</td><td>2025-01-01 00:00:05</td></tr><tr><td>&quot;MANTA&quot;</td><td>2025-01-01</td><td>2025-01-01 00:00:05</td></tr><tr><td>&quot;ETH&quot;</td><td>2025-01-01</td><td>2025-01-01 00:00:05</td></tr></tbody></table></div>"
      ],
      "text/plain": [
       "shape: (5, 3)\n",
       "┌────────┬────────────┬─────────────────────┐\n",
       "│ symbol ┆ date       ┆ time                │\n",
       "│ ---    ┆ ---        ┆ ---                 │\n",
       "│ enum   ┆ date       ┆ datetime[μs]        │\n",
       "╞════════╪════════════╪═════════════════════╡\n",
       "│ INJ    ┆ 2025-01-01 ┆ 2025-01-01 00:00:05 │\n",
       "│ BTC    ┆ 2025-01-01 ┆ 2025-01-01 00:00:05 │\n",
       "│ SUI    ┆ 2025-01-01 ┆ 2025-01-01 00:00:05 │\n",
       "│ MANTA  ┆ 2025-01-01 ┆ 2025-01-01 00:00:05 │\n",
       "│ ETH    ┆ 2025-01-01 ┆ 2025-01-01 00:00:05 │\n",
       "└────────┴────────────┴─────────────────────┘"
      ]
     },
     "metadata": {},
     "output_type": "display_data"
    }
   ],
   "source": [
    "from mnemosyne.engines import MetadataEngine\n",
    "\n",
    "grid_dataset = ms.binance.BinanceLastTradesGrid(\n",
    "        peg_symbol='USDT',\n",
    "        grid_interval=Timedelta(seconds=5),\n",
    "        dataset_type=ms.DatasetType.BinanceSpotTrades, \n",
    "    )\n",
    "\n",
    "metadata_engine = MetadataEngine(\n",
    "    path='/data/midas/mnemosyne/notebooks/workflows/dev/metadata', num_workers=1, \n",
    "    backend_dataset=grid_dataset, \n",
    ")\n",
    "\n",
    "query_lf = backend_grid_dataset[[Date(2025, 1, 1)]].select('symbol', 'date', 'time')\n",
    "display(query_lf.head().collect())"
   ]
  },
  {
   "cell_type": "code",
   "execution_count": 19,
   "id": "a40bbb0f",
   "metadata": {},
   "outputs": [
    {
     "name": "stderr",
     "output_type": "stream",
     "text": [
      "/tmp/ipykernel_1155899/453145406.py:5: UserWarning: Sortedness of columns cannot be checked when 'by' groups provided\n",
      "  ).collect()\n"
     ]
    },
    {
     "data": {
      "text/html": [
       "<div><style>\n",
       ".dataframe > thead > tr,\n",
       ".dataframe > tbody > tr {\n",
       "  text-align: right;\n",
       "  white-space: pre-wrap;\n",
       "}\n",
       "</style>\n",
       "<small>shape: (233_439, 23)</small><table border=\"1\" class=\"dataframe\"><thead><tr><th>symbol</th><th>date</th><th>time</th><th>date_right</th><th>last_event_time</th><th>liquidity_1d</th><th>sqrtliq_1d</th><th>excess_buy_ratio_1d</th><th>trade_count_1d</th><th>liquidity_7d</th><th>sqrtliq_7d</th><th>excess_buy_ratio_7d</th><th>trade_count_7d</th><th>daily_returns_drift_7d_lookback</th><th>daily_vol_7d_lookback</th><th>vol_ssize_7d_lookback</th><th>daily_returns_drift_30d_lookback</th><th>daily_vol_30d_lookback</th><th>vol_ssize_30d_lookback</th><th>liquidity_1d_q</th><th>liquidity_7d_q</th><th>daily_vol_7d_lookback_q</th><th>daily_vol_30d_lookback_q</th></tr><tr><td>enum</td><td>date</td><td>datetime[μs]</td><td>date</td><td>datetime[μs]</td><td>f64</td><td>f64</td><td>f64</td><td>u64</td><td>f64</td><td>f64</td><td>f64</td><td>u64</td><td>f64</td><td>f64</td><td>u64</td><td>f64</td><td>f64</td><td>u64</td><td>f64</td><td>f64</td><td>f64</td><td>f64</td></tr></thead><tbody><tr><td>&quot;1000CAT&quot;</td><td>2025-01-01</td><td>2025-01-01 00:05:50</td><td>2024-12-31</td><td>2024-12-31 23:59:40.185</td><td>1.5255e7</td><td>3905.82702</td><td>-0.060271</td><td>72104</td><td>9.6338e7</td><td>9815.206139</td><td>-0.023955</td><td>488894</td><td>-0.026503</td><td>0.063133</td><td>1008</td><td>-0.037767</td><td>0.099495</td><td>2104</td><td>0.777778</td><td>0.718346</td><td>0.77261</td><td>0.873385</td></tr><tr><td>&quot;1000CAT&quot;</td><td>2025-01-01</td><td>2025-01-01 00:09:30</td><td>2024-12-31</td><td>2024-12-31 23:59:40.185</td><td>1.5255e7</td><td>3905.82702</td><td>-0.060271</td><td>72104</td><td>9.6338e7</td><td>9815.206139</td><td>-0.023955</td><td>488894</td><td>-0.026503</td><td>0.063133</td><td>1008</td><td>-0.037767</td><td>0.099495</td><td>2104</td><td>0.777778</td><td>0.718346</td><td>0.77261</td><td>0.873385</td></tr><tr><td>&quot;1000CAT&quot;</td><td>2025-01-01</td><td>2025-01-01 00:11:30</td><td>2024-12-31</td><td>2024-12-31 23:59:40.185</td><td>1.5255e7</td><td>3905.82702</td><td>-0.060271</td><td>72104</td><td>9.6338e7</td><td>9815.206139</td><td>-0.023955</td><td>488894</td><td>-0.026503</td><td>0.063133</td><td>1008</td><td>-0.037767</td><td>0.099495</td><td>2104</td><td>0.777778</td><td>0.718346</td><td>0.77261</td><td>0.873385</td></tr><tr><td>&quot;1000CAT&quot;</td><td>2025-01-01</td><td>2025-01-01 00:12:35</td><td>2024-12-31</td><td>2024-12-31 23:59:40.185</td><td>1.5255e7</td><td>3905.82702</td><td>-0.060271</td><td>72104</td><td>9.6338e7</td><td>9815.206139</td><td>-0.023955</td><td>488894</td><td>-0.026503</td><td>0.063133</td><td>1008</td><td>-0.037767</td><td>0.099495</td><td>2104</td><td>0.777778</td><td>0.718346</td><td>0.77261</td><td>0.873385</td></tr><tr><td>&quot;1000CAT&quot;</td><td>2025-01-01</td><td>2025-01-01 00:13:50</td><td>2024-12-31</td><td>2024-12-31 23:59:40.185</td><td>1.5255e7</td><td>3905.82702</td><td>-0.060271</td><td>72104</td><td>9.6338e7</td><td>9815.206139</td><td>-0.023955</td><td>488894</td><td>-0.026503</td><td>0.063133</td><td>1008</td><td>-0.037767</td><td>0.099495</td><td>2104</td><td>0.777778</td><td>0.718346</td><td>0.77261</td><td>0.873385</td></tr><tr><td>&hellip;</td><td>&hellip;</td><td>&hellip;</td><td>&hellip;</td><td>&hellip;</td><td>&hellip;</td><td>&hellip;</td><td>&hellip;</td><td>&hellip;</td><td>&hellip;</td><td>&hellip;</td><td>&hellip;</td><td>&hellip;</td><td>&hellip;</td><td>&hellip;</td><td>&hellip;</td><td>&hellip;</td><td>&hellip;</td><td>&hellip;</td><td>&hellip;</td><td>&hellip;</td><td>&hellip;</td><td>&hellip;</td></tr><tr><td>&quot;ZRO&quot;</td><td>2025-01-01</td><td>2025-01-01 23:35:45</td><td>2025-01-01</td><td>2025-01-01 22:59:50.021522</td><td>6.8494e6</td><td>2617.133937</td><td>0.033897</td><td>43717</td><td>7.0170e7</td><td>8376.752704</td><td>-0.04779</td><td>461713</td><td>-0.006253</td><td>0.044372</td><td>1008</td><td>-0.008267</td><td>0.06806</td><td>4320</td><td>0.647668</td><td>0.670984</td><td>0.19171</td><td>0.217617</td></tr><tr><td>&quot;ZRO&quot;</td><td>2025-01-01</td><td>2025-01-01 23:42:00</td><td>2025-01-01</td><td>2025-01-01 22:59:50.021522</td><td>6.8494e6</td><td>2617.133937</td><td>0.033897</td><td>43717</td><td>7.0170e7</td><td>8376.752704</td><td>-0.04779</td><td>461713</td><td>-0.006253</td><td>0.044372</td><td>1008</td><td>-0.008267</td><td>0.06806</td><td>4320</td><td>0.647668</td><td>0.670984</td><td>0.19171</td><td>0.217617</td></tr><tr><td>&quot;ZRO&quot;</td><td>2025-01-01</td><td>2025-01-01 23:42:15</td><td>2025-01-01</td><td>2025-01-01 22:59:50.021522</td><td>6.8494e6</td><td>2617.133937</td><td>0.033897</td><td>43717</td><td>7.0170e7</td><td>8376.752704</td><td>-0.04779</td><td>461713</td><td>-0.006253</td><td>0.044372</td><td>1008</td><td>-0.008267</td><td>0.06806</td><td>4320</td><td>0.647668</td><td>0.670984</td><td>0.19171</td><td>0.217617</td></tr><tr><td>&quot;ZRO&quot;</td><td>2025-01-01</td><td>2025-01-01 23:44:20</td><td>2025-01-01</td><td>2025-01-01 22:59:50.021522</td><td>6.8494e6</td><td>2617.133937</td><td>0.033897</td><td>43717</td><td>7.0170e7</td><td>8376.752704</td><td>-0.04779</td><td>461713</td><td>-0.006253</td><td>0.044372</td><td>1008</td><td>-0.008267</td><td>0.06806</td><td>4320</td><td>0.647668</td><td>0.670984</td><td>0.19171</td><td>0.217617</td></tr><tr><td>&quot;ZRO&quot;</td><td>2025-01-01</td><td>2025-01-01 23:54:45</td><td>2025-01-01</td><td>2025-01-01 22:59:50.021522</td><td>6.8494e6</td><td>2617.133937</td><td>0.033897</td><td>43717</td><td>7.0170e7</td><td>8376.752704</td><td>-0.04779</td><td>461713</td><td>-0.006253</td><td>0.044372</td><td>1008</td><td>-0.008267</td><td>0.06806</td><td>4320</td><td>0.647668</td><td>0.670984</td><td>0.19171</td><td>0.217617</td></tr></tbody></table></div>"
      ],
      "text/plain": [
       "shape: (233_439, 23)\n",
       "┌─────────┬────────────┬───────────┬───────────┬───┬───────────┬───────────┬───────────┬───────────┐\n",
       "│ symbol  ┆ date       ┆ time      ┆ date_righ ┆ … ┆ liquidity ┆ liquidity ┆ daily_vol ┆ daily_vol │\n",
       "│ ---     ┆ ---        ┆ ---       ┆ t         ┆   ┆ _1d_q     ┆ _7d_q     ┆ _7d_lookb ┆ _30d_look │\n",
       "│ enum    ┆ date       ┆ datetime[ ┆ ---       ┆   ┆ ---       ┆ ---       ┆ ack_q     ┆ back_q    │\n",
       "│         ┆            ┆ μs]       ┆ date      ┆   ┆ f64       ┆ f64       ┆ ---       ┆ ---       │\n",
       "│         ┆            ┆           ┆           ┆   ┆           ┆           ┆ f64       ┆ f64       │\n",
       "╞═════════╪════════════╪═══════════╪═══════════╪═══╪═══════════╪═══════════╪═══════════╪═══════════╡\n",
       "│ 1000CAT ┆ 2025-01-01 ┆ 2025-01-0 ┆ 2024-12-3 ┆ … ┆ 0.777778  ┆ 0.718346  ┆ 0.77261   ┆ 0.873385  │\n",
       "│         ┆            ┆ 1         ┆ 1         ┆   ┆           ┆           ┆           ┆           │\n",
       "│         ┆            ┆ 00:05:50  ┆           ┆   ┆           ┆           ┆           ┆           │\n",
       "│ 1000CAT ┆ 2025-01-01 ┆ 2025-01-0 ┆ 2024-12-3 ┆ … ┆ 0.777778  ┆ 0.718346  ┆ 0.77261   ┆ 0.873385  │\n",
       "│         ┆            ┆ 1         ┆ 1         ┆   ┆           ┆           ┆           ┆           │\n",
       "│         ┆            ┆ 00:09:30  ┆           ┆   ┆           ┆           ┆           ┆           │\n",
       "│ 1000CAT ┆ 2025-01-01 ┆ 2025-01-0 ┆ 2024-12-3 ┆ … ┆ 0.777778  ┆ 0.718346  ┆ 0.77261   ┆ 0.873385  │\n",
       "│         ┆            ┆ 1         ┆ 1         ┆   ┆           ┆           ┆           ┆           │\n",
       "│         ┆            ┆ 00:11:30  ┆           ┆   ┆           ┆           ┆           ┆           │\n",
       "│ 1000CAT ┆ 2025-01-01 ┆ 2025-01-0 ┆ 2024-12-3 ┆ … ┆ 0.777778  ┆ 0.718346  ┆ 0.77261   ┆ 0.873385  │\n",
       "│         ┆            ┆ 1         ┆ 1         ┆   ┆           ┆           ┆           ┆           │\n",
       "│         ┆            ┆ 00:12:35  ┆           ┆   ┆           ┆           ┆           ┆           │\n",
       "│ 1000CAT ┆ 2025-01-01 ┆ 2025-01-0 ┆ 2024-12-3 ┆ … ┆ 0.777778  ┆ 0.718346  ┆ 0.77261   ┆ 0.873385  │\n",
       "│         ┆            ┆ 1         ┆ 1         ┆   ┆           ┆           ┆           ┆           │\n",
       "│         ┆            ┆ 00:13:50  ┆           ┆   ┆           ┆           ┆           ┆           │\n",
       "│ …       ┆ …          ┆ …         ┆ …         ┆ … ┆ …         ┆ …         ┆ …         ┆ …         │\n",
       "│ ZRO     ┆ 2025-01-01 ┆ 2025-01-0 ┆ 2025-01-0 ┆ … ┆ 0.647668  ┆ 0.670984  ┆ 0.19171   ┆ 0.217617  │\n",
       "│         ┆            ┆ 1         ┆ 1         ┆   ┆           ┆           ┆           ┆           │\n",
       "│         ┆            ┆ 23:35:45  ┆           ┆   ┆           ┆           ┆           ┆           │\n",
       "│ ZRO     ┆ 2025-01-01 ┆ 2025-01-0 ┆ 2025-01-0 ┆ … ┆ 0.647668  ┆ 0.670984  ┆ 0.19171   ┆ 0.217617  │\n",
       "│         ┆            ┆ 1         ┆ 1         ┆   ┆           ┆           ┆           ┆           │\n",
       "│         ┆            ┆ 23:42:00  ┆           ┆   ┆           ┆           ┆           ┆           │\n",
       "│ ZRO     ┆ 2025-01-01 ┆ 2025-01-0 ┆ 2025-01-0 ┆ … ┆ 0.647668  ┆ 0.670984  ┆ 0.19171   ┆ 0.217617  │\n",
       "│         ┆            ┆ 1         ┆ 1         ┆   ┆           ┆           ┆           ┆           │\n",
       "│         ┆            ┆ 23:42:15  ┆           ┆   ┆           ┆           ┆           ┆           │\n",
       "│ ZRO     ┆ 2025-01-01 ┆ 2025-01-0 ┆ 2025-01-0 ┆ … ┆ 0.647668  ┆ 0.670984  ┆ 0.19171   ┆ 0.217617  │\n",
       "│         ┆            ┆ 1         ┆ 1         ┆   ┆           ┆           ┆           ┆           │\n",
       "│         ┆            ┆ 23:44:20  ┆           ┆   ┆           ┆           ┆           ┆           │\n",
       "│ ZRO     ┆ 2025-01-01 ┆ 2025-01-0 ┆ 2025-01-0 ┆ … ┆ 0.647668  ┆ 0.670984  ┆ 0.19171   ┆ 0.217617  │\n",
       "│         ┆            ┆ 1         ┆ 1         ┆   ┆           ┆           ┆           ┆           │\n",
       "│         ┆            ┆ 23:54:45  ┆           ┆   ┆           ┆           ┆           ┆           │\n",
       "└─────────┴────────────┴───────────┴───────────┴───┴───────────┴───────────┴───────────┴───────────┘"
      ]
     },
     "execution_count": 19,
     "metadata": {},
     "output_type": "execute_result"
    }
   ],
   "source": [
    "metadata_engine.append_metadata(\n",
    "    query_lf,\n",
    "    time_expr=pl.col('time'), \n",
    "    symbol_expr=pl.col('symbol')\n",
    ").collect()"
   ]
  },
  {
   "cell_type": "markdown",
   "id": "5b728d9d",
   "metadata": {},
   "source": [
    "## Lossless raw dataset\n",
    "\n",
    "Tick-level dataset directly parsed from Binance. We only have parquet-level access. \n",
    "One single date has `~100M` rows"
   ]
  },
  {
   "cell_type": "code",
   "execution_count": 26,
   "id": "12c61fda",
   "metadata": {},
   "outputs": [
    {
     "data": {
      "text/html": [
       "<div><style>\n",
       ".dataframe > thead > tr,\n",
       ".dataframe > tbody > tr {\n",
       "  text-align: right;\n",
       "  white-space: pre-wrap;\n",
       "}\n",
       "</style>\n",
       "<small>shape: (94_715_108, 9)</small><table border=\"1\" class=\"dataframe\"><thead><tr><th>id</th><th>price</th><th>qty</th><th>quote_qty</th><th>time</th><th>is_buyer_maker</th><th>peg_symbol</th><th>date</th><th>symbol</th></tr><tr><td>i64</td><td>f64</td><td>f64</td><td>f64</td><td>datetime[μs]</td><td>bool</td><td>str</td><td>date</td><td>str</td></tr></thead><tbody><tr><td>107529795</td><td>0.013342</td><td>394.0</td><td>5.256748</td><td>2024-01-01 00:00:03.257</td><td>false</td><td>&quot;USDT&quot;</td><td>2024-01-01</td><td>&quot;1000BONK&quot;</td></tr><tr><td>107529796</td><td>0.013342</td><td>1138.0</td><td>15.183196</td><td>2024-01-01 00:00:03.257</td><td>false</td><td>&quot;USDT&quot;</td><td>2024-01-01</td><td>&quot;1000BONK&quot;</td></tr><tr><td>107529797</td><td>0.013342</td><td>1018.0</td><td>13.582156</td><td>2024-01-01 00:00:03.257</td><td>false</td><td>&quot;USDT&quot;</td><td>2024-01-01</td><td>&quot;1000BONK&quot;</td></tr><tr><td>107529798</td><td>0.013342</td><td>1450.0</td><td>19.3459</td><td>2024-01-01 00:00:03.257</td><td>false</td><td>&quot;USDT&quot;</td><td>2024-01-01</td><td>&quot;1000BONK&quot;</td></tr><tr><td>107529799</td><td>0.013341</td><td>1533.0</td><td>20.451753</td><td>2024-01-01 00:00:03.293</td><td>true</td><td>&quot;USDT&quot;</td><td>2024-01-01</td><td>&quot;1000BONK&quot;</td></tr><tr><td>&hellip;</td><td>&hellip;</td><td>&hellip;</td><td>&hellip;</td><td>&hellip;</td><td>&hellip;</td><td>&hellip;</td><td>&hellip;</td><td>&hellip;</td></tr><tr><td>197509429</td><td>0.3743</td><td>613.9</td><td>229.78277</td><td>2024-01-01 23:59:56.932</td><td>false</td><td>&quot;USDT&quot;</td><td>2024-01-01</td><td>&quot;ZRX&quot;</td></tr><tr><td>197509430</td><td>0.3743</td><td>613.9</td><td>229.78277</td><td>2024-01-01 23:59:56.932</td><td>false</td><td>&quot;USDT&quot;</td><td>2024-01-01</td><td>&quot;ZRX&quot;</td></tr><tr><td>197509431</td><td>0.3743</td><td>86.1</td><td>32.22723</td><td>2024-01-01 23:59:56.932</td><td>false</td><td>&quot;USDT&quot;</td><td>2024-01-01</td><td>&quot;ZRX&quot;</td></tr><tr><td>197509432</td><td>0.3744</td><td>1162.8</td><td>435.35232</td><td>2024-01-01 23:59:56.932</td><td>false</td><td>&quot;USDT&quot;</td><td>2024-01-01</td><td>&quot;ZRX&quot;</td></tr><tr><td>197509433</td><td>0.3744</td><td>513.6</td><td>192.29184</td><td>2024-01-01 23:59:56.932</td><td>false</td><td>&quot;USDT&quot;</td><td>2024-01-01</td><td>&quot;ZRX&quot;</td></tr></tbody></table></div>"
      ],
      "text/plain": [
       "shape: (94_715_108, 9)\n",
       "┌───────────┬──────────┬────────┬───────────┬───┬─────────────┬────────────┬────────────┬──────────┐\n",
       "│ id        ┆ price    ┆ qty    ┆ quote_qty ┆ … ┆ is_buyer_ma ┆ peg_symbol ┆ date       ┆ symbol   │\n",
       "│ ---       ┆ ---      ┆ ---    ┆ ---       ┆   ┆ ker         ┆ ---        ┆ ---        ┆ ---      │\n",
       "│ i64       ┆ f64      ┆ f64    ┆ f64       ┆   ┆ ---         ┆ str        ┆ date       ┆ str      │\n",
       "│           ┆          ┆        ┆           ┆   ┆ bool        ┆            ┆            ┆          │\n",
       "╞═══════════╪══════════╪════════╪═══════════╪═══╪═════════════╪════════════╪════════════╪══════════╡\n",
       "│ 107529795 ┆ 0.013342 ┆ 394.0  ┆ 5.256748  ┆ … ┆ false       ┆ USDT       ┆ 2024-01-01 ┆ 1000BONK │\n",
       "│ 107529796 ┆ 0.013342 ┆ 1138.0 ┆ 15.183196 ┆ … ┆ false       ┆ USDT       ┆ 2024-01-01 ┆ 1000BONK │\n",
       "│ 107529797 ┆ 0.013342 ┆ 1018.0 ┆ 13.582156 ┆ … ┆ false       ┆ USDT       ┆ 2024-01-01 ┆ 1000BONK │\n",
       "│ 107529798 ┆ 0.013342 ┆ 1450.0 ┆ 19.3459   ┆ … ┆ false       ┆ USDT       ┆ 2024-01-01 ┆ 1000BONK │\n",
       "│ 107529799 ┆ 0.013341 ┆ 1533.0 ┆ 20.451753 ┆ … ┆ true        ┆ USDT       ┆ 2024-01-01 ┆ 1000BONK │\n",
       "│ …         ┆ …        ┆ …      ┆ …         ┆ … ┆ …           ┆ …          ┆ …          ┆ …        │\n",
       "│ 197509429 ┆ 0.3743   ┆ 613.9  ┆ 229.78277 ┆ … ┆ false       ┆ USDT       ┆ 2024-01-01 ┆ ZRX      │\n",
       "│ 197509430 ┆ 0.3743   ┆ 613.9  ┆ 229.78277 ┆ … ┆ false       ┆ USDT       ┆ 2024-01-01 ┆ ZRX      │\n",
       "│ 197509431 ┆ 0.3743   ┆ 86.1   ┆ 32.22723  ┆ … ┆ false       ┆ USDT       ┆ 2024-01-01 ┆ ZRX      │\n",
       "│ 197509432 ┆ 0.3744   ┆ 1162.8 ┆ 435.35232 ┆ … ┆ false       ┆ USDT       ┆ 2024-01-01 ┆ ZRX      │\n",
       "│ 197509433 ┆ 0.3744   ┆ 513.6  ┆ 192.29184 ┆ … ┆ false       ┆ USDT       ┆ 2024-01-01 ┆ ZRX      │\n",
       "└───────────┴──────────┴────────┴───────────┴───┴─────────────┴────────────┴────────────┴──────────┘"
      ]
     },
     "execution_count": 26,
     "metadata": {},
     "output_type": "execute_result"
    }
   ],
   "source": [
    "pl.read_parquet(grid_dataset.src_path / f'date={sample_dates[0].strftime(\"%Y-%m-%d\")}/**/data.parquet', hive_partitioning=True)"
   ]
  },
  {
   "cell_type": "code",
   "execution_count": null,
   "id": "cc276167",
   "metadata": {},
   "outputs": [],
   "source": []
  }
 ],
 "metadata": {
  "kernelspec": {
   "display_name": ".venv",
   "language": "python",
   "name": "python3"
  },
  "language_info": {
   "codemirror_mode": {
    "name": "ipython",
    "version": 3
   },
   "file_extension": ".py",
   "mimetype": "text/x-python",
   "name": "python",
   "nbconvert_exporter": "python",
   "pygments_lexer": "ipython3",
   "version": "3.12.3"
  }
 },
 "nbformat": 4,
 "nbformat_minor": 5
}
